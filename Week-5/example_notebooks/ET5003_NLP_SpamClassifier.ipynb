{
  "nbformat": 4,
  "nbformat_minor": 2,
  "metadata": {
    "kernelspec": {
      "name": "python3",
      "display_name": "Python 3.7.11 64-bit ('et5003': conda)"
    },
    "language_info": {
      "codemirror_mode": {
        "name": "ipython",
        "version": 3
      },
      "file_extension": ".py",
      "mimetype": "text/x-python",
      "name": "python",
      "nbconvert_exporter": "python",
      "pygments_lexer": "ipython3",
      "version": "3.7.11"
    },
    "toc": {
      "base_numbering": 1,
      "nav_menu": {},
      "number_sections": true,
      "sideBar": true,
      "skip_h1_title": false,
      "title_cell": "Table of Contents",
      "title_sidebar": "Contents",
      "toc_cell": false,
      "toc_position": {},
      "toc_section_display": true,
      "toc_window_display": false
    },
    "colab": {
      "name": "ET5003_NLP_SpamClassifier.ipynb",
      "provenance": []
    },
    "interpreter": {
      "hash": "597b03594f35869c58876e9008f9a586d3b25b5bdb518ec8cfdc4f97486ff2d0"
    }
  },
  "cells": [
    {
      "cell_type": "markdown",
      "source": [
        "<div>\r\n",
        "<img src=\"https://drive.google.com/uc?export=view&id=1vK33e_EqaHgBHcbRV_m38hx6IkG0blK_\" width=\"350\"/>\r\n",
        "</div> \r\n",
        "\r\n",
        "# **Artificial Intelligence - MSc**\r\n",
        "## ET5003 - MACHINE LEARNING APPLICATIONS \r\n",
        "\r\n",
        "### Instructor: Enrique Naredo\r\n",
        "### ET5003_NLP_SpamClasiffier"
      ],
      "metadata": {
        "id": "930vlW5BrOtq"
      }
    },
    {
      "cell_type": "markdown",
      "source": [
        "\n",
        "### Spam Classification"
      ],
      "metadata": {
        "id": "rQyc5Xgdj7W9"
      }
    },
    {
      "cell_type": "markdown",
      "source": [
        "[Spamming](https://en.wikipedia.org/wiki/Spamming) is the use of messaging systems to send multiple unsolicited messages (spam) to large numbers of recipients for the purpose of commercial advertising, for the purpose of non-commercial proselytizing, for any prohibited purpose (especially the fraudulent purpose of phishing), or simply sending the same message over and over to the same user. "
      ],
      "metadata": {
        "id": "1z8j0PtO77Xs"
      }
    },
    {
      "cell_type": "markdown",
      "source": [
        "Spam Classification: Deciding whether an email is spam or not.\n",
        "\n"
      ],
      "metadata": {
        "id": "b_fap_t2DrME"
      }
    },
    {
      "cell_type": "markdown",
      "source": [
        "## Imports"
      ],
      "metadata": {
        "id": "Wg7VCbX77eAA"
      }
    },
    {
      "cell_type": "code",
      "execution_count": 2,
      "source": [
        "# standard libraries\r\n",
        "import os\r\n",
        "import pandas as pd\r\n",
        "import numpy as np\r\n",
        "\r\n",
        "from sklearn.model_selection import train_test_split\r\n",
        "from sklearn.feature_extraction.text import CountVectorizer\r\n",
        "from sklearn.naive_bayes import MultinomialNB\r\n",
        "from sklearn.metrics import accuracy_score, confusion_matrix\r\n",
        "\r\n",
        "import re\r\n",
        "import nltk\r\n",
        "from nltk.stem import SnowballStemmer\r\n",
        "from nltk.corpus import stopwords\r\n",
        "\r\n",
        "import matplotlib.pyplot as plt\r\n",
        "from matplotlib.cm import get_cmap\r\n",
        "from jupyterthemes import jtplot as jt\r\n",
        "\r\n",
        "jt.style()\r\n",
        "\r\n",
        "%matplotlib inline\r\n",
        "%load_ext lab_black"
      ],
      "outputs": [],
      "metadata": {
        "id": "k96-GLUGE2ux"
      }
    },
    {
      "cell_type": "markdown",
      "source": [
        "## Step 1: Load dataset"
      ],
      "metadata": {
        "id": "-4iXKNAGj7W_"
      }
    },
    {
      "cell_type": "code",
      "execution_count": 3,
      "source": [
        "# path to your (local/cloud) drive\r\n",
        "path = os.path.join(os.getcwd(), \"spam.csv\")\r\n",
        "\r\n",
        "# load dataset\r\n",
        "df = pd.read_csv(path, encoding=\"latin-1\")\r\n",
        "df.head()"
      ],
      "outputs": [
        {
          "output_type": "execute_result",
          "data": {
            "text/html": [
              "<div>\n",
              "<style scoped>\n",
              "    .dataframe tbody tr th:only-of-type {\n",
              "        vertical-align: middle;\n",
              "    }\n",
              "\n",
              "    .dataframe tbody tr th {\n",
              "        vertical-align: top;\n",
              "    }\n",
              "\n",
              "    .dataframe thead th {\n",
              "        text-align: right;\n",
              "    }\n",
              "</style>\n",
              "<table border=\"1\" class=\"dataframe\">\n",
              "  <thead>\n",
              "    <tr style=\"text-align: right;\">\n",
              "      <th></th>\n",
              "      <th>v1</th>\n",
              "      <th>v2</th>\n",
              "    </tr>\n",
              "  </thead>\n",
              "  <tbody>\n",
              "    <tr>\n",
              "      <th>0</th>\n",
              "      <td>ham</td>\n",
              "      <td>Go until jurong point, crazy.. Available only ...</td>\n",
              "    </tr>\n",
              "    <tr>\n",
              "      <th>1</th>\n",
              "      <td>ham</td>\n",
              "      <td>Ok lar... Joking wif u oni...</td>\n",
              "    </tr>\n",
              "    <tr>\n",
              "      <th>2</th>\n",
              "      <td>spam</td>\n",
              "      <td>Free entry in 2 a wkly comp to win FA Cup fina...</td>\n",
              "    </tr>\n",
              "    <tr>\n",
              "      <th>3</th>\n",
              "      <td>ham</td>\n",
              "      <td>U dun say so early hor... U c already then say...</td>\n",
              "    </tr>\n",
              "    <tr>\n",
              "      <th>4</th>\n",
              "      <td>ham</td>\n",
              "      <td>Nah I don't think he goes to usf, he lives aro...</td>\n",
              "    </tr>\n",
              "  </tbody>\n",
              "</table>\n",
              "</div>"
            ],
            "text/plain": [
              "     v1                                                 v2\n",
              "0   ham  Go until jurong point, crazy.. Available only ...\n",
              "1   ham                      Ok lar... Joking wif u oni...\n",
              "2  spam  Free entry in 2 a wkly comp to win FA Cup fina...\n",
              "3   ham  U dun say so early hor... U c already then say...\n",
              "4   ham  Nah I don't think he goes to usf, he lives aro..."
            ]
          },
          "metadata": {},
          "execution_count": 3
        }
      ],
      "metadata": {
        "id": "5akGy2kSj7W_"
      }
    },
    {
      "cell_type": "code",
      "execution_count": 4,
      "source": [
        "# remove useless features\r\n",
        "df = df.drop(\r\n",
        "    [\"Unnamed: 2\", \"Unnamed: 3\", \"Unnamed: 4\"], axis=\"columns\", errors=\"ignore\"\r\n",
        ")"
      ],
      "outputs": [],
      "metadata": {
        "id": "MODwpwEkJGky"
      }
    },
    {
      "cell_type": "code",
      "execution_count": 5,
      "source": [
        "# v1 -> is the class label: ham, spam\r\n",
        "# ham -> https://en.wiktionary.org/wiki/ham_e-mail\r\n",
        "# spam -> https://en.wiktionary.org/wiki/spam#English\r\n",
        "# v2 -> is the  email\r\n",
        "df.head()"
      ],
      "outputs": [
        {
          "output_type": "execute_result",
          "data": {
            "text/html": [
              "<div>\n",
              "<style scoped>\n",
              "    .dataframe tbody tr th:only-of-type {\n",
              "        vertical-align: middle;\n",
              "    }\n",
              "\n",
              "    .dataframe tbody tr th {\n",
              "        vertical-align: top;\n",
              "    }\n",
              "\n",
              "    .dataframe thead th {\n",
              "        text-align: right;\n",
              "    }\n",
              "</style>\n",
              "<table border=\"1\" class=\"dataframe\">\n",
              "  <thead>\n",
              "    <tr style=\"text-align: right;\">\n",
              "      <th></th>\n",
              "      <th>v1</th>\n",
              "      <th>v2</th>\n",
              "    </tr>\n",
              "  </thead>\n",
              "  <tbody>\n",
              "    <tr>\n",
              "      <th>0</th>\n",
              "      <td>ham</td>\n",
              "      <td>Go until jurong point, crazy.. Available only ...</td>\n",
              "    </tr>\n",
              "    <tr>\n",
              "      <th>1</th>\n",
              "      <td>ham</td>\n",
              "      <td>Ok lar... Joking wif u oni...</td>\n",
              "    </tr>\n",
              "    <tr>\n",
              "      <th>2</th>\n",
              "      <td>spam</td>\n",
              "      <td>Free entry in 2 a wkly comp to win FA Cup fina...</td>\n",
              "    </tr>\n",
              "    <tr>\n",
              "      <th>3</th>\n",
              "      <td>ham</td>\n",
              "      <td>U dun say so early hor... U c already then say...</td>\n",
              "    </tr>\n",
              "    <tr>\n",
              "      <th>4</th>\n",
              "      <td>ham</td>\n",
              "      <td>Nah I don't think he goes to usf, he lives aro...</td>\n",
              "    </tr>\n",
              "  </tbody>\n",
              "</table>\n",
              "</div>"
            ],
            "text/plain": [
              "     v1                                                 v2\n",
              "0   ham  Go until jurong point, crazy.. Available only ...\n",
              "1   ham                      Ok lar... Joking wif u oni...\n",
              "2  spam  Free entry in 2 a wkly comp to win FA Cup fina...\n",
              "3   ham  U dun say so early hor... U c already then say...\n",
              "4   ham  Nah I don't think he goes to usf, he lives aro..."
            ]
          },
          "metadata": {},
          "execution_count": 5
        }
      ],
      "metadata": {
        "id": "oDvr4HpKGZlN"
      }
    },
    {
      "cell_type": "markdown",
      "source": [
        "## Step 2: Pre-processing"
      ],
      "metadata": {
        "id": "wMyuPYcuj7XB"
      }
    },
    {
      "cell_type": "code",
      "execution_count": 6,
      "source": [
        "# Removing stopwords and stemming\r\n",
        "# a stem must be a word\r\n",
        "# Example:  fishing, fished, and fisher: stem -> fish\r\n",
        "# choose English as the target language\r\n",
        "stemmer = SnowballStemmer(\"english\", ignore_stopwords=False)"
      ],
      "outputs": [],
      "metadata": {
        "id": "gmTe13CNKS_s"
      }
    },
    {
      "cell_type": "code",
      "execution_count": 7,
      "source": [
        "# Stop words are basically a set of commonly used words in any language\r\n",
        "# https://en.wikipedia.org/wiki/Stop_word\r\n",
        "# and are filtered out before processing of natural language data\r\n",
        "# Example list: https://github.com/igorbrigadir/stopwords/blob/master/en/terrier.txt\r\n",
        "nltk.download(\"stopwords\")\r\n",
        "stop = set(stopwords.words(\"english\"))"
      ],
      "outputs": [
        {
          "output_type": "stream",
          "name": "stderr",
          "text": [
            "[nltk_data] Downloading package stopwords to\n",
            "[nltk_data]     C:\\Users\\gamin\\AppData\\Roaming\\nltk_data...\n",
            "[nltk_data]   Package stopwords is already up-to-date!\n"
          ]
        }
      ],
      "metadata": {
        "id": "qNG-xh8wMOTi"
      }
    },
    {
      "cell_type": "code",
      "execution_count": 8,
      "source": [
        "# example: remove anything that is not a letter\r\n",
        "string_sample = \"123This @45is 890-130 an_example !!\"\r\n",
        "new_string = re.sub(\"[^a-zA-Z]\", \" \", string_sample)\r\n",
        "print(new_string)"
      ],
      "outputs": [
        {
          "output_type": "stream",
          "name": "stdout",
          "text": [
            "   This    is         an example   \n"
          ]
        }
      ],
      "metadata": {
        "id": "Q3mbvmBFO310"
      }
    },
    {
      "cell_type": "code",
      "execution_count": 9,
      "source": [
        "# removing duplicated spaces\r\n",
        "\" \".join(new_string.split())"
      ],
      "outputs": [
        {
          "output_type": "execute_result",
          "data": {
            "text/plain": [
              "'This is an example'"
            ]
          },
          "metadata": {},
          "execution_count": 9
        }
      ],
      "metadata": {
        "id": "riD32a4VSQPb"
      }
    },
    {
      "cell_type": "code",
      "execution_count": 10,
      "source": [
        "# remove anything that is not a letter in the emails\r\n",
        "df[\"v2_clean\"] = [re.sub(\"[^a-zA-Z]\", \" \", sms) for sms in df[\"v2\"]]\r\n",
        "df.sample(5)"
      ],
      "outputs": [
        {
          "output_type": "execute_result",
          "data": {
            "text/html": [
              "<div>\n",
              "<style scoped>\n",
              "    .dataframe tbody tr th:only-of-type {\n",
              "        vertical-align: middle;\n",
              "    }\n",
              "\n",
              "    .dataframe tbody tr th {\n",
              "        vertical-align: top;\n",
              "    }\n",
              "\n",
              "    .dataframe thead th {\n",
              "        text-align: right;\n",
              "    }\n",
              "</style>\n",
              "<table border=\"1\" class=\"dataframe\">\n",
              "  <thead>\n",
              "    <tr style=\"text-align: right;\">\n",
              "      <th></th>\n",
              "      <th>v1</th>\n",
              "      <th>v2</th>\n",
              "      <th>v2_clean</th>\n",
              "    </tr>\n",
              "  </thead>\n",
              "  <tbody>\n",
              "    <tr>\n",
              "      <th>1488</th>\n",
              "      <td>ham</td>\n",
              "      <td>Tell them no need to investigate about me anyw...</td>\n",
              "      <td>Tell them no need to investigate about me anyw...</td>\n",
              "    </tr>\n",
              "    <tr>\n",
              "      <th>4694</th>\n",
              "      <td>spam</td>\n",
              "      <td>URGENT! Your Mobile No 07808726822 was awarded...</td>\n",
              "      <td>URGENT  Your Mobile No             was awarded...</td>\n",
              "    </tr>\n",
              "    <tr>\n",
              "      <th>3265</th>\n",
              "      <td>ham</td>\n",
              "      <td>tap &amp; spile at seven. * Is that pub on gas st ...</td>\n",
              "      <td>tap   spile at seven    Is that pub on gas st ...</td>\n",
              "    </tr>\n",
              "    <tr>\n",
              "      <th>3913</th>\n",
              "      <td>ham</td>\n",
              "      <td>Today is ACCEPT DAY..U Accept me as? Brother S...</td>\n",
              "      <td>Today is ACCEPT DAY  U Accept me as  Brother S...</td>\n",
              "    </tr>\n",
              "    <tr>\n",
              "      <th>1456</th>\n",
              "      <td>ham</td>\n",
              "      <td>U sleeping now.. Or you going to take? Haha.. ...</td>\n",
              "      <td>U sleeping now   Or you going to take  Haha   ...</td>\n",
              "    </tr>\n",
              "  </tbody>\n",
              "</table>\n",
              "</div>"
            ],
            "text/plain": [
              "        v1                                                 v2  \\\n",
              "1488   ham  Tell them no need to investigate about me anyw...   \n",
              "4694  spam  URGENT! Your Mobile No 07808726822 was awarded...   \n",
              "3265   ham  tap & spile at seven. * Is that pub on gas st ...   \n",
              "3913   ham  Today is ACCEPT DAY..U Accept me as? Brother S...   \n",
              "1456   ham  U sleeping now.. Or you going to take? Haha.. ...   \n",
              "\n",
              "                                               v2_clean  \n",
              "1488  Tell them no need to investigate about me anyw...  \n",
              "4694  URGENT  Your Mobile No             was awarded...  \n",
              "3265  tap   spile at seven    Is that pub on gas st ...  \n",
              "3913  Today is ACCEPT DAY  U Accept me as  Brother S...  \n",
              "1456  U sleeping now   Or you going to take  Haha   ...  "
            ]
          },
          "metadata": {},
          "execution_count": 10
        }
      ],
      "metadata": {
        "id": "sF15oylkN_UD"
      }
    },
    {
      "cell_type": "code",
      "execution_count": 11,
      "source": [
        "# list of words in the emails\r\n",
        "email_words = [sms.split() for sms in df[\"v2_clean\"]]\r\n",
        "print(email_words[:5])"
      ],
      "outputs": [
        {
          "output_type": "stream",
          "name": "stdout",
          "text": [
            "[['Go', 'until', 'jurong', 'point', 'crazy', 'Available', 'only', 'in', 'bugis', 'n', 'great', 'world', 'la', 'e', 'buffet', 'Cine', 'there', 'got', 'amore', 'wat'], ['Ok', 'lar', 'Joking', 'wif', 'u', 'oni'], ['Free', 'entry', 'in', 'a', 'wkly', 'comp', 'to', 'win', 'FA', 'Cup', 'final', 'tkts', 'st', 'May', 'Text', 'FA', 'to', 'to', 'receive', 'entry', 'question', 'std', 'txt', 'rate', 'T', 'C', 's', 'apply', 'over', 's'], ['U', 'dun', 'say', 'so', 'early', 'hor', 'U', 'c', 'already', 'then', 'say'], ['Nah', 'I', 'don', 't', 'think', 'he', 'goes', 'to', 'usf', 'he', 'lives', 'around', 'here', 'though']]\n"
          ]
        }
      ],
      "metadata": {
        "id": "Ujye-Z_GNcKm"
      }
    },
    {
      "cell_type": "code",
      "execution_count": 12,
      "source": [
        "# function to normalize words\r\n",
        "def normalize(words):\r\n",
        "    normalized_words = list()\r\n",
        "    for word in words:\r\n",
        "        # remove  the most common words\r\n",
        "        if word.lower() not in stop:\r\n",
        "            # stemming\r\n",
        "            new_word = stemmer.stem(word)\r\n",
        "            # lower case\r\n",
        "            normalized_words.append(new_word.lower())\r\n",
        "    return normalized_words"
      ],
      "outputs": [],
      "metadata": {
        "id": "bCzsxUkXj7XB"
      }
    },
    {
      "cell_type": "code",
      "execution_count": 13,
      "source": [
        "# normalize words in emails\r\n",
        "email_words_norm = [normalize(word) for word in email_words]\r\n",
        "print(email_words_norm[:3])"
      ],
      "outputs": [
        {
          "output_type": "stream",
          "name": "stdout",
          "text": [
            "[['go', 'jurong', 'point', 'crazi', 'avail', 'bugi', 'n', 'great', 'world', 'la', 'e', 'buffet', 'cine', 'got', 'amor', 'wat'], ['ok', 'lar', 'joke', 'wif', 'u', 'oni'], ['free', 'entri', 'wkli', 'comp', 'win', 'fa', 'cup', 'final', 'tkts', 'st', 'may', 'text', 'fa', 'receiv', 'entri', 'question', 'std', 'txt', 'rate', 'c', 'appli']]\n"
          ]
        }
      ],
      "metadata": {
        "id": "ACEku-N6Tag9"
      }
    },
    {
      "cell_type": "code",
      "execution_count": 14,
      "source": [
        "# update dataframe\r\n",
        "df[\"v2_normalized\"] = [\" \".join(word) for word in email_words_norm]\r\n",
        "df.head()"
      ],
      "outputs": [
        {
          "output_type": "execute_result",
          "data": {
            "text/html": [
              "<div>\n",
              "<style scoped>\n",
              "    .dataframe tbody tr th:only-of-type {\n",
              "        vertical-align: middle;\n",
              "    }\n",
              "\n",
              "    .dataframe tbody tr th {\n",
              "        vertical-align: top;\n",
              "    }\n",
              "\n",
              "    .dataframe thead th {\n",
              "        text-align: right;\n",
              "    }\n",
              "</style>\n",
              "<table border=\"1\" class=\"dataframe\">\n",
              "  <thead>\n",
              "    <tr style=\"text-align: right;\">\n",
              "      <th></th>\n",
              "      <th>v1</th>\n",
              "      <th>v2</th>\n",
              "      <th>v2_clean</th>\n",
              "      <th>v2_normalized</th>\n",
              "    </tr>\n",
              "  </thead>\n",
              "  <tbody>\n",
              "    <tr>\n",
              "      <th>0</th>\n",
              "      <td>ham</td>\n",
              "      <td>Go until jurong point, crazy.. Available only ...</td>\n",
              "      <td>Go until jurong point  crazy   Available only ...</td>\n",
              "      <td>go jurong point crazi avail bugi n great world...</td>\n",
              "    </tr>\n",
              "    <tr>\n",
              "      <th>1</th>\n",
              "      <td>ham</td>\n",
              "      <td>Ok lar... Joking wif u oni...</td>\n",
              "      <td>Ok lar    Joking wif u oni</td>\n",
              "      <td>ok lar joke wif u oni</td>\n",
              "    </tr>\n",
              "    <tr>\n",
              "      <th>2</th>\n",
              "      <td>spam</td>\n",
              "      <td>Free entry in 2 a wkly comp to win FA Cup fina...</td>\n",
              "      <td>Free entry in   a wkly comp to win FA Cup fina...</td>\n",
              "      <td>free entri wkli comp win fa cup final tkts st ...</td>\n",
              "    </tr>\n",
              "    <tr>\n",
              "      <th>3</th>\n",
              "      <td>ham</td>\n",
              "      <td>U dun say so early hor... U c already then say...</td>\n",
              "      <td>U dun say so early hor    U c already then say</td>\n",
              "      <td>u dun say earli hor u c alreadi say</td>\n",
              "    </tr>\n",
              "    <tr>\n",
              "      <th>4</th>\n",
              "      <td>ham</td>\n",
              "      <td>Nah I don't think he goes to usf, he lives aro...</td>\n",
              "      <td>Nah I don t think he goes to usf  he lives aro...</td>\n",
              "      <td>nah think goe usf live around though</td>\n",
              "    </tr>\n",
              "  </tbody>\n",
              "</table>\n",
              "</div>"
            ],
            "text/plain": [
              "     v1                                                 v2  \\\n",
              "0   ham  Go until jurong point, crazy.. Available only ...   \n",
              "1   ham                      Ok lar... Joking wif u oni...   \n",
              "2  spam  Free entry in 2 a wkly comp to win FA Cup fina...   \n",
              "3   ham  U dun say so early hor... U c already then say...   \n",
              "4   ham  Nah I don't think he goes to usf, he lives aro...   \n",
              "\n",
              "                                            v2_clean  \\\n",
              "0  Go until jurong point  crazy   Available only ...   \n",
              "1                      Ok lar    Joking wif u oni      \n",
              "2  Free entry in   a wkly comp to win FA Cup fina...   \n",
              "3  U dun say so early hor    U c already then say      \n",
              "4  Nah I don t think he goes to usf  he lives aro...   \n",
              "\n",
              "                                       v2_normalized  \n",
              "0  go jurong point crazi avail bugi n great world...  \n",
              "1                              ok lar joke wif u oni  \n",
              "2  free entri wkli comp win fa cup final tkts st ...  \n",
              "3                u dun say earli hor u c alreadi say  \n",
              "4               nah think goe usf live around though  "
            ]
          },
          "metadata": {},
          "execution_count": 14
        }
      ],
      "metadata": {
        "id": "rBNa4IlTgUef"
      }
    },
    {
      "cell_type": "code",
      "execution_count": 15,
      "source": [
        "# training and test datasets\r\n",
        "data_register = df[\"v2_normalized\"]\r\n",
        "class_label = df[\"v1\"]\r\n",
        "factor = 0.2\r\n",
        "lucky_number = 7\r\n",
        "x_train, x_test, y_train, y_test = train_test_split(\r\n",
        "    data_register, class_label, test_size=factor, random_state=lucky_number\r\n",
        ")"
      ],
      "outputs": [],
      "metadata": {
        "id": "mUSE99a6j7XC"
      }
    },
    {
      "cell_type": "code",
      "execution_count": 16,
      "source": [
        "# train\r\n",
        "print(x_train)"
      ],
      "outputs": [
        {
          "output_type": "stream",
          "name": "stdout",
          "text": [
            "4459    wish great day moji told offer alway speechles...\n",
            "1921                               current food alon also\n",
            "5255                                       ok sweet dream\n",
            "5507                               want insid everi night\n",
            "356     congratul ur award cd voucher gift guarante fr...\n",
            "                              ...                        \n",
            "4307                         ha ha pop loo hello ed hello\n",
            "2550                  pleas sen kind advic pleas come tri\n",
            "537                     mayb fat finger press button know\n",
            "1220    nokia tone ur mob everi week txt nok st tone f...\n",
            "4271                                                  get\n",
            "Name: v2_normalized, Length: 4457, dtype: object\n"
          ]
        }
      ],
      "metadata": {
        "id": "M7N04_o7iVCe"
      }
    },
    {
      "cell_type": "code",
      "execution_count": 17,
      "source": [
        "# test\r\n",
        "print(x_test)"
      ],
      "outputs": [
        {
          "output_type": "stream",
          "name": "stdout",
          "text": [
            "83                                              place man\n",
            "2235    si como listen plaid album quit gd new air hil...\n",
            "2746                                  k da mani page want\n",
            "246                                           ask call ok\n",
            "3120                small problem auction punj ask tiwari\n",
            "                              ...                        \n",
            "2460                        cant talk call dont keep call\n",
            "2661                                        know dad back\n",
            "2086                                  dude like buff wind\n",
            "5126    wonder okor great month cherish guy wish well ...\n",
            "2886                                          k take care\n",
            "Name: v2_normalized, Length: 1115, dtype: object\n"
          ]
        }
      ],
      "metadata": {
        "id": "j0_UqNlqi62U"
      }
    },
    {
      "cell_type": "code",
      "execution_count": 18,
      "source": [
        "# class labels in training\r\n",
        "y_train"
      ],
      "outputs": [
        {
          "output_type": "execute_result",
          "data": {
            "text/plain": [
              "4459     ham\n",
              "1921     ham\n",
              "5255     ham\n",
              "5507     ham\n",
              "356     spam\n",
              "        ... \n",
              "4307     ham\n",
              "2550     ham\n",
              "537      ham\n",
              "1220    spam\n",
              "4271     ham\n",
              "Name: v1, Length: 4457, dtype: object"
            ]
          },
          "metadata": {},
          "execution_count": 18
        }
      ],
      "metadata": {
        "id": "ttq_X1YHjY1p"
      }
    },
    {
      "cell_type": "code",
      "execution_count": 19,
      "source": [
        "# reshape -> gives a new shape to an array without changing its data\r\n",
        "# https://het.as.utexas.edu/HET/Software/Numpy/reference/generated/numpy.reshape.html#numpy.reshape\r\n",
        "# -1 -> the unspecified value is inferred\r\n",
        "y_train.values.reshape(-1, 1)"
      ],
      "outputs": [
        {
          "output_type": "execute_result",
          "data": {
            "text/plain": [
              "array([['ham'],\n",
              "       ['ham'],\n",
              "       ['ham'],\n",
              "       ...,\n",
              "       ['ham'],\n",
              "       ['spam'],\n",
              "       ['ham']], dtype=object)"
            ]
          },
          "metadata": {},
          "execution_count": 19
        }
      ],
      "metadata": {
        "id": "AD7KRHWsj7XC"
      }
    },
    {
      "cell_type": "markdown",
      "source": [
        "**Build your custome function**"
      ],
      "metadata": {
        "id": "T8NL5aZ4fb0T"
      }
    },
    {
      "cell_type": "markdown",
      "source": [
        "The real difference between stemming and lemmatization is that stemming reduces word-forms to (pseudo) stems which might be meaningful or meaningless, whereas lemmatization reduces the word-forms to linguistically valid meaning."
      ],
      "metadata": {
        "id": "USUzEMJSW5WL"
      }
    },
    {
      "cell_type": "code",
      "execution_count": 20,
      "source": [
        "# you can build your own NLP function\r\n",
        "# edit it according to your requirements\r\n",
        "from nltk.tokenize import word_tokenize\r\n",
        "from nltk.stem import WordNetLemmatizer\r\n",
        "from nltk.stem.porter import *\r\n",
        "\r\n",
        "nltk.download(\"punkt\")\r\n",
        "nltk.download(\"wordnet\")\r\n",
        "\r\n",
        "\r\n",
        "def NLP_preprocess(some_text):\r\n",
        "    \"\"\"\r\n",
        "  Normalization using NLTK and spaCy\r\n",
        "  \"\"\"\r\n",
        "    # 1. Tokenization\r\n",
        "    NLP_token = word_tokenize(some_text)\r\n",
        "\r\n",
        "    # 2. Stemming\r\n",
        "    PS = PorterStemmer()\r\n",
        "    NLP_stem = []\r\n",
        "    for word in NLP_token:\r\n",
        "        NLP_stem.append(PS.stem(word))\r\n",
        "    # 3. Lemmatization\r\n",
        "    WL = WordNetLemmatizer()\r\n",
        "    NLP_lemma = []\r\n",
        "    for word in NLP_stem:\r\n",
        "        NLP_lemma.append(WL.lemmatize(word))\r\n",
        "    # 4. Stopword\r\n",
        "    FS = []\r\n",
        "    NLP_stop = set(stopwords.words(\"english\"))\r\n",
        "    for w in NLP_lemma:\r\n",
        "        if w not in NLP_stop:\r\n",
        "            FS.append(w)\r\n",
        "    # 5. Punctuation\r\n",
        "    punctuations = \"?:!.,;\"\r\n",
        "    for word in FS:\r\n",
        "        if word in punctuations:\r\n",
        "            FS.remove(word)\r\n",
        "    # print comparison\r\n",
        "    print(\" \")\r\n",
        "    print(some_text)\r\n",
        "    print(FS)"
      ],
      "outputs": [
        {
          "output_type": "stream",
          "name": "stderr",
          "text": [
            "[nltk_data] Downloading package punkt to\n",
            "[nltk_data]     C:\\Users\\gamin\\AppData\\Roaming\\nltk_data...\n",
            "[nltk_data]   Package punkt is already up-to-date!\n",
            "[nltk_data] Downloading package wordnet to\n",
            "[nltk_data]     C:\\Users\\gamin\\AppData\\Roaming\\nltk_data...\n",
            "[nltk_data]   Package wordnet is already up-to-date!\n"
          ]
        }
      ],
      "metadata": {
        "id": "7h5pJ9tNWEJn"
      }
    },
    {
      "cell_type": "code",
      "execution_count": 21,
      "source": [
        "# example\r\n",
        "NLP_preprocess(string_sample)"
      ],
      "outputs": [
        {
          "output_type": "stream",
          "name": "stdout",
          "text": [
            " \n",
            "123This @45is 890-130 an_example !!\n",
            "['123thi', '@', '45i', '890-130', 'an_exampl', '!']\n"
          ]
        }
      ],
      "metadata": {
        "id": "Yzxo1AWSWFTz"
      }
    },
    {
      "cell_type": "markdown",
      "source": [
        "## Step 3: Counts"
      ],
      "metadata": {
        "id": "rpnCzn7Jj7XD"
      }
    },
    {
      "cell_type": "markdown",
      "source": [
        "**Create new features with NLP**"
      ],
      "metadata": {
        "id": "1kcKwXjDJ5ES"
      }
    },
    {
      "cell_type": "code",
      "execution_count": 22,
      "source": [
        "# Convert a collection of text documents to a matrix of token counts\r\n",
        "CV = CountVectorizer()"
      ],
      "outputs": [],
      "metadata": {
        "id": "UWzId1JpmOYt"
      }
    },
    {
      "cell_type": "code",
      "execution_count": 23,
      "source": [
        "## training\r\n",
        "# transforming email into counts\r\n",
        "# counting the number of times a word appears in each email\r\n",
        "# 'x_train_count' is a sparse matrix, this avoids to store the zeroes\r\n",
        "x_train_count = CV.fit_transform(x_train)\r\n",
        "\r\n",
        "# returns: n_samples, n_features\r\n",
        "print(\"total emails =\", x_train_count.shape[0])\r\n",
        "print(\"total words =\", x_train_count.shape[1])"
      ],
      "outputs": [
        {
          "output_type": "stream",
          "name": "stdout",
          "text": [
            "total emails = 4457\n",
            "total words = 5595\n"
          ]
        }
      ],
      "metadata": {
        "id": "-m30-9q5mwYF"
      }
    },
    {
      "cell_type": "code",
      "execution_count": 24,
      "source": [
        "# show the counts in train\r\n",
        "print(x_train_count)"
      ],
      "outputs": [
        {
          "output_type": "stream",
          "name": "stdout",
          "text": [
            "  (0, 5405)\t1\n",
            "  (0, 1991)\t2\n",
            "  (0, 1140)\t1\n",
            "  (0, 3047)\t1\n",
            "  (0, 4944)\t1\n",
            "  (0, 3328)\t2\n",
            "  (0, 162)\t1\n",
            "  (0, 4483)\t1\n",
            "  (0, 1398)\t1\n",
            "  (0, 1921)\t1\n",
            "  (0, 2676)\t1\n",
            "  (0, 458)\t1\n",
            "  (0, 4620)\t1\n",
            "  (0, 1552)\t1\n",
            "  (0, 3214)\t1\n",
            "  (0, 1790)\t1\n",
            "  (0, 2541)\t1\n",
            "  (0, 4984)\t1\n",
            "  (0, 4456)\t1\n",
            "  (1, 1089)\t1\n",
            "  (1, 1734)\t1\n",
            "  (1, 150)\t1\n",
            "  (1, 156)\t1\n",
            "  (2, 3342)\t1\n",
            "  (2, 4701)\t1\n",
            "  :\t:\n",
            "  (4453, 74)\t1\n",
            "  (4454, 2580)\t1\n",
            "  (4454, 1623)\t1\n",
            "  (4454, 2920)\t1\n",
            "  (4454, 1681)\t1\n",
            "  (4454, 3715)\t1\n",
            "  (4454, 683)\t1\n",
            "  (4455, 1529)\t1\n",
            "  (4455, 5150)\t2\n",
            "  (4455, 1776)\t1\n",
            "  (4455, 5065)\t1\n",
            "  (4455, 1885)\t1\n",
            "  (4455, 4786)\t1\n",
            "  (4455, 1792)\t1\n",
            "  (4455, 3249)\t1\n",
            "  (4455, 3960)\t1\n",
            "  (4455, 2160)\t1\n",
            "  (4455, 2341)\t1\n",
            "  (4455, 5327)\t1\n",
            "  (4455, 4533)\t1\n",
            "  (4455, 4956)\t3\n",
            "  (4455, 3032)\t1\n",
            "  (4455, 5067)\t1\n",
            "  (4455, 3248)\t1\n",
            "  (4456, 1885)\t1\n"
          ]
        }
      ],
      "metadata": {
        "id": "BzOt7nuUrACv"
      }
    },
    {
      "cell_type": "code",
      "execution_count": 25,
      "source": [
        "# full matrix\r\n",
        "x_train_count.toarray()"
      ],
      "outputs": [
        {
          "output_type": "execute_result",
          "data": {
            "text/plain": [
              "array([[0, 0, 0, ..., 0, 0, 0],\n",
              "       [0, 0, 0, ..., 0, 0, 0],\n",
              "       [0, 0, 0, ..., 0, 0, 0],\n",
              "       ...,\n",
              "       [0, 0, 0, ..., 0, 0, 0],\n",
              "       [0, 0, 0, ..., 0, 0, 0],\n",
              "       [0, 0, 0, ..., 0, 0, 0]], dtype=int64)"
            ]
          },
          "metadata": {},
          "execution_count": 25
        }
      ],
      "metadata": {
        "id": "XrovMutirKZS"
      }
    },
    {
      "cell_type": "code",
      "execution_count": 26,
      "source": [
        "## test\r\n",
        "# transforming email into counts\r\n",
        "# counting the number of times a word appears in each email\r\n",
        "# using the vocabulary fitted with '.fit'\r\n",
        "# sparse matrix: only non-zeroes elements are stored\r\n",
        "x_test_count = CV.transform(x_test)\r\n",
        "\r\n",
        "# returns: n_samples, n_features\r\n",
        "print(\"total emails =\", x_test_count.shape[0])\r\n",
        "print(\"total words =\", x_test_count.shape[1])"
      ],
      "outputs": [
        {
          "output_type": "stream",
          "name": "stdout",
          "text": [
            "total emails = 1115\n",
            "total words = 5595\n"
          ]
        }
      ],
      "metadata": {
        "id": "6yrAimS4j7XD"
      }
    },
    {
      "cell_type": "code",
      "execution_count": 27,
      "source": [
        "# array mapping from feature integer indices to feature name\r\n",
        "int2feature = CV.get_feature_names()\r\n",
        "print(int2feature[:10])"
      ],
      "outputs": [
        {
          "output_type": "stream",
          "name": "stdout",
          "text": [
            "['aa', 'aah', 'aaniy', 'aaooooright', 'aathi', 'ab', 'abbey', 'abeg', 'aberdeen', 'abi']\n"
          ]
        },
        {
          "output_type": "stream",
          "name": "stderr",
          "text": [
            "C:\\Users\\gamin\\anaconda3\\envs\\et5003\\lib\\site-packages\\sklearn\\utils\\deprecation.py:87: FutureWarning: Function get_feature_names is deprecated; get_feature_names is deprecated in 1.0 and will be removed in 1.2. Please use get_feature_names_out instead.\n",
            "  warnings.warn(msg, category=FutureWarning)\n"
          ]
        }
      ],
      "metadata": {
        "id": "lcxtAqZhrt8h"
      }
    },
    {
      "cell_type": "code",
      "execution_count": 28,
      "source": [
        "# warning:\r\n",
        "# be aware that running several times next cell\r\n",
        "# it will append 'Class' each time\r\n",
        "c = 0"
      ],
      "outputs": [],
      "metadata": {
        "id": "fd50PJqPv1Np"
      }
    },
    {
      "cell_type": "code",
      "execution_count": 29,
      "source": [
        "# append 'Class' to the end of the list\r\n",
        "if c == 0:\r\n",
        "    int2feature.append(\"Class\")\r\n",
        "    # print last 10 feature names\r\n",
        "    print(int2feature[len(int2feature) - 10 : len(int2feature) - 1])\r\n",
        "    c = 1\r\n",
        "else:\r\n",
        "    print(\"already appended\")"
      ],
      "outputs": [
        {
          "output_type": "stream",
          "name": "stdout",
          "text": [
            "['zed', 'zero', 'zf', 'zindgi', 'zoe', 'zogtorius', 'zouk', 'zs', 'zyada']\n"
          ]
        }
      ],
      "metadata": {
        "id": "1Z2mYaDqsgVI"
      }
    },
    {
      "cell_type": "code",
      "execution_count": 30,
      "source": [
        "# new dataset\r\n",
        "new_dataset = pd.DataFrame(\r\n",
        "    data=np.hstack([x_train_count.toarray(), y_train.values.reshape(-1, 1)]),\r\n",
        "    columns=int2feature,\r\n",
        ")"
      ],
      "outputs": [],
      "metadata": {
        "id": "ISTJS6Gvj7XE"
      }
    },
    {
      "cell_type": "code",
      "execution_count": 31,
      "source": [
        "# first rows\r\n",
        "new_dataset.head()"
      ],
      "outputs": [
        {
          "output_type": "execute_result",
          "data": {
            "text/html": [
              "<div>\n",
              "<style scoped>\n",
              "    .dataframe tbody tr th:only-of-type {\n",
              "        vertical-align: middle;\n",
              "    }\n",
              "\n",
              "    .dataframe tbody tr th {\n",
              "        vertical-align: top;\n",
              "    }\n",
              "\n",
              "    .dataframe thead th {\n",
              "        text-align: right;\n",
              "    }\n",
              "</style>\n",
              "<table border=\"1\" class=\"dataframe\">\n",
              "  <thead>\n",
              "    <tr style=\"text-align: right;\">\n",
              "      <th></th>\n",
              "      <th>aa</th>\n",
              "      <th>aah</th>\n",
              "      <th>aaniy</th>\n",
              "      <th>aaooooright</th>\n",
              "      <th>aathi</th>\n",
              "      <th>ab</th>\n",
              "      <th>abbey</th>\n",
              "      <th>abeg</th>\n",
              "      <th>aberdeen</th>\n",
              "      <th>abi</th>\n",
              "      <th>...</th>\n",
              "      <th>zed</th>\n",
              "      <th>zero</th>\n",
              "      <th>zf</th>\n",
              "      <th>zindgi</th>\n",
              "      <th>zoe</th>\n",
              "      <th>zogtorius</th>\n",
              "      <th>zouk</th>\n",
              "      <th>zs</th>\n",
              "      <th>zyada</th>\n",
              "      <th>Class</th>\n",
              "    </tr>\n",
              "  </thead>\n",
              "  <tbody>\n",
              "    <tr>\n",
              "      <th>0</th>\n",
              "      <td>0</td>\n",
              "      <td>0</td>\n",
              "      <td>0</td>\n",
              "      <td>0</td>\n",
              "      <td>0</td>\n",
              "      <td>0</td>\n",
              "      <td>0</td>\n",
              "      <td>0</td>\n",
              "      <td>0</td>\n",
              "      <td>0</td>\n",
              "      <td>...</td>\n",
              "      <td>0</td>\n",
              "      <td>0</td>\n",
              "      <td>0</td>\n",
              "      <td>0</td>\n",
              "      <td>0</td>\n",
              "      <td>0</td>\n",
              "      <td>0</td>\n",
              "      <td>0</td>\n",
              "      <td>0</td>\n",
              "      <td>ham</td>\n",
              "    </tr>\n",
              "    <tr>\n",
              "      <th>1</th>\n",
              "      <td>0</td>\n",
              "      <td>0</td>\n",
              "      <td>0</td>\n",
              "      <td>0</td>\n",
              "      <td>0</td>\n",
              "      <td>0</td>\n",
              "      <td>0</td>\n",
              "      <td>0</td>\n",
              "      <td>0</td>\n",
              "      <td>0</td>\n",
              "      <td>...</td>\n",
              "      <td>0</td>\n",
              "      <td>0</td>\n",
              "      <td>0</td>\n",
              "      <td>0</td>\n",
              "      <td>0</td>\n",
              "      <td>0</td>\n",
              "      <td>0</td>\n",
              "      <td>0</td>\n",
              "      <td>0</td>\n",
              "      <td>ham</td>\n",
              "    </tr>\n",
              "    <tr>\n",
              "      <th>2</th>\n",
              "      <td>0</td>\n",
              "      <td>0</td>\n",
              "      <td>0</td>\n",
              "      <td>0</td>\n",
              "      <td>0</td>\n",
              "      <td>0</td>\n",
              "      <td>0</td>\n",
              "      <td>0</td>\n",
              "      <td>0</td>\n",
              "      <td>0</td>\n",
              "      <td>...</td>\n",
              "      <td>0</td>\n",
              "      <td>0</td>\n",
              "      <td>0</td>\n",
              "      <td>0</td>\n",
              "      <td>0</td>\n",
              "      <td>0</td>\n",
              "      <td>0</td>\n",
              "      <td>0</td>\n",
              "      <td>0</td>\n",
              "      <td>ham</td>\n",
              "    </tr>\n",
              "    <tr>\n",
              "      <th>3</th>\n",
              "      <td>0</td>\n",
              "      <td>0</td>\n",
              "      <td>0</td>\n",
              "      <td>0</td>\n",
              "      <td>0</td>\n",
              "      <td>0</td>\n",
              "      <td>0</td>\n",
              "      <td>0</td>\n",
              "      <td>0</td>\n",
              "      <td>0</td>\n",
              "      <td>...</td>\n",
              "      <td>0</td>\n",
              "      <td>0</td>\n",
              "      <td>0</td>\n",
              "      <td>0</td>\n",
              "      <td>0</td>\n",
              "      <td>0</td>\n",
              "      <td>0</td>\n",
              "      <td>0</td>\n",
              "      <td>0</td>\n",
              "      <td>ham</td>\n",
              "    </tr>\n",
              "    <tr>\n",
              "      <th>4</th>\n",
              "      <td>0</td>\n",
              "      <td>0</td>\n",
              "      <td>0</td>\n",
              "      <td>0</td>\n",
              "      <td>0</td>\n",
              "      <td>0</td>\n",
              "      <td>0</td>\n",
              "      <td>0</td>\n",
              "      <td>0</td>\n",
              "      <td>0</td>\n",
              "      <td>...</td>\n",
              "      <td>0</td>\n",
              "      <td>0</td>\n",
              "      <td>0</td>\n",
              "      <td>0</td>\n",
              "      <td>0</td>\n",
              "      <td>0</td>\n",
              "      <td>0</td>\n",
              "      <td>0</td>\n",
              "      <td>0</td>\n",
              "      <td>spam</td>\n",
              "    </tr>\n",
              "  </tbody>\n",
              "</table>\n",
              "<p>5 rows × 5596 columns</p>\n",
              "</div>"
            ],
            "text/plain": [
              "  aa aah aaniy aaooooright aathi ab abbey abeg aberdeen abi  ... zed zero zf  \\\n",
              "0  0   0     0           0     0  0     0    0        0   0  ...   0    0  0   \n",
              "1  0   0     0           0     0  0     0    0        0   0  ...   0    0  0   \n",
              "2  0   0     0           0     0  0     0    0        0   0  ...   0    0  0   \n",
              "3  0   0     0           0     0  0     0    0        0   0  ...   0    0  0   \n",
              "4  0   0     0           0     0  0     0    0        0   0  ...   0    0  0   \n",
              "\n",
              "  zindgi zoe zogtorius zouk zs zyada Class  \n",
              "0      0   0         0    0  0     0   ham  \n",
              "1      0   0         0    0  0     0   ham  \n",
              "2      0   0         0    0  0     0   ham  \n",
              "3      0   0         0    0  0     0   ham  \n",
              "4      0   0         0    0  0     0  spam  \n",
              "\n",
              "[5 rows x 5596 columns]"
            ]
          },
          "metadata": {},
          "execution_count": 31
        }
      ],
      "metadata": {
        "id": "R3QXMdhIypsb"
      }
    },
    {
      "cell_type": "code",
      "execution_count": 32,
      "source": [
        "new_dataset.describe()"
      ],
      "outputs": [
        {
          "output_type": "execute_result",
          "data": {
            "text/html": [
              "<div>\n",
              "<style scoped>\n",
              "    .dataframe tbody tr th:only-of-type {\n",
              "        vertical-align: middle;\n",
              "    }\n",
              "\n",
              "    .dataframe tbody tr th {\n",
              "        vertical-align: top;\n",
              "    }\n",
              "\n",
              "    .dataframe thead th {\n",
              "        text-align: right;\n",
              "    }\n",
              "</style>\n",
              "<table border=\"1\" class=\"dataframe\">\n",
              "  <thead>\n",
              "    <tr style=\"text-align: right;\">\n",
              "      <th></th>\n",
              "      <th>aa</th>\n",
              "      <th>aah</th>\n",
              "      <th>aaniy</th>\n",
              "      <th>aaooooright</th>\n",
              "      <th>aathi</th>\n",
              "      <th>ab</th>\n",
              "      <th>abbey</th>\n",
              "      <th>abeg</th>\n",
              "      <th>aberdeen</th>\n",
              "      <th>abi</th>\n",
              "      <th>...</th>\n",
              "      <th>zed</th>\n",
              "      <th>zero</th>\n",
              "      <th>zf</th>\n",
              "      <th>zindgi</th>\n",
              "      <th>zoe</th>\n",
              "      <th>zogtorius</th>\n",
              "      <th>zouk</th>\n",
              "      <th>zs</th>\n",
              "      <th>zyada</th>\n",
              "      <th>Class</th>\n",
              "    </tr>\n",
              "  </thead>\n",
              "  <tbody>\n",
              "    <tr>\n",
              "      <th>count</th>\n",
              "      <td>4457</td>\n",
              "      <td>4457</td>\n",
              "      <td>4457</td>\n",
              "      <td>4457</td>\n",
              "      <td>4457</td>\n",
              "      <td>4457</td>\n",
              "      <td>4457</td>\n",
              "      <td>4457</td>\n",
              "      <td>4457</td>\n",
              "      <td>4457</td>\n",
              "      <td>...</td>\n",
              "      <td>4457</td>\n",
              "      <td>4457</td>\n",
              "      <td>4457</td>\n",
              "      <td>4457</td>\n",
              "      <td>4457</td>\n",
              "      <td>4457</td>\n",
              "      <td>4457</td>\n",
              "      <td>4457</td>\n",
              "      <td>4457</td>\n",
              "      <td>4457</td>\n",
              "    </tr>\n",
              "    <tr>\n",
              "      <th>unique</th>\n",
              "      <td>2</td>\n",
              "      <td>2</td>\n",
              "      <td>2</td>\n",
              "      <td>2</td>\n",
              "      <td>2</td>\n",
              "      <td>2</td>\n",
              "      <td>2</td>\n",
              "      <td>2</td>\n",
              "      <td>2</td>\n",
              "      <td>2</td>\n",
              "      <td>...</td>\n",
              "      <td>2</td>\n",
              "      <td>2</td>\n",
              "      <td>2</td>\n",
              "      <td>2</td>\n",
              "      <td>2</td>\n",
              "      <td>2</td>\n",
              "      <td>2</td>\n",
              "      <td>2</td>\n",
              "      <td>2</td>\n",
              "      <td>2</td>\n",
              "    </tr>\n",
              "    <tr>\n",
              "      <th>top</th>\n",
              "      <td>0</td>\n",
              "      <td>0</td>\n",
              "      <td>0</td>\n",
              "      <td>0</td>\n",
              "      <td>0</td>\n",
              "      <td>0</td>\n",
              "      <td>0</td>\n",
              "      <td>0</td>\n",
              "      <td>0</td>\n",
              "      <td>0</td>\n",
              "      <td>...</td>\n",
              "      <td>0</td>\n",
              "      <td>0</td>\n",
              "      <td>0</td>\n",
              "      <td>0</td>\n",
              "      <td>0</td>\n",
              "      <td>0</td>\n",
              "      <td>0</td>\n",
              "      <td>0</td>\n",
              "      <td>0</td>\n",
              "      <td>ham</td>\n",
              "    </tr>\n",
              "    <tr>\n",
              "      <th>freq</th>\n",
              "      <td>4456</td>\n",
              "      <td>4454</td>\n",
              "      <td>4456</td>\n",
              "      <td>4456</td>\n",
              "      <td>4452</td>\n",
              "      <td>4456</td>\n",
              "      <td>4456</td>\n",
              "      <td>4456</td>\n",
              "      <td>4456</td>\n",
              "      <td>4454</td>\n",
              "      <td>...</td>\n",
              "      <td>4452</td>\n",
              "      <td>4456</td>\n",
              "      <td>4456</td>\n",
              "      <td>4456</td>\n",
              "      <td>4455</td>\n",
              "      <td>4456</td>\n",
              "      <td>4456</td>\n",
              "      <td>4456</td>\n",
              "      <td>4456</td>\n",
              "      <td>3855</td>\n",
              "    </tr>\n",
              "  </tbody>\n",
              "</table>\n",
              "<p>4 rows × 5596 columns</p>\n",
              "</div>"
            ],
            "text/plain": [
              "          aa   aah  aaniy  aaooooright  aathi    ab  abbey  abeg  aberdeen  \\\n",
              "count   4457  4457   4457         4457   4457  4457   4457  4457      4457   \n",
              "unique     2     2      2            2      2     2      2     2         2   \n",
              "top        0     0      0            0      0     0      0     0         0   \n",
              "freq    4456  4454   4456         4456   4452  4456   4456  4456      4456   \n",
              "\n",
              "         abi  ...   zed  zero    zf  zindgi   zoe  zogtorius  zouk    zs  \\\n",
              "count   4457  ...  4457  4457  4457    4457  4457       4457  4457  4457   \n",
              "unique     2  ...     2     2     2       2     2          2     2     2   \n",
              "top        0  ...     0     0     0       0     0          0     0     0   \n",
              "freq    4454  ...  4452  4456  4456    4456  4455       4456  4456  4456   \n",
              "\n",
              "        zyada  Class  \n",
              "count    4457   4457  \n",
              "unique      2      2  \n",
              "top         0    ham  \n",
              "freq     4456   3855  \n",
              "\n",
              "[4 rows x 5596 columns]"
            ]
          },
          "metadata": {},
          "execution_count": 32
        }
      ],
      "metadata": {
        "id": "Tqk2jRleyxd3"
      }
    },
    {
      "cell_type": "code",
      "execution_count": 33,
      "source": [
        "# write object to a comma-separated values (csv) file\r\n",
        "# verify in your folder\r\n",
        "new_dataset.to_csv(path[:-4] + \"_clean.csv\", index=False)"
      ],
      "outputs": [],
      "metadata": {
        "id": "E8RoL4Z7uk62"
      }
    },
    {
      "cell_type": "markdown",
      "source": [
        "### Data format"
      ],
      "metadata": {
        "id": "HyHnie_5j7XE"
      }
    },
    {
      "cell_type": "code",
      "execution_count": 34,
      "source": [
        "# select an email number\r\n",
        "row_index = 0\r\n",
        "print(\"non-sparse matrix =\", x_train_count[row_index, :].todense())\r\n",
        "\r\n",
        "# original words in the email\r\n",
        "print(\"original words: \", x_train.values[row_index])\r\n",
        "\r\n",
        "# decoded numerical input\r\n",
        "DNI = x_train_count[row_index, :].todense()\r\n",
        "# inverse_transform: return terms per document with nonzero entries\r\n",
        "print(\"decoded input: \", CV.inverse_transform(DNI))\r\n",
        "\r\n",
        "# index of words\r\n",
        "ind = np.where(DNI[0, :] > 0)[1]\r\n",
        "print(\"word indexes: \", ind)\r\n",
        "\r\n",
        "# number of times those words appears in the email\r\n",
        "print(x_train_count[row_index, ind].todense())"
      ],
      "outputs": [
        {
          "output_type": "stream",
          "name": "stdout",
          "text": [
            "non-sparse matrix = [[0 0 0 ... 0 0 0]]\n",
            "original words:  wish great day moji told offer alway speechless offer easili go great length behalf stun exam next friday keep touch sorri\n",
            "decoded input:  [array(['alway', 'behalf', 'day', 'easili', 'exam', 'friday', 'go',\n",
            "       'great', 'keep', 'length', 'moji', 'next', 'offer', 'sorri',\n",
            "       'speechless', 'stun', 'told', 'touch', 'wish'], dtype='<U34')]\n",
            "word indexes:  [ 162  458 1140 1398 1552 1790 1921 1991 2541 2676 3047 3214 3328 4456\n",
            " 4483 4620 4944 4984 5405]\n",
            "[[1 1 1 1 1 1 1 2 1 1 1 1 2 1 1 1 1 1 1]]\n"
          ]
        },
        {
          "output_type": "stream",
          "name": "stderr",
          "text": [
            "C:\\Users\\gamin\\anaconda3\\envs\\et5003\\lib\\site-packages\\sklearn\\utils\\validation.py:590: FutureWarning: np.matrix usage is deprecated in 1.0 and will raise a TypeError in 1.2. Please convert to a numpy array with np.asarray. For more information see: https://numpy.org/doc/stable/reference/generated/numpy.matrix.html\n",
            "  FutureWarning,\n"
          ]
        }
      ],
      "metadata": {
        "id": "ZdrMNE8jj7XF"
      }
    },
    {
      "cell_type": "markdown",
      "source": [
        "## Step 4: Learning"
      ],
      "metadata": {
        "id": "WGilAvtbj7XF"
      }
    },
    {
      "cell_type": "markdown",
      "source": [
        "Training the classifier and making predictions on the test set"
      ],
      "metadata": {
        "id": "m-KYhFh859c-"
      }
    },
    {
      "cell_type": "code",
      "execution_count": 35,
      "source": [
        "# create a model\r\n",
        "MNB = MultinomialNB()\r\n",
        "\r\n",
        "# fit to data\r\n",
        "MNB.fit(x_train_count, y_train)"
      ],
      "outputs": [
        {
          "output_type": "execute_result",
          "data": {
            "text/plain": [
              "MultinomialNB()"
            ]
          },
          "metadata": {},
          "execution_count": 35
        }
      ],
      "metadata": {
        "id": "s9ZrtUKej7XF"
      }
    },
    {
      "cell_type": "code",
      "execution_count": 36,
      "source": [
        "# testing the model\r\n",
        "\r\n",
        "prediction_train = MNB.predict(x_train_count)\r\n",
        "print(\"training prediction\\t\", prediction_train)\r\n",
        "\r\n",
        "prediction_test = MNB.predict(x_test_count)\r\n",
        "print(\"test prediction\\t\\t\", prediction_test)"
      ],
      "outputs": [
        {
          "output_type": "stream",
          "name": "stdout",
          "text": [
            "training prediction\t ['ham' 'ham' 'ham' ... 'ham' 'spam' 'ham']\n",
            "test prediction\t\t ['ham' 'ham' 'ham' ... 'ham' 'ham' 'ham']\n"
          ]
        }
      ],
      "metadata": {
        "id": "YW7hoVB76Yqf"
      }
    },
    {
      "cell_type": "code",
      "execution_count": 37,
      "source": [
        "# set_printoptions: If True, always print floating point numbers\r\n",
        "# using fixed point notation, in which case numbers equal to zero\r\n",
        "# in the current precision will print as zero\r\n",
        "np.set_printoptions(suppress=True)\r\n",
        "\r\n",
        "# Ham and Spam probabilities in test\r\n",
        "class_prob = MNB.predict_proba(x_test_count)\r\n",
        "print(class_prob)"
      ],
      "outputs": [
        {
          "output_type": "stream",
          "name": "stdout",
          "text": [
            "[[0.99224585 0.00775415]\n",
            " [0.99710212 0.00289788]\n",
            " [0.99977543 0.00022457]\n",
            " ...\n",
            " [0.99721402 0.00278598]\n",
            " [0.99999219 0.00000781]\n",
            " [0.99364559 0.00635441]]\n"
          ]
        }
      ],
      "metadata": {
        "id": "wcAd5Wh6j7XG"
      }
    },
    {
      "cell_type": "code",
      "execution_count": 39,
      "source": [
        "# show emails classified as 'spam'\r\n",
        "threshold = 0.5\r\n",
        "spam_ind = np.where(class_prob[:, 1] > threshold)[0]\r\n",
        "print(x_test.values[spam_ind][:10])"
      ],
      "outputs": [
        {
          "output_type": "stream",
          "name": "stdout",
          "text": [
            "['know u u know send chat let find p msg rcvd hg suit land row w j hl ldn year'\n",
            " 'congrat nokia video camera phone call call cost ppm ave call min vari mobil close post bcm ldn wc n xx'\n",
            " 'dear dave final notic collect tenerif holiday cash award call landlin tcs sae box cw wx ppm'\n",
            " 'guarante award mayb even cash claim ur award call free legitimat efreefon number wat u think'\n",
            " 'free msg get gnarl barkley crazi rington total free repli go messag right'\n",
            " 'u get phone wanna chat set meet call u cum moro luv jane xx call minmoremobsemspobox po wa'\n",
            " 'congrat year special cinema pass call c suprman v matrix starwar etc free bx ip pm dont miss'\n",
            " 'congratul ur award either cd gift voucher free entri week draw txt music tncs www ldew com win ppmx age'\n",
            " 'hot live fantasi call p per min ntt ltd po box croydon cr wb k'\n",
            " 'sms ac sptv new jersey devil detroit red wing play ice hockey correct incorrect end repli end sptv']\n"
          ]
        }
      ],
      "metadata": {
        "id": "SqFxSVTzj7XG"
      }
    },
    {
      "cell_type": "markdown",
      "source": [
        "## Step 5: Accuracy"
      ],
      "metadata": {
        "id": "KkIb-_wUj7XG"
      }
    },
    {
      "cell_type": "code",
      "execution_count": 40,
      "source": [
        "# accuracy in training set\r\n",
        "y_pred_train = prediction_train\r\n",
        "print(\"Train Accuracy: \" + str(accuracy_score(y_train, y_pred_train)))"
      ],
      "outputs": [
        {
          "output_type": "stream",
          "name": "stdout",
          "text": [
            "Train Accuracy: 0.9923715503702042\n"
          ]
        }
      ],
      "metadata": {
        "id": "BjreL3sdj7XH"
      }
    },
    {
      "cell_type": "code",
      "execution_count": 41,
      "source": [
        "# accuracy in test set (unseen data)\r\n",
        "y_true = y_test\r\n",
        "y_pred_test = prediction_test\r\n",
        "print(\"Test Accuracy: \" + str(accuracy_score(y_true, y_pred_test)))"
      ],
      "outputs": [
        {
          "output_type": "stream",
          "name": "stdout",
          "text": [
            "Test Accuracy: 0.989237668161435\n"
          ]
        }
      ],
      "metadata": {
        "scrolled": true,
        "id": "MQRTS8rTj7XH"
      }
    },
    {
      "cell_type": "code",
      "execution_count": 42,
      "source": [
        "# confusion matrix\r\n",
        "conf_mat = confusion_matrix(y_true, y_pred_test)\r\n",
        "print(\"Confusion Matrix\\n\", conf_mat)"
      ],
      "outputs": [
        {
          "output_type": "stream",
          "name": "stdout",
          "text": [
            "Confusion Matrix\n",
            " [[965   5]\n",
            " [  7 138]]\n"
          ]
        }
      ],
      "metadata": {
        "id": "Yqg3jqtWAPJB"
      }
    },
    {
      "cell_type": "code",
      "execution_count": 43,
      "source": [
        "import matplotlib.pyplot as plt\r\n",
        "from sklearn.metrics import ConfusionMatrixDisplay\r\n",
        "\r\n",
        "labels = [\"Ham\", \"Spam\"]\r\n",
        "\r\n",
        "fig = plt.figure()\r\n",
        "ax = fig.add_subplot(111)\r\n",
        "cax = ax.matshow(conf_mat)\r\n",
        "plt.title(\"Confusion matrix of the classifier\\n\")\r\n",
        "fig.colorbar(cax)\r\n",
        "ax.set_xticklabels([\"\"] + labels)\r\n",
        "ax.set_yticklabels([\"\"] + labels)\r\n",
        "plt.xlabel(\"Predicted\")\r\n",
        "plt.ylabel(\"True\")\r\n",
        "plt.show()"
      ],
      "outputs": [
        {
          "output_type": "stream",
          "name": "stderr",
          "text": [
            "ipykernel_launcher:11: UserWarning: FixedFormatter should only be used together with FixedLocator\n",
            "ipykernel_launcher:12: UserWarning: FixedFormatter should only be used together with FixedLocator\n"
          ]
        },
        {
          "output_type": "display_data",
          "data": {
            "image/png": "[encoded data removed]",
            "text/plain": [
              "<Figure size 432x288 with 2 Axes>"
            ]
          },
          "metadata": {
            "needs_background": "dark"
          }
        }
      ],
      "metadata": {
        "id": "ypc8HXCYEpNz"
      }
    }
  ]
}