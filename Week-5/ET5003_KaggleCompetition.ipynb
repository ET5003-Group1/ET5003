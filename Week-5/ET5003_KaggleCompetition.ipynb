{
  "cells": [
    {
      "cell_type": "markdown",
      "metadata": {
        "id": "930vlW5BrOtq"
      },
      "source": [
        "<div>\n",
        "<img src=\"https://drive.google.com/uc?export=view&id=1vK33e_EqaHgBHcbRV_m38hx6IkG0blK_\" width=\"350\"/>\n",
        "</div> \n",
        "\n",
        "#**Artificial Intelligence - MSc**\n",
        "##ET5003 - MACHINE LEARNING APPLICATIONS \n",
        "\n",
        "###Instructor: Enrique Naredo\n",
        "###ET5003_KaggleCompetition"
      ]
    },
    {
      "cell_type": "code",
      "execution_count": 1,
      "metadata": {
        "cellView": "form",
        "id": "LqXD_IwUQuBF"
      },
      "outputs": [],
      "source": [
        "#@title Current Date\n",
        "Today = '2021-10-05' #@param {type:\"date\"}\n"
      ]
    },
    {
      "cell_type": "code",
      "execution_count": 2,
      "metadata": {
        "cellView": "form",
        "id": "uzDKau31OjVO"
      },
      "outputs": [
        {
          "ename": "SyntaxError",
          "evalue": "can't assign to operator (Temp/ipykernel_24912/985903705.py, line 4)",
          "output_type": "error",
          "traceback": [
            "\u001b[1;36m  File \u001b[1;32m\"C:\\Users\\gamin\\AppData\\Local\\Temp/ipykernel_24912/985903705.py\"\u001b[1;36m, line \u001b[1;32m4\u001b[0m\n\u001b[1;33m    Student_ID&Name = \"\" #@param {type:\"string\"}\u001b[0m\n\u001b[1;37m                                                ^\u001b[0m\n\u001b[1;31mSyntaxError\u001b[0m\u001b[1;31m:\u001b[0m can't assign to operator\n"
          ]
        }
      ],
      "source": [
        "#@markdown ---\n",
        "#@markdown ### Enter your details here:\n",
        "Team_Number = \"\" #@param {type:\"string\"}\n",
        "Student_ID&Name = \"\" #@param {type:\"string\"}\n",
        "Student_ID&Name = \"\" #@param {type:\"string\"}\n",
        "Student_ID&Name = \"\" #@param {type:\"string\"}\n",
        "Student_ID&Name = \"\" #@param {type:\"string\"}\n",
        "Student_ID&Name = \"\" #@param {type:\"string\"}\n",
        "#@markdown ---"
      ]
    },
    {
      "cell_type": "code",
      "execution_count": null,
      "metadata": {
        "cellView": "form",
        "id": "r39xGZckTpKx"
      },
      "outputs": [],
      "source": [
        "#@title Notebook information\n",
        "Notebook_type = 'Etivity' #@param [\"Example\", \"Lab\", \"Practice\", \"Etivity\", \"Assignment\", \"Exam\"]\n",
        "Version = Final #@param [\"Draft\", \"Final\"] {type:\"raw\"}\n",
        "Submission = False #@param {type:\"boolean\"}"
      ]
    },
    {
      "cell_type": "markdown",
      "metadata": {
        "id": "_A0Z6S-r6DpA"
      },
      "source": [
        "# INTRODUCTION"
      ]
    },
    {
      "cell_type": "markdown",
      "metadata": {
        "id": "aajlS0WCJ8pm"
      },
      "source": [
        "***The goal is to use advanced Machine Learning methods to predict House price.***"
      ]
    },
    {
      "cell_type": "markdown",
      "metadata": {
        "id": "Wg7VCbX77eAA"
      },
      "source": [
        "## Imports"
      ]
    },
    {
      "cell_type": "code",
      "execution_count": 1,
      "metadata": {
        "id": "k96-GLUGE2ux"
      },
      "outputs": [
        {
          "name": "stderr",
          "output_type": "stream",
          "text": [
            "WARNING (theano.tensor.blas): Using NumPy C-API based implementation for BLAS functions.\n"
          ]
        }
      ],
      "source": [
        "# standard libraries\n",
        "import warnings\n",
        "import pandas as pd\n",
        "import numpy as np\n",
        "import pymc3 as pm\n",
        "import os\n",
        "\n",
        "# SKlearn imports\n",
        "from sklearn.model_selection import train_test_split, GridSearchCV\n",
        "from sklearn.feature_extraction.text import TfidfVectorizer\n",
        "from sklearn.metrics import (\n",
        "    accuracy_score,\n",
        "    confusion_matrix,\n",
        "    mean_absolute_error,\n",
        "    mean_squared_log_error,\n",
        "    mean_absolute_percentage_error,\n",
        "    classification_report,\n",
        ")\n",
        "from sklearn.preprocessing import StandardScaler, LabelEncoder, OrdinalEncoder\n",
        "from sklearn.ensemble import RandomForestClassifier\n",
        "from sklearn.svm import SVC\n",
        "from sklearn.pipeline import Pipeline\n",
        "from imblearn.combine import SMOTETomek\n",
        "\n",
        "\n",
        "# NLP libraries\n",
        "import nltk\n",
        "from nltk.stem import SnowballStemmer\n",
        "from nltk.corpus import stopwords\n",
        "\n",
        "# For plotting\n",
        "import matplotlib.pyplot as plt\n",
        "from matplotlib.cm import get_cmap\n",
        "import jupyterthemes.jtplot as jt\n",
        "\n",
        "# jt.style(theme=\"monokai\")\n",
        "random_state = 188245\n",
        "np.random.seed(random_state)\n",
        "warnings.filterwarnings(\"ignore\")\n",
        "\n",
        "\n",
        "%matplotlib inline\n",
        "%load_ext lab_black"
      ]
    },
    {
      "cell_type": "markdown",
      "metadata": {
        "id": "WL91ShB19RPw"
      },
      "source": [
        "# DATASET"
      ]
    },
    {
      "cell_type": "markdown",
      "metadata": {
        "id": "ESg5DGKWJSOf"
      },
      "source": [
        "Extract from this [paper](https://ieeexplore.ieee.org/document/9300074):\n",
        "\n",
        "* House prices are a significant impression of the economy, and its value ranges are of great concerns for the clients and property dealers. \n",
        "\n",
        "* Housing price escalate every year that eventually reinforced the need of strategy or technique that could predict house prices in future. \n",
        "\n",
        "* There are certain factors that influence house prices including physical conditions, locations, number of bedrooms and others.\n"
      ]
    },
    {
      "cell_type": "markdown",
      "metadata": {
        "id": "a8Y2pf50FlYL"
      },
      "source": [
        "1. [Download the dataset](https://github.com/UL-CS6134/CS6134_SEM1_2021-2/tree/main/Week-5). \n",
        "\n",
        "2. Upload the dataset into your folder.\n",
        "\n"
      ]
    },
    {
      "cell_type": "markdown",
      "metadata": {
        "id": "FMkdCQEmKTof"
      },
      "source": [
        "The challenge is to predict the final price of each house."
      ]
    },
    {
      "cell_type": "markdown",
      "metadata": {
        "id": "2PMoPLlUJ1Ly"
      },
      "source": [
        "## Loading and preparing training data"
      ]
    },
    {
      "cell_type": "code",
      "execution_count": 2,
      "metadata": {},
      "outputs": [
        {
          "name": "stdout",
          "output_type": "stream",
          "text": [
            "Loaded training set of shape (1638, 12)\n",
            "Loaded training set of shape (702, 11)\n"
          ]
        }
      ],
      "source": [
        "dir_path = os.path.join(os.getcwd(), \"house_prices\")\n",
        "train_fname = \"HousePrice_Train.csv\"\n",
        "test_fname = \"HousePrice_Test.csv\"\n",
        "\n",
        "train_set = (\n",
        "    pd.read_csv(os.path.join(dir_path, train_fname),)\n",
        "    .rename(columns=lambda x: x.lower())\n",
        "    .set_index(\"index\")\n",
        "    .drop(columns=\"id\")\n",
        ")\n",
        "print(\"Loaded training set of shape\", train_set.shape)\n",
        "\n",
        "\n",
        "test_set = (\n",
        "    pd.read_csv(os.path.join(dir_path, test_fname),)\n",
        "    .rename(columns=lambda x: x.lower())\n",
        "    .set_index(\"index\")\n",
        "    .drop(columns=\"id\")\n",
        ")\n",
        "print(\"Loaded training set of shape\", test_set.shape)"
      ]
    },
    {
      "cell_type": "markdown",
      "metadata": {},
      "source": [
        "### Examining missing data\n",
        "Check the number of missing entries in the training set"
      ]
    },
    {
      "cell_type": "code",
      "execution_count": 3,
      "metadata": {},
      "outputs": [
        {
          "data": {
            "text/plain": [
              "location            0\n",
              "num_bathrooms       0\n",
              "num_beds            0\n",
              "ber_class         251\n",
              "description         0\n",
              "services         1061\n",
              "features            0\n",
              "latitude            0\n",
              "longitude           0\n",
              "type                0\n",
              "surface             0\n",
              "price               0\n",
              "dtype: int64"
            ]
          },
          "execution_count": 3,
          "metadata": {},
          "output_type": "execute_result"
        }
      ],
      "source": [
        "train_set.isna().sum()"
      ]
    },
    {
      "cell_type": "markdown",
      "metadata": {},
      "source": [
        "While the above shows we don't have many missing values, this is actually incorrect! The text columns have entries with \"None\" as strings instead of `None`, we need to replace these. \n",
        "\n",
        "I'll also drop `location` as this will already be represented by the `latitude` and `longitude` features"
      ]
    },
    {
      "cell_type": "code",
      "execution_count": 4,
      "metadata": {},
      "outputs": [
        {
          "data": {
            "text/plain": [
              "num_bathrooms       0\n",
              "num_beds            0\n",
              "latitude            0\n",
              "longitude           0\n",
              "surface             0\n",
              "price               0\n",
              "ber_class         251\n",
              "description         0\n",
              "services         1061\n",
              "features          516\n",
              "type                0\n",
              "dtype: int64"
            ]
          },
          "execution_count": 4,
          "metadata": {},
          "output_type": "execute_result"
        }
      ],
      "source": [
        "string_features = train_set.select_dtypes(\"object\").copy()\n",
        "string_features = string_features.where(string_features != \"None\", None)\n",
        "\n",
        "train_set.drop(columns=string_features.columns, inplace=True)\n",
        "train_set = pd.concat([train_set, string_features], axis=1).drop(columns=\"location\")\n",
        "train_set.isna().sum()"
      ]
    },
    {
      "cell_type": "markdown",
      "metadata": {},
      "source": [
        "## Examining outliers\n",
        "Next let's try to identify outliers."
      ]
    },
    {
      "cell_type": "code",
      "execution_count": 5,
      "metadata": {},
      "outputs": [
        {
          "name": "stdout",
          "output_type": "stream",
          "text": [
            "Numeric columns: ['num_bathrooms', 'num_beds', 'latitude', 'longitude', 'surface', 'price']\n"
          ]
        },
        {
          "data": {
            "image/png": "[encoded data removed]",
            "text/plain": [
              "<Figure size 1440x504 with 6 Axes>"
            ]
          },
          "metadata": {
            "needs_background": "light"
          },
          "output_type": "display_data"
        }
      ],
      "source": [
        "def plot_numeric_feats(dataset, cmap=get_cmap(\"RdYlGn\").reversed()):\n",
        "    fig, axes = plt.subplots(1, 3, figsize=(20, 7))\n",
        "    scaled_price = dataset[\"price\"] / 10_000\n",
        "\n",
        "    dataset[[\"num_bathrooms\", \"num_beds\", \"price\"]].plot.scatter(\n",
        "        \"num_bathrooms\",\n",
        "        \"num_beds\",\n",
        "        s=scaled_price,\n",
        "        ax=axes[0],\n",
        "        alpha=0.6,\n",
        "        c=scaled_price,\n",
        "        cmap=cmap,\n",
        "    )\n",
        "    dataset[[\"latitude\", \"longitude\", \"price\"]].plot.scatter(\n",
        "        \"latitude\",\n",
        "        \"longitude\",\n",
        "        s=scaled_price,\n",
        "        ax=axes[1],\n",
        "        alpha=0.6,\n",
        "        c=scaled_price,\n",
        "        cmap=cmap,\n",
        "    )\n",
        "    dataset[[\"surface\", \"price\"]].plot.scatter(\n",
        "        \"surface\",\n",
        "        \"price\",\n",
        "        s=scaled_price,\n",
        "        ax=axes[2],\n",
        "        alpha=0.6,\n",
        "        c=scaled_price,\n",
        "        cmap=cmap,\n",
        "    )\n",
        "    fig.suptitle(\"Scatterplots for numeric features\", size=20)\n",
        "    fig.tight_layout()\n",
        "    plt.show()\n",
        "\n",
        "\n",
        "print(\"Numeric columns:\", train_set.select_dtypes([\"int\", \"float\"]).columns.tolist())\n",
        "plot_numeric_feats(train_set)"
      ]
    },
    {
      "cell_type": "markdown",
      "metadata": {},
      "source": [
        "THe scatterplots indicate the presences of a few outliers in the numeric features, let's examine them"
      ]
    },
    {
      "cell_type": "code",
      "execution_count": 6,
      "metadata": {},
      "outputs": [
        {
          "data": {
            "text/html": [
              "<div>\n",
              "<style scoped>\n",
              "    .dataframe tbody tr th:only-of-type {\n",
              "        vertical-align: middle;\n",
              "    }\n",
              "\n",
              "    .dataframe tbody tr th {\n",
              "        vertical-align: top;\n",
              "    }\n",
              "\n",
              "    .dataframe thead th {\n",
              "        text-align: right;\n",
              "    }\n",
              "</style>\n",
              "<table border=\"1\" class=\"dataframe\">\n",
              "  <thead>\n",
              "    <tr style=\"text-align: right;\">\n",
              "      <th></th>\n",
              "      <th>num_bathrooms</th>\n",
              "      <th>num_beds</th>\n",
              "      <th>latitude</th>\n",
              "      <th>longitude</th>\n",
              "      <th>surface</th>\n",
              "      <th>price</th>\n",
              "      <th>ber_class</th>\n",
              "      <th>description</th>\n",
              "      <th>features</th>\n",
              "      <th>type</th>\n",
              "    </tr>\n",
              "    <tr>\n",
              "      <th>index</th>\n",
              "      <th></th>\n",
              "      <th></th>\n",
              "      <th></th>\n",
              "      <th></th>\n",
              "      <th></th>\n",
              "      <th></th>\n",
              "      <th></th>\n",
              "      <th></th>\n",
              "      <th></th>\n",
              "      <th></th>\n",
              "    </tr>\n",
              "  </thead>\n",
              "  <tbody>\n",
              "    <tr>\n",
              "      <th>356</th>\n",
              "      <td>1</td>\n",
              "      <td>3</td>\n",
              "      <td>52.501856</td>\n",
              "      <td>-1.744995</td>\n",
              "      <td>79.00000</td>\n",
              "      <td>199000</td>\n",
              "      <td>NaN</td>\n",
              "      <td>RAY COOKE AUCTIONEERS take great pleasure in introducing this stunning three bedroom semi-detached family home to the market on Wheatfield Close, Dublin 22. \\n\\nThis ever sought after location is ...</td>\n",
              "      <td>None</td>\n",
              "      <td>semi-detached</td>\n",
              "    </tr>\n",
              "    <tr>\n",
              "      <th>507</th>\n",
              "      <td>1</td>\n",
              "      <td>4</td>\n",
              "      <td>53.474502</td>\n",
              "      <td>-6.343483</td>\n",
              "      <td>72236.38714</td>\n",
              "      <td>1100000</td>\n",
              "      <td>E1</td>\n",
              "      <td>Thornton Park is a superb modern equestrian centre offering top class facilities in a beautiful setting on approximately 17.85 acres located 25 minutes from Dublin s City Centre.\\n\\nThe state of t...</td>\n",
              "      <td>None</td>\n",
              "      <td>bungalow</td>\n",
              "    </tr>\n",
              "    <tr>\n",
              "      <th>558</th>\n",
              "      <td>15</td>\n",
              "      <td>15</td>\n",
              "      <td>53.335109</td>\n",
              "      <td>-6.331515</td>\n",
              "      <td>318.20000</td>\n",
              "      <td>775000</td>\n",
              "      <td>D1</td>\n",
              "      <td>umber 67 &amp;amp; 69 Jamestown Road represent a fantastic investment opportunity to the discerning investor bringing a previous rent roll of €106,600 which can be improved upon. Ideally located on a ...</td>\n",
              "      <td>18 separate units\\nTransport links including the LUAS\\nStriking distance of the city centre\\nRent roll €106,600\\nIn the heart of the village\\nLane access\\n</td>\n",
              "      <td>semi-detached</td>\n",
              "    </tr>\n",
              "    <tr>\n",
              "      <th>1100</th>\n",
              "      <td>15</td>\n",
              "      <td>15</td>\n",
              "      <td>53.287504</td>\n",
              "      <td>-6.146605</td>\n",
              "      <td>700.00000</td>\n",
              "      <td>1500000</td>\n",
              "      <td>NaN</td>\n",
              "      <td>A truly unique stone built house of great quality totalling approx. 700 sq.m/7534 sq.ft steeped in history and built on the original lands of Monkstown Castle in 1859 for the honourable J.W Vesey ...</td>\n",
              "      <td>Lift servicing all floors\\nVenetian and gothic influences throughout\\nArchitect designed by Dean and Woodward in 1858\\nUsed previously both as a guest house and a nursing home\\nAmple off street pa...</td>\n",
              "      <td>detached</td>\n",
              "    </tr>\n",
              "    <tr>\n",
              "      <th>1116</th>\n",
              "      <td>1</td>\n",
              "      <td>2</td>\n",
              "      <td>53.386540</td>\n",
              "      <td>-6.377356</td>\n",
              "      <td>6705.00000</td>\n",
              "      <td>425000</td>\n",
              "      <td>E2</td>\n",
              "      <td>Baxter Real Estate are delighted to present to the market, this detached bungalow located on Main Street, Blanchardstown. Most recently used as a dental surgery, this property extends to approxima...</td>\n",
              "      <td>Short drive to the N3 and M50 .\\nSuitable for residential use, subject to planing permission.\\nWithin walking distance of Blanchardstown Shopping Centre and beside Supervalu Blanchardstown.\\nDetac...</td>\n",
              "      <td>bungalow</td>\n",
              "    </tr>\n",
              "    <tr>\n",
              "      <th>1379</th>\n",
              "      <td>18</td>\n",
              "      <td>27</td>\n",
              "      <td>53.260955</td>\n",
              "      <td>-6.117266</td>\n",
              "      <td>1490.00000</td>\n",
              "      <td>4500000</td>\n",
              "      <td>NaN</td>\n",
              "      <td>The Grove is an imposing Victorian mansion built c.1840 situated on approximately 0.88 ha / 2.17 acres of mature elevated grounds with outstanding sea views across Killiney Bay. With accommodation...</td>\n",
              "      <td>Approx. 1 490 sq. m / 16 041 sq. ft. of accommodation over four floors\\nSituated on mature grounds of approximately 0.88 ha / 2.17 acres\\nAbundance of period features\\nOutstanding sea views across...</td>\n",
              "      <td>detached</td>\n",
              "    </tr>\n",
              "  </tbody>\n",
              "</table>\n",
              "</div>"
            ],
            "text/plain": [
              "       num_bathrooms  num_beds   latitude  longitude      surface    price  \\\n",
              "index                                                                        \n",
              "356                1         3  52.501856  -1.744995     79.00000   199000   \n",
              "507                1         4  53.474502  -6.343483  72236.38714  1100000   \n",
              "558               15        15  53.335109  -6.331515    318.20000   775000   \n",
              "1100              15        15  53.287504  -6.146605    700.00000  1500000   \n",
              "1116               1         2  53.386540  -6.377356   6705.00000   425000   \n",
              "1379              18        27  53.260955  -6.117266   1490.00000  4500000   \n",
              "\n",
              "      ber_class  \\\n",
              "index             \n",
              "356         NaN   \n",
              "507          E1   \n",
              "558          D1   \n",
              "1100        NaN   \n",
              "1116         E2   \n",
              "1379        NaN   \n",
              "\n",
              "                                                                                                                                                                                                   description  \\\n",
              "index                                                                                                                                                                                                            \n",
              "356    RAY COOKE AUCTIONEERS take great pleasure in introducing this stunning three bedroom semi-detached family home to the market on Wheatfield Close, Dublin 22. \\n\\nThis ever sought after location is ...   \n",
              "507    Thornton Park is a superb modern equestrian centre offering top class facilities in a beautiful setting on approximately 17.85 acres located 25 minutes from Dublin s City Centre.\\n\\nThe state of t...   \n",
              "558    umber 67 &amp; 69 Jamestown Road represent a fantastic investment opportunity to the discerning investor bringing a previous rent roll of €106,600 which can be improved upon. Ideally located on a ...   \n",
              "1100   A truly unique stone built house of great quality totalling approx. 700 sq.m/7534 sq.ft steeped in history and built on the original lands of Monkstown Castle in 1859 for the honourable J.W Vesey ...   \n",
              "1116   Baxter Real Estate are delighted to present to the market, this detached bungalow located on Main Street, Blanchardstown. Most recently used as a dental surgery, this property extends to approxima...   \n",
              "1379   The Grove is an imposing Victorian mansion built c.1840 situated on approximately 0.88 ha / 2.17 acres of mature elevated grounds with outstanding sea views across Killiney Bay. With accommodation...   \n",
              "\n",
              "                                                                                                                                                                                                      features  \\\n",
              "index                                                                                                                                                                                                            \n",
              "356                                                                                                                                                                                                       None   \n",
              "507                                                                                                                                                                                                       None   \n",
              "558                                                18 separate units\\nTransport links including the LUAS\\nStriking distance of the city centre\\nRent roll €106,600\\nIn the heart of the village\\nLane access\\n   \n",
              "1100   Lift servicing all floors\\nVenetian and gothic influences throughout\\nArchitect designed by Dean and Woodward in 1858\\nUsed previously both as a guest house and a nursing home\\nAmple off street pa...   \n",
              "1116   Short drive to the N3 and M50 .\\nSuitable for residential use, subject to planing permission.\\nWithin walking distance of Blanchardstown Shopping Centre and beside Supervalu Blanchardstown.\\nDetac...   \n",
              "1379   Approx. 1 490 sq. m / 16 041 sq. ft. of accommodation over four floors\\nSituated on mature grounds of approximately 0.88 ha / 2.17 acres\\nAbundance of period features\\nOutstanding sea views across...   \n",
              "\n",
              "                type  \n",
              "index                 \n",
              "356    semi-detached  \n",
              "507         bungalow  \n",
              "558    semi-detached  \n",
              "1100        detached  \n",
              "1116        bungalow  \n",
              "1379        detached  "
            ]
          },
          "execution_count": 6,
          "metadata": {},
          "output_type": "execute_result"
        }
      ],
      "source": [
        "bathroom_mask = train_set[\"num_bathrooms\"] > 10\n",
        "longitude_mask = train_set[\"longitude\"] > -5\n",
        "surface_mask = train_set[\"surface\"] > 5_000\n",
        "\n",
        "train_set_outliers = train_set[bathroom_mask | longitude_mask | surface_mask]\n",
        "pd.set_option(\"max_colwidth\", 200)\n",
        "train_set_outliers.drop(columns=[\"services\"])"
      ]
    },
    {
      "cell_type": "markdown",
      "metadata": {},
      "source": [
        "### Outlier analysis\n",
        "- index 356 : Has incorrect latitude. A google maps search shows this location is in Birmingham, UK\n",
        "- index 507 : Is not a house but an equestrian centre with 17 acres\n",
        "- index 558 : 15 beds and bathrooms shows that is actually a number of units\n",
        "- index 1100 : Is actually fine, the house is just a big mansion.\n",
        "- index 1116 : Incorrect value for surface, the description shows it is 67.5sqm\n",
        "- index 1379 : Another mansion\n",
        "\n",
        "Overall the first three entries could be removed from the dataset for showing poor data quality and `index 1116` can be fixed manually. \n",
        "\n",
        "The only decision lies within leaving the two ads for mansions in the dataset or not. The scatterplot above shows that these mansions have an abnormal number of bathrooms/bedrooms when compared with the rest of the houses, hence I'll choose to remove them"
      ]
    },
    {
      "cell_type": "code",
      "execution_count": 7,
      "metadata": {},
      "outputs": [
        {
          "data": {
            "image/png": "[encoded data removed]",
            "text/plain": [
              "<Figure size 1440x504 with 6 Axes>"
            ]
          },
          "metadata": {
            "needs_background": "light"
          },
          "output_type": "display_data"
        }
      ],
      "source": [
        "pd.reset_option(\"max_colwidth\")\n",
        "\n",
        "drop_index = [356, 507, 558, 1100, 1379]\n",
        "fix_index = 1116\n",
        "\n",
        "cleaned_train_set = train_set.drop(index=drop_index)\n",
        "cleaned_train_set.loc[fix_index, \"surface\"] = (\n",
        "    cleaned_train_set.loc[fix_index, \"surface\"] / 100\n",
        ")\n",
        "plot_numeric_feats(cleaned_train_set)"
      ]
    },
    {
      "cell_type": "markdown",
      "metadata": {},
      "source": [
        "Now the datapoints look much better distributed, let's do some more feature selection"
      ]
    },
    {
      "cell_type": "code",
      "execution_count": 8,
      "metadata": {},
      "outputs": [
        {
          "data": {
            "image/png": "[encoded data removed]",
            "text/plain": [
              "<Figure size 864x432 with 1 Axes>"
            ]
          },
          "metadata": {
            "needs_background": "light"
          },
          "output_type": "display_data"
        }
      ],
      "source": [
        "X, y = cleaned_train_set.drop(columns=\"price\"), cleaned_train_set[\"price\"]\n",
        "\n",
        "y_scaler = StandardScaler()\n",
        "y_scaled = y_scaler.fit_transform(np.log(y.values.reshape(-1, 1)))\n",
        "\n",
        "plt.figure(figsize=(12, 6))\n",
        "plt.title(\"Histogram of $log{y}$ after scaling\")\n",
        "plt.hist(y_scaled)\n",
        "plt.show()"
      ]
    },
    {
      "cell_type": "code",
      "execution_count": 9,
      "metadata": {},
      "outputs": [],
      "source": [
        "X_numeric = X.select_dtypes([\"int\", \"float\"])\n",
        "\n",
        "feature_scaler = StandardScaler()\n",
        "X_num_scaled = feature_scaler.fit_transform(X_numeric)"
      ]
    },
    {
      "cell_type": "markdown",
      "metadata": {},
      "source": [
        "# Baseline model\n",
        "Let's set some baseline models that predict mean and median house price so we have a start point for our more advanced models"
      ]
    },
    {
      "cell_type": "code",
      "execution_count": 10,
      "metadata": {},
      "outputs": [],
      "source": [
        "def print_evaluation(y, y_preds, model_name=\"Baseline Mean\"):\n",
        "    mae = mean_absolute_error(y, y_preds)\n",
        "    msle = mean_squared_log_error(y, y_preds)\n",
        "    rmsle = np.sqrt(msle)\n",
        "    mape = mean_absolute_percentage_error(y, y_preds)\n",
        "\n",
        "    print(f\"------ {model_name} model performance ------\")\n",
        "    print(f\"MAE: {mae:,.2f}\")\n",
        "    print(f\"MSLE: {msle:,.4f}\")\n",
        "    print(f\"RMSLE: {rmsle:,.4f}\")\n",
        "    print(f\"MAPE: {mape:,.4f}\")\n",
        "\n",
        "\n",
        "def baseline_mean(y, y_scaler, evaluate=True):\n",
        "    \"\"\"Creates a set of predictions for X using solely the mean of training samples\"\"\"\n",
        "    y_true = np.exp(y_scaler.inverse_transform(y))\n",
        "    y_preds = np.exp(y_scaler.inverse_transform(np.ones(shape=(y.shape)) * np.mean(y)))\n",
        "\n",
        "    if evaluate:\n",
        "        print_evaluation(y_true, y_preds)\n",
        "    return y_preds\n",
        "\n",
        "\n",
        "def baseline_median(y, y_scaler, evaluate=True):\n",
        "    \"\"\"Creates a set of predictions for X using solely the median of training samples\"\"\"\n",
        "    y_true = np.exp(y_scaler.inverse_transform(y))\n",
        "    y_preds = np.exp(\n",
        "        y_scaler.inverse_transform(np.ones(shape=(y.shape)) * np.median(y))\n",
        "    )\n",
        "\n",
        "    if evaluate:\n",
        "        print_evaluation(y_true, y_preds)\n",
        "    return y_preds"
      ]
    },
    {
      "cell_type": "code",
      "execution_count": 11,
      "metadata": {},
      "outputs": [
        {
          "name": "stdout",
          "output_type": "stream",
          "text": [
            "------ Baseline Mean model performance ------\n",
            "MAE: 263,449.64\n",
            "MSLE: 0.3517\n",
            "RMSLE: 0.5930\n",
            "MAPE: 0.4663\n",
            "------ Baseline Mean model performance ------\n",
            "MAE: 260,487.51\n",
            "MSLE: 0.3642\n",
            "RMSLE: 0.6035\n",
            "MAPE: 0.4104\n"
          ]
        }
      ],
      "source": [
        "train_price = cleaned_train_set[\"price\"].to_numpy().reshape(-1, 1)\n",
        "\n",
        "y_train_mean = baseline_mean(y_scaled, y_scaler)\n",
        "y_train_median = baseline_median(y_scaled, y_scaler, \"Baseline median\")"
      ]
    },
    {
      "cell_type": "markdown",
      "metadata": {},
      "source": [
        "Create a dummy submission using these models"
      ]
    },
    {
      "cell_type": "code",
      "execution_count": 12,
      "metadata": {},
      "outputs": [],
      "source": [
        "test_set = pd.read_csv(os.path.join(dir_path, test_fname))\n",
        "copy = test_set.copy()\n",
        "\n",
        "y_test_mean_preds = y_train_mean[: test_set.shape[0]]\n",
        "y_test_median_preds = y_train_median[: test_set.shape[0]]\n",
        "\n",
        "copy[\"Price\"] = y_test_mean_preds\n",
        "copy[[\"Index\", \"Price\"]].to_csv(\n",
        "    os.path.join(dir_path, \"preds/\", \"mean_preds.csv\"), index=False\n",
        ")\n",
        "copy[\"Price\"] = y_test_mean_preds\n",
        "copy[[\"Index\", \"Price\"]].to_csv(\n",
        "    os.path.join(dir_path, \"preds/\", \"median_preds.csv\"), index=False\n",
        ")"
      ]
    },
    {
      "cell_type": "markdown",
      "metadata": {},
      "source": [
        "As expected horrible, but now we have something we can improve on"
      ]
    },
    {
      "cell_type": "markdown",
      "metadata": {
        "id": "G5oRiZxo2gpN"
      },
      "source": [
        "# NATURAL LANGUAGE PROCESSING"
      ]
    },
    {
      "cell_type": "markdown",
      "metadata": {
        "id": "e8s0Wi3a8yjN"
      },
      "source": [
        "Natural language processing ([NLP](https://en.wikipedia.org/wiki/Natural_language_processing)) is a subfield of linguistics, computer science, and artificial intelligence.\n",
        "\n",
        "* NLP concerned with the interactions between computers and human language.\n",
        "* In particular how to program computers to process and analyze large amounts of natural language data. \n",
        "* The goal is a computer capable of \"understanding\" the contents of documents.\n",
        "* Including the contextual nuances of the language within them. \n",
        "* The technology can then accurately extract information and insights contained in the documents.\n",
        "* As well as categorize and organize the documents themselves. "
      ]
    },
    {
      "cell_type": "markdown",
      "metadata": {},
      "source": [
        "Let's now examine text features. We already know that `ber_class` and `type` can be encoded so let's separate them."
      ]
    },
    {
      "cell_type": "code",
      "execution_count": 13,
      "metadata": {},
      "outputs": [
        {
          "data": {
            "text/html": [
              "<div>\n",
              "<style scoped>\n",
              "    .dataframe tbody tr th:only-of-type {\n",
              "        vertical-align: middle;\n",
              "    }\n",
              "\n",
              "    .dataframe tbody tr th {\n",
              "        vertical-align: top;\n",
              "    }\n",
              "\n",
              "    .dataframe thead th {\n",
              "        text-align: right;\n",
              "    }\n",
              "</style>\n",
              "<table border=\"1\" class=\"dataframe\">\n",
              "  <thead>\n",
              "    <tr style=\"text-align: right;\">\n",
              "      <th></th>\n",
              "      <th>ber_class</th>\n",
              "      <th>description</th>\n",
              "      <th>services</th>\n",
              "      <th>features</th>\n",
              "      <th>type</th>\n",
              "    </tr>\n",
              "    <tr>\n",
              "      <th>index</th>\n",
              "      <th></th>\n",
              "      <th></th>\n",
              "      <th></th>\n",
              "      <th></th>\n",
              "      <th></th>\n",
              "    </tr>\n",
              "  </thead>\n",
              "  <tbody>\n",
              "    <tr>\n",
              "      <th>1412</th>\n",
              "      <td>C1</td>\n",
              "      <td>BRACKEN ESTATES 01 4966444 are delighted to br...</td>\n",
              "      <td>Parking,Gas Fired Central Heating,Alarm,Wired ...</td>\n",
              "      <td>Extending to approx. 197 square metres\\nBeauti...</td>\n",
              "      <td>townhouse</td>\n",
              "    </tr>\n",
              "    <tr>\n",
              "      <th>1536</th>\n",
              "      <td>E1</td>\n",
              "      <td>Mason Estates present this spacious four bedro...</td>\n",
              "      <td>NaN</td>\n",
              "      <td>Property offers great potential \\nBright spaci...</td>\n",
              "      <td>semi-detached</td>\n",
              "    </tr>\n",
              "    <tr>\n",
              "      <th>541</th>\n",
              "      <td>NaN</td>\n",
              "      <td>RAY COOKE AUCTIONEERS are delighted to present...</td>\n",
              "      <td>NaN</td>\n",
              "      <td>None</td>\n",
              "      <td>terraced</td>\n",
              "    </tr>\n",
              "    <tr>\n",
              "      <th>231</th>\n",
              "      <td>C1</td>\n",
              "      <td>Horan Estate &amp;amp; Letting Agents are delighte...</td>\n",
              "      <td>Parking</td>\n",
              "      <td>Within drive distance to Omni Shopping Centre\\...</td>\n",
              "      <td>apartment</td>\n",
              "    </tr>\n",
              "    <tr>\n",
              "      <th>562</th>\n",
              "      <td>C3</td>\n",
              "      <td>DNG are delighted to present to the market an ...</td>\n",
              "      <td>Parking,Gas Fired Central Heating,Alarm</td>\n",
              "      <td>2 bed ground floor own door apartment c.78.75s...</td>\n",
              "      <td>apartment</td>\n",
              "    </tr>\n",
              "  </tbody>\n",
              "</table>\n",
              "</div>"
            ],
            "text/plain": [
              "      ber_class                                        description  \\\n",
              "index                                                                \n",
              "1412         C1  BRACKEN ESTATES 01 4966444 are delighted to br...   \n",
              "1536         E1  Mason Estates present this spacious four bedro...   \n",
              "541         NaN  RAY COOKE AUCTIONEERS are delighted to present...   \n",
              "231          C1  Horan Estate &amp; Letting Agents are delighte...   \n",
              "562          C3  DNG are delighted to present to the market an ...   \n",
              "\n",
              "                                                services  \\\n",
              "index                                                      \n",
              "1412   Parking,Gas Fired Central Heating,Alarm,Wired ...   \n",
              "1536                                                 NaN   \n",
              "541                                                  NaN   \n",
              "231                                              Parking   \n",
              "562              Parking,Gas Fired Central Heating,Alarm   \n",
              "\n",
              "                                                features           type  \n",
              "index                                                                    \n",
              "1412   Extending to approx. 197 square metres\\nBeauti...      townhouse  \n",
              "1536   Property offers great potential \\nBright spaci...  semi-detached  \n",
              "541                                                 None       terraced  \n",
              "231    Within drive distance to Omni Shopping Centre\\...      apartment  \n",
              "562    2 bed ground floor own door apartment c.78.75s...      apartment  "
            ]
          },
          "execution_count": 13,
          "metadata": {},
          "output_type": "execute_result"
        }
      ],
      "source": [
        "encoding_features = [\"ber_class\", \"type\"]\n",
        "\n",
        "X_txt = X.select_dtypes(\"object\")\n",
        "X_txt.sample(5, random_state=random_state)"
      ]
    },
    {
      "cell_type": "markdown",
      "metadata": {},
      "source": [
        "There are some characters that need to be cleaned from `description` and `features`, let's remove `\\n`, `\\r` and variants"
      ]
    },
    {
      "cell_type": "code",
      "execution_count": 14,
      "metadata": {},
      "outputs": [],
      "source": [
        "def clean_texts(series):\n",
        "    \"\"\"Cleans linebreaks, tabs return character, punctuation and double spacing in a Series of strings.\"\"\"\n",
        "    clean_series = series.copy().str.replace(r\"\\t|\\n|\\r\", \" \", regex=True)\n",
        "    clean_series = clean_series.str.replace(r\"[,.?!:;\\[\\]/\\(\\)'\\\"]\", \" \", regex=True)\n",
        "    clean_series = clean_series.str.replace(r\"\\s+\", \" \", regex=True)\n",
        "    return clean_series.str.lower()\n",
        "\n",
        "\n",
        "def map_ber(series):\n",
        "    \"\"\"Removes the numerical rating for BER, yielding only the letter rating.\n",
        "\n",
        "    I'm trying this strategy as class A1 has only one sample, which doesn't allow for \n",
        "    upsampling with SMOTE. In addition, using only a letter rating yields a smaller number\n",
        "    of classes and can make the problem of estimating new BER classes easier\n",
        "    \"\"\"\n",
        "    clean_ber = series.str.replace(\"SINo666of2006exempt\", \"EX\")\n",
        "    clean_ber = clean_ber.str.replace(r\"\\d+\", \"\", regex=True)\n",
        "    return clean_ber"
      ]
    },
    {
      "cell_type": "code",
      "execution_count": 15,
      "metadata": {},
      "outputs": [
        {
          "data": {
            "text/html": [
              "<div>\n",
              "<style scoped>\n",
              "    .dataframe tbody tr th:only-of-type {\n",
              "        vertical-align: middle;\n",
              "    }\n",
              "\n",
              "    .dataframe tbody tr th {\n",
              "        vertical-align: top;\n",
              "    }\n",
              "\n",
              "    .dataframe thead th {\n",
              "        text-align: right;\n",
              "    }\n",
              "</style>\n",
              "<table border=\"1\" class=\"dataframe\">\n",
              "  <thead>\n",
              "    <tr style=\"text-align: right;\">\n",
              "      <th></th>\n",
              "      <th>description</th>\n",
              "      <th>features</th>\n",
              "      <th>ber_class</th>\n",
              "    </tr>\n",
              "    <tr>\n",
              "      <th>index</th>\n",
              "      <th></th>\n",
              "      <th></th>\n",
              "      <th></th>\n",
              "    </tr>\n",
              "  </thead>\n",
              "  <tbody>\n",
              "    <tr>\n",
              "      <th>1412</th>\n",
              "      <td>bracken estates 01 4966444 are delighted to br...</td>\n",
              "      <td>extending to approx 197 square metres beautifu...</td>\n",
              "      <td>C</td>\n",
              "    </tr>\n",
              "    <tr>\n",
              "      <th>1536</th>\n",
              "      <td>mason estates present this spacious four bedro...</td>\n",
              "      <td>property offers great potential bright spaciou...</td>\n",
              "      <td>E</td>\n",
              "    </tr>\n",
              "    <tr>\n",
              "      <th>541</th>\n",
              "      <td>ray cooke auctioneers are delighted to present...</td>\n",
              "      <td>None</td>\n",
              "      <td>NaN</td>\n",
              "    </tr>\n",
              "  </tbody>\n",
              "</table>\n",
              "</div>"
            ],
            "text/plain": [
              "                                             description  \\\n",
              "index                                                      \n",
              "1412   bracken estates 01 4966444 are delighted to br...   \n",
              "1536   mason estates present this spacious four bedro...   \n",
              "541    ray cooke auctioneers are delighted to present...   \n",
              "\n",
              "                                                features ber_class  \n",
              "index                                                               \n",
              "1412   extending to approx 197 square metres beautifu...         C  \n",
              "1536   property offers great potential bright spaciou...         E  \n",
              "541                                                 None       NaN  "
            ]
          },
          "execution_count": 15,
          "metadata": {},
          "output_type": "execute_result"
        }
      ],
      "source": [
        "X_txt.loc[:, \"description\"] = clean_texts(X_txt.loc[:, \"description\"])\n",
        "X_txt.loc[:, \"features\"] = clean_texts(X_txt.loc[:, \"features\"])\n",
        "X_txt.loc[:, \"ber_class\"] = map_ber(X_txt.loc[:, \"ber_class\"])\n",
        "\n",
        "X_txt[[\"description\", \"features\", \"ber_class\"]].sample(3, random_state=random_state)"
      ]
    },
    {
      "cell_type": "code",
      "execution_count": 16,
      "metadata": {},
      "outputs": [
        {
          "data": {
            "text/plain": [
              "ber_class       248\n",
              "description       0\n",
              "services       1058\n",
              "features        514\n",
              "type              0\n",
              "dtype: int64"
            ]
          },
          "execution_count": 16,
          "metadata": {},
          "output_type": "execute_result"
        }
      ],
      "source": [
        "X_txt.isna().sum()"
      ]
    },
    {
      "cell_type": "markdown",
      "metadata": {},
      "source": [
        "`ber_class` and `services` have many null entries, but perhaps we can use other features to estimate `ber_class`?\n",
        "\n",
        "First we isolate the instances that have missing values and preprocess the training data by vectorizing and upsampling the targe classes"
      ]
    },
    {
      "cell_type": "code",
      "execution_count": 17,
      "metadata": {},
      "outputs": [
        {
          "name": "stdout",
          "output_type": "stream",
          "text": [
            "BER training set shape: (2903, 11102)\n",
            "BER test set shape: (513, 11102)\n"
          ]
        }
      ],
      "source": [
        "# Let's separate entries where ber_class is missing, we want to fill these in\n",
        "missing_ber = X_txt[\"ber_class\"].isna()\n",
        "X_missing = X_txt.loc[missing_ber, \"description\"].copy()\n",
        "\n",
        "X_ber = X_txt.loc[~missing_ber, \"description\"].copy()\n",
        "y_ber = X_txt.loc[~missing_ber, \"ber_class\"].copy()\n",
        "\n",
        "label_encoder = LabelEncoder()\n",
        "y_ber_encoded = label_encoder.fit_transform(y_ber)\n",
        "\n",
        "vectorizer = TfidfVectorizer()\n",
        "X_ber_vec = vectorizer.fit_transform(X_ber)\n",
        "\n",
        "smote = SMOTETomek(random_state=random_state)\n",
        "X_ber_bal, y_ber_bal = smote.fit_resample(X_ber_vec, y_ber_encoded)\n",
        "\n",
        "X_ber_train, X_ber_test, y_ber_train, y_ber_test = train_test_split(\n",
        "    X_ber_bal, y_ber_bal, train_size=0.85, random_state=random_state,\n",
        ")\n",
        "print(f\"BER training set shape: {X_ber_train.shape}\")\n",
        "print(f\"BER test set shape: {X_ber_test.shape}\")"
      ]
    },
    {
      "cell_type": "markdown",
      "metadata": {},
      "source": [
        "Now let's use grid search to find the best model for this task."
      ]
    },
    {
      "cell_type": "code",
      "execution_count": 18,
      "metadata": {},
      "outputs": [
        {
          "name": "stdout",
          "output_type": "stream",
          "text": [
            "Fitting 3 folds for each of 48 candidates, totalling 144 fits\n",
            "Pipeline(steps=[('model',\n",
            "                 SVC(C=1.05, degree=2, kernel='poly', random_state=188245))])\n",
            "              precision    recall  f1-score   support\n",
            "\n",
            "           A       1.00      1.00      1.00        69\n",
            "           B       0.90      0.98      0.94        54\n",
            "           C       0.56      0.58      0.57        62\n",
            "           D       0.58      0.58      0.58        67\n",
            "           E       0.85      0.74      0.79        68\n",
            "          EX       1.00      1.00      1.00        51\n",
            "           F       1.00      1.00      1.00        71\n",
            "           G       0.93      0.96      0.94        71\n",
            "\n",
            "    accuracy                           0.85       513\n",
            "   macro avg       0.85      0.85      0.85       513\n",
            "weighted avg       0.85      0.85      0.85       513\n",
            "\n"
          ]
        }
      ],
      "source": [
        "pipeline = Pipeline([(\"model\", RandomForestClassifier(random_state=random_state)),])\n",
        "\n",
        "param_grid = [\n",
        "    {\n",
        "        \"model\": [RandomForestClassifier()],\n",
        "        \"model__random_state\": [random_state],\n",
        "        \"model__n_estimators\": range(107, 115, 1),\n",
        "        \"model__max_depth\": range(37, 42),\n",
        "    },\n",
        "    {\n",
        "        \"model\": [SVC()],\n",
        "        \"model__random_state\": [random_state],\n",
        "        \"model__C\": np.arange(0.95, 1.15, 0.1),\n",
        "        \"model__kernel\": [\"poly\", \"rbf\"],\n",
        "        \"model__degree\": [2, 3],\n",
        "        \"model__gamma\": [\"scale\"],\n",
        "    },\n",
        "]\n",
        "grid_search = GridSearchCV(\n",
        "    pipeline, param_grid, scoring=\"accuracy\", cv=3, verbose=3, n_jobs=-1\n",
        ")\n",
        "grid_search.fit(X_ber_train, y_ber_train)\n",
        "best_clf = grid_search.best_estimator_\n",
        "print(best_clf)\n",
        "\n",
        "y_ber_preds = best_clf.predict(X_ber_test)\n",
        "print(\n",
        "    classification_report(\n",
        "        y_ber_test, y_ber_preds, zero_division=0, target_names=label_encoder.classes_\n",
        "    )\n",
        ")"
      ]
    },
    {
      "cell_type": "markdown",
      "metadata": {},
      "source": [
        "We found a model with decent enough accuracy, let's use this to fill in the missing values now"
      ]
    },
    {
      "cell_type": "code",
      "execution_count": 19,
      "metadata": {},
      "outputs": [
        {
          "name": "stdout",
          "output_type": "stream",
          "text": [
            "There are 0 missing BER values\n"
          ]
        }
      ],
      "source": [
        "missing_preds = label_encoder.inverse_transform(\n",
        "    best_clf.predict(vectorizer.transform(X_missing.copy()))\n",
        ")\n",
        "X_txt.loc[missing_ber, \"ber_class\"] = missing_preds\n",
        "\n",
        "print(f\"There are {X_txt['ber_class'].isna().sum()} missing BER values\")"
      ]
    },
    {
      "cell_type": "markdown",
      "metadata": {
        "id": "oValFP-z2gpN"
      },
      "source": [
        "## Encoding text variables\n",
        "Now we have all values for BER filled in, we can encode `ber_class` and `type` as features to use for regression"
      ]
    },
    {
      "cell_type": "code",
      "execution_count": 20,
      "metadata": {},
      "outputs": [
        {
          "data": {
            "text/html": [
              "<div>\n",
              "<style scoped>\n",
              "    .dataframe tbody tr th:only-of-type {\n",
              "        vertical-align: middle;\n",
              "    }\n",
              "\n",
              "    .dataframe tbody tr th {\n",
              "        vertical-align: top;\n",
              "    }\n",
              "\n",
              "    .dataframe thead th {\n",
              "        text-align: right;\n",
              "    }\n",
              "</style>\n",
              "<table border=\"1\" class=\"dataframe\">\n",
              "  <thead>\n",
              "    <tr style=\"text-align: right;\">\n",
              "      <th></th>\n",
              "      <th>ber_class</th>\n",
              "      <th>type</th>\n",
              "    </tr>\n",
              "    <tr>\n",
              "      <th>index</th>\n",
              "      <th></th>\n",
              "      <th></th>\n",
              "    </tr>\n",
              "  </thead>\n",
              "  <tbody>\n",
              "    <tr>\n",
              "      <th>1</th>\n",
              "      <td>2</td>\n",
              "      <td>1</td>\n",
              "    </tr>\n",
              "    <tr>\n",
              "      <th>2</th>\n",
              "      <td>3</td>\n",
              "      <td>4</td>\n",
              "    </tr>\n",
              "    <tr>\n",
              "      <th>3</th>\n",
              "      <td>0</td>\n",
              "      <td>8</td>\n",
              "    </tr>\n",
              "    <tr>\n",
              "      <th>4</th>\n",
              "      <td>4</td>\n",
              "      <td>9</td>\n",
              "    </tr>\n",
              "    <tr>\n",
              "      <th>5</th>\n",
              "      <td>3</td>\n",
              "      <td>9</td>\n",
              "    </tr>\n",
              "  </tbody>\n",
              "</table>\n",
              "</div>"
            ],
            "text/plain": [
              "       ber_class  type\n",
              "index                 \n",
              "1              2     1\n",
              "2              3     4\n",
              "3              0     8\n",
              "4              4     9\n",
              "5              3     9"
            ]
          },
          "execution_count": 20,
          "metadata": {},
          "output_type": "execute_result"
        }
      ],
      "source": [
        "# Property maps as defined by Nigel Portley\n",
        "property_type_mapper = {\n",
        "    \"studio\": 0,\n",
        "    \"apartment\": 1,\n",
        "    \"duplex\": 2,\n",
        "    \"site\": 3,\n",
        "    \"terraced\": 4,\n",
        "    \"bungalow\": 5,\n",
        "    \"end-of-terrace\": 6,\n",
        "    \"townhouse\": 7,\n",
        "    \"semi-detached\": 8,\n",
        "    \"detached\": 9,\n",
        "}\n",
        "\n",
        "ber_encoder = OrdinalEncoder(dtype=\"int\")\n",
        "\n",
        "X_txt_features = X_txt[[\"ber_class\", \"type\"]].copy()\n",
        "X_txt_features[\"ber_class\"] = ber_encoder.fit_transform(\n",
        "    X_txt_features[\"ber_class\"].to_numpy().reshape(-1, 1)\n",
        ")\n",
        "X_txt_features[\"type\"] = X_txt_features[\"type\"].map(property_type_mapper)\n",
        "\n",
        "X_txt_features.head()"
      ]
    },
    {
      "cell_type": "markdown",
      "metadata": {},
      "source": [
        "# Create train/validation set\n",
        "\n",
        "The validation set will be used to fine-tune the models"
      ]
    },
    {
      "cell_type": "code",
      "execution_count": 21,
      "metadata": {},
      "outputs": [
        {
          "name": "stdout",
          "output_type": "stream",
          "text": [
            "X_train shape: (1143, 7)\n",
            "X_valid shape: (490, 7)\n"
          ]
        }
      ],
      "source": [
        "X_train_full = np.c_[X_num_scaled, X_txt_features.to_numpy()]\n",
        "\n",
        "X_train, X_valid, y_train, y_valid = train_test_split(\n",
        "    X_train_full, y_scaled, test_size=0.3, random_state=random_state\n",
        ")\n",
        "\n",
        "print(\"X_train shape:\", X_train.shape)\n",
        "print(\"X_valid shape:\", X_valid.shape)"
      ]
    },
    {
      "cell_type": "code",
      "execution_count": 22,
      "metadata": {},
      "outputs": [
        {
          "name": "stdout",
          "output_type": "stream",
          "text": [
            "X_train_num shape: (1143, 5)\n",
            "X_valid_num shape: (490, 5)\n"
          ]
        }
      ],
      "source": [
        "# Leaving this in to test model results with just numeric features\n",
        "\n",
        "X_train_num, X_valid_num, y_train_num, y_valid_num = train_test_split(\n",
        "    X_num_scaled, y_scaled, test_size=0.3, random_state=random_state\n",
        ")\n",
        "\n",
        "print(\"X_train_num shape:\", X_train_num.shape)\n",
        "print(\"X_valid_num shape:\", X_valid_num.shape)"
      ]
    },
    {
      "cell_type": "markdown",
      "metadata": {},
      "source": [
        "## Preparing the test set\n",
        "\n",
        "I'll also implement a function to prepare the test data so we can generate predictions and test them on Kaggle"
      ]
    },
    {
      "cell_type": "code",
      "execution_count": 23,
      "metadata": {},
      "outputs": [],
      "source": [
        "import warnings\n",
        "\n",
        "\n",
        "def prepare_test_set(\n",
        "    test_fname=\"HousePrice_Test.csv\",\n",
        "    dir_path=dir_path,\n",
        "    feature_scaler=feature_scaler,\n",
        "    vectorizer=vectorizer,\n",
        "    ber_model=best_clf,\n",
        "    ber_encoder=ber_encoder,\n",
        "    property_type_mapper=property_type_mapper,\n",
        "    feature_cols=[\n",
        "        \"num_bathrooms\",\n",
        "        \"num_beds\",\n",
        "        \"latitude\",\n",
        "        \"longitude\",\n",
        "        \"surface\",\n",
        "        \"ber_class\",\n",
        "        \"description\",\n",
        "        \"type\",\n",
        "    ],\n",
        "):\n",
        "    \"\"\"Implements a series of preprocessing methods on the test set\"\"\"\n",
        "\n",
        "    test_set = (\n",
        "        pd.read_csv(os.path.join(dir_path, test_fname))\n",
        "        .rename(columns=lambda x: x.lower())\n",
        "        .set_index(\"index\")\n",
        "        .drop(columns=\"id\")\n",
        "        .loc[:, feature_cols]\n",
        "    )\n",
        "    print(\"Loaded training set of shape\", test_set.shape)\n",
        "\n",
        "    X_num = test_set.select_dtypes([\"int\", \"float\"])\n",
        "    print(\"Scaling numeric columns:\", \" - \".join(X_num.columns))\n",
        "    X_num_scaled = feature_scaler.transform(X_num.to_numpy())\n",
        "\n",
        "    X_txt = test_set.select_dtypes(\"object\")\n",
        "    print(\"Preprocessing text columns:\", \" - \".join(X_txt.columns))\n",
        "    X_txt.loc[:, \"description\"] = clean_texts(X_txt.loc[:, \"description\"])\n",
        "    X_txt.loc[:, \"ber_class\"] = map_ber(X_txt.loc[:, \"ber_class\"])\n",
        "\n",
        "    missing_ber = X_txt[\"ber_class\"].isna()\n",
        "    if missing_ber.sum() > 0:\n",
        "        print(\n",
        "            f\"\\tfound {missing_ber.sum()} entries with missing BER class, using ber_model to fill in values\"\n",
        "        )\n",
        "        missing_preds = label_encoder.inverse_transform(\n",
        "            ber_model.predict(\n",
        "                vectorizer.transform(X_txt.loc[missing_ber, \"description\"].copy())\n",
        "            )\n",
        "        )\n",
        "        X_txt.loc[missing_ber, \"ber_class\"] = missing_preds\n",
        "    print(f\"Encoding text features\")\n",
        "    X_txt_features = X_txt[[\"ber_class\", \"type\"]].copy()\n",
        "    X_txt_features[\"ber_class\"] = ber_encoder.transform(\n",
        "        X_txt_features[\"ber_class\"].to_numpy().reshape(-1, 1)\n",
        "    )\n",
        "    X_txt_features[\"type\"] = X_txt_features[\"type\"].map(property_type_mapper)\n",
        "\n",
        "    X_test = np.c_[X_num_scaled, X_txt_features.to_numpy()]\n",
        "    print(f\"Generated final test set of shape {X_test.shape}\")\n",
        "\n",
        "    return test_set.index, X_test"
      ]
    },
    {
      "cell_type": "code",
      "execution_count": 24,
      "metadata": {},
      "outputs": [
        {
          "name": "stdout",
          "output_type": "stream",
          "text": [
            "Loaded training set of shape (702, 8)\n",
            "Scaling numeric columns: num_bathrooms - num_beds - latitude - longitude - surface\n",
            "Preprocessing text columns: ber_class - description - type\n",
            "\tfound 108 entries with missing BER class, using ber_model to fill in values\n",
            "Encoding text features\n",
            "Generated final test set of shape (702, 7)\n"
          ]
        }
      ],
      "source": [
        "test_indexes, X_test = prepare_test_set()"
      ]
    },
    {
      "cell_type": "markdown",
      "metadata": {},
      "source": [
        "# Full Regression"
      ]
    },
    {
      "cell_type": "code",
      "execution_count": 25,
      "metadata": {},
      "outputs": [],
      "source": [
        "def define_lin_reg(\n",
        "    predictors,\n",
        "    observed,\n",
        "    n_iterations=30_000,\n",
        "    n_samples=5_000,\n",
        "    alpha=(\"Normal\", 0, 10),\n",
        "    beta=(\"Normal\", 0, 10),\n",
        "    sigma=(\"HalfCauchy\", 5),\n",
        "):\n",
        "    \"\"\"Defines and trains a Bayesian linear regression model:\n",
        "            mu ~ alpha + beta * predictors\n",
        "    With likelihood\n",
        "            likelihood ~ N(mu, sigma)\n",
        "    Where alpha, beta and sigma are pymc distributions defined by the user.\n",
        "\n",
        "    Parameters\n",
        "    ----------\n",
        "    predictors : np.ndarray\n",
        "        Numpy array with model features.\n",
        "    observed : np.ndarray\n",
        "        Numpy array with observed values of the target feature. Preferably as a 1-D array\n",
        "        to speed up fitting time.\n",
        "    n_iterations : int\n",
        "        The number of iterations for fitting.\n",
        "    n_samples : int\n",
        "        The number of samples to draw for the posterior.\n",
        "    alpha : tuple(string, int, [int, ])\n",
        "        Prior distribution of alpha. The first argument should be a string with\n",
        "        a pymc3 model followed by 1 or more integer arguments for the parameters of that distribution.\n",
        "    beta : tuple(string, int, [int, ])\n",
        "        Prior distribution of beta. The first argument should be a string with\n",
        "        a pymc3 model followed by 1 or more integer arguments for the parameters of that distribution.\n",
        "    sigma : tuple(string, int, [int, ])\n",
        "        Prior distribution of sigma. The first argument should be a string with\n",
        "        a pymc3 model followed by 1 or more integer arguments for the parameters of that distribution.\n",
        "\n",
        "    Returns\n",
        "    -------\n",
        "    posterior : pymc3.backends.base.MultiTrace\n",
        "        Posterior distribution estimated by pymc model.\n",
        "    \"\"\"\n",
        "\n",
        "    with pm.Model() as model:\n",
        "        alpha = getattr(pm, alpha[0])(\"alpha\", *alpha[1:])\n",
        "        beta = getattr(pm, beta[0])(\"beta\", *beta[1:], shape=predictors.shape[1])\n",
        "\n",
        "        mu = alpha + pm.math.dot(beta, predictors.T)\n",
        "\n",
        "        sigma = getattr(pm, sigma[0])(\"sigma\", *sigma[1:])\n",
        "        likelihood = pm.Normal(\"likelihood\", mu=mu, sigma=sigma, observed=observed)\n",
        "        approximation = pm.fit(n_iterations, method=\"advi\", random_seed=random_state)\n",
        "        posterior = approximation.sample(n_samples)\n",
        "    return posterior\n",
        "\n",
        "\n",
        "def predict(posterior, X, y_scaler):\n",
        "    \"\"\"Calculates the predictions for a given X based on a learned posterior\n",
        "    \n",
        "    Parameters\n",
        "    ----------\n",
        "    posterior : pymc3.backends.base.MultiTrace.\n",
        "        Posterior distribution estimated by pymc model.\n",
        "    X : np.ndarray\n",
        "        Input features of data to estimate.\n",
        "    y_scaler : sklearn.preprocessing._data.StandardScaler\n",
        "        Scaler used to transform the predictor variable.\n",
        "    Returns\n",
        "    -------\n",
        "    np.ndarray\n",
        "        The model predictions.\n",
        "    \"\"\"\n",
        "    log_likelihood = np.mean(posterior[\"alpha\"]) + np.dot(\n",
        "        np.mean(posterior[\"beta\"], axis=0), X.T\n",
        "    )\n",
        "    y_pred = np.exp(y_scaler.inverse_transform(log_likelihood.reshape(-1, 1)))\n",
        "    return y_pred"
      ]
    },
    {
      "cell_type": "code",
      "execution_count": 26,
      "metadata": {},
      "outputs": [
        {
          "data": {
            "text/html": [
              "\n",
              "    <div>\n",
              "        <style>\n",
              "            /* Turns off some styling */\n",
              "            progress {\n",
              "                /* gets rid of default border in Firefox and Opera. */\n",
              "                border: none;\n",
              "                /* Needs to be in here for Safari polyfill so background images work as expected. */\n",
              "                background-size: auto;\n",
              "            }\n",
              "            .progress-bar-interrupted, .progress-bar-interrupted::-webkit-progress-bar {\n",
              "                background: #F44336;\n",
              "            }\n",
              "        </style>\n",
              "      <progress value='30000' class='' max='30000' style='width:300px; height:20px; vertical-align: middle;'></progress>\n",
              "      100.00% [30000/30000 00:02<00:00 Average Loss = 994.78]\n",
              "    </div>\n",
              "    "
            ],
            "text/plain": [
              "<IPython.core.display.HTML object>"
            ]
          },
          "metadata": {},
          "output_type": "display_data"
        },
        {
          "name": "stderr",
          "output_type": "stream",
          "text": [
            "Finished [100%]: Average Loss = 994.79\n"
          ]
        },
        {
          "name": "stdout",
          "output_type": "stream",
          "text": [
            "------ (numeric features) Full Bayesian model performance ------\n",
            "MAE: 163,619.49\n",
            "MSLE: 0.1056\n",
            "RMSLE: 0.3250\n",
            "MAPE: 0.2550\n",
            "------ (validation) Full Bayesian model performance ------\n",
            "MAE: 154,588.73\n",
            "MSLE: 0.1031\n",
            "RMSLE: 0.3211\n",
            "MAPE: 0.2688\n"
          ]
        }
      ],
      "source": [
        "full_model = define_lin_reg(\n",
        "    X_train_num,\n",
        "    y_train_num.ravel(),\n",
        "    alpha=(\"Normal\", 0, 100),\n",
        "    beta=(\"Normal\", 0, 100),\n",
        "    sigma=(\"HalfCauchy\", 30),\n",
        ")\n",
        "\n",
        "y_train_preds = predict(full_model, X_train_num, y_scaler,)\n",
        "print_evaluation(\n",
        "    np.exp(y_scaler.inverse_transform(y_train_num)),\n",
        "    y_train_preds,\n",
        "    \"(numeric features) Full Bayesian\",\n",
        ")\n",
        "\n",
        "y_valid_preds = predict(full_model, X_valid_num, y_scaler,)\n",
        "print_evaluation(\n",
        "    np.exp(y_scaler.inverse_transform(y_valid_num)),\n",
        "    y_valid_preds,\n",
        "    \"(validation) Full Bayesian\",\n",
        ")\n",
        "\n",
        "test_pred_df = (\n",
        "    pd.DataFrame(\n",
        "        predict(\n",
        "            full_model, X_test[:, :-2], y_scaler\n",
        "        ),  # Remove the last two columns for the numeric bayesian model\n",
        "        index=test_indexes,\n",
        "        columns=[\"Price\"],\n",
        "    )\n",
        "    .reset_index()\n",
        "    .rename({\"index\": \"Index\"})\n",
        ")\n",
        "test_pred_df.to_csv(\n",
        "    os.path.join(dir_path, \"preds/\", \"numeric_bayesian_preds.csv\"), index=False\n",
        ")"
      ]
    },
    {
      "cell_type": "code",
      "execution_count": 27,
      "metadata": {},
      "outputs": [
        {
          "data": {
            "text/html": [
              "\n",
              "    <div>\n",
              "        <style>\n",
              "            /* Turns off some styling */\n",
              "            progress {\n",
              "                /* gets rid of default border in Firefox and Opera. */\n",
              "                border: none;\n",
              "                /* Needs to be in here for Safari polyfill so background images work as expected. */\n",
              "                background-size: auto;\n",
              "            }\n",
              "            .progress-bar-interrupted, .progress-bar-interrupted::-webkit-progress-bar {\n",
              "                background: #F44336;\n",
              "            }\n",
              "        </style>\n",
              "      <progress value='30000' class='' max='30000' style='width:300px; height:20px; vertical-align: middle;'></progress>\n",
              "      100.00% [30000/30000 00:02<00:00 Average Loss = 1,005.3]\n",
              "    </div>\n",
              "    "
            ],
            "text/plain": [
              "<IPython.core.display.HTML object>"
            ]
          },
          "metadata": {},
          "output_type": "display_data"
        },
        {
          "name": "stderr",
          "output_type": "stream",
          "text": [
            "Finished [100%]: Average Loss = 1,005.3\n"
          ]
        },
        {
          "name": "stdout",
          "output_type": "stream",
          "text": [
            "------ (num+txt features) Full Bayesian model performance ------\n",
            "MAE: 158,674.86\n",
            "MSLE: 0.1023\n",
            "RMSLE: 0.3199\n",
            "MAPE: 0.2462\n",
            "------ (validation) Full Bayesian model performance ------\n",
            "MAE: 154,269.78\n",
            "MSLE: 0.1034\n",
            "RMSLE: 0.3216\n",
            "MAPE: 0.2660\n"
          ]
        }
      ],
      "source": [
        "full_model = define_lin_reg(\n",
        "    X_train,\n",
        "    y_train.ravel(),\n",
        "    alpha=(\"Normal\", 0, 100),\n",
        "    beta=(\"Normal\", 0, 100),\n",
        "    sigma=(\"HalfCauchy\", 30),\n",
        ")\n",
        "\n",
        "y_train_preds = predict(full_model, X_train, y_scaler,)\n",
        "print_evaluation(\n",
        "    np.exp(y_scaler.inverse_transform(y_train)),\n",
        "    y_train_preds,\n",
        "    \"(num+txt features) Full Bayesian\",\n",
        ")\n",
        "\n",
        "y_valid_preds = predict(full_model, X_valid, y_scaler,)\n",
        "print_evaluation(\n",
        "    np.exp(y_scaler.inverse_transform(y_valid)),\n",
        "    y_valid_preds,\n",
        "    \"(validation) Full Bayesian\",\n",
        ")\n",
        "\n",
        "test_pred_df = (\n",
        "    pd.DataFrame(\n",
        "        predict(full_model, X_test, y_scaler), index=test_indexes, columns=[\"Price\"]\n",
        "    )\n",
        "    .reset_index()\n",
        "    .rename({\"index\": \"Index\"})\n",
        ")\n",
        "test_pred_df.to_csv(\n",
        "    os.path.join(dir_path, \"preds/\", \"num_txt_bayesian_preds.csv\"), index=False\n",
        ")"
      ]
    },
    {
      "cell_type": "markdown",
      "metadata": {},
      "source": [
        "The text features add a small improvement."
      ]
    },
    {
      "cell_type": "markdown",
      "metadata": {
        "id": "bJFJQxAS9HZK"
      },
      "source": [
        "# PIECEWISE REGRESSION"
      ]
    },
    {
      "cell_type": "markdown",
      "metadata": {
        "id": "QkRchZtf6IV-"
      },
      "source": [
        "**Piecewise regression**, extract from [Wikipedia](https://en.wikipedia.org/wiki/Segmented_regression):\n",
        "\n",
        "Segmented regression, also known as piecewise regression or broken-stick regression, is a method in regression analysis in which the independent variable is partitioned into intervals and a separate line segment is fit to each interval. \n",
        "\n",
        "* Segmented regression analysis can also be performed on \n",
        "multivariate data by partitioning the various independent variables. \n",
        "* Segmented regression is useful when the independent variables, clustered into different groups, exhibit different relationships between the variables in these regions. \n",
        "\n",
        "* The boundaries between the segments are breakpoints.\n",
        "\n",
        "* Segmented linear regression is segmented regression whereby the relations in the intervals are obtained by linear regression. "
      ]
    },
    {
      "cell_type": "markdown",
      "metadata": {
        "id": "po84zvge2NS7"
      },
      "source": [
        "To implement piecewise regression, first we need to identify the \"pieces\" in the dataset. For this we'll use GaussianMixtures."
      ]
    },
    {
      "cell_type": "code",
      "execution_count": 28,
      "metadata": {},
      "outputs": [],
      "source": [
        "from sklearn.base import BaseEstimator, TransformerMixin\n",
        "\n",
        "\n",
        "class FeatureSelector(BaseEstimator, TransformerMixin):\n",
        "    \"\"\"Custom class to select specific features from the inputs.\n",
        "    \n",
        "    Created to incorporate it into a pipeline then use GridSearch to find\n",
        "    the best features for clustering.\n",
        "    \"\"\"\n",
        "\n",
        "    def __init__(self, feature_indices=None):\n",
        "        \"\"\"Constructor for FeatureSelector.\n",
        "\n",
        "        Parameters\n",
        "        ----------\n",
        "        feature_indices : List[int], Optional\n",
        "            List containing indices of the features to be selected.\n",
        "        \"\"\"\n",
        "        self.feature_indices = feature_indices\n",
        "\n",
        "    def fit(self, X, y=None):\n",
        "        \"\"\"Does nothing. Implemented only so that this estimator can be used in a pipeline.\n",
        "        \"\"\"\n",
        "        return self\n",
        "\n",
        "    def transform(self, X, y=None):\n",
        "        \"\"\"Select the feature indices of the input dataset\n",
        "        \n",
        "        Parameters\n",
        "        ----------\n",
        "        X : np.ndarray\n",
        "            The dataset to process.\n",
        "        y : np.ndarray, Optional\n",
        "            Target variable to predict.\n",
        "        \n",
        "        Returns\n",
        "        -------\n",
        "        np.ndarray\n",
        "            A copy of X with only the selected columns.\n",
        "        \"\"\"\n",
        "        if self.feature_indices:\n",
        "            return X[:, self.feature_indices]\n",
        "        else:\n",
        "            # Return everything, if no indices are passed\n",
        "            return X"
      ]
    },
    {
      "cell_type": "code",
      "execution_count": 29,
      "metadata": {},
      "outputs": [],
      "source": [
        "# For generating combination of all features\n",
        "# n_features = X_train.shape[-1]\n",
        "\n",
        "# feat_combos = []\n",
        "# for n in range(1, n_features + 1):\n",
        "#     feat_combos.extend(list(combinations(list(range(n_features)), n)))\n",
        "# feat_combos"
      ]
    },
    {
      "cell_type": "code",
      "execution_count": 36,
      "metadata": {},
      "outputs": [],
      "source": [
        "# TODO: Add the ability for the data in each cluster to be standardized on its own\n",
        "def create_cluster_partitions(model, X, y=None, cluster_features=[2, 3]):\n",
        "    \"\"\"Partitions a dataset according to the clusters found by the given clustering model.\n",
        "    \n",
        "    Parameters\n",
        "    ----------\n",
        "    model : sklearn.sklearn.mixture.*\n",
        "        GaussianMixture model used for clustering.\n",
        "    X : np.ndarray\n",
        "        Dataset to be partitioned.\n",
        "    y : np.ndarray, Optional\n",
        "        Corresponding target labels to partition\n",
        "    cluster_features : List[int]\n",
        "        Indices of the features used for clustering.\n",
        "    \n",
        "    Returns\n",
        "    -------\n",
        "    tuple \n",
        "        X, y data partitioned according to the given model.\n",
        "        If y was None, then return None for its partitions\n",
        "    tuple\n",
        "        Partition labels and names.\n",
        "        The labels are effectively the cluster model predictions for the given data\n",
        "        while the names are the cluster numbers.\n",
        "    \"\"\"\n",
        "    part_labels = model.predict(X[:, cluster_features])\n",
        "    part_names = np.unique(part_labels)\n",
        "    print(f\"Found {len(part_names)} clusters in dataset\")\n",
        "\n",
        "    X_partitions = [X[part_labels == k] for k in part_names]\n",
        "    y_partitions = [y[part_labels == k] for k in part_names] if y is not None else None\n",
        "\n",
        "    partitioned_data = (X_partitions, y_partitions)\n",
        "    return partitioned_data, (part_labels, part_names)\n",
        "\n",
        "\n",
        "def train_piecewise_models(X_partitions, y_partitions, partitioner, **model_kwargs):\n",
        "    \"\"\"Trains a Bayesian Linear regression model for each partition of the dataset.\n",
        "    \n",
        "    Parameters\n",
        "    ----------\n",
        "    X_partitions : List[np.ndarray]\n",
        "        A list of arrays, each entry corresponding to a partition of the data\n",
        "    y_partitions : List[np.ndarray]\n",
        "        A list of arrays with targets for each partition\n",
        "    **model_kwargs\n",
        "        Any other parameters to be passed to the Bayesian model\n",
        "    \n",
        "    Returns\n",
        "    -------\n",
        "    List\n",
        "        A list of model posteriors.\n",
        "    \"\"\"\n",
        "\n",
        "    return [\n",
        "        define_lin_reg(X_partitions[idx], y_partitions[idx].ravel(), **model_kwargs,)\n",
        "        for idx, _ in enumerate(X_partitions)\n",
        "    ]\n",
        "\n",
        "\n",
        "def predict(posterior, X, y_scaler):\n",
        "    \"\"\"Calculates the predictions for a given X based on a learned posterior\n",
        "    \n",
        "    Parameters\n",
        "    ----------\n",
        "    posterior : pymc3.backends.base.MultiTrace.\n",
        "        Posterior distribution estimated by pymc model.\n",
        "    X : np.ndarray\n",
        "        Input features of data to estimate.\n",
        "    y_scaler : sklearn.preprocessing._data.StandardScaler\n",
        "        Scaler used to transform the predictor variable.\n",
        "    Returns\n",
        "    -------\n",
        "    np.ndarray\n",
        "        The model predictions.\n",
        "    \"\"\"\n",
        "    log_likelihood = np.mean(posterior[\"alpha\"]) + np.dot(\n",
        "        np.mean(posterior[\"beta\"], axis=0), X.T\n",
        "    )\n",
        "    y_pred = np.exp(y_scaler.inverse_transform(log_likelihood.reshape(-1, 1)))\n",
        "    return y_pred\n",
        "\n",
        "\n",
        "def predict_partitions(posteriors, X_partitions, y_scaler):\n",
        "    return [\n",
        "        predict(posteriors[idx], X_partitions[idx], y_scaler)\n",
        "        for idx, _ in enumerate(X_partitions)\n",
        "    ]\n",
        "\n",
        "\n",
        "def evaluate_piecewise_model(posteriors, X_partitions, y_partitions, y_scaler, partition_ids):\n",
        "    \"\"\"Evaluates the predictions of piecewise models.\n",
        "    \n",
        "    Parameters\n",
        "    ----------\n",
        "    posteriors : pymc3.backends.base.MultiTrace.\n",
        "        Posterior distributions estimated by pymc model.\n",
        "    X_partitions : np.ndarray\n",
        "        Partitions of dataset X to evaluate each posterior on.\n",
        "    y_partitions : np.ndarray\n",
        "        True labels of each partition.\n",
        "    y_scaler : sklearn.preprocessing._data.StandardScaler\n",
        "        Scaler used to transform the predictor variable.\n",
        "    partition_ids : List\n",
        "        Names of the partitions defined by clustering method.\n",
        "    Returns\n",
        "    -------\n",
        "    pd.DataFrame\n",
        "        A Dataframe containing results of various metrics on each partition.\n",
        "    \"\"\"\n",
        "    y_pred_partitions = predict_partitions(posteriors, X_partitions, y_scaler)\n",
        "    y_true = [np.exp(y_scaler.inverse_transform(y)) for y in y_partitions]\n",
        "\n",
        "    mae = np.array(\n",
        "        [\n",
        "            mean_absolute_error(y, y_preds)\n",
        "            for y, y_preds in zip(y_true, y_pred_partitions)\n",
        "        ]\n",
        "    )\n",
        "    msle = np.array(\n",
        "        [\n",
        "            mean_squared_log_error(y, y_preds)\n",
        "            for y, y_preds in zip(y_true, y_pred_partitions)\n",
        "        ]\n",
        "    )\n",
        "    rmsle = np.sqrt(msle)\n",
        "    mape = np.array(\n",
        "        [\n",
        "            mean_absolute_percentage_error(y, y_preds)\n",
        "            for y, y_preds in zip(y_true, y_pred_partitions)\n",
        "        ]\n",
        "    )\n",
        "\n",
        "    scores = pd.DataFrame(\n",
        "        np.c_[[mae, msle, rmsle, mape]].T,\n",
        "        index=partition_ids,\n",
        "        columns=[\n",
        "            \"mean_absolute_error\",\n",
        "            \"mean_square_log_error\",\n",
        "            \"root_mean_square_log_error\",\n",
        "            \"mean_absolute_percentage_error\",\n",
        "        ],\n",
        "    )\n",
        "    return scores"
      ]
    },
    {
      "cell_type": "markdown",
      "metadata": {},
      "source": [
        "My idea here is to use BGM with a high number of components so that it automatically identifies the number of clusters. In the cell below, clusters with almost zero weigth are ones that will be excluded.\n",
        "\n",
        "I want to create an estimator that will incorporate clustering, fitting the model to each cluster and then run GridSearch to find the optimal number of clusters but I need a schematic of the work to be done first."
      ]
    },
    {
      "cell_type": "code",
      "execution_count": 34,
      "metadata": {
        "id": "pXX7Mq2Y2NrK"
      },
      "outputs": [],
      "source": [
        "from sklearn.mixture import GaussianMixture, BayesianGaussianMixture\n",
        "from itertools import combinations\n",
        "\n",
        "# gmm_pipeline = Pipeline([\n",
        "#     (\"feat_selection\", FeatureSelector()),\n",
        "#     (\"clustering\", GaussianMixture(n_components=4))\n",
        "# ]\n",
        "\n",
        "# gmm_param_grid = [\n",
        "#     {\n",
        "#         \"feat_selection__feature_indices\": feat_combos[:15]\n",
        "#     }\n",
        "# ]\n",
        "\n",
        "bgm = BayesianGaussianMixture(n_components=12, max_iter=300, random_state=random_state)\n",
        "bgm.fit(X_train[:, 2:4])  # Initially just fit on latitude and longitude\n",
        "\n",
        "\n",
        "train_clusters = bgm.predict(X_train[:, 2:4])\n",
        "valid_clusters = bgm.predict(X_valid[:, 2:4])"
      ]
    },
    {
      "cell_type": "code",
      "execution_count": 35,
      "metadata": {},
      "outputs": [
        {
          "name": "stdout",
          "output_type": "stream",
          "text": [
            "Found 8 clusters in dataset\n",
            "Fitting 8 models...\n"
          ]
        },
        {
          "data": {
            "text/html": [
              "\n",
              "    <div>\n",
              "        <style>\n",
              "            /* Turns off some styling */\n",
              "            progress {\n",
              "                /* gets rid of default border in Firefox and Opera. */\n",
              "                border: none;\n",
              "                /* Needs to be in here for Safari polyfill so background images work as expected. */\n",
              "                background-size: auto;\n",
              "            }\n",
              "            .progress-bar-interrupted, .progress-bar-interrupted::-webkit-progress-bar {\n",
              "                background: #F44336;\n",
              "            }\n",
              "        </style>\n",
              "      <progress value='30000' class='' max='30000' style='width:300px; height:20px; vertical-align: middle;'></progress>\n",
              "      100.00% [30000/30000 00:02<00:00 Average Loss = 122.94]\n",
              "    </div>\n",
              "    "
            ],
            "text/plain": [
              "<IPython.core.display.HTML object>"
            ]
          },
          "metadata": {},
          "output_type": "display_data"
        },
        {
          "name": "stderr",
          "output_type": "stream",
          "text": [
            "Finished [100%]: Average Loss = 122.93\n",
            "INFO:pymc3.variational.inference:Finished [100%]: Average Loss = 122.93\n"
          ]
        },
        {
          "data": {
            "text/html": [
              "\n",
              "    <div>\n",
              "        <style>\n",
              "            /* Turns off some styling */\n",
              "            progress {\n",
              "                /* gets rid of default border in Firefox and Opera. */\n",
              "                border: none;\n",
              "                /* Needs to be in here for Safari polyfill so background images work as expected. */\n",
              "                background-size: auto;\n",
              "            }\n",
              "            .progress-bar-interrupted, .progress-bar-interrupted::-webkit-progress-bar {\n",
              "                background: #F44336;\n",
              "            }\n",
              "        </style>\n",
              "      <progress value='30000' class='' max='30000' style='width:300px; height:20px; vertical-align: middle;'></progress>\n",
              "      100.00% [30000/30000 00:02<00:00 Average Loss = 140.62]\n",
              "    </div>\n",
              "    "
            ],
            "text/plain": [
              "<IPython.core.display.HTML object>"
            ]
          },
          "metadata": {},
          "output_type": "display_data"
        },
        {
          "name": "stderr",
          "output_type": "stream",
          "text": [
            "Finished [100%]: Average Loss = 140.65\n",
            "INFO:pymc3.variational.inference:Finished [100%]: Average Loss = 140.65\n"
          ]
        },
        {
          "data": {
            "text/html": [
              "\n",
              "    <div>\n",
              "        <style>\n",
              "            /* Turns off some styling */\n",
              "            progress {\n",
              "                /* gets rid of default border in Firefox and Opera. */\n",
              "                border: none;\n",
              "                /* Needs to be in here for Safari polyfill so background images work as expected. */\n",
              "                background-size: auto;\n",
              "            }\n",
              "            .progress-bar-interrupted, .progress-bar-interrupted::-webkit-progress-bar {\n",
              "                background: #F44336;\n",
              "            }\n",
              "        </style>\n",
              "      <progress value='30000' class='' max='30000' style='width:300px; height:20px; vertical-align: middle;'></progress>\n",
              "      100.00% [30000/30000 00:02<00:00 Average Loss = 236.65]\n",
              "    </div>\n",
              "    "
            ],
            "text/plain": [
              "<IPython.core.display.HTML object>"
            ]
          },
          "metadata": {},
          "output_type": "display_data"
        },
        {
          "name": "stderr",
          "output_type": "stream",
          "text": [
            "Finished [100%]: Average Loss = 236.67\n",
            "INFO:pymc3.variational.inference:Finished [100%]: Average Loss = 236.67\n"
          ]
        },
        {
          "data": {
            "text/html": [
              "\n",
              "    <div>\n",
              "        <style>\n",
              "            /* Turns off some styling */\n",
              "            progress {\n",
              "                /* gets rid of default border in Firefox and Opera. */\n",
              "                border: none;\n",
              "                /* Needs to be in here for Safari polyfill so background images work as expected. */\n",
              "                background-size: auto;\n",
              "            }\n",
              "            .progress-bar-interrupted, .progress-bar-interrupted::-webkit-progress-bar {\n",
              "                background: #F44336;\n",
              "            }\n",
              "        </style>\n",
              "      <progress value='30000' class='' max='30000' style='width:300px; height:20px; vertical-align: middle;'></progress>\n",
              "      100.00% [30000/30000 00:02<00:00 Average Loss = 86.605]\n",
              "    </div>\n",
              "    "
            ],
            "text/plain": [
              "<IPython.core.display.HTML object>"
            ]
          },
          "metadata": {},
          "output_type": "display_data"
        },
        {
          "name": "stderr",
          "output_type": "stream",
          "text": [
            "Finished [100%]: Average Loss = 86.638\n",
            "INFO:pymc3.variational.inference:Finished [100%]: Average Loss = 86.638\n"
          ]
        },
        {
          "data": {
            "text/html": [
              "\n",
              "    <div>\n",
              "        <style>\n",
              "            /* Turns off some styling */\n",
              "            progress {\n",
              "                /* gets rid of default border in Firefox and Opera. */\n",
              "                border: none;\n",
              "                /* Needs to be in here for Safari polyfill so background images work as expected. */\n",
              "                background-size: auto;\n",
              "            }\n",
              "            .progress-bar-interrupted, .progress-bar-interrupted::-webkit-progress-bar {\n",
              "                background: #F44336;\n",
              "            }\n",
              "        </style>\n",
              "      <progress value='30000' class='' max='30000' style='width:300px; height:20px; vertical-align: middle;'></progress>\n",
              "      100.00% [30000/30000 00:02<00:00 Average Loss = 146.93]\n",
              "    </div>\n",
              "    "
            ],
            "text/plain": [
              "<IPython.core.display.HTML object>"
            ]
          },
          "metadata": {},
          "output_type": "display_data"
        },
        {
          "name": "stderr",
          "output_type": "stream",
          "text": [
            "Finished [100%]: Average Loss = 146.89\n",
            "INFO:pymc3.variational.inference:Finished [100%]: Average Loss = 146.89\n"
          ]
        },
        {
          "data": {
            "text/html": [
              "\n",
              "    <div>\n",
              "        <style>\n",
              "            /* Turns off some styling */\n",
              "            progress {\n",
              "                /* gets rid of default border in Firefox and Opera. */\n",
              "                border: none;\n",
              "                /* Needs to be in here for Safari polyfill so background images work as expected. */\n",
              "                background-size: auto;\n",
              "            }\n",
              "            .progress-bar-interrupted, .progress-bar-interrupted::-webkit-progress-bar {\n",
              "                background: #F44336;\n",
              "            }\n",
              "        </style>\n",
              "      <progress value='30000' class='' max='30000' style='width:300px; height:20px; vertical-align: middle;'></progress>\n",
              "      100.00% [30000/30000 00:02<00:00 Average Loss = 78.887]\n",
              "    </div>\n",
              "    "
            ],
            "text/plain": [
              "<IPython.core.display.HTML object>"
            ]
          },
          "metadata": {},
          "output_type": "display_data"
        },
        {
          "name": "stderr",
          "output_type": "stream",
          "text": [
            "Finished [100%]: Average Loss = 78.766\n",
            "INFO:pymc3.variational.inference:Finished [100%]: Average Loss = 78.766\n"
          ]
        },
        {
          "data": {
            "text/html": [
              "\n",
              "    <div>\n",
              "        <style>\n",
              "            /* Turns off some styling */\n",
              "            progress {\n",
              "                /* gets rid of default border in Firefox and Opera. */\n",
              "                border: none;\n",
              "                /* Needs to be in here for Safari polyfill so background images work as expected. */\n",
              "                background-size: auto;\n",
              "            }\n",
              "            .progress-bar-interrupted, .progress-bar-interrupted::-webkit-progress-bar {\n",
              "                background: #F44336;\n",
              "            }\n",
              "        </style>\n",
              "      <progress value='30000' class='' max='30000' style='width:300px; height:20px; vertical-align: middle;'></progress>\n",
              "      100.00% [30000/30000 00:02<00:00 Average Loss = 134.22]\n",
              "    </div>\n",
              "    "
            ],
            "text/plain": [
              "<IPython.core.display.HTML object>"
            ]
          },
          "metadata": {},
          "output_type": "display_data"
        },
        {
          "name": "stderr",
          "output_type": "stream",
          "text": [
            "Finished [100%]: Average Loss = 134.26\n",
            "INFO:pymc3.variational.inference:Finished [100%]: Average Loss = 134.26\n"
          ]
        },
        {
          "data": {
            "text/html": [
              "\n",
              "    <div>\n",
              "        <style>\n",
              "            /* Turns off some styling */\n",
              "            progress {\n",
              "                /* gets rid of default border in Firefox and Opera. */\n",
              "                border: none;\n",
              "                /* Needs to be in here for Safari polyfill so background images work as expected. */\n",
              "                background-size: auto;\n",
              "            }\n",
              "            .progress-bar-interrupted, .progress-bar-interrupted::-webkit-progress-bar {\n",
              "                background: #F44336;\n",
              "            }\n",
              "        </style>\n",
              "      <progress value='30000' class='' max='30000' style='width:300px; height:20px; vertical-align: middle;'></progress>\n",
              "      100.00% [30000/30000 00:02<00:00 Average Loss = 90.441]\n",
              "    </div>\n",
              "    "
            ],
            "text/plain": [
              "<IPython.core.display.HTML object>"
            ]
          },
          "metadata": {},
          "output_type": "display_data"
        },
        {
          "name": "stderr",
          "output_type": "stream",
          "text": [
            "Finished [100%]: Average Loss = 90.472\n",
            "INFO:pymc3.variational.inference:Finished [100%]: Average Loss = 90.472\n"
          ]
        }
      ],
      "source": [
        "train_partitions, train_partitioner = create_cluster_partitions(bgm, X_train, y_train)\n",
        "posteriors = train_piecewise_models(*train_partitions, train_partitioner)"
      ]
    },
    {
      "cell_type": "code",
      "execution_count": 38,
      "metadata": {},
      "outputs": [
        {
          "ename": "NameError",
          "evalue": "name 'part_names' is not defined",
          "output_type": "error",
          "traceback": [
            "\u001b[1;31m---------------------------------------------------------------------------\u001b[0m",
            "\u001b[1;31mNameError\u001b[0m                                 Traceback (most recent call last)",
            "\u001b[1;32m~\\AppData\\Local\\Temp/ipykernel_3292/3053785075.py\u001b[0m in \u001b[0;36m<module>\u001b[1;34m\u001b[0m\n\u001b[0;32m      1\u001b[0m scores = evaluate_piecewise_model(\n\u001b[1;32m----> 2\u001b[1;33m     \u001b[0mposteriors\u001b[0m\u001b[1;33m,\u001b[0m \u001b[1;33m*\u001b[0m\u001b[0mtrain_partitions\u001b[0m\u001b[1;33m,\u001b[0m \u001b[0my_scaler\u001b[0m\u001b[1;33m=\u001b[0m\u001b[0my_scaler\u001b[0m\u001b[1;33m\u001b[0m\u001b[1;33m\u001b[0m\u001b[0m\n\u001b[0m\u001b[0;32m      3\u001b[0m )\n\u001b[0;32m      4\u001b[0m \u001b[1;31m# np.c_[scores].T.shape\u001b[0m\u001b[1;33m\u001b[0m\u001b[1;33m\u001b[0m\u001b[1;33m\u001b[0m\u001b[0m\n\u001b[0;32m      5\u001b[0m \u001b[0mscores\u001b[0m\u001b[1;33m.\u001b[0m\u001b[0mmean\u001b[0m\u001b[1;33m(\u001b[0m\u001b[0maxis\u001b[0m\u001b[1;33m=\u001b[0m\u001b[1;36m0\u001b[0m\u001b[1;33m)\u001b[0m\u001b[1;33m\u001b[0m\u001b[1;33m\u001b[0m\u001b[0m\n",
            "\u001b[1;32m~\\AppData\\Local\\Temp/ipykernel_3292/868483088.py\u001b[0m in \u001b[0;36mevaluate_piecewise_model\u001b[1;34m(posteriors, X_partitions, y_partitions, y_scaler)\u001b[0m\n\u001b[0;32m    140\u001b[0m     scores = pd.DataFrame(\n\u001b[0;32m    141\u001b[0m         \u001b[0mnp\u001b[0m\u001b[1;33m.\u001b[0m\u001b[0mc_\u001b[0m\u001b[1;33m[\u001b[0m\u001b[1;33m[\u001b[0m\u001b[0mmae\u001b[0m\u001b[1;33m,\u001b[0m \u001b[0mmsle\u001b[0m\u001b[1;33m,\u001b[0m \u001b[0mrmsle\u001b[0m\u001b[1;33m,\u001b[0m \u001b[0mmape\u001b[0m\u001b[1;33m]\u001b[0m\u001b[1;33m]\u001b[0m\u001b[1;33m.\u001b[0m\u001b[0mT\u001b[0m\u001b[1;33m,\u001b[0m\u001b[1;33m\u001b[0m\u001b[1;33m\u001b[0m\u001b[0m\n\u001b[1;32m--> 142\u001b[1;33m         \u001b[0mindex\u001b[0m\u001b[1;33m=\u001b[0m\u001b[0mpart_names\u001b[0m\u001b[1;33m,\u001b[0m\u001b[1;33m\u001b[0m\u001b[1;33m\u001b[0m\u001b[0m\n\u001b[0m\u001b[0;32m    143\u001b[0m         columns=[\n\u001b[0;32m    144\u001b[0m             \u001b[1;34m\"mean_absolute_error\"\u001b[0m\u001b[1;33m,\u001b[0m\u001b[1;33m\u001b[0m\u001b[1;33m\u001b[0m\u001b[0m\n",
            "\u001b[1;31mNameError\u001b[0m: name 'part_names' is not defined"
          ]
        }
      ],
      "source": [
        "scores = evaluate_piecewise_model(posteriors, *train_partitions, y_scaler=y_scaler)\n",
        "# np.c_[scores].T.shape\n",
        "scores.mean(axis=0)"
      ]
    },
    {
      "cell_type": "markdown",
      "metadata": {
        "id": "_kFgkUA85_pn"
      },
      "source": [
        "# BAYESIAN NN"
      ]
    },
    {
      "cell_type": "markdown",
      "metadata": {
        "id": "ELer5PV37ftX"
      },
      "source": [
        "A [Bayesian network](https://en.wikipedia.org/wiki/Bayesian_network) (also known as a Bayes network, Bayes net, belief network, or decision network) is a probabilistic graphical model that represents a set of variables and their conditional dependencies via a directed acyclic graph (DAG). \n",
        "\n",
        "* Bayesian networks are ideal for taking an event that occurred and predicting the likelihood that any one of several possible known causes was the contributing factor. \n",
        "* For example, a Bayesian network could represent the probabilistic relationships between diseases and symptoms. \n",
        "* Given symptoms, the network can be used to compute the probabilities of the presence of various diseases."
      ]
    },
    {
      "cell_type": "markdown",
      "metadata": {
        "id": "z0kauv1L5_po"
      },
      "source": [
        "Your comments, explanation, and references here."
      ]
    },
    {
      "cell_type": "code",
      "execution_count": null,
      "metadata": {
        "id": "0smpwCET5_pp"
      },
      "outputs": [],
      "source": [
        "# your code here"
      ]
    },
    {
      "cell_type": "markdown",
      "metadata": {
        "id": "f0GYCpwEM09T"
      },
      "source": [
        "# SUMMARY"
      ]
    },
    {
      "cell_type": "markdown",
      "metadata": {
        "id": "rBDzsZSJ7HZp"
      },
      "source": [
        "Your summary here."
      ]
    }
  ],
  "metadata": {
    "colab": {
      "name": "ET5003_KaggleCompetition.ipynb",
      "provenance": []
    },
    "interpreter": {
      "hash": "597b03594f35869c58876e9008f9a586d3b25b5bdb518ec8cfdc4f97486ff2d0"
    },
    "kernelspec": {
      "display_name": "Python 3.7.11 64-bit ('et5003': conda)",
      "name": "python3"
    },
    "language_info": {
      "codemirror_mode": {
        "name": "ipython",
        "version": 3
      },
      "file_extension": ".py",
      "mimetype": "text/x-python",
      "name": "python",
      "nbconvert_exporter": "python",
      "pygments_lexer": "ipython3",
      "version": "3.7.11"
    }
  },
  "nbformat": 4,
  "nbformat_minor": 2
}
