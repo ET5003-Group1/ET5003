{
  "cells": [
    {
      "cell_type": "markdown",
      "metadata": {
        "id": "930vlW5BrOtq"
      },
      "source": [
        "<div>\n",
        "<img src=\"https://drive.google.com/uc?export=view&id=1vK33e_EqaHgBHcbRV_m38hx6IkG0blK_\" width=\"350\"/>\n",
        "</div> \n",
        "\n",
        "#**Artificial Intelligence - MSc**\n",
        "##ET5003 - MACHINE LEARNING APPLICATIONS \n",
        "\n",
        "###Instructor: Enrique Naredo\n",
        "###ET5003_KaggleCompetition"
      ]
    },
    {
      "cell_type": "code",
      "execution_count": null,
      "metadata": {
        "cellView": "form",
        "id": "LqXD_IwUQuBF"
      },
      "outputs": [],
      "source": [
        "#@title Current Date\n",
        "Today = '2021-10-05' #@param {type:\"date\"}\n"
      ]
    },
    {
      "cell_type": "code",
      "execution_count": null,
      "metadata": {
        "cellView": "form",
        "id": "uzDKau31OjVO"
      },
      "outputs": [],
      "source": [
        "#@markdown ---\n",
        "#@markdown ### Enter your details here:\n",
        "Team_Number = \"\" #@param {type:\"string\"}\n",
        "Student_ID&Name = \"\" #@param {type:\"string\"}\n",
        "Student_ID&Name = \"\" #@param {type:\"string\"}\n",
        "Student_ID&Name = \"\" #@param {type:\"string\"}\n",
        "Student_ID&Name = \"\" #@param {type:\"string\"}\n",
        "Student_ID&Name = \"\" #@param {type:\"string\"}\n",
        "#@markdown ---"
      ]
    },
    {
      "cell_type": "code",
      "execution_count": null,
      "metadata": {
        "cellView": "form",
        "id": "r39xGZckTpKx"
      },
      "outputs": [],
      "source": [
        "#@title Notebook information\n",
        "Notebook_type = 'Etivity' #@param [\"Example\", \"Lab\", \"Practice\", \"Etivity\", \"Assignment\", \"Exam\"]\n",
        "Version = Final #@param [\"Draft\", \"Final\"] {type:\"raw\"}\n",
        "Submission = False #@param {type:\"boolean\"}"
      ]
    },
    {
      "cell_type": "markdown",
      "metadata": {
        "id": "_A0Z6S-r6DpA"
      },
      "source": [
        "# INTRODUCTION"
      ]
    },
    {
      "cell_type": "markdown",
      "metadata": {
        "id": "aajlS0WCJ8pm"
      },
      "source": [
        "***The goal is to use advanced Machine Learning methods to predict House price.***"
      ]
    },
    {
      "cell_type": "markdown",
      "metadata": {
        "id": "Wg7VCbX77eAA"
      },
      "source": [
        "## Imports"
      ]
    },
    {
      "cell_type": "code",
      "execution_count": 191,
      "metadata": {
        "id": "k96-GLUGE2ux"
      },
      "outputs": [
        {
          "name": "stdout",
          "output_type": "stream",
          "text": [
            "The lab_black extension is already loaded. To reload it, use:\n",
            "  %reload_ext lab_black\n"
          ]
        }
      ],
      "source": [
        "# standard libraries\n",
        "import warnings\n",
        "import pandas as pd\n",
        "import numpy as np\n",
        "import pymc3 as pm\n",
        "import arviz as az\n",
        "import os\n",
        "\n",
        "# SKlearn imports\n",
        "from sklearn.model_selection import train_test_split, GridSearchCV\n",
        "from sklearn.feature_extraction.text import TfidfVectorizer\n",
        "from sklearn.metrics import (\n",
        "    accuracy_score,\n",
        "    confusion_matrix,\n",
        "    mean_absolute_error,\n",
        "    mean_squared_log_error,\n",
        "    mean_absolute_percentage_error,\n",
        "    classification_report,\n",
        ")\n",
        "from sklearn.preprocessing import StandardScaler, LabelEncoder, OrdinalEncoder\n",
        "from sklearn.ensemble import RandomForestClassifier\n",
        "from sklearn.svm import SVC\n",
        "from sklearn.pipeline import Pipeline\n",
        "from imblearn.combine import SMOTETomek\n",
        "\n",
        "\n",
        "# NLP libraries\n",
        "import nltk\n",
        "from nltk.stem import SnowballStemmer\n",
        "from nltk.corpus import stopwords\n",
        "\n",
        "# For plotting\n",
        "import matplotlib.pyplot as plt\n",
        "from matplotlib.cm import get_cmap\n",
        "import jupyterthemes.jtplot as jt\n",
        "\n",
        "# jt.style(theme=\"monokai\")\n",
        "random_state = 35848\n",
        "np.random.seed(random_state)\n",
        "warnings.filterwarnings(\"ignore\")\n",
        "\n",
        "\n",
        "%matplotlib inline\n",
        "%load_ext lab_black"
      ]
    },
    {
      "cell_type": "markdown",
      "metadata": {
        "id": "WL91ShB19RPw"
      },
      "source": [
        "# DATASET"
      ]
    },
    {
      "cell_type": "markdown",
      "metadata": {
        "id": "ESg5DGKWJSOf"
      },
      "source": [
        "Extract from this [paper](https://ieeexplore.ieee.org/document/9300074):\n",
        "\n",
        "* House prices are a significant impression of the economy, and its value ranges are of great concerns for the clients and property dealers. \n",
        "\n",
        "* Housing price escalate every year that eventually reinforced the need of strategy or technique that could predict house prices in future. \n",
        "\n",
        "* There are certain factors that influence house prices including physical conditions, locations, number of bedrooms and others.\n"
      ]
    },
    {
      "cell_type": "markdown",
      "metadata": {
        "id": "a8Y2pf50FlYL"
      },
      "source": [
        "1. [Download the dataset](https://github.com/UL-CS6134/CS6134_SEM1_2021-2/tree/main/Week-5). \n",
        "\n",
        "2. Upload the dataset into your folder.\n",
        "\n"
      ]
    },
    {
      "cell_type": "markdown",
      "metadata": {
        "id": "FMkdCQEmKTof"
      },
      "source": [
        "The challenge is to predict the final price of each house."
      ]
    },
    {
      "cell_type": "markdown",
      "metadata": {
        "id": "2PMoPLlUJ1Ly"
      },
      "source": [
        "## Loading and preparing training data"
      ]
    },
    {
      "cell_type": "code",
      "execution_count": 2,
      "metadata": {},
      "outputs": [
        {
          "name": "stdout",
          "output_type": "stream",
          "text": [
            "Loaded training set of shape (1638, 12)\n",
            "Loaded training set of shape (702, 11)\n"
          ]
        }
      ],
      "source": [
        "dir_path = os.path.join(os.getcwd(), \"house_prices\")\n",
        "train_fname = \"HousePrice_Train.csv\"\n",
        "test_fname = \"HousePrice_Test.csv\"\n",
        "\n",
        "train_set = (\n",
        "    pd.read_csv(os.path.join(dir_path, train_fname),)\n",
        "    .rename(columns=lambda x: x.lower())\n",
        "    .set_index(\"index\")\n",
        "    .drop(columns=\"id\")\n",
        ")\n",
        "print(\"Loaded training set of shape\", train_set.shape)\n",
        "\n",
        "\n",
        "test_set = (\n",
        "    pd.read_csv(os.path.join(dir_path, test_fname),)\n",
        "    .rename(columns=lambda x: x.lower())\n",
        "    .set_index(\"index\")\n",
        "    .drop(columns=\"id\")\n",
        ")\n",
        "print(\"Loaded training set of shape\", test_set.shape)"
      ]
    },
    {
      "cell_type": "markdown",
      "metadata": {},
      "source": [
        "### Examining missing data\n",
        "Check the number of missing entries in the training set"
      ]
    },
    {
      "cell_type": "code",
      "execution_count": 3,
      "metadata": {},
      "outputs": [
        {
          "data": {
            "text/plain": [
              "location            0\n",
              "num_bathrooms       0\n",
              "num_beds            0\n",
              "ber_class         251\n",
              "description         0\n",
              "services         1061\n",
              "features            0\n",
              "latitude            0\n",
              "longitude           0\n",
              "type                0\n",
              "surface             0\n",
              "price               0\n",
              "dtype: int64"
            ]
          },
          "execution_count": 3,
          "metadata": {},
          "output_type": "execute_result"
        }
      ],
      "source": [
        "train_set.isna().sum()"
      ]
    },
    {
      "cell_type": "markdown",
      "metadata": {},
      "source": [
        "While the above shows we don't have many missing values, this is actually incorrect! The text columns have entries with \"None\" as strings instead of `None`, we need to replace these. \n",
        "\n",
        "I'll also drop `location` as this will already be represented by the `latitude` and `longitude` features"
      ]
    },
    {
      "cell_type": "code",
      "execution_count": 4,
      "metadata": {},
      "outputs": [
        {
          "data": {
            "text/plain": [
              "num_bathrooms       0\n",
              "num_beds            0\n",
              "latitude            0\n",
              "longitude           0\n",
              "surface             0\n",
              "price               0\n",
              "ber_class         251\n",
              "description         0\n",
              "services         1061\n",
              "features          516\n",
              "type                0\n",
              "dtype: int64"
            ]
          },
          "execution_count": 4,
          "metadata": {},
          "output_type": "execute_result"
        }
      ],
      "source": [
        "string_features = train_set.select_dtypes(\"object\").copy()\n",
        "string_features = string_features.where(string_features != \"None\", None)\n",
        "\n",
        "train_set.drop(columns=string_features.columns, inplace=True)\n",
        "train_set = pd.concat([train_set, string_features], axis=1).drop(columns=\"location\")\n",
        "train_set.isna().sum()"
      ]
    },
    {
      "cell_type": "markdown",
      "metadata": {},
      "source": [
        "## Examining outliers\n",
        "Next let's try to identify outliers."
      ]
    },
    {
      "cell_type": "code",
      "execution_count": 22,
      "metadata": {},
      "outputs": [
        {
          "name": "stdout",
          "output_type": "stream",
          "text": [
            "Numeric columns: ['num_bathrooms', 'num_beds', 'latitude', 'longitude', 'surface', 'price']\n"
          ]
        },
        {
          "data": {
            "image/png": "[encoded data removed]",
            "text/plain": [
              "<Figure size 1440x504 with 6 Axes>"
            ]
          },
          "metadata": {
            "needs_background": "light"
          },
          "output_type": "display_data"
        }
      ],
      "source": [
        "def plot_numeric_feats(dataset, cmap=get_cmap(\"RdYlGn\").reversed(), scale_price=False):\n",
        "    fig, axes = plt.subplots(1, 3, figsize=(20, 7))\n",
        "    if scale_price:\n",
        "        scaled_price = dataset[\"price\"] / 10_000\n",
        "    else:\n",
        "        scaled_price = dataset[\"price\"]\n",
        "\n",
        "    dataset[[\"num_bathrooms\", \"num_beds\", \"price\"]].plot.scatter(\n",
        "        \"num_bathrooms\",\n",
        "        \"num_beds\",\n",
        "        s=scaled_price,\n",
        "        ax=axes[0],\n",
        "        alpha=0.6,\n",
        "        c=scaled_price,\n",
        "        cmap=cmap,\n",
        "    )\n",
        "    dataset[[\"latitude\", \"longitude\", \"price\"]].plot.scatter(\n",
        "        \"latitude\",\n",
        "        \"longitude\",\n",
        "        s=scaled_price,\n",
        "        ax=axes[1],\n",
        "        alpha=0.6,\n",
        "        c=scaled_price,\n",
        "        cmap=cmap,\n",
        "    )\n",
        "    dataset[[\"surface\", \"price\"]].plot.scatter(\n",
        "        \"surface\",\n",
        "        \"price\",\n",
        "        s=scaled_price,\n",
        "        ax=axes[2],\n",
        "        alpha=0.6,\n",
        "        c=scaled_price,\n",
        "        cmap=cmap,\n",
        "    )\n",
        "    fig.suptitle(\"Scatterplots for numeric features\", size=20)\n",
        "    fig.tight_layout()\n",
        "    plt.show()\n",
        "\n",
        "\n",
        "print(\"Numeric columns:\", train_set.select_dtypes([\"int\", \"float\"]).columns.tolist())\n",
        "plot_numeric_feats(train_set, scale_price=True)"
      ]
    },
    {
      "cell_type": "markdown",
      "metadata": {},
      "source": [
        "The scatterplots indicate the presences of a few outliers in the numeric features, let's examine them"
      ]
    },
    {
      "cell_type": "code",
      "execution_count": 6,
      "metadata": {},
      "outputs": [
        {
          "data": {
            "text/html": [
              "<div>\n",
              "<style scoped>\n",
              "    .dataframe tbody tr th:only-of-type {\n",
              "        vertical-align: middle;\n",
              "    }\n",
              "\n",
              "    .dataframe tbody tr th {\n",
              "        vertical-align: top;\n",
              "    }\n",
              "\n",
              "    .dataframe thead th {\n",
              "        text-align: right;\n",
              "    }\n",
              "</style>\n",
              "<table border=\"1\" class=\"dataframe\">\n",
              "  <thead>\n",
              "    <tr style=\"text-align: right;\">\n",
              "      <th></th>\n",
              "      <th>num_bathrooms</th>\n",
              "      <th>num_beds</th>\n",
              "      <th>latitude</th>\n",
              "      <th>longitude</th>\n",
              "      <th>surface</th>\n",
              "      <th>price</th>\n",
              "      <th>ber_class</th>\n",
              "      <th>description</th>\n",
              "      <th>features</th>\n",
              "      <th>type</th>\n",
              "    </tr>\n",
              "    <tr>\n",
              "      <th>index</th>\n",
              "      <th></th>\n",
              "      <th></th>\n",
              "      <th></th>\n",
              "      <th></th>\n",
              "      <th></th>\n",
              "      <th></th>\n",
              "      <th></th>\n",
              "      <th></th>\n",
              "      <th></th>\n",
              "      <th></th>\n",
              "    </tr>\n",
              "  </thead>\n",
              "  <tbody>\n",
              "    <tr>\n",
              "      <th>356</th>\n",
              "      <td>1</td>\n",
              "      <td>3</td>\n",
              "      <td>52.501856</td>\n",
              "      <td>-1.744995</td>\n",
              "      <td>79.00000</td>\n",
              "      <td>199000</td>\n",
              "      <td>NaN</td>\n",
              "      <td>RAY COOKE AUCTIONEERS take great pleasure in introducing this stunning three bedroom semi-detached family home to the market on Wheatfield Close, Dublin 22. \\n\\nThis ever sought after location is ...</td>\n",
              "      <td>None</td>\n",
              "      <td>semi-detached</td>\n",
              "    </tr>\n",
              "    <tr>\n",
              "      <th>507</th>\n",
              "      <td>1</td>\n",
              "      <td>4</td>\n",
              "      <td>53.474502</td>\n",
              "      <td>-6.343483</td>\n",
              "      <td>72236.38714</td>\n",
              "      <td>1100000</td>\n",
              "      <td>E1</td>\n",
              "      <td>Thornton Park is a superb modern equestrian centre offering top class facilities in a beautiful setting on approximately 17.85 acres located 25 minutes from Dublin s City Centre.\\n\\nThe state of t...</td>\n",
              "      <td>None</td>\n",
              "      <td>bungalow</td>\n",
              "    </tr>\n",
              "    <tr>\n",
              "      <th>558</th>\n",
              "      <td>15</td>\n",
              "      <td>15</td>\n",
              "      <td>53.335109</td>\n",
              "      <td>-6.331515</td>\n",
              "      <td>318.20000</td>\n",
              "      <td>775000</td>\n",
              "      <td>D1</td>\n",
              "      <td>umber 67 &amp;amp; 69 Jamestown Road represent a fantastic investment opportunity to the discerning investor bringing a previous rent roll of €106,600 which can be improved upon. Ideally located on a ...</td>\n",
              "      <td>18 separate units\\nTransport links including the LUAS\\nStriking distance of the city centre\\nRent roll €106,600\\nIn the heart of the village\\nLane access\\n</td>\n",
              "      <td>semi-detached</td>\n",
              "    </tr>\n",
              "    <tr>\n",
              "      <th>1100</th>\n",
              "      <td>15</td>\n",
              "      <td>15</td>\n",
              "      <td>53.287504</td>\n",
              "      <td>-6.146605</td>\n",
              "      <td>700.00000</td>\n",
              "      <td>1500000</td>\n",
              "      <td>NaN</td>\n",
              "      <td>A truly unique stone built house of great quality totalling approx. 700 sq.m/7534 sq.ft steeped in history and built on the original lands of Monkstown Castle in 1859 for the honourable J.W Vesey ...</td>\n",
              "      <td>Lift servicing all floors\\nVenetian and gothic influences throughout\\nArchitect designed by Dean and Woodward in 1858\\nUsed previously both as a guest house and a nursing home\\nAmple off street pa...</td>\n",
              "      <td>detached</td>\n",
              "    </tr>\n",
              "    <tr>\n",
              "      <th>1116</th>\n",
              "      <td>1</td>\n",
              "      <td>2</td>\n",
              "      <td>53.386540</td>\n",
              "      <td>-6.377356</td>\n",
              "      <td>6705.00000</td>\n",
              "      <td>425000</td>\n",
              "      <td>E2</td>\n",
              "      <td>Baxter Real Estate are delighted to present to the market, this detached bungalow located on Main Street, Blanchardstown. Most recently used as a dental surgery, this property extends to approxima...</td>\n",
              "      <td>Short drive to the N3 and M50 .\\nSuitable for residential use, subject to planing permission.\\nWithin walking distance of Blanchardstown Shopping Centre and beside Supervalu Blanchardstown.\\nDetac...</td>\n",
              "      <td>bungalow</td>\n",
              "    </tr>\n",
              "    <tr>\n",
              "      <th>1379</th>\n",
              "      <td>18</td>\n",
              "      <td>27</td>\n",
              "      <td>53.260955</td>\n",
              "      <td>-6.117266</td>\n",
              "      <td>1490.00000</td>\n",
              "      <td>4500000</td>\n",
              "      <td>NaN</td>\n",
              "      <td>The Grove is an imposing Victorian mansion built c.1840 situated on approximately 0.88 ha / 2.17 acres of mature elevated grounds with outstanding sea views across Killiney Bay. With accommodation...</td>\n",
              "      <td>Approx. 1 490 sq. m / 16 041 sq. ft. of accommodation over four floors\\nSituated on mature grounds of approximately 0.88 ha / 2.17 acres\\nAbundance of period features\\nOutstanding sea views across...</td>\n",
              "      <td>detached</td>\n",
              "    </tr>\n",
              "  </tbody>\n",
              "</table>\n",
              "</div>"
            ],
            "text/plain": [
              "       num_bathrooms  num_beds   latitude  longitude      surface    price  \\\n",
              "index                                                                        \n",
              "356                1         3  52.501856  -1.744995     79.00000   199000   \n",
              "507                1         4  53.474502  -6.343483  72236.38714  1100000   \n",
              "558               15        15  53.335109  -6.331515    318.20000   775000   \n",
              "1100              15        15  53.287504  -6.146605    700.00000  1500000   \n",
              "1116               1         2  53.386540  -6.377356   6705.00000   425000   \n",
              "1379              18        27  53.260955  -6.117266   1490.00000  4500000   \n",
              "\n",
              "      ber_class  \\\n",
              "index             \n",
              "356         NaN   \n",
              "507          E1   \n",
              "558          D1   \n",
              "1100        NaN   \n",
              "1116         E2   \n",
              "1379        NaN   \n",
              "\n",
              "                                                                                                                                                                                                   description  \\\n",
              "index                                                                                                                                                                                                            \n",
              "356    RAY COOKE AUCTIONEERS take great pleasure in introducing this stunning three bedroom semi-detached family home to the market on Wheatfield Close, Dublin 22. \\n\\nThis ever sought after location is ...   \n",
              "507    Thornton Park is a superb modern equestrian centre offering top class facilities in a beautiful setting on approximately 17.85 acres located 25 minutes from Dublin s City Centre.\\n\\nThe state of t...   \n",
              "558    umber 67 &amp; 69 Jamestown Road represent a fantastic investment opportunity to the discerning investor bringing a previous rent roll of €106,600 which can be improved upon. Ideally located on a ...   \n",
              "1100   A truly unique stone built house of great quality totalling approx. 700 sq.m/7534 sq.ft steeped in history and built on the original lands of Monkstown Castle in 1859 for the honourable J.W Vesey ...   \n",
              "1116   Baxter Real Estate are delighted to present to the market, this detached bungalow located on Main Street, Blanchardstown. Most recently used as a dental surgery, this property extends to approxima...   \n",
              "1379   The Grove is an imposing Victorian mansion built c.1840 situated on approximately 0.88 ha / 2.17 acres of mature elevated grounds with outstanding sea views across Killiney Bay. With accommodation...   \n",
              "\n",
              "                                                                                                                                                                                                      features  \\\n",
              "index                                                                                                                                                                                                            \n",
              "356                                                                                                                                                                                                       None   \n",
              "507                                                                                                                                                                                                       None   \n",
              "558                                                18 separate units\\nTransport links including the LUAS\\nStriking distance of the city centre\\nRent roll €106,600\\nIn the heart of the village\\nLane access\\n   \n",
              "1100   Lift servicing all floors\\nVenetian and gothic influences throughout\\nArchitect designed by Dean and Woodward in 1858\\nUsed previously both as a guest house and a nursing home\\nAmple off street pa...   \n",
              "1116   Short drive to the N3 and M50 .\\nSuitable for residential use, subject to planing permission.\\nWithin walking distance of Blanchardstown Shopping Centre and beside Supervalu Blanchardstown.\\nDetac...   \n",
              "1379   Approx. 1 490 sq. m / 16 041 sq. ft. of accommodation over four floors\\nSituated on mature grounds of approximately 0.88 ha / 2.17 acres\\nAbundance of period features\\nOutstanding sea views across...   \n",
              "\n",
              "                type  \n",
              "index                 \n",
              "356    semi-detached  \n",
              "507         bungalow  \n",
              "558    semi-detached  \n",
              "1100        detached  \n",
              "1116        bungalow  \n",
              "1379        detached  "
            ]
          },
          "execution_count": 6,
          "metadata": {},
          "output_type": "execute_result"
        }
      ],
      "source": [
        "bathroom_mask = train_set[\"num_bathrooms\"] > 10\n",
        "longitude_mask = train_set[\"longitude\"] > -5\n",
        "surface_mask = train_set[\"surface\"] > 5_000\n",
        "\n",
        "train_set_outliers = train_set[bathroom_mask | longitude_mask | surface_mask]\n",
        "pd.set_option(\"max_colwidth\", 200)\n",
        "train_set_outliers.drop(columns=[\"services\"])"
      ]
    },
    {
      "cell_type": "markdown",
      "metadata": {},
      "source": [
        "### Outlier analysis\n",
        "- index 356 : Has incorrect latitude. A google maps search shows this location is in Birmingham, UK\n",
        "- index 507 : Is not a house but an equestrian centre with 17 acres\n",
        "- index 558 : 15 beds and bathrooms shows that is actually a number of units\n",
        "- index 1100 : Is actually fine, the house is just a big mansion.\n",
        "- index 1116 : Incorrect value for surface, the description shows it is 67.5sqm\n",
        "- index 1379 : Another mansion\n",
        "\n",
        "Overall the first three entries could be removed from the dataset for showing poor data quality and `index 1116` can be fixed manually. \n",
        "\n",
        "The only decision lies within leaving the two ads for mansions in the dataset or not. The scatterplot above shows that these mansions have an abnormal number of bathrooms/bedrooms when compared with the rest of the houses, hence I'll choose to remove them"
      ]
    },
    {
      "cell_type": "code",
      "execution_count": 71,
      "metadata": {},
      "outputs": [
        {
          "data": {
            "image/png": "[encoded data removed]",
            "text/plain": [
              "<Figure size 1440x504 with 6 Axes>"
            ]
          },
          "metadata": {
            "needs_background": "light"
          },
          "output_type": "display_data"
        }
      ],
      "source": [
        "pd.reset_option(\"max_colwidth\")\n",
        "\n",
        "drop_index = [356, 507, 558, 1100, 1379]\n",
        "fix_index = 1116\n",
        "\n",
        "cleaned_train_set = train_set.drop(index=drop_index)\n",
        "\n",
        "cleaned_train_set.loc[fix_index, \"surface\"] = (\n",
        "    cleaned_train_set.loc[fix_index, \"surface\"] / 100\n",
        ")\n",
        "cleaned_train_set = cleaned_train_set[\n",
        "    cleaned_train_set[\"surface\"] < 900\n",
        "]  # Some other outliers that need to be filtered, found via manual inspection\n",
        "plot_numeric_feats(cleaned_train_set, scale_price=True)"
      ]
    },
    {
      "cell_type": "markdown",
      "metadata": {},
      "source": [
        "Now the datapoints look much better distributed, let's do some feature engineering"
      ]
    },
    {
      "cell_type": "code",
      "execution_count": 72,
      "metadata": {},
      "outputs": [
        {
          "data": {
            "image/png": "[encoded data removed]",
            "text/plain": [
              "<Figure size 864x432 with 1 Axes>"
            ]
          },
          "metadata": {
            "needs_background": "light"
          },
          "output_type": "display_data"
        }
      ],
      "source": [
        "X, y = cleaned_train_set.drop(columns=\"price\"), cleaned_train_set[\"price\"]\n",
        "\n",
        "y_scaler = StandardScaler()\n",
        "y_scaled = y_scaler.fit_transform(np.log(y.values.reshape(-1, 1)))\n",
        "\n",
        "plt.figure(figsize=(12, 6))\n",
        "plt.title(\"Histogram of $log{y}$ after scaling\")\n",
        "plt.hist(y_scaled)\n",
        "plt.show()"
      ]
    },
    {
      "cell_type": "markdown",
      "metadata": {},
      "source": [
        "# Creating Numeric features"
      ]
    },
    {
      "cell_type": "code",
      "execution_count": 74,
      "metadata": {},
      "outputs": [],
      "source": [
        "X_numeric = X.select_dtypes([\"int\", \"float\"])\n",
        "\n",
        "feature_scaler = StandardScaler()\n",
        "X_num_scaled = feature_scaler.fit_transform(X_numeric)\n",
        "\n",
        "# std_num = pd.DataFrame(X_num_scaled, columns=X_numeric.columns)\n",
        "# std_num[\"price\"] = y_scaler.inverse_transform(y_scaled)\n",
        "# plot_numeric_feats(std_num, scale_price=False)"
      ]
    },
    {
      "cell_type": "markdown",
      "metadata": {},
      "source": [
        "# Baseline model\n",
        "Let's set some baseline models that predict mean and median house price so we have a start point for our more advanced models"
      ]
    },
    {
      "cell_type": "code",
      "execution_count": 76,
      "metadata": {},
      "outputs": [],
      "source": [
        "def print_evaluation(y, y_preds, model_name=\"Baseline Mean\"):\n",
        "    mae = mean_absolute_error(y, y_preds)\n",
        "    msle = mean_squared_log_error(y, y_preds)\n",
        "    rmsle = mean_squared_log_error(y, y_preds, squared=False)\n",
        "    mape = mean_absolute_percentage_error(y, y_preds)\n",
        "\n",
        "    print(f\"------ {model_name} model performance ------\")\n",
        "    print(f\"MAE: {mae:,.2f}\")\n",
        "    print(f\"MSLE: {msle:,.4f}\")\n",
        "    print(f\"RMSLE: {rmsle:,.4f}\")\n",
        "    print(f\"MAPE: {mape:,.4f}\")\n",
        "\n",
        "\n",
        "def baseline_mean(y, y_scaler, evaluate=True):\n",
        "    \"\"\"Creates a set of predictions for X using solely the mean of training samples\"\"\"\n",
        "    y_true = np.exp(y_scaler.inverse_transform(y))\n",
        "    y_preds = np.exp(y_scaler.inverse_transform(np.ones(shape=(y.shape)) * np.mean(y)))\n",
        "\n",
        "    if evaluate:\n",
        "        print_evaluation(y_true, y_preds)\n",
        "    return y_preds\n",
        "\n",
        "\n",
        "def baseline_median(y, y_scaler, evaluate=True):\n",
        "    \"\"\"Creates a set of predictions for X using solely the median of training samples\"\"\"\n",
        "    y_true = np.exp(y_scaler.inverse_transform(y))\n",
        "    y_preds = np.exp(\n",
        "        y_scaler.inverse_transform(np.ones(shape=(y.shape)) * np.median(y))\n",
        "    )\n",
        "\n",
        "    if evaluate:\n",
        "        print_evaluation(y_true, y_preds)\n",
        "    return y_preds"
      ]
    },
    {
      "cell_type": "code",
      "execution_count": 77,
      "metadata": {},
      "outputs": [
        {
          "name": "stdout",
          "output_type": "stream",
          "text": [
            "------ Baseline Mean model performance ------\n",
            "MAE: 262,562.21\n",
            "MSLE: 0.3504\n",
            "RMSLE: 0.5920\n",
            "MAPE: 0.4659\n",
            "------ Baseline Mean model performance ------\n",
            "MAE: 259,619.08\n",
            "MSLE: 0.3628\n",
            "RMSLE: 0.6023\n",
            "MAPE: 0.4105\n"
          ]
        }
      ],
      "source": [
        "train_price = cleaned_train_set[\"price\"].to_numpy().reshape(-1, 1)\n",
        "\n",
        "y_train_mean = baseline_mean(y_scaled, y_scaler)\n",
        "y_train_median = baseline_median(y_scaled, y_scaler, \"Baseline median\")"
      ]
    },
    {
      "cell_type": "markdown",
      "metadata": {},
      "source": [
        "As expected the predictions are not great, but now we have something we can improve on\n",
        "\n",
        "Create a dummy submission using these models"
      ]
    },
    {
      "cell_type": "code",
      "execution_count": 79,
      "metadata": {},
      "outputs": [],
      "source": [
        "copy = test_set.copy().reset_index().rename(columns={\"index\": \"Index\"})\n",
        "\n",
        "y_test_mean_preds = y_train_mean[: test_set.shape[0]]\n",
        "y_test_median_preds = y_train_median[: test_set.shape[0]]\n",
        "\n",
        "copy[\"Price\"] = y_test_mean_preds\n",
        "copy[[\"Index\", \"Price\"]].to_csv(\n",
        "    os.path.join(dir_path, \"preds/\", \"mean_preds.csv\"), index=False\n",
        ")\n",
        "copy[\"Price\"] = y_test_mean_preds\n",
        "copy[[\"Index\", \"Price\"]].to_csv(\n",
        "    os.path.join(dir_path, \"preds/\", \"median_preds.csv\"), index=False\n",
        ")"
      ]
    },
    {
      "cell_type": "markdown",
      "metadata": {
        "id": "G5oRiZxo2gpN"
      },
      "source": [
        "# NATURAL LANGUAGE PROCESSING"
      ]
    },
    {
      "cell_type": "markdown",
      "metadata": {
        "id": "e8s0Wi3a8yjN"
      },
      "source": [
        "Natural language processing ([NLP](https://en.wikipedia.org/wiki/Natural_language_processing)) is a subfield of linguistics, computer science, and artificial intelligence.\n",
        "\n",
        "* NLP concerned with the interactions between computers and human language.\n",
        "* In particular how to program computers to process and analyze large amounts of natural language data. \n",
        "* The goal is a computer capable of \"understanding\" the contents of documents.\n",
        "* Including the contextual nuances of the language within them. \n",
        "* The technology can then accurately extract information and insights contained in the documents.\n",
        "* As well as categorize and organize the documents themselves. "
      ]
    },
    {
      "cell_type": "markdown",
      "metadata": {},
      "source": [
        "Let's now examine text features. We already know that `ber_class` and `type` can be encoded so let's separate them."
      ]
    },
    {
      "cell_type": "code",
      "execution_count": 80,
      "metadata": {},
      "outputs": [
        {
          "data": {
            "text/html": [
              "<div>\n",
              "<style scoped>\n",
              "    .dataframe tbody tr th:only-of-type {\n",
              "        vertical-align: middle;\n",
              "    }\n",
              "\n",
              "    .dataframe tbody tr th {\n",
              "        vertical-align: top;\n",
              "    }\n",
              "\n",
              "    .dataframe thead th {\n",
              "        text-align: right;\n",
              "    }\n",
              "</style>\n",
              "<table border=\"1\" class=\"dataframe\">\n",
              "  <thead>\n",
              "    <tr style=\"text-align: right;\">\n",
              "      <th></th>\n",
              "      <th>ber_class</th>\n",
              "      <th>description</th>\n",
              "      <th>services</th>\n",
              "      <th>features</th>\n",
              "      <th>type</th>\n",
              "    </tr>\n",
              "    <tr>\n",
              "      <th>index</th>\n",
              "      <th></th>\n",
              "      <th></th>\n",
              "      <th></th>\n",
              "      <th></th>\n",
              "      <th></th>\n",
              "    </tr>\n",
              "  </thead>\n",
              "  <tbody>\n",
              "    <tr>\n",
              "      <th>887</th>\n",
              "      <td>C3</td>\n",
              "      <td>Situated on a quiet lane just off the southern...</td>\n",
              "      <td>Parking,Oil Fired Central Heating</td>\n",
              "      <td>Spacious accommodation of c.216 sq m overall w...</td>\n",
              "      <td>detached</td>\n",
              "    </tr>\n",
              "    <tr>\n",
              "      <th>248</th>\n",
              "      <td>C3</td>\n",
              "      <td>Doran Estates are delighted to present 7 Carri...</td>\n",
              "      <td>Parking,Gas Fired Central Heating</td>\n",
              "      <td>Highly maintained semi detached house\\nEstabli...</td>\n",
              "      <td>semi-detached</td>\n",
              "    </tr>\n",
              "    <tr>\n",
              "      <th>1340</th>\n",
              "      <td>G</td>\n",
              "      <td>Joseph Estates is delighted to present this wo...</td>\n",
              "      <td>Parking,Wired for Cable Television</td>\n",
              "      <td>Top Floor Apartment \\nExcellent opportunity to...</td>\n",
              "      <td>apartment</td>\n",
              "    </tr>\n",
              "    <tr>\n",
              "      <th>1612</th>\n",
              "      <td>F</td>\n",
              "      <td>A wonderful opportunity to acquire an imposing...</td>\n",
              "      <td>NaN</td>\n",
              "      <td>Two storey semi-detached house with garage to ...</td>\n",
              "      <td>semi-detached</td>\n",
              "    </tr>\n",
              "    <tr>\n",
              "      <th>1449</th>\n",
              "      <td>C3</td>\n",
              "      <td>REA Grimes are delighted to present this stunn...</td>\n",
              "      <td>NaN</td>\n",
              "      <td>.\\tPristine condition throughout\\n.\\tWired thr...</td>\n",
              "      <td>semi-detached</td>\n",
              "    </tr>\n",
              "  </tbody>\n",
              "</table>\n",
              "</div>"
            ],
            "text/plain": [
              "      ber_class                                        description  \\\n",
              "index                                                                \n",
              "887          C3  Situated on a quiet lane just off the southern...   \n",
              "248          C3  Doran Estates are delighted to present 7 Carri...   \n",
              "1340          G  Joseph Estates is delighted to present this wo...   \n",
              "1612          F  A wonderful opportunity to acquire an imposing...   \n",
              "1449         C3  REA Grimes are delighted to present this stunn...   \n",
              "\n",
              "                                 services  \\\n",
              "index                                       \n",
              "887     Parking,Oil Fired Central Heating   \n",
              "248     Parking,Gas Fired Central Heating   \n",
              "1340   Parking,Wired for Cable Television   \n",
              "1612                                  NaN   \n",
              "1449                                  NaN   \n",
              "\n",
              "                                                features           type  \n",
              "index                                                                    \n",
              "887    Spacious accommodation of c.216 sq m overall w...       detached  \n",
              "248    Highly maintained semi detached house\\nEstabli...  semi-detached  \n",
              "1340   Top Floor Apartment \\nExcellent opportunity to...      apartment  \n",
              "1612   Two storey semi-detached house with garage to ...  semi-detached  \n",
              "1449   .\\tPristine condition throughout\\n.\\tWired thr...  semi-detached  "
            ]
          },
          "execution_count": 80,
          "metadata": {},
          "output_type": "execute_result"
        }
      ],
      "source": [
        "encoding_features = [\"ber_class\", \"type\"]\n",
        "\n",
        "X_txt = X.select_dtypes(\"object\")\n",
        "X_txt.sample(5, random_state=random_state)"
      ]
    },
    {
      "cell_type": "markdown",
      "metadata": {},
      "source": [
        "There are some characters that need to be cleaned from `description` and `features`, let's remove `\\n`, `\\r` and variants"
      ]
    },
    {
      "cell_type": "code",
      "execution_count": 81,
      "metadata": {},
      "outputs": [],
      "source": [
        "def clean_texts(series):\n",
        "    \"\"\"Cleans linebreaks, tabs return character, punctuation and double spacing in a Series of strings.\"\"\"\n",
        "    clean_series = series.copy().str.replace(r\"\\t|\\n|\\r\", \" \", regex=True)\n",
        "    clean_series = clean_series.str.replace(r\"[,.?!:;\\[\\]/\\(\\)'\\\"]\", \" \", regex=True)\n",
        "    clean_series = clean_series.str.replace(r\"\\s+\", \" \", regex=True)\n",
        "    return clean_series.str.lower()\n",
        "\n",
        "\n",
        "def map_ber(series):\n",
        "    \"\"\"Removes the numerical rating for BER, yielding only the letter rating.\n",
        "\n",
        "    I'm trying this strategy as class A1 has only one sample, which doesn't allow for \n",
        "    upsampling with SMOTE. In addition, using only a letter rating yields a smaller number\n",
        "    of classes and can make the problem of estimating new BER classes easier\n",
        "    \"\"\"\n",
        "    clean_ber = series.str.replace(\"SINo666of2006exempt\", \"EX\")\n",
        "    clean_ber = clean_ber.str.replace(r\"\\d+\", \"\", regex=True)\n",
        "    return clean_ber"
      ]
    },
    {
      "cell_type": "code",
      "execution_count": 82,
      "metadata": {},
      "outputs": [
        {
          "data": {
            "text/html": [
              "<div>\n",
              "<style scoped>\n",
              "    .dataframe tbody tr th:only-of-type {\n",
              "        vertical-align: middle;\n",
              "    }\n",
              "\n",
              "    .dataframe tbody tr th {\n",
              "        vertical-align: top;\n",
              "    }\n",
              "\n",
              "    .dataframe thead th {\n",
              "        text-align: right;\n",
              "    }\n",
              "</style>\n",
              "<table border=\"1\" class=\"dataframe\">\n",
              "  <thead>\n",
              "    <tr style=\"text-align: right;\">\n",
              "      <th></th>\n",
              "      <th>description</th>\n",
              "      <th>features</th>\n",
              "      <th>ber_class</th>\n",
              "    </tr>\n",
              "    <tr>\n",
              "      <th>index</th>\n",
              "      <th></th>\n",
              "      <th></th>\n",
              "      <th></th>\n",
              "    </tr>\n",
              "  </thead>\n",
              "  <tbody>\n",
              "    <tr>\n",
              "      <th>887</th>\n",
              "      <td>situated on a quiet lane just off the southern...</td>\n",
              "      <td>spacious accommodation of c 216 sq m overall w...</td>\n",
              "      <td>C</td>\n",
              "    </tr>\n",
              "    <tr>\n",
              "      <th>248</th>\n",
              "      <td>doran estates are delighted to present 7 carri...</td>\n",
              "      <td>highly maintained semi detached house establis...</td>\n",
              "      <td>C</td>\n",
              "    </tr>\n",
              "    <tr>\n",
              "      <th>1340</th>\n",
              "      <td>joseph estates is delighted to present this wo...</td>\n",
              "      <td>top floor apartment excellent opportunity to a...</td>\n",
              "      <td>G</td>\n",
              "    </tr>\n",
              "  </tbody>\n",
              "</table>\n",
              "</div>"
            ],
            "text/plain": [
              "                                             description  \\\n",
              "index                                                      \n",
              "887    situated on a quiet lane just off the southern...   \n",
              "248    doran estates are delighted to present 7 carri...   \n",
              "1340   joseph estates is delighted to present this wo...   \n",
              "\n",
              "                                                features ber_class  \n",
              "index                                                               \n",
              "887    spacious accommodation of c 216 sq m overall w...         C  \n",
              "248    highly maintained semi detached house establis...         C  \n",
              "1340   top floor apartment excellent opportunity to a...         G  "
            ]
          },
          "execution_count": 82,
          "metadata": {},
          "output_type": "execute_result"
        }
      ],
      "source": [
        "X_txt.loc[:, \"description\"] = clean_texts(X_txt.loc[:, \"description\"])\n",
        "X_txt.loc[:, \"features\"] = clean_texts(X_txt.loc[:, \"features\"])\n",
        "X_txt.loc[:, \"ber_class\"] = map_ber(X_txt.loc[:, \"ber_class\"])\n",
        "\n",
        "X_txt[[\"description\", \"features\", \"ber_class\"]].sample(3, random_state=random_state)"
      ]
    },
    {
      "cell_type": "code",
      "execution_count": 83,
      "metadata": {},
      "outputs": [
        {
          "data": {
            "text/plain": [
              "ber_class       248\n",
              "description       0\n",
              "services       1056\n",
              "features        512\n",
              "type              0\n",
              "dtype: int64"
            ]
          },
          "execution_count": 83,
          "metadata": {},
          "output_type": "execute_result"
        }
      ],
      "source": [
        "X_txt.isna().sum()"
      ]
    },
    {
      "cell_type": "markdown",
      "metadata": {},
      "source": [
        "`ber_class` and `services` have many null entries, but perhaps we can use other features to estimate `ber_class`?\n",
        "\n",
        "First we isolate the instances that have missing values and preprocess the training data by vectorizing and upsampling the targe classes"
      ]
    },
    {
      "cell_type": "code",
      "execution_count": 84,
      "metadata": {},
      "outputs": [
        {
          "name": "stdout",
          "output_type": "stream",
          "text": [
            "BER training set shape: (2912, 11088)\n",
            "BER test set shape: (514, 11088)\n"
          ]
        }
      ],
      "source": [
        "# Let's separate entries where ber_class is missing, we want to fill these in\n",
        "missing_ber = X_txt[\"ber_class\"].isna()\n",
        "X_missing = X_txt.loc[missing_ber, \"description\"].copy()\n",
        "\n",
        "X_ber = X_txt.loc[~missing_ber, \"description\"].copy()\n",
        "y_ber = X_txt.loc[~missing_ber, \"ber_class\"].copy()\n",
        "\n",
        "label_encoder = LabelEncoder()\n",
        "y_ber_encoded = label_encoder.fit_transform(y_ber)\n",
        "\n",
        "vectorizer = TfidfVectorizer()\n",
        "X_ber_vec = vectorizer.fit_transform(X_ber)\n",
        "\n",
        "smote = SMOTETomek(random_state=random_state)\n",
        "X_ber_bal, y_ber_bal = smote.fit_resample(X_ber_vec, y_ber_encoded)\n",
        "\n",
        "X_ber_train, X_ber_test, y_ber_train, y_ber_test = train_test_split(\n",
        "    X_ber_bal, y_ber_bal, train_size=0.85, random_state=random_state,\n",
        ")\n",
        "print(f\"BER training set shape: {X_ber_train.shape}\")\n",
        "print(f\"BER test set shape: {X_ber_test.shape}\")"
      ]
    },
    {
      "cell_type": "markdown",
      "metadata": {},
      "source": [
        "Now let's use grid search to find the best model for this task."
      ]
    },
    {
      "cell_type": "code",
      "execution_count": 85,
      "metadata": {},
      "outputs": [
        {
          "name": "stdout",
          "output_type": "stream",
          "text": [
            "Fitting 3 folds for each of 48 candidates, totalling 144 fits\n",
            "Pipeline(steps=[('model', SVC(C=1.05, kernel='poly', random_state=35848))])\n",
            "              precision    recall  f1-score   support\n",
            "\n",
            "           A       1.00      1.00      1.00        61\n",
            "           B       0.90      0.96      0.93        69\n",
            "           C       0.61      0.56      0.58        54\n",
            "           D       0.67      0.69      0.68        68\n",
            "           E       0.87      0.80      0.84        82\n",
            "          EX       1.00      1.00      1.00        48\n",
            "           F       0.94      1.00      0.97        72\n",
            "           G       1.00      1.00      1.00        60\n",
            "\n",
            "    accuracy                           0.88       514\n",
            "   macro avg       0.87      0.88      0.87       514\n",
            "weighted avg       0.87      0.88      0.87       514\n",
            "\n"
          ]
        }
      ],
      "source": [
        "pipeline = Pipeline([(\"model\", RandomForestClassifier(random_state=random_state)),])\n",
        "\n",
        "param_grid = [\n",
        "    {\n",
        "        \"model\": [RandomForestClassifier()],\n",
        "        \"model__random_state\": [random_state],\n",
        "        \"model__n_estimators\": range(107, 115, 1),\n",
        "        \"model__max_depth\": range(37, 42),\n",
        "    },\n",
        "    {\n",
        "        \"model\": [SVC()],\n",
        "        \"model__random_state\": [random_state],\n",
        "        \"model__C\": np.arange(0.95, 1.15, 0.1),\n",
        "        \"model__kernel\": [\"poly\", \"rbf\"],\n",
        "        \"model__degree\": [2, 3],\n",
        "        \"model__gamma\": [\"scale\"],\n",
        "    },\n",
        "]\n",
        "grid_search = GridSearchCV(\n",
        "    pipeline, param_grid, scoring=\"accuracy\", cv=3, verbose=3, n_jobs=-1\n",
        ")\n",
        "grid_search.fit(X_ber_train, y_ber_train)\n",
        "best_clf = grid_search.best_estimator_\n",
        "print(best_clf)\n",
        "\n",
        "y_ber_preds = best_clf.predict(X_ber_test)\n",
        "print(\n",
        "    classification_report(\n",
        "        y_ber_test, y_ber_preds, zero_division=0, target_names=label_encoder.classes_\n",
        "    )\n",
        ")"
      ]
    },
    {
      "cell_type": "markdown",
      "metadata": {},
      "source": [
        "We found a model with decent enough accuracy, let's use this to fill in the missing values now"
      ]
    },
    {
      "cell_type": "code",
      "execution_count": 86,
      "metadata": {},
      "outputs": [
        {
          "name": "stdout",
          "output_type": "stream",
          "text": [
            "There are 0 missing BER values\n"
          ]
        }
      ],
      "source": [
        "missing_preds = label_encoder.inverse_transform(\n",
        "    best_clf.predict(vectorizer.transform(X_missing.copy()))\n",
        ")\n",
        "X_txt.loc[missing_ber, \"ber_class\"] = missing_preds\n",
        "\n",
        "print(f\"There are {X_txt['ber_class'].isna().sum()} missing BER values\")"
      ]
    },
    {
      "cell_type": "markdown",
      "metadata": {
        "id": "oValFP-z2gpN"
      },
      "source": [
        "## Encoding text variables\n",
        "Now we have all values for BER filled in, we can encode `ber_class` and `type` as features to use for regression"
      ]
    },
    {
      "cell_type": "code",
      "execution_count": 87,
      "metadata": {},
      "outputs": [
        {
          "data": {
            "text/html": [
              "<div>\n",
              "<style scoped>\n",
              "    .dataframe tbody tr th:only-of-type {\n",
              "        vertical-align: middle;\n",
              "    }\n",
              "\n",
              "    .dataframe tbody tr th {\n",
              "        vertical-align: top;\n",
              "    }\n",
              "\n",
              "    .dataframe thead th {\n",
              "        text-align: right;\n",
              "    }\n",
              "</style>\n",
              "<table border=\"1\" class=\"dataframe\">\n",
              "  <thead>\n",
              "    <tr style=\"text-align: right;\">\n",
              "      <th></th>\n",
              "      <th>ber_class</th>\n",
              "      <th>type</th>\n",
              "    </tr>\n",
              "    <tr>\n",
              "      <th>index</th>\n",
              "      <th></th>\n",
              "      <th></th>\n",
              "    </tr>\n",
              "  </thead>\n",
              "  <tbody>\n",
              "    <tr>\n",
              "      <th>1</th>\n",
              "      <td>2</td>\n",
              "      <td>1</td>\n",
              "    </tr>\n",
              "    <tr>\n",
              "      <th>2</th>\n",
              "      <td>3</td>\n",
              "      <td>4</td>\n",
              "    </tr>\n",
              "    <tr>\n",
              "      <th>3</th>\n",
              "      <td>0</td>\n",
              "      <td>8</td>\n",
              "    </tr>\n",
              "    <tr>\n",
              "      <th>4</th>\n",
              "      <td>4</td>\n",
              "      <td>9</td>\n",
              "    </tr>\n",
              "    <tr>\n",
              "      <th>5</th>\n",
              "      <td>3</td>\n",
              "      <td>9</td>\n",
              "    </tr>\n",
              "  </tbody>\n",
              "</table>\n",
              "</div>"
            ],
            "text/plain": [
              "       ber_class  type\n",
              "index                 \n",
              "1              2     1\n",
              "2              3     4\n",
              "3              0     8\n",
              "4              4     9\n",
              "5              3     9"
            ]
          },
          "execution_count": 87,
          "metadata": {},
          "output_type": "execute_result"
        }
      ],
      "source": [
        "# Property maps as defined by Nigel Portley\n",
        "property_type_mapper = {\n",
        "    \"studio\": 0,\n",
        "    \"apartment\": 1,\n",
        "    \"duplex\": 2,\n",
        "    \"site\": 3,\n",
        "    \"terraced\": 4,\n",
        "    \"bungalow\": 5,\n",
        "    \"end-of-terrace\": 6,\n",
        "    \"townhouse\": 7,\n",
        "    \"semi-detached\": 8,\n",
        "    \"detached\": 9,\n",
        "}\n",
        "\n",
        "ber_encoder = OrdinalEncoder(dtype=\"int\")\n",
        "\n",
        "X_txt_features = X_txt[[\"ber_class\", \"type\"]].copy()\n",
        "X_txt_features[\"ber_class\"] = ber_encoder.fit_transform(\n",
        "    X_txt_features[\"ber_class\"].to_numpy().reshape(-1, 1)\n",
        ")\n",
        "X_txt_features[\"type\"] = X_txt_features[\"type\"].map(property_type_mapper)\n",
        "\n",
        "X_txt_features.head()"
      ]
    },
    {
      "cell_type": "markdown",
      "metadata": {},
      "source": [
        "# Create train/validation set\n",
        "\n",
        "The validation set will be used to fine-tune the models"
      ]
    },
    {
      "cell_type": "code",
      "execution_count": 88,
      "metadata": {},
      "outputs": [
        {
          "name": "stdout",
          "output_type": "stream",
          "text": [
            "X_train shape: (1141, 7)\n",
            "X_valid shape: (489, 7)\n"
          ]
        }
      ],
      "source": [
        "X_train_full = np.c_[X_num_scaled, X_txt_features.to_numpy()]\n",
        "\n",
        "X_train, X_valid, y_train, y_valid = train_test_split(\n",
        "    X_train_full, y_scaled, test_size=0.3, random_state=random_state\n",
        ")\n",
        "\n",
        "print(\"X_train shape:\", X_train.shape)\n",
        "print(\"X_valid shape:\", X_valid.shape)"
      ]
    },
    {
      "cell_type": "code",
      "execution_count": 89,
      "metadata": {},
      "outputs": [
        {
          "name": "stdout",
          "output_type": "stream",
          "text": [
            "X_train_num shape: (1141, 5)\n",
            "X_valid_num shape: (489, 5)\n"
          ]
        }
      ],
      "source": [
        "# Leaving this in to test model results with just numeric features\n",
        "\n",
        "X_train_num, X_valid_num, y_train_num, y_valid_num = train_test_split(\n",
        "    X_num_scaled, y_scaled, test_size=0.3, random_state=random_state\n",
        ")\n",
        "\n",
        "print(\"X_train_num shape:\", X_train_num.shape)\n",
        "print(\"X_valid_num shape:\", X_valid_num.shape)"
      ]
    },
    {
      "cell_type": "markdown",
      "metadata": {},
      "source": [
        "## Preparing the test set\n",
        "\n",
        "I'll also implement a function to prepare the test data so we can generate predictions and test them on Kaggle"
      ]
    },
    {
      "cell_type": "code",
      "execution_count": 90,
      "metadata": {},
      "outputs": [],
      "source": [
        "import warnings\n",
        "\n",
        "\n",
        "def prepare_test_set(\n",
        "    test_fname=\"HousePrice_Test.csv\",\n",
        "    dir_path=dir_path,\n",
        "    feature_scaler=feature_scaler,\n",
        "    vectorizer=vectorizer,\n",
        "    ber_model=best_clf,\n",
        "    ber_encoder=ber_encoder,\n",
        "    property_type_mapper=property_type_mapper,\n",
        "    feature_cols=[\n",
        "        \"num_bathrooms\",\n",
        "        \"num_beds\",\n",
        "        \"latitude\",\n",
        "        \"longitude\",\n",
        "        \"surface\",\n",
        "        \"ber_class\",\n",
        "        \"description\",\n",
        "        \"type\",\n",
        "    ],\n",
        "):\n",
        "    \"\"\"Implements a series of preprocessing methods on the test set\"\"\"\n",
        "\n",
        "    test_set = (\n",
        "        pd.read_csv(os.path.join(dir_path, test_fname))\n",
        "        .rename(columns=lambda x: x.lower())\n",
        "        .set_index(\"index\")\n",
        "        .drop(columns=\"id\")\n",
        "        .loc[:, feature_cols]\n",
        "    )\n",
        "    print(\"Loaded training set of shape\", test_set.shape)\n",
        "\n",
        "    X_num = test_set.select_dtypes([\"int\", \"float\"])\n",
        "    print(\"Scaling numeric columns:\", \" - \".join(X_num.columns))\n",
        "    X_num_scaled = feature_scaler.transform(X_num.to_numpy())\n",
        "\n",
        "    X_txt = test_set.select_dtypes(\"object\")\n",
        "    print(\"Preprocessing text columns:\", \" - \".join(X_txt.columns))\n",
        "    X_txt.loc[:, \"description\"] = clean_texts(X_txt.loc[:, \"description\"])\n",
        "    X_txt.loc[:, \"ber_class\"] = map_ber(X_txt.loc[:, \"ber_class\"])\n",
        "\n",
        "    missing_ber = X_txt[\"ber_class\"].isna()\n",
        "    if missing_ber.sum() > 0:\n",
        "        print(\n",
        "            f\"\\tfound {missing_ber.sum()} entries with missing BER class, using ber_model to fill in values\"\n",
        "        )\n",
        "        missing_preds = label_encoder.inverse_transform(\n",
        "            ber_model.predict(\n",
        "                vectorizer.transform(X_txt.loc[missing_ber, \"description\"].copy())\n",
        "            )\n",
        "        )\n",
        "        X_txt.loc[missing_ber, \"ber_class\"] = missing_preds\n",
        "    print(f\"Encoding text features\")\n",
        "    X_txt_features = X_txt[[\"ber_class\", \"type\"]].copy()\n",
        "    X_txt_features[\"ber_class\"] = ber_encoder.transform(\n",
        "        X_txt_features[\"ber_class\"].to_numpy().reshape(-1, 1)\n",
        "    )\n",
        "    X_txt_features[\"type\"] = X_txt_features[\"type\"].map(property_type_mapper)\n",
        "\n",
        "    X_test = np.c_[X_num_scaled, X_txt_features.to_numpy()]\n",
        "    print(f\"Generated final test set of shape {X_test.shape}\")\n",
        "\n",
        "    return test_set.index, X_test"
      ]
    },
    {
      "cell_type": "code",
      "execution_count": 91,
      "metadata": {},
      "outputs": [
        {
          "name": "stdout",
          "output_type": "stream",
          "text": [
            "Loaded training set of shape (702, 8)\n",
            "Scaling numeric columns: num_bathrooms - num_beds - latitude - longitude - surface\n",
            "Preprocessing text columns: ber_class - description - type\n",
            "\tfound 108 entries with missing BER class, using ber_model to fill in values\n",
            "Encoding text features\n",
            "Generated final test set of shape (702, 7)\n"
          ]
        }
      ],
      "source": [
        "test_indexes, X_test = prepare_test_set()"
      ]
    },
    {
      "cell_type": "markdown",
      "metadata": {},
      "source": [
        "# Full Regression"
      ]
    },
    {
      "cell_type": "code",
      "execution_count": 92,
      "metadata": {},
      "outputs": [],
      "source": [
        "def define_lin_reg(\n",
        "    predictors,\n",
        "    observed,\n",
        "    n_iterations=30_000,\n",
        "    n_samples=5_000,\n",
        "    alpha=(\"Normal\", 0, 10),\n",
        "    beta=(\"Normal\", 0, 10),\n",
        "    sigma=(\"HalfCauchy\", 5),\n",
        "):\n",
        "    \"\"\"Defines and trains a Bayesian linear regression model:\n",
        "            mu ~ alpha + beta * predictors\n",
        "    With likelihood\n",
        "            likelihood ~ N(mu, sigma)\n",
        "    Where alpha, beta and sigma are pymc distributions defined by the user.\n",
        "\n",
        "    Parameters\n",
        "    ----------\n",
        "    predictors : np.ndarray\n",
        "        Numpy array with model features.\n",
        "    observed : np.ndarray\n",
        "        Numpy array with observed values of the target feature. Preferably as a 1-D array\n",
        "        to speed up fitting time.\n",
        "    n_iterations : int\n",
        "        The number of iterations for fitting.\n",
        "    n_samples : int\n",
        "        The number of samples to draw for the posterior.\n",
        "    alpha : tuple(string, int, [int, ])\n",
        "        Prior distribution of alpha. The first argument should be a string with\n",
        "        a pymc3 model followed by 1 or more integer arguments for the parameters of that distribution.\n",
        "    beta : tuple(string, int, [int, ])\n",
        "        Prior distribution of beta. The first argument should be a string with\n",
        "        a pymc3 model followed by 1 or more integer arguments for the parameters of that distribution.\n",
        "    sigma : tuple(string, int, [int, ])\n",
        "        Prior distribution of sigma. The first argument should be a string with\n",
        "        a pymc3 model followed by 1 or more integer arguments for the parameters of that distribution.\n",
        "\n",
        "    Returns\n",
        "    -------\n",
        "    posterior : pymc3.backends.base.MultiTrace\n",
        "        Posterior distribution estimated by pymc model.\n",
        "    \"\"\"\n",
        "\n",
        "    with pm.Model() as model:\n",
        "        alpha = getattr(pm, alpha[0])(\"alpha\", *alpha[1:])\n",
        "        beta = getattr(pm, beta[0])(\"beta\", *beta[1:], shape=predictors.shape[1])\n",
        "\n",
        "        mu = alpha + pm.math.dot(beta, predictors.T)\n",
        "\n",
        "        sigma = getattr(pm, sigma[0])(\"sigma\", *sigma[1:])\n",
        "        likelihood = pm.Normal(\"likelihood\", mu=mu, sigma=sigma, observed=observed)\n",
        "        approximation = pm.fit(n_iterations, method=\"advi\", random_seed=random_state)\n",
        "        posterior = approximation.sample(n_samples)\n",
        "    return posterior\n",
        "\n",
        "\n",
        "def predict(posterior, X, y_scaler):\n",
        "    \"\"\"Calculates the predictions for a given X based on a learned posterior\n",
        "    \n",
        "    Parameters\n",
        "    ----------\n",
        "    posterior : pymc3.backends.base.MultiTrace.\n",
        "        Posterior distribution estimated by pymc model.\n",
        "    X : np.ndarray\n",
        "        Input features of data to estimate.\n",
        "    y_scaler : sklearn.preprocessing._data.StandardScaler\n",
        "        Scaler used to transform the predictor variable.\n",
        "    Returns\n",
        "    -------\n",
        "    np.ndarray\n",
        "        The model predictions.\n",
        "    \"\"\"\n",
        "    log_likelihood = np.mean(posterior[\"alpha\"]) + np.dot(\n",
        "        np.mean(posterior[\"beta\"], axis=0), X.T\n",
        "    )\n",
        "    y_pred = np.exp(y_scaler.inverse_transform(log_likelihood.reshape(-1, 1)))\n",
        "    return y_pred"
      ]
    },
    {
      "cell_type": "markdown",
      "metadata": {},
      "source": [
        "# Note: \n",
        "\n",
        "Looks like `surface` is really affecting the predictions of the model, I identified that there is a value in the training set with surface > 1,000 which I considered an outlier for the model above. To account for this, I'll "
      ]
    },
    {
      "cell_type": "code",
      "execution_count": 122,
      "metadata": {},
      "outputs": [],
      "source": [
        "def fix_outlier_preds(pred_df, n_std=3, repl_quantile=0.5):\n",
        "    \"\"\"Fix predictions that are way outside the models prediction range.\n",
        "\n",
        "    I found that some entries we possible outliers (e.g. idx 1749 has surface > 8000)\n",
        "    thus the model gives abnormally high values for this. This method implements a statistical\n",
        "    method for replacing these predictions if they fall outsize a number of standard deviations\n",
        "    away from the third quantile of the predictions.\n",
        "\n",
        "    Parameters\n",
        "    ----------\n",
        "    pred_df : pd.DataFrame\n",
        "        DataFrame with the predictions for the test set.\n",
        "    n_std : int, Optional\n",
        "        The number of standard deviations for defining an outlier.\n",
        "    repl_quantile : float, Optional\n",
        "        Quantile value to use to replace outliers. Defaults to median.\n",
        "    Returns\n",
        "    -------\n",
        "    pd.DataFrame\n",
        "        Datframe with outlier predictions replaced by the median.    \n",
        "    \"\"\"\n",
        "    df = pred_df.copy()\n",
        "    outliers = df[\"Price\"] > df[\"Price\"].quantile(0.75) + n_std * df[\"Price\"].std()\n",
        "    outlier_avg = df.loc[outliers, \"Price\"].mean()\n",
        "    print(\n",
        "        f\"Found {len(df[outliers])} outliers in the data with a mean Price of {outlier_avg:,.0f}\"\n",
        "    )\n",
        "\n",
        "    df.loc[outliers, \"Price\"] = df[\"Price\"].quantile(repl_quantile)\n",
        "    return df"
      ]
    },
    {
      "cell_type": "code",
      "execution_count": 131,
      "metadata": {},
      "outputs": [
        {
          "data": {
            "text/html": [
              "\n",
              "    <div>\n",
              "        <style>\n",
              "            /* Turns off some styling */\n",
              "            progress {\n",
              "                /* gets rid of default border in Firefox and Opera. */\n",
              "                border: none;\n",
              "                /* Needs to be in here for Safari polyfill so background images work as expected. */\n",
              "                background-size: auto;\n",
              "            }\n",
              "            .progress-bar-interrupted, .progress-bar-interrupted::-webkit-progress-bar {\n",
              "                background: #F44336;\n",
              "            }\n",
              "        </style>\n",
              "      <progress value='30000' class='' max='30000' style='width:300px; height:20px; vertical-align: middle;'></progress>\n",
              "      100.00% [30000/30000 00:02<00:00 Average Loss = 868.9]\n",
              "    </div>\n",
              "    "
            ],
            "text/plain": [
              "<IPython.core.display.HTML object>"
            ]
          },
          "metadata": {},
          "output_type": "display_data"
        },
        {
          "name": "stderr",
          "output_type": "stream",
          "text": [
            "Finished [100%]: Average Loss = 868.9\n",
            "INFO:pymc3.variational.inference:Finished [100%]: Average Loss = 868.9\n"
          ]
        },
        {
          "name": "stdout",
          "output_type": "stream",
          "text": [
            "------ (numeric features) Full Bayesian model performance ------\n",
            "MAE: 150,080.52\n",
            "MSLE: 0.0870\n",
            "RMSLE: 0.2949\n",
            "MAPE: 0.2309\n",
            "------ (validation) Full Bayesian model performance ------\n",
            "MAE: 160,427.41\n",
            "MSLE: 0.0952\n",
            "RMSLE: 0.3085\n",
            "MAPE: 0.2440\n",
            "Found 1 outliers in the data with a mean Price of 27,524,078,451,650,646,016\n"
          ]
        }
      ],
      "source": [
        "full_model = define_lin_reg(\n",
        "    X_train_num,\n",
        "    y_train_num.ravel(),\n",
        "    alpha=(\"Normal\", 0, 10),\n",
        "    beta=(\"Normal\", 0, 10),\n",
        "    sigma=(\"HalfCauchy\", 5),\n",
        ")\n",
        "\n",
        "y_train_preds = predict(full_model, X_train_num, y_scaler,)\n",
        "print_evaluation(\n",
        "    np.exp(y_scaler.inverse_transform(y_train_num)),\n",
        "    y_train_preds,\n",
        "    \"(numeric features) Full Bayesian\",\n",
        ")\n",
        "\n",
        "y_valid_preds = predict(full_model, X_valid_num, y_scaler,)\n",
        "print_evaluation(\n",
        "    np.exp(y_scaler.inverse_transform(y_valid_num)),\n",
        "    y_valid_preds,\n",
        "    \"(validation) Full Bayesian\",\n",
        ")\n",
        "\n",
        "test_pred_df = (\n",
        "    pd.DataFrame(\n",
        "        predict(\n",
        "            full_model, X_test[:, :-2], y_scaler\n",
        "        ),  # Remove the last two columns for the numeric bayesian model\n",
        "        index=test_indexes,\n",
        "        columns=[\"Price\"],\n",
        "    )\n",
        "    .reset_index()\n",
        "    .rename({\"index\": \"Index\"})\n",
        ")\n",
        "test_pred_df = fix_outlier_preds(test_pred_df)\n",
        "test_pred_df.to_csv(\n",
        "    os.path.join(dir_path, \"preds/\", \"numeric_bayesian_preds.csv\"), index=False\n",
        ")"
      ]
    },
    {
      "cell_type": "code",
      "execution_count": 135,
      "metadata": {},
      "outputs": [
        {
          "data": {
            "text/html": [
              "\n",
              "    <div>\n",
              "        <style>\n",
              "            /* Turns off some styling */\n",
              "            progress {\n",
              "                /* gets rid of default border in Firefox and Opera. */\n",
              "                border: none;\n",
              "                /* Needs to be in here for Safari polyfill so background images work as expected. */\n",
              "                background-size: auto;\n",
              "            }\n",
              "            .progress-bar-interrupted, .progress-bar-interrupted::-webkit-progress-bar {\n",
              "                background: #F44336;\n",
              "            }\n",
              "        </style>\n",
              "      <progress value='80000' class='' max='80000' style='width:300px; height:20px; vertical-align: middle;'></progress>\n",
              "      100.00% [80000/80000 00:06<00:00 Average Loss = 870.82]\n",
              "    </div>\n",
              "    "
            ],
            "text/plain": [
              "<IPython.core.display.HTML object>"
            ]
          },
          "metadata": {},
          "output_type": "display_data"
        },
        {
          "name": "stderr",
          "output_type": "stream",
          "text": [
            "Finished [100%]: Average Loss = 870.82\n",
            "INFO:pymc3.variational.inference:Finished [100%]: Average Loss = 870.82\n"
          ]
        },
        {
          "name": "stdout",
          "output_type": "stream",
          "text": [
            "------ (num+txt features) Full Bayesian model performance ------\n",
            "MAE: 146,909.14\n",
            "MSLE: 0.0848\n",
            "RMSLE: 0.2912\n",
            "MAPE: 0.2260\n",
            "------ (validation) Full Bayesian model performance ------\n",
            "MAE: 151,549.26\n",
            "MSLE: 0.0944\n",
            "RMSLE: 0.3073\n",
            "MAPE: 0.2434\n",
            "Found 1 outliers in the data with a mean Price of 14,535,372,217,930,272,768\n"
          ]
        }
      ],
      "source": [
        "full_model = define_lin_reg(\n",
        "    X_train,\n",
        "    y_train.ravel(),\n",
        "    alpha=(\"Normal\", 0, 10),\n",
        "    beta=(\"Normal\", 0, 10),\n",
        "    sigma=(\"HalfCauchy\", 5),\n",
        "    n_iterations=80_000,\n",
        "    n_samples=20_000,\n",
        ")\n",
        "\n",
        "y_train_preds = predict(full_model, X_train, y_scaler,)\n",
        "print_evaluation(\n",
        "    np.exp(y_scaler.inverse_transform(y_train)),\n",
        "    y_train_preds,\n",
        "    \"(num+txt features) Full Bayesian\",\n",
        ")\n",
        "\n",
        "y_valid_preds = predict(full_model, X_valid, y_scaler,)\n",
        "print_evaluation(\n",
        "    np.exp(y_scaler.inverse_transform(y_valid)),\n",
        "    y_valid_preds,\n",
        "    \"(validation) Full Bayesian\",\n",
        ")\n",
        "\n",
        "test_pred_df = (\n",
        "    pd.DataFrame(\n",
        "        predict(full_model, X_test, y_scaler), index=test_indexes, columns=[\"Price\"],\n",
        "    )\n",
        "    .reset_index()\n",
        "    .rename({\"index\": \"Index\"})\n",
        ")\n",
        "test_pred_df = fix_outlier_preds(test_pred_df)\n",
        "\n",
        "test_pred_df.to_csv(\n",
        "    os.path.join(dir_path, \"preds/\", \"num_txt_bayesian_preds.csv\"), index=False\n",
        ")"
      ]
    },
    {
      "cell_type": "markdown",
      "metadata": {},
      "source": [
        "The text features add a small improvement."
      ]
    },
    {
      "cell_type": "markdown",
      "metadata": {
        "id": "bJFJQxAS9HZK"
      },
      "source": [
        "# PIECEWISE REGRESSION"
      ]
    },
    {
      "cell_type": "markdown",
      "metadata": {
        "id": "QkRchZtf6IV-"
      },
      "source": [
        "**Piecewise regression**, extract from [Wikipedia](https://en.wikipedia.org/wiki/Segmented_regression):\n",
        "\n",
        "Segmented regression, also known as piecewise regression or broken-stick regression, is a method in regression analysis in which the independent variable is partitioned into intervals and a separate line segment is fit to each interval. \n",
        "\n",
        "* Segmented regression analysis can also be performed on \n",
        "multivariate data by partitioning the various independent variables. \n",
        "* Segmented regression is useful when the independent variables, clustered into different groups, exhibit different relationships between the variables in these regions. \n",
        "\n",
        "* The boundaries between the segments are breakpoints.\n",
        "\n",
        "* Segmented linear regression is segmented regression whereby the relations in the intervals are obtained by linear regression. "
      ]
    },
    {
      "cell_type": "markdown",
      "metadata": {
        "id": "po84zvge2NS7"
      },
      "source": [
        "To implement piecewise regression, first we need to identify the \"pieces\" in the dataset. For this we'll use GaussianMixtures."
      ]
    },
    {
      "cell_type": "code",
      "execution_count": 136,
      "metadata": {},
      "outputs": [],
      "source": [
        "from sklearn.base import BaseEstimator, TransformerMixin\n",
        "\n",
        "\n",
        "class FeatureSelector(BaseEstimator, TransformerMixin):\n",
        "    \"\"\"Custom class to select specific features from the inputs.\n",
        "    \n",
        "    Created to incorporate it into a pipeline then use GridSearch to find\n",
        "    the best features for clustering.\n",
        "    \"\"\"\n",
        "\n",
        "    def __init__(self, feature_indices=None):\n",
        "        \"\"\"Constructor for FeatureSelector.\n",
        "\n",
        "        Parameters\n",
        "        ----------\n",
        "        feature_indices : List[int], Optional\n",
        "            List containing indices of the features to be selected.\n",
        "        \"\"\"\n",
        "        self.feature_indices = feature_indices\n",
        "\n",
        "    def fit(self, X, y=None):\n",
        "        \"\"\"Does nothing. Implemented only so that this estimator can be used in a pipeline.\n",
        "        \"\"\"\n",
        "        return self\n",
        "\n",
        "    def transform(self, X, y=None):\n",
        "        \"\"\"Select the feature indices of the input dataset\n",
        "        \n",
        "        Parameters\n",
        "        ----------\n",
        "        X : np.ndarray\n",
        "            The dataset to process.\n",
        "        y : np.ndarray, Optional\n",
        "            Target variable to predict.\n",
        "        \n",
        "        Returns\n",
        "        -------\n",
        "        np.ndarray\n",
        "            A copy of X with only the selected columns.\n",
        "        \"\"\"\n",
        "        if self.feature_indices:\n",
        "            return X[:, self.feature_indices]\n",
        "        else:\n",
        "            # Return everything, if no indices are passed\n",
        "            return X\n",
        "\n",
        "\n",
        "# For generating combination of all features\n",
        "# n_features = X_train.shape[-1]\n",
        "\n",
        "# feat_combos = []\n",
        "# for n in range(1, n_features + 1):\n",
        "#     feat_combos.extend(list(combinations(list(range(n_features)), n)))\n",
        "# feat_combos"
      ]
    },
    {
      "cell_type": "markdown",
      "metadata": {},
      "source": [
        "First we define some functions to partition a dataset in each cluster, train models on each of these clusters and evaluate them"
      ]
    },
    {
      "cell_type": "code",
      "execution_count": 137,
      "metadata": {},
      "outputs": [],
      "source": [
        "# TODO: Add the ability for the data in each cluster to be standardized on its own\n",
        "def create_cluster_partitions(model, X, y=None, cluster_features=[2, 3]):\n",
        "    \"\"\"Partitions a dataset according to the clusters found by the given clustering model.\n",
        "    \n",
        "    Parameters\n",
        "    ----------\n",
        "    model : sklearn.sklearn.mixture.*\n",
        "        GaussianMixture model used for clustering.\n",
        "    X : np.ndarray\n",
        "        Dataset to be partitioned.\n",
        "    y : np.ndarray, Optional\n",
        "        Corresponding target labels to partition\n",
        "    cluster_features : List[int]\n",
        "        Indices of the features used for clustering.\n",
        "    \n",
        "    Returns\n",
        "    -------\n",
        "    tuple \n",
        "        X, y data partitioned according to the given model.\n",
        "        If y was None, then return None for its partitions\n",
        "    tuple\n",
        "        Partition labels and names.\n",
        "        The labels are effectively the cluster model predictions for the given data\n",
        "        while the names are the cluster numbers.\n",
        "    \"\"\"\n",
        "    partition_labels = model.predict(X[:, cluster_features])\n",
        "    partition_names = np.unique(partition_labels)\n",
        "    print(f\"Found {len(partition_names)} clusters in dataset\")\n",
        "\n",
        "    X_partitions = [X[partition_labels == k] for k in partition_names]\n",
        "    y_partitions = (\n",
        "        [y[partition_labels == k] for k in partition_names] if y is not None else None\n",
        "    )\n",
        "\n",
        "    partitioned_data = (X_partitions, y_partitions)\n",
        "    return partitioned_data, partition_names\n",
        "\n",
        "\n",
        "def train_piecewise_models(X_partitions, y_partitions, **model_kwargs):\n",
        "    \"\"\"Trains a Bayesian Linear regression model for each partition of the dataset.\n",
        "    \n",
        "    Parameters\n",
        "    ----------\n",
        "    X_partitions : List[np.ndarray]\n",
        "        A list of arrays, each entry corresponding to a partition of the data\n",
        "    y_partitions : List[np.ndarray]\n",
        "        A list of arrays with targets for each partition\n",
        "    **model_kwargs\n",
        "        Any other parameters to be passed to the Bayesian model\n",
        "    \n",
        "    Returns\n",
        "    -------\n",
        "    List\n",
        "        A list of model posteriors.\n",
        "    \"\"\"\n",
        "\n",
        "    return [\n",
        "        define_lin_reg(X_partitions[idx], y_partitions[idx].ravel(), **model_kwargs,)\n",
        "        for idx, _ in enumerate(X_partitions)\n",
        "    ]\n",
        "\n",
        "\n",
        "def predict_partitions(posteriors, X_partitions, y_scaler):\n",
        "    return [\n",
        "        predict(posteriors[idx], X_partitions[idx], y_scaler)\n",
        "        for idx, _ in enumerate(X_partitions)\n",
        "    ]\n",
        "\n",
        "\n",
        "def evaluate_piecewise_model(\n",
        "    posteriors, X_partitions, y_partitions, y_scaler, partition_names\n",
        "):\n",
        "    \"\"\"Evaluates the predictions of piecewise models.\n",
        "    \n",
        "    Parameters\n",
        "    ----------\n",
        "    posteriors : pymc3.backends.base.MultiTrace.\n",
        "        Posterior distributions estimated by pymc model.\n",
        "    X_partitions : np.ndarray\n",
        "        Partitions of dataset X to evaluate each posterior on.\n",
        "    y_partitions : np.ndarray\n",
        "        True labels of each partition.\n",
        "    y_scaler : sklearn.preprocessing._data.StandardScaler\n",
        "        Scaler used to transform the predictor variable.\n",
        "    partition_names : List\n",
        "        Names of the partitions defined by clustering method.\n",
        "    Returns\n",
        "    -------\n",
        "    pd.DataFrame\n",
        "        A Dataframe containing results of various metrics on each partition.\n",
        "    \"\"\"\n",
        "    y_pred_partitions = predict_partitions(posteriors, X_partitions, y_scaler)\n",
        "    y_true = [np.exp(y_scaler.inverse_transform(y)) for y in y_partitions]\n",
        "\n",
        "    mae = np.array(\n",
        "        [\n",
        "            mean_absolute_error(y, y_preds)\n",
        "            for y, y_preds in zip(y_true, y_pred_partitions)\n",
        "        ]\n",
        "    )\n",
        "    msle = np.array(\n",
        "        [\n",
        "            mean_squared_log_error(y, y_preds)\n",
        "            for y, y_preds in zip(y_true, y_pred_partitions)\n",
        "        ]\n",
        "    )\n",
        "    rmsle = np.sqrt(msle)\n",
        "    mape = np.array(\n",
        "        [\n",
        "            mean_absolute_percentage_error(y, y_preds)\n",
        "            for y, y_preds in zip(y_true, y_pred_partitions)\n",
        "        ]\n",
        "    )\n",
        "\n",
        "    scores = pd.DataFrame(\n",
        "        np.c_[[mae, msle, rmsle, mape]].T,\n",
        "        index=partition_names,\n",
        "        columns=[\n",
        "            \"mean_absolute_error\",\n",
        "            \"mean_square_log_error\",\n",
        "            \"root_mean_square_log_error\",\n",
        "            \"mean_absolute_percentage_error\",\n",
        "        ],\n",
        "    )\n",
        "    return scores"
      ]
    },
    {
      "cell_type": "markdown",
      "metadata": {},
      "source": [
        "My idea here is to use BGM with a high number of components so that it automatically identifies the number of clusters. In the cell below, clusters with almost zero weigth are ones that will be excluded.\n",
        "\n",
        "I want to create an estimator that will incorporate clustering, fitting the model to each cluster and then run GridSearch to find the optimal number of clusters but I need a schematic of the work to be done first."
      ]
    },
    {
      "cell_type": "code",
      "execution_count": 139,
      "metadata": {
        "id": "pXX7Mq2Y2NrK"
      },
      "outputs": [],
      "source": [
        "from sklearn.mixture import GaussianMixture, BayesianGaussianMixture\n",
        "from itertools import combinations\n",
        "\n",
        "# gmm_pipeline = Pipeline([\n",
        "#     (\"feat_selection\", FeatureSelector()),\n",
        "#     (\"clustering\", GaussianMixture(n_components=4))\n",
        "# ]\n",
        "\n",
        "# gmm_param_grid = [\n",
        "#     {\n",
        "#         \"feat_selection__feature_indices\": feat_combos[:15]\n",
        "#     }\n",
        "# ]\n",
        "\n",
        "bgm = BayesianGaussianMixture(n_components=12, max_iter=300, random_state=random_state)\n",
        "bgm.fit(X_train[:, 2:4])  # Initially just fit on latitude and longitude\n",
        "\n",
        "\n",
        "train_clusters = bgm.predict(X_train[:, 2:4])\n",
        "valid_clusters = bgm.predict(X_valid[:, 2:4])"
      ]
    },
    {
      "cell_type": "code",
      "execution_count": 140,
      "metadata": {},
      "outputs": [
        {
          "name": "stdout",
          "output_type": "stream",
          "text": [
            "Found 10 clusters in dataset\n"
          ]
        },
        {
          "data": {
            "text/html": [
              "\n",
              "    <div>\n",
              "        <style>\n",
              "            /* Turns off some styling */\n",
              "            progress {\n",
              "                /* gets rid of default border in Firefox and Opera. */\n",
              "                border: none;\n",
              "                /* Needs to be in here for Safari polyfill so background images work as expected. */\n",
              "                background-size: auto;\n",
              "            }\n",
              "            .progress-bar-interrupted, .progress-bar-interrupted::-webkit-progress-bar {\n",
              "                background: #F44336;\n",
              "            }\n",
              "        </style>\n",
              "      <progress value='30000' class='' max='30000' style='width:300px; height:20px; vertical-align: middle;'></progress>\n",
              "      100.00% [30000/30000 00:02<00:00 Average Loss = 76.174]\n",
              "    </div>\n",
              "    "
            ],
            "text/plain": [
              "<IPython.core.display.HTML object>"
            ]
          },
          "metadata": {},
          "output_type": "display_data"
        },
        {
          "name": "stderr",
          "output_type": "stream",
          "text": [
            "Finished [100%]: Average Loss = 76.102\n",
            "INFO:pymc3.variational.inference:Finished [100%]: Average Loss = 76.102\n"
          ]
        },
        {
          "data": {
            "text/html": [
              "\n",
              "    <div>\n",
              "        <style>\n",
              "            /* Turns off some styling */\n",
              "            progress {\n",
              "                /* gets rid of default border in Firefox and Opera. */\n",
              "                border: none;\n",
              "                /* Needs to be in here for Safari polyfill so background images work as expected. */\n",
              "                background-size: auto;\n",
              "            }\n",
              "            .progress-bar-interrupted, .progress-bar-interrupted::-webkit-progress-bar {\n",
              "                background: #F44336;\n",
              "            }\n",
              "        </style>\n",
              "      <progress value='30000' class='' max='30000' style='width:300px; height:20px; vertical-align: middle;'></progress>\n",
              "      100.00% [30000/30000 00:02<00:00 Average Loss = 241.17]\n",
              "    </div>\n",
              "    "
            ],
            "text/plain": [
              "<IPython.core.display.HTML object>"
            ]
          },
          "metadata": {},
          "output_type": "display_data"
        },
        {
          "name": "stderr",
          "output_type": "stream",
          "text": [
            "Finished [100%]: Average Loss = 241.12\n",
            "INFO:pymc3.variational.inference:Finished [100%]: Average Loss = 241.12\n"
          ]
        },
        {
          "data": {
            "text/html": [
              "\n",
              "    <div>\n",
              "        <style>\n",
              "            /* Turns off some styling */\n",
              "            progress {\n",
              "                /* gets rid of default border in Firefox and Opera. */\n",
              "                border: none;\n",
              "                /* Needs to be in here for Safari polyfill so background images work as expected. */\n",
              "                background-size: auto;\n",
              "            }\n",
              "            .progress-bar-interrupted, .progress-bar-interrupted::-webkit-progress-bar {\n",
              "                background: #F44336;\n",
              "            }\n",
              "        </style>\n",
              "      <progress value='30000' class='' max='30000' style='width:300px; height:20px; vertical-align: middle;'></progress>\n",
              "      100.00% [30000/30000 00:02<00:00 Average Loss = 159.69]\n",
              "    </div>\n",
              "    "
            ],
            "text/plain": [
              "<IPython.core.display.HTML object>"
            ]
          },
          "metadata": {},
          "output_type": "display_data"
        },
        {
          "name": "stderr",
          "output_type": "stream",
          "text": [
            "Finished [100%]: Average Loss = 159.61\n",
            "INFO:pymc3.variational.inference:Finished [100%]: Average Loss = 159.61\n"
          ]
        },
        {
          "data": {
            "text/html": [
              "\n",
              "    <div>\n",
              "        <style>\n",
              "            /* Turns off some styling */\n",
              "            progress {\n",
              "                /* gets rid of default border in Firefox and Opera. */\n",
              "                border: none;\n",
              "                /* Needs to be in here for Safari polyfill so background images work as expected. */\n",
              "                background-size: auto;\n",
              "            }\n",
              "            .progress-bar-interrupted, .progress-bar-interrupted::-webkit-progress-bar {\n",
              "                background: #F44336;\n",
              "            }\n",
              "        </style>\n",
              "      <progress value='30000' class='' max='30000' style='width:300px; height:20px; vertical-align: middle;'></progress>\n",
              "      100.00% [30000/30000 00:02<00:00 Average Loss = 103.43]\n",
              "    </div>\n",
              "    "
            ],
            "text/plain": [
              "<IPython.core.display.HTML object>"
            ]
          },
          "metadata": {},
          "output_type": "display_data"
        },
        {
          "name": "stderr",
          "output_type": "stream",
          "text": [
            "Finished [100%]: Average Loss = 103.37\n",
            "INFO:pymc3.variational.inference:Finished [100%]: Average Loss = 103.37\n"
          ]
        },
        {
          "data": {
            "text/html": [
              "\n",
              "    <div>\n",
              "        <style>\n",
              "            /* Turns off some styling */\n",
              "            progress {\n",
              "                /* gets rid of default border in Firefox and Opera. */\n",
              "                border: none;\n",
              "                /* Needs to be in here for Safari polyfill so background images work as expected. */\n",
              "                background-size: auto;\n",
              "            }\n",
              "            .progress-bar-interrupted, .progress-bar-interrupted::-webkit-progress-bar {\n",
              "                background: #F44336;\n",
              "            }\n",
              "        </style>\n",
              "      <progress value='30000' class='' max='30000' style='width:300px; height:20px; vertical-align: middle;'></progress>\n",
              "      100.00% [30000/30000 00:02<00:00 Average Loss = 86.386]\n",
              "    </div>\n",
              "    "
            ],
            "text/plain": [
              "<IPython.core.display.HTML object>"
            ]
          },
          "metadata": {},
          "output_type": "display_data"
        },
        {
          "name": "stderr",
          "output_type": "stream",
          "text": [
            "Finished [100%]: Average Loss = 86.311\n",
            "INFO:pymc3.variational.inference:Finished [100%]: Average Loss = 86.311\n"
          ]
        },
        {
          "data": {
            "text/html": [
              "\n",
              "    <div>\n",
              "        <style>\n",
              "            /* Turns off some styling */\n",
              "            progress {\n",
              "                /* gets rid of default border in Firefox and Opera. */\n",
              "                border: none;\n",
              "                /* Needs to be in here for Safari polyfill so background images work as expected. */\n",
              "                background-size: auto;\n",
              "            }\n",
              "            .progress-bar-interrupted, .progress-bar-interrupted::-webkit-progress-bar {\n",
              "                background: #F44336;\n",
              "            }\n",
              "        </style>\n",
              "      <progress value='30000' class='' max='30000' style='width:300px; height:20px; vertical-align: middle;'></progress>\n",
              "      100.00% [30000/30000 00:02<00:00 Average Loss = 95.797]\n",
              "    </div>\n",
              "    "
            ],
            "text/plain": [
              "<IPython.core.display.HTML object>"
            ]
          },
          "metadata": {},
          "output_type": "display_data"
        },
        {
          "name": "stderr",
          "output_type": "stream",
          "text": [
            "Finished [100%]: Average Loss = 95.676\n",
            "INFO:pymc3.variational.inference:Finished [100%]: Average Loss = 95.676\n"
          ]
        },
        {
          "data": {
            "text/html": [
              "\n",
              "    <div>\n",
              "        <style>\n",
              "            /* Turns off some styling */\n",
              "            progress {\n",
              "                /* gets rid of default border in Firefox and Opera. */\n",
              "                border: none;\n",
              "                /* Needs to be in here for Safari polyfill so background images work as expected. */\n",
              "                background-size: auto;\n",
              "            }\n",
              "            .progress-bar-interrupted, .progress-bar-interrupted::-webkit-progress-bar {\n",
              "                background: #F44336;\n",
              "            }\n",
              "        </style>\n",
              "      <progress value='30000' class='' max='30000' style='width:300px; height:20px; vertical-align: middle;'></progress>\n",
              "      100.00% [30000/30000 00:02<00:00 Average Loss = 66.799]\n",
              "    </div>\n",
              "    "
            ],
            "text/plain": [
              "<IPython.core.display.HTML object>"
            ]
          },
          "metadata": {},
          "output_type": "display_data"
        },
        {
          "name": "stderr",
          "output_type": "stream",
          "text": [
            "Finished [100%]: Average Loss = 66.623\n",
            "INFO:pymc3.variational.inference:Finished [100%]: Average Loss = 66.623\n"
          ]
        },
        {
          "data": {
            "text/html": [
              "\n",
              "    <div>\n",
              "        <style>\n",
              "            /* Turns off some styling */\n",
              "            progress {\n",
              "                /* gets rid of default border in Firefox and Opera. */\n",
              "                border: none;\n",
              "                /* Needs to be in here for Safari polyfill so background images work as expected. */\n",
              "                background-size: auto;\n",
              "            }\n",
              "            .progress-bar-interrupted, .progress-bar-interrupted::-webkit-progress-bar {\n",
              "                background: #F44336;\n",
              "            }\n",
              "        </style>\n",
              "      <progress value='30000' class='' max='30000' style='width:300px; height:20px; vertical-align: middle;'></progress>\n",
              "      100.00% [30000/30000 00:02<00:00 Average Loss = 83.25]\n",
              "    </div>\n",
              "    "
            ],
            "text/plain": [
              "<IPython.core.display.HTML object>"
            ]
          },
          "metadata": {},
          "output_type": "display_data"
        },
        {
          "name": "stderr",
          "output_type": "stream",
          "text": [
            "Finished [100%]: Average Loss = 83.079\n",
            "INFO:pymc3.variational.inference:Finished [100%]: Average Loss = 83.079\n"
          ]
        },
        {
          "data": {
            "text/html": [
              "\n",
              "    <div>\n",
              "        <style>\n",
              "            /* Turns off some styling */\n",
              "            progress {\n",
              "                /* gets rid of default border in Firefox and Opera. */\n",
              "                border: none;\n",
              "                /* Needs to be in here for Safari polyfill so background images work as expected. */\n",
              "                background-size: auto;\n",
              "            }\n",
              "            .progress-bar-interrupted, .progress-bar-interrupted::-webkit-progress-bar {\n",
              "                background: #F44336;\n",
              "            }\n",
              "        </style>\n",
              "      <progress value='30000' class='' max='30000' style='width:300px; height:20px; vertical-align: middle;'></progress>\n",
              "      100.00% [30000/30000 00:02<00:00 Average Loss = 26.154]\n",
              "    </div>\n",
              "    "
            ],
            "text/plain": [
              "<IPython.core.display.HTML object>"
            ]
          },
          "metadata": {},
          "output_type": "display_data"
        },
        {
          "name": "stderr",
          "output_type": "stream",
          "text": [
            "Finished [100%]: Average Loss = 26.136\n",
            "INFO:pymc3.variational.inference:Finished [100%]: Average Loss = 26.136\n"
          ]
        },
        {
          "data": {
            "text/html": [
              "\n",
              "    <div>\n",
              "        <style>\n",
              "            /* Turns off some styling */\n",
              "            progress {\n",
              "                /* gets rid of default border in Firefox and Opera. */\n",
              "                border: none;\n",
              "                /* Needs to be in here for Safari polyfill so background images work as expected. */\n",
              "                background-size: auto;\n",
              "            }\n",
              "            .progress-bar-interrupted, .progress-bar-interrupted::-webkit-progress-bar {\n",
              "                background: #F44336;\n",
              "            }\n",
              "        </style>\n",
              "      <progress value='30000' class='' max='30000' style='width:300px; height:20px; vertical-align: middle;'></progress>\n",
              "      100.00% [30000/30000 00:02<00:00 Average Loss = 67.77]\n",
              "    </div>\n",
              "    "
            ],
            "text/plain": [
              "<IPython.core.display.HTML object>"
            ]
          },
          "metadata": {},
          "output_type": "display_data"
        },
        {
          "name": "stderr",
          "output_type": "stream",
          "text": [
            "Finished [100%]: Average Loss = 67.705\n",
            "INFO:pymc3.variational.inference:Finished [100%]: Average Loss = 67.705\n"
          ]
        },
        {
          "data": {
            "text/plain": [
              "mean_absolute_error               84800.090533\n",
              "mean_square_log_error                 0.035269\n",
              "root_mean_square_log_error            0.178161\n",
              "mean_absolute_percentage_error        0.139752\n",
              "dtype: float64"
            ]
          },
          "execution_count": 140,
          "metadata": {},
          "output_type": "execute_result"
        }
      ],
      "source": [
        "train_partitions, partition_names = create_cluster_partitions(bgm, X_train, y_train)\n",
        "posteriors = train_piecewise_models(*train_partitions)\n",
        "\n",
        "scores = evaluate_piecewise_model(\n",
        "    posteriors, *train_partitions, y_scaler=y_scaler, partition_names=partition_names\n",
        ")\n",
        "scores.mean(axis=0)"
      ]
    },
    {
      "cell_type": "code",
      "execution_count": 141,
      "metadata": {},
      "outputs": [
        {
          "name": "stdout",
          "output_type": "stream",
          "text": [
            "Found 10 clusters in dataset\n"
          ]
        }
      ],
      "source": [
        "(test_partitions, _), partition_names = create_cluster_partitions(bgm, X_test)"
      ]
    },
    {
      "cell_type": "markdown",
      "metadata": {},
      "source": [
        "Generate predictions for each cluster"
      ]
    },
    {
      "cell_type": "code",
      "execution_count": 142,
      "metadata": {},
      "outputs": [
        {
          "data": {
            "text/plain": [
              "10"
            ]
          },
          "execution_count": 142,
          "metadata": {},
          "output_type": "execute_result"
        }
      ],
      "source": [
        "y_preds = predict_partitions(posteriors, test_partitions, y_scaler)\n",
        "len(y_preds)"
      ]
    },
    {
      "cell_type": "markdown",
      "metadata": {},
      "source": [
        "Now we have to put the prediction back in place with the original data indices"
      ]
    },
    {
      "cell_type": "code",
      "execution_count": 147,
      "metadata": {},
      "outputs": [
        {
          "name": "stdout",
          "output_type": "stream",
          "text": [
            "Found 1 outliers in the data with a mean Price of 443,154,336,082,822,666,590,879,744\n"
          ]
        }
      ],
      "source": [
        "piecewise_df = pd.DataFrame(test_set.index.rename(\"Index\"))\n",
        "\n",
        "piecewise_df[\"cluster\"] = bgm.predict(\n",
        "    X_test[:, [2, 3]]\n",
        ")  # Add the cluster label to each row in the test set\n",
        "piecewise_df[\"Price\"] = np.nan\n",
        "\n",
        "# For each cluster we found, add predictions to the dataframe\n",
        "for idx, cluster_n in enumerate(partition_names):\n",
        "    cluster_preds = y_preds[idx]\n",
        "    piecewise_df.loc[piecewise_df[\"cluster\"] == cluster_n, \"Price\"] = cluster_preds\n",
        "piecewise_df.drop(columns=\"cluster\", inplace=True)\n",
        "\n",
        "piecewise_df = fix_outlier_preds(piecewise_df)\n",
        "\n",
        "piecewise_df.to_csv(\n",
        "    os.path.join(dir_path, \"preds/\", \"num_txt_piecewise.csv\"), index=False\n",
        ")"
      ]
    },
    {
      "cell_type": "markdown",
      "metadata": {
        "id": "_kFgkUA85_pn"
      },
      "source": [
        "# BAYESIAN NN"
      ]
    },
    {
      "cell_type": "markdown",
      "metadata": {
        "id": "ELer5PV37ftX"
      },
      "source": [
        "A [Bayesian network](https://en.wikipedia.org/wiki/Bayesian_network) (also known as a Bayes network, Bayes net, belief network, or decision network) is a probabilistic graphical model that represents a set of variables and their conditional dependencies via a directed acyclic graph (DAG). \n",
        "\n",
        "* Bayesian networks are ideal for taking an event that occurred and predicting the likelihood that any one of several possible known causes was the contributing factor. \n",
        "* For example, a Bayesian network could represent the probabilistic relationships between diseases and symptoms. \n",
        "* Given symptoms, the network can be used to compute the probabilities of the presence of various diseases."
      ]
    },
    {
      "cell_type": "markdown",
      "metadata": {
        "id": "z0kauv1L5_po"
      },
      "source": [
        "One question I had when studying the Bayesian NN approach was: what is the difference between obtaining posteriors using `pm.sample` vs `pm.fit`?\n",
        "\n",
        "Trying to answer this question was difficult, as I'm not sure what are the methods happening behind each function, but after some researching here is what I found:\n",
        "\n",
        "- `pm.sample` draws samples from the posterior using MCMC methods (e.g. Metropolis, NUTS, etc...).\n",
        "- `pm.fit` draws samples from the posterior using **variational inference methods**. \n",
        "\n",
        "I don't fully understand the difference between the two approaches, however as summarized by (Easter, 2017):\n",
        "\n",
        "> **MCMC is asymptotically exact; VI is not**. In the limit, MCMC will exactly approximate the target distribution. VI comes without warranty.\n",
        "> >\n",
        "> **MCMC is computationally expensive. In general, VI is faster**.\n",
        "\n",
        "This means that using `pm.sample` should yield better results at the cost of taking a longer time."
      ]
    },
    {
      "cell_type": "code",
      "execution_count": 221,
      "metadata": {
        "id": "0smpwCET5_pp"
      },
      "outputs": [],
      "source": [
        "import theano\n",
        "\n",
        "# add a column of ones to include an intercept in the model (i.e. bias)\n",
        "X_train_bias = np.c_[np.ones(len(X_train)), X_train]\n",
        "\n",
        "\n",
        "n_units = 15\n",
        "# Initialize random weights between each layer\n",
        "# we do that to help the numerical algorithm that computes the posterior\n",
        "init_input = np.random.randn(X_train_bias.shape[1], n_units).astype(\n",
        "    theano.config.floatX\n",
        ")\n",
        "init_output = np.random.randn(n_units).astype(theano.config.floatX)\n",
        "\n",
        "# pymc3 model as neural_network\n",
        "with pm.Model() as neural_network:\n",
        "    # we convert the data in theano type so we can do dot products with the correct type.\n",
        "    inputs = pm.Data(\"input\", X_train_bias)\n",
        "    targets = pm.Data(\"targets\", y_train.ravel())\n",
        "\n",
        "    # Weights from input to hidden layer\n",
        "    hidden_1 = pm.Normal(\n",
        "        \"hidden_1\",\n",
        "        mu=0,\n",
        "        sigma=10,\n",
        "        shape=(X_train_bias.shape[1], n_units),\n",
        "        testval=init_input,\n",
        "    )\n",
        "    activation_1 = pm.math.tanh(\n",
        "        pm.math.dot(inputs, hidden_1)\n",
        "    )  # activation for the first layer\n",
        "\n",
        "    # Inner layer\n",
        "    # Weights from hidden layer to output\n",
        "    output_layer = pm.Normal(\n",
        "        \"output_layer\", mu=0, sigma=10, shape=(n_units,), testval=init_output\n",
        "    )\n",
        "    out_activation = pm.Deterministic(\n",
        "        \"outputs\", pm.math.dot(activation_1, output_layer)\n",
        "    )  # There's no activation\n",
        "\n",
        "    # standard deviation of noise\n",
        "    sigma = pm.HalfCauchy(\"sigma\", 5)\n",
        "    # Normal likelihood\n",
        "    likelihood = pm.Normal(\"likelihood\", out_activation, sigma=sigma, observed=targets)"
      ]
    },
    {
      "cell_type": "code",
      "execution_count": 225,
      "metadata": {},
      "outputs": [
        {
          "name": "stderr",
          "output_type": "stream",
          "text": [
            "Auto-assigning NUTS sampler...\n",
            "INFO:pymc3:Auto-assigning NUTS sampler...\n",
            "Initializing NUTS using jitter+adapt_diag...\n",
            "INFO:pymc3:Initializing NUTS using jitter+adapt_diag...\n",
            "Sequential sampling (1 chains in 1 job)\n",
            "INFO:pymc3:Sequential sampling (1 chains in 1 job)\n",
            "NUTS: [sigma, output_layer, hidden_1]\n",
            "INFO:pymc3:NUTS: [sigma, output_layer, hidden_1]\n"
          ]
        },
        {
          "data": {
            "text/html": [
              "\n",
              "    <div>\n",
              "        <style>\n",
              "            /* Turns off some styling */\n",
              "            progress {\n",
              "                /* gets rid of default border in Firefox and Opera. */\n",
              "                border: none;\n",
              "                /* Needs to be in here for Safari polyfill so background images work as expected. */\n",
              "                background-size: auto;\n",
              "            }\n",
              "            .progress-bar-interrupted, .progress-bar-interrupted::-webkit-progress-bar {\n",
              "                background: #F44336;\n",
              "            }\n",
              "        </style>\n",
              "      <progress value='1500' class='' max='1500' style='width:300px; height:20px; vertical-align: middle;'></progress>\n",
              "      100.00% [1500/1500 06:19<00:00 Sampling chain 0, 91 divergences]\n",
              "    </div>\n",
              "    "
            ],
            "text/plain": [
              "<IPython.core.display.HTML object>"
            ]
          },
          "metadata": {},
          "output_type": "display_data"
        },
        {
          "name": "stderr",
          "output_type": "stream",
          "text": [
            "Sampling 1 chain for 1_000 tune and 500 draw iterations (1_000 + 500 draws total) took 380 seconds.\n",
            "INFO:pymc3:Sampling 1 chain for 1_000 tune and 500 draw iterations (1_000 + 500 draws total) took 380 seconds.\n",
            "There were 91 divergences after tuning. Increase `target_accept` or reparameterize.\n",
            "ERROR:pymc3:There were 91 divergences after tuning. Increase `target_accept` or reparameterize.\n",
            "Only one chain was sampled, this makes it impossible to run some convergence checks\n",
            "INFO:pymc3:Only one chain was sampled, this makes it impossible to run some convergence checks\n"
          ]
        }
      ],
      "source": [
        "# this can be slow because there are many parameters\n",
        "\n",
        "# some parameters\n",
        "n_samples = 500  # start with 100, then use 1000+\n",
        "n_tuning_samples = 1000  # start with 1000, then use 10000+\n",
        "\n",
        "# neural network\n",
        "with neural_network:\n",
        "    mcmc_posterior = pm.sample(n_samples, tune=n_tuning_samples, chains=1)"
      ]
    },
    {
      "cell_type": "code",
      "execution_count": 404,
      "metadata": {},
      "outputs": [],
      "source": [
        "def bnn_predict(posterior, X, y_scaler):\n",
        "    \"\"\"An efficient method to evaluate Bayesian NN predictions by taking advantage of vectorized functions.\n",
        "        \n",
        "    Parameters\n",
        "    ----------\n",
        "    posterior : pymc3.backends.base.MultiTrace.\n",
        "        Posterior distribution estimated by pymc model.\n",
        "    X : np.ndarray\n",
        "        Input features of data to estimate.\n",
        "    y_scaler : sklearn.preprocessing._data.StandardScaler\n",
        "        Scaler used to transform the predictor variable.\n",
        "    Returns\n",
        "    -------\n",
        "    np.ndarray\n",
        "        The model predictions.\n",
        "    \"\"\"\n",
        "    # Start by transposing the hidden layer to shape (n_samples, n_units, n_features)\n",
        "    hidden_weights = np.transpose(posterior[\"hidden_1\"], [0, 2, 1])\n",
        "    # X will be of shape (1, n_features, n_instances)\n",
        "    X_reshaped = X.T[np.newaxis, :, :]\n",
        "\n",
        "    hidden = np.dot(\n",
        "        hidden_weights, X_reshaped\n",
        "    )  # mat-mul with output shape: (n_samples, n_units, n_instances)\n",
        "    hidden = np.squeeze(hidden)  # remove the axis introduced by np.newaxis\n",
        "    hidden = np.tanh(hidden)  # activation of the hidden layer\n",
        "\n",
        "    output = np.einsum(\n",
        "        \"ij,ijk->ik\", posterior[\"output_layer\"], hidden\n",
        "    )  # shape (n_samples, n_instances)\n",
        "    y_pred = np.mean(output, axis=0).reshape(-1, 1)\n",
        "    y_pred = np.exp(y_scaler.inverse_transform(y_pred))\n",
        "    return y_pred"
      ]
    },
    {
      "cell_type": "code",
      "execution_count": 409,
      "metadata": {},
      "outputs": [
        {
          "name": "stdout",
          "output_type": "stream",
          "text": [
            "------ (num+txt features) BNN model performance ------\n",
            "MAE: 71,837.53\n",
            "MSLE: 0.0251\n",
            "RMSLE: 0.1586\n",
            "MAPE: 0.1227\n"
          ]
        }
      ],
      "source": [
        "y_train_pred = bnn_predict(mcmc_posterior, X_train_bias, y_scaler)\n",
        "\n",
        "print_evaluation(\n",
        "    np.exp(y_scaler.inverse_transform(y_train)), y_train_pred, \"(num+txt features) BNN\",\n",
        ")"
      ]
    },
    {
      "cell_type": "code",
      "execution_count": 410,
      "metadata": {},
      "outputs": [
        {
          "name": "stdout",
          "output_type": "stream",
          "text": [
            "Found 6 outliers in the data with a mean Price of 3,091,345\n"
          ]
        }
      ],
      "source": [
        "# add a column of ones to include an intercept in the model\n",
        "X_test_bias = np.c_[np.ones(len(X_test)), X_test]\n",
        "\n",
        "# predictions\n",
        "y_test_pred = bnn_predict(mcmc_posterior, X_test_bias, y_scaler)\n",
        "\n",
        "df_pred_bnn = pd.DataFrame(y_test_pred, columns=[\"Price\"])\n",
        "df_pred_bnn[\"Index\"] = test_indexes\n",
        "df_pred_bnn = df_pred_bnn[[\"Index\", \"Price\"]]\n",
        "df_pred_bnn = fix_outlier_preds(df_pred_bnn, n_std=5)\n",
        "df_pred_bnn.to_csv(\n",
        "    os.path.join(dir_path, \"preds/\", \"num_txt_bnn_mcmc.csv\"), index=False\n",
        ")"
      ]
    },
    {
      "cell_type": "code",
      "execution_count": 411,
      "metadata": {},
      "outputs": [
        {
          "data": {
            "text/html": [
              "\n",
              "    <div>\n",
              "        <style>\n",
              "            /* Turns off some styling */\n",
              "            progress {\n",
              "                /* gets rid of default border in Firefox and Opera. */\n",
              "                border: none;\n",
              "                /* Needs to be in here for Safari polyfill so background images work as expected. */\n",
              "                background-size: auto;\n",
              "            }\n",
              "            .progress-bar-interrupted, .progress-bar-interrupted::-webkit-progress-bar {\n",
              "                background: #F44336;\n",
              "            }\n",
              "        </style>\n",
              "      <progress value='80000' class='' max='80000' style='width:300px; height:20px; vertical-align: middle;'></progress>\n",
              "      100.00% [80000/80000 00:47<00:00 Average Loss = 823.97]\n",
              "    </div>\n",
              "    "
            ],
            "text/plain": [
              "<IPython.core.display.HTML object>"
            ]
          },
          "metadata": {},
          "output_type": "display_data"
        },
        {
          "name": "stderr",
          "output_type": "stream",
          "text": [
            "Finished [100%]: Average Loss = 823.91\n",
            "INFO:pymc3.variational.inference:Finished [100%]: Average Loss = 823.91\n"
          ]
        },
        {
          "data": {
            "text/plain": [
              "Text(0.5, 0, 'iteration')"
            ]
          },
          "execution_count": 411,
          "metadata": {},
          "output_type": "execute_result"
        },
        {
          "data": {
            "image/png": "[encoded data removed]",
            "text/plain": [
              "<Figure size 432x288 with 1 Axes>"
            ]
          },
          "metadata": {
            "needs_background": "light"
          },
          "output_type": "display_data"
        }
      ],
      "source": [
        "# we can do instead an approximated inference\n",
        "n_iterations = 80_000  # start with 1000, then use 50000+\n",
        "method = \"advi\"  # 'advi', 'fullrank_advi', 'svgd', 'asvgd', 'nfvi'\n",
        "optimizer = pm.adam  # pm.adam, pm.sgd, pm.adagrad, pm.adagrad_window, pm.adadelta\n",
        "learning_rate = 5e-4\n",
        "\n",
        "with neural_network:\n",
        "    approx = pm.fit(\n",
        "        n_iterations,\n",
        "        method=method,\n",
        "        obj_optimizer=optimizer(learning_rate=learning_rate),\n",
        "    )\n",
        "\n",
        "\n",
        "# plot\n",
        "# Evidence Lower Bound (ELBO)\n",
        "# https://en.wikipedia.org/wiki/Evidence_lower_bound\n",
        "plt.plot(approx.hist, label=\"Variational Inference: \" + method.upper(), alpha=0.3)\n",
        "plt.legend(loc=\"upper right\")\n",
        "plt.ylabel(\"ELBO\")\n",
        "plt.xlabel(\"iteration\")"
      ]
    },
    {
      "cell_type": "code",
      "execution_count": 412,
      "metadata": {},
      "outputs": [],
      "source": [
        "# draw samples from variational posterior\n",
        "posterior_samples = 10_000\n",
        "vi_posterior = approx.sample(draws=posterior_samples)"
      ]
    },
    {
      "cell_type": "code",
      "execution_count": 413,
      "metadata": {},
      "outputs": [
        {
          "name": "stdout",
          "output_type": "stream",
          "text": [
            "------ (num+txt features) VI BNN model performance ------\n",
            "MAE: 91,495.39\n",
            "MSLE: 0.0373\n",
            "RMSLE: 0.1931\n",
            "MAPE: 0.1492\n"
          ]
        }
      ],
      "source": [
        "y_train_preds = bnn_predict(vi_posterior, X_train_bias, y_scaler)\n",
        "\n",
        "print_evaluation(\n",
        "    np.exp(y_scaler.inverse_transform(y_train)),\n",
        "    y_train_preds,\n",
        "    \"(num+txt features) VI BNN\",\n",
        ")"
      ]
    },
    {
      "cell_type": "markdown",
      "metadata": {},
      "source": [
        "To generate test predictions"
      ]
    },
    {
      "cell_type": "code",
      "execution_count": 415,
      "metadata": {},
      "outputs": [
        {
          "name": "stdout",
          "output_type": "stream",
          "text": [
            "Found 21 outliers in the data with a mean Price of 2,525,317\n"
          ]
        }
      ],
      "source": [
        "# add a column of ones to include an intercept in the model\n",
        "X_test_bias = np.c_[np.ones(len(X_test)), X_test]\n",
        "\n",
        "# predictions\n",
        "y_test_preds = bnn_predict(vi_posterior, X_test_bias, y_scaler)\n",
        "\n",
        "df_pred_bnn = pd.DataFrame(y_test_preds, columns=[\"Price\"])\n",
        "df_pred_bnn[\"Index\"] = test_indexes\n",
        "df_pred_bnn = df_pred_bnn[[\"Index\", \"Price\"]]\n",
        "df_pred_bnn = fix_outlier_preds(df_pred_bnn, n_std=3)\n",
        "df_pred_bnn.to_csv(os.path.join(dir_path, \"preds/\", \"num_txt_bnn_vi.csv\"), index=False)"
      ]
    },
    {
      "cell_type": "markdown",
      "metadata": {
        "id": "f0GYCpwEM09T"
      },
      "source": [
        "# SUMMARY"
      ]
    },
    {
      "cell_type": "markdown",
      "metadata": {
        "id": "rBDzsZSJ7HZp"
      },
      "source": [
        "Your summary here."
      ]
    }
  ],
  "metadata": {
    "colab": {
      "name": "ET5003_KaggleCompetition.ipynb",
      "provenance": []
    },
    "interpreter": {
      "hash": "597b03594f35869c58876e9008f9a586d3b25b5bdb518ec8cfdc4f97486ff2d0"
    },
    "kernelspec": {
      "display_name": "Python 3.7.11 64-bit ('et5003': conda)",
      "name": "python3"
    },
    "language_info": {
      "codemirror_mode": {
        "name": "ipython",
        "version": 3
      },
      "file_extension": ".py",
      "mimetype": "text/x-python",
      "name": "python",
      "nbconvert_exporter": "python",
      "pygments_lexer": "ipython3",
      "version": "3.7.11"
    }
  },
  "nbformat": 4,
  "nbformat_minor": 2
}
