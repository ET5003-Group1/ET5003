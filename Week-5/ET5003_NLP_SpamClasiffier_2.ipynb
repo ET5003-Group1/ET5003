{
  "nbformat": 4,
  "nbformat_minor": 2,
  "metadata": {
    "colab": {
      "name": "ET5003_NLP_SpamClasiffier_2.ipynb",
      "provenance": []
    },
    "kernelspec": {
      "name": "python3",
      "display_name": "Python 3.7.11 64-bit ('et5003': conda)"
    },
    "language_info": {
      "name": "python",
      "version": "3.7.11",
      "mimetype": "text/x-python",
      "codemirror_mode": {
        "name": "ipython",
        "version": 3
      },
      "pygments_lexer": "ipython3",
      "nbconvert_exporter": "python",
      "file_extension": ".py"
    },
    "interpreter": {
      "hash": "597b03594f35869c58876e9008f9a586d3b25b5bdb518ec8cfdc4f97486ff2d0"
    }
  },
  "cells": [
    {
      "cell_type": "markdown",
      "source": [
        "<div>\r\n",
        "<img src=\"https://drive.google.com/uc?export=view&id=1vK33e_EqaHgBHcbRV_m38hx6IkG0blK_\" width=\"350\"/>\r\n",
        "</div> \r\n",
        "\r\n",
        "# **Artificial Intelligence - MSc**\r\n",
        "## ET5003 - MACHINE LEARNING APPLICATIONS \r\n",
        "\r\n",
        "### Instructor: Enrique Naredo\r\n",
        "### ET5003_NLP_SpamClasiffier-2"
      ],
      "metadata": {
        "id": "930vlW5BrOtq"
      }
    },
    {
      "cell_type": "markdown",
      "source": [
        "\n",
        "### Spam Classification"
      ],
      "metadata": {
        "id": "rQyc5Xgdj7W9"
      }
    },
    {
      "cell_type": "markdown",
      "source": [
        "[Spamming](https://en.wikipedia.org/wiki/Spamming) is the use of messaging systems to send multiple unsolicited messages (spam) to large numbers of recipients for the purpose of commercial advertising, for the purpose of non-commercial proselytizing, for any prohibited purpose (especially the fraudulent purpose of phishing), or simply sending the same message over and over to the same user. "
      ],
      "metadata": {
        "id": "1z8j0PtO77Xs"
      }
    },
    {
      "cell_type": "markdown",
      "source": [
        "Spam Classification: Deciding whether an email is spam or not.\n",
        "\n"
      ],
      "metadata": {
        "id": "b_fap_t2DrME"
      }
    },
    {
      "cell_type": "markdown",
      "source": [
        "## Imports"
      ],
      "metadata": {
        "id": "Wg7VCbX77eAA"
      }
    },
    {
      "cell_type": "code",
      "execution_count": 1,
      "source": [
        "# standard libraries\r\n",
        "import pandas as pd\r\n",
        "import numpy as np"
      ],
      "outputs": [],
      "metadata": {
        "id": "k96-GLUGE2ux"
      }
    },
    {
      "cell_type": "code",
      "execution_count": 2,
      "source": [
        "# Scikit-learn is an open source machine learning library \r\n",
        "# that supports supervised and unsupervised learning\r\n",
        "# https://scikit-learn.org/stable/\r\n",
        "from sklearn.model_selection import train_test_split\r\n",
        "from sklearn.feature_extraction.text import CountVectorizer\r\n",
        "from sklearn.naive_bayes import MultinomialNB\r\n",
        "from sklearn.metrics import accuracy_score, confusion_matrix"
      ],
      "outputs": [],
      "metadata": {
        "id": "mxMYIOx1FONV"
      }
    },
    {
      "cell_type": "code",
      "execution_count": 3,
      "source": [
        "# Regular expression operations\r\n",
        "#https://docs.python.org/3/library/re.html\r\n",
        "import re \r\n",
        "\r\n",
        "# Natural Language Toolkit\r\n",
        "# https://www.nltk.org/install.html\r\n",
        "import nltk\r\n",
        "\r\n",
        "# Stemming maps different forms of the same word to a common “stem” \r\n",
        "# https://pypi.org/project/snowballstemmer/\r\n",
        "from nltk.stem import SnowballStemmer\r\n",
        "\r\n",
        "# https://www.nltk.org/book/ch02.html\r\n",
        "from nltk.corpus import stopwords"
      ],
      "outputs": [],
      "metadata": {
        "id": "YLlFHWx4j7W6"
      }
    },
    {
      "cell_type": "markdown",
      "source": [
        "## Step 1: Load dataset"
      ],
      "metadata": {
        "id": "-4iXKNAGj7W_"
      }
    },
    {
      "cell_type": "code",
      "execution_count": 6,
      "source": [
        "# path to your (local/cloud) drive \r\n",
        "path = os.getcwd()\r\n",
        "\r\n",
        "# load dataset\r\n",
        "df = pd.read_csv(path+'/spam.csv', encoding='latin-1')\r\n",
        "df.rename(columns = {'v1':'class_label', 'v2':'message'}, inplace = True)\r\n",
        "df.drop(['Unnamed: 2', 'Unnamed: 3', 'Unnamed: 4'], axis = 1, inplace = True, errors=\"ignore\")"
      ],
      "outputs": [],
      "metadata": {
        "id": "5akGy2kSj7W_"
      }
    },
    {
      "cell_type": "code",
      "execution_count": 7,
      "source": [
        "# original dataset\r\n",
        "df.head()"
      ],
      "outputs": [
        {
          "output_type": "execute_result",
          "data": {
            "text/html": [
              "<div>\n",
              "<style scoped>\n",
              "    .dataframe tbody tr th:only-of-type {\n",
              "        vertical-align: middle;\n",
              "    }\n",
              "\n",
              "    .dataframe tbody tr th {\n",
              "        vertical-align: top;\n",
              "    }\n",
              "\n",
              "    .dataframe thead th {\n",
              "        text-align: right;\n",
              "    }\n",
              "</style>\n",
              "<table border=\"1\" class=\"dataframe\">\n",
              "  <thead>\n",
              "    <tr style=\"text-align: right;\">\n",
              "      <th></th>\n",
              "      <th>class_label</th>\n",
              "      <th>message</th>\n",
              "    </tr>\n",
              "  </thead>\n",
              "  <tbody>\n",
              "    <tr>\n",
              "      <th>0</th>\n",
              "      <td>ham</td>\n",
              "      <td>Go until jurong point, crazy.. Available only ...</td>\n",
              "    </tr>\n",
              "    <tr>\n",
              "      <th>1</th>\n",
              "      <td>ham</td>\n",
              "      <td>Ok lar... Joking wif u oni...</td>\n",
              "    </tr>\n",
              "    <tr>\n",
              "      <th>2</th>\n",
              "      <td>spam</td>\n",
              "      <td>Free entry in 2 a wkly comp to win FA Cup fina...</td>\n",
              "    </tr>\n",
              "    <tr>\n",
              "      <th>3</th>\n",
              "      <td>ham</td>\n",
              "      <td>U dun say so early hor... U c already then say...</td>\n",
              "    </tr>\n",
              "    <tr>\n",
              "      <th>4</th>\n",
              "      <td>ham</td>\n",
              "      <td>Nah I don't think he goes to usf, he lives aro...</td>\n",
              "    </tr>\n",
              "  </tbody>\n",
              "</table>\n",
              "</div>"
            ],
            "text/plain": [
              "  class_label                                            message\n",
              "0         ham  Go until jurong point, crazy.. Available only ...\n",
              "1         ham                      Ok lar... Joking wif u oni...\n",
              "2        spam  Free entry in 2 a wkly comp to win FA Cup fina...\n",
              "3         ham  U dun say so early hor... U c already then say...\n",
              "4         ham  Nah I don't think he goes to usf, he lives aro..."
            ]
          },
          "metadata": {},
          "execution_count": 7
        }
      ],
      "metadata": {
        "id": "DkrYoNn3JHxe",
        "colab": {
          "base_uri": "https://localhost:8080/",
          "height": 205
        },
        "outputId": "b5393191-891d-4faa-d2d7-ccf7dfd3bc41"
      }
    },
    {
      "cell_type": "markdown",
      "source": [
        "The dataset has 4825 ham messages and 747 spam messages. "
      ],
      "metadata": {
        "id": "pLLarH27wLgG"
      }
    },
    {
      "cell_type": "code",
      "execution_count": 9,
      "source": [
        "# histogram\r\n",
        "import seaborn as sns\r\n",
        "sns.countplot(df['class_label'])"
      ],
      "outputs": [
        {
          "output_type": "stream",
          "name": "stderr",
          "text": [
            "C:\\Users\\gamin\\anaconda3\\envs\\et5003\\lib\\site-packages\\seaborn\\_decorators.py:43: FutureWarning: Pass the following variable as a keyword arg: x. From version 0.12, the only valid positional argument will be `data`, and passing other arguments without an explicit keyword will result in an error or misinterpretation.\n",
            "  FutureWarning\n"
          ]
        },
        {
          "output_type": "execute_result",
          "data": {
            "text/plain": [
              "<AxesSubplot:xlabel='class_label', ylabel='count'>"
            ]
          },
          "metadata": {},
          "execution_count": 9
        },
        {
          "output_type": "display_data",
          "data": {
            "image/png": "[encoded data removed]",
            "text/plain": [
              "<Figure size 432x288 with 1 Axes>"
            ]
          },
          "metadata": {
            "needs_background": "light"
          }
        }
      ],
      "metadata": {
        "id": "Xk1A7Ve4C-CW",
        "colab": {
          "base_uri": "https://localhost:8080/",
          "height": 353
        },
        "outputId": "d618505c-98ea-47cd-ae5d-155ab812405d"
      }
    },
    {
      "cell_type": "code",
      "execution_count": 10,
      "source": [
        "# explore dataset\r\n",
        "vc = df['class_label'].value_counts()\r\n",
        "print(vc)"
      ],
      "outputs": [
        {
          "output_type": "stream",
          "name": "stdout",
          "text": [
            "ham     4825\n",
            "spam     747\n",
            "Name: class_label, dtype: int64\n"
          ]
        }
      ],
      "metadata": {
        "id": "Z0OASGfNv-D9",
        "colab": {
          "base_uri": "https://localhost:8080/"
        },
        "outputId": "f3cb2588-37ee-47a2-f111-25cd215ec56b"
      }
    },
    {
      "cell_type": "markdown",
      "source": [
        "This is an imbalanced dataset\n",
        "* The number of ham messages is much higher than those of spam.\n",
        "* This can potentially cause our model to be biased.\n",
        "* To fix this, we could resample our data to get an equal number of spam/ham messages."
      ],
      "metadata": {
        "id": "vi4cyEMQwiGs"
      }
    },
    {
      "cell_type": "code",
      "execution_count": 11,
      "source": [
        "# convert class label to numeric\r\n",
        "from sklearn import preprocessing\r\n",
        "le = preprocessing.LabelEncoder()\r\n",
        "le.fit(df.class_label)\r\n",
        "df2 = df\r\n",
        "df2['class_label'] = le.transform(df.class_label)\r\n",
        "df2.head()"
      ],
      "outputs": [
        {
          "output_type": "execute_result",
          "data": {
            "text/html": [
              "<div>\n",
              "<style scoped>\n",
              "    .dataframe tbody tr th:only-of-type {\n",
              "        vertical-align: middle;\n",
              "    }\n",
              "\n",
              "    .dataframe tbody tr th {\n",
              "        vertical-align: top;\n",
              "    }\n",
              "\n",
              "    .dataframe thead th {\n",
              "        text-align: right;\n",
              "    }\n",
              "</style>\n",
              "<table border=\"1\" class=\"dataframe\">\n",
              "  <thead>\n",
              "    <tr style=\"text-align: right;\">\n",
              "      <th></th>\n",
              "      <th>class_label</th>\n",
              "      <th>message</th>\n",
              "    </tr>\n",
              "  </thead>\n",
              "  <tbody>\n",
              "    <tr>\n",
              "      <th>0</th>\n",
              "      <td>0</td>\n",
              "      <td>Go until jurong point, crazy.. Available only ...</td>\n",
              "    </tr>\n",
              "    <tr>\n",
              "      <th>1</th>\n",
              "      <td>0</td>\n",
              "      <td>Ok lar... Joking wif u oni...</td>\n",
              "    </tr>\n",
              "    <tr>\n",
              "      <th>2</th>\n",
              "      <td>1</td>\n",
              "      <td>Free entry in 2 a wkly comp to win FA Cup fina...</td>\n",
              "    </tr>\n",
              "    <tr>\n",
              "      <th>3</th>\n",
              "      <td>0</td>\n",
              "      <td>U dun say so early hor... U c already then say...</td>\n",
              "    </tr>\n",
              "    <tr>\n",
              "      <th>4</th>\n",
              "      <td>0</td>\n",
              "      <td>Nah I don't think he goes to usf, he lives aro...</td>\n",
              "    </tr>\n",
              "  </tbody>\n",
              "</table>\n",
              "</div>"
            ],
            "text/plain": [
              "   class_label                                            message\n",
              "0            0  Go until jurong point, crazy.. Available only ...\n",
              "1            0                      Ok lar... Joking wif u oni...\n",
              "2            1  Free entry in 2 a wkly comp to win FA Cup fina...\n",
              "3            0  U dun say so early hor... U c already then say...\n",
              "4            0  Nah I don't think he goes to usf, he lives aro..."
            ]
          },
          "metadata": {},
          "execution_count": 11
        }
      ],
      "metadata": {
        "id": "ncupCAgN3edE",
        "colab": {
          "base_uri": "https://localhost:8080/",
          "height": 205
        },
        "outputId": "d5218a10-e08f-443a-f38f-67b7eb8b0670"
      }
    },
    {
      "cell_type": "code",
      "execution_count": 12,
      "source": [
        "# another histogram\r\n",
        "df2.hist()"
      ],
      "outputs": [
        {
          "output_type": "execute_result",
          "data": {
            "text/plain": [
              "array([[<AxesSubplot:title={'center':'class_label'}>]], dtype=object)"
            ]
          },
          "metadata": {},
          "execution_count": 12
        },
        {
          "output_type": "display_data",
          "data": {
            "image/png": "[encoded data removed]",
            "text/plain": [
              "<Figure size 432x288 with 1 Axes>"
            ]
          },
          "metadata": {
            "needs_background": "light"
          }
        }
      ],
      "metadata": {
        "id": "jdYnAHDxyYz5",
        "colab": {
          "base_uri": "https://localhost:8080/",
          "height": 315
        },
        "outputId": "7c224c19-861c-4daa-ec0d-5dea31a04e6f"
      }
    },
    {
      "cell_type": "markdown",
      "source": [
        "## Step 2: Pre-processing"
      ],
      "metadata": {
        "id": "wMyuPYcuj7XB"
      }
    },
    {
      "cell_type": "markdown",
      "source": [
        "Next, we’ll convert our DataFrame to a list, where every element of that list will be a spam message. Then, we’ll join each element of our list into one big string of spam messages. The lowercase form of that string is the required format needed for our word cloud creation."
      ],
      "metadata": {
        "id": "NwV_lUl2B30F"
      }
    },
    {
      "cell_type": "code",
      "execution_count": 13,
      "source": [
        "spam_list = df['message'].tolist()\r\n",
        "spam_list[:10]"
      ],
      "outputs": [
        {
          "output_type": "execute_result",
          "data": {
            "text/plain": [
              "['Go until jurong point, crazy.. Available only in bugis n great world la e buffet... Cine there got amore wat...',\n",
              " 'Ok lar... Joking wif u oni...',\n",
              " \"Free entry in 2 a wkly comp to win FA Cup final tkts 21st May 2005. Text FA to 87121 to receive entry question(std txt rate)T&C's apply 08452810075over18's\",\n",
              " 'U dun say so early hor... U c already then say...',\n",
              " \"Nah I don't think he goes to usf, he lives around here though\",\n",
              " \"FreeMsg Hey there darling it's been 3 week's now and no word back! I'd like some fun you up for it still? Tb ok! XxX std chgs to send, Ã¥Â£1.50 to rcv\",\n",
              " 'Even my brother is not like to speak with me. They treat me like aids patent.',\n",
              " \"As per your request 'Melle Melle (Oru Minnaminunginte Nurungu Vettam)' has been set as your callertune for all Callers. Press *9 to copy your friends Callertune\",\n",
              " 'WINNER!! As a valued network customer you have been selected to receivea Ã¥Â£900 prize reward! To claim call 09061701461. Claim code KL341. Valid 12 hours only.',\n",
              " 'Had your mobile 11 months or more? U R entitled to Update to the latest colour mobiles with camera for Free! Call The Mobile Update Co FREE on 08002986030']"
            ]
          },
          "metadata": {},
          "execution_count": 13
        }
      ],
      "metadata": {
        "id": "4l-T0tgVCapA",
        "colab": {
          "base_uri": "https://localhost:8080/"
        },
        "outputId": "2a24c288-f5b0-4818-bd57-95c4a64db3fa"
      }
    },
    {
      "cell_type": "code",
      "execution_count": 14,
      "source": [
        "new_df = pd.DataFrame({'message':spam_list})"
      ],
      "outputs": [],
      "metadata": {
        "id": "KkUeZYWaueOr"
      }
    },
    {
      "cell_type": "code",
      "execution_count": 15,
      "source": [
        "# removing everything except alphabets\r\n",
        "new_df['clean_message'] = new_df['message'].str.replace(\"[^a-zA-Z#]\", \" \")"
      ],
      "outputs": [
        {
          "output_type": "stream",
          "name": "stderr",
          "text": [
            "ipykernel_launcher:2: FutureWarning: The default value of regex will change from True to False in a future version.\n"
          ]
        }
      ],
      "metadata": {
        "id": "sggwZPt_i3b2"
      }
    },
    {
      "cell_type": "code",
      "execution_count": 16,
      "source": [
        "# removing short words\r\n",
        "short_word = 4\r\n",
        "new_df['clean_message'] = new_df['clean_message'].apply(lambda x: ' '.join([w for w in x.split() if len(w)>short_word]))"
      ],
      "outputs": [],
      "metadata": {
        "id": "dtuh5Ovki9Yn"
      }
    },
    {
      "cell_type": "code",
      "execution_count": 17,
      "source": [
        "# make all text lowercase\r\n",
        "new_df['clean_message'] = new_df['clean_message'].apply(lambda x: x.lower())"
      ],
      "outputs": [],
      "metadata": {
        "id": "KVr7QerkjMlG"
      }
    },
    {
      "cell_type": "code",
      "execution_count": 18,
      "source": [
        "import nltk\r\n",
        "from nltk.corpus import stopwords\r\n",
        "nltk.download('stopwords')\r\n",
        "\r\n",
        "swords = stopwords.words('english')"
      ],
      "outputs": [
        {
          "output_type": "stream",
          "name": "stderr",
          "text": [
            "[nltk_data] Downloading package stopwords to\n",
            "[nltk_data]     C:\\Users\\gamin\\AppData\\Roaming\\nltk_data...\n",
            "[nltk_data]   Package stopwords is already up-to-date!\n"
          ]
        }
      ],
      "metadata": {
        "id": "gG9-cDMWkUyD",
        "colab": {
          "base_uri": "https://localhost:8080/"
        },
        "outputId": "0aa04748-e47a-4f7e-b85b-0e69efc5b504"
      }
    },
    {
      "cell_type": "code",
      "execution_count": 19,
      "source": [
        "# tokenization\r\n",
        "tokenized_doc = new_df['clean_message'].apply(lambda x: x.split())"
      ],
      "outputs": [],
      "metadata": {
        "id": "VqVT2y19kWai"
      }
    },
    {
      "cell_type": "code",
      "execution_count": 20,
      "source": [
        "# remove stop-words\r\n",
        "tokenized_doc = tokenized_doc.apply(lambda x: [item for item in x if item not in swords])"
      ],
      "outputs": [],
      "metadata": {
        "id": "PWI_7-IxkX0L"
      }
    },
    {
      "cell_type": "code",
      "execution_count": 21,
      "source": [
        "# de-tokenization\r\n",
        "detokenized_doc = []\r\n",
        "for i in range(len(new_df)):\r\n",
        "    t = ' '.join(tokenized_doc[i])\r\n",
        "    detokenized_doc.append(t)"
      ],
      "outputs": [],
      "metadata": {
        "id": "pHSU4-bCkZow"
      }
    },
    {
      "cell_type": "code",
      "execution_count": 22,
      "source": [
        "new_df['clean_message'] = detokenized_doc"
      ],
      "outputs": [],
      "metadata": {
        "id": "1EiLYybxkbNf"
      }
    },
    {
      "cell_type": "code",
      "execution_count": 23,
      "source": [
        "new_df.head()"
      ],
      "outputs": [
        {
          "output_type": "execute_result",
          "data": {
            "text/html": [
              "<div>\n",
              "<style scoped>\n",
              "    .dataframe tbody tr th:only-of-type {\n",
              "        vertical-align: middle;\n",
              "    }\n",
              "\n",
              "    .dataframe tbody tr th {\n",
              "        vertical-align: top;\n",
              "    }\n",
              "\n",
              "    .dataframe thead th {\n",
              "        text-align: right;\n",
              "    }\n",
              "</style>\n",
              "<table border=\"1\" class=\"dataframe\">\n",
              "  <thead>\n",
              "    <tr style=\"text-align: right;\">\n",
              "      <th></th>\n",
              "      <th>message</th>\n",
              "      <th>clean_message</th>\n",
              "    </tr>\n",
              "  </thead>\n",
              "  <tbody>\n",
              "    <tr>\n",
              "      <th>0</th>\n",
              "      <td>Go until jurong point, crazy.. Available only ...</td>\n",
              "      <td>jurong point crazy available bugis great world...</td>\n",
              "    </tr>\n",
              "    <tr>\n",
              "      <th>1</th>\n",
              "      <td>Ok lar... Joking wif u oni...</td>\n",
              "      <td>joking</td>\n",
              "    </tr>\n",
              "    <tr>\n",
              "      <th>2</th>\n",
              "      <td>Free entry in 2 a wkly comp to win FA Cup fina...</td>\n",
              "      <td>entry final receive entry question apply</td>\n",
              "    </tr>\n",
              "    <tr>\n",
              "      <th>3</th>\n",
              "      <td>U dun say so early hor... U c already then say...</td>\n",
              "      <td>early already</td>\n",
              "    </tr>\n",
              "    <tr>\n",
              "      <th>4</th>\n",
              "      <td>Nah I don't think he goes to usf, he lives aro...</td>\n",
              "      <td>think lives around though</td>\n",
              "    </tr>\n",
              "  </tbody>\n",
              "</table>\n",
              "</div>"
            ],
            "text/plain": [
              "                                             message  \\\n",
              "0  Go until jurong point, crazy.. Available only ...   \n",
              "1                      Ok lar... Joking wif u oni...   \n",
              "2  Free entry in 2 a wkly comp to win FA Cup fina...   \n",
              "3  U dun say so early hor... U c already then say...   \n",
              "4  Nah I don't think he goes to usf, he lives aro...   \n",
              "\n",
              "                                       clean_message  \n",
              "0  jurong point crazy available bugis great world...  \n",
              "1                                             joking  \n",
              "2           entry final receive entry question apply  \n",
              "3                                      early already  \n",
              "4                          think lives around though  "
            ]
          },
          "metadata": {},
          "execution_count": 23
        }
      ],
      "metadata": {
        "colab": {
          "base_uri": "https://localhost:8080/",
          "height": 205
        },
        "id": "8B-xuYTVHvbG",
        "outputId": "b5719d54-279e-4f8e-ac5a-ef28b6caeebc"
      }
    },
    {
      "cell_type": "markdown",
      "source": [
        "## Step 3: TfidfVectorizer"
      ],
      "metadata": {
        "id": "OyalxaBEbaiM"
      }
    },
    {
      "cell_type": "markdown",
      "source": [
        "**[TfidfVectorizer](https://scikit-learn.org/stable/modules/generated/sklearn.feature_extraction.text.TfidfVectorizer.html)**\n",
        "\n",
        "Convert a collection of raw documents to a matrix of TF-IDF features."
      ],
      "metadata": {
        "id": "Bvov0OYykd74"
      }
    },
    {
      "cell_type": "code",
      "execution_count": 24,
      "source": [
        "from sklearn.feature_extraction.text import TfidfVectorizer\r\n",
        "\r\n",
        "vectorizer = TfidfVectorizer(stop_words='english', max_features= 300, max_df=0.5, smooth_idf=True)\r\n",
        "print(vectorizer)"
      ],
      "outputs": [
        {
          "output_type": "stream",
          "name": "stdout",
          "text": [
            "TfidfVectorizer(max_df=0.5, max_features=300, stop_words='english')\n"
          ]
        }
      ],
      "metadata": {
        "id": "YMy3AyZpkmTq",
        "colab": {
          "base_uri": "https://localhost:8080/"
        },
        "outputId": "50209bf7-5d0e-4185-deed-8dfba9bd1086"
      }
    },
    {
      "cell_type": "code",
      "execution_count": 25,
      "source": [
        "X = vectorizer.fit_transform(new_df['clean_message'])\r\n",
        "X.shape"
      ],
      "outputs": [
        {
          "output_type": "execute_result",
          "data": {
            "text/plain": [
              "(5572, 300)"
            ]
          },
          "metadata": {},
          "execution_count": 25
        }
      ],
      "metadata": {
        "colab": {
          "base_uri": "https://localhost:8080/"
        },
        "id": "lsskyTBolioX",
        "outputId": "b9082978-4c56-43a2-fe5f-60a5bec5728b"
      }
    },
    {
      "cell_type": "code",
      "execution_count": 26,
      "source": [
        "y = df['class_label']\r\n",
        "y.shape"
      ],
      "outputs": [
        {
          "output_type": "execute_result",
          "data": {
            "text/plain": [
              "(5572,)"
            ]
          },
          "metadata": {},
          "execution_count": 26
        }
      ],
      "metadata": {
        "colab": {
          "base_uri": "https://localhost:8080/"
        },
        "id": "CsoGk8BTRGRQ",
        "outputId": "e9efdff3-0fc7-41cb-e0d1-810652f4449f"
      }
    },
    {
      "cell_type": "markdown",
      "source": [
        "Handle imbalance data through SMOTE "
      ],
      "metadata": {
        "id": "3knbYZitQKDN"
      }
    },
    {
      "cell_type": "code",
      "execution_count": 29,
      "source": [
        "from imblearn.combine import SMOTETomek \r\n",
        "smk= SMOTETomek()\r\n",
        "\r\n",
        "X_bal, y_bal = smk.fit_resample(X, y)"
      ],
      "outputs": [],
      "metadata": {
        "colab": {
          "base_uri": "https://localhost:8080/"
        },
        "id": "V0GoaGATQH9x",
        "outputId": "aca56cd0-eb85-4920-9490-5ca567500994"
      }
    },
    {
      "cell_type": "code",
      "execution_count": null,
      "source": [
        "# histogram\r\n",
        "import seaborn as sns\r\n",
        "sns.countplot(y_bal)"
      ],
      "outputs": [
        {
          "output_type": "stream",
          "name": "stderr",
          "text": [
            "/usr/local/lib/python3.7/dist-packages/seaborn/_decorators.py:43: FutureWarning: Pass the following variable as a keyword arg: x. From version 0.12, the only valid positional argument will be `data`, and passing other arguments without an explicit keyword will result in an error or misinterpretation.\n",
            "  FutureWarning\n"
          ]
        },
        {
          "output_type": "execute_result",
          "data": {
            "text/plain": [
              "<matplotlib.axes._subplots.AxesSubplot at 0x7f6f5eac3ad0>"
            ]
          },
          "metadata": {},
          "execution_count": 26
        },
        {
          "output_type": "display_data",
          "data": {
            "image/png": "[encoded data removed]",
            "text/plain": [
              "<Figure size 432x288 with 1 Axes>"
            ]
          },
          "metadata": {
            "needs_background": "light"
          }
        }
      ],
      "metadata": {
        "colab": {
          "base_uri": "https://localhost:8080/",
          "height": 339
        },
        "id": "HM2AMNcnRzhS",
        "outputId": "9e926515-bfd1-4ccc-b942-96d7f80ee1f0"
      }
    },
    {
      "cell_type": "code",
      "execution_count": 31,
      "source": [
        "from sklearn.model_selection import train_test_split\r\n",
        "X_train, X_test, y_train, y_test = train_test_split(X_bal, y_bal, test_size = 0.20, random_state = 0)\r\n",
        "\r\n",
        "print(X_train.shape, X_test.shape)\r\n",
        "print(\"Class distribution in the training set:\", np.unique(y_train, return_counts=True))"
      ],
      "outputs": [
        {
          "output_type": "stream",
          "name": "stdout",
          "text": [
            "(7718, 300) (1930, 300)\n",
            "Class distribution in the training set: (array([0, 1]), array([3884, 3834], dtype=int64))\n"
          ]
        }
      ],
      "metadata": {
        "id": "6Pbab-jNSHA0"
      }
    },
    {
      "cell_type": "code",
      "execution_count": 32,
      "source": [
        "X_train.todense()"
      ],
      "outputs": [
        {
          "output_type": "execute_result",
          "data": {
            "text/plain": [
              "matrix([[0., 0., 0., ..., 0., 0., 0.],\n",
              "        [0., 0., 0., ..., 0., 0., 0.],\n",
              "        [0., 0., 0., ..., 0., 0., 0.],\n",
              "        ...,\n",
              "        [0., 0., 0., ..., 0., 0., 0.],\n",
              "        [0., 0., 0., ..., 0., 0., 0.],\n",
              "        [0., 0., 0., ..., 0., 0., 0.]])"
            ]
          },
          "metadata": {},
          "execution_count": 32
        }
      ],
      "metadata": {
        "colab": {
          "base_uri": "https://localhost:8080/"
        },
        "id": "gIcovh1XY-ns",
        "outputId": "22f18f0e-d120-4aaf-a950-056e91665cd3"
      }
    },
    {
      "cell_type": "markdown",
      "source": [
        "## Step 4: Learning"
      ],
      "metadata": {
        "id": "WGilAvtbj7XF"
      }
    },
    {
      "cell_type": "markdown",
      "source": [
        "Training the classifier and making predictions on the test set"
      ],
      "metadata": {
        "id": "m-KYhFh859c-"
      }
    },
    {
      "cell_type": "code",
      "execution_count": 33,
      "source": [
        "# create a model\r\n",
        "MNB = MultinomialNB()\r\n",
        "\r\n",
        "# fit to data\r\n",
        "MNB.fit(X_train, y_train)"
      ],
      "outputs": [
        {
          "output_type": "execute_result",
          "data": {
            "text/plain": [
              "MultinomialNB()"
            ]
          },
          "metadata": {},
          "execution_count": 33
        }
      ],
      "metadata": {
        "id": "s9ZrtUKej7XF",
        "colab": {
          "base_uri": "https://localhost:8080/"
        },
        "outputId": "bfb1d16d-37c6-4695-8488-cd8fba9d73e9"
      }
    },
    {
      "cell_type": "code",
      "execution_count": 34,
      "source": [
        "# testing the model\r\n",
        "\r\n",
        "prediction_train = MNB.predict(X_train)\r\n",
        "print('training prediction\\t', prediction_train)\r\n",
        "\r\n",
        "prediction_test = MNB.predict(X_test)\r\n",
        "print('test prediction\\t\\t', prediction_test)"
      ],
      "outputs": [
        {
          "output_type": "stream",
          "name": "stdout",
          "text": [
            "training prediction\t [0 0 0 ... 1 0 0]\n",
            "test prediction\t\t [0 1 1 ... 1 0 1]\n"
          ]
        }
      ],
      "metadata": {
        "id": "YW7hoVB76Yqf",
        "colab": {
          "base_uri": "https://localhost:8080/"
        },
        "outputId": "ec640cc3-daf9-4f6a-89b5-4552e3c6553b"
      }
    },
    {
      "cell_type": "code",
      "execution_count": 35,
      "source": [
        "np.set_printoptions(suppress=True)\r\n",
        "\r\n",
        "# Ham and Spam probabilities in test\r\n",
        "class_prob = MNB.predict_proba(X_test)\r\n",
        "print(class_prob)"
      ],
      "outputs": [
        {
          "output_type": "stream",
          "name": "stdout",
          "text": [
            "[[0.53853229 0.46146771]\n",
            " [0.08251493 0.91748507]\n",
            " [0.00372133 0.99627867]\n",
            " ...\n",
            " [0.00117092 0.99882908]\n",
            " [0.50323918 0.49676082]\n",
            " [0.00146825 0.99853175]]\n"
          ]
        }
      ],
      "metadata": {
        "id": "wcAd5Wh6j7XG",
        "colab": {
          "base_uri": "https://localhost:8080/"
        },
        "outputId": "3995fbdb-18fc-4704-9daf-1bbfd6106a34"
      }
    },
    {
      "cell_type": "code",
      "execution_count": 40,
      "source": [
        "# show emails classified as 'spam'\r\n",
        "threshold = 0.5\r\n",
        "spam_ind = np.where(class_prob[:,1]>threshold)[0]"
      ],
      "outputs": [],
      "metadata": {
        "id": "3WbY_BhjX_4g"
      }
    },
    {
      "cell_type": "markdown",
      "source": [
        "## Step 5: Accuracy"
      ],
      "metadata": {
        "id": "KkIb-_wUj7XG"
      }
    },
    {
      "cell_type": "code",
      "execution_count": 41,
      "source": [
        "# accuracy in training set\r\n",
        "y_pred_train = prediction_train\r\n",
        "print(\"Train Accuracy: \"+str(accuracy_score(y_train, y_pred_train)))"
      ],
      "outputs": [
        {
          "output_type": "stream",
          "name": "stdout",
          "text": [
            "Train Accuracy: 0.9166882612075667\n"
          ]
        }
      ],
      "metadata": {
        "id": "BjreL3sdj7XH",
        "colab": {
          "base_uri": "https://localhost:8080/"
        },
        "outputId": "2db0f358-1bd2-4b20-c8cf-f1392af15cb8"
      }
    },
    {
      "cell_type": "code",
      "execution_count": 42,
      "source": [
        "# accuracy in test set (unseen data)\r\n",
        "y_true = y_test\r\n",
        "y_pred_test = prediction_test\r\n",
        "print(\"Test Accuracy: \"+str(accuracy_score(y_true, y_pred_test)))"
      ],
      "outputs": [
        {
          "output_type": "stream",
          "name": "stdout",
          "text": [
            "Test Accuracy: 0.9067357512953368\n"
          ]
        }
      ],
      "metadata": {
        "scrolled": true,
        "id": "MQRTS8rTj7XH",
        "colab": {
          "base_uri": "https://localhost:8080/"
        },
        "outputId": "e80debb8-892c-46bb-fc91-471d2f09f6bd"
      }
    },
    {
      "cell_type": "code",
      "execution_count": 43,
      "source": [
        "# confusion matrix\r\n",
        "conf_mat = confusion_matrix(y_true, y_pred_test)\r\n",
        "print(\"Confusion Matrix\\n\", conf_mat)"
      ],
      "outputs": [
        {
          "output_type": "stream",
          "name": "stdout",
          "text": [
            "Confusion Matrix\n",
            " [[885  55]\n",
            " [125 865]]\n"
          ]
        }
      ],
      "metadata": {
        "id": "Yqg3jqtWAPJB",
        "colab": {
          "base_uri": "https://localhost:8080/"
        },
        "outputId": "fcb8b0c3-f4a8-4f88-caf5-47bad136e192"
      }
    },
    {
      "cell_type": "code",
      "execution_count": 44,
      "source": [
        "import matplotlib.pyplot as plt\r\n",
        "from sklearn.metrics import ConfusionMatrixDisplay\r\n",
        "\r\n",
        "labels = ['Ham','Spam']\r\n",
        "\r\n",
        "fig = plt.figure()\r\n",
        "ax = fig.add_subplot(111)\r\n",
        "cax = ax.matshow(conf_mat)\r\n",
        "plt.title('Confusion matrix of the classifier\\n')\r\n",
        "fig.colorbar(cax)\r\n",
        "ax.set_xticklabels([''] + labels)\r\n",
        "ax.set_yticklabels([''] + labels)\r\n",
        "plt.xlabel('Predicted')\r\n",
        "plt.ylabel('True')\r\n",
        "plt.show()"
      ],
      "outputs": [
        {
          "output_type": "stream",
          "name": "stderr",
          "text": [
            "ipykernel_launcher:11: UserWarning: FixedFormatter should only be used together with FixedLocator\n",
            "ipykernel_launcher:12: UserWarning: FixedFormatter should only be used together with FixedLocator\n"
          ]
        },
        {
          "output_type": "display_data",
          "data": {
            "image/png": "[encoded data removed]",
            "text/plain": [
              "<Figure size 432x288 with 2 Axes>"
            ]
          },
          "metadata": {
            "needs_background": "light"
          }
        }
      ],
      "metadata": {
        "id": "ypc8HXCYEpNz",
        "colab": {
          "base_uri": "https://localhost:8080/",
          "height": 304
        },
        "outputId": "543ec9ea-4f1c-49e6-bada-2a54b3d67204"
      }
    },
    {
      "cell_type": "code",
      "execution_count": null,
      "source": [],
      "outputs": [],
      "metadata": {}
    }
  ]
}