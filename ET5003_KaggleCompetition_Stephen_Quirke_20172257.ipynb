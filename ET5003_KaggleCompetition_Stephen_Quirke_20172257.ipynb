{
  "nbformat": 4,
  "nbformat_minor": 0,
  "metadata": {
    "colab": {
      "name": "ET5003_KaggleCompetition_Stephen_Quirke_20172257.ipynb",
      "provenance": [],
      "collapsed_sections": []
    },
    "kernelspec": {
      "name": "python3",
      "display_name": "Python 3"
    },
    "language_info": {
      "name": "python"
    }
  },
  "cells": [
    {
      "cell_type": "markdown",
      "metadata": {
        "id": "930vlW5BrOtq"
      },
      "source": [
        "<div>\n",
        "<img src=\"https://drive.google.com/uc?export=view&id=1vK33e_EqaHgBHcbRV_m38hx6IkG0blK_\" width=\"350\"/>\n",
        "</div> \n",
        "\n",
        "#**Artificial Intelligence - MSc**\n",
        "##ET5003 - MACHINE LEARNING APPLICATIONS \n",
        "\n",
        "###Instructor: Enrique Naredo\n",
        "###ET5003_KaggleCompetition"
      ]
    },
    {
      "cell_type": "code",
      "metadata": {
        "id": "LqXD_IwUQuBF",
        "cellView": "form"
      },
      "source": [
        "#@title Current Date\n",
        "Today = '2021-10-05' #@param {type:\"date\"}\n"
      ],
      "execution_count": 198,
      "outputs": []
    },
    {
      "cell_type": "code",
      "metadata": {
        "id": "uzDKau31OjVO",
        "cellView": "form"
      },
      "source": [
        "#@markdown ---\n",
        "#@markdown ### Enter your details here:\n",
        "Team_Number = \"1\" #@param {type:\"string\"}\n",
        "Student_ID_Name = \"20172257 Stephen Quirke\" #@param {type:\"string\"}\n",
        "Student_ID_Name = \"Nigel Portley\" #@param {type:\"string\"}\n",
        "Student_ID_Name = \"Carlos Siqueira Do Amaral\" #@param {type:\"string\"}\n",
        "Student_ID_Name = \"Tom Keane\" #@param {type:\"string\"}\n",
        "Student_ID_Name = \"Daire Campbell\" #@param {type:\"string\"}\n",
        "#@markdown ---"
      ],
      "execution_count": 199,
      "outputs": []
    },
    {
      "cell_type": "code",
      "metadata": {
        "id": "r39xGZckTpKx",
        "cellView": "form"
      },
      "source": [
        "#@title Notebook information\n",
        "Notebook_type = 'Etivity' #@param [\"Example\", \"Lab\", \"Practice\", \"Etivity\", \"Assignment\", \"Exam\"]\n",
        "Version = \"Draft\" #@param [\"Draft\", \"Final\"]\n",
        "Submission = False #@param {type:\"boolean\"}"
      ],
      "execution_count": 200,
      "outputs": []
    },
    {
      "cell_type": "markdown",
      "metadata": {
        "id": "_A0Z6S-r6DpA"
      },
      "source": [
        "# INTRODUCTION"
      ]
    },
    {
      "cell_type": "markdown",
      "metadata": {
        "id": "d2vlkUAJ7Pz7"
      },
      "source": [
        "Your introduction here."
      ]
    },
    {
      "cell_type": "markdown",
      "metadata": {
        "id": "aajlS0WCJ8pm"
      },
      "source": [
        "***The goal is to use advanced Machine Learning methods to predict House price.***"
      ]
    },
    {
      "cell_type": "markdown",
      "metadata": {
        "id": "Wg7VCbX77eAA"
      },
      "source": [
        "## Imports"
      ]
    },
    {
      "cell_type": "code",
      "metadata": {
        "id": "iFFLThrpwibd"
      },
      "source": [
        "# Suppressing Warnings:\n",
        "import warnings\n",
        "warnings.filterwarnings(\"ignore\")"
      ],
      "execution_count": 201,
      "outputs": []
    },
    {
      "cell_type": "code",
      "metadata": {
        "id": "k96-GLUGE2ux"
      },
      "source": [
        "# standard libraries\n",
        "import pandas as pd\n",
        "import numpy as np\n",
        "import seaborn as sns\n",
        "import matplotlib.pyplot as plt\n",
        "import os\n",
        "%matplotlib inline\n",
        "\n",
        "plt.style.use('ggplot')"
      ],
      "execution_count": 202,
      "outputs": []
    },
    {
      "cell_type": "code",
      "metadata": {
        "id": "sYPJU_Y6O6Dq"
      },
      "source": [
        "# to plot\n",
        "import matplotlib.colors\n",
        "from mpl_toolkits.mplot3d import Axes3D\n",
        "\n",
        "# to generate classification, regression and clustering datasets\n",
        "import sklearn.datasets as dt\n",
        "\n",
        "# to create data frames\n",
        "from pandas import DataFrame\n",
        "\n",
        "# to generate data from an existing dataset\n",
        "from sklearn.neighbors import KernelDensity\n",
        "from sklearn.model_selection import GridSearchCV"
      ],
      "execution_count": 203,
      "outputs": []
    },
    {
      "cell_type": "code",
      "metadata": {
        "id": "mxMYIOx1FONV"
      },
      "source": [
        "# Scikit-learn is an open source machine learning library \n",
        "# that supports supervised and unsupervised learning\n",
        "# https://scikit-learn.org/stable/\n",
        "from sklearn.model_selection import train_test_split\n",
        "from sklearn.feature_extraction.text import CountVectorizer\n",
        "from sklearn.naive_bayes import MultinomialNB\n",
        "from sklearn.metrics import accuracy_score, confusion_matrix"
      ],
      "execution_count": 204,
      "outputs": []
    },
    {
      "cell_type": "code",
      "metadata": {
        "id": "YLlFHWx4j7W6"
      },
      "source": [
        "# Regular expression operations\n",
        "#https://docs.python.org/3/library/re.html\n",
        "import re \n",
        "\n",
        "# Natural Language Toolkit\n",
        "# https://www.nltk.org/install.html\n",
        "import nltk\n",
        "\n",
        "# Stemming maps different forms of the same word to a common “stem” \n",
        "# https://pypi.org/project/snowballstemmer/\n",
        "from nltk.stem import SnowballStemmer\n",
        "\n",
        "# https://www.nltk.org/book/ch02.html\n",
        "from nltk.corpus import stopwords\n",
        "\n",
        "# https://scikit-learn.org/stable/modules/generated/sklearn.preprocessing.StandardScaler.html\n",
        "from sklearn.preprocessing import StandardScaler"
      ],
      "execution_count": 205,
      "outputs": []
    },
    {
      "cell_type": "code",
      "metadata": {
        "colab": {
          "base_uri": "https://localhost:8080/"
        },
        "id": "5cfDHD9BXh0s",
        "outputId": "64683f44-b17a-404d-9143-ce460b24481f"
      },
      "source": [
        "!pip install gpy"
      ],
      "execution_count": 206,
      "outputs": [
        {
          "output_type": "stream",
          "name": "stdout",
          "text": [
            "Requirement already satisfied: gpy in /usr/local/lib/python3.7/dist-packages (1.10.0)\n",
            "Requirement already satisfied: six in /usr/local/lib/python3.7/dist-packages (from gpy) (1.15.0)\n",
            "Requirement already satisfied: cython>=0.29 in /usr/local/lib/python3.7/dist-packages (from gpy) (0.29.24)\n",
            "Requirement already satisfied: scipy>=1.3.0 in /usr/local/lib/python3.7/dist-packages (from gpy) (1.4.1)\n",
            "Requirement already satisfied: numpy>=1.7 in /usr/local/lib/python3.7/dist-packages (from gpy) (1.19.5)\n",
            "Requirement already satisfied: paramz>=0.9.0 in /usr/local/lib/python3.7/dist-packages (from gpy) (0.9.5)\n",
            "Requirement already satisfied: decorator>=4.0.10 in /usr/local/lib/python3.7/dist-packages (from paramz>=0.9.0->gpy) (4.4.2)\n"
          ]
        }
      ]
    },
    {
      "cell_type": "code",
      "metadata": {
        "id": "SwGh2bagw4kg"
      },
      "source": [
        "import GPy as GPy\n",
        "import numpy as np\n",
        "import pylab as pb\n",
        "import pymc3 as pm\n",
        "import arviz as az"
      ],
      "execution_count": 207,
      "outputs": []
    },
    {
      "cell_type": "code",
      "metadata": {
        "id": "6MUJdlxSPSMM"
      },
      "source": [
        "# Define the seed so that results can be reproduced\n",
        "seed = 11\n",
        "rand_state = 11\n",
        "\n",
        "# Define the color maps for plots\n",
        "color_map = plt.cm.get_cmap('RdYlBu')\n",
        "color_map_discrete = matplotlib.colors.LinearSegmentedColormap.from_list(\"\", [\"red\",\"cyan\",\"magenta\",\"blue\"])"
      ],
      "execution_count": 208,
      "outputs": []
    },
    {
      "cell_type": "markdown",
      "metadata": {
        "id": "WL91ShB19RPw"
      },
      "source": [
        "# DATASET"
      ]
    },
    {
      "cell_type": "markdown",
      "metadata": {
        "id": "ESg5DGKWJSOf"
      },
      "source": [
        "Extract from this [paper](https://ieeexplore.ieee.org/document/9300074):\n",
        "\n",
        "* House prices are a significant impression of the economy, and its value ranges are of great concerns for the clients and property dealers. \n",
        "\n",
        "* Housing price escalate every year that eventually reinforced the need of strategy or technique that could predict house prices in future. \n",
        "\n",
        "* There are certain factors that influence house prices including physical conditions, locations, number of bedrooms and others.\n"
      ]
    },
    {
      "cell_type": "markdown",
      "metadata": {
        "id": "a8Y2pf50FlYL"
      },
      "source": [
        "1. [Download the dataset](https://github.com/UL-CS6134/CS6134_SEM1_2021-2/tree/main/Week-5). \n",
        "\n",
        "2. Upload the dataset into your folder.\n",
        "\n"
      ]
    },
    {
      "cell_type": "markdown",
      "metadata": {
        "id": "FMkdCQEmKTof"
      },
      "source": [
        "The challenge is to predict the final price of each house."
      ]
    },
    {
      "cell_type": "markdown",
      "metadata": {
        "id": "2PMoPLlUJ1Ly"
      },
      "source": [
        "## Training & Test Data"
      ]
    },
    {
      "cell_type": "code",
      "metadata": {
        "id": "loLTHklwKGnV"
      },
      "source": [
        "# split data into training and test\n",
        "from sklearn.model_selection import train_test_split\n",
        "\n",
        "# training: 70% (0.7), test: 30% (0.3) \n",
        "# you could try any other combination \n",
        "# but consider 50% of training as the low boundary\n",
        "#X_train,X_test,y_train,y_test = train_test_split(X, y, test_size=0.3)"
      ],
      "execution_count": 209,
      "outputs": []
    },
    {
      "cell_type": "code",
      "metadata": {
        "colab": {
          "base_uri": "https://localhost:8080/"
        },
        "id": "6mfpg-g7rnQz",
        "outputId": "ba406646-7fe9-4fd6-db3f-477819676cc3"
      },
      "source": [
        "# Mount Google drive\n",
        "from google.colab import drive\n",
        "drive.mount('/content/drive')"
      ],
      "execution_count": 210,
      "outputs": [
        {
          "output_type": "stream",
          "name": "stdout",
          "text": [
            "Drive already mounted at /content/drive; to attempt to forcibly remount, call drive.mount(\"/content/drive\", force_remount=True).\n"
          ]
        }
      ]
    },
    {
      "cell_type": "code",
      "metadata": {
        "id": "Qpew3JpVrpJp"
      },
      "source": [
        "# Import Test and Training Data\n",
        "dftrain = pd.read_csv(os.path.join(\"/content/drive/MyDrive/Colab Notebooks/ET5003_Kaggle_Comp/\",\"HousePrice_Train.csv\"))\n",
        "dftest = pd.read_csv(os.path.join(\"/content/drive/MyDrive/Colab Notebooks/ET5003_Kaggle_Comp/\",\"HousePrice_Test.csv\"))"
      ],
      "execution_count": 211,
      "outputs": []
    },
    {
      "cell_type": "code",
      "metadata": {
        "colab": {
          "base_uri": "https://localhost:8080/"
        },
        "id": "9E9I9rFrr_xZ",
        "outputId": "a0e2b484-5b0e-471f-d4cb-965c6b1bf2b8"
      },
      "source": [
        "# Show rows and columns count\n",
        "print(\"Training Data:\", dftrain.shape)\n",
        "print(\"Test Data:\", dftest.shape)"
      ],
      "execution_count": 212,
      "outputs": [
        {
          "output_type": "stream",
          "name": "stdout",
          "text": [
            "Training Data: (1638, 14)\n",
            "Test Data: (702, 13)\n"
          ]
        }
      ]
    },
    {
      "cell_type": "markdown",
      "metadata": {
        "id": "ztBkSZluye87"
      },
      "source": [
        "### Train dataset"
      ]
    },
    {
      "cell_type": "code",
      "metadata": {
        "id": "6XUFUPABMHfF",
        "colab": {
          "base_uri": "https://localhost:8080/",
          "height": 391
        },
        "outputId": "82b75e1c-d0a1-4cc0-b4ef-fb7e0d6b3f6a"
      },
      "source": [
        "# show first data frame rows \n",
        "dftrain.head()"
      ],
      "execution_count": 213,
      "outputs": [
        {
          "output_type": "execute_result",
          "data": {
            "text/html": [
              "<div>\n",
              "<style scoped>\n",
              "    .dataframe tbody tr th:only-of-type {\n",
              "        vertical-align: middle;\n",
              "    }\n",
              "\n",
              "    .dataframe tbody tr th {\n",
              "        vertical-align: top;\n",
              "    }\n",
              "\n",
              "    .dataframe thead th {\n",
              "        text-align: right;\n",
              "    }\n",
              "</style>\n",
              "<table border=\"1\" class=\"dataframe\">\n",
              "  <thead>\n",
              "    <tr style=\"text-align: right;\">\n",
              "      <th></th>\n",
              "      <th>Index</th>\n",
              "      <th>ID</th>\n",
              "      <th>Location</th>\n",
              "      <th>Num_Bathrooms</th>\n",
              "      <th>Num_Beds</th>\n",
              "      <th>BER_class</th>\n",
              "      <th>Description</th>\n",
              "      <th>Services</th>\n",
              "      <th>Features</th>\n",
              "      <th>Latitude</th>\n",
              "      <th>Longitude</th>\n",
              "      <th>Type</th>\n",
              "      <th>Surface</th>\n",
              "      <th>Price</th>\n",
              "    </tr>\n",
              "  </thead>\n",
              "  <tbody>\n",
              "    <tr>\n",
              "      <th>0</th>\n",
              "      <td>1</td>\n",
              "      <td>12409116</td>\n",
              "      <td>Ongar</td>\n",
              "      <td>2</td>\n",
              "      <td>2</td>\n",
              "      <td>C3</td>\n",
              "      <td>DNG are delighted to present to the market no....</td>\n",
              "      <td>NaN</td>\n",
              "      <td>None</td>\n",
              "      <td>53.396659</td>\n",
              "      <td>-6.438791</td>\n",
              "      <td>apartment</td>\n",
              "      <td>67.00</td>\n",
              "      <td>195000</td>\n",
              "    </tr>\n",
              "    <tr>\n",
              "      <th>1</th>\n",
              "      <td>2</td>\n",
              "      <td>12320330</td>\n",
              "      <td>North Strand</td>\n",
              "      <td>1</td>\n",
              "      <td>2</td>\n",
              "      <td>D1</td>\n",
              "      <td>13 Northbrook Terrace is a charming red brick ...</td>\n",
              "      <td>NaN</td>\n",
              "      <td>Bight and Spacious interior\\nNumerous original...</td>\n",
              "      <td>53.357129</td>\n",
              "      <td>-6.239779</td>\n",
              "      <td>terraced</td>\n",
              "      <td>95.97</td>\n",
              "      <td>425000</td>\n",
              "    </tr>\n",
              "    <tr>\n",
              "      <th>2</th>\n",
              "      <td>3</td>\n",
              "      <td>12405953</td>\n",
              "      <td>Stepaside</td>\n",
              "      <td>3</td>\n",
              "      <td>3</td>\n",
              "      <td>A3</td>\n",
              "      <td>Welcome to No. 6 Cotter Close, an immaculately...</td>\n",
              "      <td>NaN</td>\n",
              "      <td>Special Features\\nLarge rear garden\\nGenerous ...</td>\n",
              "      <td>53.266468</td>\n",
              "      <td>-6.222771</td>\n",
              "      <td>semi-detached</td>\n",
              "      <td>107.00</td>\n",
              "      <td>535000</td>\n",
              "    </tr>\n",
              "    <tr>\n",
              "      <th>3</th>\n",
              "      <td>4</td>\n",
              "      <td>12202582</td>\n",
              "      <td>Cabinteely</td>\n",
              "      <td>1</td>\n",
              "      <td>3</td>\n",
              "      <td>E1</td>\n",
              "      <td>Welcome to 3 Sycamore Walk!\\n\\r\\nEnjoying a pr...</td>\n",
              "      <td>NaN</td>\n",
              "      <td>Wonderful 3 bed detached bungalow.     \\nAccom...</td>\n",
              "      <td>53.261600</td>\n",
              "      <td>-6.166738</td>\n",
              "      <td>detached</td>\n",
              "      <td>81.00</td>\n",
              "      <td>499000</td>\n",
              "    </tr>\n",
              "    <tr>\n",
              "      <th>4</th>\n",
              "      <td>5</td>\n",
              "      <td>12299336</td>\n",
              "      <td>Lusk</td>\n",
              "      <td>3</td>\n",
              "      <td>4</td>\n",
              "      <td>D1</td>\n",
              "      <td>'Four Seasons' comes to the market as a wonder...</td>\n",
              "      <td>NaN</td>\n",
              "      <td>Detached Property      \\nDouble Glazed Windows...</td>\n",
              "      <td>53.550731</td>\n",
              "      <td>-6.121415</td>\n",
              "      <td>detached</td>\n",
              "      <td>153.00</td>\n",
              "      <td>510000</td>\n",
              "    </tr>\n",
              "  </tbody>\n",
              "</table>\n",
              "</div>"
            ],
            "text/plain": [
              "   Index        ID      Location  ...           Type  Surface   Price\n",
              "0      1  12409116         Ongar  ...      apartment    67.00  195000\n",
              "1      2  12320330  North Strand  ...       terraced    95.97  425000\n",
              "2      3  12405953     Stepaside  ...  semi-detached   107.00  535000\n",
              "3      4  12202582    Cabinteely  ...       detached    81.00  499000\n",
              "4      5  12299336          Lusk  ...       detached   153.00  510000\n",
              "\n",
              "[5 rows x 14 columns]"
            ]
          },
          "metadata": {},
          "execution_count": 213
        }
      ]
    },
    {
      "cell_type": "code",
      "metadata": {
        "id": "5rq_p-D4yLBe",
        "colab": {
          "base_uri": "https://localhost:8080/",
          "height": 297
        },
        "outputId": "f824bdb4-7e95-4c27-829d-26cccb31d702"
      },
      "source": [
        "# Generate descriptive statistics\n",
        "dftrain.describe()"
      ],
      "execution_count": 214,
      "outputs": [
        {
          "output_type": "execute_result",
          "data": {
            "text/html": [
              "<div>\n",
              "<style scoped>\n",
              "    .dataframe tbody tr th:only-of-type {\n",
              "        vertical-align: middle;\n",
              "    }\n",
              "\n",
              "    .dataframe tbody tr th {\n",
              "        vertical-align: top;\n",
              "    }\n",
              "\n",
              "    .dataframe thead th {\n",
              "        text-align: right;\n",
              "    }\n",
              "</style>\n",
              "<table border=\"1\" class=\"dataframe\">\n",
              "  <thead>\n",
              "    <tr style=\"text-align: right;\">\n",
              "      <th></th>\n",
              "      <th>Index</th>\n",
              "      <th>ID</th>\n",
              "      <th>Num_Bathrooms</th>\n",
              "      <th>Num_Beds</th>\n",
              "      <th>Latitude</th>\n",
              "      <th>Longitude</th>\n",
              "      <th>Surface</th>\n",
              "      <th>Price</th>\n",
              "    </tr>\n",
              "  </thead>\n",
              "  <tbody>\n",
              "    <tr>\n",
              "      <th>count</th>\n",
              "      <td>1638.000000</td>\n",
              "      <td>1.638000e+03</td>\n",
              "      <td>1638.000000</td>\n",
              "      <td>1638.000000</td>\n",
              "      <td>1638.000000</td>\n",
              "      <td>1638.000000</td>\n",
              "      <td>1638.000000</td>\n",
              "      <td>1.638000e+03</td>\n",
              "    </tr>\n",
              "    <tr>\n",
              "      <th>mean</th>\n",
              "      <td>819.500000</td>\n",
              "      <td>1.231930e+07</td>\n",
              "      <td>2.054335</td>\n",
              "      <td>3.043346</td>\n",
              "      <td>53.350473</td>\n",
              "      <td>-6.255086</td>\n",
              "      <td>169.540695</td>\n",
              "      <td>5.547196e+05</td>\n",
              "    </tr>\n",
              "    <tr>\n",
              "      <th>std</th>\n",
              "      <td>472.994186</td>\n",
              "      <td>1.447540e+05</td>\n",
              "      <td>1.241259</td>\n",
              "      <td>1.379650</td>\n",
              "      <td>0.076832</td>\n",
              "      <td>0.144430</td>\n",
              "      <td>1791.793934</td>\n",
              "      <td>5.652032e+05</td>\n",
              "    </tr>\n",
              "    <tr>\n",
              "      <th>min</th>\n",
              "      <td>1.000000</td>\n",
              "      <td>1.118567e+07</td>\n",
              "      <td>1.000000</td>\n",
              "      <td>1.000000</td>\n",
              "      <td>52.501856</td>\n",
              "      <td>-6.497000</td>\n",
              "      <td>3.400000</td>\n",
              "      <td>1.999500e+04</td>\n",
              "    </tr>\n",
              "    <tr>\n",
              "      <th>25%</th>\n",
              "      <td>410.250000</td>\n",
              "      <td>1.228104e+07</td>\n",
              "      <td>1.000000</td>\n",
              "      <td>2.000000</td>\n",
              "      <td>53.294261</td>\n",
              "      <td>-6.309613</td>\n",
              "      <td>73.000000</td>\n",
              "      <td>2.950000e+05</td>\n",
              "    </tr>\n",
              "    <tr>\n",
              "      <th>50%</th>\n",
              "      <td>819.500000</td>\n",
              "      <td>1.238055e+07</td>\n",
              "      <td>2.000000</td>\n",
              "      <td>3.000000</td>\n",
              "      <td>53.341386</td>\n",
              "      <td>-6.247780</td>\n",
              "      <td>97.050000</td>\n",
              "      <td>3.950000e+05</td>\n",
              "    </tr>\n",
              "    <tr>\n",
              "      <th>75%</th>\n",
              "      <td>1228.750000</td>\n",
              "      <td>1.240548e+07</td>\n",
              "      <td>3.000000</td>\n",
              "      <td>4.000000</td>\n",
              "      <td>53.382031</td>\n",
              "      <td>-6.193982</td>\n",
              "      <td>135.000000</td>\n",
              "      <td>5.950000e+05</td>\n",
              "    </tr>\n",
              "    <tr>\n",
              "      <th>max</th>\n",
              "      <td>1638.000000</td>\n",
              "      <td>1.242836e+07</td>\n",
              "      <td>18.000000</td>\n",
              "      <td>27.000000</td>\n",
              "      <td>53.630588</td>\n",
              "      <td>-1.744995</td>\n",
              "      <td>72236.387140</td>\n",
              "      <td>8.900000e+06</td>\n",
              "    </tr>\n",
              "  </tbody>\n",
              "</table>\n",
              "</div>"
            ],
            "text/plain": [
              "             Index            ID  ...       Surface         Price\n",
              "count  1638.000000  1.638000e+03  ...   1638.000000  1.638000e+03\n",
              "mean    819.500000  1.231930e+07  ...    169.540695  5.547196e+05\n",
              "std     472.994186  1.447540e+05  ...   1791.793934  5.652032e+05\n",
              "min       1.000000  1.118567e+07  ...      3.400000  1.999500e+04\n",
              "25%     410.250000  1.228104e+07  ...     73.000000  2.950000e+05\n",
              "50%     819.500000  1.238055e+07  ...     97.050000  3.950000e+05\n",
              "75%    1228.750000  1.240548e+07  ...    135.000000  5.950000e+05\n",
              "max    1638.000000  1.242836e+07  ...  72236.387140  8.900000e+06\n",
              "\n",
              "[8 rows x 8 columns]"
            ]
          },
          "metadata": {},
          "execution_count": 214
        }
      ]
    },
    {
      "cell_type": "code",
      "metadata": {
        "colab": {
          "base_uri": "https://localhost:8080/"
        },
        "id": "AvV1nRTYRamp",
        "outputId": "9e1ddb4c-7141-4cae-d36f-7b45652a8976"
      },
      "source": [
        "dftrain.info()"
      ],
      "execution_count": 215,
      "outputs": [
        {
          "output_type": "stream",
          "name": "stdout",
          "text": [
            "<class 'pandas.core.frame.DataFrame'>\n",
            "RangeIndex: 1638 entries, 0 to 1637\n",
            "Data columns (total 14 columns):\n",
            " #   Column         Non-Null Count  Dtype  \n",
            "---  ------         --------------  -----  \n",
            " 0   Index          1638 non-null   int64  \n",
            " 1   ID             1638 non-null   int64  \n",
            " 2   Location       1638 non-null   object \n",
            " 3   Num_Bathrooms  1638 non-null   int64  \n",
            " 4   Num_Beds       1638 non-null   int64  \n",
            " 5   BER_class      1387 non-null   object \n",
            " 6   Description    1638 non-null   object \n",
            " 7   Services       577 non-null    object \n",
            " 8   Features       1638 non-null   object \n",
            " 9   Latitude       1638 non-null   float64\n",
            " 10  Longitude      1638 non-null   float64\n",
            " 11  Type           1638 non-null   object \n",
            " 12  Surface        1638 non-null   float64\n",
            " 13  Price          1638 non-null   int64  \n",
            "dtypes: float64(3), int64(5), object(6)\n",
            "memory usage: 179.3+ KB\n"
          ]
        }
      ]
    },
    {
      "cell_type": "code",
      "metadata": {
        "colab": {
          "base_uri": "https://localhost:8080/"
        },
        "id": "EawTa1A_Llnt",
        "outputId": "2b132b0b-6f13-4bae-c685-8c4fd213078b"
      },
      "source": [
        "dftrain[\"BER_class\"].value_counts()"
      ],
      "execution_count": 216,
      "outputs": [
        {
          "output_type": "execute_result",
          "data": {
            "text/plain": [
              "D1                     182\n",
              "D2                     173\n",
              "C3                     154\n",
              "C2                     144\n",
              "C1                     133\n",
              "E1                     110\n",
              "G                      103\n",
              "E2                     101\n",
              "F                       89\n",
              "B3                      78\n",
              "B2                      48\n",
              "A3                      37\n",
              "SINo666of2006exempt     15\n",
              "A2                      12\n",
              "B1                       7\n",
              "A1                       1\n",
              "Name: BER_class, dtype: int64"
            ]
          },
          "metadata": {},
          "execution_count": 216
        }
      ]
    },
    {
      "cell_type": "code",
      "metadata": {
        "colab": {
          "base_uri": "https://localhost:8080/"
        },
        "id": "E6TsM6QtLlGw",
        "outputId": "ce6f177a-8d85-45b2-c3ea-d5b52757bdc4"
      },
      "source": [
        "dftrain[\"Type\"].value_counts()"
      ],
      "execution_count": 217,
      "outputs": [
        {
          "output_type": "execute_result",
          "data": {
            "text/plain": [
              "semi-detached     458\n",
              "apartment         431\n",
              "terraced          299\n",
              "detached          234\n",
              "end-of-terrace    118\n",
              "bungalow           48\n",
              "duplex             33\n",
              "townhouse          14\n",
              "studio              2\n",
              "site                1\n",
              "Name: Type, dtype: int64"
            ]
          },
          "metadata": {},
          "execution_count": 217
        }
      ]
    },
    {
      "cell_type": "markdown",
      "metadata": {
        "id": "Iqg9_uxFyZli"
      },
      "source": [
        "### Test dataset"
      ]
    },
    {
      "cell_type": "code",
      "metadata": {
        "id": "bw2_yypxMfsi",
        "colab": {
          "base_uri": "https://localhost:8080/",
          "height": 408
        },
        "outputId": "ac7e47c4-5780-4536-8fe4-8656bcdb030f"
      },
      "source": [
        "# show first data frame rows \n",
        "dftest.head()"
      ],
      "execution_count": 218,
      "outputs": [
        {
          "output_type": "execute_result",
          "data": {
            "text/html": [
              "<div>\n",
              "<style scoped>\n",
              "    .dataframe tbody tr th:only-of-type {\n",
              "        vertical-align: middle;\n",
              "    }\n",
              "\n",
              "    .dataframe tbody tr th {\n",
              "        vertical-align: top;\n",
              "    }\n",
              "\n",
              "    .dataframe thead th {\n",
              "        text-align: right;\n",
              "    }\n",
              "</style>\n",
              "<table border=\"1\" class=\"dataframe\">\n",
              "  <thead>\n",
              "    <tr style=\"text-align: right;\">\n",
              "      <th></th>\n",
              "      <th>Index</th>\n",
              "      <th>ID</th>\n",
              "      <th>Location</th>\n",
              "      <th>Num_Bathrooms</th>\n",
              "      <th>Num_Beds</th>\n",
              "      <th>BER_class</th>\n",
              "      <th>Description</th>\n",
              "      <th>Services</th>\n",
              "      <th>Features</th>\n",
              "      <th>Latitude</th>\n",
              "      <th>Longitude</th>\n",
              "      <th>Type</th>\n",
              "      <th>Surface</th>\n",
              "    </tr>\n",
              "  </thead>\n",
              "  <tbody>\n",
              "    <tr>\n",
              "      <th>0</th>\n",
              "      <td>1639</td>\n",
              "      <td>12292473</td>\n",
              "      <td>Milltown</td>\n",
              "      <td>2</td>\n",
              "      <td>2</td>\n",
              "      <td>C2</td>\n",
              "      <td>OMD Estate Agents are delighted to present thi...</td>\n",
              "      <td>Parking,Oil Fired Central Heating</td>\n",
              "      <td>Designated parking spaces\\nPresented in pristi...</td>\n",
              "      <td>53.316269</td>\n",
              "      <td>-6.243391</td>\n",
              "      <td>townhouse</td>\n",
              "      <td>65.0</td>\n",
              "    </tr>\n",
              "    <tr>\n",
              "      <th>1</th>\n",
              "      <td>1640</td>\n",
              "      <td>12314667</td>\n",
              "      <td>Glasnevin</td>\n",
              "      <td>2</td>\n",
              "      <td>5</td>\n",
              "      <td>E1</td>\n",
              "      <td>Welcome to Saint Anthony No.214 Glasnevin Aven...</td>\n",
              "      <td>Parking,Gas Fired Central Heating</td>\n",
              "      <td>Modern Worcester Gas Boiler\\nSingle Glazed Win...</td>\n",
              "      <td>53.390769</td>\n",
              "      <td>-6.281936</td>\n",
              "      <td>semi-detached</td>\n",
              "      <td>142.0</td>\n",
              "    </tr>\n",
              "    <tr>\n",
              "      <th>2</th>\n",
              "      <td>1641</td>\n",
              "      <td>11699240</td>\n",
              "      <td>Dalkey</td>\n",
              "      <td>1</td>\n",
              "      <td>2</td>\n",
              "      <td>G</td>\n",
              "      <td>Located in this ever popular road, on grounds ...</td>\n",
              "      <td>NaN</td>\n",
              "      <td>2 BEDROOM DETACHED HOUSE ON  1/5th ACRE\\nOIL F...</td>\n",
              "      <td>53.272486</td>\n",
              "      <td>-6.108675</td>\n",
              "      <td>detached</td>\n",
              "      <td>80.0</td>\n",
              "    </tr>\n",
              "    <tr>\n",
              "      <th>3</th>\n",
              "      <td>1642</td>\n",
              "      <td>12416984</td>\n",
              "      <td>Raheny</td>\n",
              "      <td>4</td>\n",
              "      <td>4</td>\n",
              "      <td>A2</td>\n",
              "      <td>DNG are delighted to represent the sale of thi...</td>\n",
              "      <td>Parking,Alarm</td>\n",
              "      <td>Detached House\\nSouth Facing Garden\\nOff Stree...</td>\n",
              "      <td>53.376932</td>\n",
              "      <td>-6.185334</td>\n",
              "      <td>detached</td>\n",
              "      <td>209.0</td>\n",
              "    </tr>\n",
              "    <tr>\n",
              "      <th>4</th>\n",
              "      <td>1643</td>\n",
              "      <td>12383407</td>\n",
              "      <td>Crumlin</td>\n",
              "      <td>2</td>\n",
              "      <td>3</td>\n",
              "      <td>F</td>\n",
              "      <td>A unique opportunity to acquire this red brick...</td>\n",
              "      <td>Parking,Gas Fired Central Heating,Alarm</td>\n",
              "      <td>Red brick end of terrace property \\nC. 108sqm ...</td>\n",
              "      <td>53.327208</td>\n",
              "      <td>-6.308938</td>\n",
              "      <td>end-of-terrace</td>\n",
              "      <td>108.0</td>\n",
              "    </tr>\n",
              "  </tbody>\n",
              "</table>\n",
              "</div>"
            ],
            "text/plain": [
              "   Index        ID   Location  ...  Longitude            Type Surface\n",
              "0   1639  12292473   Milltown  ...  -6.243391       townhouse    65.0\n",
              "1   1640  12314667  Glasnevin  ...  -6.281936   semi-detached   142.0\n",
              "2   1641  11699240     Dalkey  ...  -6.108675        detached    80.0\n",
              "3   1642  12416984     Raheny  ...  -6.185334        detached   209.0\n",
              "4   1643  12383407    Crumlin  ...  -6.308938  end-of-terrace   108.0\n",
              "\n",
              "[5 rows x 13 columns]"
            ]
          },
          "metadata": {},
          "execution_count": 218
        }
      ]
    },
    {
      "cell_type": "code",
      "metadata": {
        "colab": {
          "base_uri": "https://localhost:8080/"
        },
        "id": "L9EXGtsAMCH5",
        "outputId": "8fc3e70b-c663-41de-b144-75d9ea4c6f1f"
      },
      "source": [
        "dftest[\"BER_class\"].value_counts()"
      ],
      "execution_count": 219,
      "outputs": [
        {
          "output_type": "execute_result",
          "data": {
            "text/plain": [
              "D1                     72\n",
              "C3                     70\n",
              "D2                     68\n",
              "C2                     65\n",
              "C1                     49\n",
              "E2                     47\n",
              "F                      46\n",
              "E1                     44\n",
              "G                      41\n",
              "B3                     28\n",
              "B2                     21\n",
              "A3                     20\n",
              "SINo666of2006exempt     8\n",
              "A2                      8\n",
              "B1                      7\n",
              "Name: BER_class, dtype: int64"
            ]
          },
          "metadata": {},
          "execution_count": 219
        }
      ]
    },
    {
      "cell_type": "code",
      "metadata": {
        "colab": {
          "base_uri": "https://localhost:8080/"
        },
        "id": "8eaNMGhQMD_s",
        "outputId": "2dea759b-b6a9-4b2a-8459-dcd0ae63a3d0"
      },
      "source": [
        "dftest[\"Type\"].value_counts()"
      ],
      "execution_count": 220,
      "outputs": [
        {
          "output_type": "execute_result",
          "data": {
            "text/plain": [
              "apartment         194\n",
              "semi-detached     172\n",
              "terraced          132\n",
              "detached          100\n",
              "end-of-terrace     64\n",
              "bungalow           18\n",
              "duplex             15\n",
              "townhouse           5\n",
              "site                2\n",
              "Name: Type, dtype: int64"
            ]
          },
          "metadata": {},
          "execution_count": 220
        }
      ]
    },
    {
      "cell_type": "code",
      "metadata": {
        "id": "FXo0x2u7T7-1",
        "colab": {
          "base_uri": "https://localhost:8080/",
          "height": 297
        },
        "outputId": "8edad4ae-ea5c-44bd-dab7-6939e880c3ed"
      },
      "source": [
        "# Generate descriptive statistics\n",
        "dftest.describe()"
      ],
      "execution_count": 221,
      "outputs": [
        {
          "output_type": "execute_result",
          "data": {
            "text/html": [
              "<div>\n",
              "<style scoped>\n",
              "    .dataframe tbody tr th:only-of-type {\n",
              "        vertical-align: middle;\n",
              "    }\n",
              "\n",
              "    .dataframe tbody tr th {\n",
              "        vertical-align: top;\n",
              "    }\n",
              "\n",
              "    .dataframe thead th {\n",
              "        text-align: right;\n",
              "    }\n",
              "</style>\n",
              "<table border=\"1\" class=\"dataframe\">\n",
              "  <thead>\n",
              "    <tr style=\"text-align: right;\">\n",
              "      <th></th>\n",
              "      <th>Index</th>\n",
              "      <th>ID</th>\n",
              "      <th>Num_Bathrooms</th>\n",
              "      <th>Num_Beds</th>\n",
              "      <th>Latitude</th>\n",
              "      <th>Longitude</th>\n",
              "      <th>Surface</th>\n",
              "    </tr>\n",
              "  </thead>\n",
              "  <tbody>\n",
              "    <tr>\n",
              "      <th>count</th>\n",
              "      <td>702.000000</td>\n",
              "      <td>7.020000e+02</td>\n",
              "      <td>702.000000</td>\n",
              "      <td>702.000000</td>\n",
              "      <td>702.000000</td>\n",
              "      <td>702.000000</td>\n",
              "      <td>702.000000</td>\n",
              "    </tr>\n",
              "    <tr>\n",
              "      <th>mean</th>\n",
              "      <td>1989.500000</td>\n",
              "      <td>1.231545e+07</td>\n",
              "      <td>2.027066</td>\n",
              "      <td>2.987179</td>\n",
              "      <td>53.350445</td>\n",
              "      <td>-6.252411</td>\n",
              "      <td>132.603530</td>\n",
              "    </tr>\n",
              "    <tr>\n",
              "      <th>std</th>\n",
              "      <td>202.794231</td>\n",
              "      <td>1.420680e+05</td>\n",
              "      <td>1.071273</td>\n",
              "      <td>1.198480</td>\n",
              "      <td>0.073961</td>\n",
              "      <td>0.091600</td>\n",
              "      <td>330.347066</td>\n",
              "    </tr>\n",
              "    <tr>\n",
              "      <th>min</th>\n",
              "      <td>1639.000000</td>\n",
              "      <td>1.147889e+07</td>\n",
              "      <td>1.000000</td>\n",
              "      <td>1.000000</td>\n",
              "      <td>53.214227</td>\n",
              "      <td>-6.521183</td>\n",
              "      <td>32.100000</td>\n",
              "    </tr>\n",
              "    <tr>\n",
              "      <th>25%</th>\n",
              "      <td>1814.250000</td>\n",
              "      <td>1.227637e+07</td>\n",
              "      <td>1.000000</td>\n",
              "      <td>2.000000</td>\n",
              "      <td>53.295225</td>\n",
              "      <td>-6.304258</td>\n",
              "      <td>73.000000</td>\n",
              "    </tr>\n",
              "    <tr>\n",
              "      <th>50%</th>\n",
              "      <td>1989.500000</td>\n",
              "      <td>1.237928e+07</td>\n",
              "      <td>2.000000</td>\n",
              "      <td>3.000000</td>\n",
              "      <td>53.341153</td>\n",
              "      <td>-6.247799</td>\n",
              "      <td>99.200000</td>\n",
              "    </tr>\n",
              "    <tr>\n",
              "      <th>75%</th>\n",
              "      <td>2164.750000</td>\n",
              "      <td>1.240421e+07</td>\n",
              "      <td>3.000000</td>\n",
              "      <td>4.000000</td>\n",
              "      <td>53.381752</td>\n",
              "      <td>-6.184277</td>\n",
              "      <td>136.875000</td>\n",
              "    </tr>\n",
              "    <tr>\n",
              "      <th>max</th>\n",
              "      <td>2340.000000</td>\n",
              "      <td>1.242824e+07</td>\n",
              "      <td>9.000000</td>\n",
              "      <td>14.000000</td>\n",
              "      <td>53.617443</td>\n",
              "      <td>-6.057150</td>\n",
              "      <td>8576.000000</td>\n",
              "    </tr>\n",
              "  </tbody>\n",
              "</table>\n",
              "</div>"
            ],
            "text/plain": [
              "             Index            ID  ...   Longitude      Surface\n",
              "count   702.000000  7.020000e+02  ...  702.000000   702.000000\n",
              "mean   1989.500000  1.231545e+07  ...   -6.252411   132.603530\n",
              "std     202.794231  1.420680e+05  ...    0.091600   330.347066\n",
              "min    1639.000000  1.147889e+07  ...   -6.521183    32.100000\n",
              "25%    1814.250000  1.227637e+07  ...   -6.304258    73.000000\n",
              "50%    1989.500000  1.237928e+07  ...   -6.247799    99.200000\n",
              "75%    2164.750000  1.240421e+07  ...   -6.184277   136.875000\n",
              "max    2340.000000  1.242824e+07  ...   -6.057150  8576.000000\n",
              "\n",
              "[8 rows x 7 columns]"
            ]
          },
          "metadata": {},
          "execution_count": 221
        }
      ]
    },
    {
      "cell_type": "code",
      "metadata": {
        "colab": {
          "base_uri": "https://localhost:8080/"
        },
        "id": "MyTIBXqwRSvp",
        "outputId": "3567a733-d177-40d6-f635-d5211486a4d5"
      },
      "source": [
        "dftest.info()"
      ],
      "execution_count": 222,
      "outputs": [
        {
          "output_type": "stream",
          "name": "stdout",
          "text": [
            "<class 'pandas.core.frame.DataFrame'>\n",
            "RangeIndex: 702 entries, 0 to 701\n",
            "Data columns (total 13 columns):\n",
            " #   Column         Non-Null Count  Dtype  \n",
            "---  ------         --------------  -----  \n",
            " 0   Index          702 non-null    int64  \n",
            " 1   ID             702 non-null    int64  \n",
            " 2   Location       702 non-null    object \n",
            " 3   Num_Bathrooms  702 non-null    int64  \n",
            " 4   Num_Beds       702 non-null    int64  \n",
            " 5   BER_class      594 non-null    object \n",
            " 6   Description    702 non-null    object \n",
            " 7   Services       246 non-null    object \n",
            " 8   Features       702 non-null    object \n",
            " 9   Latitude       702 non-null    float64\n",
            " 10  Longitude      702 non-null    float64\n",
            " 11  Type           702 non-null    object \n",
            " 12  Surface        702 non-null    float64\n",
            "dtypes: float64(3), int64(4), object(6)\n",
            "memory usage: 71.4+ KB\n"
          ]
        }
      ]
    },
    {
      "cell_type": "markdown",
      "metadata": {
        "id": "eYTkztySvaJj"
      },
      "source": [
        "#Data Pre-Processing"
      ]
    },
    {
      "cell_type": "markdown",
      "metadata": {
        "id": "0a-bNo2_vwgF"
      },
      "source": [
        "## Handle Missing Data"
      ]
    },
    {
      "cell_type": "code",
      "metadata": {
        "id": "vxfo9K7yvc-C"
      },
      "source": [
        "# Make copies of the data\n",
        "dftrain_raw = dftrain\n",
        "dftest_raw = dftest"
      ],
      "execution_count": 223,
      "outputs": []
    },
    {
      "cell_type": "code",
      "metadata": {
        "colab": {
          "base_uri": "https://localhost:8080/"
        },
        "id": "OBu4LdFBwEUw",
        "outputId": "a98ad337-ab01-4ade-d22f-4586f94e0b38"
      },
      "source": [
        "# Check missing values\n",
        "dftrain.isna().sum()"
      ],
      "execution_count": 224,
      "outputs": [
        {
          "output_type": "execute_result",
          "data": {
            "text/plain": [
              "Index               0\n",
              "ID                  0\n",
              "Location            0\n",
              "Num_Bathrooms       0\n",
              "Num_Beds            0\n",
              "BER_class         251\n",
              "Description         0\n",
              "Services         1061\n",
              "Features            0\n",
              "Latitude            0\n",
              "Longitude           0\n",
              "Type                0\n",
              "Surface             0\n",
              "Price               0\n",
              "dtype: int64"
            ]
          },
          "metadata": {},
          "execution_count": 224
        }
      ]
    },
    {
      "cell_type": "code",
      "metadata": {
        "colab": {
          "base_uri": "https://localhost:8080/"
        },
        "id": "xMAZ0vmYDmBB",
        "outputId": "80d52ad0-8814-44b9-912c-6d47c624fcc0"
      },
      "source": [
        "# Get list of column names\n",
        "column_list = dftrain.columns.values.tolist()\n",
        "print(column_list)"
      ],
      "execution_count": 225,
      "outputs": [
        {
          "output_type": "stream",
          "name": "stdout",
          "text": [
            "['Index', 'ID', 'Location', 'Num_Bathrooms', 'Num_Beds', 'BER_class', 'Description', 'Services', 'Features', 'Latitude', 'Longitude', 'Type', 'Surface', 'Price']\n"
          ]
        }
      ]
    },
    {
      "cell_type": "code",
      "metadata": {
        "colab": {
          "base_uri": "https://localhost:8080/"
        },
        "id": "bOrMJv8dFJZQ",
        "outputId": "996facbf-b331-4ae8-ce96-6cf1301f2e20"
      },
      "source": [
        "# Percentage of missing data\n",
        "for col in column_list:\n",
        "  print(f\"Missing {col} data:\", str(round(((dftrain[col].isna().sum()/2931)*100),2))+ '%')"
      ],
      "execution_count": 226,
      "outputs": [
        {
          "output_type": "stream",
          "name": "stdout",
          "text": [
            "Missing Index data: 0.0%\n",
            "Missing ID data: 0.0%\n",
            "Missing Location data: 0.0%\n",
            "Missing Num_Bathrooms data: 0.0%\n",
            "Missing Num_Beds data: 0.0%\n",
            "Missing BER_class data: 8.56%\n",
            "Missing Description data: 0.0%\n",
            "Missing Services data: 36.2%\n",
            "Missing Features data: 0.0%\n",
            "Missing Latitude data: 0.0%\n",
            "Missing Longitude data: 0.0%\n",
            "Missing Type data: 0.0%\n",
            "Missing Surface data: 0.0%\n",
            "Missing Price data: 0.0%\n"
          ]
        }
      ]
    },
    {
      "cell_type": "markdown",
      "metadata": {
        "id": "qFvVtx7yDUB6"
      },
      "source": [
        "There is 8.56% of BER and 36.2% of services missing data, There is also mising data for features but this is not reflecting at the data has a string value. Lets investigate further"
      ]
    },
    {
      "cell_type": "code",
      "metadata": {
        "id": "GAR7yD8DB0rS"
      },
      "source": [
        "dftrain = dftrain.where(dftrain != \"None\", None)"
      ],
      "execution_count": 227,
      "outputs": []
    },
    {
      "cell_type": "code",
      "metadata": {
        "colab": {
          "base_uri": "https://localhost:8080/"
        },
        "id": "87QbKgDnCBLz",
        "outputId": "c62a852c-b7d3-4837-da77-d2f83112d9b5"
      },
      "source": [
        "# Check missing values\n",
        "dftrain.isna().sum()"
      ],
      "execution_count": 228,
      "outputs": [
        {
          "output_type": "execute_result",
          "data": {
            "text/plain": [
              "Index               0\n",
              "ID                  0\n",
              "Location            0\n",
              "Num_Bathrooms       0\n",
              "Num_Beds            0\n",
              "BER_class         251\n",
              "Description         0\n",
              "Services         1061\n",
              "Features          516\n",
              "Latitude            0\n",
              "Longitude           0\n",
              "Type                0\n",
              "Surface             0\n",
              "Price               0\n",
              "dtype: int64"
            ]
          },
          "metadata": {},
          "execution_count": 228
        }
      ]
    },
    {
      "cell_type": "code",
      "metadata": {
        "colab": {
          "base_uri": "https://localhost:8080/"
        },
        "id": "8-cZEXFJGF4d",
        "outputId": "bea9929c-b653-4ed3-97bc-c191929b32c8"
      },
      "source": [
        "# Percentage of missing data\n",
        "for col in column_list:\n",
        "  print(f\"Missing {col} data:\", str(round(((dftrain[col].isna().sum()/2931)*100),2))+ '%')"
      ],
      "execution_count": 229,
      "outputs": [
        {
          "output_type": "stream",
          "name": "stdout",
          "text": [
            "Missing Index data: 0.0%\n",
            "Missing ID data: 0.0%\n",
            "Missing Location data: 0.0%\n",
            "Missing Num_Bathrooms data: 0.0%\n",
            "Missing Num_Beds data: 0.0%\n",
            "Missing BER_class data: 8.56%\n",
            "Missing Description data: 0.0%\n",
            "Missing Services data: 36.2%\n",
            "Missing Features data: 17.6%\n",
            "Missing Latitude data: 0.0%\n",
            "Missing Longitude data: 0.0%\n",
            "Missing Type data: 0.0%\n",
            "Missing Surface data: 0.0%\n",
            "Missing Price data: 0.0%\n"
          ]
        }
      ]
    },
    {
      "cell_type": "markdown",
      "metadata": {
        "id": "HLQa-79pGBof"
      },
      "source": [
        "There is also 17.6% of missing dat for features. We will not treat these mssing values for now as we will be traing them differently for each algorithm."
      ]
    },
    {
      "cell_type": "markdown",
      "metadata": {
        "id": "K6MVdu0_GVml"
      },
      "source": [
        "## Handle Outliers"
      ]
    },
    {
      "cell_type": "code",
      "metadata": {
        "colab": {
          "base_uri": "https://localhost:8080/",
          "height": 1000
        },
        "id": "T3D9ZhCCMyOQ",
        "outputId": "0824a21c-6a36-4968-fb02-c340b7e072f8"
      },
      "source": [
        " dftrain.hist(figsize=[20,20]);"
      ],
      "execution_count": 230,
      "outputs": [
        {
          "output_type": "display_data",
          "data": {
            "image/png": "[encoded data removed]",
            "text/plain": [
              "<Figure size 1440x1440 with 9 Axes>"
            ]
          },
          "metadata": {}
        }
      ]
    },
    {
      "cell_type": "markdown",
      "metadata": {
        "id": "IgIYTgJGTxmH"
      },
      "source": [
        "We will create a function to output a boxplot of the the numeric features"
      ]
    },
    {
      "cell_type": "code",
      "metadata": {
        "id": "4Ib2J-TDM8Ah"
      },
      "source": [
        "def boxplot_features(features):\n",
        "    \"\"\"\n",
        "    box plot selected features\n",
        "    \n",
        "    :param features: list of features to be plotted\n",
        "    :param plt: boxplot for each features\n",
        "    \"\"\"\n",
        "    for f in features:\n",
        "        plt.figure(figsize=(8,6), dpi= 100, facecolor='lightblue', edgecolor='k')\n",
        "        sns.boxplot(x=dftrain[f], orient='v', width=0.2)\n",
        "        plt.show()\n",
        "        print(\" \")\n",
        "    return plt"
      ],
      "execution_count": 231,
      "outputs": []
    },
    {
      "cell_type": "code",
      "metadata": {
        "colab": {
          "base_uri": "https://localhost:8080/"
        },
        "id": "ijtuQ5wtQr0n",
        "outputId": "2eb4a68f-236e-4d8b-d61d-9b7b8a24b2d8"
      },
      "source": [
        "# Get the data type for each column\n",
        "dftrain.dtypes"
      ],
      "execution_count": 232,
      "outputs": [
        {
          "output_type": "execute_result",
          "data": {
            "text/plain": [
              "Index              int64\n",
              "ID                 int64\n",
              "Location          object\n",
              "Num_Bathrooms      int64\n",
              "Num_Beds           int64\n",
              "BER_class         object\n",
              "Description       object\n",
              "Services          object\n",
              "Features          object\n",
              "Latitude         float64\n",
              "Longitude        float64\n",
              "Type              object\n",
              "Surface          float64\n",
              "Price              int64\n",
              "dtype: object"
            ]
          },
          "metadata": {},
          "execution_count": 232
        }
      ]
    },
    {
      "cell_type": "code",
      "metadata": {
        "colab": {
          "base_uri": "https://localhost:8080/"
        },
        "id": "y1QeBgmTRnzR",
        "outputId": "8f814b5f-3d2f-429c-b109-0da410cfb515"
      },
      "source": [
        "#Get list of numeric columns\n",
        "numeric_columns = dftrain.select_dtypes([\"int\", \"float\"]).columns.tolist()\n",
        "print(numeric_columns)"
      ],
      "execution_count": 233,
      "outputs": [
        {
          "output_type": "stream",
          "name": "stdout",
          "text": [
            "['Index', 'ID', 'Num_Bathrooms', 'Num_Beds', 'Latitude', 'Longitude', 'Surface', 'Price']\n"
          ]
        }
      ]
    },
    {
      "cell_type": "markdown",
      "metadata": {
        "id": "PE8uUtLRU-ja"
      },
      "source": [
        "We will remove Latitude and Longitude as it is best to visualize them together."
      ]
    },
    {
      "cell_type": "code",
      "metadata": {
        "colab": {
          "base_uri": "https://localhost:8080/"
        },
        "id": "bgRr_Hl_TJkG",
        "outputId": "20e54684-0bcd-4cfa-ebea-f5903ade78e8"
      },
      "source": [
        "numeric_columns.remove(\"Index\")\n",
        "numeric_columns.remove(\"ID\")\n",
        "numeric_columns.remove(\"Latitude\")\n",
        "numeric_columns.remove(\"Longitude\")\n",
        "print(numeric_columns)"
      ],
      "execution_count": 234,
      "outputs": [
        {
          "output_type": "stream",
          "name": "stdout",
          "text": [
            "['Num_Bathrooms', 'Num_Beds', 'Surface', 'Price']\n"
          ]
        }
      ]
    },
    {
      "cell_type": "code",
      "metadata": {
        "colab": {
          "base_uri": "https://localhost:8080/",
          "height": 1000
        },
        "id": "EjnDlVpQVYgQ",
        "outputId": "8bc7cb30-b8ca-48a8-e2db-052217ece5c9"
      },
      "source": [
        "#Show boxplots of numeric values\n",
        "boxplot_features(numeric_columns)"
      ],
      "execution_count": 235,
      "outputs": [
        {
          "output_type": "display_data",
          "data": {
            "image/png": "[encoded data removed]",
            "text/plain": [
              "<Figure size 800x600 with 1 Axes>"
            ]
          },
          "metadata": {}
        },
        {
          "output_type": "stream",
          "name": "stdout",
          "text": [
            " \n"
          ]
        },
        {
          "output_type": "display_data",
          "data": {
            "image/png": "[encoded data removed]",
            "text/plain": [
              "<Figure size 800x600 with 1 Axes>"
            ]
          },
          "metadata": {}
        },
        {
          "output_type": "stream",
          "name": "stdout",
          "text": [
            " \n"
          ]
        },
        {
          "output_type": "display_data",
          "data": {
            "image/png": "[encoded data removed]",
            "text/plain": [
              "<Figure size 800x600 with 1 Axes>"
            ]
          },
          "metadata": {}
        },
        {
          "output_type": "stream",
          "name": "stdout",
          "text": [
            " \n"
          ]
        },
        {
          "output_type": "display_data",
          "data": {
            "image/png": "[encoded data removed]",
            "text/plain": [
              "<Figure size 800x600 with 1 Axes>"
            ]
          },
          "metadata": {}
        },
        {
          "output_type": "stream",
          "name": "stdout",
          "text": [
            " \n"
          ]
        },
        {
          "output_type": "execute_result",
          "data": {
            "text/plain": [
              "<module 'matplotlib.pyplot' from '/usr/local/lib/python3.7/dist-packages/matplotlib/pyplot.py'>"
            ]
          },
          "metadata": {},
          "execution_count": 235
        }
      ]
    },
    {
      "cell_type": "markdown",
      "metadata": {
        "id": "Qgr7rgip0nMG"
      },
      "source": [
        "We see that we get a number of outliers for the numeric colums plotted. However this does not gives us much insight as there could be expensive and large house included in the dataset. We also see that we get a house that is larger than 70'000 m2 which cannot be possible so this should be removed. We will deep dive into these edge cases later but first lets prpoduce some scatter plots with lon/lat plus the other numeric values plotted vs prices which will provide better insight into the outliers present."
      ]
    },
    {
      "cell_type": "code",
      "metadata": {
        "id": "PETcg5G1-UmW"
      },
      "source": [
        "def scatterplot_features(features):\n",
        "    \"\"\"\n",
        "    box plot selected features\n",
        "    \n",
        "    :param features: list of features to be plotted\n",
        "    :param plt: boxplot for each features\n",
        "    \"\"\"\n",
        "    for f in features:\n",
        "        plt.figure(figsize=(8,6), dpi= 100, facecolor='lightblue', edgecolor='k')\n",
        "        sns.scatterplot(data=dftrain, x=f[0], y=f[1], s=100, hue=f[2], marker=\"+\")\n",
        "        plt.show()\n",
        "        print(\" \")\n",
        "    return plt"
      ],
      "execution_count": 236,
      "outputs": []
    },
    {
      "cell_type": "code",
      "metadata": {
        "id": "lVbvjiMY-0Kw"
      },
      "source": [
        "feature_combo = [[\"Latitude\", \"Longitude\", \"Price\"], \n",
        "                 [\"Surface\", \"Price\", \"Price\"], \n",
        "                 [\"Num_Bathrooms\", \"Price\", \"Price\"], \n",
        "                 [\"Num_Beds\", \"Price\", \"Price\"], \n",
        "                 [\"Num_Bathrooms\", \"Num_Beds\", \"Price\"]]"
      ],
      "execution_count": 237,
      "outputs": []
    },
    {
      "cell_type": "code",
      "metadata": {
        "colab": {
          "base_uri": "https://localhost:8080/",
          "height": 1000
        },
        "id": "s6jcU4DjKRXU",
        "outputId": "108fb3ab-90a4-466d-99bf-56da61255942"
      },
      "source": [
        "scatterplot_features(feature_combo)"
      ],
      "execution_count": 238,
      "outputs": [
        {
          "output_type": "display_data",
          "data": {
            "image/png": "[encoded data removed]",
            "text/plain": [
              "<Figure size 800x600 with 1 Axes>"
            ]
          },
          "metadata": {}
        },
        {
          "output_type": "stream",
          "name": "stdout",
          "text": [
            " \n"
          ]
        },
        {
          "output_type": "display_data",
          "data": {
            "image/png": "[encoded data removed]",
            "text/plain": [
              "<Figure size 800x600 with 1 Axes>"
            ]
          },
          "metadata": {}
        },
        {
          "output_type": "stream",
          "name": "stdout",
          "text": [
            " \n"
          ]
        },
        {
          "output_type": "display_data",
          "data": {
            "image/png": "[encoded data removed]",
            "text/plain": [
              "<Figure size 800x600 with 1 Axes>"
            ]
          },
          "metadata": {}
        },
        {
          "output_type": "stream",
          "name": "stdout",
          "text": [
            " \n"
          ]
        },
        {
          "output_type": "display_data",
          "data": {
            "image/png": "[encoded data removed]",
            "text/plain": [
              "<Figure size 800x600 with 1 Axes>"
            ]
          },
          "metadata": {}
        },
        {
          "output_type": "stream",
          "name": "stdout",
          "text": [
            " \n"
          ]
        },
        {
          "output_type": "display_data",
          "data": {
            "image/png": "[encoded data removed]",
            "text/plain": [
              "<Figure size 800x600 with 1 Axes>"
            ]
          },
          "metadata": {}
        },
        {
          "output_type": "stream",
          "name": "stdout",
          "text": [
            " \n"
          ]
        },
        {
          "output_type": "execute_result",
          "data": {
            "text/plain": [
              "<module 'matplotlib.pyplot' from '/usr/local/lib/python3.7/dist-packages/matplotlib/pyplot.py'>"
            ]
          },
          "metadata": {},
          "execution_count": 238
        }
      ]
    },
    {
      "cell_type": "markdown",
      "metadata": {
        "id": "csEPeeXQ4rrN"
      },
      "source": [
        "We will apply a filter to isolate the outliers based on the plots"
      ]
    },
    {
      "cell_type": "code",
      "metadata": {
        "colab": {
          "base_uri": "https://localhost:8080/",
          "height": 496
        },
        "id": "RJeJ3ImOLHOP",
        "outputId": "7dde7f6f-1ef6-45a2-c624-f1fac3020abf"
      },
      "source": [
        "#Apply a filter to isolate outliers\n",
        "\n",
        "#Longitude\n",
        "longitude_filter = dftrain[\"Longitude\"] > -5\n",
        "#Surface\n",
        "surface_filter = dftrain[\"Surface\"] > 70000\n",
        "#Bathrooms\n",
        "bathroom_filter = dftrain[\"Num_Bathrooms\"] > 10\n",
        "\n",
        "outliers = dftrain[bathroom_filter \n",
        "                   | longitude_filter \n",
        "                   | surface_filter]\n",
        "outliers.head()"
      ],
      "execution_count": 239,
      "outputs": [
        {
          "output_type": "execute_result",
          "data": {
            "text/html": [
              "<div>\n",
              "<style scoped>\n",
              "    .dataframe tbody tr th:only-of-type {\n",
              "        vertical-align: middle;\n",
              "    }\n",
              "\n",
              "    .dataframe tbody tr th {\n",
              "        vertical-align: top;\n",
              "    }\n",
              "\n",
              "    .dataframe thead th {\n",
              "        text-align: right;\n",
              "    }\n",
              "</style>\n",
              "<table border=\"1\" class=\"dataframe\">\n",
              "  <thead>\n",
              "    <tr style=\"text-align: right;\">\n",
              "      <th></th>\n",
              "      <th>Index</th>\n",
              "      <th>ID</th>\n",
              "      <th>Location</th>\n",
              "      <th>Num_Bathrooms</th>\n",
              "      <th>Num_Beds</th>\n",
              "      <th>BER_class</th>\n",
              "      <th>Description</th>\n",
              "      <th>Services</th>\n",
              "      <th>Features</th>\n",
              "      <th>Latitude</th>\n",
              "      <th>Longitude</th>\n",
              "      <th>Type</th>\n",
              "      <th>Surface</th>\n",
              "      <th>Price</th>\n",
              "    </tr>\n",
              "  </thead>\n",
              "  <tbody>\n",
              "    <tr>\n",
              "      <th>355</th>\n",
              "      <td>356</td>\n",
              "      <td>12270559</td>\n",
              "      <td>Clondalkin</td>\n",
              "      <td>1</td>\n",
              "      <td>3</td>\n",
              "      <td>NaN</td>\n",
              "      <td>RAY COOKE AUCTIONEERS take great pleasure in i...</td>\n",
              "      <td>NaN</td>\n",
              "      <td>None</td>\n",
              "      <td>52.501856</td>\n",
              "      <td>-1.744995</td>\n",
              "      <td>semi-detached</td>\n",
              "      <td>79.00000</td>\n",
              "      <td>199000</td>\n",
              "    </tr>\n",
              "    <tr>\n",
              "      <th>506</th>\n",
              "      <td>507</td>\n",
              "      <td>11675753</td>\n",
              "      <td>Swords</td>\n",
              "      <td>1</td>\n",
              "      <td>4</td>\n",
              "      <td>E1</td>\n",
              "      <td>Thornton Park is a superb modern equestrian ce...</td>\n",
              "      <td>NaN</td>\n",
              "      <td>None</td>\n",
              "      <td>53.474502</td>\n",
              "      <td>-6.343483</td>\n",
              "      <td>bungalow</td>\n",
              "      <td>72236.38714</td>\n",
              "      <td>1100000</td>\n",
              "    </tr>\n",
              "    <tr>\n",
              "      <th>557</th>\n",
              "      <td>558</td>\n",
              "      <td>12381836</td>\n",
              "      <td>Inchicore</td>\n",
              "      <td>15</td>\n",
              "      <td>15</td>\n",
              "      <td>D1</td>\n",
              "      <td>umber 67 &amp;amp; 69 Jamestown Road represent a f...</td>\n",
              "      <td>Parking</td>\n",
              "      <td>18 separate units\\nTransport links including t...</td>\n",
              "      <td>53.335109</td>\n",
              "      <td>-6.331515</td>\n",
              "      <td>semi-detached</td>\n",
              "      <td>318.20000</td>\n",
              "      <td>775000</td>\n",
              "    </tr>\n",
              "    <tr>\n",
              "      <th>1099</th>\n",
              "      <td>1100</td>\n",
              "      <td>11780612</td>\n",
              "      <td>Dun Laoghaire</td>\n",
              "      <td>15</td>\n",
              "      <td>15</td>\n",
              "      <td>NaN</td>\n",
              "      <td>A truly unique stone built house of great qual...</td>\n",
              "      <td>Parking,Gas Fired Central Heating,Alarm,Wired ...</td>\n",
              "      <td>Lift servicing all floors\\nVenetian and gothic...</td>\n",
              "      <td>53.287504</td>\n",
              "      <td>-6.146605</td>\n",
              "      <td>detached</td>\n",
              "      <td>700.00000</td>\n",
              "      <td>1500000</td>\n",
              "    </tr>\n",
              "    <tr>\n",
              "      <th>1378</th>\n",
              "      <td>1379</td>\n",
              "      <td>12085770</td>\n",
              "      <td>Killiney</td>\n",
              "      <td>18</td>\n",
              "      <td>27</td>\n",
              "      <td>NaN</td>\n",
              "      <td>The Grove is an imposing Victorian mansion bui...</td>\n",
              "      <td>NaN</td>\n",
              "      <td>Approx. 1 490 sq. m / 16 041 sq. ft. of accomm...</td>\n",
              "      <td>53.260955</td>\n",
              "      <td>-6.117266</td>\n",
              "      <td>detached</td>\n",
              "      <td>1490.00000</td>\n",
              "      <td>4500000</td>\n",
              "    </tr>\n",
              "  </tbody>\n",
              "</table>\n",
              "</div>"
            ],
            "text/plain": [
              "      Index        ID       Location  ...           Type      Surface    Price\n",
              "355     356  12270559     Clondalkin  ...  semi-detached     79.00000   199000\n",
              "506     507  11675753         Swords  ...       bungalow  72236.38714  1100000\n",
              "557     558  12381836      Inchicore  ...  semi-detached    318.20000   775000\n",
              "1099   1100  11780612  Dun Laoghaire  ...       detached    700.00000  1500000\n",
              "1378   1379  12085770       Killiney  ...       detached   1490.00000  4500000\n",
              "\n",
              "[5 rows x 14 columns]"
            ]
          },
          "metadata": {},
          "execution_count": 239
        }
      ]
    },
    {
      "cell_type": "markdown",
      "metadata": {
        "id": "QNmaJ5S9LGRg"
      },
      "source": [
        "After investigating the outliers we whould remove these rows for the following reasons:\n",
        "\n",
        "*   **355**: Coodinates show that the house is in the UK, not Clondalkin\n",
        "*   **506**: This is an Equatrian centre\n",
        "*   **557**: Not clear what this is, apparently there is 18 units what ever this is meaning its some sort of dormitory, maybe sort of student accomodation\n",
        "\n",
        "We can alter the followingfeature instead of deleting it:\n",
        "\n",
        "*   **1115**: Surface is worng by a factor of 100, must have been a typo. We can impute the correct value by dividing the value by 100\n",
        "\n"
      ]
    },
    {
      "cell_type": "code",
      "metadata": {
        "id": "RisjV7GyWDm_"
      },
      "source": [
        "dftrain.loc[1115, \"Surface\"] = (dftrain.loc[1115, \"Surface\"] / 100)"
      ],
      "execution_count": 240,
      "outputs": []
    },
    {
      "cell_type": "code",
      "metadata": {
        "id": "QAF7Z5ICUjHO"
      },
      "source": [
        "drop_rows = [355, 506, 557]\n",
        "dftrain.drop(index=drop_rows, inplace=True)"
      ],
      "execution_count": 241,
      "outputs": []
    },
    {
      "cell_type": "code",
      "metadata": {
        "colab": {
          "base_uri": "https://localhost:8080/"
        },
        "id": "hqLoKTaN00Ey",
        "outputId": "6a6243c0-f9d1-49d4-b016-4e1e465f1ce2"
      },
      "source": [
        "dftrain.shape"
      ],
      "execution_count": 242,
      "outputs": [
        {
          "output_type": "execute_result",
          "data": {
            "text/plain": [
              "(1635, 14)"
            ]
          },
          "metadata": {},
          "execution_count": 242
        }
      ]
    },
    {
      "cell_type": "code",
      "metadata": {
        "colab": {
          "base_uri": "https://localhost:8080/",
          "height": 1000
        },
        "id": "0RGqDASWv00B",
        "outputId": "7d978aaf-ca6e-4abb-f02a-17e174b087f6"
      },
      "source": [
        "#Show boxplots of numeric values\n",
        "boxplot_features(numeric_columns)"
      ],
      "execution_count": 243,
      "outputs": [
        {
          "output_type": "display_data",
          "data": {
            "image/png": "[encoded data removed]",
            "text/plain": [
              "<Figure size 800x600 with 1 Axes>"
            ]
          },
          "metadata": {}
        },
        {
          "output_type": "stream",
          "name": "stdout",
          "text": [
            " \n"
          ]
        },
        {
          "output_type": "display_data",
          "data": {
            "image/png": "[encoded data removed]",
            "text/plain": [
              "<Figure size 800x600 with 1 Axes>"
            ]
          },
          "metadata": {}
        },
        {
          "output_type": "stream",
          "name": "stdout",
          "text": [
            " \n"
          ]
        },
        {
          "output_type": "display_data",
          "data": {
            "image/png": "[encoded data removed]",
            "text/plain": [
              "<Figure size 800x600 with 1 Axes>"
            ]
          },
          "metadata": {}
        },
        {
          "output_type": "stream",
          "name": "stdout",
          "text": [
            " \n"
          ]
        },
        {
          "output_type": "display_data",
          "data": {
            "image/png": "[encoded data removed]",
            "text/plain": [
              "<Figure size 800x600 with 1 Axes>"
            ]
          },
          "metadata": {}
        },
        {
          "output_type": "stream",
          "name": "stdout",
          "text": [
            " \n"
          ]
        },
        {
          "output_type": "execute_result",
          "data": {
            "text/plain": [
              "<module 'matplotlib.pyplot' from '/usr/local/lib/python3.7/dist-packages/matplotlib/pyplot.py'>"
            ]
          },
          "metadata": {},
          "execution_count": 243
        }
      ]
    },
    {
      "cell_type": "code",
      "metadata": {
        "colab": {
          "base_uri": "https://localhost:8080/",
          "height": 1000
        },
        "id": "ogB8qWfUwqCU",
        "outputId": "91da2f15-f9ad-4720-f6ed-304901e796ba"
      },
      "source": [
        "#Show scatterplots of numeric values\n",
        "scatterplot_features(feature_combo)"
      ],
      "execution_count": 244,
      "outputs": [
        {
          "output_type": "display_data",
          "data": {
            "image/png": "[encoded data removed]",
            "text/plain": [
              "<Figure size 800x600 with 1 Axes>"
            ]
          },
          "metadata": {}
        },
        {
          "output_type": "stream",
          "name": "stdout",
          "text": [
            " \n"
          ]
        },
        {
          "output_type": "display_data",
          "data": {
            "image/png": "[encoded data removed]",
            "text/plain": [
              "<Figure size 800x600 with 1 Axes>"
            ]
          },
          "metadata": {}
        },
        {
          "output_type": "stream",
          "name": "stdout",
          "text": [
            " \n"
          ]
        },
        {
          "output_type": "display_data",
          "data": {
            "image/png": "[encoded data removed]",
            "text/plain": [
              "<Figure size 800x600 with 1 Axes>"
            ]
          },
          "metadata": {}
        },
        {
          "output_type": "stream",
          "name": "stdout",
          "text": [
            " \n"
          ]
        },
        {
          "output_type": "display_data",
          "data": {
            "image/png": "[encoded data removed]",
            "text/plain": [
              "<Figure size 800x600 with 1 Axes>"
            ]
          },
          "metadata": {}
        },
        {
          "output_type": "stream",
          "name": "stdout",
          "text": [
            " \n"
          ]
        },
        {
          "output_type": "display_data",
          "data": {
            "image/png": "[encoded data removed]",
            "text/plain": [
              "<Figure size 800x600 with 1 Axes>"
            ]
          },
          "metadata": {}
        },
        {
          "output_type": "stream",
          "name": "stdout",
          "text": [
            " \n"
          ]
        },
        {
          "output_type": "execute_result",
          "data": {
            "text/plain": [
              "<module 'matplotlib.pyplot' from '/usr/local/lib/python3.7/dist-packages/matplotlib/pyplot.py'>"
            ]
          },
          "metadata": {},
          "execution_count": 244
        }
      ]
    },
    {
      "cell_type": "code",
      "metadata": {
        "id": "G-_lcUKlWIqy"
      },
      "source": [
        "def std_method(df,column):\n",
        "    \"\"\"Replaces outliers outside of 3 standard deviations from the mean for Gaussian-like distributions\n",
        "    \n",
        "    param df: entire bank dataframe\n",
        "    param df: column in the dataframe that we want to process\n",
        "    \"\"\"\n",
        "    \n",
        "    data_mean, data_std = mean(df[column]), std(df[column])\n",
        "    cut_off = data_std * 3\n",
        "    lower, upper = data_mean - cut_off, data_mean + cut_off\n",
        "    outliers = [x for x in df[column] if x < lower or x > upper]\n",
        "    print('Outliers removed: %d' % len(outliers))\n",
        "    \n",
        "    #Replace outliers with the median value\n",
        "    df[column].values[df[column].values < lower] = df[column].median()\n",
        "    df[column].values[df[column].values > upper] = df[column].median()\n",
        "    \n",
        "    return df"
      ],
      "execution_count": 245,
      "outputs": []
    },
    {
      "cell_type": "markdown",
      "metadata": {
        "id": "G5oRiZxo2gpN"
      },
      "source": [
        "# NATURAL LANGUAGE PROCESSING"
      ]
    },
    {
      "cell_type": "markdown",
      "metadata": {
        "id": "e8s0Wi3a8yjN"
      },
      "source": [
        "Natural language processing ([NLP](https://en.wikipedia.org/wiki/Natural_language_processing)) is a subfield of linguistics, computer science, and artificial intelligence.\n",
        "\n",
        "* NLP concerned with the interactions between computers and human language.\n",
        "* In particular how to program computers to process and analyze large amounts of natural language data. \n",
        "* The goal is a computer capable of \"understanding\" the contents of documents.\n",
        "* Including the contextual nuances of the language within them. \n",
        "* The technology can then accurately extract information and insights contained in the documents.\n",
        "* As well as categorize and organize the documents themselves. "
      ]
    },
    {
      "cell_type": "markdown",
      "metadata": {
        "id": "oValFP-z2gpN"
      },
      "source": [
        "Your comments, explanation, and references here."
      ]
    },
    {
      "cell_type": "markdown",
      "metadata": {
        "id": "Zr0-50CJAMY4"
      },
      "source": [
        "## Pre-Processing"
      ]
    },
    {
      "cell_type": "code",
      "metadata": {
        "id": "e_WND6NP2gpN"
      },
      "source": [
        "# Removing stopwords and stemming\n",
        "# a stem must be a word\n",
        "# Example:  fishing, fished, and fisher: stem -> fish\n",
        "# choose English as the target language\n",
        "stemmer = SnowballStemmer('english', ignore_stopwords=False)"
      ],
      "execution_count": 246,
      "outputs": []
    },
    {
      "cell_type": "code",
      "metadata": {
        "id": "khg1zgPmA8QQ",
        "colab": {
          "base_uri": "https://localhost:8080/"
        },
        "outputId": "4c60e978-ff97-4e18-ec2a-50d0db5e63f3"
      },
      "source": [
        "# Stop words are basically a set of commonly used words in any language\n",
        "# https://en.wikipedia.org/wiki/Stop_word\n",
        "# and are filtered out before processing of natural language data \n",
        "# Example list: https://github.com/igorbrigadir/stopwords/blob/master/en/terrier.txt\n",
        "import nltk\n",
        "from nltk.corpus import stopwords\n",
        "nltk.download('stopwords')\n",
        "\n",
        "swords = stopwords.words('english')"
      ],
      "execution_count": 247,
      "outputs": [
        {
          "output_type": "stream",
          "name": "stdout",
          "text": [
            "[nltk_data] Downloading package stopwords to /root/nltk_data...\n",
            "[nltk_data]   Package stopwords is already up-to-date!\n"
          ]
        }
      ]
    },
    {
      "cell_type": "code",
      "metadata": {
        "id": "2SCKTte3A_fY",
        "colab": {
          "base_uri": "https://localhost:8080/"
        },
        "outputId": "250d5a9a-b51b-4a09-afc5-a2de32797bbe"
      },
      "source": [
        "# example: remove anything that is not a letter\n",
        "string_sample = '123This @45is 890-130 an_example !!'\n",
        "new_string = re.sub('[^a-zA-Z]', ' ', string_sample) \n",
        "print(new_string)"
      ],
      "execution_count": 248,
      "outputs": [
        {
          "output_type": "stream",
          "name": "stdout",
          "text": [
            "   This    is         an example   \n"
          ]
        }
      ]
    },
    {
      "cell_type": "code",
      "metadata": {
        "id": "KtbK7SVZShUg"
      },
      "source": [
        "# Make copies of the data\n",
        "dftrain_nlp = dftrain\n",
        "dftest_nlp = dftest"
      ],
      "execution_count": 249,
      "outputs": []
    },
    {
      "cell_type": "code",
      "metadata": {
        "colab": {
          "base_uri": "https://localhost:8080/",
          "height": 391
        },
        "id": "T2AHPyGHQFG1",
        "outputId": "7d9cf04b-2fdc-476b-966f-2ad5621d5c5d"
      },
      "source": [
        "dftrain_nlp.head(5)"
      ],
      "execution_count": 250,
      "outputs": [
        {
          "output_type": "execute_result",
          "data": {
            "text/html": [
              "<div>\n",
              "<style scoped>\n",
              "    .dataframe tbody tr th:only-of-type {\n",
              "        vertical-align: middle;\n",
              "    }\n",
              "\n",
              "    .dataframe tbody tr th {\n",
              "        vertical-align: top;\n",
              "    }\n",
              "\n",
              "    .dataframe thead th {\n",
              "        text-align: right;\n",
              "    }\n",
              "</style>\n",
              "<table border=\"1\" class=\"dataframe\">\n",
              "  <thead>\n",
              "    <tr style=\"text-align: right;\">\n",
              "      <th></th>\n",
              "      <th>Index</th>\n",
              "      <th>ID</th>\n",
              "      <th>Location</th>\n",
              "      <th>Num_Bathrooms</th>\n",
              "      <th>Num_Beds</th>\n",
              "      <th>BER_class</th>\n",
              "      <th>Description</th>\n",
              "      <th>Services</th>\n",
              "      <th>Features</th>\n",
              "      <th>Latitude</th>\n",
              "      <th>Longitude</th>\n",
              "      <th>Type</th>\n",
              "      <th>Surface</th>\n",
              "      <th>Price</th>\n",
              "    </tr>\n",
              "  </thead>\n",
              "  <tbody>\n",
              "    <tr>\n",
              "      <th>0</th>\n",
              "      <td>1</td>\n",
              "      <td>12409116</td>\n",
              "      <td>Ongar</td>\n",
              "      <td>2</td>\n",
              "      <td>2</td>\n",
              "      <td>C3</td>\n",
              "      <td>DNG are delighted to present to the market no....</td>\n",
              "      <td>NaN</td>\n",
              "      <td>None</td>\n",
              "      <td>53.396659</td>\n",
              "      <td>-6.438791</td>\n",
              "      <td>apartment</td>\n",
              "      <td>67.00</td>\n",
              "      <td>195000</td>\n",
              "    </tr>\n",
              "    <tr>\n",
              "      <th>1</th>\n",
              "      <td>2</td>\n",
              "      <td>12320330</td>\n",
              "      <td>North Strand</td>\n",
              "      <td>1</td>\n",
              "      <td>2</td>\n",
              "      <td>D1</td>\n",
              "      <td>13 Northbrook Terrace is a charming red brick ...</td>\n",
              "      <td>NaN</td>\n",
              "      <td>Bight and Spacious interior\\nNumerous original...</td>\n",
              "      <td>53.357129</td>\n",
              "      <td>-6.239779</td>\n",
              "      <td>terraced</td>\n",
              "      <td>95.97</td>\n",
              "      <td>425000</td>\n",
              "    </tr>\n",
              "    <tr>\n",
              "      <th>2</th>\n",
              "      <td>3</td>\n",
              "      <td>12405953</td>\n",
              "      <td>Stepaside</td>\n",
              "      <td>3</td>\n",
              "      <td>3</td>\n",
              "      <td>A3</td>\n",
              "      <td>Welcome to No. 6 Cotter Close, an immaculately...</td>\n",
              "      <td>NaN</td>\n",
              "      <td>Special Features\\nLarge rear garden\\nGenerous ...</td>\n",
              "      <td>53.266468</td>\n",
              "      <td>-6.222771</td>\n",
              "      <td>semi-detached</td>\n",
              "      <td>107.00</td>\n",
              "      <td>535000</td>\n",
              "    </tr>\n",
              "    <tr>\n",
              "      <th>3</th>\n",
              "      <td>4</td>\n",
              "      <td>12202582</td>\n",
              "      <td>Cabinteely</td>\n",
              "      <td>1</td>\n",
              "      <td>3</td>\n",
              "      <td>E1</td>\n",
              "      <td>Welcome to 3 Sycamore Walk!\\n\\r\\nEnjoying a pr...</td>\n",
              "      <td>NaN</td>\n",
              "      <td>Wonderful 3 bed detached bungalow.     \\nAccom...</td>\n",
              "      <td>53.261600</td>\n",
              "      <td>-6.166738</td>\n",
              "      <td>detached</td>\n",
              "      <td>81.00</td>\n",
              "      <td>499000</td>\n",
              "    </tr>\n",
              "    <tr>\n",
              "      <th>4</th>\n",
              "      <td>5</td>\n",
              "      <td>12299336</td>\n",
              "      <td>Lusk</td>\n",
              "      <td>3</td>\n",
              "      <td>4</td>\n",
              "      <td>D1</td>\n",
              "      <td>'Four Seasons' comes to the market as a wonder...</td>\n",
              "      <td>NaN</td>\n",
              "      <td>Detached Property      \\nDouble Glazed Windows...</td>\n",
              "      <td>53.550731</td>\n",
              "      <td>-6.121415</td>\n",
              "      <td>detached</td>\n",
              "      <td>153.00</td>\n",
              "      <td>510000</td>\n",
              "    </tr>\n",
              "  </tbody>\n",
              "</table>\n",
              "</div>"
            ],
            "text/plain": [
              "   Index        ID      Location  ...           Type  Surface   Price\n",
              "0      1  12409116         Ongar  ...      apartment    67.00  195000\n",
              "1      2  12320330  North Strand  ...       terraced    95.97  425000\n",
              "2      3  12405953     Stepaside  ...  semi-detached   107.00  535000\n",
              "3      4  12202582    Cabinteely  ...       detached    81.00  499000\n",
              "4      5  12299336          Lusk  ...       detached   153.00  510000\n",
              "\n",
              "[5 rows x 14 columns]"
            ]
          },
          "metadata": {},
          "execution_count": 250
        }
      ]
    },
    {
      "cell_type": "code",
      "metadata": {
        "id": "vQgWB2n9O47U"
      },
      "source": [
        "#Isolate categorical and free text data\n",
        "dftrain_nlp = dftrain_nlp.select_dtypes(\"object\")\n",
        "dftest_nlp = dftest_nlp.select_dtypes(\"object\")"
      ],
      "execution_count": 251,
      "outputs": []
    },
    {
      "cell_type": "code",
      "metadata": {
        "id": "8Xuz9Ff2gAzj"
      },
      "source": [
        "#Drop Services\n",
        "dftrain_nlp.drop(columns=\"Services\",inplace=True)\n",
        "dftest_nlp.drop(columns=\"Services\",inplace=True)"
      ],
      "execution_count": 252,
      "outputs": []
    },
    {
      "cell_type": "code",
      "metadata": {
        "id": "56FBDlfJhmPW"
      },
      "source": [
        "#Drop NaN rows\n",
        "dftrain_nlp.dropna(subset=[\"Features\"],inplace=True)\n",
        "dftest_nlp.dropna(subset=[\"Features\"],inplace=True)"
      ],
      "execution_count": 253,
      "outputs": []
    },
    {
      "cell_type": "code",
      "metadata": {
        "id": "SG3cBijqPa0t"
      },
      "source": [
        "#Clean data using regular expressions - remove everything except letters and numbers\n",
        "dftrain_nlp['Description'] = dftrain_nlp['Description'].str.replace(\"[^a-zA-Z0-9#]\", \" \")\n",
        "dftrain_nlp['Features'] = dftrain_nlp['Features'].str.replace(\"[^a-zA-Z0-9#]\", \" \")"
      ],
      "execution_count": 254,
      "outputs": []
    },
    {
      "cell_type": "code",
      "metadata": {
        "colab": {
          "base_uri": "https://localhost:8080/",
          "height": 204
        },
        "id": "wHdBSJEbQ5wB",
        "outputId": "589c173d-d07c-4f4a-ddba-7550f6491595"
      },
      "source": [
        "dftrain_nlp.head(5)"
      ],
      "execution_count": 255,
      "outputs": [
        {
          "output_type": "execute_result",
          "data": {
            "text/html": [
              "<div>\n",
              "<style scoped>\n",
              "    .dataframe tbody tr th:only-of-type {\n",
              "        vertical-align: middle;\n",
              "    }\n",
              "\n",
              "    .dataframe tbody tr th {\n",
              "        vertical-align: top;\n",
              "    }\n",
              "\n",
              "    .dataframe thead th {\n",
              "        text-align: right;\n",
              "    }\n",
              "</style>\n",
              "<table border=\"1\" class=\"dataframe\">\n",
              "  <thead>\n",
              "    <tr style=\"text-align: right;\">\n",
              "      <th></th>\n",
              "      <th>Location</th>\n",
              "      <th>BER_class</th>\n",
              "      <th>Description</th>\n",
              "      <th>Features</th>\n",
              "      <th>Type</th>\n",
              "    </tr>\n",
              "  </thead>\n",
              "  <tbody>\n",
              "    <tr>\n",
              "      <th>1</th>\n",
              "      <td>North Strand</td>\n",
              "      <td>D1</td>\n",
              "      <td>13 Northbrook Terrace is a charming red brick ...</td>\n",
              "      <td>Bight and Spacious interior Numerous original ...</td>\n",
              "      <td>terraced</td>\n",
              "    </tr>\n",
              "    <tr>\n",
              "      <th>2</th>\n",
              "      <td>Stepaside</td>\n",
              "      <td>A3</td>\n",
              "      <td>Welcome to No  6 Cotter Close  an immaculately...</td>\n",
              "      <td>Special Features Large rear garden Generous of...</td>\n",
              "      <td>semi-detached</td>\n",
              "    </tr>\n",
              "    <tr>\n",
              "      <th>3</th>\n",
              "      <td>Cabinteely</td>\n",
              "      <td>E1</td>\n",
              "      <td>Welcome to 3 Sycamore Walk    Enjoying a premi...</td>\n",
              "      <td>Wonderful 3 bed detached bungalow       Accomm...</td>\n",
              "      <td>detached</td>\n",
              "    </tr>\n",
              "    <tr>\n",
              "      <th>4</th>\n",
              "      <td>Lusk</td>\n",
              "      <td>D1</td>\n",
              "      <td>Four Seasons  comes to the market as a wonder...</td>\n",
              "      <td>Detached Property       Double Glazed Windows ...</td>\n",
              "      <td>detached</td>\n",
              "    </tr>\n",
              "    <tr>\n",
              "      <th>6</th>\n",
              "      <td>North Circular Road</td>\n",
              "      <td>C3</td>\n",
              "      <td>6 Marlborough Court is a bright and spacious t...</td>\n",
              "      <td>First floor purpose built apartment Cul de sac...</td>\n",
              "      <td>apartment</td>\n",
              "    </tr>\n",
              "  </tbody>\n",
              "</table>\n",
              "</div>"
            ],
            "text/plain": [
              "              Location  ...           Type\n",
              "1         North Strand  ...       terraced\n",
              "2            Stepaside  ...  semi-detached\n",
              "3           Cabinteely  ...       detached\n",
              "4                 Lusk  ...       detached\n",
              "6  North Circular Road  ...      apartment\n",
              "\n",
              "[5 rows x 5 columns]"
            ]
          },
          "metadata": {},
          "execution_count": 255
        }
      ]
    },
    {
      "cell_type": "code",
      "metadata": {
        "colab": {
          "base_uri": "https://localhost:8080/"
        },
        "id": "-8I-xF3XfF2u",
        "outputId": "11a024e3-e45d-44fe-e94b-d0d522f47f63"
      },
      "source": [
        "dftrain_nlp.info()"
      ],
      "execution_count": 256,
      "outputs": [
        {
          "output_type": "stream",
          "name": "stdout",
          "text": [
            "<class 'pandas.core.frame.DataFrame'>\n",
            "Int64Index: 1121 entries, 1 to 1637\n",
            "Data columns (total 5 columns):\n",
            " #   Column       Non-Null Count  Dtype \n",
            "---  ------       --------------  ----- \n",
            " 0   Location     1121 non-null   object\n",
            " 1   BER_class    998 non-null    object\n",
            " 2   Description  1121 non-null   object\n",
            " 3   Features     1121 non-null   object\n",
            " 4   Type         1121 non-null   object\n",
            "dtypes: object(5)\n",
            "memory usage: 52.5+ KB\n"
          ]
        }
      ]
    },
    {
      "cell_type": "code",
      "metadata": {
        "id": "uNLiliSBQ5dZ"
      },
      "source": [
        "#Clean data using regular expressions - remove words less than 4 charaters\n",
        "short_word = 4\n",
        "dftrain_nlp['Description'] = dftrain_nlp['Description'].apply(lambda x: ' '.join([w for w in x.split() if len(w)>short_word]))\n",
        "dftrain_nlp['Features'] = dftrain_nlp['Features'].apply(lambda x: ' '.join([w for w in x.split() if len(w)>short_word]))"
      ],
      "execution_count": 257,
      "outputs": []
    },
    {
      "cell_type": "code",
      "metadata": {
        "id": "SNOhqhtPatwd"
      },
      "source": [
        "#Clean data using regular expressions - make all characters lower case\n",
        "dftrain_nlp['Description'] = dftrain_nlp['Description'].apply(lambda x: x.lower())\n",
        "dftrain_nlp['Features'] = dftrain_nlp['Features'].apply(lambda x: x.lower())"
      ],
      "execution_count": 258,
      "outputs": []
    },
    {
      "cell_type": "code",
      "metadata": {
        "id": "FpaRUrMai8yn"
      },
      "source": [
        "# tokenization\n",
        "tokenized_description = dftrain_nlp['Description'].apply(lambda x: x.split())\n",
        "tokenized_features = dftrain_nlp['Features'].apply(lambda x: x.split())"
      ],
      "execution_count": 259,
      "outputs": []
    },
    {
      "cell_type": "code",
      "metadata": {
        "colab": {
          "base_uri": "https://localhost:8080/"
        },
        "id": "DSbj35JfkYuu",
        "outputId": "4809d1c1-95d7-4b37-b6f6-bf4978d4be4c"
      },
      "source": [
        "print(tokenized_description)"
      ],
      "execution_count": 260,
      "outputs": [
        {
          "output_type": "stream",
          "name": "stdout",
          "text": [
            "1       [northbrook, terrace, charming, brick, period,...\n",
            "2       [welcome, cotter, close, immaculately, present...\n",
            "3       [welcome, sycamore, enjoying, premier, address...\n",
            "4       [seasons, comes, market, wonderful, opportunit...\n",
            "6       [marlborough, court, bright, spacious, bedroom...\n",
            "                              ...                        \n",
            "1630    [joint, agents, murphy, mullan, bohan, hyland,...\n",
            "1631    [delighted, represent, carndonagh, drive, spac...\n",
            "1633    [built, stradbrook, delightful, bedroom, doubl...\n",
            "1634    [impressive, three, story, family, superbly, l...\n",
            "1637    [superb, opportunity, awaits, acquire, beautif...\n",
            "Name: Description, Length: 1121, dtype: object\n"
          ]
        }
      ]
    },
    {
      "cell_type": "code",
      "metadata": {
        "id": "ulN4CeJlkP-I"
      },
      "source": [
        "# remove stop-words\n",
        "tokenized_description = tokenized_description.apply(lambda x: [item for item in x if item not in swords])\n",
        "tokenized_features = tokenized_features.apply(lambda x: [item for item in x if item not in swords])"
      ],
      "execution_count": 261,
      "outputs": []
    },
    {
      "cell_type": "markdown",
      "metadata": {
        "id": "PUzyX8dwoVwa"
      },
      "source": [
        "TBC..."
      ]
    },
    {
      "cell_type": "markdown",
      "metadata": {
        "id": "bJFJQxAS9HZK"
      },
      "source": [
        "# PIECEWISE REGRESSION"
      ]
    },
    {
      "cell_type": "markdown",
      "metadata": {
        "id": "QkRchZtf6IV-"
      },
      "source": [
        "**Piecewise regression**, extract from [Wikipedia](https://en.wikipedia.org/wiki/Segmented_regression):\n",
        "\n",
        "Segmented regression, also known as piecewise regression or broken-stick regression, is a method in regression analysis in which the independent variable is partitioned into intervals and a separate line segment is fit to each interval. \n",
        "\n",
        "* Segmented regression analysis can also be performed on \n",
        "multivariate data by partitioning the various independent variables. \n",
        "* Segmented regression is useful when the independent variables, clustered into different groups, exhibit different relationships between the variables in these regions. \n",
        "\n",
        "* The boundaries between the segments are breakpoints.\n",
        "\n",
        "* Segmented linear regression is segmented regression whereby the relations in the intervals are obtained by linear regression. "
      ]
    },
    {
      "cell_type": "markdown",
      "metadata": {
        "id": "po84zvge2NS7"
      },
      "source": [
        "Your comments, explanation, and references here."
      ]
    },
    {
      "cell_type": "markdown",
      "metadata": {
        "id": "_V3ISUlenvOS"
      },
      "source": [
        "First thing that we will do is remove NaN rows and columns with poor data. Services had 36.7% missing data so we will drop that column"
      ]
    },
    {
      "cell_type": "code",
      "metadata": {
        "id": "pXX7Mq2Y2NrK"
      },
      "source": [
        "# Make copies of the data\n",
        "dftrain_pr = dftrain\n",
        "dftest_pr = dftest"
      ],
      "execution_count": 262,
      "outputs": []
    },
    {
      "cell_type": "code",
      "metadata": {
        "colab": {
          "base_uri": "https://localhost:8080/"
        },
        "id": "wgXDskn_o4xQ",
        "outputId": "3927463c-96e9-4e20-8eab-f8b664ad516b"
      },
      "source": [
        "dftrain_pr.shape"
      ],
      "execution_count": 263,
      "outputs": [
        {
          "output_type": "execute_result",
          "data": {
            "text/plain": [
              "(1635, 14)"
            ]
          },
          "metadata": {},
          "execution_count": 263
        }
      ]
    },
    {
      "cell_type": "code",
      "metadata": {
        "colab": {
          "base_uri": "https://localhost:8080/"
        },
        "id": "67d0j7HBo4dN",
        "outputId": "be996e0c-9846-4cee-8560-58953ef302e7"
      },
      "source": [
        "dftest_pr.shape"
      ],
      "execution_count": 264,
      "outputs": [
        {
          "output_type": "execute_result",
          "data": {
            "text/plain": [
              "(702, 13)"
            ]
          },
          "metadata": {},
          "execution_count": 264
        }
      ]
    },
    {
      "cell_type": "code",
      "metadata": {
        "id": "JIxl8eZiogNV"
      },
      "source": [
        "#Drop Index, ID, and Services\n",
        "dftrain_pr.drop(columns=\"Services\",inplace=True)\n",
        "dftest_pr.drop(columns=\"Services\",inplace=True)\n",
        "\n",
        "dftrain_pr.drop(columns=\"Index\",inplace=True)\n",
        "dftest_pr.drop(columns=\"Index\",inplace=True)\n",
        "\n",
        "dftrain_pr.drop(columns=\"ID\",inplace=True)\n",
        "dftest_pr.drop(columns=\"ID\",inplace=True)"
      ],
      "execution_count": 265,
      "outputs": []
    },
    {
      "cell_type": "code",
      "metadata": {
        "id": "8tvvyp4honAs"
      },
      "source": [
        "#Drop NaN rows\n",
        "dftrain_pr = dftrain_pr.dropna()\n",
        "dftest_pr = dftest_pr.dropna()"
      ],
      "execution_count": 266,
      "outputs": []
    },
    {
      "cell_type": "code",
      "metadata": {
        "colab": {
          "base_uri": "https://localhost:8080/"
        },
        "id": "5VjSHjwdp3Eh",
        "outputId": "3fc6794c-6b59-4fe2-aca0-69a0c5010722"
      },
      "source": [
        "dftrain_pr.shape"
      ],
      "execution_count": 267,
      "outputs": [
        {
          "output_type": "execute_result",
          "data": {
            "text/plain": [
              "(998, 11)"
            ]
          },
          "metadata": {},
          "execution_count": 267
        }
      ]
    },
    {
      "cell_type": "code",
      "metadata": {
        "colab": {
          "base_uri": "https://localhost:8080/"
        },
        "id": "xJv1f12xp219",
        "outputId": "12b96e94-6c97-4d6a-c680-82de7a4e471e"
      },
      "source": [
        "dftest_pr.shape"
      ],
      "execution_count": 268,
      "outputs": [
        {
          "output_type": "execute_result",
          "data": {
            "text/plain": [
              "(594, 10)"
            ]
          },
          "metadata": {},
          "execution_count": 268
        }
      ]
    },
    {
      "cell_type": "code",
      "metadata": {
        "colab": {
          "base_uri": "https://localhost:8080/"
        },
        "id": "3KPIPnkzqIsb",
        "outputId": "c1c5e892-a16c-4eb5-d294-c34b56f651b7"
      },
      "source": [
        "dftrain_pr.info()"
      ],
      "execution_count": 269,
      "outputs": [
        {
          "output_type": "stream",
          "name": "stdout",
          "text": [
            "<class 'pandas.core.frame.DataFrame'>\n",
            "Int64Index: 998 entries, 1 to 1637\n",
            "Data columns (total 11 columns):\n",
            " #   Column         Non-Null Count  Dtype  \n",
            "---  ------         --------------  -----  \n",
            " 0   Location       998 non-null    object \n",
            " 1   Num_Bathrooms  998 non-null    int64  \n",
            " 2   Num_Beds       998 non-null    int64  \n",
            " 3   BER_class      998 non-null    object \n",
            " 4   Description    998 non-null    object \n",
            " 5   Features       998 non-null    object \n",
            " 6   Latitude       998 non-null    float64\n",
            " 7   Longitude      998 non-null    float64\n",
            " 8   Type           998 non-null    object \n",
            " 9   Surface        998 non-null    float64\n",
            " 10  Price          998 non-null    int64  \n",
            "dtypes: float64(3), int64(3), object(5)\n",
            "memory usage: 93.6+ KB\n"
          ]
        }
      ]
    },
    {
      "cell_type": "markdown",
      "metadata": {
        "id": "h4Tb74umrJQL"
      },
      "source": [
        "Encoding location using mapper"
      ]
    },
    {
      "cell_type": "code",
      "metadata": {
        "id": "rw69sgr-q3fz"
      },
      "source": [
        "labels = dftrain_pr['Location'].astype('category').cat.categories.tolist()\n",
        "replace_map_comp_1 = {'Location' : {k: v for k,v in zip(labels,list(range(1,len(labels)+1)))}}\n",
        "dftrain_pr.replace(replace_map_comp_1, inplace=True)"
      ],
      "execution_count": 270,
      "outputs": []
    },
    {
      "cell_type": "code",
      "metadata": {
        "id": "WCCiL9wgrU-p"
      },
      "source": [
        "labels = dftest_pr['Location'].astype('category').cat.categories.tolist()\n",
        "replace_map_comp_1 = {'Location' : {k: v for k,v in zip(labels,list(range(1,len(labels)+1)))}}\n",
        "dftest_pr.replace(replace_map_comp_1, inplace=True)"
      ],
      "execution_count": 271,
      "outputs": []
    },
    {
      "cell_type": "code",
      "metadata": {
        "colab": {
          "base_uri": "https://localhost:8080/"
        },
        "id": "4qNG2FY5rU0l",
        "outputId": "5339ff61-25bb-464a-e249-a03c498fd719"
      },
      "source": [
        "pip install category_encoders"
      ],
      "execution_count": 272,
      "outputs": [
        {
          "output_type": "stream",
          "name": "stdout",
          "text": [
            "Requirement already satisfied: category_encoders in /usr/local/lib/python3.7/dist-packages (2.2.2)\n",
            "Requirement already satisfied: pandas>=0.21.1 in /usr/local/lib/python3.7/dist-packages (from category_encoders) (1.1.5)\n",
            "Requirement already satisfied: statsmodels>=0.9.0 in /usr/local/lib/python3.7/dist-packages (from category_encoders) (0.10.2)\n",
            "Requirement already satisfied: scikit-learn>=0.20.0 in /usr/local/lib/python3.7/dist-packages (from category_encoders) (0.22.2.post1)\n",
            "Requirement already satisfied: scipy>=1.0.0 in /usr/local/lib/python3.7/dist-packages (from category_encoders) (1.4.1)\n",
            "Requirement already satisfied: patsy>=0.5.1 in /usr/local/lib/python3.7/dist-packages (from category_encoders) (0.5.2)\n",
            "Requirement already satisfied: numpy>=1.14.0 in /usr/local/lib/python3.7/dist-packages (from category_encoders) (1.19.5)\n",
            "Requirement already satisfied: pytz>=2017.2 in /usr/local/lib/python3.7/dist-packages (from pandas>=0.21.1->category_encoders) (2018.9)\n",
            "Requirement already satisfied: python-dateutil>=2.7.3 in /usr/local/lib/python3.7/dist-packages (from pandas>=0.21.1->category_encoders) (2.8.2)\n",
            "Requirement already satisfied: six in /usr/local/lib/python3.7/dist-packages (from patsy>=0.5.1->category_encoders) (1.15.0)\n",
            "Requirement already satisfied: joblib>=0.11 in /usr/local/lib/python3.7/dist-packages (from scikit-learn>=0.20.0->category_encoders) (1.0.1)\n"
          ]
        }
      ]
    },
    {
      "cell_type": "code",
      "metadata": {
        "id": "RsXlG4pErUjH"
      },
      "source": [
        "import category_encoders as ce\n",
        "\n",
        "# create object of Ordinalencoding\n",
        "encoder = ce.OrdinalEncoder(cols=['BER_class'],return_df=True, mapping=[{'col':'BER_class', \n",
        "                                                                     'mapping':{'A1':0,\n",
        "                                                                                'A2':1,\n",
        "                                                                                'A3':2,\n",
        "                                                                                'B1':3,\n",
        "                                                                                'B2':4,\n",
        "                                                                                'B3':5,\n",
        "                                                                                'C1':6,\n",
        "                                                                                'C2':7,\n",
        "                                                                                'C3':8,\n",
        "                                                                                'D1':9,\n",
        "                                                                                'D2':10,\n",
        "                                                                                'E1':11,\n",
        "                                                                                'E2':12,\n",
        "                                                                                'F':13,\n",
        "                                                                                'G':14,\n",
        "                                                                                'SINo666of2006exempt':15}}])"
      ],
      "execution_count": 273,
      "outputs": []
    },
    {
      "cell_type": "code",
      "metadata": {
        "id": "A7O-JXa9r258"
      },
      "source": [
        "#fit and transform train & test data \n",
        "dftrain_pr = encoder.fit_transform(dftrain_pr)\n",
        "dftest_pr = encoder.fit_transform(dftest_pr)"
      ],
      "execution_count": 274,
      "outputs": []
    },
    {
      "cell_type": "code",
      "metadata": {
        "colab": {
          "base_uri": "https://localhost:8080/"
        },
        "id": "e7RlgkA9sB_5",
        "outputId": "e38560ba-a7ae-4a5f-ed3c-fd75e9b36d66"
      },
      "source": [
        "dftrain_pr.shape"
      ],
      "execution_count": 275,
      "outputs": [
        {
          "output_type": "execute_result",
          "data": {
            "text/plain": [
              "(998, 11)"
            ]
          },
          "metadata": {},
          "execution_count": 275
        }
      ]
    },
    {
      "cell_type": "code",
      "metadata": {
        "colab": {
          "base_uri": "https://localhost:8080/"
        },
        "id": "xzap8u_isIRg",
        "outputId": "5cbe0e3c-c74f-4b80-997a-16db537fb5ca"
      },
      "source": [
        "dftest_pr.shape"
      ],
      "execution_count": 276,
      "outputs": [
        {
          "output_type": "execute_result",
          "data": {
            "text/plain": [
              "(594, 10)"
            ]
          },
          "metadata": {},
          "execution_count": 276
        }
      ]
    },
    {
      "cell_type": "markdown",
      "metadata": {
        "id": "Dp9nwWIFsV7z"
      },
      "source": [
        "We will one hot encode property type"
      ]
    },
    {
      "cell_type": "code",
      "metadata": {
        "id": "eiXigWvKsK0V"
      },
      "source": [
        "# One Hot Encoding\n",
        "dftrain_pr = pd.get_dummies(dftrain, columns = [\"Type\"])\n",
        "dftest_pr = pd.get_dummies(dftest, columns = [\"Type\"])"
      ],
      "execution_count": 277,
      "outputs": []
    },
    {
      "cell_type": "code",
      "metadata": {
        "colab": {
          "base_uri": "https://localhost:8080/"
        },
        "id": "A_NZ7bUrseBf",
        "outputId": "d8836730-b4df-4a9f-c2b5-a7ae2bc5126e"
      },
      "source": [
        "dftrain_pr.shape"
      ],
      "execution_count": 278,
      "outputs": [
        {
          "output_type": "execute_result",
          "data": {
            "text/plain": [
              "(1635, 20)"
            ]
          },
          "metadata": {},
          "execution_count": 278
        }
      ]
    },
    {
      "cell_type": "code",
      "metadata": {
        "colab": {
          "base_uri": "https://localhost:8080/"
        },
        "id": "vtxR2O-Esga6",
        "outputId": "e32a25fa-1991-44c5-ad44-bf4422739a5d"
      },
      "source": [
        "dftest_pr.shape"
      ],
      "execution_count": 279,
      "outputs": [
        {
          "output_type": "execute_result",
          "data": {
            "text/plain": [
              "(702, 18)"
            ]
          },
          "metadata": {},
          "execution_count": 279
        }
      ]
    },
    {
      "cell_type": "code",
      "metadata": {
        "colab": {
          "base_uri": "https://localhost:8080/"
        },
        "id": "0aK5rOaMvN3f",
        "outputId": "eebb5ae8-be07-47c9-a3f6-bff187606125"
      },
      "source": [
        "dftrain_pr.info()"
      ],
      "execution_count": 282,
      "outputs": [
        {
          "output_type": "stream",
          "name": "stdout",
          "text": [
            "<class 'pandas.core.frame.DataFrame'>\n",
            "Int64Index: 1635 entries, 0 to 1637\n",
            "Data columns (total 20 columns):\n",
            " #   Column               Non-Null Count  Dtype  \n",
            "---  ------               --------------  -----  \n",
            " 0   Location             1635 non-null   object \n",
            " 1   Num_Bathrooms        1635 non-null   int64  \n",
            " 2   Num_Beds             1635 non-null   int64  \n",
            " 3   BER_class            1385 non-null   object \n",
            " 4   Description          1635 non-null   object \n",
            " 5   Features             1121 non-null   object \n",
            " 6   Latitude             1635 non-null   float64\n",
            " 7   Longitude            1635 non-null   float64\n",
            " 8   Surface              1635 non-null   float64\n",
            " 9   Price                1635 non-null   int64  \n",
            " 10  Type_apartment       1635 non-null   uint8  \n",
            " 11  Type_bungalow        1635 non-null   uint8  \n",
            " 12  Type_detached        1635 non-null   uint8  \n",
            " 13  Type_duplex          1635 non-null   uint8  \n",
            " 14  Type_end-of-terrace  1635 non-null   uint8  \n",
            " 15  Type_semi-detached   1635 non-null   uint8  \n",
            " 16  Type_site            1635 non-null   uint8  \n",
            " 17  Type_studio          1635 non-null   uint8  \n",
            " 18  Type_terraced        1635 non-null   uint8  \n",
            " 19  Type_townhouse       1635 non-null   uint8  \n",
            "dtypes: float64(3), int64(3), object(4), uint8(10)\n",
            "memory usage: 156.5+ KB\n"
          ]
        }
      ]
    },
    {
      "cell_type": "markdown",
      "metadata": {
        "id": "IKsT4KO8tW11"
      },
      "source": [
        "## Baseline Model\n",
        "\n",
        "Similar to Etivity2 we will implement a baseline model to get started"
      ]
    },
    {
      "cell_type": "code",
      "metadata": {
        "id": "CRbPhPJgtRe4"
      },
      "source": [
        "# dropna: remove missing values\n",
        "df_subset_train = dftrain_pr.dropna(axis=0)\n",
        "df_subset_test = dftest_pr.dropna(axis=0)"
      ],
      "execution_count": 280,
      "outputs": []
    },
    {
      "cell_type": "code",
      "metadata": {
        "colab": {
          "base_uri": "https://localhost:8080/"
        },
        "id": "Jg1u3n47tny6",
        "outputId": "4b390873-b5de-42f9-a478-31a148804029"
      },
      "source": [
        "print('Number of nan in df_subset_train dataset: ',df_subset_train.isnull().sum().sum())\n",
        "print('Number of nan in df_subset_test dataset: ',df_subset_test.isnull().sum().sum())"
      ],
      "execution_count": 281,
      "outputs": [
        {
          "output_type": "stream",
          "name": "stdout",
          "text": [
            "Number of nan in df_subset_train dataset:  0\n",
            "Number of nan in df_subset_test dataset:  0\n"
          ]
        }
      ]
    },
    {
      "cell_type": "code",
      "metadata": {
        "id": "cQRLB-TdtqAy"
      },
      "source": [
        "# train set, input columns\n",
        "Xs_train = df_subset_train.iloc[:,0:-1].values \n",
        "# train set, output column, price (cost)\n",
        "ys_train = df_subset_train.iloc[:,-1].values.reshape(-1,1)\n",
        "# test set, input columns\n",
        "Xs_test = df_subset_test.iloc[:,0:].values \n",
        "# test set, output column, price (cost)\n",
        "y_test = df_cost.cost.values"
      ],
      "execution_count": null,
      "outputs": []
    },
    {
      "cell_type": "code",
      "metadata": {
        "id": "wLT9RPp1t6bK"
      },
      "source": [
        "# StandardScaler() will normalize the features i.e. each column of X, \n",
        "# so, each column/feature/variable will have μ = 0 and σ = 1\n",
        "sc = StandardScaler()\n",
        "\n",
        "Xss_train = np.hstack([Xs_train,Xs_train[:,[2]]**2])\n",
        "xscaler = sc.fit(Xss_train)\n",
        "Xn_train = xscaler.transform(Xss_train)\n",
        "\n",
        "Xss_test = Xs_test.copy()\n",
        "xscaler = sc.fit(Xss_test)\n",
        "Xn_test = xscaler.transform(Xss_test)\n",
        "\n",
        "ylog = np.log(ys_train.astype('float'))\n",
        "yscaler = StandardScaler().fit(ylog)\n",
        "yn_train = yscaler.transform(ylog)"
      ],
      "execution_count": null,
      "outputs": []
    },
    {
      "cell_type": "code",
      "metadata": {
        "id": "bM4d4nm4uBJL"
      },
      "source": [
        "# model\n",
        "with pm.Model() as model:\n",
        "    #prior over the parameters of linear regression\n",
        "    alpha = pm.Normal('alpha', mu=0, sigma=30)\n",
        "    #we have one beta for each column of Xn\n",
        "    beta = pm.Normal('beta', mu=0, sigma=30, shape=Xn_train.shape[1])\n",
        "    #prior over the variance of the noise\n",
        "    sigma = pm.HalfCauchy('sigma_n', 5)\n",
        "    #linear regression model in matrix form\n",
        "    mu = alpha + pm.math.dot(beta, Xn_train.T)\n",
        "    #likelihood, be sure that observed is a 1d vector\n",
        "    like = pm.Normal('like', mu=mu, sigma=sigma, observed=yn_train[:,0])"
      ],
      "execution_count": null,
      "outputs": []
    },
    {
      "cell_type": "code",
      "metadata": {
        "id": "1iPRUKh6uDOc"
      },
      "source": [
        "#number of iterations of the algorithms\n",
        "iter = 50000 \n",
        "\n",
        "# run the model\n",
        "with model:\n",
        "    approximation = pm.fit(iter,method='advi')\n",
        "    \n",
        "# check the convergence\n",
        "plt.plot(approximation.hist);"
      ],
      "execution_count": null,
      "outputs": []
    },
    {
      "cell_type": "code",
      "metadata": {
        "id": "6g4Sco9CuGTK"
      },
      "source": [
        "# samples from the posterior\n",
        "posterior = approximation.sample(5000)"
      ],
      "execution_count": null,
      "outputs": []
    },
    {
      "cell_type": "code",
      "metadata": {
        "id": "7-NxCowMuIfg"
      },
      "source": [
        "# prediction\n",
        "ll=np.mean(posterior['alpha']) + np.dot(np.mean(posterior['beta'],axis=0), Xn_test.T)\n",
        "y_pred_BLR = np.exp(yscaler.inverse_transform(ll.reshape(-1,1)))[:,0]\n",
        "print(\"MAE = \",(np.mean(abs(y_pred_BLR - y_test))))\n",
        "print(\"MAPE = \",(np.mean(abs(y_pred_BLR - y_test) / y_test)))"
      ],
      "execution_count": null,
      "outputs": []
    },
    {
      "cell_type": "markdown",
      "metadata": {
        "id": "iDDYQui0Z_TX"
      },
      "source": [
        "## Select longitude and latitude to create clusters"
      ]
    },
    {
      "cell_type": "markdown",
      "metadata": {
        "id": "Fpu_Z0h1uWq9"
      },
      "source": [
        "### Clustering"
      ]
    },
    {
      "cell_type": "markdown",
      "metadata": {
        "id": "uj8Bl4wauav_"
      },
      "source": [
        "#### Full Model"
      ]
    },
    {
      "cell_type": "code",
      "metadata": {
        "id": "HaGAB1QNuJ4P"
      },
      "source": [
        "# training gaussian mixture model \n",
        "from sklearn.mixture import GaussianMixture\n",
        "\n",
        "gmm = GaussianMixture(n_components=4)\n",
        "\n",
        "# Features longitude and latitude.\n",
        "ind=[6,7]\n",
        "\n",
        "X_ind = np.vstack([Xn_train[:,ind],Xn_test[:,ind]])\n",
        "# Gaussian Mixture\n",
        "gmm.fit(X_ind)\n",
        "# plot blue dots\n",
        "plt.scatter(X_ind[:,0],X_ind[:,1])\n",
        "# centroids:  orange dots\n",
        "plt.scatter(gmm.means_[:,0],gmm.means_[:,1])"
      ],
      "execution_count": null,
      "outputs": []
    },
    {
      "cell_type": "markdown",
      "metadata": {
        "id": "hQYodws1vZiV"
      },
      "source": [
        "### Clusters"
      ]
    },
    {
      "cell_type": "code",
      "metadata": {
        "id": "yGoky5jevdwA"
      },
      "source": [
        "# train clusters\n",
        "clusters_train = gmm.predict(Xn_train[:,ind])\n",
        "unique_train, counts_train = np.unique(clusters_train, return_counts=True)\n",
        "dict(zip(unique_train, counts_train))"
      ],
      "execution_count": null,
      "outputs": []
    },
    {
      "cell_type": "code",
      "metadata": {
        "id": "D9TMHiANviFt"
      },
      "source": [
        "# test clusters\n",
        "clusters_test = gmm.predict(Xn_test[:,ind])\n",
        "unique_test, counts_test = np.unique(clusters_test, return_counts=True)\n",
        "dict(zip(unique_test, counts_test))"
      ],
      "execution_count": null,
      "outputs": []
    },
    {
      "cell_type": "code",
      "metadata": {
        "id": "6Qhd9qexvk-W"
      },
      "source": [
        "# cluster 0\n",
        "Xn0 = Xn_train[clusters_train==0,:]\n",
        "Xtestn0 = Xn_test[clusters_test==0,:]\n",
        "ylog0 = np.log(ys_train.astype('float')[clusters_train==0,:])\n",
        "yscaler0 = StandardScaler().fit(ylog0)\n",
        "yn0 = yscaler0.transform(ylog0)"
      ],
      "execution_count": null,
      "outputs": []
    },
    {
      "cell_type": "code",
      "metadata": {
        "id": "3rS-ftVfvm5n"
      },
      "source": [
        "# cluster 1\n",
        "Xn1 = Xn_train[clusters_train==1,:]\n",
        "Xtestn1 = Xn_test[clusters_test==1,:]\n",
        "ylog1 = np.log(ys_train.astype('float')[clusters_train==1,:])\n",
        "yscaler1 = StandardScaler().fit(ylog1)\n",
        "yn1 = yscaler1.transform(ylog1)"
      ],
      "execution_count": null,
      "outputs": []
    },
    {
      "cell_type": "code",
      "metadata": {
        "id": "kbETNRD4vo8x"
      },
      "source": [
        "# cluster 2\n",
        "Xn2 = Xn_train[clusters_train==2,:]\n",
        "Xtestn2 = Xn_test[clusters_test==2,:]\n",
        "ylog2 = np.log(ys_train.astype('float')[clusters_train==2,:])\n",
        "yscaler2 = StandardScaler().fit(ylog2)\n",
        "yn2 = yscaler2.transform(ylog2)"
      ],
      "execution_count": null,
      "outputs": []
    },
    {
      "cell_type": "code",
      "metadata": {
        "id": "M6qQOCgZvq0_"
      },
      "source": [
        "# cluster 3\n",
        "Xn3 = Xn_train[clusters_train==3,:]\n",
        "Xtestn3 = Xn_test[clusters_test==3,:]\n",
        "ylog3 = np.log(ys_train.astype('float')[clusters_train==3,:])\n",
        "yscaler3 = StandardScaler().fit(ylog3)\n",
        "yn3 = yscaler3.transform(ylog3)"
      ],
      "execution_count": null,
      "outputs": []
    },
    {
      "cell_type": "markdown",
      "metadata": {
        "id": "DZRcY9yjwHjs"
      },
      "source": [
        "## Piecewise Regression"
      ]
    },
    {
      "cell_type": "code",
      "metadata": {
        "id": "twP4oauKvvlV"
      },
      "source": [
        "# model_0\n",
        "with pm.Model() as model_0:\n",
        "  # prior over the parameters of linear regression\n",
        "  alpha = pm.Normal('alpha', mu=0, sigma=30)\n",
        "  # we have a beta for each column of Xn0\n",
        "  beta = pm.Normal('beta', mu=0, sigma=30, shape=Xn0.shape[1])\n",
        "  # prior over the variance of the noise\n",
        "  sigma = pm.HalfCauchy('sigma_n', 5)\n",
        "  # linear regression relationship\n",
        "  #linear regression model in matrix form\n",
        "  mu = alpha + pm.math.dot(beta, Xn0.T)\n",
        "  # likelihood, be sure that observed is a 1d vector\n",
        "  like = pm.Normal('like', mu=mu, sigma=sigma, observed=yn0[:,0])\n",
        "    \n",
        "with model_0:\n",
        "  # iterations of the algorithm\n",
        "  approximation = pm.fit(40000,method='advi')\n",
        "\n",
        "posterior0 = approximation.sample(5000)"
      ],
      "execution_count": null,
      "outputs": []
    },
    {
      "cell_type": "code",
      "metadata": {
        "id": "RDhdcfW8vx5V"
      },
      "source": [
        "# model_1\n",
        "with pm.Model() as model_1:\n",
        "  # prior over the parameters of linear regression\n",
        "  alpha = pm.Normal('alpha', mu=0, sigma=30)\n",
        "  # we have a beta for each column of Xn\n",
        "  beta = pm.Normal('beta', mu=0, sigma=30, shape=Xn1.shape[1])\n",
        "  # prior over the variance of the noise\n",
        "  sigma = pm.HalfCauchy('sigma_n', 5)\n",
        "  # linear regression relationship\n",
        "  #linear regression model in matrix form\n",
        "  mu = alpha + pm.math.dot(beta, Xn1.T)\n",
        "  # likelihood, # \n",
        "  like = pm.Normal('like', mu=mu, sigma=sigma, observed=yn1[:,0])\n",
        "  \n",
        "with model_1:\n",
        "  # iterations of the algorithm\n",
        "  approximation = pm.fit(40000,method='advi')\n",
        "\n",
        "# samples from the posterior    \n",
        "posterior1 = approximation.sample(5000)"
      ],
      "execution_count": null,
      "outputs": []
    },
    {
      "cell_type": "code",
      "metadata": {
        "id": "jzCti2vAvzym"
      },
      "source": [
        "# model_2\n",
        "with pm.Model() as model_2:\n",
        "  # prior over the parameters of linear regression\n",
        "  alpha = pm.Normal('alpha', mu=0, sigma=30)\n",
        "  # we have a beta for each column of Xn\n",
        "  beta = pm.Normal('beta', mu=0, sigma=30, shape=Xn2.shape[1])\n",
        "  # prior over the variance of the noise\n",
        "  sigma = pm.HalfCauchy('sigma_n', 5)\n",
        "  # linear regression relationship\n",
        "  # linear regression model in matrix form\n",
        "  mu = alpha + pm.math.dot(beta, Xn2.T)\n",
        "  # likelihood, be sure that observed is a 1d vector\n",
        "  like = pm.Normal('like', mu=mu, sigma=sigma, observed=yn2[:,0])\n",
        "    \n",
        "with model_2:\n",
        "  # iterations of the algorithms\n",
        "  approximation = pm.fit(40000,method='advi')\n",
        "\n",
        "# samples from the posterior    \n",
        "posterior2 = approximation.sample(5000)"
      ],
      "execution_count": null,
      "outputs": []
    },
    {
      "cell_type": "code",
      "metadata": {
        "id": "vB4FTQviv2J-"
      },
      "source": [
        "# model_3\n",
        "with pm.Model() as model3:\n",
        "  # prior over the parameters of linear regression\n",
        "  alpha = pm.Normal('alpha', mu=0, sigma=30)\n",
        "  # we have a beta for each column of Xn\n",
        "  beta = pm.Normal('beta', mu=0, sigma=30, shape=Xn3.shape[1])\n",
        "  # prior over the variance of the noise\n",
        "  sigma = pm.HalfCauchy('sigma_n', 5)\n",
        "  # linear regression relationship\n",
        "  mu = alpha + pm.math.dot(beta, Xn3.T)#linear regression model in matrix form\n",
        "  # likelihood, be sure that observed is a 1d vector\n",
        "  like = pm.Normal('like', mu=mu, sigma=sigma, observed=yn3[:,0])\n",
        "    \n",
        "with model3:\n",
        "  # number of iterations of the algorithms\n",
        "  approximation = pm.fit(40000,method='advi')\n",
        "\n",
        "# samples from the posterior     \n",
        "posterior3 = approximation.sample(5000)"
      ],
      "execution_count": null,
      "outputs": []
    },
    {
      "cell_type": "code",
      "metadata": {
        "id": "hePlj39Hv4eh"
      },
      "source": [
        "# Posterior predictive checks (PPCs)\n",
        "def ppc(alpha,beta,sigma, X,  nsamples=500):\n",
        "    #we select nsamples random samples from the posterior\n",
        "    ind = np.random.randint(0,beta.shape[0],size=nsamples)\n",
        "    alphai = alpha[ind]\n",
        "    betai = beta[ind,:]\n",
        "    sigmai = sigma[ind]\n",
        "\n",
        "    Ypred = np.zeros((nsamples,X.shape[0]))\n",
        "    for i in range(X.shape[0]):\n",
        "        #we generate data from linear model\n",
        "        y_pred = alphai + np.dot(betai, X[i:i+1,:].T).T +np.random.randn(len(sigmai))*sigmai\n",
        "        Ypred[:,i]=y_pred[0,:]\n",
        "    return Ypred"
      ],
      "execution_count": null,
      "outputs": []
    },
    {
      "cell_type": "markdown",
      "metadata": {
        "id": "TA9ftMkMv6gu"
      },
      "source": [
        "### Simulations"
      ]
    },
    {
      "cell_type": "markdown",
      "metadata": {
        "id": "HzlVmLnXw6EE"
      },
      "source": [
        "Cluster 0"
      ]
    },
    {
      "cell_type": "code",
      "metadata": {
        "id": "zYnRarJmxHr5"
      },
      "source": [
        "#Simulation\n",
        "Ypred0 = yscaler0.inverse_transform(ppc(posterior0['alpha'],posterior0['beta'],posterior0['sigma_n'],Xn0,  nsamples=200))\n",
        "for i in range(Ypred0.shape[0]):\n",
        "    az.plot_dist( Ypred0[i,:],color='r',plot_kwargs={\"linewidth\": 0.2})\n",
        "az.plot_dist(Ypred0[i,:],color='r',plot_kwargs={\"linewidth\": 0.2}, label=\"prediction\")\n",
        "#plt.plot(np.linspace(-8,8,100),norm.pdf(np.linspace(-8,8,100),df=np.mean(posterior_1['nu'])))\n",
        "#plt.xlim([0,10e7])\n",
        "az.plot_dist(ylog0,label='true observations');\n",
        "plt.legend()\n",
        "plt.xlabel(\"log(y) - output variable\")\n",
        "plt.ylabel(\"density plot\");"
      ],
      "execution_count": null,
      "outputs": []
    },
    {
      "cell_type": "markdown",
      "metadata": {
        "id": "v3CTNS5pxBlV"
      },
      "source": [
        "Cluster 1"
      ]
    },
    {
      "cell_type": "code",
      "metadata": {
        "id": "4smZn4sDxIy0"
      },
      "source": [
        "#Simulation\n",
        "Ypred1 = yscaler1.inverse_transform(ppc(posterior1['alpha'],posterior1['beta'],posterior1['sigma_n'],Xn1,  nsamples=200))\n",
        "for i in range(Ypred1.shape[0]):\n",
        "    az.plot_dist( Ypred1[i,:],color='r',plot_kwargs={\"linewidth\": 0.2})\n",
        "az.plot_dist(Ypred1[i,:],color='r',plot_kwargs={\"linewidth\": 0.2}, label=\"prediction\")\n",
        "#plt.plot(np.linspace(-8,8,100),norm.pdf(np.linspace(-8,8,100),df=np.mean(posterior_1['nu'])))\n",
        "#plt.xlim([0,10e7])\n",
        "az.plot_dist(ylog1,label='true observations');\n",
        "plt.legend()\n",
        "plt.xlabel(\"log(y) - output variable\")\n",
        "plt.ylabel(\"density plot\");"
      ],
      "execution_count": null,
      "outputs": []
    },
    {
      "cell_type": "markdown",
      "metadata": {
        "id": "EOFeM_M4xB4j"
      },
      "source": [
        "Cluster 2"
      ]
    },
    {
      "cell_type": "code",
      "metadata": {
        "id": "AHw1Z0F0xKVK"
      },
      "source": [
        "#Simulation\n",
        "Ypred2 = yscaler2.inverse_transform(ppc(posterior2['alpha'],posterior2['beta'],posterior2['sigma_n'],Xn2,  nsamples=200))\n",
        "for i in range(Ypred2.shape[0]):\n",
        "    az.plot_dist( Ypred2[i,:],color='r',plot_kwargs={\"linewidth\": 0.2})\n",
        "az.plot_dist(Ypred2[i,:],color='r',plot_kwargs={\"linewidth\": 0.2}, label=\"prediction\")\n",
        "#plt.plot(np.linspace(-8,8,100),norm.pdf(np.linspace(-8,8,100),df=np.mean(posterior_1['nu'])))\n",
        "#plt.xlim([0,10e7])\n",
        "az.plot_dist(ylog2,label='true observations');\n",
        "plt.legend()\n",
        "plt.xlabel(\"log(y) - output variable\")\n",
        "plt.ylabel(\"density plot\");"
      ],
      "execution_count": null,
      "outputs": []
    },
    {
      "cell_type": "markdown",
      "metadata": {
        "id": "8nm1crWixCQh"
      },
      "source": [
        "Cluster 3"
      ]
    },
    {
      "cell_type": "code",
      "metadata": {
        "id": "2-5QpL2Aw1gz"
      },
      "source": [
        "#Simulation\n",
        "Ypred3 = yscaler3.inverse_transform(ppc(posterior3['alpha'],posterior3['beta'],posterior3['sigma_n'],Xn3,  nsamples=200))\n",
        "for i in range(Ypred3.shape[0]):\n",
        "    az.plot_dist( Ypred3[i,:],color='r',plot_kwargs={\"linewidth\": 0.2})\n",
        "az.plot_dist(Ypred3[i,:],color='r',plot_kwargs={\"linewidth\": 0.2}, label=\"prediction\")\n",
        "#plt.plot(np.linspace(-8,8,100),norm.pdf(np.linspace(-8,8,100),df=np.mean(posterior_1['nu'])))\n",
        "#plt.xlim([0,10e7])\n",
        "az.plot_dist(ylog3,label='true observations');\n",
        "plt.legend()\n",
        "plt.xlabel(\"log(y) - output variable\")\n",
        "plt.ylabel(\"density plot\");"
      ],
      "execution_count": null,
      "outputs": []
    },
    {
      "cell_type": "markdown",
      "metadata": {
        "id": "u8wvo-HJxnx9"
      },
      "source": [
        "### Overall"
      ]
    },
    {
      "cell_type": "code",
      "metadata": {
        "id": "yUdfxkB-xsa6"
      },
      "source": [
        "# posteriors\n",
        "Ypred0 = ppc(posterior0['alpha'],posterior0['beta'],posterior0['sigma_n'],Xn0,  nsamples=200)\n",
        "Ypred1 = ppc(posterior1['alpha'],posterior1['beta'],posterior1['sigma_n'],Xn1,  nsamples=200)\n",
        "Ypred2 = ppc(posterior2['alpha'],posterior2['beta'],posterior2['sigma_n'],Xn2,  nsamples=200)\n",
        "Ypred3 = ppc(posterior3['alpha'],posterior3['beta'],posterior3['sigma_n'],Xn3,  nsamples=200)\n",
        "\n",
        "# simulation\n",
        "Ypred = np.hstack([ yscaler0.inverse_transform(Ypred0),\n",
        "                 yscaler1.inverse_transform(Ypred1),\n",
        "                 yscaler2.inverse_transform(Ypred2),\n",
        "                 yscaler3.inverse_transform(Ypred3)])\n",
        "\n",
        "# prediction\n",
        "for i in range(Ypred.shape[0]):\n",
        "    az.plot_dist( Ypred[i,:],color='r',plot_kwargs={\"linewidth\": 0.2})\n",
        "\n",
        "# plot\n",
        "az.plot_dist(Ypred[i,:],color='r',plot_kwargs={\"linewidth\": 0.2}, label=\"prediction\")\n",
        "ylog=np.vstack([ylog0,ylog1,ylog2,ylog3])\n",
        "az.plot_dist(ylog,label='true observations');\n",
        "plt.legend()\n",
        "plt.xlabel(\"log(y) - output variable\")\n",
        "plt.ylabel(\"density plot\");"
      ],
      "execution_count": null,
      "outputs": []
    },
    {
      "cell_type": "markdown",
      "metadata": {
        "id": "QZ2gZBiHxv7-"
      },
      "source": [
        "### Test set performance"
      ]
    },
    {
      "cell_type": "code",
      "metadata": {
        "id": "Asabv9oKxzSn"
      },
      "source": [
        "# cluster 0\n",
        "y_pred_BLR0 = np.exp(yscaler0.inverse_transform(np.mean(posterior0['alpha']) \n",
        "              + np.dot(np.mean(posterior0['beta'],axis=0), Xtestn0.T)))\n",
        "print(\"Size Cluster0\", np.sum(clusters_test==0), \", MAE Cluster0=\",\n",
        "      (np.mean(abs(y_pred_BLR0 - y_test[clusters_test==0]))))\n",
        "\n",
        "# cluster 1\n",
        "y_pred_BLR1 = np.exp(yscaler1.inverse_transform(np.mean(posterior1['alpha']) \n",
        "              + np.dot(np.mean(posterior1['beta'],axis=0), Xtestn1.T)))\n",
        "print(\"Size Cluster1\", np.sum(clusters_test==1), \", MAE Cluster1=\",\n",
        "      (np.mean(abs(y_pred_BLR1 - y_test[clusters_test==1]))))\n",
        "\n",
        "# cluster 2\n",
        "y_pred_BLR2 = np.exp(yscaler2.inverse_transform(np.mean(posterior2['alpha']) \n",
        "              + np.dot(np.mean(posterior2['beta'],axis=0), Xtestn2.T)))\n",
        "print(\"Size Cluster2\", np.sum(clusters_test==2), \", MAE Cluster2=\",\n",
        "      (np.mean(abs(y_pred_BLR2 - y_test[clusters_test==2]))))\n",
        "\n",
        "# cluster 3\n",
        "y_pred_BLR3 = np.exp(yscaler3.inverse_transform(np.mean(posterior3['alpha']) \n",
        "              + np.dot(np.mean(posterior3['beta'],axis=0), Xtestn3.T)))\n",
        "print(\"Size Cluster3\", np.sum(clusters_test==3), \", MAE Cluster3=\",\n",
        "      (np.mean(abs(y_pred_BLR3 - y_test[clusters_test==3]))))\n",
        "\n",
        "# joint\n",
        "joint=np.hstack([abs(y_pred_BLR0 - y_test[clusters_test==0]),\n",
        "                 abs(y_pred_BLR1 - y_test[clusters_test==1]),\n",
        "                 abs(y_pred_BLR2 - y_test[clusters_test==2]),\n",
        "                 abs(y_pred_BLR3 - y_test[clusters_test==3])])\n",
        "\n",
        "# MAE\n",
        "print(\"MAE=\",np.mean(joint))"
      ],
      "execution_count": null,
      "outputs": []
    },
    {
      "cell_type": "markdown",
      "metadata": {
        "id": "a2q2iiatx4p2"
      },
      "source": [
        "### PPC on test set"
      ]
    },
    {
      "cell_type": "code",
      "metadata": {
        "id": "cZLCk3s0x3ol"
      },
      "source": [
        "## Posterior predictive checks (PPCs)\n",
        "\n",
        "num_samples2 = 200\n",
        "Ypred0 = ppc(posterior0['alpha'],posterior0['beta'],posterior0['sigma_n'],Xtestn0, nsamples=num_samples2)\n",
        "Ypred1 = ppc(posterior1['alpha'],posterior1['beta'],posterior1['sigma_n'],Xtestn1, nsamples=num_samples2)\n",
        "Ypred2 = ppc(posterior2['alpha'],posterior2['beta'],posterior2['sigma_n'],Xtestn2, nsamples=num_samples2)\n",
        "Ypred3 = ppc(posterior3['alpha'],posterior3['beta'],posterior3['sigma_n'],Xtestn3, nsamples=num_samples2)\n",
        "\n",
        "# Stack arrays in sequence horizontally (column wise)\n",
        "Ypred = np.hstack([yscaler0.inverse_transform(Ypred0),\n",
        "                 yscaler1.inverse_transform(Ypred1),\n",
        "                 yscaler2.inverse_transform(Ypred2),\n",
        "                 yscaler3.inverse_transform(Ypred3)])\n",
        "\n",
        "# plot prediction shape\n",
        "for i in range(Ypred.shape[0]):\n",
        "    az.plot_dist( Ypred[i,:],color='r',plot_kwargs={\"linewidth\": 0.2})\n",
        "# label\n",
        "az.plot_dist(Ypred[i,:],color='r',plot_kwargs={\"linewidth\": 0.2}, label=\"prediction\")\n",
        "\n",
        "# true observations\n",
        "az.plot_dist(np.log(y_test),label='true observations');\n",
        "plt.legend()\n",
        "plt.xlabel(\"log(y) - output variable\")\n",
        "plt.ylabel(\"density plot\");"
      ],
      "execution_count": null,
      "outputs": []
    },
    {
      "cell_type": "markdown",
      "metadata": {
        "id": "_kFgkUA85_pn"
      },
      "source": [
        "# BAYESIAN NN"
      ]
    },
    {
      "cell_type": "markdown",
      "metadata": {
        "id": "ELer5PV37ftX"
      },
      "source": [
        "A [Bayesian network](https://en.wikipedia.org/wiki/Bayesian_network) (also known as a Bayes network, Bayes net, belief network, or decision network) is a probabilistic graphical model that represents a set of variables and their conditional dependencies via a directed acyclic graph (DAG). \n",
        "\n",
        "* Bayesian networks are ideal for taking an event that occurred and predicting the likelihood that any one of several possible known causes was the contributing factor. \n",
        "* For example, a Bayesian network could represent the probabilistic relationships between diseases and symptoms. \n",
        "* Given symptoms, the network can be used to compute the probabilities of the presence of various diseases."
      ]
    },
    {
      "cell_type": "markdown",
      "metadata": {
        "id": "z0kauv1L5_po"
      },
      "source": [
        "Your comments, explanation, and references here."
      ]
    },
    {
      "cell_type": "code",
      "metadata": {
        "id": "0smpwCET5_pp"
      },
      "source": [
        "# your code here"
      ],
      "execution_count": null,
      "outputs": []
    },
    {
      "cell_type": "markdown",
      "metadata": {
        "id": "f0GYCpwEM09T"
      },
      "source": [
        "# SUMMARY"
      ]
    },
    {
      "cell_type": "markdown",
      "metadata": {
        "id": "rBDzsZSJ7HZp"
      },
      "source": [
        "Your summary here."
      ]
    }
  ]
}