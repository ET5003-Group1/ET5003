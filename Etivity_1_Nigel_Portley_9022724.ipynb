{
  "nbformat": 4,
  "nbformat_minor": 0,
  "metadata": {
    "colab": {
      "name": "Etivity_1_Nigel_Portley_9022724.ipynb",
      "provenance": [],
      "collapsed_sections": [],
      "include_colab_link": true
    },
    "kernelspec": {
      "display_name": "Python 3",
      "name": "python3"
    },
    "language_info": {
      "name": "python"
    }
  },
  "cells": [
    {
      "cell_type": "markdown",
      "metadata": {
        "id": "view-in-github",
        "colab_type": "text"
      },
      "source": [
        "<a href=\"https://colab.research.google.com/github/amaralcs/ET5003/blob/main/Etivity_1_Nigel_Portley_9022724.ipynb\" target=\"_parent\"><img src=\"https://colab.research.google.com/assets/colab-badge.svg\" alt=\"Open In Colab\"/></a>"
      ]
    },
    {
      "cell_type": "markdown",
      "metadata": {
        "id": "jxK1_8f1dvrc"
      },
      "source": [
        "<div>\n",
        "<img src=\"https://drive.google.com/uc?export=view&id=1vK33e_EqaHgBHcbRV_m38hx6IkG0blK_\" width=\"350\"/>\n",
        "</div> \n",
        "\n",
        "#**Artificial Intelligence - MSc**\n",
        "ET5003 - MACHINE LEARNING APPLICATIONS \n",
        "\n",
        "###Instructor: Enrique Naredo\n",
        "###ET5003_Etivity-1"
      ]
    },
    {
      "cell_type": "code",
      "metadata": {
        "cellView": "form",
        "id": "LqXD_IwUQuBF"
      },
      "source": [
        "#@title Current Date\n",
        "Today = '2021-09-15' #@param {type:\"date\"}\n"
      ],
      "execution_count": 246,
      "outputs": []
    },
    {
      "cell_type": "code",
      "metadata": {
        "cellView": "form",
        "id": "uzDKau31OjVO"
      },
      "source": [
        "#@markdown ---\n",
        "#@markdown ### Enter your details here:\n",
        "Student_ID = \"9022724\" #@param {type:\"string\"}\n",
        "Student_full_name = \"Nigel Portley\" #@param {type:\"string\"}\n",
        "#@markdown ---"
      ],
      "execution_count": 247,
      "outputs": []
    },
    {
      "cell_type": "code",
      "metadata": {
        "id": "r39xGZckTpKx"
      },
      "source": [
        "#@title Notebook information\n",
        "Notebook_type = 'Etivity' #@param [\"Example\", \"Lab\", \"Practice\", \"Etivity\", \"Assignment\", \"Exam\"]\n",
        "Version = 'Draft' #@param [\"Draft\", \"Final\"] {type:\"raw\"}\n",
        "Submission = False #@param {type:\"boolean\"}"
      ],
      "execution_count": 248,
      "outputs": []
    },
    {
      "cell_type": "markdown",
      "metadata": {
        "id": "80m304lUefG4"
      },
      "source": [
        "## MNIST dataset"
      ]
    },
    {
      "cell_type": "markdown",
      "metadata": {
        "id": "Bs8mHGcidHSa"
      },
      "source": [
        "\n",
        "\n",
        "The MNIST database  is a dataset of handwritten digits that has been and is extensively used in machine learning. There are $10$ classes, each image is $28\\times28$ pixels and, therefore, each input is $x_i\\in\\mathbb{R}^{784}$. "
      ]
    },
    {
      "cell_type": "markdown",
      "metadata": {
        "id": "ailycCq5epj2"
      },
      "source": [
        "## Task"
      ]
    },
    {
      "cell_type": "markdown",
      "metadata": {
        "id": "a-yNAxhUemjM"
      },
      "source": [
        "You have to extend the code to manage any arbitrary number of classes, in other words you have to implement a general-recipe multinomial logistic classifier and Bayesian multinomial logistic classifier.\n",
        "\n",
        "You must then select  3 digits at random and perform  the following task. \n",
        "\n",
        "1. Your goal is to use Bayesian multinomial logistic regression (as in the road-sign notebook) to solve this classification problem. \n",
        "\n",
        "2. You can downsize the training dataset (e.g., 40% training and 60%testing) if the computation of the posterior takes too much time in your computer.\n",
        "\n",
        "3. Use the posterior uncertainty to detect the instances (digits) in the test set that are hard to classify and remove them from the test-set.\n",
        "\n",
        "4. Then you need to compute again the accuracy of the general-recipe logistic regression on the remaining (non-difficult) instances and comment on the result.\n",
        "\n",
        "5. In practice, the task is to use uncertainty estimation to detect the difficult instances in the test-set. This is equivalent to refuse to classify all high-uncertainty instances or, in other words, when we are uncertain we say \"I don't know\" and we do not return any class. In this way, you will learn how uncertainty can be used to make safer decisions, by detecting the instances that are difficult to classify.\n"
      ]
    },
    {
      "cell_type": "markdown",
      "metadata": {
        "id": "nMRKRTQZe5fW"
      },
      "source": [
        "## Libraries"
      ]
    },
    {
      "cell_type": "code",
      "metadata": {
        "id": "IxusAui7AX_f"
      },
      "source": [
        "# Suppressing Warnings:\n",
        "import warnings\n",
        "warnings.filterwarnings(\"ignore\")"
      ],
      "execution_count": 249,
      "outputs": []
    },
    {
      "cell_type": "code",
      "metadata": {
        "id": "MQOfGMQpdHSb"
      },
      "source": [
        "# Import libraries\n",
        "from sklearn.linear_model import LogisticRegression\n",
        "from sklearn.metrics import accuracy_score\n",
        "from sklearn.metrics import classification_report\n",
        "from sklearn.model_selection import train_test_split\n",
        "import scipy.optimize as optimize\n",
        "from scipy.special import erf\n",
        "import pandas as pd\n",
        "import numpy as np\n",
        "import seaborn as sns\n",
        "from tqdm import tqdm\n",
        "from skimage.io import imread, imshow\n",
        "import matplotlib.image as mpimg\n",
        "import matplotlib.pyplot as plt\n",
        "import matplotlib\n",
        "%matplotlib inline\n",
        "import arviz as az\n",
        "from scipy.io import loadmat\n",
        "import pymc3 as pm\n",
        "import random\n",
        "from IPython.display import HTML\n",
        "import pickle\n",
        "import theano as tt\n",
        "import cv2\n",
        "from sklearn.utils import shuffle\n",
        "from skimage.color import rgb2gray\n",
        "from sklearn import metrics"
      ],
      "execution_count": 297,
      "outputs": []
    },
    {
      "cell_type": "code",
      "metadata": {
        "id": "P5-qMSjpAQ-9"
      },
      "source": [
        "# Setting a seed, maintaining the random values for later runs of the code:\n",
        "np.random.seed(123)"
      ],
      "execution_count": 251,
      "outputs": []
    },
    {
      "cell_type": "markdown",
      "metadata": {
        "id": "r4hSuwkUfVQb"
      },
      "source": [
        "## Dataset"
      ]
    },
    {
      "cell_type": "markdown",
      "metadata": {
        "id": "w99Pc66YdHSd"
      },
      "source": [
        "### Loading the MNIST 'handwritten digits' dataset"
      ]
    },
    {
      "cell_type": "code",
      "metadata": {
        "colab": {
          "base_uri": "https://localhost:8080/"
        },
        "id": "CYFWAbXVzynp",
        "outputId": "5ace4c62-b5cc-4353-9a18-812cabf00d83"
      },
      "source": [
        "from google.colab import drive\n",
        "drive.mount('/content/drive')"
      ],
      "execution_count": 252,
      "outputs": [
        {
          "output_type": "stream",
          "name": "stdout",
          "text": [
            "Drive already mounted at /content/drive; to attempt to forcibly remount, call drive.mount(\"/content/drive\", force_remount=True).\n"
          ]
        }
      ]
    },
    {
      "cell_type": "code",
      "metadata": {
        "colab": {
          "base_uri": "https://localhost:8080/"
        },
        "id": "g4rCnS4vdHSd",
        "outputId": "5d3b7b43-9de7-4151-949d-8f714486b240"
      },
      "source": [
        "# Path, copy the path from your Drive\n",
        "Path = '/content/drive/MyDrive/Colab Notebooks/Nigel 9022724/'\n",
        "\n",
        "# MNIST Data\n",
        "train_data = Path + 'mnist_train.csv'\n",
        "test_data = Path + 'mnist_test.csv'\n",
        "\n",
        "# train data\n",
        "df_train = pd.read_csv(train_data)\n",
        "X_train = df_train.drop(\"label\",axis=1).values\n",
        "y_train = df_train.label.values\n",
        "print(X_train.shape)\n",
        "\n",
        "# test data\n",
        "df_test = pd.read_csv(test_data)\n",
        "X_test = df_test.drop(\"label\",axis=1).values\n",
        "y_test = df_test.label.values\n",
        "print(X_test.shape)"
      ],
      "execution_count": 253,
      "outputs": [
        {
          "output_type": "stream",
          "name": "stdout",
          "text": [
            "(60000, 784)\n",
            "(10000, 784)\n"
          ]
        }
      ]
    },
    {
      "cell_type": "markdown",
      "metadata": {
        "id": "yfF1vRC9Bj0a"
      },
      "source": [
        "There are 60,000 training digit samples and 10,000 test digit samples, each is 784 bytes of information, i.e. a black and white 28 x 28 pixel image of a handwritten digit. Each pixel is a byte, with a value from 0 to 255 denoting the level of the greyscale.\n",
        "Below is an example of one single digit 28 x 28 picture (the very first training example), where white space is denoted by a zero and the blackest of black by 255:"
      ]
    },
    {
      "cell_type": "code",
      "metadata": {
        "colab": {
          "base_uri": "https://localhost:8080/"
        },
        "id": "83ER_jxL_RrQ",
        "outputId": "ff05dfca-5acf-4390-97c9-3391ed1788c8"
      },
      "source": [
        "print (X_train[0])"
      ],
      "execution_count": 254,
      "outputs": [
        {
          "output_type": "stream",
          "name": "stdout",
          "text": [
            "[  0   0   0   0   0   0   0   0   0   0   0   0   0   0   0   0   0   0\n",
            "   0   0   0   0   0   0   0   0   0   0   0   0   0   0   0   0   0   0\n",
            "   0   0   0   0   0   0   0   0   0   0   0   0   0   0   0   0   0   0\n",
            "   0   0   0   0   0   0   0   0   0   0   0   0   0   0   0   0   0   0\n",
            "   0   0   0   0   0   0   0   0   0   0   0   0   0   0   0   0   0   0\n",
            "   0   0   0   0   0   0   0   0   0   0   0   0   0   0   0   0   0   0\n",
            "   0   0   0   0   0   0   0   0   0   0   0   0   0   0   0   0   0   0\n",
            "   0   0   0   0   0   0   0   0   0   0   0   0   0   0   0   0   0   0\n",
            "   0   0   0   0   0   0   0   0   3  18  18  18 126 136 175  26 166 255\n",
            " 247 127   0   0   0   0   0   0   0   0   0   0   0   0  30  36  94 154\n",
            " 170 253 253 253 253 253 225 172 253 242 195  64   0   0   0   0   0   0\n",
            "   0   0   0   0   0  49 238 253 253 253 253 253 253 253 253 251  93  82\n",
            "  82  56  39   0   0   0   0   0   0   0   0   0   0   0   0  18 219 253\n",
            " 253 253 253 253 198 182 247 241   0   0   0   0   0   0   0   0   0   0\n",
            "   0   0   0   0   0   0   0   0  80 156 107 253 253 205  11   0  43 154\n",
            "   0   0   0   0   0   0   0   0   0   0   0   0   0   0   0   0   0   0\n",
            "   0  14   1 154 253  90   0   0   0   0   0   0   0   0   0   0   0   0\n",
            "   0   0   0   0   0   0   0   0   0   0   0   0   0 139 253 190   2   0\n",
            "   0   0   0   0   0   0   0   0   0   0   0   0   0   0   0   0   0   0\n",
            "   0   0   0   0   0  11 190 253  70   0   0   0   0   0   0   0   0   0\n",
            "   0   0   0   0   0   0   0   0   0   0   0   0   0   0   0   0  35 241\n",
            " 225 160 108   1   0   0   0   0   0   0   0   0   0   0   0   0   0   0\n",
            "   0   0   0   0   0   0   0   0   0  81 240 253 253 119  25   0   0   0\n",
            "   0   0   0   0   0   0   0   0   0   0   0   0   0   0   0   0   0   0\n",
            "   0   0  45 186 253 253 150  27   0   0   0   0   0   0   0   0   0   0\n",
            "   0   0   0   0   0   0   0   0   0   0   0   0   0  16  93 252 253 187\n",
            "   0   0   0   0   0   0   0   0   0   0   0   0   0   0   0   0   0   0\n",
            "   0   0   0   0   0   0   0 249 253 249  64   0   0   0   0   0   0   0\n",
            "   0   0   0   0   0   0   0   0   0   0   0   0   0   0  46 130 183 253\n",
            " 253 207   2   0   0   0   0   0   0   0   0   0   0   0   0   0   0   0\n",
            "   0   0   0   0  39 148 229 253 253 253 250 182   0   0   0   0   0   0\n",
            "   0   0   0   0   0   0   0   0   0   0   0   0  24 114 221 253 253 253\n",
            " 253 201  78   0   0   0   0   0   0   0   0   0   0   0   0   0   0   0\n",
            "   0   0  23  66 213 253 253 253 253 198  81   2   0   0   0   0   0   0\n",
            "   0   0   0   0   0   0   0   0   0   0  18 171 219 253 253 253 253 195\n",
            "  80   9   0   0   0   0   0   0   0   0   0   0   0   0   0   0   0   0\n",
            "  55 172 226 253 253 253 253 244 133  11   0   0   0   0   0   0   0   0\n",
            "   0   0   0   0   0   0   0   0   0   0 136 253 253 253 212 135 132  16\n",
            "   0   0   0   0   0   0   0   0   0   0   0   0   0   0   0   0   0   0\n",
            "   0   0   0   0   0   0   0   0   0   0   0   0   0   0   0   0   0   0\n",
            "   0   0   0   0   0   0   0   0   0   0   0   0   0   0   0   0   0   0\n",
            "   0   0   0   0   0   0   0   0   0   0   0   0   0   0   0   0   0   0\n",
            "   0   0   0   0   0   0   0   0   0   0   0   0   0   0   0   0   0   0\n",
            "   0   0   0   0   0   0   0   0   0   0]\n"
          ]
        }
      ]
    },
    {
      "cell_type": "markdown",
      "metadata": {
        "id": "g5BwUSNNjAWT"
      },
      "source": [
        "Now we will normalise the values to between 0 and 1 by dividing each value by 255:"
      ]
    },
    {
      "cell_type": "code",
      "metadata": {
        "colab": {
          "base_uri": "https://localhost:8080/"
        },
        "id": "O2ubJ_WoAqBh",
        "outputId": "dc4c87be-fa4e-4eee-8599-ea5a4ae9f15a"
      },
      "source": [
        "# Normalizing the Inputs, i.e. converting the 0-255 range to 0-1 by dividing by 255:\n",
        "X_train = X_train/255\n",
        "X_test = X_test/255\n",
        "\n",
        "# Printing the new input range of values, i.e. checking the range of values is within 0 and 1:\n",
        "minv = np.min(X_train)\n",
        "maxv = np.max(X_train)\n",
        "print(minv,maxv)"
      ],
      "execution_count": 255,
      "outputs": [
        {
          "output_type": "stream",
          "name": "stdout",
          "text": [
            "0.0 1.0\n"
          ]
        }
      ]
    },
    {
      "cell_type": "markdown",
      "metadata": {
        "id": "OyxZW0FyO8fn"
      },
      "source": [
        "Now all pixels are represented by a value between 0 and 1. Most ML algorithms & libraries are designed to work with values between 0 and 1 and so normalisation supports that system."
      ]
    },
    {
      "cell_type": "markdown",
      "metadata": {
        "id": "SR6HpkWndHSe"
      },
      "source": [
        "### Description of Data:"
      ]
    },
    {
      "cell_type": "code",
      "metadata": {
        "colab": {
          "base_uri": "https://localhost:8080/"
        },
        "id": "sibN1Vv1dHSf",
        "outputId": "fdbe56ba-1a22-4fab-93c0-4cc74b601e09"
      },
      "source": [
        "# Number of examples\n",
        "n_train =  len(X_train)\n",
        "n_test =  len(X_test)\n",
        "\n",
        "# Shape of an traffic sign image\n",
        "image_shape = X_train.shape[1]\n",
        "\n",
        "# unique classes/labels in the training dataset.\n",
        "alltotal = set(y_train)\n",
        "n_classes = len(alltotal)\n",
        "\n",
        "print(\"Number of Training examples =\", n_train)\n",
        "print(\"Number of Test examples =\", n_test)\n",
        "print(\"Image input shape =\", image_shape)\n",
        "print(\"Number of classes =\", n_classes)"
      ],
      "execution_count": 256,
      "outputs": [
        {
          "output_type": "stream",
          "name": "stdout",
          "text": [
            "Number of Training examples = 60000\n",
            "Number of Test examples = 10000\n",
            "Image input shape = 784\n",
            "Number of classes = 10\n"
          ]
        }
      ]
    },
    {
      "cell_type": "markdown",
      "metadata": {
        "id": "ok81tnjRCQWg"
      },
      "source": [
        "The classes are the different classification results, i.e. with the handwritten digits it's 0 to 9, or 10 different classes."
      ]
    },
    {
      "cell_type": "markdown",
      "metadata": {
        "id": "6HQDSvrRKZF6"
      },
      "source": [
        "### Class Distribution:"
      ]
    },
    {
      "cell_type": "code",
      "metadata": {
        "colab": {
          "base_uri": "https://localhost:8080/",
          "height": 628
        },
        "id": "XG8GdlpBKdCt",
        "outputId": "6e377c1e-489d-45a5-b0dd-4d04c663f59a"
      },
      "source": [
        "fig, ax = plt.subplots(figsize=(12,10))\n",
        "ind = np.arange(n_classes)\n",
        "n, bins, patches = ax.hist(y_train, n_classes, ec='black', align='mid')\n",
        "ax.set_xlabel('Classes, Digits 0-9', fontsize=16)\n",
        "ax.set_ylabel('Count', fontsize=16)\n",
        "ax.set_title('Number of Samples of Digit images', fontsize=16)\n",
        "plt.ylim ((5000,7000))\n",
        "plt.show()"
      ],
      "execution_count": 257,
      "outputs": [
        {
          "output_type": "display_data",
          "data": {
            "image/png": "[encoded data removed]",
            "text/plain": [
              "<Figure size 864x720 with 1 Axes>"
            ]
          },
          "metadata": {
            "needs_background": "light"
          }
        }
      ]
    },
    {
      "cell_type": "markdown",
      "metadata": {
        "id": "S41tSVKtCZ2h"
      },
      "source": [
        "We see there are slightly more ones than other samples. If these digits are for example from postcodes, one is the lowest non-zero digit; some streets are small and so might reach to house number 20, i.e. would have 10-19, so there are more ones than other digits."
      ]
    },
    {
      "cell_type": "markdown",
      "metadata": {
        "id": "EyLWw3nsLCtk"
      },
      "source": [
        "## Downsampling"
      ]
    },
    {
      "cell_type": "markdown",
      "metadata": {
        "id": "2U1lFEwhLKBf"
      },
      "source": [
        "### Randomly selecting 3 of the 10 Digit Classes"
      ]
    },
    {
      "cell_type": "markdown",
      "metadata": {
        "id": "vp7bDjcDQ7DZ"
      },
      "source": [
        "Any number up to 10 classes (there are 10 digits and so 10 in total) can be selected."
      ]
    },
    {
      "cell_type": "code",
      "metadata": {
        "colab": {
          "base_uri": "https://localhost:8080/"
        },
        "id": "0EeRZZWdLRPT",
        "outputId": "95fc63ac-04a4-47a3-ce64-7bb9bf2f18a6"
      },
      "source": [
        "# We select the number of Classes we want:\n",
        "n_classes = 3\n",
        "\n",
        "# Empty list to append the random digit classes we select:\n",
        "classes = []\n",
        "\n",
        "# We select 3 digits at random and make sure they are unique:\n",
        "while len(classes) < n_classes:\n",
        "    \n",
        "    # Randomly drawing a digit from 0-9:\n",
        "    num2choose = np.random.randint(0,10)\n",
        "\n",
        "    # Append the digit if it's not already in our list of classes:\n",
        "    if num2choose not in classes: \n",
        "        classes.append(num2choose)\n",
        "        \n",
        "        \n",
        "# Sorting the Classes smallest to largest    \n",
        "classes.sort()\n",
        "# print classes selected\n",
        "print (classes)"
      ],
      "execution_count": 258,
      "outputs": [
        {
          "output_type": "stream",
          "name": "stdout",
          "text": [
            "[1, 2, 6]\n"
          ]
        }
      ]
    },
    {
      "cell_type": "markdown",
      "metadata": {
        "id": "Abg05kaTjOY_"
      },
      "source": [
        "Three digits are chosen. We shall now select 5000 instances of each digit to balance the data set, as some digits have just over 5000 samples, and others have over 6000."
      ]
    },
    {
      "cell_type": "code",
      "metadata": {
        "colab": {
          "base_uri": "https://localhost:8080/"
        },
        "id": "2M8R5NqKMB_M",
        "outputId": "9d7aa40c-8998-4d74-933c-a47445ccfb84"
      },
      "source": [
        "# The number of instances we'll keep for each of our 3 digits:\n",
        "inst_class = 5000\n",
        "inputs = []\n",
        "labels = []\n",
        "\n",
        "# Loop to randomly sample the instances for each digit:\n",
        "for r in classes:\n",
        "    imgs = X_train[np.where(y_train==r)[0],:]\n",
        "    inputs.append(imgs[np.random.permutation(imgs.shape[0]),:][0:inst_class,:])\n",
        "    labels.append(np.ones(inst_class)*r)\n",
        "    \n",
        "# Shaping inputs and labels in the right format    \n",
        "X_train = np.vstack(inputs).astype(np.float64)\n",
        "y_train = np.hstack(labels)\n",
        "print (X_train,y_train)\n",
        "print (X_train.shape,y_train.shape)"
      ],
      "execution_count": 259,
      "outputs": [
        {
          "output_type": "stream",
          "name": "stderr",
          "text": [
            "IOPub data rate exceeded.\n",
            "The notebook server will temporarily stop sending output\n",
            "to the client in order to avoid crashing it.\n",
            "To change this limit, set the config variable\n",
            "`--NotebookApp.iopub_data_rate_limit`.\n",
            "\n",
            "Current values:\n",
            "NotebookApp.iopub_data_rate_limit=1000000.0 (bytes/sec)\n",
            "NotebookApp.rate_limit_window=3.0 (secs)\n",
            "\n"
          ]
        }
      ]
    },
    {
      "cell_type": "markdown",
      "metadata": {
        "id": "30KUrLs8PugB"
      },
      "source": [
        "So 5000 samples for three digits is 15000 samples, of size 784 (28 x 28 pixels).\n",
        "There are 3 x 5000 classes, i.e. 15000 corresponding y_train classifications."
      ]
    },
    {
      "cell_type": "markdown",
      "metadata": {
        "id": "_6-YHrQQMicy"
      },
      "source": [
        "New Classes Distribution"
      ]
    },
    {
      "cell_type": "code",
      "metadata": {
        "colab": {
          "base_uri": "https://localhost:8080/",
          "height": 634
        },
        "id": "1Nst-hLodYNb",
        "outputId": "7453c778-d06d-43c4-ae6d-35f72a46b51c"
      },
      "source": [
        "# new histogram\n",
        "fig, ax = plt.subplots(figsize=(12,10))\n",
        "ind = np.arange(n_classes)\n",
        "\n",
        "n, bins, patches = ax.hist(y_train, ec='black', align='mid')\n",
        "ax.set_xlabel('Classes/Digits', fontsize = 18)\n",
        "ax.set_ylabel('Number of Samples', fontsize = 18)\n",
        "title = 'New Classes (Digit) Distribution', classes\n",
        "plt.title(title, fontsize = 18)\n",
        "plt.show()"
      ],
      "execution_count": 260,
      "outputs": [
        {
          "output_type": "display_data",
          "data": {
            "image/png": "[encoded data removed]",
            "text/plain": [
              "<Figure size 864x720 with 1 Axes>"
            ]
          },
          "metadata": {
            "needs_background": "light"
          }
        }
      ]
    },
    {
      "cell_type": "markdown",
      "metadata": {
        "id": "ZZBdKRisQR4U"
      },
      "source": [
        "We now write a function to display a digit graphically."
      ]
    },
    {
      "cell_type": "code",
      "metadata": {
        "id": "eFgP4xugMvJm"
      },
      "source": [
        "# plot digits\n",
        "def plot_digits(instances, images_per_row=5, **options):\n",
        "    size = 28\n",
        "    images_per_row = min(len(instances), images_per_row)\n",
        "    images = [instance.reshape(size,size) for instance in instances]\n",
        "    n_rows = (len(instances) - 1) // images_per_row + 1\n",
        "    row_images = []\n",
        "    n_empty = n_rows * images_per_row - len(instances)\n",
        "    images.append(np.zeros((size, size * n_empty)))\n",
        "    for row in range(n_rows):\n",
        "        rimages = images[row * images_per_row : (row + 1) * images_per_row]\n",
        "        row_images.append(np.concatenate(rimages, axis=1))\n",
        "    image = np.concatenate(row_images, axis=0)\n",
        "    plt.imshow(image,  cmap='gist_yarg', **options)\n",
        "    plt.axis(\"off\")"
      ],
      "execution_count": 261,
      "outputs": []
    },
    {
      "cell_type": "markdown",
      "metadata": {
        "id": "Eb9r5oAwQcDv"
      },
      "source": [
        "Next we take 10 digits randomly (we index X_train with a random integer between 0 and the length of X_train - 1) "
      ]
    },
    {
      "cell_type": "code",
      "metadata": {
        "colab": {
          "base_uri": "https://localhost:8080/",
          "height": 336
        },
        "id": "zeEG-LGOM4fJ",
        "outputId": "d58e5827-01e1-47f4-9484-4eea44118e38"
      },
      "source": [
        "# Show a few instances from each Digit:\n",
        "plt.figure(figsize=(24,8))\n",
        "label_indices = []\n",
        "# Selecting a few label indices from each of the 3 classes to show:\n",
        "for i in range(30):\n",
        "    # take index randomly chosen\n",
        "#    label_indices.append(random.randint(0, len(X_train)))\n",
        "    label_indices = np.hstack([np.random.choice(np.where(y_train==label)[0], size=15) for label in classes])\n",
        "    # choose the image according to the index\n",
        "    image = X_train[label_indices[i] - 1]\n",
        "\n",
        "# Plotting 'original' image\n",
        "plot_digits(X_train[label_indices],images_per_row=15)\n",
        "plt.title(\"Original Digits\", fontsize=18)"
      ],
      "execution_count": 262,
      "outputs": [
        {
          "output_type": "execute_result",
          "data": {
            "text/plain": [
              "Text(0.5, 1.0, 'Original Digits')"
            ]
          },
          "metadata": {},
          "execution_count": 262
        },
        {
          "output_type": "display_data",
          "data": {
            "image/png": "[encoded data removed]",
            "text/plain": [
              "<Figure size 1728x576 with 1 Axes>"
            ]
          },
          "metadata": {
            "needs_background": "light"
          }
        }
      ]
    },
    {
      "cell_type": "markdown",
      "metadata": {
        "id": "6Yh76fKcJjau"
      },
      "source": [
        "In general, the digit samples look 'clean' and rather legible, the accuracy should be quite high if these examples are anything to go by."
      ]
    },
    {
      "cell_type": "code",
      "metadata": {
        "colab": {
          "base_uri": "https://localhost:8080/"
        },
        "id": "HFz5lrH7GLNR",
        "outputId": "6a30fd80-c21a-42e5-869a-89d1e770779a"
      },
      "source": [
        "print (label_indices)"
      ],
      "execution_count": 263,
      "outputs": [
        {
          "output_type": "stream",
          "name": "stdout",
          "text": [
            "[ 3643  1073  1577  2029  1838  4032  3857  1414    86  1737   931   643\n",
            "   424   462  3399  9700  7345  7065  8911  8913  8659  7112  5904  7278\n",
            "  9316  6733  9096  8367  7301  7086 11086 12614 13288 12668 13300 11876\n",
            " 13730 11960 11138 12550 14202 10769 13764 10719 11958]\n"
          ]
        }
      ]
    },
    {
      "cell_type": "markdown",
      "metadata": {
        "id": "bVhfWdCKJc3U"
      },
      "source": [
        "The above indices exhibit that a very random sample of examples has been chosen."
      ]
    },
    {
      "cell_type": "markdown",
      "metadata": {
        "id": "FsAOnOcNNG_V"
      },
      "source": [
        "###  Splitting the Training data into both Training and Validation Sets:\n",
        "\n",
        "- Although this is the Training set, we can still set aside some samples (for instance 20%) of the 1,500 instances we have for Model Validation purposes.\n",
        "\n",
        "\n",
        "- With that Validation Set, we can then select the amount of Uncertainty we are happy with from our Model to use out of sample on other unseen data.\n",
        "\n",
        "\n",
        "- We can then test out how well our decision performs on the Test Set that we put aside earlier."
      ]
    },
    {
      "cell_type": "code",
      "metadata": {
        "id": "YdsmyVAtPXNn"
      },
      "source": [
        "### Split tha dataset in training and validation sets\n",
        "# choose the fraction of your validation data from the training set\n",
        "w = 0.20\n",
        "X_train, X_val, y_train, y_val = train_test_split(X_train, y_train, test_size=w, random_state=0)\n",
        " \n",
        "# Shuffling the training instaces around to randomize the order of inputs to the model:\n",
        "X_train, y_train = shuffle(X_train, y_train)"
      ],
      "execution_count": 264,
      "outputs": []
    },
    {
      "cell_type": "code",
      "metadata": {
        "colab": {
          "base_uri": "https://localhost:8080/"
        },
        "id": "qXwJwP0iPxhi",
        "outputId": "42053c16-db4d-457b-876e-96afdae71ff0"
      },
      "source": [
        "# print shape of your validation and training set\n",
        "\n",
        "print (X_train.shape,y_train.shape)\n",
        "print (X_val.shape,y_val.shape)\n"
      ],
      "execution_count": 265,
      "outputs": [
        {
          "output_type": "stream",
          "name": "stdout",
          "text": [
            "(12000, 784) (12000,)\n",
            "(3000, 784) (3000,)\n"
          ]
        }
      ]
    },
    {
      "cell_type": "markdown",
      "metadata": {
        "id": "aOroY1QoP8DY"
      },
      "source": [
        "### Encoding the Class labels for the Probabilistic ML Model:\n",
        "\n",
        "This is an example:\n",
        "\n",
        "- **[1,0,0]** for first digit\n",
        "- **[0,1,0]** for second digit\n",
        "- **[0,0,1]** for third digit"
      ]
    },
    {
      "cell_type": "code",
      "metadata": {
        "colab": {
          "base_uri": "https://localhost:8080/"
        },
        "id": "GffZA3EnbqmK",
        "outputId": "b54bc9f3-d70d-47ea-92bf-5ec2a1d17d89"
      },
      "source": [
        "import sklearn.preprocessing\n",
        "y_2_bin = sklearn.preprocessing.LabelBinarizer().fit_transform(y_train.reshape(-1,1))\n",
        "np.set_printoptions(threshold=100)\n",
        "y_2_bin\n",
        "#y_2_bin.shape"
      ],
      "execution_count": 266,
      "outputs": [
        {
          "output_type": "execute_result",
          "data": {
            "text/plain": [
              "array([[0, 1, 0],\n",
              "       [0, 0, 1],\n",
              "       [0, 1, 0],\n",
              "       ...,\n",
              "       [1, 0, 0],\n",
              "       [1, 0, 0],\n",
              "       [0, 1, 0]])"
            ]
          },
          "metadata": {},
          "execution_count": 266
        }
      ]
    },
    {
      "cell_type": "markdown",
      "metadata": {
        "id": "rjUaqWTqQIcp"
      },
      "source": [
        "### General-Recipe ML"
      ]
    },
    {
      "cell_type": "markdown",
      "metadata": {
        "id": "qSd6yo_r-w1e"
      },
      "source": [
        "The below cell runs the multinomial logistic regression algorithm on our data, trains a model, and calculates the accuracy of that model."
      ]
    },
    {
      "cell_type": "code",
      "metadata": {
        "colab": {
          "base_uri": "https://localhost:8080/"
        },
        "id": "QzgdivxfQNv5",
        "outputId": "7ccc2443-e7cb-46c9-fb83-0be539ad297c"
      },
      "source": [
        "# model\n",
        "model_log = LogisticRegression(random_state=0, max_iter=2000, C=100, solver='lbfgs', multi_class='multinomial').fit(X_train, y_train)\n",
        "\n",
        "# Classification:\n",
        "y_pred_log = model_log.predict(X_val)\n",
        "y_pred_logi_prob = model_log.predict_proba(X_val)\n",
        "\n",
        "# Maybe taking the maximum probability \n",
        "# in any of the classes for each observation\n",
        "prob_classmax = np.max(y_pred_logi_prob,axis=1)\n",
        "\n",
        "# Computing the Accuracy:\n",
        "accuracy_score(y_pred_log, y_val)"
      ],
      "execution_count": 267,
      "outputs": [
        {
          "output_type": "execute_result",
          "data": {
            "text/plain": [
              "0.974"
            ]
          },
          "metadata": {},
          "execution_count": 267
        }
      ]
    },
    {
      "cell_type": "markdown",
      "metadata": {
        "id": "I_lcy_h8_ZGi"
      },
      "source": [
        "The accuracy is quite good, at circa 97%."
      ]
    },
    {
      "cell_type": "code",
      "metadata": {
        "colab": {
          "base_uri": "https://localhost:8080/",
          "height": 640
        },
        "id": "a2wEFh8cqKYk",
        "outputId": "4781a068-9d15-4c3f-bc2b-9541807d998a"
      },
      "source": [
        "# Confusion Matrix \n",
        "plt.figure(figsize=(10,10))\n",
        "plt.title('Confusion Matrix', fontsize=14)\n",
        "cm = metrics.confusion_matrix(y_val, y_pred_log)\n",
        "sns.heatmap(cm, annot=True, fmt=\".3f\", linewidths=.6)\n",
        "plt.ylabel('Actual Label')\n",
        "plt.xlabel('Predicted Label')"
      ],
      "execution_count": 298,
      "outputs": [
        {
          "output_type": "execute_result",
          "data": {
            "text/plain": [
              "Text(0.5, 69.0, 'Predicted Label')"
            ]
          },
          "metadata": {},
          "execution_count": 298
        },
        {
          "output_type": "display_data",
          "data": {
            "image/png": "[encoded data removed]",
            "text/plain": [
              "<Figure size 720x720 with 2 Axes>"
            ]
          },
          "metadata": {
            "needs_background": "light"
          }
        }
      ]
    },
    {
      "cell_type": "markdown",
      "metadata": {
        "id": "_VUTfzxe0NLh"
      },
      "source": [
        "Rferring to the confusion matrix above, the fawn colour indicates positive classifications, the black colour indicates  negative classifications."
      ]
    },
    {
      "cell_type": "code",
      "metadata": {
        "colab": {
          "base_uri": "https://localhost:8080/"
        },
        "id": "NQ9QxuRiA9LS",
        "outputId": "e0b87f71-c751-4370-a5cc-a5fb4a1c770c"
      },
      "source": [
        "# Calculate precision, recall and F1-Score for our model for each digit\n",
        "# Kudos to Carlos Santiago for the idea\n",
        "Digits = []\n",
        "for x in classes:\n",
        "  Digits.append(\"Digit \"+str((round(x,0))))\n",
        "\n",
        "print (classification_report(y_val, y_pred_log, target_names=Digits, digits=3))"
      ],
      "execution_count": 268,
      "outputs": [
        {
          "output_type": "stream",
          "name": "stdout",
          "text": [
            "              precision    recall  f1-score   support\n",
            "\n",
            "     Digit 1      0.982     0.987     0.984       964\n",
            "     Digit 2      0.968     0.962     0.965      1026\n",
            "     Digit 6      0.972     0.974     0.973      1010\n",
            "\n",
            "    accuracy                          0.974      3000\n",
            "   macro avg      0.974     0.974     0.974      3000\n",
            "weighted avg      0.974     0.974     0.974      3000\n",
            "\n"
          ]
        }
      ]
    },
    {
      "cell_type": "markdown",
      "metadata": {
        "id": "NjcXuL3wpQqI"
      },
      "source": [
        "Accuracy - Accuracy is the most intuitive performance measure and it is simply a ratio of correctly predicted observation to the total observations. \n",
        "Accuracy = TP+TN/TP+FP+FN+TN\n",
        "\n",
        "Precision - Precision is the ratio of correctly predicted positive observations to the total predicted positive observations. High precision relates to the low false positive rate.\n",
        "Precision = TP/TP+FP\n",
        "\n",
        "Recall (Sensitivity) - Recall is the ratio of correctly predicted positive observations to the all observations in actual class. \n",
        "Recall = TP/TP+FN\n",
        "\n",
        "F1 score - F1 Score is the weighted average of Precision and Recall. This score takes both false positives and false negatives into account. \n",
        "F1 Score = 2*(Recall * Precision) / (Recall + Precision)"
      ]
    },
    {
      "cell_type": "markdown",
      "metadata": {
        "id": "3LIdc1OsN4_d"
      },
      "source": [
        "We see that the classification report on accuracy does not vary substantially per digit."
      ]
    },
    {
      "cell_type": "code",
      "metadata": {
        "colab": {
          "base_uri": "https://localhost:8080/"
        },
        "id": "Dk1dVq5BPo7S",
        "outputId": "90587672-42f1-496f-cf30-bfbcd7d5197a"
      },
      "source": [
        "#np.set_printoptions(threshold=np.inf)\n",
        "np.sort(prob_classmax)"
      ],
      "execution_count": 269,
      "outputs": [
        {
          "output_type": "execute_result",
          "data": {
            "text/plain": [
              "array([0.42761895, 0.51284719, 0.5176237 , ..., 1.        , 1.        ,\n",
              "       1.        ])"
            ]
          },
          "metadata": {},
          "execution_count": 269
        }
      ]
    },
    {
      "cell_type": "markdown",
      "metadata": {
        "id": "okeqb090_g-U"
      },
      "source": [
        "We see above at the start of the list some examples where the probability of an accurate classification is quite low (very low probabilities), i.e. very difficulty samples to classify."
      ]
    },
    {
      "cell_type": "code",
      "metadata": {
        "colab": {
          "base_uri": "https://localhost:8080/"
        },
        "id": "AiF4s5l_ZaCD",
        "outputId": "20f3e4cd-e026-433c-d7f1-eb2f62e793b3"
      },
      "source": [
        "prob_classmax[y_pred_log!=y_val]\n",
        "prob_classmax[y_pred_log!=y_val].shape"
      ],
      "execution_count": 270,
      "outputs": [
        {
          "output_type": "execute_result",
          "data": {
            "text/plain": [
              "(78,)"
            ]
          },
          "metadata": {},
          "execution_count": 270
        }
      ]
    },
    {
      "cell_type": "markdown",
      "metadata": {
        "id": "pDiLWIu0ZoDT"
      },
      "source": [
        "There are less than 100 cases where the wrong result was selected, which is quite good."
      ]
    },
    {
      "cell_type": "code",
      "metadata": {
        "colab": {
          "base_uri": "https://localhost:8080/"
        },
        "id": "d97KE8epZ6hV",
        "outputId": "2fd6db9e-824b-46ad-80ae-d8a355477fc9"
      },
      "source": [
        "np.set_printoptions(threshold=np.inf)\n",
        "np.array(y_pred_log)\n",
        "#np.array(y_pred_log).shape"
      ],
      "execution_count": 271,
      "outputs": [
        {
          "output_type": "execute_result",
          "data": {
            "text/plain": [
              "array([1., 6., 6., 1., 2., 1., 6., 6., 2., 1., 2., 2., 1., 6., 1., 2., 1.,\n",
              "       6., 6., 2., 6., 2., 2., 1., 1., 1., 6., 2., 2., 2., 2., 6., 2., 1.,\n",
              "       6., 2., 6., 2., 6., 2., 6., 2., 6., 6., 1., 6., 2., 6., 6., 6., 6.,\n",
              "       6., 2., 2., 2., 1., 1., 1., 6., 2., 6., 6., 2., 2., 1., 6., 2., 2.,\n",
              "       2., 1., 6., 1., 2., 1., 6., 6., 2., 6., 2., 6., 6., 1., 1., 2., 6.,\n",
              "       6., 6., 6., 2., 1., 1., 1., 1., 2., 6., 1., 6., 6., 1., 2., 2., 1.,\n",
              "       2., 6., 6., 2., 1., 6., 6., 1., 2., 6., 2., 2., 2., 1., 6., 1., 2.,\n",
              "       2., 6., 2., 1., 6., 1., 1., 1., 1., 6., 6., 2., 2., 2., 6., 6., 2.,\n",
              "       6., 1., 2., 1., 2., 6., 2., 2., 1., 2., 1., 2., 2., 1., 1., 2., 2.,\n",
              "       6., 6., 2., 6., 1., 1., 2., 1., 2., 6., 1., 1., 1., 1., 2., 6., 2.,\n",
              "       6., 6., 6., 6., 2., 6., 2., 2., 6., 2., 6., 2., 6., 1., 1., 6., 6.,\n",
              "       2., 6., 6., 1., 2., 6., 6., 2., 1., 1., 1., 6., 2., 2., 6., 2., 2.,\n",
              "       6., 1., 6., 1., 6., 2., 6., 6., 1., 2., 1., 1., 6., 1., 2., 1., 2.,\n",
              "       6., 6., 1., 1., 6., 6., 6., 6., 6., 2., 6., 2., 1., 6., 1., 1., 6.,\n",
              "       2., 6., 2., 6., 6., 6., 6., 1., 2., 1., 1., 1., 2., 2., 2., 6., 6.,\n",
              "       6., 2., 6., 6., 2., 6., 6., 1., 2., 6., 2., 2., 2., 1., 2., 1., 1.,\n",
              "       6., 6., 6., 2., 6., 1., 1., 6., 6., 1., 2., 2., 1., 6., 1., 6., 2.,\n",
              "       2., 1., 1., 2., 6., 1., 1., 2., 2., 2., 2., 1., 1., 6., 2., 2., 2.,\n",
              "       6., 2., 1., 1., 2., 6., 1., 6., 6., 6., 1., 2., 1., 1., 2., 2., 6.,\n",
              "       1., 6., 2., 6., 2., 2., 6., 2., 6., 6., 1., 1., 1., 6., 6., 6., 2.,\n",
              "       6., 2., 2., 6., 2., 1., 1., 6., 2., 2., 1., 2., 6., 1., 6., 6., 6.,\n",
              "       6., 1., 1., 1., 2., 2., 1., 1., 1., 6., 6., 1., 2., 1., 6., 1., 1.,\n",
              "       6., 6., 2., 1., 1., 2., 6., 1., 6., 1., 6., 2., 6., 1., 6., 6., 2.,\n",
              "       1., 1., 6., 6., 1., 2., 6., 2., 2., 6., 1., 1., 1., 1., 2., 1., 2.,\n",
              "       2., 6., 1., 2., 1., 1., 2., 1., 6., 1., 6., 1., 2., 1., 2., 2., 2.,\n",
              "       2., 1., 2., 2., 6., 2., 2., 2., 2., 1., 1., 6., 1., 2., 2., 6., 1.,\n",
              "       2., 2., 2., 6., 6., 1., 1., 2., 6., 2., 6., 6., 1., 6., 2., 1., 6.,\n",
              "       1., 6., 6., 2., 1., 1., 2., 1., 1., 1., 6., 1., 1., 6., 6., 6., 6.,\n",
              "       2., 1., 6., 1., 2., 6., 2., 2., 2., 1., 6., 2., 6., 2., 6., 1., 1.,\n",
              "       1., 2., 6., 6., 6., 1., 6., 6., 2., 2., 2., 6., 1., 2., 1., 6., 1.,\n",
              "       6., 6., 1., 1., 6., 6., 1., 6., 2., 6., 2., 6., 2., 2., 2., 2., 1.,\n",
              "       2., 2., 6., 2., 1., 6., 6., 6., 6., 2., 6., 6., 6., 2., 6., 2., 1.,\n",
              "       1., 1., 2., 6., 1., 2., 6., 6., 6., 6., 1., 2., 2., 2., 1., 1., 2.,\n",
              "       2., 1., 2., 1., 6., 1., 2., 1., 6., 1., 6., 1., 2., 1., 2., 2., 1.,\n",
              "       6., 2., 6., 6., 6., 1., 6., 6., 2., 6., 1., 6., 2., 2., 1., 2., 1.,\n",
              "       2., 2., 2., 1., 6., 1., 6., 2., 2., 1., 1., 1., 2., 6., 1., 6., 1.,\n",
              "       2., 2., 1., 1., 1., 6., 1., 6., 2., 1., 6., 2., 2., 1., 1., 6., 2.,\n",
              "       1., 6., 1., 2., 6., 2., 2., 2., 1., 1., 1., 2., 2., 1., 6., 1., 2.,\n",
              "       2., 1., 6., 2., 2., 1., 6., 2., 6., 2., 2., 6., 2., 6., 6., 2., 1.,\n",
              "       2., 2., 1., 6., 2., 6., 2., 6., 2., 2., 2., 1., 6., 2., 2., 1., 6.,\n",
              "       6., 2., 2., 1., 1., 2., 6., 2., 1., 1., 6., 2., 1., 6., 6., 2., 1.,\n",
              "       6., 1., 2., 2., 6., 1., 6., 6., 2., 2., 1., 2., 2., 6., 6., 2., 1.,\n",
              "       6., 1., 2., 2., 1., 2., 2., 2., 6., 1., 1., 1., 6., 2., 1., 6., 1.,\n",
              "       2., 1., 6., 2., 6., 1., 1., 2., 2., 1., 2., 2., 1., 1., 6., 2., 6.,\n",
              "       1., 1., 6., 2., 6., 6., 1., 6., 6., 2., 6., 1., 1., 2., 6., 6., 2.,\n",
              "       1., 1., 1., 2., 1., 2., 1., 2., 6., 2., 1., 2., 2., 6., 1., 6., 1.,\n",
              "       6., 2., 1., 2., 1., 6., 6., 1., 6., 1., 6., 6., 2., 1., 2., 6., 2.,\n",
              "       1., 6., 6., 1., 1., 6., 6., 1., 1., 1., 2., 1., 1., 1., 6., 1., 6.,\n",
              "       6., 6., 1., 1., 6., 1., 2., 6., 1., 2., 1., 6., 2., 6., 1., 6., 2.,\n",
              "       1., 1., 1., 1., 2., 1., 6., 6., 6., 6., 1., 2., 2., 2., 2., 1., 6.,\n",
              "       1., 6., 1., 1., 1., 6., 6., 6., 1., 6., 1., 1., 1., 2., 2., 2., 1.,\n",
              "       2., 1., 6., 6., 6., 2., 6., 1., 1., 1., 1., 2., 6., 1., 6., 6., 2.,\n",
              "       6., 2., 1., 2., 2., 2., 6., 2., 6., 6., 2., 1., 2., 2., 1., 6., 1.,\n",
              "       1., 1., 6., 6., 2., 1., 2., 1., 1., 6., 2., 1., 6., 1., 1., 1., 2.,\n",
              "       2., 2., 2., 6., 6., 6., 1., 2., 6., 1., 1., 6., 1., 6., 6., 1., 2.,\n",
              "       6., 2., 6., 6., 6., 1., 6., 6., 1., 1., 2., 2., 6., 6., 6., 2., 6.,\n",
              "       6., 6., 1., 1., 1., 6., 6., 6., 2., 2., 2., 6., 1., 6., 2., 2., 1.,\n",
              "       1., 2., 1., 1., 2., 1., 1., 6., 1., 1., 2., 6., 2., 6., 1., 6., 1.,\n",
              "       2., 2., 2., 6., 6., 1., 6., 1., 2., 6., 6., 1., 1., 1., 1., 1., 1.,\n",
              "       6., 2., 6., 1., 1., 6., 1., 1., 1., 2., 6., 1., 1., 6., 6., 6., 6.,\n",
              "       1., 1., 2., 1., 1., 1., 2., 1., 2., 1., 1., 2., 2., 6., 6., 1., 6.,\n",
              "       2., 1., 1., 6., 1., 2., 6., 6., 1., 1., 6., 2., 2., 2., 2., 2., 1.,\n",
              "       2., 2., 2., 2., 2., 1., 1., 6., 1., 1., 1., 6., 2., 1., 6., 6., 6.,\n",
              "       2., 1., 1., 2., 2., 2., 6., 6., 2., 6., 1., 1., 6., 1., 2., 1., 2.,\n",
              "       6., 1., 2., 6., 6., 2., 6., 1., 6., 1., 6., 2., 6., 6., 6., 6., 2.,\n",
              "       2., 2., 2., 6., 2., 6., 6., 1., 1., 6., 1., 6., 2., 6., 2., 1., 6.,\n",
              "       2., 2., 2., 6., 6., 2., 6., 6., 1., 2., 1., 1., 2., 6., 2., 2., 6.,\n",
              "       1., 2., 2., 6., 1., 6., 6., 2., 2., 1., 1., 1., 2., 6., 2., 1., 6.,\n",
              "       2., 2., 2., 2., 1., 6., 1., 2., 1., 6., 6., 1., 1., 1., 1., 6., 2.,\n",
              "       2., 2., 6., 6., 6., 2., 2., 6., 6., 2., 2., 6., 1., 2., 6., 6., 1.,\n",
              "       2., 2., 1., 2., 6., 1., 1., 6., 2., 6., 6., 1., 6., 2., 6., 6., 6.,\n",
              "       1., 6., 6., 2., 6., 6., 2., 1., 2., 6., 6., 2., 2., 6., 6., 6., 6.,\n",
              "       6., 2., 1., 6., 1., 6., 1., 1., 1., 6., 2., 6., 2., 1., 6., 2., 1.,\n",
              "       6., 1., 2., 2., 1., 2., 2., 6., 2., 6., 2., 6., 1., 2., 2., 6., 6.,\n",
              "       2., 1., 6., 1., 1., 6., 1., 1., 2., 1., 6., 1., 6., 2., 1., 1., 6.,\n",
              "       6., 1., 6., 6., 1., 1., 1., 6., 6., 2., 6., 6., 2., 6., 6., 1., 6.,\n",
              "       6., 2., 6., 1., 2., 1., 2., 2., 1., 6., 2., 1., 6., 2., 6., 6., 1.,\n",
              "       6., 6., 2., 6., 6., 2., 2., 6., 6., 1., 1., 6., 6., 6., 2., 1., 1.,\n",
              "       6., 6., 2., 2., 1., 2., 1., 6., 6., 1., 6., 2., 2., 1., 1., 2., 6.,\n",
              "       2., 2., 1., 2., 6., 1., 1., 2., 1., 2., 6., 1., 1., 2., 2., 1., 1.,\n",
              "       2., 2., 1., 6., 2., 6., 1., 6., 6., 2., 1., 2., 2., 1., 1., 6., 6.,\n",
              "       6., 2., 6., 2., 2., 1., 2., 2., 2., 6., 1., 2., 6., 2., 1., 6., 1.,\n",
              "       6., 2., 6., 6., 2., 1., 6., 1., 1., 1., 1., 6., 2., 1., 1., 6., 6.,\n",
              "       1., 6., 1., 2., 1., 2., 2., 1., 2., 2., 2., 2., 2., 6., 1., 1., 6.,\n",
              "       6., 6., 2., 2., 6., 2., 6., 1., 2., 2., 1., 2., 2., 1., 2., 1., 1.,\n",
              "       2., 2., 1., 6., 1., 2., 2., 1., 2., 2., 6., 2., 6., 1., 2., 2., 1.,\n",
              "       2., 1., 6., 6., 1., 6., 2., 6., 6., 1., 2., 1., 2., 2., 1., 2., 1.,\n",
              "       2., 2., 1., 1., 6., 1., 2., 1., 2., 1., 6., 6., 6., 1., 1., 2., 1.,\n",
              "       1., 2., 6., 1., 1., 6., 6., 2., 6., 6., 6., 1., 2., 2., 1., 2., 1.,\n",
              "       1., 1., 2., 1., 1., 2., 1., 6., 2., 2., 2., 1., 1., 1., 1., 2., 1.,\n",
              "       1., 2., 6., 2., 1., 2., 2., 2., 2., 2., 2., 2., 2., 6., 1., 2., 1.,\n",
              "       2., 1., 2., 1., 2., 1., 1., 2., 1., 1., 1., 2., 6., 1., 6., 2., 1.,\n",
              "       6., 2., 1., 1., 1., 6., 1., 1., 6., 2., 1., 2., 1., 2., 1., 1., 6.,\n",
              "       2., 2., 2., 2., 2., 2., 1., 1., 2., 1., 2., 2., 1., 6., 6., 1., 1.,\n",
              "       6., 1., 6., 2., 6., 1., 1., 1., 1., 1., 6., 1., 6., 6., 6., 6., 1.,\n",
              "       6., 2., 2., 2., 2., 6., 6., 1., 2., 1., 2., 6., 1., 2., 2., 1., 1.,\n",
              "       2., 2., 6., 2., 2., 2., 1., 1., 6., 2., 2., 2., 2., 1., 2., 1., 1.,\n",
              "       1., 2., 6., 2., 2., 1., 6., 1., 6., 2., 6., 2., 6., 6., 2., 6., 1.,\n",
              "       6., 6., 1., 6., 6., 1., 6., 1., 1., 2., 6., 2., 6., 2., 2., 2., 2.,\n",
              "       2., 1., 2., 6., 6., 1., 2., 1., 2., 2., 1., 1., 6., 6., 1., 1., 6.,\n",
              "       6., 2., 2., 2., 1., 1., 2., 1., 1., 6., 2., 2., 1., 1., 2., 1., 2.,\n",
              "       6., 1., 6., 6., 2., 2., 1., 2., 6., 6., 6., 1., 2., 2., 1., 1., 6.,\n",
              "       2., 1., 6., 2., 2., 1., 6., 1., 1., 6., 6., 2., 2., 1., 6., 6., 2.,\n",
              "       2., 1., 1., 1., 1., 1., 6., 2., 1., 1., 2., 1., 6., 6., 2., 2., 6.,\n",
              "       2., 6., 6., 1., 1., 2., 2., 2., 6., 1., 1., 6., 1., 1., 2., 2., 6.,\n",
              "       2., 6., 2., 1., 2., 6., 1., 6., 2., 2., 2., 6., 6., 2., 6., 1., 2.,\n",
              "       2., 2., 6., 6., 2., 1., 1., 1., 1., 1., 2., 2., 2., 6., 6., 1., 6.,\n",
              "       1., 2., 2., 6., 2., 2., 6., 6., 6., 1., 2., 2., 1., 1., 2., 6., 2.,\n",
              "       2., 1., 2., 6., 2., 6., 6., 6., 6., 2., 2., 6., 6., 2., 1., 6., 1.,\n",
              "       6., 6., 6., 2., 6., 2., 1., 6., 1., 2., 6., 2., 2., 1., 1., 2., 1.,\n",
              "       6., 6., 6., 6., 6., 6., 6., 6., 1., 1., 2., 2., 6., 2., 2., 6., 6.,\n",
              "       6., 1., 6., 2., 1., 6., 2., 2., 1., 6., 1., 2., 6., 1., 2., 6., 2.,\n",
              "       2., 1., 1., 2., 6., 1., 2., 2., 6., 1., 6., 6., 6., 6., 1., 2., 1.,\n",
              "       2., 1., 6., 2., 6., 2., 1., 2., 1., 1., 1., 2., 2., 2., 2., 1., 1.,\n",
              "       6., 2., 6., 1., 2., 1., 2., 1., 1., 6., 1., 2., 6., 1., 2., 2., 6.,\n",
              "       2., 1., 6., 1., 2., 6., 6., 2., 1., 1., 2., 6., 6., 2., 2., 1., 6.,\n",
              "       1., 6., 2., 2., 2., 6., 6., 2., 6., 6., 2., 6., 6., 6., 1., 6., 6.,\n",
              "       2., 1., 6., 1., 6., 2., 6., 2., 2., 6., 6., 1., 6., 1., 6., 2., 2.,\n",
              "       2., 1., 1., 1., 1., 2., 6., 2., 1., 1., 6., 1., 1., 6., 1., 6., 2.,\n",
              "       2., 6., 6., 2., 2., 1., 6., 2., 1., 1., 2., 6., 6., 6., 6., 6., 1.,\n",
              "       1., 2., 1., 6., 1., 2., 2., 6., 6., 1., 2., 1., 6., 6., 2., 2., 2.,\n",
              "       1., 2., 2., 2., 2., 6., 6., 2., 6., 6., 6., 2., 6., 6., 1., 6., 1.,\n",
              "       6., 6., 2., 2., 2., 1., 6., 2., 2., 1., 6., 2., 1., 2., 2., 2., 2.,\n",
              "       6., 6., 1., 2., 6., 1., 6., 2., 1., 2., 2., 1., 1., 2., 6., 2., 1.,\n",
              "       1., 6., 1., 1., 1., 1., 6., 2., 2., 1., 2., 1., 6., 6., 2., 2., 6.,\n",
              "       2., 1., 1., 2., 6., 6., 2., 6., 2., 2., 2., 1., 1., 6., 1., 1., 2.,\n",
              "       6., 6., 6., 1., 2., 1., 6., 1., 1., 6., 1., 2., 1., 6., 1., 2., 6.,\n",
              "       2., 2., 1., 1., 6., 1., 1., 1., 1., 1., 1., 2., 1., 6., 1., 6., 6.,\n",
              "       1., 2., 1., 1., 2., 6., 6., 1., 2., 1., 2., 6., 6., 2., 6., 1., 1.,\n",
              "       1., 2., 2., 6., 2., 1., 2., 2., 6., 6., 2., 1., 2., 1., 2., 1., 6.,\n",
              "       2., 6., 2., 2., 2., 6., 1., 6., 6., 1., 1., 1., 6., 6., 2., 6., 6.,\n",
              "       1., 6., 6., 1., 2., 2., 2., 6., 6., 2., 6., 6., 6., 2., 2., 2., 6.,\n",
              "       6., 1., 1., 6., 6., 1., 6., 1., 1., 6., 2., 2., 6., 6., 1., 1., 2.,\n",
              "       2., 6., 1., 2., 2., 1., 2., 2., 1., 2., 6., 6., 6., 2., 2., 2., 2.,\n",
              "       1., 1., 1., 1., 2., 2., 1., 2., 1., 6., 6., 6., 2., 1., 6., 2., 2.,\n",
              "       6., 1., 1., 2., 2., 1., 2., 6., 1., 1., 2., 2., 1., 1., 1., 1., 6.,\n",
              "       6., 2., 2., 6., 2., 6., 1., 1., 1., 6., 1., 2., 6., 6., 2., 2., 2.,\n",
              "       1., 6., 1., 1., 1., 1., 2., 2., 2., 6., 1., 1., 6., 2., 1., 1., 6.,\n",
              "       1., 2., 6., 1., 2., 6., 1., 1., 6., 6., 6., 1., 1., 2., 1., 2., 1.,\n",
              "       6., 6., 6., 1., 6., 2., 6., 1., 1., 1., 2., 2., 2., 6., 2., 1., 6.,\n",
              "       1., 6., 1., 1., 6., 2., 1., 2., 2., 1., 6., 6., 6., 2., 2., 2., 2.,\n",
              "       1., 6., 6., 2., 1., 1., 6., 6., 6., 6., 2., 2., 1., 6., 1., 1., 6.,\n",
              "       1., 1., 1., 2., 1., 1., 6., 2., 6., 2., 6., 6., 2., 1., 2., 1., 2.,\n",
              "       1., 2., 2., 2., 6., 6., 6., 2., 1., 1., 6., 6., 2., 6., 6., 6., 2.,\n",
              "       6., 1., 2., 2., 6., 1., 1., 1., 1., 2., 1., 6., 2., 1., 6., 6., 1.,\n",
              "       6., 6., 1., 2., 2., 1., 6., 1., 6., 6., 2., 6., 6., 6., 2., 2., 1.,\n",
              "       2., 2., 1., 6., 6., 6., 2., 1., 1., 1., 2., 1., 6., 2., 2., 2., 6.,\n",
              "       2., 6., 1., 6., 2., 2., 1., 6., 6., 2., 1., 6., 6., 1., 1., 6., 6.,\n",
              "       6., 1., 6., 2., 6., 2., 2., 2., 2., 6., 1., 2., 1., 1., 2., 1., 1.,\n",
              "       1., 6., 1., 6., 1., 1., 1., 1., 1., 2., 1., 2., 2., 2., 1., 2., 6.,\n",
              "       1., 1., 1., 2., 6., 2., 1., 6., 1., 2., 2., 6., 1., 2., 6., 6., 2.,\n",
              "       2., 2., 2., 1., 6., 1., 1., 2., 2., 6., 6., 2., 6., 1., 6., 2., 2.,\n",
              "       6., 1., 1., 1., 2., 6., 1., 6., 1., 2., 2., 6., 1., 2., 1., 2., 1.,\n",
              "       2., 1., 6., 2., 2., 2., 1., 6., 2., 2., 1., 2., 6., 1., 2., 1., 2.,\n",
              "       2., 2., 2., 2., 1., 2., 6., 6., 6., 1., 1., 2., 1., 6., 2., 2., 6.,\n",
              "       1., 2., 6., 6., 2., 6., 6., 1., 6., 2., 1., 6., 6., 2., 2., 2., 2.,\n",
              "       6., 2., 6., 6., 2., 2., 1., 1., 6., 2., 2., 2., 1., 2., 6., 1., 1.,\n",
              "       2., 2., 1., 1., 2., 6., 6., 1., 6., 1., 2., 2., 1., 6., 1., 2., 2.,\n",
              "       6., 6., 1., 6., 6., 1., 6., 2., 1., 6., 1., 6., 2., 1., 6., 6., 2.,\n",
              "       6., 1., 2., 6., 6., 2., 2., 2., 2., 1., 2., 2., 2., 6., 2., 6., 2.,\n",
              "       6., 6., 2., 6., 1., 2., 1., 6., 2., 6., 6., 6., 2., 1., 1., 6., 2.,\n",
              "       1., 6., 2., 1., 6., 1., 1., 2., 2., 2., 1., 2., 6., 6., 6., 1., 6.,\n",
              "       6., 6., 1., 6., 1., 1., 6., 2., 6., 2., 2., 1., 6., 1., 6., 2., 6.,\n",
              "       1., 2., 6., 6., 2., 6., 6., 6., 1., 6., 6., 1., 1., 2., 1., 2., 6.,\n",
              "       6., 6., 6., 6., 2., 2., 6., 2., 6., 6., 2., 6., 6., 6., 6., 1., 2.,\n",
              "       2., 6., 6., 2., 2., 6., 6., 6., 6., 6., 6., 6., 6., 6., 6., 1., 1.,\n",
              "       1., 1., 6., 1., 2., 1., 2., 2., 2., 2., 1., 2., 1., 2., 6., 1., 6.,\n",
              "       6., 2., 2., 1., 2., 1., 2., 6., 1., 2., 1., 6., 6., 1., 1., 1., 6.,\n",
              "       6., 1., 1., 2., 2., 1., 1., 2., 6., 6., 1., 2., 6., 6., 2., 6., 6.,\n",
              "       1., 1., 1., 6., 6., 1., 2., 2., 2., 6., 2., 6., 1., 6., 2., 2., 1.,\n",
              "       6., 6., 2., 2., 2., 2., 6., 2., 1., 1., 1., 1., 2., 2., 6., 6., 2.,\n",
              "       1., 6., 2., 6., 6., 6., 2., 1., 1., 2., 2., 1., 6., 1., 2., 6., 1.,\n",
              "       6., 2., 2., 6., 1., 6., 1., 2., 1., 1., 1., 1., 6., 2., 1., 6., 2.,\n",
              "       1., 2., 2., 2., 1., 6., 6., 6., 6., 6., 2., 2., 6., 2., 2., 2., 6.,\n",
              "       2., 1., 2., 2., 6., 1., 6., 2., 6., 1., 1., 6., 1., 1., 6., 2., 6.,\n",
              "       2., 1., 2., 2., 6., 1., 6., 2., 1., 6., 6., 2., 2., 2., 6., 1., 6.,\n",
              "       2., 6., 6., 6., 2., 6., 2., 1.])"
            ]
          },
          "metadata": {},
          "execution_count": 271
        }
      ]
    },
    {
      "cell_type": "markdown",
      "metadata": {
        "id": "3uQG6JsOQxH5"
      },
      "source": [
        "### Probabilistic Multinomial Logistic Regression:"
      ]
    },
    {
      "cell_type": "markdown",
      "metadata": {
        "id": "irlmUNw7Q5YL"
      },
      "source": [
        "The Multinomial Logistic Regression has some parameters:\n",
        "\n",
        "- $\\alpha$, which is the intercept term:\n",
        "\n",
        "- $\\beta$, which is a vector of coefficients which give a weighting to the importance of each input feature:\n"
      ]
    },
    {
      "cell_type": "code",
      "metadata": {
        "id": "W3jzczJzRAtT"
      },
      "source": [
        "\n",
        "## We use LabelBinarizer to transfor classes into counts\n",
        "# neg_label=0, pos_label=1 \n",
        "nf = X_train.shape[1]\n",
        "# number of classes\n",
        "nc = len(classes)\n",
        "# floatX = float32\n",
        "floatX = tt.config.floatX\n",
        "\n",
        "init_b = np.random.randn(nf, nc-1).astype(floatX)\n",
        "init_a = np.random.randn(nc-1).astype(floatX)\n",
        "\n",
        "\n",
        "with pm.Model() as multi_logistic:\n",
        "    # Prior\n",
        "    β = pm.Normal('beta', 0, sigma=100, shape=(nf, nc-1), testval=init_b)\n",
        "    α = pm.Normal('alpha', 0, sigma=100, shape=(nc-1,), testval=init_a)\n",
        "    \n",
        "    # we need to consider nc-1 features because the model is not identifiable\n",
        "    # the softmax turns a vector into a probability that sums up to one\n",
        "    # therefore we add zeros to go back to dimension nc\n",
        "    # so that softmax returns a vector of dimension nc\n",
        "    β1  = tt.tensor.concatenate([np.zeros((nf,1)),β ],axis=1)\n",
        "    α1  = tt.tensor.concatenate([[0],α ],)\n",
        "    \n",
        "    # Likelihood\n",
        "    mu = pm.math.matrix_dot(X_train,β1) + α1\n",
        "    # It doesn't work if the problem is binary\n",
        "    p = tt.tensor.nnet.nnet.softmax(mu)\n",
        "    observed = pm.Multinomial('likelihood', p=p, n=1, observed=y_2_bin)\n"
      ],
      "execution_count": 272,
      "outputs": []
    },
    {
      "cell_type": "markdown",
      "metadata": {
        "id": "ocPL6mi6NAlG"
      },
      "source": [
        "α and β are given a normal distribution from 0 to 1 with sigma = 100."
      ]
    },
    {
      "cell_type": "code",
      "metadata": {
        "colab": {
          "base_uri": "https://localhost:8080/",
          "height": 54
        },
        "id": "1o7mbKWmRhz5",
        "outputId": "bff8d9fe-c196-41a2-f84f-dcf52735d326"
      },
      "source": [
        "with multi_logistic:\n",
        "    #approx = pm.fit(300000, method='advi') # takes longer\n",
        "    approx = pm.fit(3000, method='advi')"
      ],
      "execution_count": 273,
      "outputs": [
        {
          "output_type": "display_data",
          "data": {
            "text/html": [
              "\n",
              "    <div>\n",
              "        <style>\n",
              "            /* Turns off some styling */\n",
              "            progress {\n",
              "                /* gets rid of default border in Firefox and Opera. */\n",
              "                border: none;\n",
              "                /* Needs to be in here for Safari polyfill so background images work as expected. */\n",
              "                background-size: auto;\n",
              "            }\n",
              "            .progress-bar-interrupted, .progress-bar-interrupted::-webkit-progress-bar {\n",
              "                background: #F44336;\n",
              "            }\n",
              "        </style>\n",
              "      <progress value='3000' class='' max='3000' style='width:300px; height:20px; vertical-align: middle;'></progress>\n",
              "      100.00% [3000/3000 03:42<00:00 Average Loss = 18,631]\n",
              "    </div>\n",
              "    "
            ],
            "text/plain": [
              "<IPython.core.display.HTML object>"
            ]
          },
          "metadata": {}
        },
        {
          "output_type": "stream",
          "name": "stderr",
          "text": [
            "Finished [100%]: Average Loss = 18,551\n"
          ]
        }
      ]
    },
    {
      "cell_type": "code",
      "metadata": {
        "colab": {
          "base_uri": "https://localhost:8080/",
          "height": 520
        },
        "id": "aj6Uzc05Rhtr",
        "outputId": "52036faf-f5bb-4480-f632-96b79993e253"
      },
      "source": [
        "plt.figure(figsize=(10,8))\n",
        "plt.xlabel('Iterations', fontsize=16)\n",
        "plt.ylabel('Loss', fontsize=16)\n",
        "plt.title('Loss Function over number of iterations of the Multinomial Logistic Regression Algorithm', fontsize=16)\n",
        "plt.plot(approx.hist)\n",
        "plt.show()"
      ],
      "execution_count": 274,
      "outputs": [
        {
          "output_type": "display_data",
          "data": {
            "image/png": "[encoded data removed]",
            "text/plain": [
              "<Figure size 720x576 with 1 Axes>"
            ]
          },
          "metadata": {
            "needs_background": "light"
          }
        }
      ]
    },
    {
      "cell_type": "markdown",
      "metadata": {
        "id": "0JdBFPjRlHXg"
      },
      "source": [
        "The Histogram above displays the gradually descending loss at each iteration of the Multinomial Logistic Regression Model using PyMC3 automatic differentiation variational inference(ADVI) method. In this case, the average loss per iteration after 3000 iterations has come down roughly six or seven fold from initially ~120,000 to ~20,000."
      ]
    },
    {
      "cell_type": "code",
      "metadata": {
        "id": "2MFH4gwlRhrB"
      },
      "source": [
        "# This code takes dd samples from the approximation above and passes them to the posterior.\n",
        "dd = 300\n",
        "posterior = approx.sample(draws=dd)"
      ],
      "execution_count": 275,
      "outputs": []
    },
    {
      "cell_type": "code",
      "metadata": {
        "colab": {
          "base_uri": "https://localhost:8080/",
          "height": 243
        },
        "id": "WNmJvYc4Rho7",
        "outputId": "3c50d180-914f-49a0-9bc3-80f11ca695b3"
      },
      "source": [
        "## The softmax function transforms each element of a collection by computing the exponential\n",
        "#  of each element divided by the sum of the exponentials of all the elements.\n",
        "from scipy.special import softmax\n",
        "\n",
        "#select an image in the test set\n",
        "i = 10 \n",
        "#i = random.randint(0, dd)\n",
        "\n",
        "#select a sample in the posterior\n",
        "s = 100 \n",
        "#s = random.randint(0, dd)\n",
        "\n",
        "\n",
        "beta  = np.hstack([np.zeros((nf,1)),  posterior['beta'][s,:] ])\n",
        "alpha = np.hstack([[0],  posterior['alpha'][s,:] ])\n",
        "image = X_val[i,:].reshape(28,28)\n",
        "plt.figure(figsize=(2,2))\n",
        "plt.imshow(image,cmap=\"Greys_r\")\n",
        "np.set_printoptions(suppress=True)\n",
        "\n",
        "print(\"test image #\" + str(i))\n",
        "print(\"posterior sample #\" + str(s))\n",
        "print(\"true class=\", y_val[i])\n",
        "print(\"classes: \" + str(classes))\n",
        "print(\"estimated prob=\",softmax((np.array([X_val[i,:].dot(beta) + alpha])))[0,:])"
      ],
      "execution_count": 276,
      "outputs": [
        {
          "output_type": "stream",
          "name": "stdout",
          "text": [
            "test image #10\n",
            "posterior sample #100\n",
            "true class= 6.0\n",
            "classes: [1, 2, 6]\n",
            "estimated prob= [0. 1. 0.]\n"
          ]
        },
        {
          "output_type": "display_data",
          "data": {
            "image/png": "[encoded data removed]",
            "text/plain": [
              "<Figure size 144x144 with 1 Axes>"
            ]
          },
          "metadata": {
            "needs_background": "light"
          }
        }
      ]
    },
    {
      "cell_type": "markdown",
      "metadata": {
        "id": "Tduh2jGNGb6q"
      },
      "source": [
        "The softmax function is used to normalize the output of a network to a probability distribution over the predicted output classes. In our case the softmax function returns three probabilities for each digit, i.e. a probability of a digit being 1, 2 or 6. The errored case above shows that 2 is predicted although the digit is clearly supposed to be a six."
      ]
    },
    {
      "cell_type": "markdown",
      "metadata": {
        "id": "49BF0CHUMRWE"
      },
      "source": [
        "The test image example given clearly shows the reason that the example was misclassified; the digit in this case is written to it's side. In order to catch such cases like this in ML, a rotation filter in a CNN could be used, which rotates each sample through 90 degrees or otherwise in both directions and adds the resulting images to the sample space. However this is beyond the scope of the exercise."
      ]
    },
    {
      "cell_type": "code",
      "metadata": {
        "id": "XXh5GXJsRhmr"
      },
      "source": [
        "# Bayesian prediction\n",
        "# return the class that has the highest posterior probability\n",
        "y_pred_Bayesian=[]\n",
        "\n",
        "for i in range(X_val.shape[0]):\n",
        "    val=np.zeros((1,len(classes)))\n",
        "    \n",
        "    for s in range(posterior['beta'].shape[0]):\n",
        "        beta = np.hstack([np.zeros((nf,1)),  posterior['beta'][s,:] ])\n",
        "        alpha = np.hstack([[0],  posterior['alpha'][s,:] ])     \n",
        "        val = val + softmax((np.array([X_val[i,:].dot(beta) + alpha])))\n",
        "    \n",
        "    mean_probability = val/posterior['beta'].shape[0]\n",
        "    y_pred_Bayesian.append( np.argmax(mean_probability))\n"
      ],
      "execution_count": 277,
      "outputs": []
    },
    {
      "cell_type": "code",
      "metadata": {
        "colab": {
          "base_uri": "https://localhost:8080/"
        },
        "id": "__V7v0G3cyzx",
        "outputId": "54cb1b71-35a4-4b8b-b43e-a75a63a29b04"
      },
      "source": [
        "print(y_pred_Bayesian)"
      ],
      "execution_count": 278,
      "outputs": [
        {
          "output_type": "stream",
          "name": "stdout",
          "text": [
            "[0, 2, 2, 0, 1, 0, 2, 2, 1, 0, 1, 1, 0, 2, 0, 1, 0, 2, 2, 1, 2, 1, 1, 0, 0, 0, 2, 1, 1, 1, 1, 2, 1, 0, 2, 1, 2, 1, 2, 1, 2, 1, 2, 2, 0, 2, 1, 2, 2, 2, 2, 2, 1, 2, 1, 0, 0, 0, 2, 1, 2, 2, 1, 1, 1, 2, 1, 1, 1, 0, 2, 0, 1, 0, 2, 2, 1, 2, 1, 2, 2, 0, 0, 1, 2, 2, 2, 2, 1, 1, 1, 0, 0, 1, 2, 0, 2, 2, 0, 1, 1, 0, 1, 2, 2, 1, 0, 2, 0, 0, 2, 2, 1, 1, 1, 1, 2, 0, 1, 2, 2, 1, 0, 2, 0, 0, 0, 0, 2, 2, 2, 1, 1, 2, 2, 1, 2, 0, 1, 0, 1, 2, 1, 1, 0, 1, 0, 1, 1, 0, 0, 1, 1, 2, 2, 1, 2, 0, 0, 1, 0, 1, 2, 0, 0, 0, 0, 1, 2, 1, 2, 2, 2, 2, 0, 2, 1, 0, 2, 1, 2, 1, 2, 0, 0, 2, 2, 0, 2, 2, 0, 2, 2, 2, 1, 0, 0, 0, 2, 1, 1, 2, 1, 0, 2, 0, 2, 1, 2, 1, 2, 2, 0, 1, 0, 0, 2, 0, 1, 0, 1, 2, 2, 0, 0, 2, 2, 2, 2, 2, 2, 2, 1, 0, 2, 0, 0, 2, 1, 2, 1, 2, 2, 2, 2, 0, 1, 0, 0, 0, 1, 1, 1, 2, 2, 2, 1, 2, 2, 2, 2, 2, 0, 1, 2, 1, 1, 1, 0, 1, 0, 0, 2, 2, 2, 1, 2, 0, 0, 2, 2, 0, 1, 1, 0, 2, 0, 2, 1, 1, 0, 0, 1, 2, 0, 0, 1, 1, 1, 1, 0, 0, 2, 2, 1, 1, 2, 1, 0, 0, 0, 2, 0, 2, 2, 2, 0, 1, 0, 0, 2, 1, 2, 0, 2, 1, 2, 1, 1, 2, 1, 2, 2, 0, 0, 0, 2, 2, 2, 1, 2, 1, 1, 1, 1, 0, 0, 2, 1, 1, 0, 1, 2, 0, 2, 2, 2, 2, 1, 0, 0, 1, 1, 0, 0, 0, 2, 2, 0, 1, 0, 2, 0, 0, 2, 2, 1, 0, 0, 1, 2, 0, 2, 0, 2, 1, 2, 2, 2, 2, 1, 0, 0, 2, 2, 0, 0, 2, 1, 1, 2, 0, 0, 0, 0, 1, 0, 1, 1, 2, 0, 1, 0, 1, 1, 0, 2, 0, 2, 0, 1, 0, 1, 1, 1, 1, 0, 1, 1, 2, 1, 1, 1, 1, 0, 0, 2, 0, 1, 1, 2, 0, 1, 1, 1, 2, 2, 0, 0, 1, 2, 1, 2, 2, 0, 2, 2, 0, 2, 1, 2, 2, 1, 0, 0, 1, 0, 1, 0, 2, 0, 0, 2, 2, 2, 2, 1, 0, 2, 0, 1, 2, 1, 1, 1, 0, 2, 1, 2, 1, 2, 0, 0, 0, 1, 2, 1, 2, 0, 2, 2, 1, 1, 1, 2, 0, 1, 0, 2, 0, 2, 2, 0, 0, 2, 2, 0, 2, 1, 2, 1, 1, 1, 1, 1, 1, 0, 1, 1, 2, 1, 0, 2, 2, 2, 2, 1, 2, 2, 2, 1, 1, 1, 0, 0, 0, 2, 2, 0, 1, 2, 2, 2, 2, 0, 1, 1, 1, 0, 0, 1, 1, 1, 1, 0, 2, 0, 1, 1, 2, 0, 2, 0, 1, 0, 0, 1, 0, 2, 1, 2, 2, 2, 0, 2, 2, 1, 2, 0, 2, 2, 1, 0, 1, 0, 1, 1, 1, 0, 2, 0, 2, 1, 1, 0, 0, 0, 0, 2, 0, 2, 0, 1, 1, 0, 0, 0, 2, 0, 2, 1, 0, 2, 1, 2, 0, 0, 2, 1, 0, 1, 0, 1, 2, 1, 1, 1, 0, 0, 0, 1, 1, 0, 2, 0, 1, 1, 0, 2, 1, 1, 0, 2, 0, 2, 1, 1, 2, 1, 2, 2, 2, 0, 1, 1, 1, 2, 1, 2, 1, 2, 1, 1, 1, 0, 2, 1, 1, 0, 1, 2, 1, 1, 0, 0, 1, 2, 1, 0, 0, 2, 1, 0, 2, 2, 1, 0, 2, 0, 0, 1, 2, 0, 2, 2, 1, 1, 0, 1, 1, 2, 2, 1, 0, 0, 0, 1, 1, 0, 1, 1, 0, 2, 0, 0, 0, 2, 1, 0, 2, 0, 1, 0, 2, 1, 2, 0, 0, 1, 1, 0, 1, 1, 0, 0, 2, 1, 2, 0, 0, 2, 1, 2, 2, 0, 2, 2, 1, 1, 0, 0, 1, 2, 2, 1, 0, 0, 0, 1, 0, 1, 0, 1, 2, 1, 0, 1, 0, 2, 0, 2, 0, 2, 1, 0, 1, 0, 2, 2, 0, 2, 0, 2, 2, 1, 0, 1, 2, 1, 0, 1, 2, 0, 0, 2, 2, 0, 0, 1, 1, 0, 0, 0, 2, 0, 2, 2, 2, 0, 0, 1, 0, 1, 2, 0, 1, 0, 2, 1, 2, 2, 2, 1, 0, 0, 2, 0, 1, 1, 2, 2, 2, 2, 1, 1, 1, 2, 1, 0, 2, 0, 2, 0, 0, 1, 2, 2, 2, 0, 2, 0, 0, 0, 1, 0, 1, 0, 1, 0, 2, 2, 2, 1, 2, 0, 0, 0, 0, 1, 2, 0, 2, 2, 1, 2, 1, 0, 2, 1, 1, 2, 1, 2, 2, 1, 0, 1, 1, 0, 2, 0, 0, 0, 2, 2, 1, 0, 1, 0, 0, 0, 1, 0, 2, 0, 0, 0, 1, 1, 1, 1, 2, 2, 2, 0, 1, 2, 0, 0, 2, 0, 2, 2, 0, 2, 1, 1, 2, 2, 2, 0, 2, 2, 0, 0, 1, 1, 2, 2, 2, 1, 2, 2, 2, 0, 0, 0, 2, 2, 2, 1, 1, 1, 2, 0, 2, 1, 1, 0, 0, 1, 0, 0, 1, 0, 0, 2, 0, 0, 1, 2, 1, 2, 0, 2, 0, 1, 1, 1, 2, 2, 0, 2, 0, 1, 2, 2, 0, 0, 0, 0, 1, 0, 2, 1, 2, 0, 0, 2, 0, 0, 0, 1, 2, 0, 1, 2, 2, 2, 2, 0, 0, 1, 0, 0, 0, 1, 0, 1, 0, 0, 1, 1, 2, 2, 0, 1, 0, 0, 0, 2, 0, 1, 2, 2, 0, 0, 2, 1, 1, 1, 1, 1, 0, 1, 1, 1, 2, 1, 0, 0, 2, 0, 0, 0, 2, 1, 0, 2, 2, 2, 1, 0, 0, 1, 1, 1, 2, 2, 1, 2, 0, 0, 2, 1, 1, 0, 1, 2, 0, 1, 1, 2, 0, 2, 0, 2, 0, 2, 1, 2, 2, 2, 2, 1, 1, 1, 1, 2, 1, 2, 2, 0, 0, 2, 0, 0, 1, 2, 1, 0, 2, 1, 1, 1, 2, 2, 1, 2, 2, 0, 1, 0, 0, 1, 2, 1, 1, 2, 0, 1, 1, 2, 0, 1, 2, 1, 1, 0, 0, 0, 1, 2, 1, 0, 1, 1, 1, 1, 1, 0, 2, 0, 1, 0, 2, 2, 0, 0, 0, 0, 2, 1, 1, 1, 2, 2, 2, 1, 1, 2, 2, 1, 1, 2, 0, 1, 2, 2, 0, 1, 1, 0, 1, 2, 0, 0, 2, 1, 2, 2, 0, 2, 1, 2, 2, 2, 0, 2, 2, 1, 2, 2, 1, 0, 2, 2, 2, 1, 1, 2, 2, 2, 2, 2, 1, 0, 2, 0, 2, 0, 1, 0, 2, 1, 2, 1, 0, 2, 0, 0, 2, 0, 1, 1, 0, 1, 1, 2, 1, 2, 1, 2, 0, 1, 1, 2, 2, 2, 0, 2, 0, 0, 2, 0, 0, 1, 0, 2, 0, 2, 1, 0, 1, 2, 0, 0, 2, 2, 0, 0, 0, 2, 2, 1, 2, 2, 1, 2, 2, 0, 2, 2, 1, 2, 0, 1, 0, 1, 1, 0, 2, 1, 0, 2, 1, 2, 2, 0, 2, 2, 1, 2, 2, 0, 1, 2, 0, 0, 1, 2, 2, 2, 1, 0, 0, 2, 2, 1, 1, 0, 1, 0, 2, 2, 0, 2, 1, 1, 1, 0, 1, 2, 1, 1, 0, 1, 1, 0, 0, 1, 0, 1, 2, 0, 0, 1, 1, 0, 0, 1, 0, 0, 2, 0, 2, 0, 2, 2, 1, 0, 1, 1, 0, 0, 2, 2, 2, 1, 1, 1, 1, 0, 1, 1, 1, 2, 0, 1, 2, 1, 0, 2, 0, 1, 1, 2, 2, 1, 0, 2, 0, 0, 0, 0, 2, 1, 0, 0, 2, 2, 0, 2, 0, 1, 0, 1, 1, 0, 1, 1, 2, 1, 1, 2, 0, 1, 2, 2, 2, 1, 1, 1, 1, 2, 0, 1, 1, 0, 1, 1, 0, 1, 0, 0, 1, 1, 0, 2, 0, 1, 1, 0, 1, 1, 2, 1, 2, 0, 1, 1, 0, 1, 0, 2, 2, 0, 2, 1, 2, 2, 0, 1, 0, 1, 1, 0, 1, 0, 1, 1, 0, 1, 2, 0, 1, 1, 0, 0, 2, 2, 2, 0, 0, 1, 0, 0, 1, 2, 1, 0, 2, 2, 2, 2, 2, 2, 0, 1, 2, 0, 1, 0, 0, 0, 1, 0, 0, 1, 0, 2, 1, 1, 1, 0, 0, 2, 0, 1, 0, 0, 1, 2, 1, 0, 2, 1, 1, 1, 1, 1, 1, 1, 2, 0, 1, 0, 1, 0, 1, 0, 1, 0, 0, 1, 0, 0, 0, 1, 2, 0, 2, 1, 0, 1, 1, 0, 0, 0, 2, 0, 0, 2, 1, 0, 1, 0, 1, 0, 0, 2, 1, 1, 1, 1, 0, 1, 0, 0, 2, 0, 2, 1, 0, 2, 2, 0, 0, 2, 0, 1, 1, 2, 0, 2, 0, 0, 0, 2, 0, 2, 2, 2, 2, 0, 2, 1, 1, 1, 1, 2, 2, 0, 1, 0, 1, 2, 0, 1, 1, 0, 0, 1, 1, 2, 1, 1, 1, 0, 0, 2, 1, 1, 1, 1, 0, 1, 0, 0, 0, 1, 0, 1, 1, 1, 2, 0, 2, 1, 2, 1, 2, 2, 1, 2, 0, 2, 2, 0, 2, 2, 0, 2, 0, 0, 1, 2, 1, 2, 1, 1, 1, 1, 1, 0, 1, 2, 1, 0, 1, 0, 1, 1, 1, 0, 2, 2, 0, 0, 2, 2, 1, 1, 1, 0, 0, 1, 0, 0, 2, 1, 1, 0, 0, 1, 0, 1, 2, 0, 2, 2, 1, 1, 0, 1, 2, 2, 2, 0, 1, 1, 1, 0, 2, 0, 0, 2, 1, 1, 0, 2, 0, 0, 2, 2, 1, 1, 0, 2, 2, 1, 0, 0, 0, 0, 0, 0, 2, 1, 0, 0, 1, 0, 2, 2, 0, 1, 1, 1, 2, 2, 0, 0, 1, 1, 1, 2, 0, 0, 2, 0, 0, 1, 1, 2, 2, 2, 1, 0, 2, 2, 0, 2, 1, 1, 1, 2, 2, 1, 2, 0, 1, 1, 1, 1, 2, 1, 0, 0, 0, 0, 0, 0, 1, 1, 2, 2, 0, 1, 0, 1, 1, 2, 1, 2, 2, 2, 2, 0, 1, 1, 0, 0, 1, 2, 1, 2, 0, 1, 2, 1, 2, 2, 2, 2, 1, 1, 2, 2, 1, 0, 2, 0, 2, 2, 2, 2, 1, 1, 0, 1, 0, 1, 2, 1, 1, 0, 0, 1, 0, 2, 2, 2, 2, 2, 2, 2, 2, 0, 0, 1, 1, 2, 1, 1, 2, 2, 2, 0, 2, 1, 0, 2, 1, 1, 1, 2, 0, 1, 2, 0, 1, 2, 1, 1, 0, 0, 1, 2, 0, 1, 1, 2, 0, 0, 1, 2, 2, 0, 1, 0, 1, 0, 2, 1, 2, 1, 0, 1, 0, 0, 0, 1, 1, 1, 0, 0, 0, 2, 1, 2, 0, 1, 0, 1, 0, 0, 2, 0, 1, 2, 0, 1, 1, 2, 1, 0, 2, 0, 1, 2, 2, 0, 0, 0, 1, 2, 2, 1, 1, 0, 2, 0, 2, 1, 1, 1, 2, 2, 1, 2, 2, 1, 2, 2, 2, 0, 2, 2, 1, 0, 2, 1, 1, 1, 2, 1, 1, 2, 2, 0, 2, 0, 2, 1, 1, 1, 0, 0, 0, 0, 1, 2, 1, 0, 0, 2, 0, 0, 2, 0, 2, 1, 1, 2, 2, 1, 1, 0, 2, 1, 0, 0, 1, 2, 2, 2, 2, 2, 0, 0, 1, 0, 2, 0, 1, 1, 0, 2, 0, 1, 0, 2, 2, 1, 1, 1, 0, 1, 1, 1, 1, 2, 2, 1, 2, 2, 2, 1, 2, 2, 0, 2, 0, 2, 2, 1, 1, 1, 0, 2, 1, 1, 0, 2, 1, 0, 1, 0, 1, 1, 2, 2, 0, 1, 2, 1, 2, 1, 0, 2, 1, 0, 0, 0, 1, 1, 0, 0, 2, 0, 0, 0, 0, 2, 1, 1, 0, 1, 0, 2, 2, 1, 1, 2, 1, 0, 0, 1, 2, 2, 1, 2, 1, 1, 2, 0, 0, 2, 0, 0, 1, 2, 0, 2, 1, 1, 0, 2, 0, 0, 2, 0, 1, 0, 2, 0, 1, 2, 1, 2, 0, 0, 2, 0, 0, 0, 0, 0, 0, 2, 0, 2, 0, 2, 1, 0, 1, 0, 0, 1, 2, 2, 0, 1, 0, 1, 2, 2, 1, 2, 0, 0, 0, 1, 0, 2, 1, 0, 1, 1, 2, 2, 1, 0, 1, 0, 1, 0, 2, 2, 2, 2, 1, 1, 2, 0, 2, 2, 0, 0, 0, 2, 2, 1, 2, 2, 0, 2, 2, 0, 1, 1, 1, 2, 2, 1, 0, 2, 2, 1, 1, 1, 0, 2, 0, 0, 2, 2, 0, 2, 0, 0, 2, 1, 1, 2, 2, 0, 1, 1, 1, 2, 0, 1, 0, 0, 1, 1, 0, 2, 2, 2, 2, 1, 1, 1, 1, 0, 0, 0, 0, 1, 1, 0, 1, 0, 2, 2, 0, 1, 0, 2, 1, 1, 2, 1, 0, 1, 1, 0, 1, 2, 0, 0, 1, 1, 0, 0, 0, 0, 2, 2, 1, 1, 2, 1, 2, 0, 0, 0, 2, 0, 1, 1, 2, 1, 1, 1, 0, 2, 0, 0, 0, 0, 1, 1, 1, 1, 0, 0, 2, 1, 0, 0, 2, 0, 1, 2, 0, 1, 2, 0, 0, 2, 2, 2, 0, 0, 1, 0, 1, 0, 2, 2, 2, 0, 2, 1, 1, 2, 0, 0, 1, 1, 1, 2, 1, 0, 2, 0, 0, 0, 0, 2, 1, 0, 1, 1, 0, 1, 2, 2, 1, 1, 1, 1, 0, 2, 2, 1, 0, 0, 2, 2, 2, 2, 1, 1, 0, 2, 0, 0, 2, 0, 0, 0, 1, 0, 0, 2, 1, 2, 1, 2, 2, 1, 0, 1, 0, 1, 0, 1, 2, 1, 2, 2, 2, 1, 0, 0, 2, 2, 1, 2, 2, 2, 1, 2, 0, 1, 1, 2, 0, 0, 0, 0, 1, 0, 2, 1, 0, 2, 2, 1, 2, 2, 0, 1, 1, 0, 2, 0, 2, 0, 1, 2, 2, 2, 1, 1, 0, 1, 1, 0, 2, 2, 2, 1, 0, 0, 0, 1, 0, 2, 1, 1, 1, 2, 1, 2, 0, 2, 1, 1, 0, 2, 2, 1, 0, 2, 1, 0, 0, 2, 2, 2, 0, 2, 1, 2, 1, 1, 1, 1, 2, 0, 1, 0, 0, 1, 0, 2, 0, 2, 0, 2, 0, 0, 0, 0, 0, 2, 0, 1, 1, 0, 0, 1, 2, 0, 0, 0, 1, 2, 1, 0, 2, 0, 1, 1, 2, 0, 1, 2, 2, 1, 1, 1, 1, 0, 2, 0, 0, 1, 0, 2, 2, 0, 2, 0, 2, 1, 1, 2, 0, 0, 0, 1, 2, 0, 1, 0, 1, 1, 2, 0, 1, 0, 1, 0, 1, 0, 2, 1, 1, 1, 0, 2, 1, 1, 0, 1, 2, 0, 1, 0, 1, 1, 1, 1, 1, 0, 1, 2, 2, 2, 0, 0, 1, 0, 2, 1, 1, 2, 0, 1, 2, 1, 1, 2, 2, 0, 2, 1, 0, 2, 2, 1, 1, 1, 1, 2, 1, 2, 2, 1, 1, 1, 0, 2, 1, 1, 1, 1, 1, 2, 0, 0, 1, 1, 0, 0, 1, 2, 2, 0, 2, 0, 1, 1, 0, 1, 0, 1, 1, 2, 2, 1, 2, 2, 0, 1, 1, 0, 2, 0, 1, 1, 0, 2, 2, 1, 2, 0, 1, 2, 2, 1, 1, 1, 1, 0, 1, 1, 1, 2, 1, 2, 1, 2, 2, 1, 2, 0, 1, 0, 2, 1, 2, 2, 2, 1, 0, 0, 2, 1, 0, 2, 1, 0, 2, 0, 0, 1, 1, 1, 0, 0, 2, 2, 2, 0, 1, 2, 2, 0, 2, 0, 0, 2, 1, 2, 1, 1, 0, 2, 0, 2, 1, 2, 0, 1, 2, 2, 1, 2, 2, 2, 0, 2, 2, 0, 0, 1, 1, 0, 2, 1, 2, 2, 2, 1, 1, 2, 1, 2, 2, 1, 2, 2, 2, 2, 0, 1, 1, 2, 2, 1, 1, 2, 1, 2, 2, 2, 2, 2, 2, 2, 2, 0, 1, 0, 0, 2, 0, 1, 0, 1, 1, 1, 1, 0, 1, 0, 1, 2, 2, 2, 2, 1, 1, 0, 1, 0, 2, 2, 0, 1, 1, 1, 2, 0, 1, 1, 2, 2, 0, 0, 1, 1, 0, 0, 1, 2, 2, 0, 1, 2, 2, 1, 2, 2, 0, 0, 0, 2, 0, 0, 1, 1, 1, 2, 1, 2, 0, 2, 1, 2, 0, 2, 2, 1, 1, 1, 1, 2, 2, 0, 0, 0, 0, 2, 0, 2, 2, 1, 0, 0, 1, 2, 2, 2, 1, 0, 0, 1, 1, 0, 2, 0, 1, 2, 0, 2, 1, 1, 2, 0, 2, 0, 1, 0, 0, 0, 0, 2, 2, 0, 2, 1, 0, 1, 2, 1, 0, 2, 2, 2, 2, 2, 1, 1, 2, 0, 0, 1, 2, 1, 2, 1, 1, 1, 0, 2, 1, 2, 0, 0, 2, 1, 0, 2, 1, 2, 1, 0, 1, 1, 2, 0, 2, 1, 0, 0, 2, 1, 1, 1, 2, 0, 2, 1, 2, 2, 2, 1, 2, 1, 0]\n"
          ]
        }
      ]
    },
    {
      "cell_type": "code",
      "metadata": {
        "colab": {
          "base_uri": "https://localhost:8080/"
        },
        "id": "lvNBJl4ZPBaX",
        "outputId": "71f38eab-67f8-4a12-d910-75d9c2437005"
      },
      "source": [
        "from collections import Counter\n",
        "print(Counter(y_pred_Bayesian))"
      ],
      "execution_count": 279,
      "outputs": [
        {
          "output_type": "stream",
          "name": "stdout",
          "text": [
            "Counter({1: 1026, 2: 1004, 0: 970})\n"
          ]
        }
      ]
    },
    {
      "cell_type": "markdown",
      "metadata": {
        "id": "4HIQvLAmPGSC"
      },
      "source": [
        "We can see that from the counts of the digits above that there is no clear easiest digit to recognise as the counts are quite similar."
      ]
    },
    {
      "cell_type": "code",
      "metadata": {
        "colab": {
          "base_uri": "https://localhost:8080/"
        },
        "id": "RQVfstylczgo",
        "outputId": "d57b76a9-9e4d-4dc9-df79-1fb46d163b74"
      },
      "source": [
        "# recall the classes we are using\n",
        "print(classes)"
      ],
      "execution_count": 280,
      "outputs": [
        {
          "output_type": "stream",
          "name": "stdout",
          "text": [
            "[1, 2, 6]\n"
          ]
        }
      ]
    },
    {
      "cell_type": "code",
      "metadata": {
        "colab": {
          "base_uri": "https://localhost:8080/"
        },
        "id": "8OLwuXaoc3zj",
        "outputId": "df6231ae-8166-47d2-b4e5-da00fe4445db"
      },
      "source": [
        "# prediction array (using classes)\n",
        "nn = 10 # just an example\n",
        "np.array(classes)[y_pred_Bayesian[0:nn]]"
      ],
      "execution_count": 281,
      "outputs": [
        {
          "output_type": "execute_result",
          "data": {
            "text/plain": [
              "array([1, 6, 6, 1, 2, 1, 6, 6, 2, 1])"
            ]
          },
          "metadata": {},
          "execution_count": 281
        }
      ]
    },
    {
      "cell_type": "code",
      "metadata": {
        "colab": {
          "base_uri": "https://localhost:8080/"
        },
        "id": "xleyvMUEc7h7",
        "outputId": "64bab6d7-7a81-418e-bd78-48150fd5064c"
      },
      "source": [
        "# using validation: y_val\n",
        "print(\"Accuracy=\", accuracy_score(np.array(classes)[y_pred_Bayesian], y_val))"
      ],
      "execution_count": 282,
      "outputs": [
        {
          "output_type": "stream",
          "name": "stdout",
          "text": [
            "Accuracy= 0.9363333333333334\n"
          ]
        }
      ]
    },
    {
      "cell_type": "markdown",
      "metadata": {
        "id": "eFsd1D4NKBV8"
      },
      "source": [
        "The Bayesian accuracy is recognisably lower than the basic run of multinomial logistic regression (~93+% as compared with ~97+%). This is because XXXXXXXXX"
      ]
    },
    {
      "cell_type": "code",
      "metadata": {
        "id": "AFDyxFaCfJao"
      },
      "source": [
        "## Selecting different instances"
      ],
      "execution_count": 283,
      "outputs": []
    },
    {
      "cell_type": "code",
      "metadata": {
        "id": "_3nnVpkIfRRj"
      },
      "source": [
        "y_predB=[]\n",
        "\n",
        "for i in range(X_val.shape[0]):\n",
        "    #print(i)\n",
        "    val=[]\n",
        "\n",
        "    for s in range(posterior['beta'].shape[0]):\n",
        "        beta = np.hstack([np.zeros((nf,1)),  posterior['beta'][s,:] ])\n",
        "        alpha = np.hstack([[0],  posterior['alpha'][s,:] ])\n",
        "        val.append(softmax((np.array([X_val[i,:].dot(beta) + alpha])))[0,:])\n",
        "\n",
        "    #mean probability\n",
        "    valmean = np.mean(val,axis=0)\n",
        "    #class with maximum mean probability\n",
        "    classmax = np.argmax(valmean)\n",
        "    #ranks\n",
        "    ranks = np.array(val.copy())\n",
        "    ranks   = ranks  *0 #init\n",
        "    colmax = np.argmax(np.array(val),axis=1)\n",
        "    ranks[np.arange(0,len(colmax)),colmax]=1\n",
        "     \n",
        "    y_predB.append( [classmax, valmean[classmax], np.std(ranks,axis=0)[classmax]])\n",
        "\n",
        "    \n",
        "y_predB= np.array(y_predB)"
      ],
      "execution_count": 284,
      "outputs": []
    },
    {
      "cell_type": "code",
      "metadata": {
        "id": "RFAuhp4IfaBE",
        "colab": {
          "base_uri": "https://localhost:8080/"
        },
        "outputId": "4c659cbe-f7a9-4f95-bbef-507ab76e1ca6"
      },
      "source": [
        "# prediction array\n",
        "mm = 10\n",
        "y_predB[0:mm,:]"
      ],
      "execution_count": 285,
      "outputs": [
        {
          "output_type": "execute_result",
          "data": {
            "text/plain": [
              "array([[0.        , 0.61372391, 0.48368952],\n",
              "       [2.        , 0.63044209, 0.48280431],\n",
              "       [2.        , 0.60472638, 0.48368952],\n",
              "       [0.        , 0.91221355, 0.24944383],\n",
              "       [1.        , 0.93801322, 0.23748684],\n",
              "       [0.        , 0.75533578, 0.41647996],\n",
              "       [2.        , 0.99112573, 0.08137704],\n",
              "       [2.        , 0.96976881, 0.14      ],\n",
              "       [1.        , 0.93567008, 0.22469733],\n",
              "       [0.        , 0.94990767, 0.15095989]])"
            ]
          },
          "metadata": {},
          "execution_count": 285
        }
      ]
    },
    {
      "cell_type": "markdown",
      "metadata": {
        "id": "p91q2_WtMOLr"
      },
      "source": [
        "In the above set of random examples, there is generally a much higher probability that the sample is one digit as opposed to another."
      ]
    },
    {
      "cell_type": "code",
      "metadata": {
        "id": "5jlZ_D1lfdzD",
        "colab": {
          "base_uri": "https://localhost:8080/"
        },
        "outputId": "bb10c1b5-b247-458c-c485-5d56f383345f"
      },
      "source": [
        "#sorting in descending order\n",
        "difficult = np.argsort(-y_predB[:,2])\n",
        "y_predB[difficult[0:mm],:]"
      ],
      "execution_count": 286,
      "outputs": [
        {
          "output_type": "execute_result",
          "data": {
            "text/plain": [
              "array([[2.        , 0.49883006, 0.5       ],\n",
              "       [2.        , 0.47939944, 0.5       ],\n",
              "       [0.        , 0.5042744 , 0.5       ],\n",
              "       [0.        , 0.49562308, 0.5       ],\n",
              "       [1.        , 0.4950086 , 0.5       ],\n",
              "       [1.        , 0.49518642, 0.5       ],\n",
              "       [1.        , 0.49682989, 0.49998889],\n",
              "       [1.        , 0.47677263, 0.49998889],\n",
              "       [1.        , 0.50598883, 0.49998889],\n",
              "       [1.        , 0.50393658, 0.49998889]])"
            ]
          },
          "metadata": {},
          "execution_count": 286
        }
      ]
    },
    {
      "cell_type": "markdown",
      "metadata": {
        "id": "shMiqH7MLxNW"
      },
      "source": [
        "We see in the difficult examples above, after the softmax function, the probability of these examples being either one digit or another and therefore a very difficult set of examples to classify."
      ]
    },
    {
      "cell_type": "code",
      "metadata": {
        "id": "gHcO78W7fgxx",
        "colab": {
          "base_uri": "https://localhost:8080/"
        },
        "outputId": "d0c95ad9-0eaf-451c-9dd3-583c69abddbc"
      },
      "source": [
        "#probability of general-recipe logistic regression in wrong instances\n",
        "prob_classmax[y_pred_log != y_val]"
      ],
      "execution_count": 287,
      "outputs": [
        {
          "output_type": "execute_result",
          "data": {
            "text/plain": [
              "array([1.        , 0.9999908 , 0.99995891, 0.99981347, 0.98079807,\n",
              "       0.93164146, 0.8711765 , 0.9707614 , 0.99999997, 0.51284719,\n",
              "       0.92689108, 0.99915921, 0.68499082, 0.99888392, 1.        ,\n",
              "       0.58931519, 0.93713587, 0.99980593, 0.92434844, 0.86367748,\n",
              "       0.99999999, 0.74996053, 0.99999971, 0.99946989, 0.9999984 ,\n",
              "       0.9846901 , 0.99772614, 0.99996548, 0.99977199, 0.8901548 ,\n",
              "       0.85530461, 0.74915123, 0.96661533, 0.97656184, 0.67265709,\n",
              "       0.63616862, 0.95337935, 0.96553302, 0.96006696, 1.        ,\n",
              "       0.99699667, 0.9995172 , 0.97156277, 0.63328865, 0.99834075,\n",
              "       0.98800818, 0.95565749, 0.97789174, 0.68079014, 0.99953723,\n",
              "       0.93557243, 0.99999202, 0.99911817, 0.52590047, 0.99511685,\n",
              "       0.99999959, 1.        , 0.9620433 , 0.89518553, 0.86479906,\n",
              "       0.99530315, 0.60188496, 0.67741465, 0.9999999 , 0.98790068,\n",
              "       1.        , 0.42761895, 0.9746156 , 0.99838855, 0.95922805,\n",
              "       0.99944298, 0.99566734, 0.66589747, 0.67146108, 0.97809078,\n",
              "       0.99990464, 0.99996693, 0.99794866])"
            ]
          },
          "metadata": {},
          "execution_count": 287
        }
      ]
    },
    {
      "cell_type": "markdown",
      "metadata": {
        "id": "GuFuQqVzQ7Oq"
      },
      "source": [
        "We see that the cases where the prediction is wrong that some samples have a low probability, i.e. 0.6, but we also see a handful of sampled had a 'certain' probability of '1', where the digit sample's features matched the algorithm's prediction perfectly, however the prediction can still be wrong as the accuracy cannot be 100% with such an error-prone unpredictable dataset such as handwriting."
      ]
    },
    {
      "cell_type": "markdown",
      "metadata": {
        "id": "ogouXNjZ6n3r"
      },
      "source": [
        "The below computes the number of mistakes in identifying the digits with the given model:"
      ]
    },
    {
      "cell_type": "code",
      "metadata": {
        "id": "002hMd0pfj5p",
        "colab": {
          "base_uri": "https://localhost:8080/"
        },
        "outputId": "048cc3e5-1c7e-483c-ed4b-287d59132ca0"
      },
      "source": [
        "y_predB[y_pred_log != y_val,:]\n",
        "len (y_predB[y_pred_log != y_val,:])"
      ],
      "execution_count": 288,
      "outputs": [
        {
          "output_type": "execute_result",
          "data": {
            "text/plain": [
              "78"
            ]
          },
          "metadata": {},
          "execution_count": 288
        }
      ]
    },
    {
      "cell_type": "code",
      "metadata": {
        "id": "XLdTvm4Ufm-F",
        "colab": {
          "base_uri": "https://localhost:8080/"
        },
        "outputId": "04807da4-93f1-4e38-8f76-1fa5086abad0"
      },
      "source": [
        "## Difficult & easy instances\n",
        "\n",
        "easy = np.argsort(y_predB[:,2])\n",
        "print(\"Accuracy in easy instances =\", accuracy_score(y_pred_log[easy[0:70]], y_val[easy[0:70]]))\n",
        "\n",
        "difficult = np.argsort(-y_predB[:,2])\n",
        "print(\"Accuracy in difficult instances =\", accuracy_score(y_pred_log[difficult[0:70]], y_val[difficult[0:70]]))"
      ],
      "execution_count": 289,
      "outputs": [
        {
          "output_type": "stream",
          "name": "stdout",
          "text": [
            "Accuracy in easy instances = 1.0\n",
            "Accuracy in difficult instances = 0.9428571428571428\n"
          ]
        }
      ]
    },
    {
      "cell_type": "markdown",
      "metadata": {
        "id": "0refyHrkQs5k"
      },
      "source": [
        "There is a *recogniseable* difference in accuracy when comparing the most easy samples to the most difficult."
      ]
    },
    {
      "cell_type": "code",
      "metadata": {
        "id": "hzO-W4OGmxVV",
        "colab": {
          "base_uri": "https://localhost:8080/"
        },
        "outputId": "21336a42-1bf5-4ab4-8e91-187be9bb181f"
      },
      "source": [
        "y_pred_log.shape"
      ],
      "execution_count": 290,
      "outputs": [
        {
          "output_type": "execute_result",
          "data": {
            "text/plain": [
              "(3000,)"
            ]
          },
          "metadata": {},
          "execution_count": 290
        }
      ]
    },
    {
      "cell_type": "code",
      "metadata": {
        "id": "9l9VAl6YfqlF",
        "colab": {
          "base_uri": "https://localhost:8080/",
          "height": 683
        },
        "outputId": "6a135da3-2e9e-4d8f-fbfe-be2499c738bb"
      },
      "source": [
        "# show 10 random 'easy' images\n",
        "fig, axs = plt.subplots(4,5, figsize=(15, 12))\n",
        "fig.subplots_adjust(hspace = .2, wspace=.001)\n",
        "axs = axs.ravel()\n",
        "\n",
        "for i in range(20):\n",
        "    index = easy[i]\n",
        "    image = X_val[index,:].reshape(28,28)\n",
        "    axs[i].axis('off')\n",
        "    axs[i].imshow(image,cmap=\"Greys_r\")"
      ],
      "execution_count": 291,
      "outputs": [
        {
          "output_type": "display_data",
          "data": {
            "image/png": "[encoded data removed]",
            "text/plain": [
              "<Figure size 1080x864 with 20 Axes>"
            ]
          },
          "metadata": {
            "needs_background": "light"
          }
        }
      ]
    },
    {
      "cell_type": "markdown",
      "metadata": {
        "id": "Qh8oONPF7etw"
      },
      "source": [
        "We see above with the easy samples that there is recogniseable consistency in how the digits are drawn."
      ]
    },
    {
      "cell_type": "code",
      "metadata": {
        "id": "eu9SjD7QftHT",
        "colab": {
          "base_uri": "https://localhost:8080/",
          "height": 683
        },
        "outputId": "69dc9cc6-2d84-4a30-a3fa-f8d4455f5f24"
      },
      "source": [
        "# show 10 random 'difficult' images\n",
        "fig, axs = plt.subplots(4,5, figsize=(15, 12))\n",
        "fig.subplots_adjust(hspace = .2, wspace=.001)\n",
        "axs = axs.ravel()\n",
        "for i in range(20):\n",
        "    index = difficult[i]\n",
        "    image = X_val[index,:].reshape(28,28)\n",
        "    axs[i].axis('off')\n",
        "    axs[i].imshow(image,cmap=\"Greys_r\")"
      ],
      "execution_count": 292,
      "outputs": [
        {
          "output_type": "display_data",
          "data": {
            "image/png": "[encoded data removed]",
            "text/plain": [
              "<Figure size 1080x864 with 20 Axes>"
            ]
          },
          "metadata": {
            "needs_background": "light"
          }
        }
      ]
    },
    {
      "cell_type": "markdown",
      "metadata": {
        "id": "5Di81N4jHu-2"
      },
      "source": [
        "Some of the difficult examples above illustrate why the classification of handwritten dighits can never be 100%: some examples, especially in the case of digits 2 & 6, are almost unrecogniseable."
      ]
    },
    {
      "cell_type": "code",
      "metadata": {
        "id": "zrTgJlfwLSPK"
      },
      "source": [
        "## Re-run of multinomial logistic regression without difficult samples, but varying the number of difficult samples\n",
        "## Kudos to Rob Barrett for his idea of depicting the sweetspot of difficult image removal in this way\n",
        "results = []\n",
        "for i in list(np.arange(100, 3000, 100)):\n",
        "  # model\n",
        "  model_log = LogisticRegression(random_state=0, max_iter=2000, C=100, solver='lbfgs', multi_class='multinomial').fit(X_train[easy[0:i]], y_train[easy[0:i]])\n",
        "\n",
        "  # Classification:\n",
        "  y_pred_log = model_log.predict(X_val)\n",
        "  y_pred_logi_prob = model_log.predict_proba(X_val)\n",
        "\n",
        "  # Maybe taking the maximum probability \n",
        "  # in any of the classes for each observation\n",
        "  prob_classmax = np.max(y_pred_logi_prob,axis=1)\n",
        "\n",
        "  # Computing the Accuracy:\n",
        "  accuracy_score(y_pred_log, y_val)\n",
        "  results.append (accuracy_score(y_pred_log, y_val))"
      ],
      "execution_count": 293,
      "outputs": []
    },
    {
      "cell_type": "code",
      "metadata": {
        "colab": {
          "base_uri": "https://localhost:8080/",
          "height": 525
        },
        "id": "livEtggjVdX1",
        "outputId": "03cc58b3-bb2e-4905-a9c0-c6ce395f4d48"
      },
      "source": [
        "## Graphing the varying effects on accuracy of removing varying amounts of \n",
        "results.reverse()\n",
        "plt.figure(figsize=(10,8))\n",
        "plt.plot((list(np.arange(100, 3000, 100))), results)\n",
        "plt.title('Accuracy score variation based on removal of difficult to classify images',fontsize=18)\n",
        "plt.xlabel('Number of Difficult Digits Removed',fontsize=18)\n",
        "plt.ylabel('Accuracy',fontsize=18)\n",
        "plt.show()"
      ],
      "execution_count": 294,
      "outputs": [
        {
          "output_type": "display_data",
          "data": {
            "image/png": "[encoded data removed]",
            "text/plain": [
              "<Figure size 720x576 with 1 Axes>"
            ]
          },
          "metadata": {
            "needs_background": "light"
          }
        }
      ]
    },
    {
      "cell_type": "markdown",
      "metadata": {
        "id": "6AAVVNJj07lq"
      },
      "source": [
        "We can clearly see above that the removal of 500 difficult images gives the highest accuracy of the model. \n",
        "And now to re-run the multinomial logistic regression without the 500 most difficult samples:"
      ]
    },
    {
      "cell_type": "code",
      "metadata": {
        "id": "Hlc774Adpvhf",
        "colab": {
          "base_uri": "https://localhost:8080/"
        },
        "outputId": "20dd73cb-3072-4aeb-b3a6-8f55c2dd3a4c"
      },
      "source": [
        "## Re-run of multinomial logistic regression without difficult samples\n",
        "# model\n",
        "model_log = LogisticRegression(random_state=0, max_iter=2000, C=100, solver='lbfgs', multi_class='multinomial').fit(X_train[easy[0:2500]], y_train[easy[0:2500]])\n",
        "\n",
        "# Classification:\n",
        "y_pred_log = model_log.predict(X_val)\n",
        "y_pred_logi_prob = model_log.predict_proba(X_val)\n",
        "\n",
        "# Maybe taking the maximum probability \n",
        "# in any of the classes for each observation\n",
        "prob_classmax = np.max(y_pred_logi_prob,axis=1)\n",
        "\n",
        "# Computing the Accuracy:\n",
        "accuracy_score(y_pred_log, y_val)"
      ],
      "execution_count": 295,
      "outputs": [
        {
          "output_type": "execute_result",
          "data": {
            "text/plain": [
              "0.9793333333333333"
            ]
          },
          "metadata": {},
          "execution_count": 295
        }
      ]
    },
    {
      "cell_type": "markdown",
      "metadata": {
        "id": "zmeg0lke1Iri"
      },
      "source": [
        "There is a slight increase from the original accuracy measure of 0.974 when the model was formed based on all samples, to the circa 0.98 achieved when removing the 500 most difficult samples. However there were less than 100 errors in digit recognition from the three digit samples so the overall accuracy is only slightly improved - the quality of the dataset is such that most examples can be successfully recognised which explains the 'slight' improvement."
      ]
    },
    {
      "cell_type": "markdown",
      "metadata": {
        "id": "Czm5lifMRFQw"
      },
      "source": [
        ""
      ]
    },
    {
      "cell_type": "markdown",
      "metadata": {
        "id": "NcshsLOGRPrk"
      },
      "source": [
        "## Summary"
      ]
    },
    {
      "cell_type": "markdown",
      "metadata": {
        "id": "2UrsO80XRFxm"
      },
      "source": [
        ""
      ]
    },
    {
      "cell_type": "markdown",
      "metadata": {
        "id": "XTc4pYKGRR60"
      },
      "source": [
        "The MNSIT dataset of handwritten digits is a fairly well balanced dataset, that lends itself to be able to accurately train a multinomial logistic regression model to recognise the digits with an accuracy of over 97%.\n",
        "\n",
        "The removal of difficult instances to classify increases the accuracy to circa 98%. By removing increasing amounts of difficult digits, it was noted that the best results corresponded to the most difficult 500 digits from the 3000 samples being removed.\n"
      ]
    },
    {
      "cell_type": "markdown",
      "metadata": {
        "id": "YFTeH8It9I5S"
      },
      "source": [
        "## References\n",
        "https://blog.exsilio.com/all/accuracy-precision-recall-f1-score-interpretation-of-performance-measures/https://www.analyticsvidhya.com/blog/2020/10/how-to-choose-evaluation-metrics-for-classification-model/\n",
        "https://dotnet.github.io/infer/userguide/The%20softmax%20factor.html"
      ]
    }
  ]
}