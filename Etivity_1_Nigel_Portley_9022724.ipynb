{
  "nbformat": 4,
  "nbformat_minor": 0,
  "metadata": {
    "colab": {
      "name": "Etivity_1_Nigel_Portley_9022724.ipynb",
      "provenance": [],
      "collapsed_sections": [],
      "include_colab_link": true
    },
    "kernelspec": {
      "name": "python3",
      "display_name": "Python 3"
    },
    "language_info": {
      "name": "python"
    }
  },
  "cells": [
    {
      "cell_type": "markdown",
      "metadata": {
        "id": "view-in-github",
        "colab_type": "text"
      },
      "source": [
        "<a href=\"https://colab.research.google.com/github/amaralcs/ET5003/blob/main/Etivity_1_Nigel_Portley_9022724.ipynb\" target=\"_parent\"><img src=\"https://colab.research.google.com/assets/colab-badge.svg\" alt=\"Open In Colab\"/></a>"
      ]
    },
    {
      "cell_type": "markdown",
      "metadata": {
        "id": "jxK1_8f1dvrc"
      },
      "source": [
        "<div>\n",
        "<img src=\"https://drive.google.com/uc?export=view&id=1vK33e_EqaHgBHcbRV_m38hx6IkG0blK_\" width=\"350\"/>\n",
        "</div> \n",
        "\n",
        "#**Artificial Intelligence - MSc**\n",
        "ET5003 - MACHINE LEARNING APPLICATIONS \n",
        "\n",
        "###Instructor: Enrique Naredo\n",
        "###ET5003_Etivity-1"
      ]
    },
    {
      "cell_type": "code",
      "metadata": {
        "id": "LqXD_IwUQuBF",
        "cellView": "form"
      },
      "source": [
        "#@title Current Date\n",
        "Today = '2021-09-12' #@param {type:\"date\"}\n"
      ],
      "execution_count": 10,
      "outputs": []
    },
    {
      "cell_type": "code",
      "metadata": {
        "id": "uzDKau31OjVO",
        "cellView": "form"
      },
      "source": [
        "#@markdown ---\n",
        "#@markdown ### Enter your details here:\n",
        "Student_ID = \"9022724\" #@param {type:\"string\"}\n",
        "Student_full_name = \"Nigel Portley\" #@param {type:\"string\"}\n",
        "#@markdown ---"
      ],
      "execution_count": 11,
      "outputs": []
    },
    {
      "cell_type": "code",
      "metadata": {
        "id": "r39xGZckTpKx"
      },
      "source": [
        "#@title Notebook information\n",
        "Notebook_type = 'Etivity' #@param [\"Example\", \"Lab\", \"Practice\", \"Etivity\", \"Assignment\", \"Exam\"]\n",
        "Version = 'Draft' #@param [\"Draft\", \"Final\"] {type:\"raw\"}\n",
        "Submission = False #@param {type:\"boolean\"}"
      ],
      "execution_count": 12,
      "outputs": []
    },
    {
      "cell_type": "markdown",
      "metadata": {
        "id": "80m304lUefG4"
      },
      "source": [
        "## MNIST dataset"
      ]
    },
    {
      "cell_type": "markdown",
      "metadata": {
        "id": "Bs8mHGcidHSa"
      },
      "source": [
        "\n",
        "\n",
        "The MNIST database  is a dataset of handwritten digits that has been and is extensively used in machine learning. There are $10$ classes, each image is $28\\times28$ pixels and, therefore, each input is $x_i\\in\\mathbb{R}^{784}$. "
      ]
    },
    {
      "cell_type": "markdown",
      "metadata": {
        "id": "ailycCq5epj2"
      },
      "source": [
        "## Task"
      ]
    },
    {
      "cell_type": "markdown",
      "metadata": {
        "id": "a-yNAxhUemjM"
      },
      "source": [
        "You have to extend the code to manage any arbitrary number of classes, in other words you have to implement a general-recipe multinomial logistic classifier and Bayesian multinomial logistic classifier.\n",
        "\n",
        "You must then select  3 digits at random and perform  the following task. \n",
        "\n",
        "1. Your goal is to use Bayesian multinomial logistic regression (as in the road-sign notebook) to solve this classification problem. \n",
        "\n",
        "2. You can downsize the training dataset (e.g., 40% training and 60%testing) if the computation of the posterior takes too much time in your computer.\n",
        "\n",
        "3. Use the posterior uncertainty to detect the instances (digits) in the test set that are hard to classify and remove them from the test-set.\n",
        "\n",
        "4. Then you need to compute again the accuracy of the general-recipe logistic regression on the remaining (non-difficult) instances and comment on the result.\n",
        "\n",
        "5. In practice, the task is to use uncertainty estimation to detect the difficult instances in the test-set. This is equivalent to refuse to classify all high-uncertainty instances or, in other words, when we are uncertain we say \"I don't know\" and we do not return any class. In this way, you will learn how uncertainty can be used to make safer decisions, by detecting the instances that are difficult to classify.\n"
      ]
    },
    {
      "cell_type": "markdown",
      "metadata": {
        "id": "nMRKRTQZe5fW"
      },
      "source": [
        "## Libraries"
      ]
    },
    {
      "cell_type": "code",
      "metadata": {
        "id": "IxusAui7AX_f"
      },
      "source": [
        "# Suppressing Warnings:\n",
        "import warnings\n",
        "warnings.filterwarnings(\"ignore\")"
      ],
      "execution_count": 13,
      "outputs": []
    },
    {
      "cell_type": "code",
      "metadata": {
        "id": "MQOfGMQpdHSb"
      },
      "source": [
        "# Import libraries\n",
        "from sklearn.linear_model import LogisticRegression\n",
        "from sklearn.metrics import accuracy_score\n",
        "from sklearn.model_selection import train_test_split\n",
        "import scipy.optimize as optimize\n",
        "from scipy.special import erf\n",
        "import pandas as pd\n",
        "import numpy as np\n",
        "import seaborn as sns\n",
        "from tqdm import tqdm\n",
        "from skimage.io import imread, imshow\n",
        "import matplotlib.image as mpimg\n",
        "import matplotlib.pyplot as plt\n",
        "import matplotlib\n",
        "%matplotlib inline\n",
        "import arviz as az\n",
        "from scipy.io import loadmat\n",
        "import pymc3 as pm\n",
        "import random\n",
        "from IPython.display import HTML\n",
        "import pickle\n",
        "import theano as tt\n",
        "import cv2\n",
        "from sklearn.utils import shuffle\n",
        "from skimage.color import rgb2gray"
      ],
      "execution_count": 14,
      "outputs": []
    },
    {
      "cell_type": "code",
      "metadata": {
        "id": "P5-qMSjpAQ-9"
      },
      "source": [
        "# Setting a seed, maintaining the random values for later runs of the code:\n",
        "np.random.seed(123)"
      ],
      "execution_count": 15,
      "outputs": []
    },
    {
      "cell_type": "markdown",
      "metadata": {
        "id": "r4hSuwkUfVQb"
      },
      "source": [
        "## Dataset"
      ]
    },
    {
      "cell_type": "markdown",
      "metadata": {
        "id": "w99Pc66YdHSd"
      },
      "source": [
        "### Loading the MNIST dataset"
      ]
    },
    {
      "cell_type": "code",
      "metadata": {
        "colab": {
          "base_uri": "https://localhost:8080/"
        },
        "id": "CYFWAbXVzynp",
        "outputId": "c6d479cf-0f8a-4ac6-82e8-b59ec7e1b490"
      },
      "source": [
        "from google.colab import drive\n",
        "drive.mount('/content/drive')"
      ],
      "execution_count": 16,
      "outputs": [
        {
          "output_type": "stream",
          "name": "stdout",
          "text": [
            "Drive already mounted at /content/drive; to attempt to forcibly remount, call drive.mount(\"/content/drive\", force_remount=True).\n"
          ]
        }
      ]
    },
    {
      "cell_type": "code",
      "metadata": {
        "colab": {
          "base_uri": "https://localhost:8080/"
        },
        "id": "g4rCnS4vdHSd",
        "outputId": "8efe3465-992e-4998-b48b-381fa8f470a3"
      },
      "source": [
        "# Path, copy the path from your Drive\n",
        "Path = '/content/drive/MyDrive/Colab Notebooks/Nigel 9022724/'\n",
        "\n",
        "# MNIST Data\n",
        "train_data = Path + 'mnist_train.csv'\n",
        "test_data = Path + 'mnist_test.csv'\n",
        "\n",
        "# train data\n",
        "df_train = pd.read_csv(train_data)\n",
        "X_train = df_train.drop(\"label\",axis=1).values\n",
        "y_train = df_train.label.values\n",
        "print(X_train.shape)\n",
        "\n",
        "# test data\n",
        "df_test = pd.read_csv(test_data)\n",
        "X_test = df_test.drop(\"label\",axis=1).values\n",
        "y_test = df_test.label.values\n",
        "print(X_test.shape)"
      ],
      "execution_count": 17,
      "outputs": [
        {
          "output_type": "stream",
          "name": "stdout",
          "text": [
            "(60000, 784)\n",
            "(10000, 784)\n"
          ]
        }
      ]
    },
    {
      "cell_type": "markdown",
      "metadata": {
        "id": "yfF1vRC9Bj0a"
      },
      "source": [
        "There are 60,000 training samples and 10,000 test samples, each is 784 bytes of information, i.e. a black and white 28 x 28 pixel image. Each pixel is a byte, with a value from 0 to 255 denoting the level of the greyscale."
      ]
    },
    {
      "cell_type": "code",
      "metadata": {
        "colab": {
          "base_uri": "https://localhost:8080/"
        },
        "id": "83ER_jxL_RrQ",
        "outputId": "8a43b408-0667-4894-fb8c-a17a14e98e7e"
      },
      "source": [
        "print (X_train[0])"
      ],
      "execution_count": 18,
      "outputs": [
        {
          "output_type": "stream",
          "name": "stdout",
          "text": [
            "[  0   0   0   0   0   0   0   0   0   0   0   0   0   0   0   0   0   0\n",
            "   0   0   0   0   0   0   0   0   0   0   0   0   0   0   0   0   0   0\n",
            "   0   0   0   0   0   0   0   0   0   0   0   0   0   0   0   0   0   0\n",
            "   0   0   0   0   0   0   0   0   0   0   0   0   0   0   0   0   0   0\n",
            "   0   0   0   0   0   0   0   0   0   0   0   0   0   0   0   0   0   0\n",
            "   0   0   0   0   0   0   0   0   0   0   0   0   0   0   0   0   0   0\n",
            "   0   0   0   0   0   0   0   0   0   0   0   0   0   0   0   0   0   0\n",
            "   0   0   0   0   0   0   0   0   0   0   0   0   0   0   0   0   0   0\n",
            "   0   0   0   0   0   0   0   0   3  18  18  18 126 136 175  26 166 255\n",
            " 247 127   0   0   0   0   0   0   0   0   0   0   0   0  30  36  94 154\n",
            " 170 253 253 253 253 253 225 172 253 242 195  64   0   0   0   0   0   0\n",
            "   0   0   0   0   0  49 238 253 253 253 253 253 253 253 253 251  93  82\n",
            "  82  56  39   0   0   0   0   0   0   0   0   0   0   0   0  18 219 253\n",
            " 253 253 253 253 198 182 247 241   0   0   0   0   0   0   0   0   0   0\n",
            "   0   0   0   0   0   0   0   0  80 156 107 253 253 205  11   0  43 154\n",
            "   0   0   0   0   0   0   0   0   0   0   0   0   0   0   0   0   0   0\n",
            "   0  14   1 154 253  90   0   0   0   0   0   0   0   0   0   0   0   0\n",
            "   0   0   0   0   0   0   0   0   0   0   0   0   0 139 253 190   2   0\n",
            "   0   0   0   0   0   0   0   0   0   0   0   0   0   0   0   0   0   0\n",
            "   0   0   0   0   0  11 190 253  70   0   0   0   0   0   0   0   0   0\n",
            "   0   0   0   0   0   0   0   0   0   0   0   0   0   0   0   0  35 241\n",
            " 225 160 108   1   0   0   0   0   0   0   0   0   0   0   0   0   0   0\n",
            "   0   0   0   0   0   0   0   0   0  81 240 253 253 119  25   0   0   0\n",
            "   0   0   0   0   0   0   0   0   0   0   0   0   0   0   0   0   0   0\n",
            "   0   0  45 186 253 253 150  27   0   0   0   0   0   0   0   0   0   0\n",
            "   0   0   0   0   0   0   0   0   0   0   0   0   0  16  93 252 253 187\n",
            "   0   0   0   0   0   0   0   0   0   0   0   0   0   0   0   0   0   0\n",
            "   0   0   0   0   0   0   0 249 253 249  64   0   0   0   0   0   0   0\n",
            "   0   0   0   0   0   0   0   0   0   0   0   0   0   0  46 130 183 253\n",
            " 253 207   2   0   0   0   0   0   0   0   0   0   0   0   0   0   0   0\n",
            "   0   0   0   0  39 148 229 253 253 253 250 182   0   0   0   0   0   0\n",
            "   0   0   0   0   0   0   0   0   0   0   0   0  24 114 221 253 253 253\n",
            " 253 201  78   0   0   0   0   0   0   0   0   0   0   0   0   0   0   0\n",
            "   0   0  23  66 213 253 253 253 253 198  81   2   0   0   0   0   0   0\n",
            "   0   0   0   0   0   0   0   0   0   0  18 171 219 253 253 253 253 195\n",
            "  80   9   0   0   0   0   0   0   0   0   0   0   0   0   0   0   0   0\n",
            "  55 172 226 253 253 253 253 244 133  11   0   0   0   0   0   0   0   0\n",
            "   0   0   0   0   0   0   0   0   0   0 136 253 253 253 212 135 132  16\n",
            "   0   0   0   0   0   0   0   0   0   0   0   0   0   0   0   0   0   0\n",
            "   0   0   0   0   0   0   0   0   0   0   0   0   0   0   0   0   0   0\n",
            "   0   0   0   0   0   0   0   0   0   0   0   0   0   0   0   0   0   0\n",
            "   0   0   0   0   0   0   0   0   0   0   0   0   0   0   0   0   0   0\n",
            "   0   0   0   0   0   0   0   0   0   0   0   0   0   0   0   0   0   0\n",
            "   0   0   0   0   0   0   0   0   0   0]\n"
          ]
        }
      ]
    },
    {
      "cell_type": "code",
      "metadata": {
        "colab": {
          "base_uri": "https://localhost:8080/"
        },
        "id": "O2ubJ_WoAqBh",
        "outputId": "02aabf6a-a5d2-4d5e-a316-54c308b7831a"
      },
      "source": [
        "# Normalizing the Inputs, i.e. converting the 0-255 range to 0-1 by dividing by 255:\n",
        "X_train = X_train/255\n",
        "X_test = X_test/255\n",
        "\n",
        "# Printing the new input range of values, i.e. checking the range of values is within 0 and 1:\n",
        "minv = np.min(X_train)\n",
        "maxv = np.max(X_train)\n",
        "print(minv,maxv)"
      ],
      "execution_count": 19,
      "outputs": [
        {
          "output_type": "stream",
          "name": "stdout",
          "text": [
            "0.0 1.0\n"
          ]
        }
      ]
    },
    {
      "cell_type": "markdown",
      "metadata": {
        "id": "SR6HpkWndHSe"
      },
      "source": [
        "### Description of Data:"
      ]
    },
    {
      "cell_type": "code",
      "metadata": {
        "colab": {
          "base_uri": "https://localhost:8080/"
        },
        "id": "sibN1Vv1dHSf",
        "outputId": "7edb253e-0914-4422-c65d-c8a784a73e5f"
      },
      "source": [
        "# Number of examples\n",
        "n_train =  len(X_train)\n",
        "n_test =  len(X_test)\n",
        "\n",
        "# Shape of an traffic sign image\n",
        "image_shape = X_train.shape[1]\n",
        "\n",
        "# unique classes/labels in the training dataset.\n",
        "alltotal = set(y_train)\n",
        "n_classes = len(alltotal)\n",
        "\n",
        "print(\"Number of Training examples =\", n_train)\n",
        "print(\"Number of Test examples =\", n_test)\n",
        "print(\"Image input shape =\", image_shape)\n",
        "print(\"Number of classes =\", n_classes)"
      ],
      "execution_count": 20,
      "outputs": [
        {
          "output_type": "stream",
          "name": "stdout",
          "text": [
            "Number of Training examples = 60000\n",
            "Number of Test examples = 10000\n",
            "Image input shape = 784\n",
            "Number of classes = 10\n"
          ]
        }
      ]
    },
    {
      "cell_type": "markdown",
      "metadata": {
        "id": "ok81tnjRCQWg"
      },
      "source": [
        "The classes are the different classification results, i.e. with the handwritten digits it's 0 to 9, or 10 different classes."
      ]
    },
    {
      "cell_type": "markdown",
      "metadata": {
        "id": "6HQDSvrRKZF6"
      },
      "source": [
        "### Class Distribution:"
      ]
    },
    {
      "cell_type": "code",
      "metadata": {
        "id": "XG8GdlpBKdCt",
        "colab": {
          "base_uri": "https://localhost:8080/",
          "height": 295
        },
        "outputId": "50596512-ff11-4fac-b496-65450a7766c5"
      },
      "source": [
        "fig, ax = plt.subplots()\n",
        "ind = np.arange(n_classes)\n",
        "\n",
        "n, bins, patches = ax.hist(y_train, n_classes)\n",
        "ax.set_xlabel('classes')\n",
        "ax.set_ylabel('counts')\n",
        "ax.set_title(r'Histogram of Digit images')\n",
        "plt.show()"
      ],
      "execution_count": 21,
      "outputs": [
        {
          "output_type": "display_data",
          "data": {
            "image/png": "[encoded data removed]",
            "text/plain": [
              "<Figure size 432x288 with 1 Axes>"
            ]
          },
          "metadata": {
            "needs_background": "light"
          }
        }
      ]
    },
    {
      "cell_type": "markdown",
      "metadata": {
        "id": "S41tSVKtCZ2h"
      },
      "source": [
        "We see there are slightly more ones than other samples. If these digits are for example from postcodes, one is the lowest non-zero digit; some streets are small and so might reach to house number 20, i.e. would have 10-19, so there are more ones than other digits."
      ]
    },
    {
      "cell_type": "markdown",
      "metadata": {
        "id": "EyLWw3nsLCtk"
      },
      "source": [
        "## Downsampling"
      ]
    },
    {
      "cell_type": "markdown",
      "metadata": {
        "id": "2U1lFEwhLKBf"
      },
      "source": [
        "### Randomly selecting 3 of the 10 Digit Classes"
      ]
    },
    {
      "cell_type": "code",
      "metadata": {
        "id": "0EeRZZWdLRPT",
        "colab": {
          "base_uri": "https://localhost:8080/"
        },
        "outputId": "4ede6fe9-271b-4887-fbf4-94733f571bef"
      },
      "source": [
        "# We select the number of Classes we want:\n",
        "n_classes = 3\n",
        "\n",
        "# Empty list to append the random digit classes we select:\n",
        "classes = []\n",
        "\n",
        "# We select 3 digits at random and make sure they are unique:\n",
        "while len(classes) < n_classes:\n",
        "    \n",
        "    # Randomly drawing a digit from 0-9:\n",
        "    num2choose = np.random.randint(0,10)\n",
        "\n",
        "    # Append the digit if it's not already in our list of classes:\n",
        "    if num2choose not in classes: \n",
        "        classes.append(num2choose)\n",
        "        \n",
        "        \n",
        "# Sorting the Classes smallest to largest    \n",
        "classes.sort()\n",
        "# print classes selected\n",
        "print (classes)"
      ],
      "execution_count": 22,
      "outputs": [
        {
          "output_type": "stream",
          "name": "stdout",
          "text": [
            "[1, 2, 6]\n"
          ]
        }
      ]
    },
    {
      "cell_type": "code",
      "metadata": {
        "id": "2M8R5NqKMB_M",
        "colab": {
          "base_uri": "https://localhost:8080/"
        },
        "outputId": "f3f8cafc-055b-4adb-fac8-bd021ed09ea5"
      },
      "source": [
        "# The number of instances we'll keep for each of our 3 digits:\n",
        "inst_class = 5000\n",
        "inputs = []\n",
        "labels = []\n",
        "\n",
        "# Loop to randomly sample the instances for each digit:\n",
        "for r in classes:\n",
        "    imgs = X_train[np.where(y_train==r)[0],:]\n",
        "    inputs.append(imgs[np.random.permutation(imgs.shape[0]),:][0:inst_class,:])\n",
        "    labels.append(np.ones(inst_class)*r)\n",
        "    \n",
        "# Shaping inputs and labels in the right format    \n",
        "X_train = np.vstack(inputs).astype(np.float64)\n",
        "y_train = np.hstack(labels)\n",
        "print (X_train,y_train)\n",
        "print (X_train.shape,y_train.shape)"
      ],
      "execution_count": 23,
      "outputs": [
        {
          "output_type": "stream",
          "name": "stdout",
          "text": [
            "[[0. 0. 0. ... 0. 0. 0.]\n",
            " [0. 0. 0. ... 0. 0. 0.]\n",
            " [0. 0. 0. ... 0. 0. 0.]\n",
            " ...\n",
            " [0. 0. 0. ... 0. 0. 0.]\n",
            " [0. 0. 0. ... 0. 0. 0.]\n",
            " [0. 0. 0. ... 0. 0. 0.]] [1. 1. 1. ... 6. 6. 6.]\n",
            "(15000, 784) (15000,)\n"
          ]
        }
      ]
    },
    {
      "cell_type": "markdown",
      "metadata": {
        "id": "_6-YHrQQMicy"
      },
      "source": [
        "New Classes Distribution"
      ]
    },
    {
      "cell_type": "code",
      "metadata": {
        "id": "RA300COaMxWm"
      },
      "source": [
        "# new histogram"
      ],
      "execution_count": 24,
      "outputs": []
    },
    {
      "cell_type": "code",
      "metadata": {
        "id": "eFgP4xugMvJm"
      },
      "source": [
        "# plot digits\n",
        "def plot_digits(instances, images_per_row=5, **options):\n",
        "    size = 28\n",
        "    images_per_row = min(len(instances), images_per_row)\n",
        "    images = [instance.reshape(size,size) for instance in instances]\n",
        "    n_rows = (len(instances) - 1) // images_per_row + 1\n",
        "    row_images = []\n",
        "    n_empty = n_rows * images_per_row - len(instances)\n",
        "    images.append(np.zeros((size, size * n_empty)))\n",
        "    for row in range(n_rows):\n",
        "        rimages = images[row * images_per_row : (row + 1) * images_per_row]\n",
        "        row_images.append(np.concatenate(rimages, axis=1))\n",
        "    image = np.concatenate(row_images, axis=0)\n",
        "    plt.imshow(image,  cmap='gist_yarg', **options)\n",
        "    plt.axis(\"off\")"
      ],
      "execution_count": 25,
      "outputs": []
    },
    {
      "cell_type": "code",
      "metadata": {
        "id": "zeEG-LGOM4fJ",
        "colab": {
          "base_uri": "https://localhost:8080/",
          "height": 243
        },
        "outputId": "4693ec32-8c1b-47a8-841a-aaa1e7377a91"
      },
      "source": [
        "# Show a few instances from each Digit:\n",
        "plt.figure(figsize=(8,8))\n",
        "label_indices = []\n",
        "# Selecting a few label indices from each of the 3 classes to show:\n",
        "for i in range(10):\n",
        "    # take index randomly chosen\n",
        "    label_indices.append(random.randint(0, len(X_train)))\n",
        "#    print (label_indices)\n",
        "    # choose the image according to the index\n",
        "    image = X_train[label_indices[i] - 1]\n",
        "#    axs[i].axis('off')\n",
        "    # show the image\n",
        "#    axs[i].imshow(image)\n",
        "    # give a meaningful title\n",
        "#    axs[i].set_title('image #' + str(y_train[label_indices]))\n",
        "\n",
        "# Plotting 'original' image\n",
        "plot_digits(X_train[label_indices],images_per_row=5)\n",
        "plt.title(\"Original\", fontsize=14)"
      ],
      "execution_count": 26,
      "outputs": [
        {
          "output_type": "execute_result",
          "data": {
            "text/plain": [
              "Text(0.5, 1.0, 'Original')"
            ]
          },
          "metadata": {},
          "execution_count": 26
        },
        {
          "output_type": "display_data",
          "data": {
            "image/png": "[encoded data removed]",
            "text/plain": [
              "<Figure size 576x576 with 1 Axes>"
            ]
          },
          "metadata": {
            "needs_background": "light"
          }
        }
      ]
    },
    {
      "cell_type": "code",
      "metadata": {
        "colab": {
          "base_uri": "https://localhost:8080/"
        },
        "id": "HFz5lrH7GLNR",
        "outputId": "646ade95-3331-47b6-955f-8b3e37b4c8cd"
      },
      "source": [
        "print (label_indices)"
      ],
      "execution_count": 27,
      "outputs": [
        {
          "output_type": "stream",
          "name": "stdout",
          "text": [
            "[3126, 4236, 13361, 14914, 7302, 8953, 1268, 6274, 2582, 5656]\n"
          ]
        }
      ]
    },
    {
      "cell_type": "markdown",
      "metadata": {
        "id": "FsAOnOcNNG_V"
      },
      "source": [
        "###  Splitting the Training data into both Training and Validation Sets:\n",
        "\n",
        "- Although this is the Training set, we can still set aside some samples (for instance 20%) of the 1,500 instances we have for Model Validation purposes.\n",
        "\n",
        "\n",
        "- With that Validation Set, we can then select the amount of Uncertainty we are happy with from our Model to use out of sample on other unseen data.\n",
        "\n",
        "\n",
        "- We can then test out how well our decision performs on the Test Set that we put aside earlier."
      ]
    },
    {
      "cell_type": "code",
      "metadata": {
        "id": "YdsmyVAtPXNn"
      },
      "source": [
        "### Split tha dataset in training and validation sets\n",
        "# choose the fraction of your validation data from the training set\n",
        "w = 0.20\n",
        "X_train, X_val, y_train, y_val = train_test_split(X_train, y_train, test_size=w, random_state=0)\n",
        " \n",
        "# Shuffling the training instaces around to randomize the order of inputs to the model:\n",
        "X_train, y_train = shuffle(X_train, y_train)"
      ],
      "execution_count": 28,
      "outputs": []
    },
    {
      "cell_type": "code",
      "metadata": {
        "id": "qXwJwP0iPxhi",
        "colab": {
          "base_uri": "https://localhost:8080/"
        },
        "outputId": "ff2d98ca-63ef-43dc-d2af-9d1deeecf5bb"
      },
      "source": [
        "# print shape of your validation and training set\n",
        "\n",
        "print (X_train.shape,y_train.shape)\n",
        "print (X_val.shape,y_val.shape)\n"
      ],
      "execution_count": 29,
      "outputs": [
        {
          "output_type": "stream",
          "name": "stdout",
          "text": [
            "(12000, 784) (12000,)\n",
            "(3000, 784) (3000,)\n"
          ]
        }
      ]
    },
    {
      "cell_type": "markdown",
      "metadata": {
        "id": "aOroY1QoP8DY"
      },
      "source": [
        "### Encoding the Class labels for the Probabilistic ML Model:\n",
        "\n",
        "This is an example:\n",
        "\n",
        "- **[1,0,0]** for first digit\n",
        "- **[0,1,0]** for second digit\n",
        "- **[0,0,1]** for third digit"
      ]
    },
    {
      "cell_type": "code",
      "metadata": {
        "colab": {
          "base_uri": "https://localhost:8080/"
        },
        "id": "GffZA3EnbqmK",
        "outputId": "bbcc4ce6-01a3-43af-a82f-e3574b9234ce"
      },
      "source": [
        "import sklearn.preprocessing\n",
        "y_2_bin = sklearn.preprocessing.LabelBinarizer().fit_transform(y_train.reshape(-1,1))\n",
        "np.set_printoptions(threshold=100)\n",
        "y_2_bin\n",
        "#y_2_bin.shape"
      ],
      "execution_count": 30,
      "outputs": [
        {
          "output_type": "execute_result",
          "data": {
            "text/plain": [
              "array([[0, 0, 1],\n",
              "       [0, 0, 1],\n",
              "       [0, 0, 1],\n",
              "       ...,\n",
              "       [0, 0, 1],\n",
              "       [1, 0, 0],\n",
              "       [0, 0, 1]])"
            ]
          },
          "metadata": {},
          "execution_count": 30
        }
      ]
    },
    {
      "cell_type": "markdown",
      "metadata": {
        "id": "rjUaqWTqQIcp"
      },
      "source": [
        "### General-Recipe ML"
      ]
    },
    {
      "cell_type": "code",
      "metadata": {
        "id": "QzgdivxfQNv5",
        "colab": {
          "base_uri": "https://localhost:8080/"
        },
        "outputId": "46fe58b9-635f-4f3c-c7d4-91e72d4fdb26"
      },
      "source": [
        "# model\n",
        "model_log = LogisticRegression(random_state=0, max_iter=2000, C=100, solver='lbfgs', multi_class='multinomial').fit(X_train, y_train)\n",
        "\n",
        "# Classification:\n",
        "y_pred_log = model_log.predict(X_val)\n",
        "y_pred_logi_prob = model_log.predict_proba(X_val)\n",
        "\n",
        "# Maybe taking the maximum probability \n",
        "# in any of the classes for each observation\n",
        "prob_classmax = np.max(y_pred_logi_prob,axis=1)\n",
        "\n",
        "# Computing the Accuracy:\n",
        "accuracy_score(y_pred_log, y_val)"
      ],
      "execution_count": 31,
      "outputs": [
        {
          "output_type": "execute_result",
          "data": {
            "text/plain": [
              "0.974"
            ]
          },
          "metadata": {},
          "execution_count": 31
        }
      ]
    },
    {
      "cell_type": "code",
      "metadata": {
        "colab": {
          "base_uri": "https://localhost:8080/"
        },
        "id": "Dk1dVq5BPo7S",
        "outputId": "09cca26c-5cdc-4150-92f4-03b41b809882"
      },
      "source": [
        "#np.set_printoptions(threshold=np.inf)\n",
        "np.sort(prob_classmax)"
      ],
      "execution_count": 32,
      "outputs": [
        {
          "output_type": "execute_result",
          "data": {
            "text/plain": [
              "array([0.42760129, 0.5127126 , 0.5178678 , ..., 1.        , 1.        ,\n",
              "       1.        ])"
            ]
          },
          "metadata": {},
          "execution_count": 32
        }
      ]
    },
    {
      "cell_type": "code",
      "metadata": {
        "colab": {
          "base_uri": "https://localhost:8080/"
        },
        "id": "AiF4s5l_ZaCD",
        "outputId": "86537360-a9e5-4c1a-dd6a-2efbcf63d3f1"
      },
      "source": [
        "prob_classmax[y_pred_log!=y_val]\n",
        "prob_classmax[y_pred_log!=y_val].shape"
      ],
      "execution_count": 33,
      "outputs": [
        {
          "output_type": "execute_result",
          "data": {
            "text/plain": [
              "(78,)"
            ]
          },
          "metadata": {},
          "execution_count": 33
        }
      ]
    },
    {
      "cell_type": "markdown",
      "metadata": {
        "id": "pDiLWIu0ZoDT"
      },
      "source": [
        "There are 78 cases where the wrong result was selected."
      ]
    },
    {
      "cell_type": "code",
      "metadata": {
        "colab": {
          "base_uri": "https://localhost:8080/"
        },
        "id": "d97KE8epZ6hV",
        "outputId": "028237c8-3ef3-4f69-c7eb-eb7bf2b15f42"
      },
      "source": [
        "np.set_printoptions(threshold=np.inf)\n",
        "np.array(y_pred_log)\n",
        "np.array(y_pred_log).shape"
      ],
      "execution_count": 34,
      "outputs": [
        {
          "output_type": "execute_result",
          "data": {
            "text/plain": [
              "(3000,)"
            ]
          },
          "metadata": {},
          "execution_count": 34
        }
      ]
    },
    {
      "cell_type": "markdown",
      "metadata": {
        "id": "3uQG6JsOQxH5"
      },
      "source": [
        "### Probabilistic Multinomial Logistic Regression:"
      ]
    },
    {
      "cell_type": "markdown",
      "metadata": {
        "id": "irlmUNw7Q5YL"
      },
      "source": [
        "The Multinomial Logistic Regression has some parameters:\n",
        "\n",
        "- $\\alpha$, which is the intercept term:\n",
        "\n",
        "- $\\beta$, which is a vector of coefficients which give a weighting to the importance of each input feature:\n"
      ]
    },
    {
      "cell_type": "code",
      "metadata": {
        "id": "W3jzczJzRAtT"
      },
      "source": [
        "\n",
        "## We use LabelBinarizer to transfor classes into counts\n",
        "# neg_label=0, pos_label=1 \n",
        "nf = X_train.shape[1]\n",
        "# number of classes\n",
        "nc = len(classes)\n",
        "# floatX = float32\n",
        "floatX = tt.config.floatX\n",
        "\n",
        "init_b = np.random.randn(nf, nc-1).astype(floatX)\n",
        "init_a = np.random.randn(nc-1).astype(floatX)\n",
        "\n",
        "\n",
        "with pm.Model() as multi_logistic:\n",
        "    # Prior\n",
        "    β = pm.Normal('beta', 0, sigma=100, shape=(nf, nc-1), testval=init_b)\n",
        "    α = pm.Normal('alpha', 0, sigma=100, shape=(nc-1,), testval=init_a)\n",
        "    \n",
        "    # we need to consider nc-1 features because the model is not identifiable\n",
        "    # the softmax turns a vector into a probability that sums up to one\n",
        "    # therefore we add zeros to go back to dimension nc\n",
        "    # so that softmax returns a vector of dimension nc\n",
        "    β1  = tt.tensor.concatenate([np.zeros((nf,1)),β ],axis=1)\n",
        "    α1  = tt.tensor.concatenate([[0],α ],)\n",
        "    \n",
        "    # Likelihood\n",
        "    mu = pm.math.matrix_dot(X_train,β1) + α1\n",
        "    # It doesn't work if the problem is binary\n",
        "    p = tt.tensor.nnet.nnet.softmax(mu)\n",
        "    observed = pm.Multinomial('likelihood', p=p, n=1, observed=y_2_bin)\n"
      ],
      "execution_count": 35,
      "outputs": []
    },
    {
      "cell_type": "markdown",
      "metadata": {
        "id": "ocPL6mi6NAlG"
      },
      "source": [
        "α and β are given a normal distribution from 0 to 1 with sigma = 100."
      ]
    },
    {
      "cell_type": "code",
      "metadata": {
        "id": "1o7mbKWmRhz5",
        "colab": {
          "base_uri": "https://localhost:8080/",
          "height": 70
        },
        "outputId": "e3cb8bc0-09a6-4bd6-8f5c-e250b91e67e5"
      },
      "source": [
        "with multi_logistic:\n",
        "    #approx = pm.fit(300000, method='advi') # takes longer\n",
        "    approx = pm.fit(3000, method='advi')"
      ],
      "execution_count": 36,
      "outputs": [
        {
          "output_type": "stream",
          "name": "stderr",
          "text": [
            "WARNING (theano.tensor.blas): We did not find a dynamic library in the library_dir of the library we use for blas. If you use ATLAS, make sure to compile it with dynamics library.\n"
          ]
        },
        {
          "output_type": "display_data",
          "data": {
            "text/html": [
              "\n",
              "    <div>\n",
              "        <style>\n",
              "            /* Turns off some styling */\n",
              "            progress {\n",
              "                /* gets rid of default border in Firefox and Opera. */\n",
              "                border: none;\n",
              "                /* Needs to be in here for Safari polyfill so background images work as expected. */\n",
              "                background-size: auto;\n",
              "            }\n",
              "            .progress-bar-interrupted, .progress-bar-interrupted::-webkit-progress-bar {\n",
              "                background: #F44336;\n",
              "            }\n",
              "        </style>\n",
              "      <progress value='3000' class='' max='3000' style='width:300px; height:20px; vertical-align: middle;'></progress>\n",
              "      100.00% [3000/3000 02:54<00:00 Average Loss = 17,835]\n",
              "    </div>\n",
              "    "
            ],
            "text/plain": [
              "<IPython.core.display.HTML object>"
            ]
          },
          "metadata": {}
        },
        {
          "output_type": "stream",
          "name": "stderr",
          "text": [
            "Finished [100%]: Average Loss = 17,750\n"
          ]
        }
      ]
    },
    {
      "cell_type": "code",
      "metadata": {
        "id": "aj6Uzc05Rhtr",
        "colab": {
          "base_uri": "https://localhost:8080/",
          "height": 265
        },
        "outputId": "cd094e41-35b9-40a4-8acd-2a7cf5aaab35"
      },
      "source": [
        "plt.plot(approx.hist)\n",
        "plt.show()"
      ],
      "execution_count": 37,
      "outputs": [
        {
          "output_type": "display_data",
          "data": {
            "image/png": "[encoded data removed]",
            "text/plain": [
              "<Figure size 432x288 with 1 Axes>"
            ]
          },
          "metadata": {
            "needs_background": "light"
          }
        }
      ]
    },
    {
      "cell_type": "code",
      "metadata": {
        "id": "2MFH4gwlRhrB"
      },
      "source": [
        "dd = 300\n",
        "posterior = approx.sample(draws=dd)"
      ],
      "execution_count": 38,
      "outputs": []
    },
    {
      "cell_type": "code",
      "metadata": {
        "id": "WNmJvYc4Rho7",
        "colab": {
          "base_uri": "https://localhost:8080/",
          "height": 243
        },
        "outputId": "ab5540e9-7aaf-4661-f173-de7e0368ed21"
      },
      "source": [
        "## The softmax function transforms each element of a collection by computing the exponential\n",
        "#  of each element divided by the sum of the exponentials of all the elements.\n",
        "from scipy.special import softmax\n",
        "\n",
        "#select an image in the test set\n",
        "i = 10 \n",
        "#i = random.randint(0, dd)\n",
        "\n",
        "#select a sample in the posterior\n",
        "s = 100 \n",
        "#s = random.randint(0, dd)\n",
        "\n",
        "\n",
        "beta  = np.hstack([np.zeros((nf,1)),  posterior['beta'][s,:] ])\n",
        "alpha = np.hstack([[0],  posterior['alpha'][s,:] ])\n",
        "image = X_val[i,:].reshape(28,28)\n",
        "plt.figure(figsize=(2,2))\n",
        "plt.imshow(image,cmap=\"Greys_r\")\n",
        "np.set_printoptions(suppress=True)\n",
        "\n",
        "print(\"test image #\" + str(i))\n",
        "print(\"posterior sample #\" + str(s))\n",
        "print(\"true class=\", y_val[i])\n",
        "print(\"classes: \" + str(classes))\n",
        "print(\"estimated prob=\",softmax((np.array([X_val[i,:].dot(beta) + alpha])))[0,:])"
      ],
      "execution_count": 39,
      "outputs": [
        {
          "output_type": "stream",
          "name": "stdout",
          "text": [
            "test image #10\n",
            "posterior sample #100\n",
            "true class= 6.0\n",
            "classes: [1, 2, 6]\n",
            "estimated prob= [0. 1. 0.]\n"
          ]
        },
        {
          "output_type": "display_data",
          "data": {
            "image/png": "[encoded data removed]",
            "text/plain": [
              "<Figure size 144x144 with 1 Axes>"
            ]
          },
          "metadata": {
            "needs_background": "light"
          }
        }
      ]
    },
    {
      "cell_type": "markdown",
      "metadata": {
        "id": "49BF0CHUMRWE"
      },
      "source": [
        "The test image example given clearly shows the reason that the example was misclassified; the digit '6' in this case is written on it's side. In order to catch such cases like this in ML, a rotation filter in a CNN could be used, which rotates each sample through 90 degrees in both directions and adds the resulting images to the sample space. However this is beyond the scope of the exercise."
      ]
    },
    {
      "cell_type": "code",
      "metadata": {
        "id": "XXh5GXJsRhmr"
      },
      "source": [
        "# Bayesian prediction\n",
        "# return the class that has the highest posterior probability\n",
        "y_pred_Bayesian=[]\n",
        "\n",
        "for i in range(X_val.shape[0]):\n",
        "    val=np.zeros((1,len(classes)))\n",
        "    \n",
        "    for s in range(posterior['beta'].shape[0]):\n",
        "        beta = np.hstack([np.zeros((nf,1)),  posterior['beta'][s,:] ])\n",
        "        alpha = np.hstack([[0],  posterior['alpha'][s,:] ])     \n",
        "        val = val + softmax((np.array([X_val[i,:].dot(beta) + alpha])))\n",
        "    \n",
        "    mean_probability = val/posterior['beta'].shape[0]\n",
        "    y_pred_Bayesian.append( np.argmax(mean_probability))\n"
      ],
      "execution_count": 40,
      "outputs": []
    },
    {
      "cell_type": "code",
      "metadata": {
        "colab": {
          "base_uri": "https://localhost:8080/"
        },
        "id": "__V7v0G3cyzx",
        "outputId": "f345e224-a337-41ee-ced6-03516e2b9eae"
      },
      "source": [
        "print(y_pred_Bayesian)"
      ],
      "execution_count": 41,
      "outputs": [
        {
          "output_type": "stream",
          "name": "stdout",
          "text": [
            "[0, 2, 2, 0, 1, 0, 2, 2, 1, 0, 1, 1, 0, 2, 0, 2, 0, 2, 2, 1, 2, 2, 1, 0, 0, 0, 2, 1, 1, 1, 1, 2, 1, 0, 2, 1, 2, 1, 2, 1, 2, 1, 2, 2, 0, 2, 1, 2, 2, 2, 2, 2, 1, 0, 1, 0, 0, 0, 2, 1, 2, 2, 1, 1, 2, 2, 1, 1, 2, 0, 2, 0, 1, 0, 2, 2, 1, 2, 1, 2, 2, 0, 0, 1, 2, 2, 2, 2, 1, 1, 2, 0, 0, 1, 2, 0, 2, 2, 0, 1, 1, 0, 1, 2, 2, 1, 0, 2, 2, 0, 2, 2, 1, 1, 1, 1, 2, 0, 1, 2, 2, 1, 0, 2, 0, 0, 0, 0, 2, 2, 1, 1, 1, 2, 2, 1, 2, 0, 1, 0, 1, 2, 1, 1, 0, 1, 0, 1, 1, 0, 0, 1, 1, 2, 2, 1, 2, 0, 0, 1, 0, 1, 2, 0, 0, 0, 1, 1, 2, 1, 2, 2, 1, 2, 0, 2, 1, 1, 2, 1, 2, 2, 2, 0, 0, 2, 2, 1, 2, 2, 0, 2, 2, 2, 1, 0, 0, 0, 2, 1, 1, 2, 1, 1, 2, 0, 2, 1, 2, 1, 2, 1, 0, 1, 0, 0, 2, 0, 1, 0, 1, 2, 2, 0, 0, 2, 2, 2, 2, 2, 1, 2, 1, 0, 2, 0, 0, 2, 1, 2, 1, 2, 2, 2, 2, 0, 1, 0, 0, 0, 1, 1, 1, 2, 2, 2, 1, 2, 2, 1, 2, 2, 0, 1, 2, 1, 1, 1, 0, 1, 0, 0, 2, 2, 2, 1, 2, 0, 0, 2, 2, 0, 1, 1, 0, 2, 0, 2, 1, 1, 0, 0, 1, 2, 0, 0, 1, 1, 1, 1, 0, 0, 2, 1, 1, 1, 2, 1, 0, 0, 0, 2, 0, 2, 2, 2, 0, 1, 0, 0, 2, 1, 2, 0, 2, 1, 2, 1, 1, 2, 1, 2, 2, 0, 0, 0, 2, 2, 2, 1, 2, 1, 1, 2, 1, 0, 0, 2, 1, 0, 0, 1, 2, 0, 2, 2, 2, 2, 0, 0, 0, 1, 1, 0, 0, 0, 0, 2, 0, 1, 0, 2, 0, 0, 2, 1, 1, 0, 0, 1, 2, 0, 2, 0, 2, 1, 2, 2, 2, 2, 1, 0, 0, 2, 2, 0, 0, 2, 1, 1, 2, 0, 0, 0, 0, 1, 0, 1, 1, 2, 0, 1, 0, 0, 1, 0, 2, 0, 2, 0, 1, 0, 1, 1, 1, 1, 0, 1, 1, 2, 1, 1, 1, 1, 0, 0, 2, 0, 1, 1, 2, 0, 1, 1, 1, 2, 2, 0, 1, 1, 2, 1, 2, 2, 0, 2, 1, 0, 2, 2, 2, 2, 1, 0, 0, 1, 0, 0, 0, 2, 0, 0, 2, 2, 2, 2, 1, 0, 2, 0, 1, 2, 1, 1, 1, 0, 2, 1, 2, 1, 2, 0, 0, 0, 1, 2, 1, 2, 0, 2, 2, 1, 1, 1, 2, 0, 1, 0, 2, 0, 2, 2, 0, 0, 2, 2, 0, 2, 1, 2, 1, 2, 1, 1, 1, 0, 0, 1, 1, 2, 1, 0, 2, 2, 2, 2, 1, 2, 2, 2, 1, 2, 1, 0, 0, 0, 1, 2, 0, 1, 2, 2, 2, 2, 0, 1, 1, 1, 1, 0, 1, 1, 0, 1, 0, 2, 0, 1, 2, 2, 0, 2, 0, 1, 0, 1, 2, 0, 2, 1, 2, 2, 2, 0, 2, 2, 1, 2, 0, 2, 1, 1, 0, 2, 0, 1, 1, 1, 0, 2, 0, 2, 1, 1, 0, 0, 0, 1, 2, 0, 2, 0, 1, 1, 0, 0, 0, 2, 0, 2, 1, 0, 2, 1, 2, 0, 0, 2, 1, 0, 2, 0, 2, 2, 1, 1, 1, 0, 0, 0, 1, 1, 0, 2, 0, 1, 1, 0, 2, 1, 1, 0, 2, 1, 2, 2, 1, 2, 1, 2, 2, 1, 0, 1, 1, 1, 2, 1, 2, 1, 2, 2, 1, 1, 2, 2, 1, 1, 0, 2, 2, 1, 1, 0, 0, 1, 2, 1, 0, 0, 2, 1, 0, 2, 2, 1, 0, 2, 0, 1, 1, 2, 0, 2, 2, 1, 1, 0, 1, 1, 2, 2, 1, 0, 2, 0, 1, 1, 0, 1, 1, 1, 2, 0, 0, 0, 2, 1, 0, 2, 0, 1, 0, 2, 1, 2, 0, 0, 1, 1, 0, 1, 1, 0, 0, 2, 1, 2, 0, 0, 2, 1, 2, 2, 0, 2, 2, 1, 2, 0, 0, 1, 2, 2, 1, 0, 0, 0, 1, 0, 1, 0, 1, 2, 1, 0, 1, 1, 2, 0, 2, 0, 2, 1, 0, 2, 0, 2, 2, 0, 2, 0, 1, 2, 1, 1, 1, 2, 0, 0, 1, 2, 0, 0, 2, 2, 0, 0, 1, 1, 0, 0, 0, 2, 0, 2, 2, 2, 0, 0, 0, 0, 1, 2, 0, 1, 0, 2, 1, 2, 2, 2, 1, 0, 0, 1, 0, 1, 1, 2, 2, 2, 2, 0, 1, 1, 1, 1, 0, 2, 0, 2, 0, 0, 1, 2, 0, 2, 0, 2, 0, 2, 0, 1, 1, 1, 0, 1, 0, 2, 2, 2, 1, 2, 0, 0, 0, 0, 1, 2, 0, 2, 2, 1, 2, 1, 0, 1, 1, 1, 2, 1, 2, 2, 1, 0, 1, 1, 0, 2, 0, 0, 0, 2, 2, 1, 0, 1, 0, 0, 0, 1, 0, 2, 0, 0, 0, 1, 1, 1, 1, 2, 2, 2, 0, 1, 2, 0, 0, 2, 0, 2, 2, 0, 0, 2, 1, 2, 2, 2, 0, 2, 2, 0, 0, 1, 1, 2, 2, 2, 1, 2, 2, 1, 0, 0, 0, 2, 2, 2, 1, 1, 1, 2, 0, 2, 1, 1, 0, 0, 1, 0, 0, 1, 0, 0, 2, 0, 0, 1, 2, 1, 2, 0, 2, 0, 1, 1, 1, 2, 2, 0, 2, 0, 1, 2, 2, 0, 1, 0, 0, 0, 0, 2, 1, 2, 0, 0, 2, 0, 0, 0, 1, 2, 0, 1, 2, 2, 2, 2, 0, 1, 1, 0, 0, 2, 1, 0, 1, 0, 0, 1, 1, 2, 2, 0, 1, 1, 0, 0, 2, 0, 1, 2, 2, 0, 0, 2, 1, 1, 1, 1, 1, 0, 1, 1, 1, 2, 1, 0, 0, 2, 0, 0, 0, 2, 1, 0, 2, 2, 2, 1, 0, 0, 1, 1, 1, 2, 2, 1, 2, 0, 0, 2, 2, 1, 0, 0, 2, 0, 1, 1, 2, 2, 2, 0, 2, 0, 2, 1, 2, 2, 2, 2, 1, 1, 1, 1, 2, 1, 2, 2, 0, 0, 2, 0, 2, 1, 2, 1, 0, 2, 1, 1, 1, 2, 1, 1, 2, 2, 0, 1, 0, 0, 1, 2, 1, 1, 2, 0, 1, 1, 2, 0, 2, 2, 1, 2, 0, 0, 0, 1, 2, 1, 0, 2, 1, 1, 1, 1, 0, 2, 0, 1, 0, 2, 2, 0, 0, 0, 0, 2, 1, 1, 1, 2, 2, 2, 1, 1, 2, 2, 1, 1, 1, 0, 1, 2, 2, 0, 1, 0, 0, 1, 2, 0, 0, 2, 1, 2, 2, 0, 2, 1, 2, 2, 2, 0, 2, 2, 1, 2, 2, 1, 0, 2, 2, 2, 1, 1, 2, 2, 2, 2, 2, 1, 0, 2, 0, 2, 0, 0, 0, 2, 2, 2, 1, 0, 2, 1, 0, 2, 0, 1, 1, 0, 1, 1, 2, 1, 2, 1, 2, 0, 1, 1, 2, 2, 2, 0, 2, 0, 0, 2, 0, 0, 1, 0, 2, 0, 2, 1, 0, 1, 2, 2, 0, 2, 2, 0, 0, 0, 2, 2, 1, 2, 2, 1, 2, 2, 0, 2, 2, 1, 2, 0, 1, 0, 1, 1, 0, 2, 1, 0, 2, 1, 2, 2, 0, 2, 2, 1, 2, 2, 1, 1, 2, 2, 0, 0, 2, 2, 2, 1, 0, 2, 2, 2, 1, 1, 0, 1, 0, 2, 2, 0, 2, 1, 1, 0, 0, 1, 2, 1, 1, 0, 1, 1, 0, 0, 1, 0, 1, 2, 0, 0, 1, 1, 0, 0, 1, 1, 0, 2, 2, 2, 0, 2, 2, 1, 0, 1, 2, 0, 0, 2, 2, 2, 1, 2, 1, 1, 0, 1, 1, 1, 2, 0, 0, 2, 1, 0, 2, 0, 2, 1, 2, 2, 1, 0, 2, 0, 0, 0, 0, 2, 1, 0, 0, 2, 2, 0, 2, 0, 1, 0, 1, 1, 0, 1, 1, 1, 0, 1, 2, 0, 0, 2, 2, 2, 1, 1, 1, 1, 2, 0, 1, 2, 0, 1, 1, 0, 1, 0, 0, 1, 0, 0, 2, 0, 1, 0, 0, 1, 1, 2, 1, 2, 0, 2, 1, 0, 1, 0, 2, 2, 0, 2, 1, 2, 2, 0, 1, 0, 1, 1, 0, 1, 0, 1, 1, 0, 0, 2, 0, 1, 1, 1, 0, 2, 2, 2, 1, 0, 1, 0, 0, 1, 2, 0, 0, 2, 2, 2, 2, 2, 2, 0, 1, 1, 0, 1, 0, 0, 0, 1, 0, 0, 1, 0, 2, 1, 2, 1, 0, 0, 2, 0, 1, 0, 0, 1, 2, 1, 0, 1, 1, 1, 1, 0, 1, 1, 1, 2, 0, 1, 0, 1, 0, 1, 0, 1, 0, 0, 1, 0, 0, 0, 1, 2, 0, 2, 1, 0, 2, 1, 0, 0, 0, 2, 0, 0, 2, 1, 0, 1, 0, 1, 0, 0, 2, 1, 2, 1, 1, 2, 1, 0, 0, 1, 0, 2, 1, 0, 2, 2, 0, 0, 2, 0, 1, 1, 2, 0, 0, 0, 0, 0, 2, 0, 2, 1, 2, 2, 0, 2, 1, 1, 1, 1, 2, 2, 0, 1, 0, 1, 2, 0, 1, 1, 0, 0, 1, 0, 2, 1, 1, 1, 0, 0, 2, 1, 2, 1, 1, 0, 1, 0, 0, 0, 1, 2, 1, 1, 0, 2, 0, 2, 1, 2, 1, 2, 2, 1, 2, 0, 2, 2, 0, 2, 2, 0, 2, 0, 0, 1, 2, 1, 2, 1, 0, 1, 1, 1, 0, 2, 2, 2, 0, 1, 0, 1, 1, 0, 0, 2, 2, 0, 0, 2, 2, 1, 1, 1, 0, 0, 1, 0, 1, 2, 1, 1, 0, 0, 1, 0, 1, 2, 0, 2, 2, 1, 1, 0, 1, 2, 2, 2, 0, 2, 1, 0, 0, 2, 0, 0, 2, 1, 1, 0, 2, 0, 0, 2, 2, 1, 1, 0, 2, 2, 2, 1, 0, 0, 0, 0, 0, 2, 1, 0, 0, 1, 0, 2, 2, 1, 1, 2, 1, 2, 2, 0, 0, 1, 1, 1, 2, 0, 0, 2, 2, 0, 1, 1, 2, 1, 2, 1, 0, 2, 2, 0, 2, 1, 1, 1, 2, 2, 1, 2, 0, 1, 1, 1, 1, 2, 1, 0, 0, 0, 0, 2, 1, 1, 1, 2, 2, 0, 0, 0, 1, 1, 2, 1, 2, 2, 2, 2, 0, 1, 1, 0, 0, 1, 2, 1, 2, 0, 1, 2, 1, 2, 2, 2, 2, 1, 1, 2, 2, 1, 0, 2, 0, 2, 2, 2, 1, 2, 1, 0, 2, 0, 1, 2, 1, 1, 0, 0, 1, 0, 2, 2, 2, 2, 2, 2, 2, 2, 0, 0, 1, 1, 2, 1, 1, 2, 2, 2, 0, 2, 1, 0, 2, 1, 1, 1, 2, 0, 1, 2, 0, 1, 2, 1, 1, 0, 0, 1, 2, 0, 1, 1, 2, 0, 2, 2, 2, 2, 0, 1, 0, 1, 2, 2, 1, 2, 1, 0, 1, 0, 0, 0, 1, 1, 1, 0, 0, 0, 2, 1, 2, 0, 1, 0, 1, 0, 0, 2, 0, 1, 2, 0, 1, 1, 2, 1, 0, 2, 0, 1, 2, 2, 0, 0, 0, 1, 2, 2, 1, 1, 0, 2, 0, 2, 1, 1, 1, 2, 2, 1, 2, 2, 1, 2, 2, 2, 0, 2, 2, 1, 0, 2, 1, 2, 1, 2, 1, 1, 2, 2, 0, 2, 0, 2, 0, 1, 1, 0, 0, 0, 0, 1, 2, 1, 0, 0, 2, 0, 0, 2, 0, 2, 1, 1, 2, 2, 1, 1, 0, 2, 1, 0, 0, 1, 2, 2, 2, 2, 2, 0, 0, 1, 0, 2, 0, 1, 1, 0, 2, 0, 1, 0, 2, 2, 2, 1, 1, 0, 1, 1, 1, 1, 2, 2, 1, 2, 2, 2, 1, 2, 2, 0, 2, 0, 2, 2, 1, 1, 1, 1, 2, 1, 1, 0, 2, 2, 0, 1, 0, 1, 1, 2, 2, 0, 1, 2, 0, 2, 1, 0, 1, 1, 0, 0, 0, 2, 1, 0, 0, 2, 0, 0, 0, 0, 2, 1, 1, 0, 1, 0, 2, 2, 1, 1, 2, 1, 0, 0, 1, 2, 2, 1, 2, 1, 1, 2, 0, 0, 2, 0, 0, 1, 2, 0, 2, 1, 1, 0, 2, 0, 0, 2, 0, 1, 0, 2, 0, 1, 2, 1, 1, 0, 0, 2, 0, 0, 0, 0, 0, 2, 1, 0, 2, 0, 2, 2, 0, 1, 0, 0, 1, 2, 2, 0, 1, 0, 0, 2, 2, 1, 2, 0, 0, 0, 1, 1, 2, 1, 0, 1, 1, 2, 2, 2, 0, 1, 0, 1, 0, 0, 2, 2, 1, 1, 1, 2, 0, 2, 2, 0, 0, 0, 2, 2, 1, 2, 2, 0, 2, 2, 0, 1, 1, 1, 2, 2, 1, 2, 2, 2, 1, 1, 1, 0, 2, 0, 0, 2, 2, 0, 2, 0, 0, 2, 1, 1, 2, 2, 0, 0, 1, 1, 2, 0, 1, 1, 0, 1, 1, 0, 2, 2, 2, 2, 1, 1, 1, 1, 0, 0, 0, 0, 1, 1, 0, 1, 0, 2, 2, 2, 1, 0, 2, 1, 2, 2, 1, 0, 1, 1, 0, 1, 2, 0, 0, 1, 1, 0, 0, 0, 0, 2, 2, 1, 1, 2, 1, 2, 0, 0, 0, 2, 0, 1, 2, 2, 1, 1, 1, 0, 2, 0, 0, 0, 0, 1, 1, 1, 1, 0, 0, 2, 1, 0, 0, 2, 0, 1, 2, 0, 1, 2, 0, 0, 2, 2, 2, 0, 1, 1, 0, 1, 0, 2, 2, 2, 0, 2, 1, 2, 2, 0, 0, 1, 1, 1, 2, 1, 0, 2, 0, 0, 0, 0, 2, 1, 0, 1, 1, 0, 2, 2, 2, 1, 1, 1, 1, 0, 2, 2, 1, 0, 0, 2, 2, 2, 2, 1, 1, 0, 2, 2, 0, 2, 0, 0, 0, 1, 0, 0, 2, 1, 2, 1, 2, 1, 1, 0, 1, 0, 1, 0, 1, 2, 2, 2, 2, 2, 1, 0, 0, 2, 2, 1, 2, 2, 2, 1, 2, 0, 1, 1, 2, 0, 0, 0, 0, 1, 0, 2, 1, 0, 2, 2, 1, 2, 2, 0, 1, 1, 0, 2, 0, 2, 2, 1, 2, 2, 2, 2, 1, 0, 2, 1, 0, 2, 2, 2, 1, 0, 0, 0, 1, 0, 2, 1, 1, 1, 2, 1, 2, 0, 2, 1, 0, 0, 2, 2, 1, 0, 2, 2, 0, 0, 2, 2, 2, 0, 2, 1, 2, 1, 1, 1, 1, 2, 0, 1, 0, 0, 1, 0, 0, 0, 2, 0, 2, 0, 0, 0, 0, 2, 2, 0, 1, 1, 2, 0, 1, 2, 0, 0, 0, 1, 2, 1, 0, 2, 0, 1, 1, 2, 0, 1, 2, 2, 1, 1, 1, 1, 0, 2, 0, 0, 1, 0, 2, 2, 1, 2, 0, 2, 1, 1, 2, 0, 2, 0, 1, 2, 0, 2, 0, 1, 1, 2, 0, 1, 0, 1, 0, 1, 0, 2, 1, 1, 1, 0, 2, 1, 1, 1, 1, 2, 0, 1, 0, 1, 1, 1, 1, 1, 0, 1, 2, 2, 2, 0, 0, 1, 0, 2, 0, 1, 2, 0, 1, 2, 2, 1, 2, 2, 0, 2, 1, 0, 2, 2, 1, 1, 1, 1, 2, 1, 2, 2, 1, 1, 0, 0, 2, 1, 1, 1, 1, 1, 2, 0, 0, 1, 1, 0, 0, 1, 2, 2, 0, 2, 0, 1, 1, 0, 2, 0, 1, 1, 2, 2, 1, 2, 2, 0, 2, 1, 0, 2, 0, 2, 1, 0, 2, 2, 1, 2, 0, 1, 2, 2, 1, 1, 1, 1, 0, 0, 1, 2, 2, 1, 2, 1, 2, 2, 1, 2, 0, 1, 0, 2, 1, 2, 2, 2, 0, 0, 0, 2, 1, 0, 2, 1, 0, 2, 1, 0, 1, 1, 1, 0, 1, 2, 2, 2, 0, 2, 2, 2, 0, 2, 0, 0, 2, 1, 2, 1, 1, 0, 2, 0, 2, 1, 2, 0, 1, 2, 2, 1, 2, 2, 2, 0, 2, 2, 0, 0, 1, 2, 1, 2, 1, 2, 2, 2, 1, 1, 2, 1, 2, 2, 1, 2, 2, 2, 2, 0, 1, 1, 2, 2, 1, 1, 2, 2, 2, 2, 2, 2, 2, 1, 2, 2, 0, 1, 0, 0, 2, 0, 1, 0, 1, 1, 1, 1, 0, 1, 0, 1, 2, 2, 2, 2, 1, 1, 0, 1, 0, 0, 2, 0, 1, 0, 1, 2, 0, 1, 0, 2, 2, 0, 0, 1, 1, 0, 0, 1, 2, 2, 0, 1, 2, 2, 1, 2, 2, 0, 0, 0, 2, 2, 0, 1, 1, 1, 2, 1, 2, 0, 2, 1, 2, 0, 2, 2, 1, 1, 1, 1, 2, 1, 0, 0, 0, 0, 2, 1, 2, 2, 1, 0, 0, 1, 2, 2, 2, 1, 0, 0, 1, 1, 0, 2, 0, 1, 2, 0, 1, 1, 1, 2, 0, 2, 0, 1, 0, 0, 0, 0, 2, 1, 0, 2, 1, 0, 1, 1, 1, 0, 2, 2, 2, 2, 2, 1, 1, 2, 0, 0, 1, 2, 1, 2, 1, 1, 2, 0, 2, 1, 2, 0, 0, 2, 0, 0, 2, 1, 2, 1, 0, 1, 1, 2, 0, 2, 1, 0, 0, 2, 1, 1, 1, 2, 0, 2, 1, 2, 2, 2, 1, 2, 1, 0]\n"
          ]
        }
      ]
    },
    {
      "cell_type": "code",
      "metadata": {
        "colab": {
          "base_uri": "https://localhost:8080/"
        },
        "id": "lvNBJl4ZPBaX",
        "outputId": "67836b61-b6ee-4b5b-ff47-ca8fc7173250"
      },
      "source": [
        "from collections import Counter\n",
        "print(Counter(y_pred_Bayesian))"
      ],
      "execution_count": 42,
      "outputs": [
        {
          "output_type": "stream",
          "name": "stdout",
          "text": [
            "Counter({2: 1054, 1: 989, 0: 957})\n"
          ]
        }
      ]
    },
    {
      "cell_type": "markdown",
      "metadata": {
        "id": "4HIQvLAmPGSC"
      },
      "source": [
        "We can see that from the digits 1, 2 & 6 that 2 is the most identifiable in the most cases, but 1 & 6 are not far behind - there is no clear easiest digit as the counts are quite similar."
      ]
    },
    {
      "cell_type": "code",
      "metadata": {
        "colab": {
          "base_uri": "https://localhost:8080/"
        },
        "id": "RQVfstylczgo",
        "outputId": "b33ba24e-e937-4d32-a188-305de7a7bb96"
      },
      "source": [
        "# recall the classes we are using\n",
        "print(classes)"
      ],
      "execution_count": 43,
      "outputs": [
        {
          "output_type": "stream",
          "name": "stdout",
          "text": [
            "[1, 2, 6]\n"
          ]
        }
      ]
    },
    {
      "cell_type": "code",
      "metadata": {
        "colab": {
          "base_uri": "https://localhost:8080/"
        },
        "id": "8OLwuXaoc3zj",
        "outputId": "831cc171-fb2d-4db6-c22d-96e87e5d39ac"
      },
      "source": [
        "# prediction array (using classes)\n",
        "nn = 10 # just an example\n",
        "np.array(classes)[y_pred_Bayesian[0:nn]]"
      ],
      "execution_count": 44,
      "outputs": [
        {
          "output_type": "execute_result",
          "data": {
            "text/plain": [
              "array([1, 6, 6, 1, 2, 1, 6, 6, 2, 1])"
            ]
          },
          "metadata": {},
          "execution_count": 44
        }
      ]
    },
    {
      "cell_type": "code",
      "metadata": {
        "colab": {
          "base_uri": "https://localhost:8080/"
        },
        "id": "xleyvMUEc7h7",
        "outputId": "2dad32ae-da61-4201-9741-854163e59ea7"
      },
      "source": [
        "# using validation: y_val\n",
        "print(\"Accuracy=\", accuracy_score(np.array(classes)[y_pred_Bayesian], y_val))"
      ],
      "execution_count": 45,
      "outputs": [
        {
          "output_type": "stream",
          "name": "stdout",
          "text": [
            "Accuracy= 0.9443333333333334\n"
          ]
        }
      ]
    },
    {
      "cell_type": "code",
      "metadata": {
        "id": "AFDyxFaCfJao"
      },
      "source": [
        "## Selecting different instances"
      ],
      "execution_count": 46,
      "outputs": []
    },
    {
      "cell_type": "code",
      "metadata": {
        "id": "_3nnVpkIfRRj"
      },
      "source": [
        "y_predB=[]\n",
        "\n",
        "for i in range(X_val.shape[0]):\n",
        "    #print(i)\n",
        "    val=[]\n",
        "\n",
        "    for s in range(posterior['beta'].shape[0]):\n",
        "        beta = np.hstack([np.zeros((nf,1)),  posterior['beta'][s,:] ])\n",
        "        alpha = np.hstack([[0],  posterior['alpha'][s,:] ])\n",
        "        val.append(softmax((np.array([X_val[i,:].dot(beta) + alpha])))[0,:])\n",
        "\n",
        "    #mean probability\n",
        "    valmean = np.mean(val,axis=0)\n",
        "    #class with maximum mean probability\n",
        "    classmax = np.argmax(valmean)\n",
        "    #ranks\n",
        "    ranks = np.array(val.copy())\n",
        "    ranks   = ranks  *0 #init\n",
        "    colmax = np.argmax(np.array(val),axis=1)\n",
        "    ranks[np.arange(0,len(colmax)),colmax]=1\n",
        "     \n",
        "    y_predB.append( [classmax, valmean[classmax], np.std(ranks,axis=0)[classmax]])\n",
        "\n",
        "    \n",
        "y_predB= np.array(y_predB)"
      ],
      "execution_count": 47,
      "outputs": []
    },
    {
      "cell_type": "code",
      "metadata": {
        "colab": {
          "base_uri": "https://localhost:8080/"
        },
        "id": "RFAuhp4IfaBE",
        "outputId": "07eebaf1-a354-4f9b-98cb-40c4e7f3b1d8"
      },
      "source": [
        "# prediction array\n",
        "mm = 10\n",
        "y_predB[0:mm,:]"
      ],
      "execution_count": 48,
      "outputs": [
        {
          "output_type": "execute_result",
          "data": {
            "text/plain": [
              "array([[0.        , 0.97111632, 0.15095989],\n",
              "       [2.        , 0.88102592, 0.30868898],\n",
              "       [2.        , 0.66411046, 0.46774875],\n",
              "       [0.        , 0.96948225, 0.14      ],\n",
              "       [1.        , 0.99921123, 0.        ],\n",
              "       [0.        , 0.86977396, 0.31699982],\n",
              "       [2.        , 0.98526737, 0.11469767],\n",
              "       [2.        , 0.93929057, 0.21092389],\n",
              "       [1.        , 0.95502093, 0.19595918],\n",
              "       [0.        , 0.91674809, 0.20360637]])"
            ]
          },
          "metadata": {},
          "execution_count": 48
        }
      ]
    },
    {
      "cell_type": "code",
      "metadata": {
        "colab": {
          "base_uri": "https://localhost:8080/"
        },
        "id": "5jlZ_D1lfdzD",
        "outputId": "8bc13526-419e-4880-e4db-0a61e10f6f47"
      },
      "source": [
        "#sorting in descending order\n",
        "difficult = np.argsort(-y_predB[:,2])\n",
        "y_predB[difficult[0:mm],:]"
      ],
      "execution_count": 49,
      "outputs": [
        {
          "output_type": "execute_result",
          "data": {
            "text/plain": [
              "array([[1.        , 0.51031243, 0.5       ],\n",
              "       [1.        , 0.494785  , 0.5       ],\n",
              "       [1.        , 0.49023271, 0.49998889],\n",
              "       [2.        , 0.49695059, 0.49998889],\n",
              "       [2.        , 0.49825445, 0.49998889],\n",
              "       [1.        , 0.50550003, 0.49998889],\n",
              "       [1.        , 0.49131485, 0.49998889],\n",
              "       [1.        , 0.48909087, 0.49998889],\n",
              "       [0.        , 0.50369538, 0.49998889],\n",
              "       [1.        , 0.5019193 , 0.49998889]])"
            ]
          },
          "metadata": {},
          "execution_count": 49
        }
      ]
    },
    {
      "cell_type": "code",
      "metadata": {
        "colab": {
          "base_uri": "https://localhost:8080/"
        },
        "id": "gHcO78W7fgxx",
        "outputId": "36e51a2f-0c43-4d0b-f69a-380c6d5ffbf9"
      },
      "source": [
        "#probability of general-recipe logistic regression in wrong instances\n",
        "prob_classmax[y_pred_log != y_val]"
      ],
      "execution_count": 50,
      "outputs": [
        {
          "output_type": "execute_result",
          "data": {
            "text/plain": [
              "array([1.        , 0.99999077, 0.9999588 , 0.99981346, 0.98077742,\n",
              "       0.93171042, 0.87101809, 0.97074899, 0.99999997, 0.5127126 ,\n",
              "       0.92704799, 0.99916064, 0.68539843, 0.99888431, 1.        ,\n",
              "       0.58881459, 0.93712818, 0.99980607, 0.92442708, 0.86345933,\n",
              "       0.99999999, 0.75001607, 0.99999971, 0.99946898, 0.99999839,\n",
              "       0.98467197, 0.99772392, 0.99996546, 0.99977153, 0.89015917,\n",
              "       0.8553116 , 0.74902851, 0.96660222, 0.97656528, 0.67239852,\n",
              "       0.63622645, 0.95333169, 0.96560912, 0.96013932, 1.        ,\n",
              "       0.99699723, 0.99951713, 0.97159038, 0.63273573, 0.99833885,\n",
              "       0.98800242, 0.95570851, 0.97790471, 0.68067795, 0.99953662,\n",
              "       0.93555316, 0.99999202, 0.99911679, 0.52531277, 0.99510943,\n",
              "       0.99999959, 1.        , 0.96199394, 0.89498628, 0.86498818,\n",
              "       0.99530543, 0.60219279, 0.67722361, 0.9999999 , 0.98789841,\n",
              "       1.        , 0.42760129, 0.97464851, 0.99838508, 0.95925088,\n",
              "       0.99944246, 0.99567102, 0.665558  , 0.67135575, 0.97811867,\n",
              "       0.99990461, 0.99996681, 0.99795324])"
            ]
          },
          "metadata": {},
          "execution_count": 50
        }
      ]
    },
    {
      "cell_type": "markdown",
      "metadata": {
        "id": "GuFuQqVzQ7Oq"
      },
      "source": [
        "We see that the cases where the prediction is wrong that some samples have a low probability, i.e. 0.6, but we also see a handful of sampled had a 'certain' probability of '1', where the digit sample's features matched the algorithm's prediction perfectly, however the prediction can still be wrong as the accuracy cannot be 100% with such an error-prone unpredictable dataset such as handwriting."
      ]
    },
    {
      "cell_type": "code",
      "metadata": {
        "colab": {
          "base_uri": "https://localhost:8080/"
        },
        "id": "002hMd0pfj5p",
        "outputId": "3b0a93be-a55f-4644-ebec-1d1ded501c0c"
      },
      "source": [
        "y_predB[y_pred_log != y_val,:]"
      ],
      "execution_count": 51,
      "outputs": [
        {
          "output_type": "execute_result",
          "data": {
            "text/plain": [
              "array([[1.        , 0.9930584 , 0.08137704],\n",
              "       [2.        , 0.59465381, 0.48774994],\n",
              "       [1.        , 0.64843127, 0.47256981],\n",
              "       [1.        , 0.83048559, 0.35041246],\n",
              "       [1.        , 0.95325699, 0.20360637],\n",
              "       [1.        , 0.97317848, 0.15095989],\n",
              "       [1.        , 0.69930517, 0.4552899 ],\n",
              "       [0.        , 0.68879434, 0.45825757],\n",
              "       [2.        , 0.91777246, 0.28134597],\n",
              "       [0.        , 0.71135089, 0.44899889],\n",
              "       [1.        , 0.88751617, 0.30439375],\n",
              "       [2.        , 0.85010019, 0.35377331],\n",
              "       [1.        , 0.99939703, 0.        ],\n",
              "       [2.        , 0.8993044 , 0.29089899],\n",
              "       [1.        , 0.47751244, 0.49995555],\n",
              "       [2.        , 0.80724851, 0.38964371],\n",
              "       [1.        , 0.93959583, 0.21092389],\n",
              "       [0.        , 0.53841238, 0.49811868],\n",
              "       [2.        , 0.8201934 , 0.38138636],\n",
              "       [1.        , 0.5480822 , 0.49638695],\n",
              "       [1.        , 0.91600391, 0.26068286],\n",
              "       [0.        , 0.57539204, 0.48920571],\n",
              "       [2.        , 0.57378976, 0.49183331],\n",
              "       [0.        , 0.59262916, 0.4869862 ],\n",
              "       [1.        , 0.86855577, 0.32102267],\n",
              "       [2.        , 0.51837625, 0.49928838],\n",
              "       [1.        , 0.56944986, 0.49507575],\n",
              "       [2.        , 0.56174129, 0.49597267],\n",
              "       [1.        , 0.71536089, 0.44221664],\n",
              "       [2.        , 0.94690137, 0.21794495],\n",
              "       [2.        , 0.91303059, 0.26068286],\n",
              "       [1.        , 0.64199656, 0.47800511],\n",
              "       [1.        , 0.81593419, 0.38418745],\n",
              "       [1.        , 0.50877739, 0.49972215],\n",
              "       [0.        , 0.70225261, 0.44735022],\n",
              "       [2.        , 0.6513292 , 0.4689942 ],\n",
              "       [2.        , 0.49593201, 0.49959984],\n",
              "       [2.        , 0.82656067, 0.36660606],\n",
              "       [2.        , 0.63163536, 0.47901519],\n",
              "       [2.        , 0.97665743, 0.1280191 ],\n",
              "       [0.        , 0.45648819, 0.49839743],\n",
              "       [2.        , 0.99643872, 0.05763872],\n",
              "       [2.        , 0.57426658, 0.49408726],\n",
              "       [0.        , 0.4460918 , 0.49865374],\n",
              "       [2.        , 0.4296415 , 0.49507575],\n",
              "       [1.        , 0.5445429 , 0.49714742],\n",
              "       [1.        , 0.75986107, 0.42909465],\n",
              "       [2.        , 0.74402607, 0.42909465],\n",
              "       [1.        , 0.59643955, 0.49056657],\n",
              "       [1.        , 0.62413671, 0.48280431],\n",
              "       [1.        , 0.7753954 , 0.40966111],\n",
              "       [0.        , 0.6389863 , 0.47021272],\n",
              "       [2.        , 0.74332764, 0.43107102],\n",
              "       [2.        , 0.6134793 , 0.48455019],\n",
              "       [1.        , 0.44525616, 0.49677851],\n",
              "       [0.        , 0.83507865, 0.34698703],\n",
              "       [1.        , 0.85900783, 0.34349511],\n",
              "       [1.        , 0.494785  , 0.5       ],\n",
              "       [1.        , 0.7360397 , 0.44221664],\n",
              "       [1.        , 0.40957031, 0.49056657],\n",
              "       [2.        , 0.65739429, 0.46774875],\n",
              "       [2.        , 0.76910893, 0.40730824],\n",
              "       [2.        , 0.96219593, 0.17058722],\n",
              "       [1.        , 0.64019129, 0.48      ],\n",
              "       [1.        , 0.98689008, 0.09949874],\n",
              "       [1.        , 0.97993491, 0.14      ],\n",
              "       [2.        , 0.56776432, 0.49597267],\n",
              "       [1.        , 0.76634325, 0.42503595],\n",
              "       [2.        , 0.55541736, 0.49597267],\n",
              "       [2.        , 0.50952383, 0.49989999],\n",
              "       [1.        , 0.88761592, 0.29550334],\n",
              "       [1.        , 0.56045346, 0.49507575],\n",
              "       [2.        , 0.88931165, 0.31699982],\n",
              "       [2.        , 0.78488492, 0.4       ],\n",
              "       [0.        , 0.50151766, 0.49995555],\n",
              "       [1.        , 0.92862761, 0.23748684],\n",
              "       [0.        , 0.74618526, 0.43107102],\n",
              "       [2.        , 0.9874116 , 0.08137704]])"
            ]
          },
          "metadata": {},
          "execution_count": 51
        }
      ]
    },
    {
      "cell_type": "code",
      "metadata": {
        "colab": {
          "base_uri": "https://localhost:8080/"
        },
        "id": "XLdTvm4Ufm-F",
        "outputId": "1828c4cd-9c62-471b-eca0-9c0011ed76bc"
      },
      "source": [
        "## Difficult & easy instances\n",
        "\n",
        "easy = np.argsort(y_predB[:,2])\n",
        "print(\"Accuracy in easy instances =\", accuracy_score(y_pred_log[easy[0:100]], y_val[easy[0:100]]))\n",
        "\n",
        "difficult = np.argsort(-y_predB[:,2])\n",
        "print(\"Accuracy in difficult instances =\", accuracy_score(y_pred_log[difficult[0:100]], y_val[difficult[0:100]]))"
      ],
      "execution_count": 52,
      "outputs": [
        {
          "output_type": "stream",
          "name": "stdout",
          "text": [
            "Accuracy in easy instances = 1.0\n",
            "Accuracy in difficult instances = 0.9\n"
          ]
        }
      ]
    },
    {
      "cell_type": "markdown",
      "metadata": {
        "id": "0refyHrkQs5k"
      },
      "source": [
        "There is a substantial difference in accuracy from the easy samples to the difficult."
      ]
    },
    {
      "cell_type": "code",
      "metadata": {
        "colab": {
          "base_uri": "https://localhost:8080/",
          "height": 357
        },
        "id": "9l9VAl6YfqlF",
        "outputId": "dc287040-b903-47d2-c16e-a1d8f006e8a1"
      },
      "source": [
        "# show 10 random 'easy' images\n",
        "fig, axs = plt.subplots(2,5, figsize=(15, 6))\n",
        "fig.subplots_adjust(hspace = .2, wspace=.001)\n",
        "axs = axs.ravel()\n",
        "\n",
        "for i in range(10):\n",
        "    index = easy[i]\n",
        "    image = X_val[index,:].reshape(28,28)\n",
        "    axs[i].axis('off')\n",
        "    axs[i].imshow(image,cmap=\"Greys_r\")"
      ],
      "execution_count": 53,
      "outputs": [
        {
          "output_type": "display_data",
          "data": {
            "image/png": "[encoded data removed]",
            "text/plain": [
              "<Figure size 1080x432 with 10 Axes>"
            ]
          },
          "metadata": {
            "needs_background": "light"
          }
        }
      ]
    },
    {
      "cell_type": "code",
      "metadata": {
        "colab": {
          "base_uri": "https://localhost:8080/",
          "height": 357
        },
        "id": "eu9SjD7QftHT",
        "outputId": "2280bb6e-e76f-4dda-d46a-b6f36ba40c41"
      },
      "source": [
        "# show 10 random 'difficult' images\n",
        "fig, axs = plt.subplots(2,5, figsize=(15, 6))\n",
        "fig.subplots_adjust(hspace = .2, wspace=.001)\n",
        "axs = axs.ravel()\n",
        "for i in range(10):\n",
        "    index = difficult[i]\n",
        "    image = X_val[index,:].reshape(28,28)\n",
        "    axs[i].axis('off')\n",
        "    axs[i].imshow(image,cmap=\"Greys_r\")"
      ],
      "execution_count": 54,
      "outputs": [
        {
          "output_type": "display_data",
          "data": {
            "image/png": "[encoded data removed]",
            "text/plain": [
              "<Figure size 1080x432 with 10 Axes>"
            ]
          },
          "metadata": {
            "needs_background": "light"
          }
        }
      ]
    },
    {
      "cell_type": "markdown",
      "metadata": {
        "id": "NcshsLOGRPrk"
      },
      "source": [
        "## Summary"
      ]
    },
    {
      "cell_type": "markdown",
      "metadata": {
        "id": "XTc4pYKGRR60"
      },
      "source": [
        "Populate this section with all of your findings and comments fron the discussion with your peers."
      ]
    }
  ]
}