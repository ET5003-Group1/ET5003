{
 "cells": [
  {
   "cell_type": "markdown",
   "metadata": {
    "id": "jxK1_8f1dvrc"
   },
   "source": [
    "<div>\n",
    "<img src=\"https://drive.google.com/uc?export=view&id=1vK33e_EqaHgBHcbRV_m38hx6IkG0blK_\" width=\"350\"/>\n",
    "</div> \n",
    "\n",
    "#**Artificial Intelligence - MSc**\n",
    "ET5003 - MACHINE LEARNING APPLICATIONS \n",
    "\n",
    "###Instructor: Enrique Naredo\n",
    "###ET5003_Etivity-1"
   ]
  },
  {
   "cell_type": "code",
   "execution_count": 2,
   "metadata": {
    "cellView": "form",
    "executionInfo": {
     "elapsed": 222,
     "status": "ok",
     "timestamp": 1632067356109,
     "user": {
      "displayName": "stephen quirke",
      "photoUrl": "https://lh3.googleusercontent.com/a-/AOh14Gjoyg0ARV4aTEr2M4t4F5DO1MLVi5NfSF85m66gQA=s64",
      "userId": "02476977115804623661"
     },
     "user_tz": -60
    },
    "id": "LqXD_IwUQuBF"
   },
   "outputs": [],
   "source": [
    "#@title Current Date\n",
    "Today = '2021-09-19' #@param {type:\"date\"}\n"
   ]
  },
  {
   "cell_type": "code",
   "execution_count": 3,
   "metadata": {
    "cellView": "form",
    "executionInfo": {
     "elapsed": 275,
     "status": "ok",
     "timestamp": 1632067356709,
     "user": {
      "displayName": "stephen quirke",
      "photoUrl": "https://lh3.googleusercontent.com/a-/AOh14Gjoyg0ARV4aTEr2M4t4F5DO1MLVi5NfSF85m66gQA=s64",
      "userId": "02476977115804623661"
     },
     "user_tz": -60
    },
    "id": "uzDKau31OjVO"
   },
   "outputs": [],
   "source": [
    "#@markdown ---\n",
    "#@markdown ### Enter your details here:\n",
    "Student_ID = \"20172257\" #@param {type:\"string\"}\n",
    "Student_full_name = \"Stephen Quirke\" #@param {type:\"string\"}\n",
    "#@markdown ---"
   ]
  },
  {
   "cell_type": "code",
   "execution_count": 4,
   "metadata": {
    "cellView": "form",
    "executionInfo": {
     "elapsed": 14,
     "status": "ok",
     "timestamp": 1632067356710,
     "user": {
      "displayName": "stephen quirke",
      "photoUrl": "https://lh3.googleusercontent.com/a-/AOh14Gjoyg0ARV4aTEr2M4t4F5DO1MLVi5NfSF85m66gQA=s64",
      "userId": "02476977115804623661"
     },
     "user_tz": -60
    },
    "id": "r39xGZckTpKx"
   },
   "outputs": [],
   "source": [
    "#@title Notebook information\n",
    "Notebook_type = 'Etivity' #@param [\"Example\", \"Lab\", \"Practice\", \"Etivity\", \"Assignment\", \"Exam\"]\n",
    "Version = \"Final\" #@param [\"Draft\", \"Final\"]\n",
    "Submission = True #@param {type:\"boolean\"}"
   ]
  },
  {
   "cell_type": "markdown",
   "metadata": {
    "id": "gA7MmmWq3ghX"
   },
   "source": [
    "#Introduction\n",
    "\n"
   ]
  },
  {
   "cell_type": "markdown",
   "metadata": {
    "id": "80m304lUefG4"
   },
   "source": [
    "## MNIST dataset"
   ]
  },
  {
   "cell_type": "markdown",
   "metadata": {
    "id": "Bs8mHGcidHSa"
   },
   "source": [
    "\n",
    "\n",
    "The MNIST database  is a dataset of handwritten digits that has been and is extensively used in machine learning. There are $10$ classes, each image is $28\\times28$ pixels and, therefore, each input is $x_i\\in\\mathbb{R}^{784}$. "
   ]
  },
  {
   "cell_type": "markdown",
   "metadata": {
    "id": "ailycCq5epj2"
   },
   "source": [
    "## Task"
   ]
  },
  {
   "cell_type": "markdown",
   "metadata": {
    "id": "a-yNAxhUemjM"
   },
   "source": [
    "You have to extend the code to manage any arbitrary number of classes, in other words you have to implement a general-recipe multinomial logistic classifier and Bayesian multinomial logistic classifier.\n",
    "\n",
    "You must then select  3 digits at random and perform  the following task. \n",
    "\n",
    "1. Your goal is to use Bayesian multinomial logistic regression (as in the road-sign notebook) to solve this classification problem. \n",
    "\n",
    "2. You can downsize the training dataset (e.g., 40% training and 60%testing) if the computation of the posterior takes too much time in your computer.\n",
    "\n",
    "3. Use the posterior uncertainty to detect the instances (digits) in the test set that are hard to classify and remove them from the test-set.\n",
    "\n",
    "4. Then you need to compute again the accuracy of the general-recipe logistic regression on the remaining (non-difficult) instances and comment on the result.\n",
    "\n",
    "5. In practice, the task is to use uncertainty estimation to detect the difficult instances in the test-set. This is equivalent to refuse to classify all high-uncertainty instances or, in other words, when we are uncertain we say \"I don't know\" and we do not return any class. In this way, you will learn how uncertainty can be used to make safer decisions, by detecting the instances that are difficult to classify.\n"
   ]
  },
  {
   "cell_type": "markdown",
   "metadata": {
    "id": "nMRKRTQZe5fW"
   },
   "source": [
    "## Libraries"
   ]
  },
  {
   "cell_type": "code",
   "execution_count": 5,
   "metadata": {
    "executionInfo": {
     "elapsed": 13,
     "status": "ok",
     "timestamp": 1632067356711,
     "user": {
      "displayName": "stephen quirke",
      "photoUrl": "https://lh3.googleusercontent.com/a-/AOh14Gjoyg0ARV4aTEr2M4t4F5DO1MLVi5NfSF85m66gQA=s64",
      "userId": "02476977115804623661"
     },
     "user_tz": -60
    },
    "id": "IxusAui7AX_f"
   },
   "outputs": [],
   "source": [
    "# Suppressing Warnings:\n",
    "import warnings\n",
    "warnings.filterwarnings(\"ignore\")"
   ]
  },
  {
   "cell_type": "code",
   "execution_count": 85,
   "metadata": {
    "executionInfo": {
     "elapsed": 212,
     "status": "ok",
     "timestamp": 1632079443591,
     "user": {
      "displayName": "stephen quirke",
      "photoUrl": "https://lh3.googleusercontent.com/a-/AOh14Gjoyg0ARV4aTEr2M4t4F5DO1MLVi5NfSF85m66gQA=s64",
      "userId": "02476977115804623661"
     },
     "user_tz": -60
    },
    "id": "MQOfGMQpdHSb"
   },
   "outputs": [],
   "source": [
    "# Import libraries\n",
    "from sklearn.linear_model import LogisticRegression\n",
    "from sklearn.metrics import accuracy_score\n",
    "from sklearn.model_selection import train_test_split\n",
    "\n",
    "import pandas as pd\n",
    "import numpy as np\n",
    "import seaborn as sns\n",
    "from skimage.io import imread, imshow\n",
    "import matplotlib.image as mpimg\n",
    "import matplotlib.pyplot as plt\n",
    "import matplotlib\n",
    "%matplotlib inline\n",
    "from scipy.io import loadmat\n",
    "import pymc3 as pm\n",
    "import random\n",
    "from IPython.display import HTML\n",
    "import pickle\n",
    "import theano as tt\n",
    "from sklearn.utils import shuffle\n",
    "from sklearn import metrics"
   ]
  },
  {
   "cell_type": "code",
   "execution_count": 86,
   "metadata": {
    "executionInfo": {
     "elapsed": 241,
     "status": "ok",
     "timestamp": 1632079449737,
     "user": {
      "displayName": "stephen quirke",
      "photoUrl": "https://lh3.googleusercontent.com/a-/AOh14Gjoyg0ARV4aTEr2M4t4F5DO1MLVi5NfSF85m66gQA=s64",
      "userId": "02476977115804623661"
     },
     "user_tz": -60
    },
    "id": "_PiaalkMK-GH"
   },
   "outputs": [],
   "source": [
    "plt.style.use('fivethirtyeight')"
   ]
  },
  {
   "cell_type": "code",
   "execution_count": 87,
   "metadata": {
    "executionInfo": {
     "elapsed": 231,
     "status": "ok",
     "timestamp": 1632079452001,
     "user": {
      "displayName": "stephen quirke",
      "photoUrl": "https://lh3.googleusercontent.com/a-/AOh14Gjoyg0ARV4aTEr2M4t4F5DO1MLVi5NfSF85m66gQA=s64",
      "userId": "02476977115804623661"
     },
     "user_tz": -60
    },
    "id": "P5-qMSjpAQ-9"
   },
   "outputs": [],
   "source": [
    "# Setting a seed:\n",
    "np.random.seed(123)"
   ]
  },
  {
   "cell_type": "markdown",
   "metadata": {
    "id": "r4hSuwkUfVQb"
   },
   "source": [
    "## Dataset"
   ]
  },
  {
   "cell_type": "markdown",
   "metadata": {
    "id": "gIRHNp6k-wwQ"
   },
   "source": [
    "The MNIST dataset (Redmon, 2018) is an easy to use dataset that can be used for Machine Learning Algorithms for beginners.\n",
    "\n",
    "The dataset consists of two files:  \n",
    "\n",
    "*   mnist_train.csv\n",
    "*   mnist_test.csv\n",
    "\n",
    "The test set contains 60,000 training examples and labels while the mnist_test.csv contains 10,000 test examples of the same. Each row consists of 785 values: the first value is the label (a number from 0 to 9) and the remaining 784 values are the pixel values (a number from 0 to 255). As seen from the graphs, there is an even distribution of the different digits (1-9) with 1 been the highest represented number. \n",
    "\n",
    "Link to data: https://www.kaggle.com/oddrationale/mnist-in-csv?select=mnist_test.csv"
   ]
  },
  {
   "cell_type": "markdown",
   "metadata": {
    "id": "w99Pc66YdHSd"
   },
   "source": [
    "### Loading the MNIST dataset"
   ]
  },
  {
   "cell_type": "code",
   "execution_count": 10,
   "metadata": {
    "colab": {
     "base_uri": "https://localhost:8080/"
    },
    "executionInfo": {
     "elapsed": 25893,
     "status": "ok",
     "timestamp": 1632067934094,
     "user": {
      "displayName": "stephen quirke",
      "photoUrl": "https://lh3.googleusercontent.com/a-/AOh14Gjoyg0ARV4aTEr2M4t4F5DO1MLVi5NfSF85m66gQA=s64",
      "userId": "02476977115804623661"
     },
     "user_tz": -60
    },
    "id": "CYFWAbXVzynp",
    "outputId": "c7579f05-a1df-40f1-a444-172add9342c8"
   },
   "outputs": [
    {
     "name": "stdout",
     "output_type": "stream",
     "text": [
      "Mounted at /content/drive\n"
     ]
    }
   ],
   "source": [
    "#Mount Google Drive\n",
    "from google.colab import drive\n",
    "drive.mount('/content/drive')"
   ]
  },
  {
   "cell_type": "code",
   "execution_count": 88,
   "metadata": {
    "colab": {
     "base_uri": "https://localhost:8080/"
    },
    "executionInfo": {
     "elapsed": 4785,
     "status": "ok",
     "timestamp": 1632079469756,
     "user": {
      "displayName": "stephen quirke",
      "photoUrl": "https://lh3.googleusercontent.com/a-/AOh14Gjoyg0ARV4aTEr2M4t4F5DO1MLVi5NfSF85m66gQA=s64",
      "userId": "02476977115804623661"
     },
     "user_tz": -60
    },
    "id": "g4rCnS4vdHSd",
    "outputId": "8cf86e6e-bdd0-4c6c-d61a-b1cc1295ae3a"
   },
   "outputs": [
    {
     "name": "stdout",
     "output_type": "stream",
     "text": [
      "(60000, 784)\n",
      "(10000, 784)\n"
     ]
    }
   ],
   "source": [
    "# Path, copy the path from your Drive\n",
    "Path = '/content/drive/MyDrive/Colab Notebooks/ET5003_Etivity1/'\n",
    "\n",
    "# MNIST Data\n",
    "train_data = Path + 'mnist_train.csv'\n",
    "test_data = Path + 'mnist_test.csv'\n",
    "\n",
    "# train data\n",
    "df_train = pd.read_csv(train_data)\n",
    "X_train = df_train.drop(\"label\",axis=1).values\n",
    "y_train = df_train.label.values\n",
    "print(X_train.shape)\n",
    "\n",
    "# test data\n",
    "df_test = pd.read_csv(test_data)\n",
    "X_test = df_test.drop(\"label\",axis=1).values\n",
    "y_test = df_test.label.values\n",
    "print(X_test.shape)"
   ]
  },
  {
   "cell_type": "markdown",
   "metadata": {
    "id": "6Yr8FDsxEwv4"
   },
   "source": [
    "### Commentary\n",
    "\n",
    "As seen in the description of the data from Kaggle, there is 60k digits in the training set and 10 k for the test set. There is 784 pixels for each digit plus the digit number which equals 795 values per row. We drop the label (digit value) so that is why the shape is 784"
   ]
  },
  {
   "cell_type": "code",
   "execution_count": 89,
   "metadata": {
    "colab": {
     "base_uri": "https://localhost:8080/"
    },
    "executionInfo": {
     "elapsed": 564,
     "status": "ok",
     "timestamp": 1632079529081,
     "user": {
      "displayName": "stephen quirke",
      "photoUrl": "https://lh3.googleusercontent.com/a-/AOh14Gjoyg0ARV4aTEr2M4t4F5DO1MLVi5NfSF85m66gQA=s64",
      "userId": "02476977115804623661"
     },
     "user_tz": -60
    },
    "id": "O2ubJ_WoAqBh",
    "outputId": "f61616da-9ed5-45db-e29a-b28869988817"
   },
   "outputs": [
    {
     "name": "stdout",
     "output_type": "stream",
     "text": [
      "0.0 1.0\n"
     ]
    }
   ],
   "source": [
    "# Normalizing the Inputs:\n",
    "X_train = X_train/255\n",
    "X_test = X_test/255\n",
    "\n",
    "# Printing the new input range of values:\n",
    "minv = np.min(X_train)\n",
    "maxv = np.max(X_train)\n",
    "print(minv,maxv)"
   ]
  },
  {
   "cell_type": "markdown",
   "metadata": {
    "id": "Dk3BtS6bFnAq"
   },
   "source": [
    "### Commentary\n",
    "\n",
    "Values are normalized between 0.0 and 1.0"
   ]
  },
  {
   "cell_type": "markdown",
   "metadata": {
    "id": "SR6HpkWndHSe"
   },
   "source": [
    "### Description of Data:"
   ]
  },
  {
   "cell_type": "code",
   "execution_count": 90,
   "metadata": {
    "colab": {
     "base_uri": "https://localhost:8080/"
    },
    "executionInfo": {
     "elapsed": 212,
     "status": "ok",
     "timestamp": 1632079532765,
     "user": {
      "displayName": "stephen quirke",
      "photoUrl": "https://lh3.googleusercontent.com/a-/AOh14Gjoyg0ARV4aTEr2M4t4F5DO1MLVi5NfSF85m66gQA=s64",
      "userId": "02476977115804623661"
     },
     "user_tz": -60
    },
    "id": "sibN1Vv1dHSf",
    "outputId": "d12c7d2f-5f18-4c35-b1b8-f89f2cc993a2"
   },
   "outputs": [
    {
     "name": "stdout",
     "output_type": "stream",
     "text": [
      "Number of Training examples = 60000\n",
      "Number of Test examples = 10000\n",
      "Image input shape = 784\n",
      "Number of classes = 10\n"
     ]
    }
   ],
   "source": [
    "# Number of examples\n",
    "n_train =  len(X_train)\n",
    "n_test =  len(X_test)\n",
    "\n",
    "# Shape of an traffic sign image\n",
    "image_shape = X_train.shape[1]\n",
    "\n",
    "# unique classes/labels in the training dataset.\n",
    "alltotal = set(y_train)\n",
    "n_classes = len(alltotal)\n",
    "\n",
    "print(\"Number of Training examples =\", n_train)\n",
    "print(\"Number of Test examples =\", n_test)\n",
    "print(\"Image input shape =\", image_shape)\n",
    "print(\"Number of classes =\", n_classes)"
   ]
  },
  {
   "cell_type": "markdown",
   "metadata": {
    "id": "6HQDSvrRKZF6"
   },
   "source": [
    "### Class Distribution:"
   ]
  },
  {
   "cell_type": "code",
   "execution_count": 94,
   "metadata": {
    "colab": {
     "base_uri": "https://localhost:8080/",
     "height": 605
    },
    "executionInfo": {
     "elapsed": 783,
     "status": "ok",
     "timestamp": 1632079601481,
     "user": {
      "displayName": "stephen quirke",
      "photoUrl": "https://lh3.googleusercontent.com/a-/AOh14Gjoyg0ARV4aTEr2M4t4F5DO1MLVi5NfSF85m66gQA=s64",
      "userId": "02476977115804623661"
     },
     "user_tz": -60
    },
    "id": "XG8GdlpBKdCt",
    "outputId": "02de6dfc-0a86-4fa3-85dd-1882b3474aed"
   },
   "outputs": [
    {
     "data": {
      "image/png": "[encoded data removed]",
      "text/plain": [
       "<Figure size 800x600 with 1 Axes>"
      ]
     },
     "metadata": {},
     "output_type": "display_data"
    }
   ],
   "source": [
    "plt.figure(figsize=(8,6), dpi= 100, facecolor='lightblue', edgecolor='k')\n",
    "plt.hist(y_train, bins=n_classes, edgecolor='black', linewidth=1.2, align ='left')\n",
    "plt.xlabel('classes')\n",
    "plt.ylabel('counts')\n",
    "plt.title('Histogram of downsampled digit images')\n",
    "plt.ylim ((5000,7000))\n",
    "plt.show()"
   ]
  },
  {
   "cell_type": "markdown",
   "metadata": {
    "id": "EyLWw3nsLCtk"
   },
   "source": [
    "## Downsampling"
   ]
  },
  {
   "cell_type": "markdown",
   "metadata": {
    "id": "2U1lFEwhLKBf"
   },
   "source": [
    "### Randomly selecting 3 of the 10 Digit Classes"
   ]
  },
  {
   "cell_type": "code",
   "execution_count": 95,
   "metadata": {
    "executionInfo": {
     "elapsed": 218,
     "status": "ok",
     "timestamp": 1632079611852,
     "user": {
      "displayName": "stephen quirke",
      "photoUrl": "https://lh3.googleusercontent.com/a-/AOh14Gjoyg0ARV4aTEr2M4t4F5DO1MLVi5NfSF85m66gQA=s64",
      "userId": "02476977115804623661"
     },
     "user_tz": -60
    },
    "id": "0EeRZZWdLRPT"
   },
   "outputs": [],
   "source": [
    "def select_number_of_classes(n_classes):\n",
    "  \"\"\"\n",
    "  Returns an arbitrary random selection of digits \n",
    "  \n",
    "  :param n_classes: arbitrary number of classes to be returned\n",
    "  :return classes: random selection of group of classes totaling number specified\n",
    "  \"\"\"\n",
    "\n",
    "  # Empty list to append the random digit classes we select:\n",
    "  classes = []\n",
    "\n",
    "  # We select 3 digits at random and make sure they are unique:\n",
    "  while len(classes) < n_classes:\n",
    "    \n",
    "      # Randomly drawing a digit from 0-9:\n",
    "      num2choose = np.random.randint(0,10)\n",
    "\n",
    "      # Append the digit if it's not already in our list of classes:\n",
    "      if num2choose not in classes: \n",
    "          classes.append(num2choose)\n",
    "        \n",
    "        \n",
    "  # Sorting the Classes smallest to largest    \n",
    "  classes.sort()\n",
    "\n",
    "  # print classes selected\n",
    "  print(classes)\n",
    "  return classes"
   ]
  },
  {
   "cell_type": "code",
   "execution_count": 96,
   "metadata": {
    "colab": {
     "base_uri": "https://localhost:8080/"
    },
    "executionInfo": {
     "elapsed": 257,
     "status": "ok",
     "timestamp": 1632079623499,
     "user": {
      "displayName": "stephen quirke",
      "photoUrl": "https://lh3.googleusercontent.com/a-/AOh14Gjoyg0ARV4aTEr2M4t4F5DO1MLVi5NfSF85m66gQA=s64",
      "userId": "02476977115804623661"
     },
     "user_tz": -60
    },
    "id": "pW3Nqz6ydLmY",
    "outputId": "0c26427f-3414-4e84-a749-3116da65f286"
   },
   "outputs": [
    {
     "name": "stdout",
     "output_type": "stream",
     "text": [
      "[1, 2, 6]\n"
     ]
    }
   ],
   "source": [
    "# Call select_number_of_classes function to return a group classes. In this instance, we want 3 classes as per the intructions\n",
    "n_classes = 3\n",
    "classes = select_number_of_classes(n_classes)"
   ]
  },
  {
   "cell_type": "markdown",
   "metadata": {
    "id": "QlZp8BRKkmgI"
   },
   "source": [
    "## Commentary:\n",
    "\n",
    "As per the intructions, the code is extended to handle an arbitrary number of classes by wrapping the logic in a function to output a random group of digits. In this run, we get the digits 1, 2, and 6"
   ]
  },
  {
   "cell_type": "code",
   "execution_count": 97,
   "metadata": {
    "colab": {
     "base_uri": "https://localhost:8080/"
    },
    "executionInfo": {
     "elapsed": 543,
     "status": "ok",
     "timestamp": 1632079720966,
     "user": {
      "displayName": "stephen quirke",
      "photoUrl": "https://lh3.googleusercontent.com/a-/AOh14Gjoyg0ARV4aTEr2M4t4F5DO1MLVi5NfSF85m66gQA=s64",
      "userId": "02476977115804623661"
     },
     "user_tz": -60
    },
    "id": "2M8R5NqKMB_M",
    "outputId": "6a17748c-de15-4d41-83f9-a613210abc7a"
   },
   "outputs": [
    {
     "name": "stdout",
     "output_type": "stream",
     "text": [
      "(15000, 784)\n",
      "(15000,)\n"
     ]
    }
   ],
   "source": [
    "# The number of instances we'll keep for each of our 3 digits:\n",
    "inst_class = 5000\n",
    "\n",
    "# List to contain inputs\n",
    "inputs = []\n",
    "\n",
    "# List to contain labels\n",
    "labels = []\n",
    "\n",
    "# Loop to randomly sample the instances for each digit:\n",
    "for r in classes:\n",
    "    imgs = X_train[np.where(y_train==r)[0],:]\n",
    "    inputs.append(\n",
    "        imgs[np.random.permutation(imgs.shape[0]),:][0:inst_class,:])\n",
    "    labels.append(np.ones(inst_class)*r)\n",
    "    \n",
    "# Shaping inputs and labels in the right format    \n",
    "X_train = np.vstack(inputs).astype(np.float64)\n",
    "y_train = np.hstack(labels)\n",
    "\n",
    "print(X_train.shape)\n",
    "\n",
    "print(y_train.shape)"
   ]
  },
  {
   "cell_type": "code",
   "execution_count": 98,
   "metadata": {
    "colab": {
     "base_uri": "https://localhost:8080/"
    },
    "executionInfo": {
     "elapsed": 238,
     "status": "ok",
     "timestamp": 1632079731334,
     "user": {
      "displayName": "stephen quirke",
      "photoUrl": "https://lh3.googleusercontent.com/a-/AOh14Gjoyg0ARV4aTEr2M4t4F5DO1MLVi5NfSF85m66gQA=s64",
      "userId": "02476977115804623661"
     },
     "user_tz": -60
    },
    "id": "9WX804aNOyRd",
    "outputId": "683dd9b4-14e6-408e-a839-55a23ec8a9d6"
   },
   "outputs": [
    {
     "name": "stdout",
     "output_type": "stream",
     "text": [
      "[array([1., 1., 1., ..., 1., 1., 1.]), array([2., 2., 2., ..., 2., 2., 2.]), array([6., 6., 6., ..., 6., 6., 6.])]\n"
     ]
    }
   ],
   "source": [
    "print(labels)"
   ]
  },
  {
   "cell_type": "code",
   "execution_count": 100,
   "metadata": {
    "colab": {
     "base_uri": "https://localhost:8080/",
     "height": 605
    },
    "executionInfo": {
     "elapsed": 671,
     "status": "ok",
     "timestamp": 1632079755967,
     "user": {
      "displayName": "stephen quirke",
      "photoUrl": "https://lh3.googleusercontent.com/a-/AOh14Gjoyg0ARV4aTEr2M4t4F5DO1MLVi5NfSF85m66gQA=s64",
      "userId": "02476977115804623661"
     },
     "user_tz": -60
    },
    "id": "wvPj9LQARvLI",
    "outputId": "ca81034a-8290-4035-f0f6-a923f678e1c9"
   },
   "outputs": [
    {
     "data": {
      "image/png": "[encoded data removed]",
      "text/plain": [
       "<Figure size 800x600 with 1 Axes>"
      ]
     },
     "metadata": {},
     "output_type": "display_data"
    }
   ],
   "source": [
    "# new histogram\n",
    "plt.figure(figsize=(8,6), dpi= 100, facecolor='lightblue', edgecolor='k')\n",
    "plt.hist(y_train, bins=range(10), edgecolor='black', linewidth=1.2, align='left')\n",
    "plt.xlabel('classes')\n",
    "plt.ylabel('counts')\n",
    "plt.title('Histogram of downsampled digit images')\n",
    "plt.ylim ((1,7000))\n",
    "plt.show()"
   ]
  },
  {
   "cell_type": "markdown",
   "metadata": {
    "id": "_6-YHrQQMicy"
   },
   "source": [
    "New Classes Distribution"
   ]
  },
  {
   "cell_type": "code",
   "execution_count": 102,
   "metadata": {
    "executionInfo": {
     "elapsed": 264,
     "status": "ok",
     "timestamp": 1632079784859,
     "user": {
      "displayName": "stephen quirke",
      "photoUrl": "https://lh3.googleusercontent.com/a-/AOh14Gjoyg0ARV4aTEr2M4t4F5DO1MLVi5NfSF85m66gQA=s64",
      "userId": "02476977115804623661"
     },
     "user_tz": -60
    },
    "id": "eFgP4xugMvJm"
   },
   "outputs": [],
   "source": [
    "def plot_digits(instances, images_per_row=5):\n",
    "    \"\"\"\n",
    "    Plots digits as images.\n",
    "  \n",
    "    :param instances: array of digits to be plotted\n",
    "    :param images_per_row: number of images per row to be plotted\n",
    "    \"\"\"\n",
    "    size = 28\n",
    "    images_per_row = min(len(instances), images_per_row)\n",
    "    images = [instance.reshape(size,size) for instance in instances]\n",
    "    n_rows = (len(instances) - 1) // images_per_row + 1\n",
    "    row_images = []\n",
    "    n_empty = n_rows * images_per_row - len(instances)\n",
    "    images.append(np.zeros((size, size * n_empty)))\n",
    "    for row in range(n_rows):\n",
    "        rimages = images[row * images_per_row : (row + 1) * images_per_row]\n",
    "        row_images.append(np.concatenate(rimages, axis=1))\n",
    "    image = np.concatenate(row_images, axis=0)\n",
    "    plt.figure(figsize=(8,6), dpi= 100, facecolor='lightblue', edgecolor='k')\n",
    "    plt.imshow(image,  cmap='gist_yarg')\n",
    "    plt.axis(\"off\")"
   ]
  },
  {
   "cell_type": "code",
   "execution_count": 103,
   "metadata": {
    "colab": {
     "base_uri": "https://localhost:8080/",
     "height": 545
    },
    "executionInfo": {
     "elapsed": 279,
     "status": "ok",
     "timestamp": 1632079790104,
     "user": {
      "displayName": "stephen quirke",
      "photoUrl": "https://lh3.googleusercontent.com/a-/AOh14Gjoyg0ARV4aTEr2M4t4F5DO1MLVi5NfSF85m66gQA=s64",
      "userId": "02476977115804623661"
     },
     "user_tz": -60
    },
    "id": "zeEG-LGOM4fJ",
    "outputId": "029b77d8-fe3c-45bb-e5f1-a4dd5294301b"
   },
   "outputs": [
    {
     "name": "stdout",
     "output_type": "stream",
     "text": [
      "[ 1792  2252  2383  1873  3372  7155  7093  6244  7858  6909 14730 11056\n",
      " 11956 11192 13797]\n"
     ]
    },
    {
     "data": {
      "text/plain": [
       "Text(0.5, 1.0, 'Original')"
      ]
     },
     "execution_count": 103,
     "metadata": {},
     "output_type": "execute_result"
    },
    {
     "data": {
      "text/plain": [
       "<Figure size 576x576 with 0 Axes>"
      ]
     },
     "metadata": {},
     "output_type": "display_data"
    },
    {
     "data": {
      "image/png": "[encoded data removed]",
      "text/plain": [
       "<Figure size 800x600 with 1 Axes>"
      ]
     },
     "metadata": {},
     "output_type": "display_data"
    }
   ],
   "source": [
    "# Show a few instances from each Digit:\n",
    "plt.figure(figsize=(8,8))\n",
    "\n",
    "# Selecting a few label indices from each of the 3 classes to show:\n",
    "label_indices = np.hstack([np.random.choice(np.where(y_train==label)[0], size=5) for label in classes])\n",
    "\n",
    "print(label_indices)\n",
    "\n",
    "# Plotting 'original' image\n",
    "plot_digits(X_train[label_indices,:],images_per_row=5)\n",
    "plt.title(\"Original\", fontsize=14)"
   ]
  },
  {
   "cell_type": "markdown",
   "metadata": {
    "id": "ypJFdQ0VibGz"
   },
   "source": [
    "### Commentary:\n",
    "\n",
    "The plot function outputs a visualisation of 5 digits per class."
   ]
  },
  {
   "cell_type": "markdown",
   "metadata": {
    "id": "FsAOnOcNNG_V"
   },
   "source": [
    "###  Splitting the Training data into both Training and Validation Sets:\n",
    "\n",
    "- Although this is the Training set, we can still set aside some samples (for instance 20%) of the 1,500 instances we have for Model Validation purposes.\n",
    "\n",
    "\n",
    "- With that Validation Set, we can then select the amount of Uncertainty we are happy with from our Model to use out of sample on other unseen data.\n",
    "\n",
    "\n",
    "- We can then test out how well our decision performs on the Test Set that we put aside earlier."
   ]
  },
  {
   "cell_type": "code",
   "execution_count": 104,
   "metadata": {
    "executionInfo": {
     "elapsed": 279,
     "status": "ok",
     "timestamp": 1632079882764,
     "user": {
      "displayName": "stephen quirke",
      "photoUrl": "https://lh3.googleusercontent.com/a-/AOh14Gjoyg0ARV4aTEr2M4t4F5DO1MLVi5NfSF85m66gQA=s64",
      "userId": "02476977115804623661"
     },
     "user_tz": -60
    },
    "id": "YdsmyVAtPXNn"
   },
   "outputs": [],
   "source": [
    "### Split tha dataset in training and validation sets\n",
    "# choose the fraction of your validation data from the training set\n",
    "w = 0.20\n",
    "X_train, X_val, y_train, y_val = train_test_split(X_train, y_train, test_size=w, random_state=0)\n",
    " \n",
    "# Shuffling the training instaces around to randomize the order of inputs to the model:\n",
    "X_train, y_train = shuffle(X_train, y_train)"
   ]
  },
  {
   "cell_type": "code",
   "execution_count": 105,
   "metadata": {
    "colab": {
     "base_uri": "https://localhost:8080/"
    },
    "executionInfo": {
     "elapsed": 236,
     "status": "ok",
     "timestamp": 1632079888170,
     "user": {
      "displayName": "stephen quirke",
      "photoUrl": "https://lh3.googleusercontent.com/a-/AOh14Gjoyg0ARV4aTEr2M4t4F5DO1MLVi5NfSF85m66gQA=s64",
      "userId": "02476977115804623661"
     },
     "user_tz": -60
    },
    "id": "qXwJwP0iPxhi",
    "outputId": "7b0c5dc9-e723-45a0-cbd5-d5fdcb091c0b"
   },
   "outputs": [
    {
     "name": "stdout",
     "output_type": "stream",
     "text": [
      "Validation Shape:  (12000, 784)\n",
      "Training Shape:  (3000, 784)\n"
     ]
    }
   ],
   "source": [
    "# print shape of your validation and training set\n",
    "\n",
    "print(\"Validation Shape: \", X_train.shape)\n",
    "print(\"Training Shape: \", X_val.shape)"
   ]
  },
  {
   "cell_type": "markdown",
   "metadata": {
    "id": "aOroY1QoP8DY"
   },
   "source": [
    "### Encoding the Class labels for the Probabilistic ML Model:\n",
    "\n",
    "This is an example:\n",
    "\n",
    "- **[1,0,0]** for first digit\n",
    "- **[0,1,0]** for second digit\n",
    "- **[0,0,1]** for third digit"
   ]
  },
  {
   "cell_type": "markdown",
   "metadata": {
    "id": "rjUaqWTqQIcp"
   },
   "source": [
    "### General-Recipe ML"
   ]
  },
  {
   "cell_type": "code",
   "execution_count": 106,
   "metadata": {
    "colab": {
     "base_uri": "https://localhost:8080/"
    },
    "executionInfo": {
     "elapsed": 31219,
     "status": "ok",
     "timestamp": 1632079929302,
     "user": {
      "displayName": "stephen quirke",
      "photoUrl": "https://lh3.googleusercontent.com/a-/AOh14Gjoyg0ARV4aTEr2M4t4F5DO1MLVi5NfSF85m66gQA=s64",
      "userId": "02476977115804623661"
     },
     "user_tz": -60
    },
    "id": "QzgdivxfQNv5",
    "outputId": "6c90c970-0162-4e2d-b1d1-dba06e6b41ff"
   },
   "outputs": [
    {
     "name": "stdout",
     "output_type": "stream",
     "text": [
      "Accuracy Score: 0.974\n"
     ]
    }
   ],
   "source": [
    "# model\n",
    "model_log = LogisticRegression(random_state=0, max_iter=2000, C=100, solver='lbfgs', multi_class='multinomial')\n",
    "model_log.fit(X_train, y_train)\n",
    "\n",
    "# Classification:\n",
    "y_pred_log = model_log.predict(X_val)\n",
    "y_pred_logi_prob = model_log.predict_proba(X_val)\n",
    "\n",
    "# Maybe taking the maximum probability \n",
    "# in any of the classes for each observation\n",
    "prob_classmax = np.max(y_pred_logi_prob,axis=1)\n",
    "\n",
    "# Computing the Accuracy:\n",
    "print(f\"Accuracy Score: {accuracy_score(y_pred_log, y_val)}\")"
   ]
  },
  {
   "cell_type": "markdown",
   "metadata": {
    "id": "6cdz2y1Zv3m_"
   },
   "source": [
    "## Commentary\n",
    "\n",
    "For the digit classess 1,2, and 6, we get a score of 0.974 which is an excellent result including hard to detect digits."
   ]
  },
  {
   "cell_type": "code",
   "execution_count": 109,
   "metadata": {
    "colab": {
     "base_uri": "https://localhost:8080/"
    },
    "executionInfo": {
     "elapsed": 252,
     "status": "ok",
     "timestamp": 1632079986818,
     "user": {
      "displayName": "stephen quirke",
      "photoUrl": "https://lh3.googleusercontent.com/a-/AOh14Gjoyg0ARV4aTEr2M4t4F5DO1MLVi5NfSF85m66gQA=s64",
      "userId": "02476977115804623661"
     },
     "user_tz": -60
    },
    "id": "0lBrWKw1nT-d",
    "outputId": "35707f35-96b2-405e-f45c-e0ac66b14d87"
   },
   "outputs": [
    {
     "data": {
      "text/plain": [
       "array([0.42794286, 0.51281636, 0.51719572, ..., 1.        , 1.        ,\n",
       "       1.        ])"
      ]
     },
     "execution_count": 109,
     "metadata": {},
     "output_type": "execute_result"
    }
   ],
   "source": [
    "np.sort(prob_classmax)"
   ]
  },
  {
   "cell_type": "code",
   "execution_count": 110,
   "metadata": {
    "colab": {
     "base_uri": "https://localhost:8080/"
    },
    "executionInfo": {
     "elapsed": 226,
     "status": "ok",
     "timestamp": 1632079988419,
     "user": {
      "displayName": "stephen quirke",
      "photoUrl": "https://lh3.googleusercontent.com/a-/AOh14Gjoyg0ARV4aTEr2M4t4F5DO1MLVi5NfSF85m66gQA=s64",
      "userId": "02476977115804623661"
     },
     "user_tz": -60
    },
    "id": "f8qmTGb-nRm5",
    "outputId": "b67a4987-a992-4beb-9b4a-f8bc7017848c"
   },
   "outputs": [
    {
     "data": {
      "text/plain": [
       "(78,)"
      ]
     },
     "execution_count": 110,
     "metadata": {},
     "output_type": "execute_result"
    }
   ],
   "source": [
    "# probability of general-recipe logistic regression in wrong instances\n",
    "prob_classmax[y_pred_log!=y_val]\n",
    "prob_classmax[y_pred_log!=y_val].shape"
   ]
  },
  {
   "cell_type": "markdown",
   "metadata": {
    "id": "2wivl9kzjTAe"
   },
   "source": [
    "### Commentary:\n",
    "\n",
    "78 digits have been misclassified, which is a good performance and ties in with accuracy score as there is 3000 samples in the validation set."
   ]
  },
  {
   "cell_type": "code",
   "execution_count": 112,
   "metadata": {
    "colab": {
     "base_uri": "https://localhost:8080/"
    },
    "executionInfo": {
     "elapsed": 245,
     "status": "ok",
     "timestamp": 1632080148359,
     "user": {
      "displayName": "stephen quirke",
      "photoUrl": "https://lh3.googleusercontent.com/a-/AOh14Gjoyg0ARV4aTEr2M4t4F5DO1MLVi5NfSF85m66gQA=s64",
      "userId": "02476977115804623661"
     },
     "user_tz": -60
    },
    "id": "KlBr9Nzyuevg",
    "outputId": "6dc3a93b-67bd-4d73-89a9-5e6fc42d8057"
   },
   "outputs": [
    {
     "data": {
      "text/plain": [
       "array([[0.98932606, 0.01067394, 0.        ],\n",
       "       [0.        , 0.        , 1.        ],\n",
       "       [0.        , 0.00000003, 0.99999997],\n",
       "       ...,\n",
       "       [0.        , 0.        , 1.        ],\n",
       "       [0.        , 1.        , 0.        ],\n",
       "       [0.99999994, 0.00000006, 0.        ]])"
      ]
     },
     "execution_count": 112,
     "metadata": {},
     "output_type": "execute_result"
    }
   ],
   "source": [
    "np.array(y_pred_logi_prob)"
   ]
  },
  {
   "cell_type": "markdown",
   "metadata": {
    "id": "3uQG6JsOQxH5"
   },
   "source": [
    "### Probabilistic Multinomial Logistic Regression:"
   ]
  },
  {
   "cell_type": "code",
   "execution_count": 114,
   "metadata": {
    "executionInfo": {
     "elapsed": 554,
     "status": "ok",
     "timestamp": 1632080161470,
     "user": {
      "displayName": "stephen quirke",
      "photoUrl": "https://lh3.googleusercontent.com/a-/AOh14Gjoyg0ARV4aTEr2M4t4F5DO1MLVi5NfSF85m66gQA=s64",
      "userId": "02476977115804623661"
     },
     "user_tz": -60
    },
    "id": "W3jzczJzRAtT"
   },
   "outputs": [],
   "source": [
    "import sklearn.preprocessing\n",
    "## We use LabelBinarizer to transfor classes into counts\n",
    "# neg_label=0, pos_label=1 \n",
    "y_2_bin = sklearn.preprocessing.LabelBinarizer().fit_transform(y_train.reshape(-1,1))\n",
    "nf = X_train.shape[1]\n",
    "# number of classes\n",
    "nc = len(classes)\n",
    "# floatX = float32\n",
    "floatX = tt.config.floatX\n",
    "\n",
    "init_b = np.random.randn(nf, nc-1).astype(floatX)\n",
    "init_a = np.random.randn(nc-1).astype(floatX)\n",
    "\n",
    "\n",
    "with pm.Model() as multi_logistic:\n",
    "    # Prior\n",
    "    β = pm.Normal('beta', 0, sigma=100, shape=(nf, nc-1), testval=init_b)\n",
    "    α = pm.Normal('alpha', 0, sigma=100, shape=(nc-1,), testval=init_a)\n",
    "    \n",
    "    # we need to consider nc-1 features because the model is not identifiable\n",
    "    # the softmax turns a vector into a probability that sums up to one\n",
    "    # therefore we add zeros to go back to dimension nc\n",
    "    # so that softmax returns a vector of dimension nc\n",
    "    β1  = tt.tensor.concatenate([np.zeros((nf,1)),β ],axis=1)\n",
    "    α1  = tt.tensor.concatenate([[0],α ],)\n",
    "    \n",
    "    # Likelihood\n",
    "    mu = pm.math.matrix_dot(X_train,β1) + α1\n",
    "    # It doesn't work if the problem is binary\n",
    "    p = tt.tensor.nnet.nnet.softmax(mu)\n",
    "    observed = pm.Multinomial('likelihood', p=p, n=1, observed=y_2_bin)"
   ]
  },
  {
   "cell_type": "markdown",
   "metadata": {
    "id": "irlmUNw7Q5YL"
   },
   "source": [
    "The Multinomial Logistic Regression has some parameters:\n",
    "\n",
    "- $\\alpha$, which is the intercept term:\n",
    "\n",
    "- $\\beta$, which is a vector of coefficients which give a weighting to the importance of each input feature:\n"
   ]
  },
  {
   "cell_type": "code",
   "execution_count": 115,
   "metadata": {
    "colab": {
     "base_uri": "https://localhost:8080/"
    },
    "executionInfo": {
     "elapsed": 396,
     "status": "ok",
     "timestamp": 1632080169754,
     "user": {
      "displayName": "stephen quirke",
      "photoUrl": "https://lh3.googleusercontent.com/a-/AOh14Gjoyg0ARV4aTEr2M4t4F5DO1MLVi5NfSF85m66gQA=s64",
      "userId": "02476977115804623661"
     },
     "user_tz": -60
    },
    "id": "1o7mbKWmRhz5",
    "outputId": "1f03babf-f79f-45da-e4f8-1b18c4b28904"
   },
   "outputs": [
    {
     "data": {
      "text/plain": [
       "array([[0, 0, 1],\n",
       "       [1, 0, 0],\n",
       "       [1, 0, 0],\n",
       "       ...,\n",
       "       [0, 1, 0],\n",
       "       [1, 0, 0],\n",
       "       [0, 0, 1]])"
      ]
     },
     "execution_count": 115,
     "metadata": {},
     "output_type": "execute_result"
    }
   ],
   "source": [
    "y_2_bin"
   ]
  },
  {
   "cell_type": "code",
   "execution_count": 117,
   "metadata": {
    "colab": {
     "base_uri": "https://localhost:8080/",
     "height": 54
    },
    "executionInfo": {
     "elapsed": 167425,
     "status": "ok",
     "timestamp": 1632080570788,
     "user": {
      "displayName": "stephen quirke",
      "photoUrl": "https://lh3.googleusercontent.com/a-/AOh14Gjoyg0ARV4aTEr2M4t4F5DO1MLVi5NfSF85m66gQA=s64",
      "userId": "02476977115804623661"
     },
     "user_tz": -60
    },
    "id": "gd-Za6K69Rc_",
    "outputId": "36bbf43a-231f-4d38-cffe-f5b084c3088f"
   },
   "outputs": [
    {
     "data": {
      "text/html": [
       "\n",
       "    <div>\n",
       "        <style>\n",
       "            /* Turns off some styling */\n",
       "            progress {\n",
       "                /* gets rid of default border in Firefox and Opera. */\n",
       "                border: none;\n",
       "                /* Needs to be in here for Safari polyfill so background images work as expected. */\n",
       "                background-size: auto;\n",
       "            }\n",
       "            .progress-bar-interrupted, .progress-bar-interrupted::-webkit-progress-bar {\n",
       "                background: #F44336;\n",
       "            }\n",
       "        </style>\n",
       "      <progress value='3000' class='' max='3000' style='width:300px; height:20px; vertical-align: middle;'></progress>\n",
       "      100.00% [3000/3000 02:44<00:00 Average Loss = 17,879]\n",
       "    </div>\n",
       "    "
      ],
      "text/plain": [
       "<IPython.core.display.HTML object>"
      ]
     },
     "metadata": {},
     "output_type": "display_data"
    },
    {
     "name": "stderr",
     "output_type": "stream",
     "text": [
      "Finished [100%]: Average Loss = 17,842\n"
     ]
    }
   ],
   "source": [
    "#https://docs.pymc.io/notebooks/variational_api_quickstart.html\n",
    "\n",
    "from pymc3.variational.callbacks import CheckParametersConvergence\n",
    "\n",
    "with multi_logistic:\n",
    "    mean_field = pm.fit(3000, method=\"advi\", callbacks=[pm.callbacks.CheckParametersConvergence(diff=\"absolute\")]\n",
    "    )"
   ]
  },
  {
   "cell_type": "code",
   "execution_count": 118,
   "metadata": {
    "colab": {
     "base_uri": "https://localhost:8080/",
     "height": 594
    },
    "executionInfo": {
     "elapsed": 556,
     "status": "ok",
     "timestamp": 1632080670442,
     "user": {
      "displayName": "stephen quirke",
      "photoUrl": "https://lh3.googleusercontent.com/a-/AOh14Gjoyg0ARV4aTEr2M4t4F5DO1MLVi5NfSF85m66gQA=s64",
      "userId": "02476977115804623661"
     },
     "user_tz": -60
    },
    "id": "peGYU70jAisV",
    "outputId": "9df5679a-e194-4019-e5b9-e34e6f7a65fa"
   },
   "outputs": [
    {
     "data": {
      "text/plain": [
       "[<matplotlib.lines.Line2D at 0x7f739fdd4650>]"
      ]
     },
     "execution_count": 118,
     "metadata": {},
     "output_type": "execute_result"
    },
    {
     "data": {
      "image/png": "[encoded data removed]",
      "text/plain": [
       "<Figure size 800x600 with 1 Axes>"
      ]
     },
     "metadata": {},
     "output_type": "display_data"
    }
   ],
   "source": [
    "plt.figure(figsize=(8,6), dpi= 100, facecolor='lightblue', edgecolor='k')\n",
    "plt.title(' Multinomial Logistic Regression - Loss')\n",
    "plt.plot(mean_field.hist)"
   ]
  },
  {
   "cell_type": "markdown",
   "metadata": {
    "id": "215UK7CRgM8Z"
   },
   "source": [
    "### Commentary:\n",
    "\n",
    "*   We see plotted above the loss per iteration of the Probabilistic Multi Logistic Regression model the PyMC3 automatic differentiation variational inference(ADVI) method.\n",
    "*   The average loss per iteration is 17,842 at 3000 iteration and we do not get a convergence at any stage.\n",
    "*   The trend shows a clear decline in loss per iteration.\n",
    "\n",
    "\n",
    "\n",
    "\n"
   ]
  },
  {
   "cell_type": "code",
   "execution_count": 119,
   "metadata": {
    "executionInfo": {
     "elapsed": 542,
     "status": "ok",
     "timestamp": 1632080716502,
     "user": {
      "displayName": "stephen quirke",
      "photoUrl": "https://lh3.googleusercontent.com/a-/AOh14Gjoyg0ARV4aTEr2M4t4F5DO1MLVi5NfSF85m66gQA=s64",
      "userId": "02476977115804623661"
     },
     "user_tz": -60
    },
    "id": "WNmJvYc4Rho7"
   },
   "outputs": [],
   "source": [
    "dd = 300\n",
    "posterior = approx.sample(draws=dd)"
   ]
  },
  {
   "cell_type": "markdown",
   "metadata": {
    "id": "WSWFgyW4LMep"
   },
   "source": [
    "### Commentary:\n",
    "\n",
    "The posterior is calculated using 300 samples."
   ]
  },
  {
   "cell_type": "code",
   "execution_count": 120,
   "metadata": {
    "colab": {
     "base_uri": "https://localhost:8080/",
     "height": 253
    },
    "executionInfo": {
     "elapsed": 459,
     "status": "ok",
     "timestamp": 1632080725007,
     "user": {
      "displayName": "stephen quirke",
      "photoUrl": "https://lh3.googleusercontent.com/a-/AOh14Gjoyg0ARV4aTEr2M4t4F5DO1MLVi5NfSF85m66gQA=s64",
      "userId": "02476977115804623661"
     },
     "user_tz": -60
    },
    "id": "XXh5GXJsRhmr",
    "outputId": "87c1922c-63ab-444a-cda3-9ec09e5ea7e4"
   },
   "outputs": [
    {
     "name": "stdout",
     "output_type": "stream",
     "text": [
      "test image #10\n",
      "posterior sample #100\n",
      "true class= 6.0\n",
      "classes: [1, 2, 6]\n",
      "estimated prob= [0.00000001 0.99999359 0.0000064 ]\n"
     ]
    },
    {
     "data": {
      "image/png": "[encoded data removed]",
      "text/plain": [
       "<Figure size 144x144 with 1 Axes>"
      ]
     },
     "metadata": {},
     "output_type": "display_data"
    }
   ],
   "source": [
    "## The softmax function transforms each element of a collection by computing the exponential\n",
    "#  of each element divided by the sum of the exponentials of all the elements.\n",
    "from scipy.special import softmax\n",
    "\n",
    "#select an image in the test set\n",
    "i = 10 \n",
    "#i = random.randint(0, dd)\n",
    "\n",
    "#select a sample in the posterior\n",
    "s = 100 \n",
    "#s = random.randint(0, dd)\n",
    "\n",
    "beta  = np.hstack([np.zeros((nf,1)),  posterior['beta'][s,:] ])\n",
    "alpha = np.hstack([[0],  posterior['alpha'][s,:] ])\n",
    "image = X_val[i,:].reshape(28,28)\n",
    "plt.figure(figsize=(2,2))\n",
    "plt.imshow(image,cmap=\"Greys_r\")\n",
    "np.set_printoptions(suppress=True)\n",
    "\n",
    "print(\"test image #\" + str(i))\n",
    "print(\"posterior sample #\" + str(s))\n",
    "print(\"true class=\", y_val[i])\n",
    "print(\"classes: \" + str(classes))\n",
    "print(\"estimated prob=\",softmax((np.array([X_val[i,:].dot(beta) + alpha])))[0,:])"
   ]
  },
  {
   "cell_type": "markdown",
   "metadata": {
    "id": "LlKT_USWKTto"
   },
   "source": [
    "### Commentary:\n",
    "\n",
    "*   We see the probability for this digit 6 been classfied as a 2 as 99%.\n",
    "*   It is likely that this is due to the image being on its side."
   ]
  },
  {
   "cell_type": "markdown",
   "metadata": {
    "id": "ui0YZiSqmpec"
   },
   "source": [
    "## Bayesian Prediction"
   ]
  },
  {
   "cell_type": "code",
   "execution_count": 121,
   "metadata": {
    "executionInfo": {
     "elapsed": 3,
     "status": "ok",
     "timestamp": 1632081433465,
     "user": {
      "displayName": "stephen quirke",
      "photoUrl": "https://lh3.googleusercontent.com/a-/AOh14Gjoyg0ARV4aTEr2M4t4F5DO1MLVi5NfSF85m66gQA=s64",
      "userId": "02476977115804623661"
     },
     "user_tz": -60
    },
    "id": "9IFYXlgInnjd"
   },
   "outputs": [],
   "source": [
    "# Bayesian prediction\n",
    "# return the class that has the highest posterior probability\n",
    "y_pred_Bayesian=[]\n",
    "\n",
    "for i in range(X_val.shape[0]):\n",
    "    val=np.zeros((1,len(classes)))\n",
    "    \n",
    "    for s in range(posterior['beta'].shape[0]):\n",
    "        beta = np.hstack([np.zeros((nf,1)),  posterior['beta'][s,:] ])\n",
    "        alpha = np.hstack([[0],  posterior['alpha'][s,:] ])     \n",
    "        val = val + softmax((np.array([X_val[i,:].dot(beta) + alpha])))\n",
    "    \n",
    "    mean_probability = val/posterior['beta'].shape[0]\n",
    "    y_pred_Bayesian.append( np.argmax(mean_probability))"
   ]
  },
  {
   "cell_type": "code",
   "execution_count": 122,
   "metadata": {
    "colab": {
     "base_uri": "https://localhost:8080/"
    },
    "executionInfo": {
     "elapsed": 21,
     "status": "ok",
     "timestamp": 1632081793864,
     "user": {
      "displayName": "stephen quirke",
      "photoUrl": "https://lh3.googleusercontent.com/a-/AOh14Gjoyg0ARV4aTEr2M4t4F5DO1MLVi5NfSF85m66gQA=s64",
      "userId": "02476977115804623661"
     },
     "user_tz": -60
    },
    "id": "oa5TjnoUF0oN",
    "outputId": "09d20799-f53f-479e-b881-9cdda0a15aad"
   },
   "outputs": [
    {
     "name": "stdout",
     "output_type": "stream",
     "text": [
      "[0, 2, 1, 0, 1, 0, 2, 2, 1, 0, 1, 1, 0, 2, 0, 2, 0, 2, 2, 1, 2, 2, 1, 0, 0, 0, 2, 1, 1, 1, 1, 2, 1, 0, 2, 1, 2, 1, 2, 1, 2, 1, 2, 2, 0, 2, 1, 2, 2, 2, 2, 2, 1, 2, 1, 0, 0, 0, 2, 1, 2, 2, 1, 1, 1, 2, 1, 1, 0, 0, 2, 0, 1, 0, 2, 2, 1, 2, 1, 2, 2, 0, 0, 1, 2, 2, 2, 2, 1, 0, 1, 0, 0, 1, 2, 0, 2, 2, 0, 1, 1, 0, 1, 2, 1, 2, 0, 2, 2, 0, 0, 2, 1, 1, 1, 0, 2, 0, 1, 2, 2, 1, 0, 2, 0, 0, 0, 0, 2, 2, 2, 1, 1, 2, 2, 1, 2, 0, 1, 0, 1, 2, 1, 1, 0, 1, 0, 1, 1, 0, 0, 1, 1, 2, 2, 1, 2, 0, 0, 1, 0, 1, 2, 0, 0, 0, 1, 1, 2, 1, 2, 2, 2, 2, 0, 2, 1, 1, 2, 1, 2, 1, 2, 0, 0, 2, 2, 2, 2, 2, 0, 1, 2, 2, 1, 0, 0, 0, 2, 1, 1, 2, 1, 0, 2, 0, 2, 1, 2, 1, 2, 2, 0, 1, 0, 0, 2, 0, 1, 0, 1, 2, 2, 0, 0, 1, 2, 2, 2, 2, 2, 2, 1, 0, 2, 0, 0, 2, 1, 2, 1, 2, 2, 2, 2, 0, 1, 0, 0, 0, 1, 1, 1, 2, 2, 2, 1, 2, 2, 2, 2, 2, 0, 1, 2, 1, 1, 1, 0, 0, 0, 0, 2, 2, 2, 1, 2, 0, 1, 2, 2, 0, 1, 1, 0, 2, 0, 2, 1, 1, 0, 0, 1, 2, 0, 0, 1, 1, 1, 1, 0, 0, 2, 2, 1, 1, 2, 1, 0, 0, 0, 2, 0, 2, 2, 0, 0, 1, 0, 0, 2, 1, 2, 0, 2, 0, 2, 1, 1, 2, 1, 2, 2, 0, 0, 0, 2, 2, 2, 1, 2, 1, 1, 2, 1, 0, 0, 2, 1, 0, 0, 1, 2, 0, 2, 2, 2, 2, 0, 0, 0, 1, 1, 0, 0, 0, 2, 2, 0, 1, 0, 2, 0, 0, 1, 2, 1, 0, 0, 1, 2, 0, 2, 0, 2, 1, 2, 2, 2, 1, 1, 0, 0, 2, 2, 0, 0, 2, 1, 1, 2, 0, 0, 0, 0, 1, 0, 1, 1, 2, 0, 1, 1, 1, 1, 0, 2, 0, 2, 0, 1, 0, 1, 1, 1, 1, 0, 1, 1, 2, 1, 1, 1, 1, 0, 0, 2, 0, 1, 1, 2, 0, 1, 1, 1, 2, 2, 0, 0, 1, 2, 1, 2, 2, 1, 2, 1, 0, 2, 1, 2, 2, 1, 0, 0, 1, 0, 1, 0, 2, 0, 0, 2, 2, 2, 2, 1, 0, 2, 0, 1, 2, 1, 1, 1, 0, 2, 1, 2, 1, 2, 0, 0, 0, 1, 2, 1, 2, 0, 2, 2, 1, 1, 1, 2, 0, 1, 0, 2, 0, 2, 2, 0, 0, 2, 2, 0, 2, 1, 2, 1, 2, 1, 1, 1, 0, 0, 1, 1, 2, 1, 0, 2, 2, 2, 2, 1, 2, 2, 2, 1, 1, 1, 0, 0, 0, 1, 2, 0, 1, 2, 2, 2, 2, 0, 1, 1, 1, 2, 0, 1, 1, 1, 1, 0, 2, 0, 1, 1, 2, 0, 2, 0, 1, 0, 1, 2, 0, 2, 1, 2, 2, 2, 0, 2, 2, 1, 2, 0, 2, 2, 1, 0, 1, 0, 1, 1, 1, 0, 2, 0, 2, 1, 1, 0, 0, 0, 1, 2, 0, 2, 0, 1, 1, 0, 0, 0, 2, 0, 2, 1, 0, 2, 1, 2, 0, 0, 2, 1, 0, 1, 0, 2, 2, 1, 1, 1, 0, 0, 0, 1, 1, 0, 2, 0, 1, 1, 0, 2, 1, 1, 0, 2, 2, 2, 2, 1, 2, 2, 2, 2, 2, 0, 1, 1, 0, 2, 1, 2, 1, 2, 1, 1, 1, 0, 2, 1, 1, 0, 2, 2, 1, 1, 0, 0, 1, 2, 1, 0, 0, 2, 1, 0, 2, 2, 1, 0, 2, 0, 0, 1, 2, 0, 2, 2, 1, 1, 0, 1, 1, 2, 2, 1, 0, 0, 0, 1, 1, 0, 1, 1, 0, 2, 0, 0, 0, 2, 1, 0, 2, 0, 1, 0, 2, 1, 2, 0, 0, 1, 1, 0, 1, 1, 1, 0, 2, 1, 2, 0, 0, 2, 1, 2, 2, 0, 2, 2, 1, 2, 0, 0, 1, 2, 2, 1, 0, 0, 0, 1, 0, 1, 0, 1, 2, 1, 0, 1, 1, 2, 0, 2, 0, 2, 1, 0, 2, 0, 2, 2, 0, 2, 0, 2, 2, 1, 0, 1, 2, 0, 0, 1, 2, 0, 0, 2, 2, 0, 0, 0, 2, 0, 0, 0, 2, 0, 2, 2, 2, 0, 0, 2, 0, 1, 2, 0, 1, 0, 2, 1, 2, 0, 2, 1, 0, 0, 1, 0, 2, 1, 2, 2, 2, 2, 1, 1, 1, 1, 1, 0, 2, 0, 2, 0, 0, 1, 2, 2, 2, 0, 2, 0, 0, 0, 1, 2, 1, 0, 1, 0, 2, 2, 2, 1, 2, 0, 0, 0, 0, 1, 2, 0, 2, 1, 1, 2, 1, 0, 1, 2, 1, 2, 1, 2, 2, 1, 0, 2, 1, 0, 2, 0, 0, 0, 2, 2, 1, 0, 1, 0, 0, 2, 1, 0, 2, 0, 0, 0, 1, 1, 1, 1, 1, 2, 2, 0, 1, 2, 0, 1, 2, 0, 2, 2, 0, 1, 2, 1, 2, 2, 2, 0, 2, 2, 0, 0, 1, 1, 2, 2, 2, 1, 2, 2, 2, 1, 0, 0, 2, 2, 2, 1, 1, 1, 2, 0, 2, 1, 1, 0, 0, 1, 0, 0, 1, 0, 0, 2, 0, 0, 1, 2, 1, 2, 0, 2, 0, 1, 1, 1, 2, 2, 0, 2, 0, 1, 2, 2, 0, 0, 0, 0, 1, 0, 2, 1, 2, 0, 0, 2, 0, 0, 0, 1, 0, 0, 2, 2, 2, 2, 2, 0, 2, 1, 0, 0, 0, 2, 0, 1, 0, 0, 1, 1, 2, 2, 0, 1, 0, 0, 0, 2, 0, 1, 2, 2, 0, 0, 2, 1, 1, 1, 1, 1, 0, 2, 1, 1, 2, 1, 1, 0, 2, 0, 0, 0, 2, 1, 0, 1, 2, 1, 1, 0, 0, 1, 1, 1, 2, 2, 1, 2, 0, 0, 2, 1, 1, 0, 2, 2, 0, 1, 1, 2, 2, 0, 0, 2, 0, 2, 1, 2, 2, 2, 2, 1, 1, 1, 1, 2, 1, 2, 2, 0, 0, 2, 1, 2, 1, 2, 1, 0, 2, 1, 1, 1, 2, 2, 1, 2, 2, 0, 1, 0, 0, 1, 2, 1, 1, 2, 0, 1, 1, 2, 0, 2, 2, 1, 1, 0, 0, 0, 1, 2, 1, 0, 1, 1, 1, 1, 1, 0, 2, 0, 1, 0, 2, 2, 0, 0, 0, 0, 2, 1, 1, 1, 2, 2, 2, 1, 1, 2, 2, 1, 1, 2, 0, 1, 2, 2, 0, 1, 0, 0, 1, 2, 0, 0, 2, 1, 2, 2, 0, 2, 1, 2, 2, 2, 0, 2, 2, 1, 2, 2, 1, 0, 2, 2, 2, 1, 1, 2, 2, 2, 2, 2, 1, 0, 2, 0, 2, 0, 0, 0, 2, 2, 2, 1, 0, 2, 0, 0, 2, 1, 1, 1, 0, 1, 1, 2, 1, 2, 1, 2, 0, 1, 1, 2, 2, 2, 0, 2, 0, 0, 2, 0, 0, 1, 0, 2, 0, 2, 1, 0, 0, 2, 2, 0, 2, 2, 1, 0, 0, 2, 2, 1, 2, 2, 1, 2, 2, 0, 2, 2, 1, 2, 0, 1, 0, 1, 1, 0, 2, 1, 0, 2, 1, 2, 2, 0, 2, 2, 1, 2, 2, 2, 1, 2, 2, 0, 0, 2, 2, 2, 1, 0, 0, 2, 2, 1, 1, 0, 1, 0, 2, 2, 0, 2, 1, 1, 0, 0, 1, 2, 1, 1, 0, 1, 1, 0, 0, 1, 0, 1, 2, 0, 0, 1, 1, 0, 0, 1, 2, 0, 2, 2, 2, 0, 2, 2, 1, 0, 1, 2, 0, 0, 2, 2, 2, 1, 2, 1, 1, 0, 1, 1, 1, 2, 0, 1, 2, 1, 0, 2, 0, 2, 1, 2, 2, 1, 0, 2, 0, 0, 0, 0, 2, 1, 0, 0, 2, 2, 0, 2, 0, 1, 0, 1, 1, 0, 1, 1, 1, 1, 1, 2, 0, 0, 2, 2, 2, 1, 1, 1, 1, 2, 0, 1, 0, 0, 1, 1, 0, 1, 0, 0, 1, 0, 0, 2, 0, 1, 1, 0, 1, 1, 2, 1, 2, 0, 1, 1, 0, 1, 0, 2, 2, 0, 2, 1, 2, 2, 0, 1, 0, 1, 1, 0, 1, 0, 1, 1, 0, 1, 2, 0, 1, 1, 2, 0, 2, 2, 2, 2, 0, 1, 0, 0, 1, 2, 0, 0, 2, 2, 0, 2, 2, 2, 0, 1, 1, 0, 0, 0, 0, 0, 1, 0, 0, 1, 0, 2, 1, 1, 1, 0, 0, 0, 0, 1, 0, 0, 1, 2, 1, 0, 1, 1, 1, 1, 1, 1, 1, 1, 2, 0, 1, 0, 1, 0, 1, 1, 1, 0, 0, 1, 0, 0, 0, 1, 2, 0, 2, 1, 0, 1, 1, 0, 0, 0, 2, 0, 0, 2, 1, 0, 1, 0, 1, 0, 0, 2, 1, 1, 1, 2, 2, 1, 1, 0, 1, 0, 2, 1, 0, 2, 2, 0, 0, 2, 0, 2, 1, 2, 0, 0, 0, 0, 0, 2, 0, 2, 2, 2, 2, 0, 2, 1, 1, 1, 1, 2, 2, 0, 1, 0, 1, 2, 0, 1, 1, 0, 0, 1, 1, 2, 1, 1, 1, 0, 0, 2, 1, 1, 1, 1, 0, 1, 0, 0, 0, 1, 2, 1, 1, 0, 2, 0, 2, 1, 2, 1, 2, 2, 1, 2, 0, 2, 2, 0, 2, 2, 0, 2, 0, 0, 1, 2, 1, 2, 1, 1, 1, 1, 1, 0, 2, 2, 1, 0, 1, 0, 1, 1, 0, 0, 2, 2, 0, 0, 2, 2, 1, 1, 1, 0, 0, 1, 0, 0, 2, 1, 0, 0, 0, 1, 0, 1, 2, 0, 2, 2, 1, 1, 0, 1, 2, 2, 2, 0, 2, 1, 1, 0, 2, 0, 0, 2, 1, 1, 0, 2, 0, 0, 2, 2, 1, 1, 0, 2, 2, 1, 1, 0, 0, 0, 0, 1, 2, 1, 0, 0, 1, 0, 2, 2, 1, 1, 2, 1, 2, 2, 0, 0, 1, 1, 1, 2, 0, 0, 2, 0, 0, 1, 1, 2, 2, 2, 0, 0, 2, 2, 0, 2, 1, 1, 1, 2, 2, 1, 2, 0, 1, 1, 1, 1, 0, 1, 0, 0, 0, 0, 1, 0, 1, 1, 2, 2, 0, 2, 0, 1, 1, 2, 0, 2, 2, 2, 2, 0, 1, 1, 0, 0, 1, 2, 1, 2, 0, 1, 2, 1, 2, 2, 2, 2, 0, 1, 2, 2, 1, 0, 2, 0, 2, 2, 2, 0, 2, 1, 0, 2, 0, 1, 2, 1, 1, 0, 0, 1, 0, 2, 2, 2, 2, 2, 2, 2, 2, 0, 0, 1, 1, 0, 1, 1, 2, 2, 2, 0, 2, 1, 0, 2, 1, 1, 1, 2, 0, 1, 2, 0, 1, 2, 1, 1, 0, 0, 1, 2, 0, 1, 1, 2, 0, 0, 2, 2, 2, 0, 1, 0, 1, 0, 2, 1, 2, 1, 2, 1, 0, 0, 0, 2, 1, 1, 0, 0, 0, 2, 1, 2, 0, 1, 0, 1, 0, 0, 2, 0, 1, 2, 0, 1, 1, 2, 1, 2, 2, 0, 1, 2, 2, 0, 0, 0, 1, 2, 2, 1, 1, 0, 2, 0, 2, 1, 1, 1, 2, 2, 1, 2, 2, 1, 2, 2, 2, 0, 2, 2, 1, 0, 2, 1, 2, 1, 2, 1, 1, 2, 2, 0, 2, 0, 2, 1, 1, 1, 0, 0, 0, 0, 1, 2, 1, 0, 0, 2, 0, 0, 2, 0, 2, 2, 1, 2, 2, 1, 1, 0, 2, 1, 0, 0, 1, 2, 2, 2, 2, 2, 0, 0, 1, 0, 2, 0, 1, 1, 0, 2, 0, 1, 0, 2, 2, 1, 1, 1, 0, 1, 1, 1, 1, 2, 2, 1, 2, 2, 2, 1, 2, 2, 0, 2, 0, 2, 2, 1, 1, 1, 1, 2, 1, 1, 1, 2, 1, 0, 1, 0, 1, 1, 2, 2, 0, 1, 2, 1, 2, 1, 0, 1, 1, 0, 0, 1, 2, 1, 0, 0, 2, 0, 0, 0, 0, 2, 1, 1, 0, 1, 0, 2, 2, 1, 1, 2, 1, 0, 0, 1, 2, 2, 1, 1, 1, 1, 1, 0, 0, 2, 0, 0, 1, 2, 0, 2, 0, 1, 0, 2, 0, 0, 2, 0, 1, 0, 2, 0, 1, 2, 1, 2, 0, 0, 2, 0, 0, 0, 0, 0, 0, 2, 0, 2, 0, 2, 2, 0, 2, 0, 0, 1, 2, 2, 0, 1, 0, 1, 2, 2, 1, 2, 0, 0, 2, 1, 0, 2, 1, 0, 1, 1, 2, 2, 2, 0, 1, 0, 1, 0, 2, 1, 2, 2, 1, 0, 2, 0, 2, 2, 0, 0, 0, 2, 2, 1, 2, 2, 0, 2, 2, 0, 1, 1, 1, 2, 2, 1, 0, 2, 2, 1, 1, 1, 2, 2, 0, 0, 2, 2, 0, 2, 0, 0, 2, 1, 1, 1, 2, 0, 1, 1, 1, 2, 0, 1, 2, 0, 1, 1, 0, 2, 2, 2, 2, 1, 1, 1, 1, 0, 0, 0, 1, 1, 1, 0, 1, 0, 2, 2, 2, 1, 0, 2, 1, 1, 2, 1, 0, 1, 1, 0, 1, 2, 0, 0, 1, 1, 0, 0, 0, 0, 2, 2, 1, 1, 2, 1, 2, 0, 0, 0, 2, 0, 1, 1, 2, 1, 1, 1, 0, 2, 0, 0, 0, 0, 1, 1, 1, 2, 0, 0, 2, 1, 0, 0, 2, 0, 1, 2, 0, 1, 2, 0, 0, 2, 2, 2, 0, 0, 1, 0, 1, 0, 2, 2, 2, 0, 2, 1, 1, 2, 0, 0, 1, 1, 1, 2, 1, 0, 2, 0, 0, 0, 0, 2, 1, 1, 1, 1, 0, 2, 2, 2, 1, 1, 1, 1, 0, 2, 2, 1, 0, 0, 2, 2, 2, 2, 1, 1, 0, 2, 0, 0, 2, 0, 0, 0, 1, 0, 0, 2, 1, 2, 1, 2, 2, 1, 0, 1, 0, 1, 0, 1, 1, 1, 2, 2, 2, 1, 0, 0, 2, 2, 1, 2, 2, 2, 1, 2, 0, 1, 1, 2, 0, 0, 0, 0, 1, 0, 2, 1, 0, 2, 2, 1, 2, 2, 0, 1, 1, 0, 2, 0, 2, 0, 1, 2, 2, 2, 0, 1, 0, 1, 1, 0, 2, 2, 2, 1, 0, 0, 0, 1, 0, 2, 1, 1, 1, 2, 1, 2, 1, 2, 1, 1, 0, 2, 2, 1, 0, 2, 1, 0, 0, 1, 1, 2, 0, 2, 1, 2, 1, 1, 1, 1, 2, 0, 1, 0, 0, 1, 0, 0, 0, 2, 0, 2, 0, 0, 0, 0, 2, 2, 0, 1, 1, 0, 0, 1, 2, 0, 0, 1, 1, 2, 1, 0, 2, 0, 1, 1, 2, 0, 1, 2, 2, 1, 1, 1, 1, 0, 2, 0, 0, 1, 0, 2, 2, 0, 2, 0, 2, 1, 1, 2, 0, 2, 0, 1, 2, 0, 1, 0, 1, 1, 2, 0, 1, 0, 1, 0, 1, 0, 2, 1, 1, 1, 0, 2, 1, 1, 0, 1, 2, 0, 2, 0, 1, 1, 1, 1, 1, 0, 1, 2, 2, 2, 0, 0, 1, 0, 2, 1, 1, 2, 0, 1, 2, 2, 1, 2, 2, 0, 2, 1, 0, 2, 2, 1, 1, 1, 1, 2, 1, 2, 2, 1, 1, 0, 0, 2, 1, 1, 1, 1, 1, 2, 0, 0, 1, 1, 0, 0, 1, 2, 2, 0, 2, 0, 1, 1, 0, 2, 0, 1, 1, 2, 2, 1, 2, 2, 0, 2, 1, 0, 2, 0, 1, 1, 0, 2, 2, 1, 2, 0, 1, 2, 2, 1, 1, 1, 1, 0, 1, 1, 0, 2, 1, 2, 1, 2, 2, 1, 2, 1, 1, 0, 2, 1, 2, 2, 2, 0, 0, 0, 2, 1, 0, 1, 1, 0, 2, 0, 0, 1, 1, 1, 0, 1, 2, 2, 2, 0, 2, 2, 2, 1, 2, 0, 0, 2, 1, 2, 0, 1, 0, 2, 0, 2, 1, 2, 0, 1, 2, 2, 1, 2, 2, 2, 0, 2, 2, 0, 0, 1, 1, 1, 2, 2, 2, 2, 2, 1, 2, 2, 1, 2, 2, 1, 2, 2, 2, 2, 0, 1, 1, 2, 2, 1, 1, 2, 1, 2, 2, 2, 2, 2, 2, 2, 2, 0, 0, 0, 0, 2, 0, 1, 0, 1, 1, 1, 1, 0, 1, 0, 1, 2, 2, 2, 2, 1, 1, 0, 1, 0, 0, 2, 1, 1, 1, 1, 2, 0, 1, 1, 2, 2, 0, 0, 1, 1, 0, 0, 1, 2, 2, 0, 1, 2, 2, 1, 2, 2, 0, 0, 0, 2, 0, 0, 1, 1, 1, 2, 1, 2, 0, 2, 1, 2, 0, 2, 2, 2, 1, 1, 1, 2, 1, 0, 0, 0, 0, 2, 2, 2, 2, 1, 0, 2, 1, 2, 2, 2, 1, 0, 0, 1, 1, 0, 2, 0, 1, 2, 0, 2, 1, 1, 2, 0, 2, 0, 1, 0, 0, 0, 0, 2, 1, 0, 2, 1, 0, 1, 2, 1, 0, 2, 2, 2, 2, 2, 1, 1, 2, 1, 0, 1, 2, 1, 2, 1, 1, 1, 0, 2, 1, 2, 0, 0, 2, 0, 0, 2, 1, 2, 1, 0, 1, 1, 2, 0, 2, 1, 0, 2, 2, 1, 1, 1, 2, 0, 2, 0, 2, 2, 2, 1, 2, 1, 0]\n"
     ]
    }
   ],
   "source": [
    "print(y_pred_Bayesian)"
   ]
  },
  {
   "cell_type": "code",
   "execution_count": 123,
   "metadata": {
    "colab": {
     "base_uri": "https://localhost:8080/"
    },
    "executionInfo": {
     "elapsed": 353,
     "status": "ok",
     "timestamp": 1632081796659,
     "user": {
      "displayName": "stephen quirke",
      "photoUrl": "https://lh3.googleusercontent.com/a-/AOh14Gjoyg0ARV4aTEr2M4t4F5DO1MLVi5NfSF85m66gQA=s64",
      "userId": "02476977115804623661"
     },
     "user_tz": -60
    },
    "id": "-vNXY741F4Hp",
    "outputId": "afad9a56-28f8-43d8-937f-53a2b1ffb762"
   },
   "outputs": [
    {
     "name": "stdout",
     "output_type": "stream",
     "text": [
      "[1, 2, 6]\n"
     ]
    }
   ],
   "source": [
    "print(classes)"
   ]
  },
  {
   "cell_type": "code",
   "execution_count": 124,
   "metadata": {
    "colab": {
     "base_uri": "https://localhost:8080/"
    },
    "executionInfo": {
     "elapsed": 308,
     "status": "ok",
     "timestamp": 1632081800147,
     "user": {
      "displayName": "stephen quirke",
      "photoUrl": "https://lh3.googleusercontent.com/a-/AOh14Gjoyg0ARV4aTEr2M4t4F5DO1MLVi5NfSF85m66gQA=s64",
      "userId": "02476977115804623661"
     },
     "user_tz": -60
    },
    "id": "FRvIXzZnF6Sd",
    "outputId": "065db708-530c-42a3-ba05-1d69677cf764"
   },
   "outputs": [
    {
     "data": {
      "text/plain": [
       "array([1, 6, 2, 1, 2, 1, 6, 6, 2, 1])"
      ]
     },
     "execution_count": 124,
     "metadata": {},
     "output_type": "execute_result"
    }
   ],
   "source": [
    "# prediction array (using classes)\n",
    "nn = 10 # just an example\n",
    "np.array(classes)[y_pred_Bayesian[0:nn]]"
   ]
  },
  {
   "cell_type": "code",
   "execution_count": 125,
   "metadata": {
    "colab": {
     "base_uri": "https://localhost:8080/"
    },
    "executionInfo": {
     "elapsed": 615,
     "status": "ok",
     "timestamp": 1632081807602,
     "user": {
      "displayName": "stephen quirke",
      "photoUrl": "https://lh3.googleusercontent.com/a-/AOh14Gjoyg0ARV4aTEr2M4t4F5DO1MLVi5NfSF85m66gQA=s64",
      "userId": "02476977115804623661"
     },
     "user_tz": -60
    },
    "id": "49UKZN93F_CE",
    "outputId": "c9fe8f92-7894-4e8e-9e17-440908bb09c8"
   },
   "outputs": [
    {
     "name": "stdout",
     "output_type": "stream",
     "text": [
      "Accuracy= 0.93\n"
     ]
    }
   ],
   "source": [
    "# using validation: y_val\n",
    "print(\"Accuracy=\", accuracy_score(np.array(classes)[y_pred_Bayesian], y_val))"
   ]
  },
  {
   "cell_type": "markdown",
   "metadata": {
    "id": "U0_LLdPzYU7q"
   },
   "source": [
    "### Commentary:\n",
    "\n",
    "We see that we ge a lower score of 93% accuracy in the Bayesian prediction than we do in the General Recipe ML model of 97.4% as the Bayesian algorithm is considering the prior knowledge which includes the misclassified data. As the Bayesian model considers the prior correct classification, we will get a lower score but a more robust answer. If we remove these difficult to identify cases from the training data, we will get a better score."
   ]
  },
  {
   "cell_type": "markdown",
   "metadata": {
    "id": "3AvFfzfb-thE"
   },
   "source": [
    "# Selecting Different Intances"
   ]
  },
  {
   "cell_type": "code",
   "execution_count": 126,
   "metadata": {
    "executionInfo": {
     "elapsed": 677928,
     "status": "ok",
     "timestamp": 1632082551827,
     "user": {
      "displayName": "stephen quirke",
      "photoUrl": "https://lh3.googleusercontent.com/a-/AOh14Gjoyg0ARV4aTEr2M4t4F5DO1MLVi5NfSF85m66gQA=s64",
      "userId": "02476977115804623661"
     },
     "user_tz": -60
    },
    "id": "IqWp9Weg-yIO"
   },
   "outputs": [],
   "source": [
    "y_predB=[]\n",
    "\n",
    "for i in range(X_val.shape[0]):\n",
    "    #print(i)\n",
    "    val=[]\n",
    "\n",
    "    for s in range(posterior['beta'].shape[0]):\n",
    "        beta = np.hstack([np.zeros((nf,1)),  posterior['beta'][s,:] ])\n",
    "        alpha = np.hstack([[0],  posterior['alpha'][s,:] ])\n",
    "        val.append(softmax((np.array([X_val[i,:].dot(beta) + alpha])))[0,:])\n",
    "\n",
    "    #mean probability\n",
    "    valmean = np.mean(val,axis=0)\n",
    "    #class with maximum mean probability\n",
    "    classmax = np.argmax(valmean)\n",
    "    #ranks\n",
    "    ranks = np.array(val.copy())\n",
    "    ranks   = ranks  *0 #init\n",
    "    colmax = np.argmax(np.array(val),axis=1)\n",
    "    ranks[np.arange(0,len(colmax)),colmax]=1\n",
    "     \n",
    "    y_predB.append( [classmax, valmean[classmax], np.std(ranks,axis=0)[classmax]])\n",
    "\n",
    "    \n",
    "y_predB= np.array(y_predB)"
   ]
  },
  {
   "cell_type": "code",
   "execution_count": 127,
   "metadata": {
    "colab": {
     "base_uri": "https://localhost:8080/"
    },
    "executionInfo": {
     "elapsed": 279,
     "status": "ok",
     "timestamp": 1632082827897,
     "user": {
      "displayName": "stephen quirke",
      "photoUrl": "https://lh3.googleusercontent.com/a-/AOh14Gjoyg0ARV4aTEr2M4t4F5DO1MLVi5NfSF85m66gQA=s64",
      "userId": "02476977115804623661"
     },
     "user_tz": -60
    },
    "id": "IVqI0kb1-4_9",
    "outputId": "55b59aba-bfd1-4997-9889-12bd431b31e9"
   },
   "outputs": [
    {
     "data": {
      "text/plain": [
       "array([[0.        , 0.95406889, 0.19595918],\n",
       "       [2.        , 0.99168554, 0.05763872],\n",
       "       [1.        , 0.4848452 , 0.49972215],\n",
       "       [0.        , 0.99415796, 0.        ],\n",
       "       [1.        , 0.88554295, 0.30868898],\n",
       "       [0.        , 0.7028823 , 0.45061686],\n",
       "       [2.        , 0.99438789, 0.05763872],\n",
       "       [2.        , 0.86603743, 0.33259919],\n",
       "       [1.        , 0.76854401, 0.40730824],\n",
       "       [0.        , 0.95113693, 0.14      ]])"
      ]
     },
     "execution_count": 127,
     "metadata": {},
     "output_type": "execute_result"
    }
   ],
   "source": [
    "# prediction array\n",
    "mm = 10\n",
    "y_predB[0:mm,:]"
   ]
  },
  {
   "cell_type": "code",
   "execution_count": 128,
   "metadata": {
    "colab": {
     "base_uri": "https://localhost:8080/"
    },
    "executionInfo": {
     "elapsed": 835,
     "status": "ok",
     "timestamp": 1632082831590,
     "user": {
      "displayName": "stephen quirke",
      "photoUrl": "https://lh3.googleusercontent.com/a-/AOh14Gjoyg0ARV4aTEr2M4t4F5DO1MLVi5NfSF85m66gQA=s64",
      "userId": "02476977115804623661"
     },
     "user_tz": -60
    },
    "id": "0DdnUNsR-78u",
    "outputId": "ebe8938f-9acd-4dd4-8bd8-dc66e28580a8"
   },
   "outputs": [
    {
     "data": {
      "text/plain": [
       "array([[1.        , 0.49480976, 0.5       ],\n",
       "       [0.        , 0.49839978, 0.5       ],\n",
       "       [1.        , 0.48013423, 0.5       ],\n",
       "       [2.        , 0.48309342, 0.5       ],\n",
       "       [1.        , 0.51548267, 0.49998889],\n",
       "       [0.        , 0.50028033, 0.49998889],\n",
       "       [1.        , 0.51754405, 0.49998889],\n",
       "       [2.        , 0.49317873, 0.49998889],\n",
       "       [1.        , 0.48302633, 0.49995555],\n",
       "       [0.        , 0.48404489, 0.49995555]])"
      ]
     },
     "execution_count": 128,
     "metadata": {},
     "output_type": "execute_result"
    }
   ],
   "source": [
    "#sorting in descending order\n",
    "difficult = np.argsort(-y_predB[:,2])\n",
    "y_predB[difficult[0:mm],:]"
   ]
  },
  {
   "cell_type": "code",
   "execution_count": 129,
   "metadata": {
    "colab": {
     "base_uri": "https://localhost:8080/"
    },
    "executionInfo": {
     "elapsed": 828,
     "status": "ok",
     "timestamp": 1632082839883,
     "user": {
      "displayName": "stephen quirke",
      "photoUrl": "https://lh3.googleusercontent.com/a-/AOh14Gjoyg0ARV4aTEr2M4t4F5DO1MLVi5NfSF85m66gQA=s64",
      "userId": "02476977115804623661"
     },
     "user_tz": -60
    },
    "id": "2PqTx9-rLTX4",
    "outputId": "b2eac60b-5dc7-4d7f-fbd1-85db2b8e26de"
   },
   "outputs": [
    {
     "name": "stdout",
     "output_type": "stream",
     "text": [
      "3000\n"
     ]
    }
   ],
   "source": [
    "print(len(difficult))"
   ]
  },
  {
   "cell_type": "code",
   "execution_count": 130,
   "metadata": {
    "colab": {
     "base_uri": "https://localhost:8080/"
    },
    "executionInfo": {
     "elapsed": 349,
     "status": "ok",
     "timestamp": 1632082842700,
     "user": {
      "displayName": "stephen quirke",
      "photoUrl": "https://lh3.googleusercontent.com/a-/AOh14Gjoyg0ARV4aTEr2M4t4F5DO1MLVi5NfSF85m66gQA=s64",
      "userId": "02476977115804623661"
     },
     "user_tz": -60
    },
    "id": "hzM4c_Z4_Aln",
    "outputId": "3440930f-9992-4626-e4cc-479cd63de635"
   },
   "outputs": [
    {
     "data": {
      "text/plain": [
       "array([1.        , 0.9999908 , 0.99995913, 0.99981316, 0.98083271,\n",
       "       0.93160836, 0.87121878, 0.97077793, 0.99999997, 0.51281636,\n",
       "       0.92647668, 0.99915538, 0.68446507, 0.99888272, 1.        ,\n",
       "       0.58892699, 0.93712594, 0.99980657, 0.92448369, 0.86436716,\n",
       "       0.99999999, 0.74991378, 0.99999971, 0.99946851, 0.9999984 ,\n",
       "       0.98467027, 0.99772893, 0.99996555, 0.99977217, 0.8898859 ,\n",
       "       0.85500602, 0.74938554, 0.96669718, 0.97653811, 0.67285204,\n",
       "       0.6364302 , 0.95327147, 0.96538917, 0.96006529, 1.        ,\n",
       "       0.99700056, 0.99951839, 0.97160668, 0.63319014, 0.99832596,\n",
       "       0.98802452, 0.95566242, 0.97789359, 0.68066048, 0.99953724,\n",
       "       0.93553806, 0.99999203, 0.99911984, 0.52529238, 0.99512415,\n",
       "       0.99999959, 1.        , 0.9619594 , 0.89507795, 0.8648585 ,\n",
       "       0.99528907, 0.60178173, 0.67797444, 0.9999999 , 0.98789771,\n",
       "       1.        , 0.42794286, 0.97469632, 0.99839468, 0.9593731 ,\n",
       "       0.99944375, 0.99566402, 0.66629481, 0.67123903, 0.97812372,\n",
       "       0.99990473, 0.99996692, 0.99794955])"
      ]
     },
     "execution_count": 130,
     "metadata": {},
     "output_type": "execute_result"
    }
   ],
   "source": [
    "#probability of general-recipe logistic regression in wrong instances\n",
    "prob_classmax[y_pred_log != y_val]"
   ]
  },
  {
   "cell_type": "code",
   "execution_count": 131,
   "metadata": {
    "colab": {
     "base_uri": "https://localhost:8080/"
    },
    "executionInfo": {
     "elapsed": 240,
     "status": "ok",
     "timestamp": 1632082849450,
     "user": {
      "displayName": "stephen quirke",
      "photoUrl": "https://lh3.googleusercontent.com/a-/AOh14Gjoyg0ARV4aTEr2M4t4F5DO1MLVi5NfSF85m66gQA=s64",
      "userId": "02476977115804623661"
     },
     "user_tz": -60
    },
    "id": "yFKjjl-d_BoT",
    "outputId": "3d3bb53a-e230-4487-9bff-1459d2d91b23"
   },
   "outputs": [
    {
     "data": {
      "text/plain": [
       "array([[1.        , 0.90204447, 0.29089899],\n",
       "       [2.        , 0.64306208, 0.47140452],\n",
       "       [2.        , 0.76069608, 0.42708313],\n",
       "       [1.        , 0.48013423, 0.5       ],\n",
       "       [2.        , 0.6097377 , 0.49056657],\n",
       "       [1.        , 0.63856169, 0.47590849],\n",
       "       [2.        , 0.7962775 , 0.40247843],\n",
       "       [0.        , 0.8405265 , 0.35041246],\n",
       "       [2.        , 0.78508337, 0.40966111],\n",
       "       [0.        , 0.79159531, 0.38964371],\n",
       "       [1.        , 0.9999924 , 0.        ],\n",
       "       [2.        , 0.72651072, 0.44395946],\n",
       "       [1.        , 0.96107007, 0.17058722],\n",
       "       [2.        , 0.70331739, 0.45376205],\n",
       "       [2.        , 0.95943424, 0.18794207],\n",
       "       [0.        , 0.58189783, 0.48848974],\n",
       "       [1.        , 0.73254021, 0.43492017],\n",
       "       [2.        , 0.50866738, 0.49909919],\n",
       "       [0.        , 0.51870231, 0.49945526],\n",
       "       [1.        , 0.51789749, 0.49945526],\n",
       "       [1.        , 0.81369015, 0.38418745],\n",
       "       [1.        , 0.43934817, 0.49749372],\n",
       "       [2.        , 0.76122649, 0.41647996],\n",
       "       [1.        , 0.41223006, 0.49243161],\n",
       "       [1.        , 0.52887678, 0.49888765],\n",
       "       [2.        , 0.48516771, 0.49989999],\n",
       "       [2.        , 0.99560647, 0.        ],\n",
       "       [2.        , 0.78098504, 0.39747816],\n",
       "       [2.        , 0.74002756, 0.43492017],\n",
       "       [2.        , 0.96111497, 0.17950549],\n",
       "       [2.        , 0.90166502, 0.28618176],\n",
       "       [1.        , 0.64258188, 0.47021272],\n",
       "       [1.        , 0.90699809, 0.28618176],\n",
       "       [1.        , 0.6261473 , 0.4861984 ],\n",
       "       [0.        , 0.47174997, 0.49909919],\n",
       "       [0.        , 0.80603405, 0.38693956],\n",
       "       [1.        , 0.86952548, 0.32881944],\n",
       "       [2.        , 0.67754783, 0.45969797],\n",
       "       [2.        , 0.81369397, 0.38138636],\n",
       "       [2.        , 0.89595018, 0.28618176],\n",
       "       [0.        , 0.95303025, 0.17058722],\n",
       "       [2.        , 0.99997003, 0.        ],\n",
       "       [2.        , 0.62645219, 0.48280431],\n",
       "       [0.        , 0.59242388, 0.4869862 ],\n",
       "       [0.        , 0.67230326, 0.46647615],\n",
       "       [2.        , 0.84910412, 0.34349511],\n",
       "       [0.        , 0.71508717, 0.4404417 ],\n",
       "       [2.        , 0.59269763, 0.49056657],\n",
       "       [1.        , 0.56330401, 0.49355851],\n",
       "       [1.        , 0.66784849, 0.47256981],\n",
       "       [1.        , 0.82955293, 0.35707142],\n",
       "       [0.        , 0.54458965, 0.49781746],\n",
       "       [2.        , 0.76892456, 0.41647996],\n",
       "       [1.        , 0.66163136, 0.46647615],\n",
       "       [0.        , 0.690161  , 0.4552899 ],\n",
       "       [2.        , 0.61701713, 0.48189441],\n",
       "       [1.        , 0.98482904, 0.09949874],\n",
       "       [1.        , 0.4537736 , 0.49781746],\n",
       "       [2.        , 0.65675092, 0.47590849],\n",
       "       [0.        , 0.67939197, 0.46110977],\n",
       "       [2.        , 0.64954646, 0.47021272],\n",
       "       [2.        , 0.92642286, 0.24356154],\n",
       "       [2.        , 0.58420946, 0.49183331],\n",
       "       [2.        , 0.61157116, 0.48538644],\n",
       "       [1.        , 0.99375202, 0.        ],\n",
       "       [1.        , 0.93830919, 0.23120458],\n",
       "       [1.        , 0.85192645, 0.31699982],\n",
       "       [1.        , 0.95027384, 0.19595918],\n",
       "       [1.        , 0.86923211, 0.32496154],\n",
       "       [1.        , 0.57292314, 0.49459299],\n",
       "       [1.        , 0.80684917, 0.38418745],\n",
       "       [1.        , 0.67555367, 0.46774875],\n",
       "       [2.        , 0.99957429, 0.        ],\n",
       "       [2.        , 0.99258278, 0.05763872],\n",
       "       [2.        , 0.5130878 , 0.49982219],\n",
       "       [1.        , 0.99155735, 0.05763872],\n",
       "       [0.        , 0.82838498, 0.36030851],\n",
       "       [2.        , 0.9966587 , 0.        ]])"
      ]
     },
     "execution_count": 131,
     "metadata": {},
     "output_type": "execute_result"
    }
   ],
   "source": [
    "y_predB[y_pred_log != y_val,:]"
   ]
  },
  {
   "cell_type": "code",
   "execution_count": 132,
   "metadata": {
    "executionInfo": {
     "elapsed": 30860,
     "status": "ok",
     "timestamp": 1632082887946,
     "user": {
      "displayName": "stephen quirke",
      "photoUrl": "https://lh3.googleusercontent.com/a-/AOh14Gjoyg0ARV4aTEr2M4t4F5DO1MLVi5NfSF85m66gQA=s64",
      "userId": "02476977115804623661"
     },
     "user_tz": -60
    },
    "id": "Iti6a2fI_x9r"
   },
   "outputs": [],
   "source": [
    "results = []\n",
    "for i in list(np.arange(100, 3000, 100)):\n",
    "  model_log = LogisticRegression(random_state=0, max_iter=2000, C=100, solver='lbfgs', multi_class='multinomial').fit(X_train[easy[0:i]], y_train[easy[0:i]])\n",
    "  y_pred_log = model_log.predict(X_val)\n",
    "  y_pred_logi_prob = model_log.predict_proba(X_val)\n",
    "  prob_classmax = np.max(y_pred_logi_prob,axis=1)\n",
    "  accuracy_score(y_pred_log, y_val)\n",
    "  results.append (accuracy_score(y_pred_log, y_val))\n",
    "\n",
    "results.reverse()"
   ]
  },
  {
   "cell_type": "code",
   "execution_count": 133,
   "metadata": {
    "colab": {
     "base_uri": "https://localhost:8080/",
     "height": 603
    },
    "executionInfo": {
     "elapsed": 600,
     "status": "ok",
     "timestamp": 1632082898147,
     "user": {
      "displayName": "stephen quirke",
      "photoUrl": "https://lh3.googleusercontent.com/a-/AOh14Gjoyg0ARV4aTEr2M4t4F5DO1MLVi5NfSF85m66gQA=s64",
      "userId": "02476977115804623661"
     },
     "user_tz": -60
    },
    "id": "sQ7Q68zX_gkb",
    "outputId": "73eec01c-abdb-4356-a042-11170a14436e"
   },
   "outputs": [
    {
     "data": {
      "image/png": "[encoded data removed]",
      "text/plain": [
       "<Figure size 800x600 with 1 Axes>"
      ]
     },
     "metadata": {},
     "output_type": "display_data"
    }
   ],
   "source": [
    "## Graphing the varying effects on accuracy of removing varying amounts of difficult to classify samples (Courtesy of Rob via Nigel's advice)\n",
    "plt.figure(figsize=(8,6), dpi= 100, facecolor='lightblue', edgecolor='k')\n",
    "plt.plot((list(np.arange(100, 3000, 100))), results)\n",
    "plt.title('Accuracy score variation based on removal of difficult to classify images',fontsize=18)\n",
    "plt.xlabel('Number of Difficult Digits Removed',fontsize=18)\n",
    "plt.ylabel('Accuracy',fontsize=18)\n",
    "plt.show()"
   ]
  },
  {
   "cell_type": "markdown",
   "metadata": {
    "id": "2isPSshNajqj"
   },
   "source": [
    "### Commentary:\n",
    "\n",
    "We see in the graph above, the accuracy of the results as we remove the more difficult to classify data. Let’s we rerun the validation set with the most 100 most easy and difficult classes and see the change in the result."
   ]
  },
  {
   "cell_type": "code",
   "execution_count": 134,
   "metadata": {
    "colab": {
     "base_uri": "https://localhost:8080/"
    },
    "executionInfo": {
     "elapsed": 462,
     "status": "ok",
     "timestamp": 1632082916835,
     "user": {
      "displayName": "stephen quirke",
      "photoUrl": "https://lh3.googleusercontent.com/a-/AOh14Gjoyg0ARV4aTEr2M4t4F5DO1MLVi5NfSF85m66gQA=s64",
      "userId": "02476977115804623661"
     },
     "user_tz": -60
    },
    "id": "WhQd9Vp8KKnP",
    "outputId": "c0b53ae5-2fd4-43cb-e569-99d894148b38"
   },
   "outputs": [
    {
     "name": "stdout",
     "output_type": "stream",
     "text": [
      "Accuracy in easy instances = 1.0\n",
      "Accuracy in difficult instances = 0.88\n"
     ]
    }
   ],
   "source": [
    "## Difficult & easy instances\n",
    "\n",
    "easy = np.argsort(y_predB[:,2])\n",
    "print(\"Accuracy in easy instances =\", accuracy_score(y_pred_log[easy[0:100]], y_val[easy[0:100]]))\n",
    "\n",
    "difficult = np.argsort(-y_predB[:,2])\n",
    "print(\"Accuracy in difficult instances =\", accuracy_score(y_pred_log[difficult[0:100]], y_val[difficult[0:100]]))"
   ]
  },
  {
   "cell_type": "markdown",
   "metadata": {
    "id": "pypxdTa1bX1T"
   },
   "source": [
    "### Commentary:\n",
    "\n",
    "We see the change in the results with 100% accuracy for the 100 easiest to classify digits and 88% accuracy for the 100 most difficult. Let’s test the general recipe ML model again with the 2000 easiest classes and the 1000 most difficult to classify digits. I choose this breakdown as we see the first large drop off in accuracy at 2000 mark in the graph."
   ]
  },
  {
   "cell_type": "code",
   "execution_count": 135,
   "metadata": {
    "colab": {
     "base_uri": "https://localhost:8080/"
    },
    "executionInfo": {
     "elapsed": 275,
     "status": "ok",
     "timestamp": 1632082939965,
     "user": {
      "displayName": "stephen quirke",
      "photoUrl": "https://lh3.googleusercontent.com/a-/AOh14Gjoyg0ARV4aTEr2M4t4F5DO1MLVi5NfSF85m66gQA=s64",
      "userId": "02476977115804623661"
     },
     "user_tz": -60
    },
    "id": "JxzKJiavcdjV",
    "outputId": "54dc026e-463e-48a2-c2b8-461900a5d217"
   },
   "outputs": [
    {
     "name": "stdout",
     "output_type": "stream",
     "text": [
      "Accuracy in easy instances = 0.99\n",
      "Accuracy in difficult instances = 0.949\n"
     ]
    }
   ],
   "source": [
    "## Difficult & easy instances\n",
    "easy = np.argsort(y_predB[:,2])\n",
    "print(\"Accuracy in easy instances =\", accuracy_score(y_pred_log[easy[0:2000]], y_val[easy[0:2000]]))\n",
    "\n",
    "difficult = np.argsort(-y_predB[:,2])\n",
    "print(\"Accuracy in difficult instances =\", accuracy_score(y_pred_log[difficult[0:1000]], y_val[difficult[0:1000]]))"
   ]
  },
  {
   "cell_type": "markdown",
   "metadata": {
    "id": "LOa97S09ca2v"
   },
   "source": [
    "### Commentary:\n",
    "\n",
    "Excluding the 1000 most difficult (33% of the validation set), we will get 99% accuracy and 94.9% accuracy for the 1000 most difficult instances. Now that we have tested these scenarios, lets exclude the 1000 most difficult to identify digits from the training data in the general recipe ML model and test the model with the full validation set."
   ]
  },
  {
   "cell_type": "code",
   "execution_count": 136,
   "metadata": {
    "colab": {
     "base_uri": "https://localhost:8080/"
    },
    "executionInfo": {
     "elapsed": 2992,
     "status": "ok",
     "timestamp": 1632083128791,
     "user": {
      "displayName": "stephen quirke",
      "photoUrl": "https://lh3.googleusercontent.com/a-/AOh14Gjoyg0ARV4aTEr2M4t4F5DO1MLVi5NfSF85m66gQA=s64",
      "userId": "02476977115804623661"
     },
     "user_tz": -60
    },
    "id": "8E8XovSuflXn",
    "outputId": "8c8625fe-2e26-40a2-b4ab-8dce670702e6"
   },
   "outputs": [
    {
     "name": "stdout",
     "output_type": "stream",
     "text": [
      "Accuracy Score: 0.9756666666666667\n"
     ]
    }
   ],
   "source": [
    "# model\n",
    "model_log = LogisticRegression(random_state=0, max_iter=2000, C=100, solver='lbfgs', multi_class='multinomial')\n",
    "model_log.fit(X_train[easy[0:2500]], y_train[easy[0:2500]])\n",
    "\n",
    "# Classification:\n",
    "y_pred_log = model_log.predict(X_val)\n",
    "y_pred_logi_prob = model_log.predict_proba(X_val)\n",
    "\n",
    "# Maybe taking the maximum probability \n",
    "# in any of the classes for each observation\n",
    "prob_classmax = np.max(y_pred_logi_prob,axis=1)\n",
    "\n",
    "# Computing the Accuracy:\n",
    "print(f\"Accuracy Score: {accuracy_score(y_pred_log, y_val)}\")"
   ]
  },
  {
   "cell_type": "markdown",
   "metadata": {
    "id": "IWgiVyt3g1fg"
   },
   "source": [
    "### Commentary:\n",
    "\n",
    "A slightly improved score of 97.5% is got when we rerun the general recipe ML with the 1000 most difficult instances removed from training set."
   ]
  },
  {
   "cell_type": "code",
   "execution_count": 137,
   "metadata": {
    "colab": {
     "base_uri": "https://localhost:8080/",
     "height": 381
    },
    "executionInfo": {
     "elapsed": 827,
     "status": "ok",
     "timestamp": 1632083300553,
     "user": {
      "displayName": "stephen quirke",
      "photoUrl": "https://lh3.googleusercontent.com/a-/AOh14Gjoyg0ARV4aTEr2M4t4F5DO1MLVi5NfSF85m66gQA=s64",
      "userId": "02476977115804623661"
     },
     "user_tz": -60
    },
    "id": "9h81QvLa_Dri",
    "outputId": "e5e0f978-618d-48b2-8de6-d58376a2e296"
   },
   "outputs": [
    {
     "data": {
      "image/png": "[encoded data removed]",
      "text/plain": [
       "<Figure size 1080x432 with 10 Axes>"
      ]
     },
     "metadata": {},
     "output_type": "display_data"
    }
   ],
   "source": [
    "# show 10 random 'easy' images\n",
    "fig, axs = plt.subplots(2,5, figsize=(15, 6))\n",
    "fig.subplots_adjust(hspace = .2, wspace=.001)\n",
    "axs = axs.ravel()\n",
    "\n",
    "for i in range(10):\n",
    "    index = easy[i]\n",
    "    image = X_val[index,:].reshape(28,28)\n",
    "    axs[i].axis('off')\n",
    "    axs[i].imshow(image,cmap=\"Greys_r\")\n",
    "    "
   ]
  },
  {
   "cell_type": "code",
   "execution_count": 138,
   "metadata": {
    "colab": {
     "base_uri": "https://localhost:8080/",
     "height": 381
    },
    "executionInfo": {
     "elapsed": 253,
     "status": "ok",
     "timestamp": 1632083308009,
     "user": {
      "displayName": "stephen quirke",
      "photoUrl": "https://lh3.googleusercontent.com/a-/AOh14Gjoyg0ARV4aTEr2M4t4F5DO1MLVi5NfSF85m66gQA=s64",
      "userId": "02476977115804623661"
     },
     "user_tz": -60
    },
    "id": "pKgvgEhF_IyR",
    "outputId": "c290c587-c8c5-40a0-8bbf-7fb0e26a5574"
   },
   "outputs": [
    {
     "data": {
      "image/png": "[encoded data removed]",
      "text/plain": [
       "<Figure size 1080x432 with 10 Axes>"
      ]
     },
     "metadata": {},
     "output_type": "display_data"
    }
   ],
   "source": [
    "# show 10 random 'difficult' images\n",
    "fig, axs = plt.subplots(2,5, figsize=(15, 6))\n",
    "fig.subplots_adjust(hspace = .2, wspace=.001)\n",
    "axs = axs.ravel()\n",
    "for i in range(10):\n",
    "    index = difficult[i]\n",
    "    image = X_val[index,:].reshape(28,28)\n",
    "    axs[i].axis('off')\n",
    "    axs[i].imshow(image,cmap=\"Greys_r\")\n",
    "    "
   ]
  },
  {
   "cell_type": "markdown",
   "metadata": {
    "id": "fkvFbCuCQVfL"
   },
   "source": [
    "## Commentary\n",
    "\n",
    "We can visually see the hard to identify digits here. I would guess that the first digit on the top left and the digit on the bottom right are both two's but this may not be clear to the ML model. We still see an accuracy score of ~97.4% but for this exercise we want to achieve 100% accuracy on the digits that we are willing to classify due to their high probablity of being correct. For intances that have a low probability of correct classification, we want to produce a non conclusive result."
   ]
  },
  {
   "cell_type": "markdown",
   "metadata": {
    "id": "NcshsLOGRPrk"
   },
   "source": [
    "## Summary"
   ]
  },
  {
   "cell_type": "markdown",
   "metadata": {
    "id": "XTc4pYKGRR60"
   },
   "source": [
    "Populate this section with all of your findings and comments fron the discussion with your peers.\n",
    "\n",
    "#### Data:\n",
    "\n",
    "The MNIST dataset (Redmon, 2018) is an easy to use dataset of images ranging from 1 to 9 that can be used for Machine Learning Algorithms for beginners. The dataset consists of two files: mnist_train.csv and mnist_test.csv. The test set contains 60,000 training examples and labels while the mnist_test.csv contains 10,000 test examples of the same. Each row consists of 785 values: the first value is the label (a number from 0 to 9) and the remaining 784 values are the pixel values (a number from 0 to 255). As seen from the graphs, there is an relatively even distribution of the different digits (1-9) with 1 been the highest represented number. \n",
    "\n",
    "#### Environment:\n",
    "\n",
    "Google Colab was used recommended in the instructions and I found the implementation seamless using this environment. I had previously Google Colab during prior assignments as part of the MSc In Artificial Intelligence, so I was comfortable using it. Google Colab integrated with easily with Github which was the repository of choice for our team (Group 1). The only problem, I found was the slowness of the execution of the algorithm although this maybe more to do with the code rather than the environment itself. I did not run this locally so I cannot verify this but I have seen comments stating that the execution was “slow” when run locally.\n",
    "\n",
    "#### Task:\n",
    "\n",
    "There were five main tasks to be completed which I will not repeat as this not necessary. I used the traffic sign example as the main template for executing this task which was very helpful. The big challenge was to understand the code and then modify it to fit the MNIST data. The next big challenge was to correctly interrupt the results and correctly assess the execution of a Multinomial General Machine Learning (ML) model and a Bayesian Model on the MNIST data.\n",
    "\n",
    "Once the MNIST data was loaded from the colab repository in my google drive, the data was downsized to three digits with 5000 of each digit. The three digits to selected were randomly picked using a function. The dataset was split 80:20 of training and validation and I did not feel the need to change it to 40:60 as outlined as an option in the instructions. The randomly selected digits that were picked in the final run were 1,2, and 6.\n",
    "\n",
    "#### Multinomial General Machine Learning (ML):\n",
    "\n",
    "The dataset was then processed through the multinomial logistic regression algorithm where an accuracy an accuracy score of 97.4% was achieved with 78 misclassifications were found in the validation set of 3’000. The results from Probabilistic Multinomial Logistic Regression were then plotted showing a decline per iteration with an average of 17,842 over 3000 iterations. The model did not converge at any point. The loss was calculated using Theano’s pm.model() with $\\alpha$ and $\\beta$ given a normal distribution from 0 to 1 with sigma = 100 with the SoftMax function given the probabilities of the random classes selected, in this case 1,2, and 6.\n",
    "The scipy.special SoftMax function provides an example of a 6 which is rotated on its side having a probability of being classified as a 6 at virtually 0% while the probability of it been classified as 2 been 99%. This shows us the model will need further improvements in order be able to handle these instances or else be given an inconclusive result of the probability the classification been correct is not high. As stated by Murphy, (1990) “Many generic classification methods ignore any structure in the input features, such as spatial layout”.\n",
    "\n",
    "#### Bayesian Prediction:\n",
    "\n",
    "We see that we get a lower score of 93% accuracy in the Bayesian prediction than we do in the General Recipe ML model of 97.4% as the Bayesian algorithm is considering the prior knowledge which includes the misclassified data. As the Bayesian model considers the prior correct classification, we will get a lower score but a more robust answer. If we remove these difficult to identify cases from the training data, we will get a better score. An advantage of the Bayesian approach is that it allows the use of prior knowledge which is an interesting feature in predictive validity studies (Tendeiro et al., 2014)\n",
    "\n",
    "#### Updated General Recipe Model:\n",
    "\n",
    "Finally, we investigate the difficult to classify digits and using a plot courtesy of Rob Barrett via a recommendation from Nigel Portley, there is step drop off in accuracy after the 2000 easiest to classify digits. We see the change in the results with 100% accuracy for the 100 easiest to classify digits and 88% accuracy for the 100 most difficult. Excluding the 1000 most difficult (33% of the validation set), we will get 99% accuracy and 94.9% accuracy for the 1000 most difficult instances. \n",
    "When we remove the 1’000 most difficult digits from the training set, and run the full validation, we get a slightly improved result of 97.5%. There was much debate on the forum as to what the right approach was as some thought we just needed to alter the validation data to remove the difficult digits while others thought we needed to re-train the general recipe ML with the difficult instances removed from the training data. Either way I did both to cover all the basis.\n",
    "\n",
    "#### Bayesian Vs General Recipe Multinomial Logistic Regression ML\n",
    "\n",
    "My overall summary is that the best model is the Bayesian model as it is more robust as it considers the prior knowledge while the Multinomial Logistic Regression is still a useful model.\n",
    "I looked deepest into knowledge of my group for this exercise and found their opinions useful. This was a challenging assignment, but I really enjoyed it.\n",
    "\n",
    "#### References:\n",
    "\n",
    "Murphy, K. P. (1990) ‘Machine Learning - A Probabilistic Perspective’, Machine Learning, pp. 555–610. doi: 10.1016/b978-0-08-051055-2.50029-8.\n",
    "\n",
    "Redmon, J. (2018) MNIST in CSV. Available at: https://pjreddie.com/projects/mnist-in-csv/ (Accessed: 19 September 2021).\n",
    "\n",
    "Tendeiro, J. N. et al. (2014) ‘Predicting Future Study Success: How A Bayesian Approach can be of Help to Analyze and Interpret Admission Test Scores’, Paper Knowledge . Toward a Media History of Documents, pp. 1–41.\n",
    "\n",
    "\n",
    "\n"
   ]
  },
  {
   "cell_type": "code",
   "execution_count": 142,
   "metadata": {
    "executionInfo": {
     "elapsed": 14715,
     "status": "ok",
     "timestamp": 1632089957426,
     "user": {
      "displayName": "stephen quirke",
      "photoUrl": "https://lh3.googleusercontent.com/a-/AOh14Gjoyg0ARV4aTEr2M4t4F5DO1MLVi5NfSF85m66gQA=s64",
      "userId": "02476977115804623661"
     },
     "user_tz": -60
    },
    "id": "aFgYMxR8p4_G"
   },
   "outputs": [],
   "source": [
    "%%capture\n",
    "!wget -nc https://raw.githubusercontent.com/brpy/colab-pdf/master/colab_pdf.py\n",
    "from colab_pdf import colab_pdf\n",
    "colab_pdf('Etivity_1_Stephen_Quirke_20172257.ipynb')"
   ]
  }
 ],
 "metadata": {
  "colab": {
   "collapsed_sections": [],
   "name": "Etivity_1_Stephen_Quirke_20172257.ipynb",
   "provenance": [
    {
     "file_id": "https://github.com/amaralcs/ET5003/blob/stephen/Etivity_1_20172257.ipynb",
     "timestamp": 1632067081014
    }
   ]
  },
  "kernelspec": {
   "display_name": "Python 3",
   "language": "python",
   "name": "python3"
  },
  "language_info": {
   "codemirror_mode": {
    "name": "ipython",
    "version": 3
   },
   "file_extension": ".py",
   "mimetype": "text/x-python",
   "name": "python",
   "nbconvert_exporter": "python",
   "pygments_lexer": "ipython3",
   "version": "3.8.3"
  }
 },
 "nbformat": 4,
 "nbformat_minor": 1
}
