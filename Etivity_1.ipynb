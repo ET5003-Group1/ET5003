{
  "nbformat": 4,
  "nbformat_minor": 0,
  "metadata": {
    "colab": {
      "name": "Copy of Etivity_1_template.ipynb",
      "provenance": [],
      "collapsed_sections": [],
      "include_colab_link": true
    },
    "kernelspec": {
      "name": "python3",
      "display_name": "Python 3"
    },
    "language_info": {
      "name": "python"
    }
  },
  "cells": [
    {
      "cell_type": "markdown",
      "metadata": {
        "id": "view-in-github",
        "colab_type": "text"
      },
      "source": [
        "<a href=\"https://colab.research.google.com/github/amaralcs/ET5003/blob/TomKeane/Etivity_1.ipynb\" target=\"_parent\"><img src=\"https://colab.research.google.com/assets/colab-badge.svg\" alt=\"Open In Colab\"/></a>"
      ]
    },
    {
      "cell_type": "markdown",
      "metadata": {
        "id": "jxK1_8f1dvrc"
      },
      "source": [
        "<div>\n",
        "<img src=\"https://drive.google.com/uc?export=view&id=1vK33e_EqaHgBHcbRV_m38hx6IkG0blK_\" width=\"350\"/>\n",
        "</div> \n",
        "\n",
        "#**Artificial Intelligence - MSc**\n",
        "ET5003 - MACHINE LEARNING APPLICATIONS \n",
        "\n",
        "###Instructor: Enrique Naredo\n",
        "###ET5003_Etivity-1"
      ]
    },
    {
      "cell_type": "code",
      "metadata": {
        "id": "LqXD_IwUQuBF"
      },
      "source": [
        "#@title Current Date\n",
        "Today = '2021-08-22' #@param {type:\"date\"}\n"
      ],
      "execution_count": 63,
      "outputs": []
    },
    {
      "cell_type": "code",
      "metadata": {
        "id": "uzDKau31OjVO"
      },
      "source": [
        "#@markdown ---\n",
        "#@markdown ### Enter your details here:\n",
        "Student_ID = \"20214537\" #@param {type:\"string\"}\n",
        "Student_full_name = \"Tom Keane\" #@param {type:\"string\"}\n",
        "#@markdown ---"
      ],
      "execution_count": 64,
      "outputs": []
    },
    {
      "cell_type": "code",
      "metadata": {
        "id": "r39xGZckTpKx",
        "cellView": "form"
      },
      "source": [
        "#@title Notebook information\n",
        "Notebook_type = 'Etivity' #@param [\"Example\", \"Lab\", \"Practice\", \"Etivity\", \"Assignment\", \"Exam\"]\n",
        "Version = 'Draft' #@param [\"Draft\", \"Final\"] {type:\"raw\"}\n",
        "Submission = False #@param {type:\"boolean\"}"
      ],
      "execution_count": 65,
      "outputs": []
    },
    {
      "cell_type": "markdown",
      "metadata": {
        "id": "80m304lUefG4"
      },
      "source": [
        "## MNIST dataset"
      ]
    },
    {
      "cell_type": "markdown",
      "metadata": {
        "id": "Bs8mHGcidHSa"
      },
      "source": [
        "\n",
        "\n",
        "The MNIST database  is a dataset of handwritten digits that has been and is extensively used in machine learning. There are $10$ classes, each image is $28\\times28$ pixels and, therefore, each input is $x_i\\in\\mathbb{R}^{784}$. "
      ]
    },
    {
      "cell_type": "markdown",
      "metadata": {
        "id": "ailycCq5epj2"
      },
      "source": [
        "## Task"
      ]
    },
    {
      "cell_type": "markdown",
      "metadata": {
        "id": "a-yNAxhUemjM"
      },
      "source": [
        "You have to extend the code to manage any arbitrary number of classes, in other words you have to implement a general-recipe multinomial logistic classifier and Bayesian multinomial logistic classifier.\n",
        "\n",
        "You must then select  3 digits at random and perform  the following task. \n",
        "\n",
        "1. Your goal is to use Bayesian multinomial logistic regression (as in the road-sign notebook) to solve this classification problem. \n",
        "\n",
        "2. You can downsize the training dataset (e.g., 40% training and 60%testing) if the computation of the posterior takes too much time in your computer.\n",
        "\n",
        "3. Use the posterior uncertainty to detect the instances (digits) in the test set that are hard to classify and remove them from the test-set.\n",
        "\n",
        "4. Then you need to compute again the accuracy of the general-recipe logistic regression on the remaining (non-difficult) instances and comment on the result.\n",
        "\n",
        "5. In practice, the task is to use uncertainty estimation to detect the difficult instances in the test-set. This is equivalent to refuse to classify all high-uncertainty instances or, in other words, when we are uncertain we say \"I don't know\" and we do not return any class. In this way, you will learn how uncertainty can be used to make safer decisions, by detecting the instances that are difficult to classify.\n"
      ]
    },
    {
      "cell_type": "markdown",
      "metadata": {
        "id": "nMRKRTQZe5fW"
      },
      "source": [
        "## Libraries"
      ]
    },
    {
      "cell_type": "code",
      "metadata": {
        "id": "IxusAui7AX_f"
      },
      "source": [
        "# Suppressing Warnings:\n",
        "# import warnings\n",
        "# warnings.filterwarnings(\"ignore\")"
      ],
      "execution_count": 66,
      "outputs": []
    },
    {
      "cell_type": "code",
      "metadata": {
        "id": "MQOfGMQpdHSb"
      },
      "source": [
        "# Import libraries\n",
        "from sklearn.linear_model import LogisticRegression\n",
        "from sklearn.metrics import accuracy_score\n",
        "from sklearn.model_selection import train_test_split\n",
        "import scipy.optimize as optimize\n",
        "from scipy.special import erf\n",
        "import pandas as pd\n",
        "import numpy as np\n",
        "import seaborn as sns\n",
        "from tqdm import tqdm\n",
        "from skimage.io import imread, imshow\n",
        "import matplotlib.image as mpimg\n",
        "import matplotlib.pyplot as plt\n",
        "import matplotlib\n",
        "%matplotlib inline\n",
        "import arviz as az\n",
        "from scipy.io import loadmat\n",
        "import pymc3 as pm\n",
        "import random\n",
        "from IPython.display import HTML\n",
        "import pickle\n",
        "import theano as tt\n",
        "import cv2\n",
        "from sklearn.utils import shuffle\n",
        "from skimage.color import rgb2gray"
      ],
      "execution_count": 67,
      "outputs": []
    },
    {
      "cell_type": "code",
      "metadata": {
        "id": "P5-qMSjpAQ-9"
      },
      "source": [
        "# Setting a seed:\n",
        "np.random.seed(123)"
      ],
      "execution_count": 68,
      "outputs": []
    },
    {
      "cell_type": "markdown",
      "metadata": {
        "id": "r4hSuwkUfVQb"
      },
      "source": [
        "## Dataset"
      ]
    },
    {
      "cell_type": "markdown",
      "metadata": {
        "id": "w99Pc66YdHSd"
      },
      "source": [
        "### Loading the MNIST dataset"
      ]
    },
    {
      "cell_type": "code",
      "metadata": {
        "colab": {
          "base_uri": "https://localhost:8080/"
        },
        "id": "CYFWAbXVzynp",
        "outputId": "29119ff2-d9a8-4644-edb8-976697878c4d"
      },
      "source": [
        "from google.colab import drive\n",
        "drive.mount('/content/drive')"
      ],
      "execution_count": 69,
      "outputs": [
        {
          "output_type": "stream",
          "name": "stdout",
          "text": [
            "Drive already mounted at /content/drive; to attempt to forcibly remount, call drive.mount(\"/content/drive\", force_remount=True).\n"
          ]
        }
      ]
    },
    {
      "cell_type": "code",
      "metadata": {
        "colab": {
          "base_uri": "https://localhost:8080/"
        },
        "id": "g4rCnS4vdHSd",
        "outputId": "435f5239-c44e-4724-fb23-7bd44e42c109"
      },
      "source": [
        "# Path, copy the path from your Drive\n",
        "Path = \"/content/drive/MyDrive/UL Masters/ET5003/Week-1/\"\n",
        "\n",
        "# MNIST Data\n",
        "train_data = Path + 'mnist_train.csv'\n",
        "test_data = Path + 'mnist_test.csv'\n",
        "\n",
        "# train data\n",
        "df_train = pd.read_csv(train_data)\n",
        "X_train = df_train.drop(\"label\",axis=1).values\n",
        "y_train = df_train.label.values\n",
        "print(X_train.shape)\n",
        "\n",
        "# test data\n",
        "df_test = pd.read_csv(test_data)\n",
        "X_test = df_test.drop(\"label\",axis=1).values\n",
        "y_test = df_test.label.values\n",
        "print(X_test.shape)"
      ],
      "execution_count": 70,
      "outputs": [
        {
          "output_type": "stream",
          "name": "stdout",
          "text": [
            "(60000, 784)\n",
            "(10000, 784)\n"
          ]
        }
      ]
    },
    {
      "cell_type": "code",
      "metadata": {
        "colab": {
          "base_uri": "https://localhost:8080/"
        },
        "id": "O2ubJ_WoAqBh",
        "outputId": "80e7b235-eb28-416d-c131-8f5d23bf6956"
      },
      "source": [
        "# Normalizing the Inputs:\n",
        "X_train = X_train/255\n",
        "X_test = X_test/255\n",
        "\n",
        "# Printing the new input range of values:\n",
        "minv = np.min(X_train)\n",
        "maxv = np.max(X_train)\n",
        "print(minv,maxv)"
      ],
      "execution_count": 71,
      "outputs": [
        {
          "output_type": "stream",
          "name": "stdout",
          "text": [
            "0.0 1.0\n"
          ]
        }
      ]
    },
    {
      "cell_type": "markdown",
      "metadata": {
        "id": "SR6HpkWndHSe"
      },
      "source": [
        "### Description of Data:"
      ]
    },
    {
      "cell_type": "code",
      "metadata": {
        "colab": {
          "base_uri": "https://localhost:8080/"
        },
        "id": "sibN1Vv1dHSf",
        "outputId": "484f7060-ed6d-41a1-e21d-1081435a39d1"
      },
      "source": [
        "# Number of examples\n",
        "n_train =  len(X_train)\n",
        "n_test =  len(X_test)\n",
        "\n",
        "# Shape of an traffic sign image\n",
        "image_shape = X_train.shape[1]\n",
        "\n",
        "# unique classes/labels in the training dataset.\n",
        "alltotal = set(y_train)\n",
        "n_classes = len(alltotal)\n",
        "\n",
        "print(\"Number of Training examples =\", n_train)\n",
        "print(\"Number of Test examples =\", n_test)\n",
        "print(\"Image input shape =\", image_shape)\n",
        "print(\"Number of classes =\", n_classes)"
      ],
      "execution_count": 72,
      "outputs": [
        {
          "output_type": "stream",
          "name": "stdout",
          "text": [
            "Number of Training examples = 60000\n",
            "Number of Test examples = 10000\n",
            "Image input shape = 784\n",
            "Number of classes = 10\n"
          ]
        }
      ]
    },
    {
      "cell_type": "markdown",
      "metadata": {
        "id": "6HQDSvrRKZF6"
      },
      "source": [
        "### Class Distribution:"
      ]
    },
    {
      "cell_type": "code",
      "metadata": {
        "id": "XG8GdlpBKdCt",
        "colab": {
          "base_uri": "https://localhost:8080/",
          "height": 295
        },
        "outputId": "24e6995c-8802-4fbe-999d-2b5a876c85b7"
      },
      "source": [
        "fig, ax = plt.subplots()\n",
        "ind = np.arange(n_classes)\n",
        "\n",
        "n, bins, patches = ax.hist(y_train, n_classes)\n",
        "ax.set_xlabel('classes')\n",
        "ax.set_ylabel('counts')\n",
        "ax.set_title(r'Histogram of Digit images')\n",
        "plt.show()"
      ],
      "execution_count": 73,
      "outputs": [
        {
          "output_type": "display_data",
          "data": {
            "image/png": "[encoded data removed]",
            "text/plain": [
              "<Figure size 432x288 with 1 Axes>"
            ]
          },
          "metadata": {
            "needs_background": "light"
          }
        }
      ]
    },
    {
      "cell_type": "markdown",
      "metadata": {
        "id": "EyLWw3nsLCtk"
      },
      "source": [
        "## Downsampling"
      ]
    },
    {
      "cell_type": "markdown",
      "metadata": {
        "id": "2U1lFEwhLKBf"
      },
      "source": [
        "### Randomly selecting 3 of the 10 Digit Classes"
      ]
    },
    {
      "cell_type": "code",
      "metadata": {
        "id": "0EeRZZWdLRPT",
        "colab": {
          "base_uri": "https://localhost:8080/"
        },
        "outputId": "14c142bf-7fc1-4304-f403-eb6c83459ab5"
      },
      "source": [
        "# We select the number of Classes we want:\n",
        "n_classes = 3\n",
        "classes = np.sort(np.random.choice(10, n_classes, False))\n",
        "# print classes selected\n",
        "classes"
      ],
      "execution_count": 74,
      "outputs": [
        {
          "output_type": "execute_result",
          "data": {
            "text/plain": [
              "array([0, 4, 7])"
            ]
          },
          "metadata": {},
          "execution_count": 74
        }
      ]
    },
    {
      "cell_type": "code",
      "metadata": {
        "id": "2M8R5NqKMB_M"
      },
      "source": [
        "# The number of instances we'll keep for each of our 3 digits:\n",
        "inst_class = 3000\n",
        "\n",
        "inputs = []\n",
        "labels = []\n",
        "# Loop to randomly sample the instances for each digit:\n",
        "for r in classes:\n",
        "    imgs = X_train[np.where(y_train==r)[0],:]\n",
        "    inputs.append(imgs[np.random.permutation(imgs.shape[0]),:][0:inst_class,:])\n",
        "    labels.append(np.ones(inst_class)*r)\n",
        "    \n",
        "# Shaping inputs and labels in the right format    \n",
        "X_train = np.vstack(inputs).astype(np.float64)\n",
        "y_train = np.hstack(labels)"
      ],
      "execution_count": 75,
      "outputs": []
    },
    {
      "cell_type": "markdown",
      "metadata": {
        "id": "_6-YHrQQMicy"
      },
      "source": [
        "New Classes Distribution"
      ]
    },
    {
      "cell_type": "code",
      "metadata": {
        "id": "RA300COaMxWm"
      },
      "source": [
        "# new histogram"
      ],
      "execution_count": 76,
      "outputs": []
    },
    {
      "cell_type": "code",
      "metadata": {
        "id": "eFgP4xugMvJm"
      },
      "source": [
        "# plot digits\n",
        "def plot_digits(instances, images_per_row=5, **options):\n",
        "    size = 28\n",
        "    images_per_row = min(len(instances), images_per_row)\n",
        "    images = [instance.reshape(size,size) for instance in instances]\n",
        "    n_rows = (len(instances) - 1) // images_per_row + 1\n",
        "    row_images = []\n",
        "    n_empty = n_rows * images_per_row - len(instances)\n",
        "    images.append(np.zeros((size, size * n_empty)))\n",
        "    for row in range(n_rows):\n",
        "        rimages = images[row * images_per_row : (row + 1) * images_per_row]\n",
        "        row_images.append(np.concatenate(rimages, axis=1))\n",
        "    image = np.concatenate(row_images, axis=0)\n",
        "    plt.imshow(image,  cmap='gist_yarg', **options)\n",
        "    plt.axis(\"off\")"
      ],
      "execution_count": 77,
      "outputs": []
    },
    {
      "cell_type": "code",
      "metadata": {
        "id": "zeEG-LGOM4fJ",
        "colab": {
          "base_uri": "https://localhost:8080/",
          "height": 155
        },
        "outputId": "d83cea6a-137f-48e6-d888-d9a7e7e82256"
      },
      "source": [
        "# Show a few instances from each Digit:\n",
        "plt.figure(figsize=(8,8))\n",
        "\n",
        "n_label_indices = 20\n",
        "# Selecting a few label indices from each of the 3 classes to show:\n",
        "label_indices = np.random.choice(len(X_train),n_label_indices,replace=False)\n",
        "\n",
        "# Plotting 'original' image\n",
        "plot_digits(X_train[label_indices,:],images_per_row=n_label_indices//2)\n",
        "plt.title(\"Original\", fontsize=14)"
      ],
      "execution_count": 78,
      "outputs": [
        {
          "output_type": "execute_result",
          "data": {
            "text/plain": [
              "Text(0.5, 1.0, 'Original')"
            ]
          },
          "metadata": {},
          "execution_count": 78
        },
        {
          "output_type": "display_data",
          "data": {
            "image/png": "[encoded data removed]",
            "text/plain": [
              "<Figure size 576x576 with 1 Axes>"
            ]
          },
          "metadata": {
            "needs_background": "light"
          }
        }
      ]
    },
    {
      "cell_type": "markdown",
      "metadata": {
        "id": "FsAOnOcNNG_V"
      },
      "source": [
        "###  Splitting the Training data into both Training and Validation Sets:\n",
        "\n",
        "- Although this is the Training set, we can still set aside some samples (for instance 20%) of the 1,500 instances we have for Model Validation purposes.\n",
        "\n",
        "\n",
        "- With that Validation Set, we can then select the amount of Uncertainty we are happy with from our Model to use out of sample on other unseen data.\n",
        "\n",
        "\n",
        "- We can then test out how well our decision performs on the Test Set that we put aside earlier."
      ]
    },
    {
      "cell_type": "code",
      "metadata": {
        "id": "YdsmyVAtPXNn"
      },
      "source": [
        "### Split tha dataset in training and validation sets\n",
        "# choose the fraction of your validation data from the training set\n",
        "w = 0.20\n",
        "X_train, X_val, y_train, y_val = train_test_split(X_train, y_train, test_size=w, random_state=0)\n",
        " \n",
        "# Shuffling the training instaces around to randomize the order of inputs to the model:\n",
        "X_train, y_train = shuffle(X_train, y_train)"
      ],
      "execution_count": 79,
      "outputs": []
    },
    {
      "cell_type": "code",
      "metadata": {
        "id": "qXwJwP0iPxhi",
        "colab": {
          "base_uri": "https://localhost:8080/"
        },
        "outputId": "ee2414fe-483b-48e9-e6a7-7f3e8ea4a165"
      },
      "source": [
        "# print shape of your validation and training set\n",
        "print(\"validation set shapes\\n  X: \",X_val.shape, \"\\n  y: \",y_val.shape)\n",
        "print(\"traininng set shapes\\n  X: \",X_train.shape, \"\\n  y: \",y_train.shape)"
      ],
      "execution_count": 80,
      "outputs": [
        {
          "output_type": "stream",
          "name": "stdout",
          "text": [
            "validation set shapes\n",
            "  X:  (1800, 784) \n",
            "  y:  (1800,)\n",
            "traininng set shapes\n",
            "  X:  (7200, 784) \n",
            "  y:  (7200,)\n"
          ]
        }
      ]
    },
    {
      "cell_type": "markdown",
      "metadata": {
        "id": "aOroY1QoP8DY"
      },
      "source": [
        "### Encoding the Class labels for the Probabilistic ML Model:\n",
        "\n",
        "This is an example:\n",
        "\n",
        "- **[1,0,0]** for first digit\n",
        "- **[0,1,0]** for second digit\n",
        "- **[0,0,1]** for third digit"
      ]
    },
    {
      "cell_type": "markdown",
      "metadata": {
        "id": "rjUaqWTqQIcp"
      },
      "source": [
        "### General-Recipe ML"
      ]
    },
    {
      "cell_type": "code",
      "metadata": {
        "id": "QzgdivxfQNv5",
        "colab": {
          "base_uri": "https://localhost:8080/"
        },
        "outputId": "4b2bd6f4-b541-4275-e537-e56438fb7660"
      },
      "source": [
        "# model\n",
        "model_log = LogisticRegression(random_state=0, max_iter=2000, C=100, solver='lbfgs', multi_class='multinomial').fit(X_train, y_train)\n",
        "\n",
        "# Classification:\n",
        "y_pred_log = model_log.predict(X_val)\n",
        "y_pred_logi_prob = model_log.predict_proba(X_val)\n",
        "prob_classmax = np.max(y_pred_logi_prob,axis=1)\n",
        "\n",
        "# Maybe taking the maximum probability \n",
        "# in any of the classes for each observation\n",
        "\n",
        "\n",
        "# Computing the Accuracy:\n",
        "accuracy_score(y_pred_log, y_val)"
      ],
      "execution_count": 104,
      "outputs": [
        {
          "output_type": "execute_result",
          "data": {
            "text/plain": [
              "0.9855555555555555"
            ]
          },
          "metadata": {},
          "execution_count": 104
        }
      ]
    },
    {
      "cell_type": "markdown",
      "metadata": {
        "id": "3uQG6JsOQxH5"
      },
      "source": [
        "### Probabilistic Multinomial Logistic Regression:"
      ]
    },
    {
      "cell_type": "markdown",
      "metadata": {
        "id": "irlmUNw7Q5YL"
      },
      "source": [
        "The Multinomial Logistic Regression has some parameters:\n",
        "\n",
        "- $\\alpha$, which is the intercept term:\n",
        "\n",
        "- $\\beta$, which is a vector of coefficients which give a weighting to the importance of each input feature:\n"
      ]
    },
    {
      "cell_type": "code",
      "metadata": {
        "id": "W3jzczJzRAtT"
      },
      "source": [
        "import sklearn.preprocessing\n",
        "## We use LabelBinarizer to transfor classes into counts\n",
        "# neg_label=0, pos_label=1 \n",
        "y_2_bin = sklearn.preprocessing.LabelBinarizer().fit_transform(y_train.reshape(-1,1))\n",
        "nf = X_train.shape[1]\n",
        "# number of classes\n",
        "nc = len(classes)\n",
        "# floatX = float32\n",
        "floatX = tt.config.floatX\n",
        "\n",
        "init_b = np.random.randn(nf, nc-1).astype(floatX)\n",
        "init_a = np.random.randn(nc-1).astype(floatX)\n",
        "\n",
        "\n",
        "with pm.Model() as multi_logistic:\n",
        "    # Prior\n",
        "    β = pm.Normal('beta', 0, sigma=100, shape=(nf, nc-1), testval=init_b)\n",
        "    α = pm.Normal('alpha', 0, sigma=100, shape=(nc-1,), testval=init_a)\n",
        "    \n",
        "    # we need to consider nc-1 features because the model is not identifiable\n",
        "    # the softmax turns a vector into a probability that sums up to one\n",
        "    # therefore we add zeros to go back to dimension nc\n",
        "    # so that softmax returns a vector of dimension nc\n",
        "    β1  = tt.tensor.concatenate([np.zeros((nf,1)),β ],axis=1)\n",
        "    α1  = tt.tensor.concatenate([[0],α ],)\n",
        "    \n",
        "    # Likelihood\n",
        "    mu = pm.math.matrix_dot(X_train,β1) + α1\n",
        "    # It doesn't work if the problem is binary\n",
        "    p = tt.tensor.nnet.nnet.softmax(mu)\n",
        "    observed = pm.Multinomial('likelihood', p=p, n=1, observed=y_2_bin)"
      ],
      "execution_count": 105,
      "outputs": []
    },
    {
      "cell_type": "code",
      "metadata": {
        "colab": {
          "base_uri": "https://localhost:8080/"
        },
        "id": "yNKksa9o7RAd",
        "outputId": "d6752ca5-6e29-4e22-e6f6-3bc25ba89f14"
      },
      "source": [
        "y_2_bin"
      ],
      "execution_count": 106,
      "outputs": [
        {
          "output_type": "execute_result",
          "data": {
            "text/plain": [
              "array([[0, 1, 0],\n",
              "       [0, 0, 1],\n",
              "       [0, 0, 1],\n",
              "       ...,\n",
              "       [0, 1, 0],\n",
              "       [0, 0, 1],\n",
              "       [0, 0, 1]])"
            ]
          },
          "metadata": {},
          "execution_count": 106
        }
      ]
    },
    {
      "cell_type": "code",
      "metadata": {
        "id": "1o7mbKWmRhz5",
        "colab": {
          "base_uri": "https://localhost:8080/",
          "height": 55
        },
        "outputId": "8270c2dc-e11a-4a23-e981-ecc8f279fe61"
      },
      "source": [
        "# Model training\n",
        "with multi_logistic:\n",
        "    #approx = pm.fit(300000, method='advi') # takes longer\n",
        "    approx = pm.fit(3000, method='advi')"
      ],
      "execution_count": 107,
      "outputs": [
        {
          "output_type": "display_data",
          "data": {
            "text/html": [
              "\n",
              "    <div>\n",
              "        <style>\n",
              "            /* Turns off some styling */\n",
              "            progress {\n",
              "                /* gets rid of default border in Firefox and Opera. */\n",
              "                border: none;\n",
              "                /* Needs to be in here for Safari polyfill so background images work as expected. */\n",
              "                background-size: auto;\n",
              "            }\n",
              "            .progress-bar-interrupted, .progress-bar-interrupted::-webkit-progress-bar {\n",
              "                background: #F44336;\n",
              "            }\n",
              "        </style>\n",
              "      <progress value='3000' class='' max='3000' style='width:300px; height:20px; vertical-align: middle;'></progress>\n",
              "      100.00% [3000/3000 01:49<00:00 Average Loss = 13,050]\n",
              "    </div>\n",
              "    "
            ],
            "text/plain": [
              "<IPython.core.display.HTML object>"
            ]
          },
          "metadata": {}
        },
        {
          "output_type": "stream",
          "name": "stderr",
          "text": [
            "Finished [100%]: Average Loss = 13,011\n"
          ]
        }
      ]
    },
    {
      "cell_type": "code",
      "metadata": {
        "colab": {
          "base_uri": "https://localhost:8080/",
          "height": 285
        },
        "id": "bmhWATW062mU",
        "outputId": "24b54064-8b2e-40ef-fe8a-0e3ad139c79e"
      },
      "source": [
        "plt.plot(approx.hist)"
      ],
      "execution_count": 108,
      "outputs": [
        {
          "output_type": "execute_result",
          "data": {
            "text/plain": [
              "[<matplotlib.lines.Line2D at 0x7f20aca26710>]"
            ]
          },
          "metadata": {},
          "execution_count": 108
        },
        {
          "output_type": "display_data",
          "data": {
            "image/png": "[encoded data removed]",
            "text/plain": [
              "<Figure size 432x288 with 1 Axes>"
            ]
          },
          "metadata": {
            "needs_background": "light"
          }
        }
      ]
    },
    {
      "cell_type": "code",
      "metadata": {
        "id": "KasrBbAi62oe"
      },
      "source": [
        "dd = 300\n",
        "posterior = approx.sample(draws=dd)"
      ],
      "execution_count": 109,
      "outputs": []
    },
    {
      "cell_type": "code",
      "metadata": {
        "colab": {
          "base_uri": "https://localhost:8080/",
          "height": 250
        },
        "id": "HXu0uBZS62rF",
        "outputId": "c29ccaa5-2b1e-472e-8049-beb73a27da06"
      },
      "source": [
        "## The softmax function transforms each element of a collection by computing the exponential\n",
        "#  of each element divided by the sum of the exponentials of all the elements.\n",
        "from scipy.special import softmax\n",
        "\n",
        "#select an image in the test set\n",
        "i = 10 \n",
        "#i = random.randint(0, dd)\n",
        "\n",
        "#select a sample in the posterior\n",
        "s = 100 \n",
        "#s = random.randint(0, dd)\n",
        "\n",
        "\n",
        "beta  = np.hstack([np.zeros((nf,1)),  posterior['beta'][s,:] ])\n",
        "alpha = np.hstack([[0],  posterior['alpha'][s,:] ])\n",
        "image = X_val[i,:].reshape(28, 28)\n",
        "plt.figure(figsize=(2,2))\n",
        "plt.imshow(image,cmap=\"Greys_r\")\n",
        "np.set_printoptions(suppress=True)\n",
        "\n",
        "print(\"test image #\" + str(i))\n",
        "print(\"posterior sample #\" + str(s))\n",
        "print(\"true class=\", y_val[i])\n",
        "print(\"classes: \" + str(classes))\n",
        "print(\"estimated prob=\",softmax((np.array([X_val[i,:].dot(beta) + alpha])))[0,:])"
      ],
      "execution_count": 110,
      "outputs": [
        {
          "output_type": "stream",
          "name": "stdout",
          "text": [
            "test image #10\n",
            "posterior sample #100\n",
            "true class= 4.0\n",
            "classes: [0 4 7]\n",
            "estimated prob= [0.00016304 0.99983422 0.00000273]\n"
          ]
        },
        {
          "output_type": "display_data",
          "data": {
            "image/png": "[encoded data removed]",
            "text/plain": [
              "<Figure size 144x144 with 1 Axes>"
            ]
          },
          "metadata": {
            "needs_background": "light"
          }
        }
      ]
    },
    {
      "cell_type": "code",
      "metadata": {
        "id": "TRROCRNL62tk"
      },
      "source": [
        "# Bayesian prediction\n",
        "# return the class that has the highest posterior probability\n",
        "y_pred_Bayesian=[]\n",
        "\n",
        "for i in range(X_val.shape[0]):\n",
        "    val=np.zeros((1,len(classes)))\n",
        "    \n",
        "    for s in range(posterior['beta'].shape[0]):\n",
        "        beta = np.hstack([np.zeros((nf,1)),  posterior['beta'][s,:] ])\n",
        "        alpha = np.hstack([[0],  posterior['alpha'][s,:] ])     \n",
        "        val = val + softmax((np.array([X_val[i,:].dot(beta) + alpha])))\n",
        "    \n",
        "    mean_probability = val/posterior['beta'].shape[0]\n",
        "    y_pred_Bayesian.append( np.argmax(mean_probability))"
      ],
      "execution_count": 111,
      "outputs": []
    },
    {
      "cell_type": "code",
      "metadata": {
        "id": "CqzocgZQ7bz8",
        "colab": {
          "base_uri": "https://localhost:8080/"
        },
        "outputId": "39c66e05-9d94-4450-aff2-f0342e89a890"
      },
      "source": [
        "print(y_pred_Bayesian)"
      ],
      "execution_count": 112,
      "outputs": [
        {
          "output_type": "stream",
          "name": "stdout",
          "text": [
            "[1, 0, 0, 2, 0, 1, 0, 2, 0, 0, 1, 0, 2, 2, 1, 2, 1, 0, 2, 1, 1, 2, 0, 2, 1, 0, 0, 1, 2, 0, 0, 2, 1, 0, 2, 2, 0, 2, 0, 0, 2, 0, 2, 1, 1, 0, 1, 2, 1, 2, 1, 1, 0, 0, 1, 1, 1, 0, 2, 0, 2, 0, 2, 0, 1, 2, 0, 0, 0, 0, 1, 1, 2, 0, 2, 2, 1, 2, 1, 2, 0, 1, 1, 1, 2, 0, 2, 0, 1, 0, 0, 0, 2, 2, 1, 2, 2, 2, 0, 2, 2, 2, 0, 1, 2, 0, 0, 2, 0, 0, 0, 1, 2, 2, 2, 0, 1, 2, 2, 2, 0, 2, 0, 1, 2, 1, 0, 0, 2, 1, 1, 1, 2, 1, 2, 1, 1, 0, 2, 0, 0, 0, 0, 0, 0, 1, 0, 2, 2, 0, 1, 1, 1, 1, 1, 1, 0, 0, 2, 1, 1, 1, 1, 1, 0, 1, 1, 1, 2, 0, 0, 2, 1, 0, 1, 1, 2, 2, 2, 1, 0, 1, 1, 1, 2, 2, 0, 2, 2, 0, 2, 0, 1, 1, 1, 1, 1, 2, 0, 0, 0, 2, 0, 2, 2, 1, 2, 1, 0, 1, 2, 0, 0, 0, 2, 1, 0, 1, 0, 1, 1, 1, 1, 0, 2, 2, 0, 0, 2, 1, 0, 2, 1, 1, 0, 2, 1, 2, 2, 1, 0, 2, 0, 2, 2, 1, 0, 1, 1, 1, 1, 1, 2, 2, 1, 2, 1, 1, 1, 2, 2, 1, 1, 2, 2, 1, 2, 2, 0, 1, 1, 0, 1, 1, 2, 1, 1, 1, 2, 1, 2, 2, 1, 1, 1, 0, 0, 2, 1, 0, 1, 0, 1, 2, 2, 1, 1, 2, 0, 2, 2, 1, 2, 0, 1, 0, 0, 1, 2, 2, 0, 0, 1, 2, 2, 0, 1, 0, 1, 2, 2, 1, 2, 2, 1, 0, 0, 2, 0, 1, 2, 0, 2, 1, 0, 1, 1, 1, 2, 0, 1, 2, 0, 2, 1, 0, 1, 2, 1, 2, 1, 0, 0, 1, 0, 0, 0, 2, 1, 1, 0, 0, 1, 0, 2, 1, 0, 1, 0, 1, 2, 0, 0, 1, 2, 1, 1, 2, 2, 0, 2, 2, 2, 1, 1, 2, 0, 0, 1, 0, 1, 1, 2, 0, 0, 0, 0, 0, 1, 0, 1, 1, 0, 1, 2, 0, 0, 0, 2, 1, 1, 2, 0, 1, 2, 1, 1, 0, 1, 1, 0, 2, 1, 1, 1, 2, 0, 2, 1, 0, 2, 2, 2, 1, 0, 0, 0, 1, 1, 2, 0, 0, 2, 1, 2, 0, 2, 2, 0, 0, 2, 2, 0, 2, 1, 0, 2, 2, 1, 0, 2, 1, 0, 1, 1, 0, 1, 2, 0, 0, 0, 2, 2, 2, 1, 2, 1, 1, 0, 2, 0, 2, 1, 0, 1, 1, 1, 0, 2, 0, 2, 2, 2, 2, 1, 2, 2, 2, 2, 2, 0, 2, 0, 2, 1, 1, 0, 2, 2, 0, 0, 2, 1, 2, 0, 1, 1, 2, 2, 2, 1, 0, 0, 1, 0, 1, 0, 1, 0, 2, 1, 0, 2, 2, 2, 1, 0, 1, 2, 0, 0, 2, 2, 0, 0, 2, 1, 1, 0, 2, 2, 0, 1, 1, 2, 2, 2, 0, 0, 1, 2, 1, 1, 2, 0, 1, 2, 0, 1, 1, 1, 2, 2, 1, 1, 1, 1, 0, 0, 0, 2, 1, 1, 2, 1, 2, 1, 0, 0, 1, 0, 2, 2, 0, 2, 1, 1, 1, 0, 2, 1, 2, 2, 0, 0, 1, 2, 2, 1, 1, 2, 0, 0, 0, 1, 2, 2, 2, 1, 0, 0, 0, 1, 0, 1, 1, 0, 1, 1, 1, 2, 0, 1, 2, 2, 0, 0, 2, 1, 1, 1, 1, 2, 0, 2, 0, 2, 0, 2, 2, 2, 0, 0, 2, 2, 0, 1, 2, 1, 2, 2, 2, 0, 0, 0, 2, 0, 2, 2, 2, 2, 1, 2, 2, 2, 2, 0, 1, 1, 2, 2, 1, 0, 1, 2, 0, 2, 1, 1, 0, 1, 0, 2, 0, 0, 2, 0, 1, 0, 2, 1, 1, 0, 2, 2, 1, 2, 0, 1, 2, 0, 0, 2, 2, 0, 0, 1, 2, 0, 2, 2, 0, 0, 2, 0, 0, 0, 0, 2, 1, 1, 2, 2, 1, 0, 2, 2, 2, 0, 0, 2, 2, 2, 1, 2, 1, 0, 2, 2, 0, 0, 1, 2, 2, 1, 1, 2, 0, 2, 0, 0, 1, 2, 0, 1, 1, 1, 1, 0, 2, 0, 1, 0, 0, 2, 1, 1, 1, 1, 1, 0, 2, 1, 2, 1, 0, 2, 2, 0, 0, 2, 1, 0, 1, 0, 2, 2, 2, 1, 1, 0, 0, 0, 1, 1, 2, 2, 0, 2, 1, 2, 1, 1, 1, 1, 1, 2, 1, 2, 1, 2, 1, 0, 2, 1, 2, 1, 0, 0, 0, 0, 1, 1, 2, 1, 0, 1, 1, 0, 0, 2, 1, 2, 2, 2, 1, 2, 1, 0, 0, 2, 2, 2, 0, 2, 2, 0, 1, 2, 1, 1, 2, 1, 0, 2, 0, 1, 2, 2, 2, 2, 0, 1, 2, 1, 2, 0, 1, 1, 0, 0, 2, 2, 1, 2, 0, 1, 1, 0, 2, 1, 2, 1, 0, 2, 1, 1, 2, 1, 1, 2, 1, 0, 0, 0, 1, 1, 2, 0, 1, 1, 0, 2, 1, 1, 0, 2, 2, 1, 1, 0, 1, 0, 1, 1, 0, 0, 2, 2, 1, 2, 0, 2, 1, 1, 1, 0, 0, 1, 1, 1, 2, 1, 1, 0, 0, 1, 2, 1, 2, 2, 2, 0, 2, 1, 2, 2, 0, 0, 1, 0, 2, 1, 0, 2, 0, 1, 0, 0, 1, 0, 2, 2, 2, 0, 1, 1, 0, 0, 1, 0, 0, 2, 0, 2, 1, 0, 1, 2, 1, 0, 2, 1, 2, 0, 2, 0, 0, 2, 1, 2, 2, 1, 2, 2, 1, 2, 1, 2, 1, 1, 0, 1, 1, 1, 1, 1, 0, 2, 2, 2, 1, 1, 1, 2, 1, 0, 0, 1, 2, 2, 0, 2, 0, 1, 0, 2, 0, 1, 1, 2, 0, 2, 1, 0, 2, 1, 0, 2, 0, 0, 1, 2, 0, 2, 2, 1, 1, 0, 0, 0, 1, 1, 2, 2, 0, 1, 1, 1, 1, 2, 0, 1, 1, 1, 1, 1, 2, 1, 2, 0, 2, 0, 2, 1, 0, 1, 1, 2, 1, 2, 0, 1, 0, 0, 2, 1, 1, 0, 0, 2, 2, 0, 2, 1, 2, 2, 2, 0, 2, 1, 0, 2, 0, 1, 0, 0, 0, 1, 0, 2, 0, 1, 2, 1, 0, 2, 0, 2, 0, 2, 1, 0, 0, 1, 2, 0, 1, 1, 0, 2, 1, 1, 2, 0, 2, 2, 1, 1, 0, 0, 2, 1, 2, 1, 0, 1, 1, 2, 1, 0, 1, 2, 0, 1, 2, 0, 1, 2, 2, 0, 0, 2, 1, 1, 1, 0, 1, 2, 0, 2, 1, 0, 0, 2, 0, 1, 1, 2, 2, 2, 0, 1, 0, 1, 2, 2, 0, 1, 2, 0, 1, 0, 1, 2, 0, 0, 1, 1, 1, 1, 2, 2, 0, 1, 0, 0, 0, 1, 2, 2, 0, 1, 2, 1, 1, 0, 0, 1, 0, 2, 2, 0, 0, 1, 0, 1, 0, 0, 0, 2, 0, 2, 2, 1, 1, 0, 0, 0, 2, 1, 1, 2, 0, 1, 0, 2, 2, 1, 2, 1, 2, 0, 1, 0, 0, 2, 2, 2, 0, 2, 0, 2, 1, 2, 2, 0, 1, 0, 0, 2, 1, 1, 2, 0, 0, 1, 2, 2, 0, 2, 0, 0, 2, 0, 1, 2, 0, 2, 2, 2, 0, 1, 0, 2, 1, 0, 1, 0, 1, 0, 1, 0, 0, 2, 0, 2, 2, 1, 1, 2, 2, 0, 1, 1, 0, 0, 2, 1, 1, 0, 0, 2, 2, 2, 1, 0, 2, 1, 1, 2, 2, 0, 0, 1, 2, 1, 1, 2, 0, 2, 0, 2, 2, 1, 0, 1, 0, 0, 1, 0, 0, 1, 2, 0, 0, 2, 1, 1, 0, 0, 0, 2, 0, 0, 1, 2, 2, 0, 2, 0, 0, 2, 2, 1, 2, 1, 2, 1, 1, 1, 1, 2, 2, 2, 0, 1, 1, 1, 0, 0, 1, 0, 2, 1, 0, 1, 1, 1, 0, 1, 0, 0, 1, 1, 2, 2, 0, 0, 0, 0, 0, 2, 1, 0, 0, 0, 0, 2, 1, 2, 0, 0, 1, 2, 2, 2, 2, 2, 1, 2, 2, 0, 2, 0, 0, 2, 2, 1, 2, 1, 1, 1, 2, 0, 0, 0, 2, 2, 1, 1, 2, 1, 0, 2, 1, 2, 0, 2, 1, 1, 0, 2, 2, 1, 0, 1, 2, 2, 1, 1, 1, 1, 1, 2, 0, 1, 2, 0, 1, 1, 1, 0, 0, 1, 2, 2, 2, 2, 0, 2, 2, 0, 0, 0, 2, 0, 0, 0, 2, 0, 0, 2, 2, 1, 2, 0, 2, 2, 0, 1, 2, 0, 0, 2, 0, 1, 1, 1, 1, 1, 2, 0, 1, 1, 0, 2, 1, 0, 0, 1, 1, 2, 1, 2, 0, 2, 1, 0, 2, 1, 0, 1, 0, 0, 1, 1, 1, 0, 2, 1, 0, 1, 0, 0, 1, 1, 2, 0, 0, 0, 1, 2, 1, 2, 2, 0, 2, 0, 1, 1, 2, 1, 0, 2, 2, 0, 0, 0, 0, 0, 0, 2, 1, 0, 0, 2, 2, 2, 1, 2, 1, 1, 0, 1, 2, 1, 2, 1, 0, 1, 2, 2, 2, 0, 0, 0, 1, 0, 1, 2, 1, 1, 0, 2, 2, 2, 0, 1, 0, 0, 2, 1, 0, 0, 1, 1, 1, 2, 1, 2, 1, 0, 1, 1, 0, 2, 2, 2, 2, 0, 0, 0, 2, 1, 1, 0, 2, 2, 2, 0, 0, 0, 1, 2, 0, 0, 2, 2, 2, 2, 0, 0, 2, 2, 0, 2, 2, 2, 1, 1, 0, 0, 1, 2, 1, 1, 2, 1, 1, 1, 2, 0, 1, 0, 1, 1, 2, 0, 1, 0, 0, 0, 0, 1, 0, 2, 1, 2, 2, 2, 1, 2, 1, 1, 1, 1, 0, 0, 2, 2, 2, 1, 0, 1, 1, 0, 2, 0, 0, 0, 0, 0, 1, 2, 0, 2, 2, 0, 2, 1, 2, 0, 0, 0, 0, 0, 0, 2, 2, 2, 2, 0, 2, 1, 0, 0, 0, 2, 1, 0, 1, 2, 0, 2, 2, 2, 1, 0, 1, 0, 0, 1, 1, 2, 0, 1, 0, 2, 0, 0, 0, 0, 1, 0, 1, 2, 0, 0, 2, 1, 1, 0, 0, 1, 2, 1, 2, 2, 1]\n"
          ]
        }
      ]
    },
    {
      "cell_type": "code",
      "metadata": {
        "id": "j7kt0HCb7b3F",
        "colab": {
          "base_uri": "https://localhost:8080/"
        },
        "outputId": "79f5f9b9-080e-4863-e2ed-ace1e7fbb676"
      },
      "source": [
        "# recall the classes we are using\n",
        "print(classes)"
      ],
      "execution_count": 113,
      "outputs": [
        {
          "output_type": "stream",
          "name": "stdout",
          "text": [
            "[0 4 7]\n"
          ]
        }
      ]
    },
    {
      "cell_type": "code",
      "metadata": {
        "id": "0uuRAa3X7b5l",
        "colab": {
          "base_uri": "https://localhost:8080/"
        },
        "outputId": "05b0cf6d-8ce1-44f0-e9d6-0cef0cf1d880"
      },
      "source": [
        "# prediction array (using classes)\n",
        "nn = 10 # just an example\n",
        "np.array(classes)[y_pred_Bayesian[0:nn]]"
      ],
      "execution_count": 114,
      "outputs": [
        {
          "output_type": "execute_result",
          "data": {
            "text/plain": [
              "array([4, 0, 0, 7, 0, 4, 0, 7, 0, 0])"
            ]
          },
          "metadata": {},
          "execution_count": 114
        }
      ]
    },
    {
      "cell_type": "code",
      "metadata": {
        "id": "tYfFtIsX7b7z",
        "colab": {
          "base_uri": "https://localhost:8080/"
        },
        "outputId": "e755d8d8-338f-4865-9f19-36fc2d3c9b8b"
      },
      "source": [
        "# using validation: y_val\n",
        "print(\"Accuracy=\", accuracy_score(np.array(classes)[y_pred_Bayesian], y_val))"
      ],
      "execution_count": 115,
      "outputs": [
        {
          "output_type": "stream",
          "name": "stdout",
          "text": [
            "Accuracy= 0.9477777777777778\n"
          ]
        }
      ]
    },
    {
      "cell_type": "markdown",
      "metadata": {
        "id": "xbI3VHl3ecDd"
      },
      "source": [
        "\n",
        "Selecting different instances¶\n"
      ]
    },
    {
      "cell_type": "code",
      "metadata": {
        "id": "DQGzE8Z07b-K"
      },
      "source": [
        "y_predB=[]\n",
        "\n",
        "for i in range(X_val.shape[0]):\n",
        "    #print(i)\n",
        "    val=[]\n",
        "\n",
        "    for s in range(posterior['beta'].shape[0]):\n",
        "        beta = np.hstack([np.zeros((nf,1)),  posterior['beta'][s,:] ])\n",
        "        alpha = np.hstack([[0],  posterior['alpha'][s,:] ])\n",
        "        val.append(softmax((np.array([X_val[i,:].dot(beta) + alpha])))[0,:])\n",
        "\n",
        "    #mean probability\n",
        "    valmean = np.mean(val,axis=0)\n",
        "    #class with maximum mean probability\n",
        "    classmax = np.argmax(valmean)\n",
        "    #ranks\n",
        "    ranks = np.array(val.copy())\n",
        "    ranks   = ranks  *0 #init\n",
        "    colmax = np.argmax(np.array(val),axis=1)\n",
        "    ranks[np.arange(0,len(colmax)),colmax]=1\n",
        "     \n",
        "    y_predB.append( [classmax, valmean[classmax], np.std(ranks,axis=0)[classmax]])\n",
        "\n",
        "    \n",
        "y_predB= np.array(y_predB)"
      ],
      "execution_count": 116,
      "outputs": []
    },
    {
      "cell_type": "code",
      "metadata": {
        "colab": {
          "base_uri": "https://localhost:8080/"
        },
        "id": "qCbNhSdueg0T",
        "outputId": "a83907d9-49c3-43ec-b057-8eec36391668"
      },
      "source": [
        "# prediction array\n",
        "mm = 10\n",
        "y_predB[0:mm,:]"
      ],
      "execution_count": 117,
      "outputs": [
        {
          "output_type": "execute_result",
          "data": {
            "text/plain": [
              "array([[1.        , 0.97625139, 0.16110728],\n",
              "       [0.        , 0.84742668, 0.34698703],\n",
              "       [0.        , 0.64466619, 0.4748216 ],\n",
              "       [2.        , 0.99678149, 0.05763872],\n",
              "       [0.        , 0.99875503, 0.        ],\n",
              "       [1.        , 0.98913499, 0.09949874],\n",
              "       [0.        , 0.86653561, 0.31288976],\n",
              "       [2.        , 0.97353597, 0.14      ],\n",
              "       [0.        , 0.9909534 , 0.08137704],\n",
              "       [0.        , 0.95769544, 0.20360637]])"
            ]
          },
          "metadata": {},
          "execution_count": 117
        }
      ]
    },
    {
      "cell_type": "code",
      "metadata": {
        "colab": {
          "base_uri": "https://localhost:8080/"
        },
        "id": "yrjEmmLyeg4c",
        "outputId": "62e96f1a-653c-4c1a-88d5-6a345ab522ef"
      },
      "source": [
        "#sorting in descending order\n",
        "difficult = np.argsort(-y_predB[:,2])\n",
        "y_predB[difficult[0:mm],:]"
      ],
      "execution_count": 118,
      "outputs": [
        {
          "output_type": "execute_result",
          "data": {
            "text/plain": [
              "array([[1.        , 0.48933722, 0.5       ],\n",
              "       [1.        , 0.50193892, 0.49998889],\n",
              "       [1.        , 0.4870098 , 0.49998889],\n",
              "       [2.        , 0.49309903, 0.49998889],\n",
              "       [2.        , 0.4933533 , 0.49998889],\n",
              "       [2.        , 0.48615691, 0.49998889],\n",
              "       [2.        , 0.50710465, 0.49998889],\n",
              "       [0.        , 0.49055087, 0.49998889],\n",
              "       [1.        , 0.50232952, 0.49995555],\n",
              "       [2.        , 0.49297504, 0.49995555]])"
            ]
          },
          "metadata": {},
          "execution_count": 118
        }
      ]
    },
    {
      "cell_type": "code",
      "metadata": {
        "colab": {
          "base_uri": "https://localhost:8080/"
        },
        "id": "hF72KkK2eg82",
        "outputId": "50d925aa-6c1f-44da-a236-0302b63638f6"
      },
      "source": [
        "#probability of general-recipe logistic regression in wrong instances\n",
        "prob_classmax[y_pred_log != y_val]"
      ],
      "execution_count": 120,
      "outputs": [
        {
          "output_type": "execute_result",
          "data": {
            "text/plain": [
              "array([0.99741158, 0.58839424, 0.99779155, 0.82002867, 0.91622628,\n",
              "       0.60689926, 0.99999967, 0.62388768, 0.99290985, 0.73136031,\n",
              "       0.99924546, 1.        , 0.99978782, 0.99992735, 0.99993744,\n",
              "       0.50869818, 0.82502009, 0.99999991, 0.65677935, 0.9996058 ,\n",
              "       0.97933797, 0.99865093, 0.97451318, 0.99999825, 0.9664339 ,\n",
              "       0.96802441])"
            ]
          },
          "metadata": {},
          "execution_count": 120
        }
      ]
    },
    {
      "cell_type": "code",
      "metadata": {
        "colab": {
          "base_uri": "https://localhost:8080/"
        },
        "id": "taw81CuTehDU",
        "outputId": "08c59f63-c171-4266-bb0c-dd35682f1dfa"
      },
      "source": [
        "y_predB[y_pred_log != y_val,:]"
      ],
      "execution_count": 122,
      "outputs": [
        {
          "output_type": "execute_result",
          "data": {
            "text/plain": [
              "array([[2.        , 0.74174843, 0.42708313],\n",
              "       [1.        , 0.55960481, 0.49507575],\n",
              "       [0.        , 0.54762605, 0.49638695],\n",
              "       [1.        , 0.79927886, 0.38138636],\n",
              "       [2.        , 0.50710465, 0.49998889],\n",
              "       [1.        , 0.60622093, 0.4861984 ],\n",
              "       [0.        , 0.59259243, 0.48368952],\n",
              "       [1.        , 0.69259957, 0.46384863],\n",
              "       [0.        , 0.97303411, 0.1280191 ],\n",
              "       [0.        , 0.60949987, 0.48774994],\n",
              "       [2.        , 0.82230838, 0.36660606],\n",
              "       [0.        , 0.9764509 , 0.15095989],\n",
              "       [1.        , 0.91248662, 0.28618176],\n",
              "       [1.        , 0.6137676 , 0.48      ],\n",
              "       [2.        , 0.88188547, 0.31699982],\n",
              "       [1.        , 0.52834827, 0.49928838],\n",
              "       [1.        , 0.4870098 , 0.49998889],\n",
              "       [1.        , 0.50276221, 0.49888765],\n",
              "       [1.        , 0.8700813 , 0.31699982],\n",
              "       [1.        , 0.73484649, 0.4404417 ],\n",
              "       [1.        , 0.86383584, 0.32881944],\n",
              "       [1.        , 0.75826222, 0.42083251],\n",
              "       [0.        , 0.49913177, 0.49989999],\n",
              "       [2.        , 0.61687094, 0.48      ],\n",
              "       [2.        , 0.51889178, 0.49888765],\n",
              "       [1.        , 0.62497789, 0.4748216 ]])"
            ]
          },
          "metadata": {},
          "execution_count": 122
        }
      ]
    },
    {
      "cell_type": "code",
      "metadata": {
        "colab": {
          "base_uri": "https://localhost:8080/",
          "height": 225
        },
        "id": "qYDsxzxWehHu",
        "outputId": "ca6c59c8-4029-4d78-e966-3ee24d63072d"
      },
      "source": [
        "## Difficult & easy instances\n",
        "\n",
        "easy = np.argsort(y_predB[:,2])\n",
        "print(\"Accuracy in easy instances =\", accuracy_score(y_pred_log[easy[0:100]], y_val[easy[0:100]]))\n",
        "\n",
        "difficult = np.argsort(-y_predB[:,2])\n",
        "print(\"Accuracy in difficult instances =\", accuracy_score(y_pred_logi[difficult[0:100]], y_val[difficult[0:100]]))"
      ],
      "execution_count": 124,
      "outputs": [
        {
          "output_type": "stream",
          "name": "stdout",
          "text": [
            "Accuracy in easy instances = 1.0\n"
          ]
        },
        {
          "output_type": "error",
          "ename": "NameError",
          "evalue": "ignored",
          "traceback": [
            "\u001b[0;31m---------------------------------------------------------------------------\u001b[0m",
            "\u001b[0;31mNameError\u001b[0m                                 Traceback (most recent call last)",
            "\u001b[0;32m<ipython-input-124-2add86fcceb9>\u001b[0m in \u001b[0;36m<module>\u001b[0;34m()\u001b[0m\n\u001b[1;32m      5\u001b[0m \u001b[0;34m\u001b[0m\u001b[0m\n\u001b[1;32m      6\u001b[0m \u001b[0mdifficult\u001b[0m \u001b[0;34m=\u001b[0m \u001b[0mnp\u001b[0m\u001b[0;34m.\u001b[0m\u001b[0margsort\u001b[0m\u001b[0;34m(\u001b[0m\u001b[0;34m-\u001b[0m\u001b[0my_predB\u001b[0m\u001b[0;34m[\u001b[0m\u001b[0;34m:\u001b[0m\u001b[0;34m,\u001b[0m\u001b[0;36m2\u001b[0m\u001b[0;34m]\u001b[0m\u001b[0;34m)\u001b[0m\u001b[0;34m\u001b[0m\u001b[0;34m\u001b[0m\u001b[0m\n\u001b[0;32m----> 7\u001b[0;31m \u001b[0mprint\u001b[0m\u001b[0;34m(\u001b[0m\u001b[0;34m\"Accuracy in difficult instances =\"\u001b[0m\u001b[0;34m,\u001b[0m \u001b[0maccuracy_score\u001b[0m\u001b[0;34m(\u001b[0m\u001b[0my_pred_logi\u001b[0m\u001b[0;34m[\u001b[0m\u001b[0mdifficult\u001b[0m\u001b[0;34m[\u001b[0m\u001b[0;36m0\u001b[0m\u001b[0;34m:\u001b[0m\u001b[0;36m100\u001b[0m\u001b[0;34m]\u001b[0m\u001b[0;34m]\u001b[0m\u001b[0;34m,\u001b[0m \u001b[0my_val\u001b[0m\u001b[0;34m[\u001b[0m\u001b[0mdifficult\u001b[0m\u001b[0;34m[\u001b[0m\u001b[0;36m0\u001b[0m\u001b[0;34m:\u001b[0m\u001b[0;36m100\u001b[0m\u001b[0;34m]\u001b[0m\u001b[0;34m]\u001b[0m\u001b[0;34m)\u001b[0m\u001b[0;34m)\u001b[0m\u001b[0;34m\u001b[0m\u001b[0;34m\u001b[0m\u001b[0m\n\u001b[0m",
            "\u001b[0;31mNameError\u001b[0m: name 'y_pred_logi' is not defined"
          ]
        }
      ]
    },
    {
      "cell_type": "code",
      "metadata": {
        "colab": {
          "base_uri": "https://localhost:8080/",
          "height": 357
        },
        "id": "uP0qUo4lehJb",
        "outputId": "7b300915-6757-4241-b021-556fac168bf2"
      },
      "source": [
        "# show 10 random 'easy' images\n",
        "fig, axs = plt.subplots(2,5, figsize=(15, 6))\n",
        "fig.subplots_adjust(hspace = .2, wspace=.001)\n",
        "axs = axs.ravel()\n",
        "\n",
        "for i in range(10):\n",
        "    index = easy[i]\n",
        "    image = X_val[index,:].reshape(28, 28)\n",
        "    axs[i].axis('off')\n",
        "    axs[i].imshow(image,cmap=\"Greys_r\")"
      ],
      "execution_count": 126,
      "outputs": [
        {
          "output_type": "display_data",
          "data": {
            "image/png": "[encoded data removed]",
            "text/plain": [
              "<Figure size 1080x432 with 10 Axes>"
            ]
          },
          "metadata": {
            "needs_background": "light"
          }
        }
      ]
    },
    {
      "cell_type": "code",
      "metadata": {
        "colab": {
          "base_uri": "https://localhost:8080/",
          "height": 357
        },
        "id": "tclHTqqHetIt",
        "outputId": "ba572f5c-08e7-42da-e7b3-8b2bf61eee62"
      },
      "source": [
        "# show 10 random 'difficult' images\n",
        "fig, axs = plt.subplots(2,5, figsize=(15, 6))\n",
        "fig.subplots_adjust(hspace = .2, wspace=.001)\n",
        "axs = axs.ravel()\n",
        "for i in range(10):\n",
        "    index = difficult[i]\n",
        "    image = X_val[index,:].reshape(28, 28)\n",
        "    axs[i].axis('off')\n",
        "    axs[i].imshow(image,cmap=\"Greys_r\")"
      ],
      "execution_count": 128,
      "outputs": [
        {
          "output_type": "display_data",
          "data": {
            "image/png": "[encoded data removed]",
            "text/plain": [
              "<Figure size 1080x432 with 10 Axes>"
            ]
          },
          "metadata": {
            "needs_background": "light"
          }
        }
      ]
    },
    {
      "cell_type": "code",
      "metadata": {
        "id": "9M7EBfkLetMN"
      },
      "source": [
        ""
      ],
      "execution_count": 128,
      "outputs": []
    },
    {
      "cell_type": "code",
      "metadata": {
        "id": "8qWAJ_B7etOt"
      },
      "source": [
        ""
      ],
      "execution_count": 128,
      "outputs": []
    },
    {
      "cell_type": "markdown",
      "metadata": {
        "id": "NcshsLOGRPrk"
      },
      "source": [
        "## Summary"
      ]
    },
    {
      "cell_type": "markdown",
      "metadata": {
        "id": "XTc4pYKGRR60"
      },
      "source": [
        "Populate this section with all of your findings and comments fron the discussion with your peers."
      ]
    }
  ]
}